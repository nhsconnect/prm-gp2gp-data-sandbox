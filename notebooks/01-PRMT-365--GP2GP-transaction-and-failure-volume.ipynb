{
 "cells": [
  {
   "cell_type": "markdown",
   "metadata": {},
   "source": [
    "# GP Practices with large volume of GP2GP transfers and failures\n",
    "\n",
    "Hypothesis:\n",
    "- We believe that GPs who are impacted with large volumes of GP2GP transfers and failures will be feeling pain, and will be more likely to participate in user research\n",
    "\n",
    "Questions:\n",
    "- Which practices have large volumes of GP2GP transfers?\n",
    "  - Which practices have large volumes of GP2GP transfers as a sending practice?\n",
    "  - Which practices have large volumes of GP2GP transfers as a receiving practice? \n",
    "- Which practices have large volumes of GP2GP transfer failures?\n",
    "- Which practices have large volumes of GP2GP transfer success?\n",
    "\n",
    "Other considerations:\n",
    "- GP2GP utilisation may change month-over-month; thus look at patterns over time, not just for a single time period"
   ]
  },
  {
   "cell_type": "markdown",
   "metadata": {},
   "source": [
    "## Requesting practices\n",
    "\n",
    "We'll export data from NMS using the following Splunk query:\n",
    "\n",
    "```splunk\n",
    "index=\"gp2gp-mi\" sourcetype=\"gppractice-RR\"\n",
    "| eval key=RegistrationTime + \"-\" + RegistrationSmartcardUID\n",
    "| eval Outcome=coalesce(ExtractAckStatus, \"No\") + \"-\" + coalesce(ExtractAckCode, \"EAM\")\n",
    "| eval Month=substr(RegistrationTime, 6, 2)\n",
    "| stats values(RequestorODS) as RequestorODS,\n",
    "        max(eval(isnotnull(ConversationID))) as GP2GPRequest,\n",
    "        dc(eval(Outcome=\"1-00\" or Outcome=\"1-0\")) as Integrated,\n",
    "        dc(eval(Outcome=\"5-15\")) as Suppressed,\n",
    "        BY key, Month\n",
    "| stats dc(key) as RegistrationCount,\n",
    "        sum(GP2GPRequest) as RequestCount,\n",
    "        sum(Integrated) as IntegratedCount,\n",
    "        sum(Suppressed) as SuppressedCount\n",
    "        BY RequestorODS, Month\n",
    "| eval SuccessRate=(IntegratedCount + SuppressedCount)/RequestCount\n",
    "```\n",
    "\n",
    "\n",
    "Exported the above as `data/PRMT-365-Requestor-transfer.csv` for further analysis (below)."
   ]
  },
  {
   "cell_type": "code",
   "execution_count": 1,
   "metadata": {},
   "outputs": [],
   "source": [
    "import paths\n",
    "%load_ext autoreload\n",
    "%autoreload 2"
   ]
  },
  {
   "cell_type": "code",
   "execution_count": 2,
   "metadata": {},
   "outputs": [],
   "source": [
    "import pandas as pd\n",
    "import numpy as np\n",
    "from IPython.display import display\n",
    "import matplotlib.pyplot as plt\n",
    "import data"
   ]
  },
  {
   "cell_type": "code",
   "execution_count": 3,
   "metadata": {},
   "outputs": [],
   "source": [
    "%matplotlib inline"
   ]
  },
  {
   "cell_type": "code",
   "execution_count": 4,
   "metadata": {},
   "outputs": [],
   "source": [
    "requestor_view = pd.read_csv(data.PRMT_365_Requestor_transfers.path)\n",
    "requestor_view[\"SuccessCount\"] = requestor_view[\"IntegratedCount\"] + requestor_view[\"SuppressedCount\"]\n",
    "requestor_view[\"Month\"] = requestor_view[\"Month\"].map({5:\"May\", 6:\"June\", 7:\"July\", 8:\"August\"})\n",
    "requestor_view = requestor_view.set_index([\"RequestorODS\", \"Month\"])\n",
    "\n",
    "months = [\"May\",\"June\",\"July\",\"August\"]\n",
    "ODSs = list(set(requestor_view.index.get_level_values(\"RequestorODS\")))\n",
    "CompleteIndex = pd.MultiIndex.from_product([ODSs, months], names=[\"RequestorODS\", \"Month\"])\n",
    "requestor_view = requestor_view.reindex(CompleteIndex)"
   ]
  },
  {
   "cell_type": "code",
   "execution_count": 5,
   "metadata": {},
   "outputs": [],
   "source": [
    "ods_lookup = pd.read_csv(\n",
    "    data.GP_ODS_Data.path,\n",
    "    names=data.GP_ODS_Data.columns,\n",
    "    index_col=\"ODSCode\",\n",
    "    usecols=[\"ODSCode\",\"Name\",\"NationalGrouping\",\"HighLevelHealthGeography\",\"Postcode\",\n",
    "             \"PrescribingSetting\",\"ContactTelephoneNumber\"]\n",
    ")"
   ]
  },
  {
   "cell_type": "code",
   "execution_count": 6,
   "metadata": {},
   "outputs": [],
   "source": [
    "requestor_view_aggregated_over_time = requestor_view.groupby(by=\"RequestorODS\").sum()[\n",
    "    [\"RegistrationCount\",\"RequestCount\", \"SuccessCount\", \"SuppressedCount\"]\n",
    "]\n",
    "requestor_view_aggregated_over_time[\"SuccessRate\"] = (requestor_view_aggregated_over_time[\"SuccessCount\"]\n",
    "                                                      /requestor_view_aggregated_over_time[\"RequestCount\"])"
   ]
  },
  {
   "cell_type": "markdown",
   "metadata": {},
   "source": [
    "A histogram of `RequestCount` aggregated over all 4 months (below) shows that:\n",
    "- The vast majority of practices made fewer than 200 requests over the 4 month period\n",
    "- Note that there were a few practices that made substantially more GP2GP requests (>1000; in one case, >7000) over the 4 months - these are not visible on the graph."
   ]
  },
  {
   "cell_type": "code",
   "execution_count": 7,
   "metadata": {
    "scrolled": true
   },
   "outputs": [
    {
     "data": {
      "image/png": "[encoded data removed]",
      "text/plain": [
       "<Figure size 576x360 with 1 Axes>"
      ]
     },
     "metadata": {
      "needs_background": "light"
     },
     "output_type": "display_data"
    }
   ],
   "source": [
    "plt.figure(figsize=(8,5))\n",
    "plt.hist(requestor_view_aggregated_over_time[\"RequestCount\"], bins=np.linspace(0,800,800));\n",
    "plt.xlabel(\"Number of GP2GP conversations initiated between May 1st and August 31st 2019\");\n",
    "plt.ylabel(\"Number of Practices\");"
   ]
  },
  {
   "cell_type": "markdown",
   "metadata": {},
   "source": [
    "A histogram of `SuccessRate` aggregated over all 4 months (below) shows that:\n",
    "\n",
    "- A large majority of practices have a success rate of between 90% and 100%, with very few practices in the range 0% < SuccessRate < 90%.\n",
    "- There remains a sizeable number of practices with quite low success rate"
   ]
  },
  {
   "cell_type": "code",
   "execution_count": 8,
   "metadata": {},
   "outputs": [
    {
     "name": "stderr",
     "output_type": "stream",
     "text": [
      "/Users/dmortime/dev/NHS/prm-gp2gp-data-sandbox/venv/lib/python3.7/site-packages/numpy/lib/histograms.py:829: RuntimeWarning: invalid value encountered in greater_equal\n",
      "  keep = (tmp_a >= first_edge)\n",
      "/Users/dmortime/dev/NHS/prm-gp2gp-data-sandbox/venv/lib/python3.7/site-packages/numpy/lib/histograms.py:830: RuntimeWarning: invalid value encountered in less_equal\n",
      "  keep &= (tmp_a <= last_edge)\n"
     ]
    },
    {
     "data": {
      "image/png": "[encoded data removed]",
      "text/plain": [
       "<Figure size 576x360 with 1 Axes>"
      ]
     },
     "metadata": {
      "needs_background": "light"
     },
     "output_type": "display_data"
    }
   ],
   "source": [
    "plt.figure(figsize=(8,5))\n",
    "plt.hist(list(requestor_view_aggregated_over_time.sort_values(by=\"SuccessRate\", ascending=True)[\"SuccessRate\"]),\n",
    "         bins=100);\n",
    "plt.xlabel(\"SuccessRate (May-Aug 2019)\");\n",
    "plt.ylabel(\"Number of practices\");"
   ]
  },
  {
   "cell_type": "markdown",
   "metadata": {},
   "source": [
    "### Practices making a high volume of GP2GP requests\n",
    "\n",
    "The practices that made more than 800 requests in the period from May to August 2019 were:"
   ]
  },
  {
   "cell_type": "code",
   "execution_count": 9,
   "metadata": {},
   "outputs": [
    {
     "data": {
      "text/html": [
       "<div>\n",
       "<style scoped>\n",
       "    .dataframe tbody tr th:only-of-type {\n",
       "        vertical-align: middle;\n",
       "    }\n",
       "\n",
       "    .dataframe tbody tr th {\n",
       "        vertical-align: top;\n",
       "    }\n",
       "\n",
       "    .dataframe thead th {\n",
       "        text-align: right;\n",
       "    }\n",
       "</style>\n",
       "<table border=\"1\" class=\"dataframe\">\n",
       "  <thead>\n",
       "    <tr style=\"text-align: right;\">\n",
       "      <th></th>\n",
       "      <th>RegistrationCount</th>\n",
       "      <th>RequestCount</th>\n",
       "      <th>SuccessCount</th>\n",
       "      <th>SuppressedCount</th>\n",
       "      <th>SuccessRate</th>\n",
       "    </tr>\n",
       "    <tr>\n",
       "      <th>RequestorODS</th>\n",
       "      <th></th>\n",
       "      <th></th>\n",
       "      <th></th>\n",
       "      <th></th>\n",
       "      <th></th>\n",
       "    </tr>\n",
       "  </thead>\n",
       "  <tbody>\n",
       "    <tr>\n",
       "      <td>E85124</td>\n",
       "      <td>14936.0</td>\n",
       "      <td>7587.0</td>\n",
       "      <td>6829.0</td>\n",
       "      <td>0.0</td>\n",
       "      <td>0.900092</td>\n",
       "    </tr>\n",
       "    <tr>\n",
       "      <td>G85034</td>\n",
       "      <td>5486.0</td>\n",
       "      <td>3911.0</td>\n",
       "      <td>3843.0</td>\n",
       "      <td>387.0</td>\n",
       "      <td>0.982613</td>\n",
       "    </tr>\n",
       "    <tr>\n",
       "      <td>L81078</td>\n",
       "      <td>3397.0</td>\n",
       "      <td>3089.0</td>\n",
       "      <td>3062.0</td>\n",
       "      <td>62.0</td>\n",
       "      <td>0.991259</td>\n",
       "    </tr>\n",
       "    <tr>\n",
       "      <td>F84003</td>\n",
       "      <td>2553.0</td>\n",
       "      <td>2208.0</td>\n",
       "      <td>2170.0</td>\n",
       "      <td>122.0</td>\n",
       "      <td>0.982790</td>\n",
       "    </tr>\n",
       "    <tr>\n",
       "      <td>P91629</td>\n",
       "      <td>2388.0</td>\n",
       "      <td>2179.0</td>\n",
       "      <td>2115.0</td>\n",
       "      <td>166.0</td>\n",
       "      <td>0.970629</td>\n",
       "    </tr>\n",
       "    <tr>\n",
       "      <td>P91020</td>\n",
       "      <td>2216.0</td>\n",
       "      <td>2038.0</td>\n",
       "      <td>2013.0</td>\n",
       "      <td>142.0</td>\n",
       "      <td>0.987733</td>\n",
       "    </tr>\n",
       "    <tr>\n",
       "      <td>F84724</td>\n",
       "      <td>2303.0</td>\n",
       "      <td>1882.0</td>\n",
       "      <td>1870.0</td>\n",
       "      <td>69.0</td>\n",
       "      <td>0.993624</td>\n",
       "    </tr>\n",
       "    <tr>\n",
       "      <td>H81122</td>\n",
       "      <td>1879.0</td>\n",
       "      <td>1769.0</td>\n",
       "      <td>1759.0</td>\n",
       "      <td>62.0</td>\n",
       "      <td>0.994347</td>\n",
       "    </tr>\n",
       "    <tr>\n",
       "      <td>K81041</td>\n",
       "      <td>1711.0</td>\n",
       "      <td>1600.0</td>\n",
       "      <td>1591.0</td>\n",
       "      <td>32.0</td>\n",
       "      <td>0.994375</td>\n",
       "    </tr>\n",
       "    <tr>\n",
       "      <td>Y01206</td>\n",
       "      <td>1596.0</td>\n",
       "      <td>1421.0</td>\n",
       "      <td>1371.0</td>\n",
       "      <td>26.0</td>\n",
       "      <td>0.964814</td>\n",
       "    </tr>\n",
       "  </tbody>\n",
       "</table>\n",
       "</div>"
      ],
      "text/plain": [
       "              RegistrationCount  RequestCount  SuccessCount  SuppressedCount  \\\n",
       "RequestorODS                                                                   \n",
       "E85124                  14936.0        7587.0        6829.0              0.0   \n",
       "G85034                   5486.0        3911.0        3843.0            387.0   \n",
       "L81078                   3397.0        3089.0        3062.0             62.0   \n",
       "F84003                   2553.0        2208.0        2170.0            122.0   \n",
       "P91629                   2388.0        2179.0        2115.0            166.0   \n",
       "P91020                   2216.0        2038.0        2013.0            142.0   \n",
       "F84724                   2303.0        1882.0        1870.0             69.0   \n",
       "H81122                   1879.0        1769.0        1759.0             62.0   \n",
       "K81041                   1711.0        1600.0        1591.0             32.0   \n",
       "Y01206                   1596.0        1421.0        1371.0             26.0   \n",
       "\n",
       "              SuccessRate  \n",
       "RequestorODS               \n",
       "E85124           0.900092  \n",
       "G85034           0.982613  \n",
       "L81078           0.991259  \n",
       "F84003           0.982790  \n",
       "P91629           0.970629  \n",
       "P91020           0.987733  \n",
       "F84724           0.993624  \n",
       "H81122           0.994347  \n",
       "K81041           0.994375  \n",
       "Y01206           0.964814  "
      ]
     },
     "execution_count": 9,
     "metadata": {},
     "output_type": "execute_result"
    }
   ],
   "source": [
    "high_volume_practices = requestor_view_aggregated_over_time[requestor_view_aggregated_over_time[\"RequestCount\"] > 800].sort_values(by=\"RequestCount\", ascending=False)\n",
    "high_volume_practices.iloc[:10]"
   ]
  },
  {
   "cell_type": "markdown",
   "metadata": {},
   "source": [
    "## Sending practices\n",
    "\n",
    "We'll still use the `gppractice-RR` source for now, as we are interested in the ultimate outcome of the interaction, and this is only reported in this view. We can still identify the sending practice ODS.\n",
    "\n",
    "There are a small number of conversations where the Requestor initiates a conversation with itself (i.e. it identifies itself as the Sender). I believe this occurs when a registration incorrectly triggers multiple GP2GP conversations, with one occurring after PDS has been updated for the patient to indicate that the Requestor is their primary care provider. These don't seem to have any impact in practice (they lead to a well-defined error code), so we'll just filter them out with `RequestorODS != SenderODS`.\n",
    "\n",
    "```sql\n",
    "index=\"gp2gp-mi\" sourcetype=\"gppractice-RR\"\n",
    "| where isnotnull(ConversationID) and RequestorODS != SenderODS\n",
    "| eval key=RegistrationTime + \"-\" + RegistrationSmartcardUID\n",
    "| eval Outcome=coalesce(ExtractAckStatus, \"No\") + \"-\" + coalesce(ExtractAckCode, \"EAM\")\n",
    "| eval Month=substr(RegistrationTime, 6, 2)\n",
    "| stats values(RequestorODS) as RequestorODS,\n",
    "        values(SenderODS) as SenderODS,\n",
    "        dc(eval(Outcome=\"1-00\" or Outcome=\"1-0\")) as Integrated,\n",
    "        dc(eval(Outcome=\"5-15\")) as Suppressed,\n",
    "        BY key, Month\n",
    "| stats dc(key) as RequestCount,\n",
    "        sum(Integrated) as IntegratedCount,\n",
    "        sum(Suppressed) as SuppressedCount\n",
    "        BY SenderODS, Month\n",
    "| eval SuccessRate=(IntegratedCount + SuppressedCount)/RequestCount\n",
    "```"
   ]
  },
  {
   "cell_type": "code",
   "execution_count": 10,
   "metadata": {},
   "outputs": [],
   "source": [
    "sender_view = pd.read_csv(data.PRMT_365_Sender_transfers.path)\n",
    "sender_view[\"Month\"] = sender_view[\"Month\"].map({5:\"May\", 6:\"June\", 7:\"July\", 8:\"August\"})\n",
    "sender_view[\"SuccessCount\"] = sender_view[\"IntegratedCount\"] + sender_view[\"SuppressedCount\"]\n",
    "sender_view = sender_view.set_index([\"SenderODS\", \"Month\"])\n",
    "\n",
    "months = [\"May\",\"June\",\"July\",\"August\"]\n",
    "ODSs = list(set(sender_view.index.get_level_values(\"SenderODS\")))\n",
    "CompleteIndex = pd.MultiIndex.from_product([ODSs, months], names=[\"SenderODS\", \"Month\"])\n",
    "sender_view = sender_view.reindex(CompleteIndex)"
   ]
  },
  {
   "cell_type": "code",
   "execution_count": 11,
   "metadata": {},
   "outputs": [],
   "source": [
    "sender_view_aggregated_over_time = sender_view.groupby(by=\"SenderODS\").sum()[[\"RequestCount\", \"SuccessCount\", \"SuppressedCount\"]]\n",
    "sender_view_aggregated_over_time[\"SuccessRate\"] = (sender_view_aggregated_over_time[\"SuccessCount\"]\n",
    "                                                      /sender_view_aggregated_over_time[\"RequestCount\"])"
   ]
  },
  {
   "cell_type": "code",
   "execution_count": 12,
   "metadata": {},
   "outputs": [
    {
     "data": {
      "image/png": "[encoded data removed]",
      "text/plain": [
       "<Figure size 576x360 with 1 Axes>"
      ]
     },
     "metadata": {
      "needs_background": "light"
     },
     "output_type": "display_data"
    }
   ],
   "source": [
    "plt.figure(figsize=(8,5))\n",
    "plt.hist(sender_view_aggregated_over_time[\"RequestCount\"], bins=np.linspace(0,800,800));\n",
    "plt.xlabel(\"Number of GP2GP conversations between May 1st and August 31st 2019\");\n",
    "plt.ylabel(\"Number of Sender Practices\");"
   ]
  },
  {
   "cell_type": "code",
   "execution_count": 13,
   "metadata": {},
   "outputs": [
    {
     "data": {
      "image/png": "[encoded data removed]",
      "text/plain": [
       "<Figure size 576x360 with 1 Axes>"
      ]
     },
     "metadata": {
      "needs_background": "light"
     },
     "output_type": "display_data"
    }
   ],
   "source": [
    "plt.figure(figsize=(8,5))\n",
    "plt.hist(list(sender_view_aggregated_over_time.sort_values(by=\"SuccessRate\", ascending=True)[\"SuccessRate\"]),\n",
    "         bins=100);\n",
    "plt.xlabel(\"SuccessRate (May-Aug 2019)\");\n",
    "plt.ylabel(\"Number of sender practices\");"
   ]
  },
  {
   "cell_type": "markdown",
   "metadata": {},
   "source": [
    "### Practices involved as Senders in a large number of GP2GP conversations\n",
    "\n",
    "The practices that responded to more than 800 requests in the period from May to August 2019 were:"
   ]
  },
  {
   "cell_type": "code",
   "execution_count": 14,
   "metadata": {},
   "outputs": [
    {
     "data": {
      "text/html": [
       "<div>\n",
       "<style scoped>\n",
       "    .dataframe tbody tr th:only-of-type {\n",
       "        vertical-align: middle;\n",
       "    }\n",
       "\n",
       "    .dataframe tbody tr th {\n",
       "        vertical-align: top;\n",
       "    }\n",
       "\n",
       "    .dataframe thead th {\n",
       "        text-align: right;\n",
       "    }\n",
       "</style>\n",
       "<table border=\"1\" class=\"dataframe\">\n",
       "  <thead>\n",
       "    <tr style=\"text-align: right;\">\n",
       "      <th></th>\n",
       "      <th>RequestCount</th>\n",
       "      <th>SuccessCount</th>\n",
       "      <th>SuppressedCount</th>\n",
       "      <th>SuccessRate</th>\n",
       "    </tr>\n",
       "    <tr>\n",
       "      <th>SenderODS</th>\n",
       "      <th></th>\n",
       "      <th></th>\n",
       "      <th></th>\n",
       "      <th></th>\n",
       "    </tr>\n",
       "  </thead>\n",
       "  <tbody>\n",
       "    <tr>\n",
       "      <td>L81112</td>\n",
       "      <td>4762.0</td>\n",
       "      <td>4683.0</td>\n",
       "      <td>133.0</td>\n",
       "      <td>0.983410</td>\n",
       "    </tr>\n",
       "    <tr>\n",
       "      <td>P91615</td>\n",
       "      <td>4410.0</td>\n",
       "      <td>4339.0</td>\n",
       "      <td>268.0</td>\n",
       "      <td>0.983900</td>\n",
       "    </tr>\n",
       "    <tr>\n",
       "      <td>F84631</td>\n",
       "      <td>3536.0</td>\n",
       "      <td>3495.0</td>\n",
       "      <td>60.0</td>\n",
       "      <td>0.988405</td>\n",
       "    </tr>\n",
       "    <tr>\n",
       "      <td>G85050</td>\n",
       "      <td>2931.0</td>\n",
       "      <td>2878.0</td>\n",
       "      <td>300.0</td>\n",
       "      <td>0.981917</td>\n",
       "    </tr>\n",
       "    <tr>\n",
       "      <td>H81079</td>\n",
       "      <td>2885.0</td>\n",
       "      <td>2809.0</td>\n",
       "      <td>78.0</td>\n",
       "      <td>0.973657</td>\n",
       "    </tr>\n",
       "    <tr>\n",
       "      <td>F84043</td>\n",
       "      <td>2640.0</td>\n",
       "      <td>2583.0</td>\n",
       "      <td>43.0</td>\n",
       "      <td>0.978409</td>\n",
       "    </tr>\n",
       "    <tr>\n",
       "      <td>B86110</td>\n",
       "      <td>2584.0</td>\n",
       "      <td>2219.0</td>\n",
       "      <td>691.0</td>\n",
       "      <td>0.858746</td>\n",
       "    </tr>\n",
       "    <tr>\n",
       "      <td>K81647</td>\n",
       "      <td>2511.0</td>\n",
       "      <td>2501.0</td>\n",
       "      <td>39.0</td>\n",
       "      <td>0.996018</td>\n",
       "    </tr>\n",
       "    <tr>\n",
       "      <td>E85124</td>\n",
       "      <td>2328.0</td>\n",
       "      <td>2222.0</td>\n",
       "      <td>428.0</td>\n",
       "      <td>0.954467</td>\n",
       "    </tr>\n",
       "    <tr>\n",
       "      <td>L81028</td>\n",
       "      <td>2300.0</td>\n",
       "      <td>2051.0</td>\n",
       "      <td>69.0</td>\n",
       "      <td>0.891739</td>\n",
       "    </tr>\n",
       "  </tbody>\n",
       "</table>\n",
       "</div>"
      ],
      "text/plain": [
       "           RequestCount  SuccessCount  SuppressedCount  SuccessRate\n",
       "SenderODS                                                          \n",
       "L81112           4762.0        4683.0            133.0     0.983410\n",
       "P91615           4410.0        4339.0            268.0     0.983900\n",
       "F84631           3536.0        3495.0             60.0     0.988405\n",
       "G85050           2931.0        2878.0            300.0     0.981917\n",
       "H81079           2885.0        2809.0             78.0     0.973657\n",
       "F84043           2640.0        2583.0             43.0     0.978409\n",
       "B86110           2584.0        2219.0            691.0     0.858746\n",
       "K81647           2511.0        2501.0             39.0     0.996018\n",
       "E85124           2328.0        2222.0            428.0     0.954467\n",
       "L81028           2300.0        2051.0             69.0     0.891739"
      ]
     },
     "execution_count": 14,
     "metadata": {},
     "output_type": "execute_result"
    }
   ],
   "source": [
    "high_volume_senders = sender_view_aggregated_over_time[sender_view_aggregated_over_time[\"RequestCount\"] > 800].sort_values(by=\"RequestCount\", ascending=False)\n",
    "high_volume_senders.iloc[:10]"
   ]
  },
  {
   "cell_type": "markdown",
   "metadata": {},
   "source": [
    "## Looking at individual practices"
   ]
  },
  {
   "cell_type": "code",
   "execution_count": 15,
   "metadata": {},
   "outputs": [],
   "source": [
    "def view_trends_for_ods(ods):\n",
    "    requestor_data = requestor_view.loc[ods]\n",
    "    sender_data = sender_view.loc[ods]\n",
    "    months = [\"May\", \"June\", \"July\", \"August\"]\n",
    "    \n",
    "    print(ods_lookup.loc[ods])\n",
    "    \n",
    "    figure = plt.figure(figsize=(14, 8))\n",
    "\n",
    "    plt.subplot(2, 2, 1)\n",
    "    plt.plot(months, requestor_data[[\"RequestCount\", \"IntegratedCount\", \"SuccessCount\"]])\n",
    "    plt.ylim(0)\n",
    "    plt.title(f\"GP2GP requests, integrations, and suppressions ({ods} - Requestor)\")\n",
    "\n",
    "    plt.subplot(2, 2, 2)\n",
    "    plt.plot(months, requestor_data[\"SuccessRate\"])\n",
    "    plt.ylim((0, 1.1))\n",
    "    plt.title(f\"Success rate ({ods} - Requestor)\")\n",
    "    \n",
    "    plt.subplot(2, 2, 3)\n",
    "    plt.plot(months, sender_data[[\"RequestCount\", \"IntegratedCount\", \"SuccessCount\"]])\n",
    "    plt.ylim(0)\n",
    "    plt.title(f\"GP2GP requests, integrations, and suppressions ({ods} - Sender)\")\n",
    "\n",
    "    plt.subplot(2, 2, 4)\n",
    "    plt.plot(months, sender_data[\"SuccessRate\"])\n",
    "    plt.ylim((0, 1.1))\n",
    "    plt.title(f\"Success rate ({ods} - Sender)\")"
   ]
  },
  {
   "cell_type": "markdown",
   "metadata": {},
   "source": [
    "### High volume requestors"
   ]
  },
  {
   "cell_type": "markdown",
   "metadata": {},
   "source": [
    "For ODS=E85124 (\"GP At Hand\" -- the largest volume of GP2GP transfer requests), we have:"
   ]
  },
  {
   "cell_type": "code",
   "execution_count": null,
   "metadata": {},
   "outputs": [
    {
     "name": "stdout",
     "output_type": "stream",
     "text": [
      "Name                          GP AT HAND\n",
      "NationalGrouping                     Y56\n",
      "HighLevelHealthGeography             Q71\n",
      "Postcode                         SW6 7SX\n",
      "ContactTelephoneNumber      0330 8082217\n",
      "PrescribingSetting                     4\n",
      "Name: E85124, dtype: object\n"
     ]
    }
   ],
   "source": [
    "view_trends_for_ods(\"E85124\")"
   ]
  },
  {
   "cell_type": "markdown",
   "metadata": {},
   "source": [
    "### High volume senders"
   ]
  },
  {
   "cell_type": "code",
   "execution_count": null,
   "metadata": {},
   "outputs": [],
   "source": [
    "view_trends_for_ods(\"L81112\")"
   ]
  },
  {
   "cell_type": "markdown",
   "metadata": {},
   "source": [
    "# North-West London Practices"
   ]
  },
  {
   "cell_type": "code",
   "execution_count": null,
   "metadata": {},
   "outputs": [],
   "source": [
    "nw_london_ods_codes = ods_lookup.loc[ods_lookup[\"Postcode\"].str.contains('^NW', regex=True, na=False)].index"
   ]
  },
  {
   "cell_type": "code",
   "execution_count": null,
   "metadata": {},
   "outputs": [],
   "source": [
    "nw_london_ods_codes"
   ]
  },
  {
   "cell_type": "code",
   "execution_count": null,
   "metadata": {},
   "outputs": [],
   "source": [
    "nw_london_requesting_practices_view = requestor_view_aggregated_over_time.loc[requestor_view_aggregated_over_time.index.intersection(nw_london_ods_codes)]"
   ]
  },
  {
   "cell_type": "code",
   "execution_count": null,
   "metadata": {},
   "outputs": [],
   "source": [
    "nw_london_requesting_practices_view.sort_values(by=\"RequestCount\", ascending=False)"
   ]
  }
 ],
 "metadata": {
  "kernelspec": {
   "display_name": "Python 3",
   "language": "python",
   "name": "python3"
  },
  "language_info": {
   "codemirror_mode": {
    "name": "ipython",
    "version": 3
   },
   "file_extension": ".py",
   "mimetype": "text/x-python",
   "name": "python",
   "nbconvert_exporter": "python",
   "pygments_lexer": "ipython3",
   "version": "3.7.4"
  }
 },
 "nbformat": 4,
 "nbformat_minor": 2
}
