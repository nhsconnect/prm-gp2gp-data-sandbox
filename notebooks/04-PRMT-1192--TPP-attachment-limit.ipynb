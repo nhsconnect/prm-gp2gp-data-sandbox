{
 "metadata": {
  "language_info": {
   "codemirror_mode": {
    "name": "ipython",
    "version": 3
   },
   "file_extension": ".py",
   "mimetype": "text/x-python",
   "name": "python",
   "nbconvert_exporter": "python",
   "pygments_lexer": "ipython3",
   "version": "3.8.5-final"
  },
  "orig_nbformat": 2,
  "kernelspec": {
   "name": "Python 3.8.5 64-bit ('venv')",
   "display_name": "Python 3.8.5 64-bit ('venv')",
   "metadata": {
    "interpreter": {
     "hash": "004f20149636a190205f32e1b8d6542086d312ad557e8bc122c47963b892a77f"
    }
   }
  }
 },
 "nbformat": 4,
 "nbformat_minor": 2,
 "cells": [
  {
   "source": [
    "# TPP Attachment Limit investigation - Oct 2020\n",
    "\n",
    "Hypothesis:\n",
    "- TPP have increased the attachment limit and this has reduced the number of errors related to large attachments.\n",
    "\n",
    "Context:\n",
    "- TPP had a 60mb GP2GP attachment limit that should have been increased to 100mb over the last few months. We wanted to see if that change has reduced the number of errors related to large messages. \n",
    "- To note, we are unable to access the MI Data past Feb 2020, but we are able to access the SPINE logs. Therefore the following is based on data analysis from the SPINE logs. But there were also issues with the SPINE logs since migration to Spine Cloud, which are noted below.\n",
    "\n",
    "\n",
    "Assumptions:\n",
    "- YGA is TPP\n",
    "\n",
    "Requirements:\n",
    "- This notebook requires febuary spine logs to be stored as \"feb.csv.gz\" in the data folder"
   ],
   "cell_type": "markdown",
   "metadata": {}
  },
  {
   "cell_type": "code",
   "execution_count": 29,
   "metadata": {},
   "outputs": [],
   "source": [
    "from typing import List\n",
    "from datetime import datetime\n",
    "from dateutil.tz import tzutc\n",
    "from dateutil.relativedelta import relativedelta\n",
    "\n",
    "from gp2gp.spine.models import Conversation\n",
    "from gp2gp.date.range import DateTimeRange\n",
    "from gp2gp.io.json import write_json_file, read_json_file, upload_json_object\n",
    "from gp2gp.odsportal.sources import construct_practice_list_from_dict\n",
    "from gp2gp.pipeline.dashboard.main import read_spine_csv_gz_files\n",
    "from gp2gp.spine.transformers import group_into_conversations"
   ]
  },
  {
   "cell_type": "code",
   "execution_count": 30,
   "metadata": {},
   "outputs": [],
   "source": [
    "def isYGA(code):\n",
    "    print(f\"code: {code}\")\n",
    "    return code == \"YGA\""
   ]
  },
  {
   "cell_type": "code",
   "execution_count": 31,
   "metadata": {},
   "outputs": [],
   "source": [
    "def calculate_large_attachment_errors(conversations):\n",
    "    count = 0\n",
    "    for conversation in conversations:\n",
    "        conversation_errors = []\n",
    "        large_error = False\n",
    "        for message in conversation.messages:\n",
    "            if message.error_code in [23, 25, 29, 30, 31]:\n",
    "                large_error = True\n",
    "                conversation_errors.append(message.error_code)\n",
    "        if large_error is True:\n",
    "            count +=1\n",
    "        if len(conversation_errors) > 1:\n",
    "            print(\"Conversation \", conversation.id ,\" has multiple errors - \", conversation_errors)\n",
    "    return count"
   ]
  },
  {
   "cell_type": "code",
   "execution_count": 32,
   "metadata": {},
   "outputs": [],
   "source": [
    "metric_month = datetime(2020, 2, 1, tzinfo=tzutc())\n",
    "next_month = metric_month + relativedelta(months=1)\n",
    "time_range = DateTimeRange(metric_month, next_month)"
   ]
  },
  {
   "cell_type": "code",
   "execution_count": 33,
   "metadata": {},
   "outputs": [],
   "source": [
    "practice_data = read_json_file(\"../data/practice-list.json\")\n",
    "practice_metadata = construct_practice_list_from_dict(practice_data)"
   ]
  },
  {
   "cell_type": "code",
   "execution_count": 34,
   "metadata": {},
   "outputs": [],
   "source": [
    "spine_messages = read_spine_csv_gz_files([\"../data/feb.csv.gz\"])"
   ]
  },
  {
   "cell_type": "code",
   "execution_count": 35,
   "metadata": {},
   "outputs": [],
   "source": [
    "conversations = group_into_conversations(spine_messages)"
   ]
  },
  {
   "cell_type": "code",
   "execution_count": 36,
   "metadata": {},
   "outputs": [
    {
     "output_type": "stream",
     "name": "stdout",
     "text": [
      "-- All conversations --\n",
      "Conversations:  220001\n",
      "Conversation  96A80060-5A1F-11EA-8779-31BB08329F86  has multiple errors -  [29, 31]\n",
      "Conversation  E03B3730-5A1D-11EA-87BA-E9F10B35C116  has multiple errors -  [29, 31]\n",
      "Conversation  0586B9F0-5A15-11EA-9A17-0F09BBBC8FAD  has multiple errors -  [29, 31]\n",
      "Conversation  381614C0-5884-11EA-9D8E-A34EE459F0D9  has multiple errors -  [29, 31, 29, 31, 29, 31]\n",
      "Conversation  EB411BCB-FE90-4E8C-8B8F-64678B0B413D  has multiple errors -  [29, 31]\n",
      "Conversation  BFB56300-599B-11EA-A6E5-0BDF5EA7C7BF  has multiple errors -  [29, 31]\n",
      "Conversation  05F383C0-598C-11EA-A4ED-B338B00DC0B7  has multiple errors -  [29, 31]\n",
      "Conversation  EE09E940-5989-11EA-9C89-E7F39F2CD23A  has multiple errors -  [29, 31]\n",
      "Conversation  C5B5F890-597E-11EA-BE96-E569A80F5FF4  has multiple errors -  [29, 31]\n",
      "Conversation  F30ADE10-4E74-11EA-9765-C30FB92F0EF7  has multiple errors -  [30, 29, 31]\n",
      "Conversation  57B6D1F0-597B-11EA-9969-4F39AD4B9491  has multiple errors -  [29, 31]\n",
      "Conversation  A20D5AF0-3C3C-11EA-8E18-75940952EF55  has multiple errors -  [30, 29, 31]\n",
      "Conversation  D5CB2780-5953-11EA-A734-234D9F9C71FF  has multiple errors -  [29, 31]\n",
      "Conversation  0529AD40-594E-11EA-9E57-21DE14F1FF00  has multiple errors -  [29, 31]\n",
      "Conversation  1EB41070-5895-11EA-8792-953D18E39213  has multiple errors -  [29, 31]\n",
      "Conversation  30F8B7D0-5891-11EA-B71E-CF0B8764E727  has multiple errors -  [29, 31]\n",
      "Conversation  FC6F29E0-5890-11EA-9793-C9E80E8DF445  has multiple errors -  [29, 31]\n",
      "Conversation  440CAD30-5879-11EA-AAFF-6168D3AA4F1F  has multiple errors -  [30, 30, 30, 30, 30, 30, 30, 30, 30, 30, 30, 30, 30, 30, 30, 30, 30, 30, 30, 30, 30, 30, 30, 30, 30, 30, 30, 30, 30, 30, 30, 30, 30, 30, 30, 30, 30, 30, 30, 30, 30, 30, 30, 30, 30, 30, 30, 30, 30, 30, 30, 30, 30, 30]\n",
      "Conversation  83FBE060-587D-11EA-9435-AFC86C5AF27F  has multiple errors -  [29, 31]\n",
      "Conversation  C6C8FCF0-EA10-4358-A08D-E41460F68975  has multiple errors -  [29, 31]\n",
      "Conversation  DA8077B0-57DE-11EA-AA97-218738170E0A  has multiple errors -  [29, 29, 31]\n",
      "Conversation  52CC5320-57DE-11EA-8FB1-D91D8B028092  has multiple errors -  [29, 31]\n",
      "Conversation  80AF5810-2BC8-11EA-B733-37E6C43D8397  has multiple errors -  [30, 29, 31]\n",
      "Conversation  B514A0E0-57D5-11EA-8B70-EF02297559EA  has multiple errors -  [29, 31]\n",
      "Conversation  EDCB7A40-57D4-11EA-8B78-570489266EBE  has multiple errors -  [29, 31]\n",
      "Conversation  B22BAB60-57CD-11EA-A49D-43EDA16BE6B0  has multiple errors -  [29, 29, 29, 29, 29, 29, 29, 29, 29, 29, 29, 29, 29, 29, 31]\n",
      "Conversation  06AD74F0-57CB-11EA-9820-D75549CF6B8A  has multiple errors -  [29, 31]\n",
      "Conversation  9482DCD0-57B6-11EA-A9FD-656DBED4DE19  has multiple errors -  [29, 31]\n",
      "Conversation  604B6020-57AE-11EA-967E-6DC5ED0488A0  has multiple errors -  [29, 31]\n",
      "Conversation  346A868A-6982-46DA-881E-F40170085E5D  has multiple errors -  [29, 31]\n",
      "Conversation  98C074E3-F20E-4B4D-B35C-0970123A036D  has multiple errors -  [29, 31]\n",
      "Conversation  3FCF25F0-4CC5-11EA-9FFE-8500E7C8EA1C  has multiple errors -  [30, 30, 30]\n",
      "Conversation  EA5BC060-3D24-11EA-8C93-D51B0C461349  has multiple errors -  [30, 30]\n",
      "Conversation  D5B84BB0-5485-11EA-B453-57E61C8D3A5E  has multiple errors -  [29, 31]\n",
      "Conversation  2854934C-8F05-4D1D-83BF-4349482580F5  has multiple errors -  [29, 31]\n",
      "Conversation  98EA4730-5177-11EA-B330-E15C534022F9  has multiple errors -  [30, 30]\n",
      "Conversation  4A61FD90-5179-11EA-9101-1FE05E86F508  has multiple errors -  [30, 30]\n",
      "Conversation  E4CBA154-4A92-4A19-B073-F11528E86F21  has multiple errors -  [29, 31]\n",
      "Conversation  7FEBBA25-EE31-49DF-A42E-2A5182D48E67  has multiple errors -  [29, 31]\n",
      "Conversation  B6F435FF-D1B7-4A92-858A-42740C8ED62A  has multiple errors -  [29, 31]\n",
      "Conversation  906DD7CC-A872-479C-9FA5-39686912AA81  has multiple errors -  [29, 31]\n",
      "Conversation  4E66321A-B887-4C8C-8A29-F47B8F0D201F  has multiple errors -  [29, 31]\n",
      "Conversation  96550370-4CEF-11EA-B001-FFCA089DF00F  has multiple errors -  [29, 31]\n",
      "Conversation  17248D30-4C1F-11EA-BE07-33C10679FDFE  has multiple errors -  [29, 31]\n",
      "Conversation  2ED32510-4C22-11EA-B059-3D8D38F6688B  has multiple errors -  [29, 31]\n",
      "Conversation  DA9D6DC0-4C26-11EA-BD62-075491D4039E  has multiple errors -  [29, 31]\n",
      "Conversation  B107E320-48EB-11EA-95C4-1FD2F56FC369  has multiple errors -  [30, 30]\n",
      "Conversation  44CD4320-48D8-11EA-9E3E-2961FF2D25D3  has multiple errors -  [30, 30]\n",
      "Conversation  6B31C770-4694-11EA-94D9-951E4EB98706  has multiple errors -  [30, 30]\n",
      "Large attachment failures:  1561\n"
     ]
    }
   ],
   "source": [
    "conversation_list = list(conversations)\n",
    "\n",
    "print(\"-- All conversations --\")\n",
    "print(\"Conversations: \", len(conversation_list))\n",
    "large_attachment_errors = calculate_large_attachment_errors(conversation_list)\n",
    "print(\"Large attachment failures: \", large_attachment_errors)"
   ]
  },
  {
   "cell_type": "code",
   "execution_count": 37,
   "metadata": {},
   "outputs": [
    {
     "output_type": "stream",
     "name": "stdout",
     "text": [
      "\n",
      "-- Conversations involving TPP --\n",
      "Conversations:  77991\n",
      "Conversation  96A80060-5A1F-11EA-8779-31BB08329F86  has multiple errors -  [29, 31]\n",
      "Conversation  E03B3730-5A1D-11EA-87BA-E9F10B35C116  has multiple errors -  [29, 31]\n",
      "Conversation  0586B9F0-5A15-11EA-9A17-0F09BBBC8FAD  has multiple errors -  [29, 31]\n",
      "Conversation  381614C0-5884-11EA-9D8E-A34EE459F0D9  has multiple errors -  [29, 31, 29, 31, 29, 31]\n",
      "Conversation  BFB56300-599B-11EA-A6E5-0BDF5EA7C7BF  has multiple errors -  [29, 31]\n",
      "Conversation  05F383C0-598C-11EA-A4ED-B338B00DC0B7  has multiple errors -  [29, 31]\n",
      "Conversation  EE09E940-5989-11EA-9C89-E7F39F2CD23A  has multiple errors -  [29, 31]\n",
      "Conversation  C5B5F890-597E-11EA-BE96-E569A80F5FF4  has multiple errors -  [29, 31]\n",
      "Conversation  F30ADE10-4E74-11EA-9765-C30FB92F0EF7  has multiple errors -  [30, 29, 31]\n",
      "Conversation  57B6D1F0-597B-11EA-9969-4F39AD4B9491  has multiple errors -  [29, 31]\n",
      "Conversation  A20D5AF0-3C3C-11EA-8E18-75940952EF55  has multiple errors -  [30, 29, 31]\n",
      "Conversation  D5CB2780-5953-11EA-A734-234D9F9C71FF  has multiple errors -  [29, 31]\n",
      "Conversation  0529AD40-594E-11EA-9E57-21DE14F1FF00  has multiple errors -  [29, 31]\n",
      "Conversation  1EB41070-5895-11EA-8792-953D18E39213  has multiple errors -  [29, 31]\n",
      "Conversation  30F8B7D0-5891-11EA-B71E-CF0B8764E727  has multiple errors -  [29, 31]\n",
      "Conversation  FC6F29E0-5890-11EA-9793-C9E80E8DF445  has multiple errors -  [29, 31]\n",
      "Conversation  440CAD30-5879-11EA-AAFF-6168D3AA4F1F  has multiple errors -  [30, 30, 30, 30, 30, 30, 30, 30, 30, 30, 30, 30, 30, 30, 30, 30, 30, 30, 30, 30, 30, 30, 30, 30, 30, 30, 30, 30, 30, 30, 30, 30, 30, 30, 30, 30, 30, 30, 30, 30, 30, 30, 30, 30, 30, 30, 30, 30, 30, 30, 30, 30, 30, 30]\n",
      "Conversation  83FBE060-587D-11EA-9435-AFC86C5AF27F  has multiple errors -  [29, 31]\n",
      "Conversation  C6C8FCF0-EA10-4358-A08D-E41460F68975  has multiple errors -  [29, 31]\n",
      "Conversation  DA8077B0-57DE-11EA-AA97-218738170E0A  has multiple errors -  [29, 29, 31]\n",
      "Conversation  52CC5320-57DE-11EA-8FB1-D91D8B028092  has multiple errors -  [29, 31]\n",
      "Conversation  80AF5810-2BC8-11EA-B733-37E6C43D8397  has multiple errors -  [30, 29, 31]\n",
      "Conversation  B514A0E0-57D5-11EA-8B70-EF02297559EA  has multiple errors -  [29, 31]\n",
      "Conversation  EDCB7A40-57D4-11EA-8B78-570489266EBE  has multiple errors -  [29, 31]\n",
      "Conversation  B22BAB60-57CD-11EA-A49D-43EDA16BE6B0  has multiple errors -  [29, 29, 29, 29, 29, 29, 29, 29, 29, 29, 29, 29, 29, 29, 31]\n",
      "Conversation  06AD74F0-57CB-11EA-9820-D75549CF6B8A  has multiple errors -  [29, 31]\n",
      "Conversation  9482DCD0-57B6-11EA-A9FD-656DBED4DE19  has multiple errors -  [29, 31]\n",
      "Conversation  604B6020-57AE-11EA-967E-6DC5ED0488A0  has multiple errors -  [29, 31]\n",
      "Conversation  3FCF25F0-4CC5-11EA-9FFE-8500E7C8EA1C  has multiple errors -  [30, 30, 30]\n",
      "Conversation  EA5BC060-3D24-11EA-8C93-D51B0C461349  has multiple errors -  [30, 30]\n",
      "Conversation  D5B84BB0-5485-11EA-B453-57E61C8D3A5E  has multiple errors -  [29, 31]\n",
      "Conversation  98EA4730-5177-11EA-B330-E15C534022F9  has multiple errors -  [30, 30]\n",
      "Conversation  4A61FD90-5179-11EA-9101-1FE05E86F508  has multiple errors -  [30, 30]\n",
      "Conversation  4E66321A-B887-4C8C-8A29-F47B8F0D201F  has multiple errors -  [29, 31]\n",
      "Conversation  96550370-4CEF-11EA-B001-FFCA089DF00F  has multiple errors -  [29, 31]\n",
      "Conversation  17248D30-4C1F-11EA-BE07-33C10679FDFE  has multiple errors -  [29, 31]\n",
      "Conversation  2ED32510-4C22-11EA-B059-3D8D38F6688B  has multiple errors -  [29, 31]\n",
      "Conversation  DA9D6DC0-4C26-11EA-BD62-075491D4039E  has multiple errors -  [29, 31]\n",
      "Conversation  B107E320-48EB-11EA-95C4-1FD2F56FC369  has multiple errors -  [30, 30]\n",
      "Conversation  44CD4320-48D8-11EA-9E3E-2961FF2D25D3  has multiple errors -  [30, 30]\n",
      "Conversation  6B31C770-4694-11EA-94D9-951E4EB98706  has multiple errors -  [30, 30]\n",
      "Large attachment errors:  1312\n"
     ]
    }
   ],
   "source": [
    "print(\"\\n-- Conversations involving TPP --\")\n",
    "\n",
    "without_yga_list = []\n",
    "for conversation in conversation_list:\n",
    "    if (\n",
    "        conversation.messages[0].from_party_ods_code == \"YGA\"\n",
    "        or conversation.messages[0].to_party_ods_code == \"YGA\"\n",
    "    ):\n",
    "        without_yga_list.append(conversation)\n",
    "\n",
    "print(\"Conversations: \", len(without_yga_list))\n",
    "large_attachment_errors = calculate_large_attachment_errors(without_yga_list)\n",
    "print(\"Large attachment errors: \", large_attachment_errors)"
   ]
  }
 ]
}