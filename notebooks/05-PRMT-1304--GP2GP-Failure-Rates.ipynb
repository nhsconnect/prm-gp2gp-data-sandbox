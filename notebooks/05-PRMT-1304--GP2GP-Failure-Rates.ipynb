{
 "metadata": {
  "language_info": {
   "codemirror_mode": {
    "name": "ipython",
    "version": 3
   },
   "file_extension": ".py",
   "mimetype": "text/x-python",
   "name": "python",
   "nbconvert_exporter": "python",
   "pygments_lexer": "ipython3",
   "version": "3.8.1-final"
  },
  "orig_nbformat": 2,
  "kernelspec": {
   "name": "Python 3.8.1 64-bit ('venv')",
   "display_name": "Python 3.8.1 64-bit ('venv')",
   "metadata": {
    "interpreter": {
     "hash": "426d3cea9478f76cbda040767bf32b2b0b785fb2fbb5306c7bfa712622301487"
    }
   }
  }
 },
 "nbformat": 4,
 "nbformat_minor": 2,
 "cells": [
  {
   "source": [
    "# GP2GP Failure Rate - Oct 2020\n",
    "\n",
    "Context:\n",
    "- PCSE wants the rate of paper transfers being triggered over the last three months.\n",
    "- Finding the totals and rates of failures involves calculating, for each month:\n",
    "    - the total number of transfers\n",
    "    - the total number of successful transfers completed within 8 days SLA \n",
    "    - the total number of successful transfers completed beyond 8 days SLA\n",
    "    - the total remaining number of transfers assumed unsuccessful\n",
    "\n",
    "Assumptions:\n",
    "- We define the failure rate as a transfer without a successful final ack, an incorrect message sequence or not within the 8 day SLA.\n",
    "- We are aware that there are transfers where a message could contain a placeholder (therefore triggering the paper process), however since this metadata is not provided in the Spine logs, we can not identify these failures and they will be classified as complete.\n",
    "\n",
    "Requirements:\n",
    "- This notebook uses the following Splunk query:\n",
    "```\n",
    "index=\"spine2vfmmonitor\" service=\"gp2gp\"\n",
    "| search interactionID=\"urn:nhs:names:services:gp2gp/*\"\n",
    "| rex field=fromPartyID \"(?<fromNACS>.+)(-\\d*)\"\n",
    "| rex field=toPartyID \"(?<toNACS>.+)(-\\d*)\"\n",
    "| fields _time, conversationID, GUID, interactionID, fromNACS, toNACS, messageRef, jdiEvent\n",
    "| fields - _raw\n",
    "```"
   ],
   "cell_type": "markdown",
   "metadata": {}
  },
  {
   "cell_type": "code",
   "execution_count": null,
   "metadata": {},
   "outputs": [],
   "source": [
    "import pandas as pd"
   ]
  },
  {
   "cell_type": "code",
   "execution_count": 30,
   "metadata": {},
   "outputs": [],
   "source": [
    "from gp2gp.spine.models import COMMON_POINT_TO_POINT, EHR_REQUEST_COMPLETED\n",
    "from sys import argv\n",
    "from gp2gp.io.csv import read_gzip_csv_files\n",
    "from gp2gp.spine.sources import construct_messages_from_splunk_items\n",
    "from gp2gp.spine.transformers import (\n",
    "    group_into_conversations,\n",
    "    parse_conversation,\n",
    "    filter_conversations_by_request_started_time,\n",
    "    ConversationMissingStart,\n",
    ")\n",
    "from gp2gp.service.transformers import (\n",
    "    derive_transfers,\n",
    "    filter_for_successful_transfers,\n",
    "    calculate_sla_by_practice,\n",
    ")\n",
    "from gp2gp.service.models import (\n",
    "    SlaBand,\n",
    ")\n",
    "from gp2gp.pipeline.dashboard.core import (\n",
    "    _parse_conversations\n",
    ")\n",
    "from gp2gp.pipeline.dashboard.main import (\n",
    "    read_spine_csv_gz_files\n",
    ")\n",
    "\n",
    "from gp2gp.date.range import DateTimeRange\n",
    "from datetime import datetime\n",
    "from dateutil.tz import UTC\n",
    "from dateutil.relativedelta import relativedelta"
   ]
  },
  {
   "cell_type": "code",
   "execution_count": 31,
   "metadata": {},
   "outputs": [],
   "source": [
    "def calculate_date_range(year, month):\n",
    "    metric_month = datetime(year, month, 1, tzinfo=UTC)\n",
    "    next_month = metric_month + relativedelta(months=1)\n",
    "    time_range = DateTimeRange(metric_month, next_month)\n",
    "    return time_range   "
   ]
  },
  {
   "cell_type": "code",
   "execution_count": 32,
   "metadata": {},
   "outputs": [],
   "source": [
    "EIGHT_DAYS_IN_SECONDS = 691200\n",
    "\n",
    "def assign_to_sla(sla_duration):\n",
    "    sla_duration_in_seconds = sla_duration.total_seconds()\n",
    "    if sla_duration_in_seconds <= EIGHT_DAYS_IN_SECONDS:\n",
    "        return SlaBand.WITHIN_8_DAYS\n",
    "    else:\n",
    "        return SlaBand.BEYOND_8_DAYS\n"
   ]
  },
  {
   "cell_type": "code",
   "execution_count": 33,
   "metadata": {},
   "outputs": [],
   "source": [
    "def calculate_sla(transfers):\n",
    "    default_sla = {SlaBand.WITHIN_8_DAYS: 0, SlaBand.BEYOND_8_DAYS: 0}\n",
    "    for transfer in transfers:\n",
    "        if transfer.sla_duration is not None:\n",
    "            sla_band = assign_to_sla(transfer.sla_duration)\n",
    "            default_sla[sla_band] += 1\n",
    "    return default_sla"
   ]
  },
  {
   "cell_type": "code",
   "execution_count": 34,
   "metadata": {},
   "outputs": [],
   "source": [
    "def spine_data_transformer(main_month_data, next_month_data, year, month):\n",
    "    spine_messages = read_spine_csv_gz_files([main_month_data, next_month_data])\n",
    "    conversations = group_into_conversations(spine_messages)\n",
    "    parsed_conversations = _parse_conversations(conversations)\n",
    "    time_range = calculate_date_range(year, month)\n",
    "    conversations_started_in_range = filter_conversations_by_request_started_time(\n",
    "        parsed_conversations, time_range\n",
    "    )\n",
    "    return conversations_started_in_range"
   ]
  },
  {
   "cell_type": "code",
   "execution_count": 35,
   "metadata": {},
   "outputs": [],
   "source": [
    "# Change below to point to location of zipped file and date\n",
    "def calculate_gp2gp_failure_metrics(conversations_started_in_range):\n",
    "    \n",
    "    # Service transformers\n",
    "    transfers = derive_transfers(conversations_started_in_range)\n",
    "    alltransfers = list(transfers)\n",
    "    completed_transfers = filter_for_successful_transfers(iter(alltransfers))\n",
    "    allcompleted = list(completed_transfers)\n",
    "    slas = calculate_sla(allcompleted)\n",
    "\n",
    "    # Counts\n",
    "    transfer_count = len(alltransfers)\n",
    "    success_count = slas[SlaBand.WITHIN_8_DAYS]\n",
    "    failed_count = len(alltransfers)-success_count\n",
    "    completed_count = len(allcompleted)\n",
    "\n",
    "    # Rates\n",
    "    failure_rate = (failed_count/transfer_count)*100\n",
    "    beyond_8day_sla_rate = (slas[SlaBand.BEYOND_8_DAYS]/transfer_count)*100\n",
    "    not_completed_rate = 100-(completed_count/transfer_count)*100\n",
    "\n",
    "    if abs(((failed_count/transfer_count)*100) - (beyond_8day_sla_rate+not_completed_rate)) > 0.001:\n",
    "        print(((failed_count/transfer_count)*100)-(beyond_8day_sla_rate+not_completed_rate))\n",
    "        print(\"Error: Failure rate not equal to beyond_8_day plus not_completed\")\n",
    "\n",
    "    return {\"total_transfers\": transfer_count, \n",
    "            \"total_completed\": completed_count,\n",
    "            \"total_within_8_day_sla\": slas[SlaBand.WITHIN_8_DAYS], \n",
    "            \"total_beyond_8_day_sla\": slas[SlaBand.WITHIN_8_DAYS], \n",
    "            \"percent_not_completed\": not_completed_rate,\n",
    "            \"percent_completed_beyond_8_day_sla\": beyond_8day_sla_rate,\n",
    "            \"percent_triggering_paper_transfer\": not_completed_rate+beyond_8day_sla_rate\n",
    "            }"
   ]
  },
  {
   "cell_type": "code",
   "execution_count": 36,
   "metadata": {},
   "outputs": [],
   "source": [
    "july_data_file_name=\"../data/months/July-2020.csv.gz\"\n",
    "august_data_file_name=\"../data/months/Aug-2020.csv.gz\"\n",
    "september_data_file_name = \"../data/months/Sept-2020.csv.gz\"\n",
    "october_data_file_name = \"../data/months/Oct-2020.csv.gz\"\n",
    "\n",
    "sept_conversations_started_in_range = spine_data_transformer(september_data_file_name, october_data_file_name, 2020, 9)\n"
   ]
  },
  {
   "cell_type": "code",
   "execution_count": 37,
   "metadata": {},
   "outputs": [
    {
     "output_type": "stream",
     "name": "stdout",
     "text": [
      "SEPTEMBER: {'total_transfers': 273665, 'total_completed': 250329, 'total_within_8_day_sla': 234641, 'total_beyond_8_day_sla': 234641, 'percent_not_completed': 8.527213929439284, 'percent_completed_beyond_8_day_sla': 5.73255622750443, 'percent_triggering_paper_transfer': 14.259770156943715}\n"
     ]
    }
   ],
   "source": [
    "\n",
    "sept_result = calculate_gp2gp_failure_metrics(sept_conversations_started_in_range)\n",
    "\n",
    "print(f\"SEPTEMBER: {sept_result}\")"
   ]
  }
 ]
}