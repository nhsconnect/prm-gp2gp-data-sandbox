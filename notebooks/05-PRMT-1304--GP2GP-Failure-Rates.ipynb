{
 "metadata": {
  "language_info": {
   "codemirror_mode": {
    "name": "ipython",
    "version": 3
   },
   "file_extension": ".py",
   "mimetype": "text/x-python",
   "name": "python",
   "nbconvert_exporter": "python",
   "pygments_lexer": "ipython3",
   "version": "3.8.6-final"
  },
  "orig_nbformat": 2,
  "kernelspec": {
   "name": "Python 3.8.6 64-bit ('venv')",
   "display_name": "Python 3.8.6 64-bit ('venv')",
   "metadata": {
    "interpreter": {
     "hash": "004f20149636a190205f32e1b8d6542086d312ad557e8bc122c47963b892a77f"
    }
   }
  }
 },
 "nbformat": 4,
 "nbformat_minor": 2,
 "cells": [
  {
   "source": [
    "# GP2GP Failure Rate - Oct 2020\n",
    "\n",
    "Context:\n",
    "- PCSE wants the rate of paper transfers being triggered over the last three months.\n",
    "- Finding the totals and rates of failures involves calculating, for each month:\n",
    "    - the total number of transfers\n",
    "    - the total number of successful transfers completed within 8 days SLA \n",
    "    - the total number of successful transfers completed beyond 8 days SLA\n",
    "    - the total remaining number of transfers assumed unsuccessful\n",
    "\n",
    "Assumptions:\n",
    "- We define the failure rate as a transfer without a successful final ack, an incorrect message sequence or not within the 8 day SLA.\n",
    "- We are aware that there are transfers where a message could contain a placeholder (therefore triggering the paper process), however since this metadata is not provided in the Spine logs, we can not identify these failures and they will be classified as complete.\n",
    "\n",
    "Requirements:\n",
    "- This notebook uses the following Splunk query:\n",
    "```\n",
    "index=\"spine2vfmmonitor\" service=\"gp2gp\"\n",
    "| search interactionID=\"urn:nhs:names:services:gp2gp/*\"\n",
    "| rex field=fromPartyID \"(?<fromNACS>.+)(-\\d*)\"\n",
    "| rex field=toPartyID \"(?<toNACS>.+)(-\\d*)\"\n",
    "| fields _time, conversationID, GUID, interactionID, fromNACS, toNACS, messageRef, jdiEvent\n",
    "| fields - _raw\n",
    "```"
   ],
   "cell_type": "markdown",
   "metadata": {}
  },
  {
   "cell_type": "code",
   "execution_count": 5,
   "metadata": {},
   "outputs": [],
   "source": [
    "from gp2gp.spine.models import COMMON_POINT_TO_POINT, EHR_REQUEST_COMPLETED\n",
    "from sys import argv\n",
    "from gp2gp.io.csv import read_gzip_csv_files\n",
    "from gp2gp.spine.sources import construct_messages_from_splunk_items\n",
    "from gp2gp.spine.transformers import (\n",
    "    group_into_conversations,\n",
    "    parse_conversation,\n",
    "    filter_conversations_by_request_started_time,\n",
    "    ConversationMissingStart,\n",
    ")\n",
    "from gp2gp.service.transformers import (\n",
    "    derive_transfers,\n",
    "    filter_for_successful_transfers,\n",
    "    calculate_sla_by_practice,\n",
    ")\n",
    "from gp2gp.service.models import (\n",
    "    SlaBand,\n",
    ")\n",
    "from gp2gp.pipeline.dashboard.core import (\n",
    "    _parse_conversations\n",
    ")\n",
    "from gp2gp.pipeline.dashboard.main import (\n",
    "    read_spine_csv_gz_files\n",
    ")\n",
    "\n",
    "from gp2gp.date.range import DateTimeRange\n",
    "from datetime import datetime\n",
    "from dateutil.tz import UTC\n",
    "from dateutil.relativedelta import relativedelta"
   ]
  },
  {
   "cell_type": "code",
   "execution_count": 6,
   "metadata": {},
   "outputs": [],
   "source": [
    "def calculate_date_range(year, month):\n",
    "    metric_month = datetime(year, month, 1, tzinfo=UTC)\n",
    "    next_month = metric_month + relativedelta(months=1)\n",
    "    time_range = DateTimeRange(metric_month, next_month)\n",
    "    return time_range   "
   ]
  },
  {
   "cell_type": "code",
   "execution_count": 7,
   "metadata": {},
   "outputs": [],
   "source": [
    "EIGHT_DAYS_IN_SECONDS = 691200\n",
    "\n",
    "def assign_to_sla(sla_duration):\n",
    "    sla_duration_in_seconds = sla_duration.total_seconds()\n",
    "    if sla_duration_in_seconds <= EIGHT_DAYS_IN_SECONDS:\n",
    "        return SlaBand.WITHIN_8_DAYS\n",
    "    else:\n",
    "        return SlaBand.BEYOND_8_DAYS\n"
   ]
  },
  {
   "cell_type": "code",
   "execution_count": 8,
   "metadata": {},
   "outputs": [],
   "source": [
    "def calculate_sla(transfers):\n",
    "    default_sla = {SlaBand.WITHIN_8_DAYS: 0, SlaBand.BEYOND_8_DAYS: 0}\n",
    "    for transfer in transfers:\n",
    "        if transfer.sla_duration is not None:\n",
    "            sla_band = assign_to_sla(transfer.sla_duration)\n",
    "            default_sla[sla_band] += 1\n",
    "    return default_sla"
   ]
  },
  {
   "cell_type": "code",
   "execution_count": 9,
   "metadata": {},
   "outputs": [],
   "source": [
    "# Change below to point to location of zipped file\n",
    "input_file_name1 = \"../data/months/february-2020.csv.gz\"\n",
    "input_file_name2 = \"../data/months/march-2020.csv.gz\"\n",
    "\n",
    "spine_messages = read_spine_csv_gz_files([input_file_name1, input_file_name2])"
   ]
  },
  {
   "cell_type": "code",
   "execution_count": 10,
   "metadata": {},
   "outputs": [],
   "source": [
    "conversations = group_into_conversations(spine_messages)\n",
    "parsed_conversations = _parse_conversations(conversations)\n",
    "time_range = calculate_date_range(2020, 2)\n",
    "conversations_started_in_range = filter_conversations_by_request_started_time(\n",
    "    parsed_conversations, time_range\n",
    ")"
   ]
  },
  {
   "cell_type": "code",
   "execution_count": 11,
   "metadata": {
    "tags": []
   },
   "outputs": [],
   "source": [
    "transfers = derive_transfers(conversations_started_in_range)\n",
    "alltransfers = list(transfers)\n",
    "completed_transfers = filter_for_successful_transfers(iter(alltransfers))\n",
    "allcompleted = list(completed_transfers)\n",
    "slas = calculate_sla(allcompleted)"
   ]
  },
  {
   "cell_type": "code",
   "execution_count": 12,
   "metadata": {},
   "outputs": [],
   "source": [
    "\n",
    "transfer_count = len(alltransfers)\n",
    "success_count = slas[SlaBand.WITHIN_8_DAYS]\n",
    "failed_count = len(alltransfers)-success_count\n",
    "completed_count = len(allcompleted)\n",
    "\n",
    "failure_rate = (failed_count/transfer_count)*100\n",
    "beyond_8day_sla_rate = (slas[SlaBand.BEYOND_8_DAYS]/transfer_count)*100\n",
    "not_completed_rate = 100-(completed_count/transfer_count)*100\n"
   ]
  },
  {
   "cell_type": "code",
   "execution_count": 19,
   "metadata": {},
   "outputs": [
    {
     "output_type": "stream",
     "name": "stdout",
     "text": [
      "{'total_transfers': 199886, 'total_completed': 183600, 'total_within_8_day_sla': 173749, 'total_beyond_8_day_sla': 173749, 'percent_not_completed': 8.14764415716958, 'percent_completed_beyond_8_day_sla': 4.9283091362076386, 'percent_triggering_paper_transfer': 13.075953293377218}\n"
     ]
    }
   ],
   "source": [
    "if abs(((failed_count/transfer_count)*100) - (beyond_8day_sla_rate+not_completed_rate)) > 0.001:\n",
    "    print(((failed_count/transfer_count)*100)-(beyond_8day_sla_rate+not_completed_rate))\n",
    "    print(\"Error: Falure rate not equal to beyond_8_day plus not_completed\")\n",
    "\n",
    "result = {\"total_transfers\": transfer_count, \n",
    "            \"total_completed\": completed_count,\n",
    "            \"total_within_8_day_sla\": slas[SlaBand.WITHIN_8_DAYS], \n",
    "            \"total_beyond_8_day_sla\": slas[SlaBand.WITHIN_8_DAYS], \n",
    "            \"percent_not_completed\": not_completed_rate,\n",
    "            \"percent_completed_beyond_8_day_sla\": beyond_8day_sla_rate,\n",
    "            \"percent_triggering_paper_transfer\": not_completed_rate+beyond_8day_sla_rate\n",
    "            }\n",
    "\n",
    "print(result)"
   ]
  }
 ]
}