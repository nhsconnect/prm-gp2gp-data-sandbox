{
 "metadata": {
  "language_info": {
   "codemirror_mode": {
    "name": "ipython",
    "version": 3
   },
   "file_extension": ".py",
   "mimetype": "text/x-python",
   "name": "python",
   "nbconvert_exporter": "python",
   "pygments_lexer": "ipython3",
   "version": "3.8.1-final"
  },
  "orig_nbformat": 2,
  "kernelspec": {
   "name": "python3",
   "display_name": "Python 3.8.1 64-bit ('venv')",
   "metadata": {
    "interpreter": {
     "hash": "ee89a30b763cf696c0267df6abaef35a51c05068e06c7df11fe54a439e919a16"
    }
   }
  }
 },
 "nbformat": 4,
 "nbformat_minor": 2,
 "cells": [
  {
   "source": [
    "\n",
    "# GP2GP Technical Error Counts - Feb, Sept and Oct 2020\n",
    "\n",
    "Context:\n",
    "\n",
    "JGPIT Futures would like to know the current impact/size of the problem of paper processing as a result of GP2GP failures. \n",
    "Finding the totals of technical failures involves calculating, for each month:\n",
    "- the total number of transfers\n",
    "- the total number of successful transfers completed within 8 days SLA\n",
    "- the total number of successful transfers completed beyond 8 days SLA\n",
    "- the total number of technical errors\n",
    "- the total number of other process/tech errors\n",
    "\n",
    "Assumptions:\n",
    "\n",
    "We defined technical errors as:\n",
    "- conversations that have completed but there is an error code in the final Application Acknowledgement Message MCCI_IN010000UK13 of the RCMR_IN030000UK06 Request Started message.\n",
    "- conversations that are still pending (i.e. no final Application Acknowledgement Message MCCI_IN010000UK13 of the RCMR_IN030000UK06 Request Started message received within the following month), and have error codes in any of the intermediate messages (for example any other MCCI_IN010000UK13 Application Acknowledgement  Messages.\n",
    "\n",
    "We defined other process/tech errors as:\n",
    "- As conversations that are still pending (i.e. there is no final Application Acknowledgement Message MCCI_IN010000UK13 of the RCMR_IN030000UK06 Request Started message received within the following month) and without any errors\n",
    "\n",
    "Requirements:\n",
    "\n",
    "This notebook uses the following Splunk query, where we obtained data from entire month of Feburary 2020, March 2020, September 2020 and October 2020 and from the 1st to 25th November 2020:\n",
    "```\n",
    "index=\"spine2vfmmonitor\" service=\"gp2gp\"\n",
    "| search interactionID=\"urn:nhs:names:services:gp2gp/*\"\n",
    "| rex field=fromPartyID \"(?<fromNACS>.+)(-\\d*)\"\n",
    "| rex field=toPartyID \"(?<toNACS>.+)(-\\d*)\"\n",
    "| fields _time, conversationID, GUID, interactionID, fromNACS, toNACS, messageRef, jdiEvent\n",
    "| fields - _raw\n",
    "```"
   ],
   "cell_type": "markdown",
   "metadata": {}
  },
  {
   "cell_type": "code",
   "execution_count": 1,
   "metadata": {},
   "outputs": [],
   "source": [
    "import pandas as pd\n",
    "from matplotlib import pyplot as plt"
   ]
  },
  {
   "cell_type": "code",
   "execution_count": 2,
   "metadata": {},
   "outputs": [],
   "source": [
    "import paths\n",
    "from datetime import datetime\n",
    "from dateutil.tz import tzutc\n",
    "\n",
    "from gp2gp.date.range import DateTimeRange\n",
    "from scripts.gp2gp_spine_outcomes import calculate_counts\n"
   ]
  },
  {
   "cell_type": "code",
   "execution_count": 4,
   "metadata": {},
   "outputs": [],
   "source": [
    "february_data_file_name=\"../data/months/Feb-2020.csv.gz\"\n",
    "march_data_file_name = \"../data/months/Mar-2020.csv.gz\"\n",
    "september_data_file_name=\"../data/months/Sept-2020.csv.gz\"\n",
    "october_data_file_name = \"../data/months/Oct-2020.csv.gz\"\n",
    "november_data_file_name = \"../data/months/Nov-2020.csv.gz\""
   ]
  },
  {
   "cell_type": "code",
   "execution_count": 5,
   "metadata": {
    "tags": []
   },
   "outputs": [],
   "source": [
    "february_time_range = DateTimeRange(\n",
    "    datetime(year=2020, month=2, day=1, tzinfo=tzutc()),\n",
    "    datetime(year=2020, month=3, day=1, tzinfo=tzutc()),\n",
    ")\n",
    "\n",
    "february_transfer_outcomes = calculate_counts(february_data_file_name, march_data_file_name, february_time_range)"
   ]
  },
  {
   "cell_type": "code",
   "execution_count": 6,
   "metadata": {
    "tags": []
   },
   "outputs": [],
   "source": [
    "september_time_range = DateTimeRange(\n",
    "    datetime(year=2020, month=9, day=1, tzinfo=tzutc()),\n",
    "    datetime(year=2020, month=10, day=1, tzinfo=tzutc()),\n",
    ")\n",
    "\n",
    "september_transfer_outcomes = calculate_counts(september_data_file_name, october_data_file_name, september_time_range)"
   ]
  },
  {
   "cell_type": "code",
   "execution_count": 9,
   "metadata": {
    "tags": []
   },
   "outputs": [],
   "source": [
    "october_time_range = DateTimeRange(\n",
    "    datetime(year=2020, month=10, day=1, tzinfo=tzutc()),\n",
    "    datetime(year=2020, month=11, day=1, tzinfo=tzutc()),\n",
    ")\n",
    "\n",
    "october_transfer_outcomes = calculate_counts(october_data_file_name, november_data_file_name, october_time_range)"
   ]
  },
  {
   "cell_type": "code",
   "execution_count": 12,
   "metadata": {},
   "outputs": [
    {
     "output_type": "execute_result",
     "data": {
      "text/plain": [
       "           COMPLETED - WITHIN 8 DAYS  \\\n",
       "months                                 \n",
       "February                      175517   \n",
       "September                     236905   \n",
       "October                       205238   \n",
       "\n",
       "           DIDN'T COMPLETE - ERROR MID CONVERSATION  DIDN'T COMPLETE - STUCK  \\\n",
       "months                                                                         \n",
       "February                                       4384                     6329   \n",
       "September                                      5488                     8096   \n",
       "October                                        4847                     6826   \n",
       "\n",
       "           COMPLETED - ERROR IN FINAL ACK  COMPLETED - BEYOND 8 DAYS  \n",
       "months                                                                \n",
       "February                             3559                      10097  \n",
       "September                            5737                      17439  \n",
       "October                              4837                      12668  "
      ],
      "text/html": "<div>\n<style scoped>\n    .dataframe tbody tr th:only-of-type {\n        vertical-align: middle;\n    }\n\n    .dataframe tbody tr th {\n        vertical-align: top;\n    }\n\n    .dataframe thead th {\n        text-align: right;\n    }\n</style>\n<table border=\"1\" class=\"dataframe\">\n  <thead>\n    <tr style=\"text-align: right;\">\n      <th></th>\n      <th>COMPLETED - WITHIN 8 DAYS</th>\n      <th>DIDN'T COMPLETE - ERROR MID CONVERSATION</th>\n      <th>DIDN'T COMPLETE - STUCK</th>\n      <th>COMPLETED - ERROR IN FINAL ACK</th>\n      <th>COMPLETED - BEYOND 8 DAYS</th>\n    </tr>\n    <tr>\n      <th>months</th>\n      <th></th>\n      <th></th>\n      <th></th>\n      <th></th>\n      <th></th>\n    </tr>\n  </thead>\n  <tbody>\n    <tr>\n      <th>February</th>\n      <td>175517</td>\n      <td>4384</td>\n      <td>6329</td>\n      <td>3559</td>\n      <td>10097</td>\n    </tr>\n    <tr>\n      <th>September</th>\n      <td>236905</td>\n      <td>5488</td>\n      <td>8096</td>\n      <td>5737</td>\n      <td>17439</td>\n    </tr>\n    <tr>\n      <th>October</th>\n      <td>205238</td>\n      <td>4847</td>\n      <td>6826</td>\n      <td>4837</td>\n      <td>12668</td>\n    </tr>\n  </tbody>\n</table>\n</div>"
     },
     "metadata": {},
     "execution_count": 12
    }
   ],
   "source": [
    "transfer_outcomes_df = pd.DataFrame.from_dict([february_transfer_outcomes, september_transfer_outcomes, october_transfer_outcomes])\n",
    "transfer_outcomes_df[\"months\"] = [\"February\", \"September\", \"October\"]\n",
    "transfer_outcomes_df = transfer_outcomes_df.set_index(\"months\")\n",
    "transfer_outcomes_df"
   ]
  },
  {
   "cell_type": "code",
   "execution_count": 13,
   "metadata": {},
   "outputs": [
    {
     "output_type": "execute_result",
     "data": {
      "text/plain": [
       "           TOTAL TRANSFERS  TOTAL INTEGRATED  INTEGRATED WITHIN 8 DAYS  \\\n",
       "months                                                                   \n",
       "February            199886            185614                    175517   \n",
       "September           273665            254344                    236905   \n",
       "October             234416            217906                    205238   \n",
       "\n",
       "           PAPER FALLBACK  INTEGRATED BEYOND 8 DAYS  TECHNICAL ERRORS  \\\n",
       "months                                                                  \n",
       "February            24369                     10097              7943   \n",
       "September           36760                     17439             11225   \n",
       "October             29178                     12668              9684   \n",
       "\n",
       "           OTHER PROCESS/TECH ERRORS  \n",
       "months                                \n",
       "February                        6329  \n",
       "September                       8096  \n",
       "October                         6826  "
      ],
      "text/html": "<div>\n<style scoped>\n    .dataframe tbody tr th:only-of-type {\n        vertical-align: middle;\n    }\n\n    .dataframe tbody tr th {\n        vertical-align: top;\n    }\n\n    .dataframe thead th {\n        text-align: right;\n    }\n</style>\n<table border=\"1\" class=\"dataframe\">\n  <thead>\n    <tr style=\"text-align: right;\">\n      <th></th>\n      <th>TOTAL TRANSFERS</th>\n      <th>TOTAL INTEGRATED</th>\n      <th>INTEGRATED WITHIN 8 DAYS</th>\n      <th>PAPER FALLBACK</th>\n      <th>INTEGRATED BEYOND 8 DAYS</th>\n      <th>TECHNICAL ERRORS</th>\n      <th>OTHER PROCESS/TECH ERRORS</th>\n    </tr>\n    <tr>\n      <th>months</th>\n      <th></th>\n      <th></th>\n      <th></th>\n      <th></th>\n      <th></th>\n      <th></th>\n      <th></th>\n    </tr>\n  </thead>\n  <tbody>\n    <tr>\n      <th>February</th>\n      <td>199886</td>\n      <td>185614</td>\n      <td>175517</td>\n      <td>24369</td>\n      <td>10097</td>\n      <td>7943</td>\n      <td>6329</td>\n    </tr>\n    <tr>\n      <th>September</th>\n      <td>273665</td>\n      <td>254344</td>\n      <td>236905</td>\n      <td>36760</td>\n      <td>17439</td>\n      <td>11225</td>\n      <td>8096</td>\n    </tr>\n    <tr>\n      <th>October</th>\n      <td>234416</td>\n      <td>217906</td>\n      <td>205238</td>\n      <td>29178</td>\n      <td>12668</td>\n      <td>9684</td>\n      <td>6826</td>\n    </tr>\n  </tbody>\n</table>\n</div>"
     },
     "metadata": {},
     "execution_count": 13
    }
   ],
   "source": [
    "transfer_outcomes_df[\"TECHNICAL ERRORS\"] = transfer_outcomes_df[\"DIDN'T COMPLETE - ERROR MID CONVERSATION\"] + transfer_outcomes_df[\"COMPLETED - ERROR IN FINAL ACK\"]\n",
    "del transfer_outcomes_df[\"DIDN'T COMPLETE - ERROR MID CONVERSATION\"]\n",
    "del transfer_outcomes_df[\"COMPLETED - ERROR IN FINAL ACK\"]\n",
    "\n",
    "transfer_outcomes_df[\"TOTAL TRANSFERS\"] = transfer_outcomes_df.sum(axis=1)\n",
    "\n",
    "transfer_outcomes_df[\"TOTAL INTEGRATED\"] = transfer_outcomes_df[\"COMPLETED - WITHIN 8 DAYS\"] + transfer_outcomes_df[\"COMPLETED - BEYOND 8 DAYS\"]\n",
    "\n",
    "transfer_outcomes_df[\"PAPER FALLBACK\"] = transfer_outcomes_df[\"COMPLETED - BEYOND 8 DAYS\"] + transfer_outcomes_df[\"TECHNICAL ERRORS\"] + transfer_outcomes_df[\"DIDN'T COMPLETE - STUCK\"]\n",
    "\n",
    "transfer_outcomes_df.rename(columns={\"COMPLETED - WITHIN 8 DAYS\": \"INTEGRATED WITHIN 8 DAYS\", \"COMPLETED - BEYOND 8 DAYS\": \"INTEGRATED BEYOND 8 DAYS\", \"DIDN'T COMPLETE - STUCK\": \"OTHER PROCESS/TECH ERRORS\"}, inplace=True)\n",
    "\n",
    "transfer_outcomes_df = transfer_outcomes_df[[\"TOTAL TRANSFERS\", \"TOTAL INTEGRATED\", \"INTEGRATED WITHIN 8 DAYS\", \"PAPER FALLBACK\", \"INTEGRATED BEYOND 8 DAYS\", \"TECHNICAL ERRORS\", \"OTHER PROCESS/TECH ERRORS\"]]\n",
    "\n",
    "transfer_outcomes_df"
   ]
  },
  {
   "cell_type": "code",
   "execution_count": 34,
   "metadata": {},
   "outputs": [
    {
     "output_type": "execute_result",
     "data": {
      "text/plain": [
       "           TOTAL INTEGRATED (%)  INTEGRATED WITHIN 8 DAYS (%)  \\\n",
       "months                                                          \n",
       "February                  92.86                         87.81   \n",
       "September                 92.94                         86.57   \n",
       "October                   92.96                         87.55   \n",
       "\n",
       "           PAPER FALLBACK (%)  INTEGRATED BEYOND 8 DAYS (%)  \\\n",
       "months                                                        \n",
       "February                12.19                          5.05   \n",
       "September               13.43                          6.37   \n",
       "October                 12.45                          5.40   \n",
       "\n",
       "           TECHNICAL ERRORS (%)  OTHER PROCESS/TECH ERRORS (%)  \n",
       "months                                                          \n",
       "February                   3.97                           3.17  \n",
       "September                  4.10                           2.96  \n",
       "October                    4.13                           2.91  "
      ],
      "text/html": "<div>\n<style scoped>\n    .dataframe tbody tr th:only-of-type {\n        vertical-align: middle;\n    }\n\n    .dataframe tbody tr th {\n        vertical-align: top;\n    }\n\n    .dataframe thead th {\n        text-align: right;\n    }\n</style>\n<table border=\"1\" class=\"dataframe\">\n  <thead>\n    <tr style=\"text-align: right;\">\n      <th></th>\n      <th>TOTAL INTEGRATED (%)</th>\n      <th>INTEGRATED WITHIN 8 DAYS (%)</th>\n      <th>PAPER FALLBACK (%)</th>\n      <th>INTEGRATED BEYOND 8 DAYS (%)</th>\n      <th>TECHNICAL ERRORS (%)</th>\n      <th>OTHER PROCESS/TECH ERRORS (%)</th>\n    </tr>\n    <tr>\n      <th>months</th>\n      <th></th>\n      <th></th>\n      <th></th>\n      <th></th>\n      <th></th>\n      <th></th>\n    </tr>\n  </thead>\n  <tbody>\n    <tr>\n      <th>February</th>\n      <td>92.86</td>\n      <td>87.81</td>\n      <td>12.19</td>\n      <td>5.05</td>\n      <td>3.97</td>\n      <td>3.17</td>\n    </tr>\n    <tr>\n      <th>September</th>\n      <td>92.94</td>\n      <td>86.57</td>\n      <td>13.43</td>\n      <td>6.37</td>\n      <td>4.10</td>\n      <td>2.96</td>\n    </tr>\n    <tr>\n      <th>October</th>\n      <td>92.96</td>\n      <td>87.55</td>\n      <td>12.45</td>\n      <td>5.40</td>\n      <td>4.13</td>\n      <td>2.91</td>\n    </tr>\n  </tbody>\n</table>\n</div>"
     },
     "metadata": {},
     "execution_count": 34
    }
   ],
   "source": [
    "outcome_percentages_df = transfer_outcomes_df.iloc[:, 1:].apply(lambda x: x / transfer_outcomes_df.iloc[:, 0] * 100)\n",
    "\n",
    "outcome_percentages_df = outcome_percentages_df.add_suffix(' (%)')\n",
    "\n",
    "outcome_percentages_df.round(2)"
   ]
  },
  {
   "cell_type": "code",
   "execution_count": null,
   "metadata": {},
   "outputs": [],
   "source": []
  }
 ]
}