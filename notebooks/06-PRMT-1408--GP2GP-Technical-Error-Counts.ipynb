{
 "metadata": {
  "language_info": {
   "codemirror_mode": {
    "name": "ipython",
    "version": 3
   },
   "file_extension": ".py",
   "mimetype": "text/x-python",
   "name": "python",
   "nbconvert_exporter": "python",
   "pygments_lexer": "ipython3",
   "version": "3.8.1-final"
  },
  "orig_nbformat": 2,
  "kernelspec": {
   "name": "python3",
   "display_name": "Python 3.8.1 64-bit ('venv')",
   "metadata": {
    "interpreter": {
     "hash": "426d3cea9478f76cbda040767bf32b2b0b785fb2fbb5306c7bfa712622301487"
    }
   }
  }
 },
 "nbformat": 4,
 "nbformat_minor": 2,
 "cells": [
  {
   "source": [
    "\n",
    "GP2GP Technical Error Counts - Feb, Sept and Oct 2020\n",
    "\n",
    "Context:\n",
    "\n",
    "JGPIT Futures would like to know the current impact/size of the problem of paper processing as a result of GP2GP failures. \n",
    "Finding the totals of technical failures involves calculating, for each month:\n",
    "- the total number of transfers\n",
    "- the total number of successful transfers completed within 8 days SLA\n",
    "- the total number of successful transfers completed beyond 8 days SLA\n",
    "- the total number of technical errors\n",
    "- the total number of other process/tech errors\n",
    "\n",
    "Assumptions:\n",
    "\n",
    "We defined technical errors as:\n",
    "- conversations that have completed but there is an error code in the final Application Acknowledgement Message MCCI_IN010000UK13 of the RCMR_IN030000UK06 Request Started message.\n",
    "- conversations that are still pending (i.e. no final Application Acknowledgement Message MCCI_IN010000UK13 of the RCMR_IN030000UK06 Request Started message received within the following month), and have error codes in any of the intermediate messages (for example any other MCCI_IN010000UK13 Application Acknowledgement  Messages.\n",
    "\n",
    "We defined other process/tech errors as:\n",
    "- As conversations that are still pending (i.e. there is no final Application Acknowledgement Message MCCI_IN010000UK13 of the RCMR_IN030000UK06 Request Started message received within the following month) and without any errors\n",
    "\n",
    "Requirements:\n",
    "\n",
    "This notebook uses the following Splunk query, where we obtained data from entire month of Feburary 2020, March 2020, September 2020 and October 2020 and from the 1st to 25th November 2020:\n",
    "```\n",
    "index=\"spine2vfmmonitor\" service=\"gp2gp\"\n",
    "| search interactionID=\"urn:nhs:names:services:gp2gp/*\"\n",
    "| rex field=fromPartyID \"(?<fromNACS>.+)(-\\d*)\"\n",
    "| rex field=toPartyID \"(?<toNACS>.+)(-\\d*)\"\n",
    "| fields _time, conversationID, GUID, interactionID, fromNACS, toNACS, messageRef, jdiEvent\n",
    "| fields - _raw\n",
    "```"
   ],
   "cell_type": "markdown",
   "metadata": {}
  },
  {
   "cell_type": "code",
   "execution_count": 1,
   "metadata": {},
   "outputs": [],
   "source": [
    "import paths\n",
    "from datetime import datetime\n",
    "from dateutil.tz import tzutc\n",
    "\n",
    "from gp2gp.date.range import DateTimeRange\n",
    "from scripts.gp2gp_spine_outcomes import calculate_counts\n"
   ]
  },
  {
   "cell_type": "code",
   "execution_count": 2,
   "metadata": {},
   "outputs": [],
   "source": [
    "february_data_file_name=\"../data/months/Feb-2020.csv.gz\"\n",
    "march_data_file_name = \"../data/months/Mar-2020.csv.gz\"\n",
    "september_data_file_name=\"../data/months/Sept-2020.csv.gz\"\n",
    "october_data_file_name = \"../data/months/Oct-2020.csv.gz\"\n",
    "november_data_file_name = \"../data/months/Nov-2020-partial.csv.gz\""
   ]
  },
  {
   "cell_type": "code",
   "execution_count": 3,
   "metadata": {
    "tags": []
   },
   "outputs": [
    {
     "output_type": "stream",
     "name": "stdout",
     "text": [
      "FEBRUARY 2020 COUNTS\n",
      "defaultdict(<class 'int'>, {'COMPLETED - WITHIN 8 DAYS': 175517, \"DIDN'T COMPLETE - ERROR MID CONVERSATION\": 4384, \"DIDN'T COMPLETE - STUCK\": 6329, 'COMPLETED - ERROR IN FINAL ACK': 3559, 'COMPLETED - BEYOND 8 DAYS': 10097})\n"
     ]
    }
   ],
   "source": [
    "february_time_range = DateTimeRange(\n",
    "    datetime(year=2020, month=2, day=1, tzinfo=tzutc()),\n",
    "    datetime(year=2020, month=3, day=1, tzinfo=tzutc()),\n",
    ")\n",
    "print(\"FEBRUARY 2020 COUNTS\")\n",
    "calculate_counts(february_data_file_name, march_data_file_name, february_time_range)"
   ]
  },
  {
   "cell_type": "code",
   "execution_count": 4,
   "metadata": {},
   "outputs": [
    {
     "output_type": "stream",
     "name": "stdout",
     "text": [
      "SEPTEMBER 2020 COUNTS\n",
      "defaultdict(<class 'int'>, {\"DIDN'T COMPLETE - STUCK\": 8096, 'COMPLETED - WITHIN 8 DAYS': 236905, 'COMPLETED - ERROR IN FINAL ACK': 5737, 'COMPLETED - BEYOND 8 DAYS': 17439, \"DIDN'T COMPLETE - ERROR MID CONVERSATION\": 5488})\n"
     ]
    }
   ],
   "source": [
    "september_time_range = DateTimeRange(\n",
    "    datetime(year=2020, month=9, day=1, tzinfo=tzutc()),\n",
    "    datetime(year=2020, month=10, day=1, tzinfo=tzutc()),\n",
    ")\n",
    "print(\"SEPTEMBER 2020 COUNTS\")\n",
    "calculate_counts(september_data_file_name, october_data_file_name, september_time_range)"
   ]
  },
  {
   "cell_type": "code",
   "execution_count": 5,
   "metadata": {},
   "outputs": [
    {
     "output_type": "stream",
     "name": "stdout",
     "text": [
      "OCTOBER 2020 COUNTS\n",
      "defaultdict(<class 'int'>, {'COMPLETED - WITHIN 8 DAYS': 205233, \"DIDN'T COMPLETE - ERROR MID CONVERSATION\": 4847, \"DIDN'T COMPLETE - STUCK\": 6930, 'COMPLETED - BEYOND 8 DAYS': 12564, 'COMPLETED - ERROR IN FINAL ACK': 4842})\n"
     ]
    }
   ],
   "source": [
    "october_time_range = DateTimeRange(\n",
    "    datetime(year=2020, month=10, day=1, tzinfo=tzutc()),\n",
    "    datetime(year=2020, month=11, day=1, tzinfo=tzutc()),\n",
    ")\n",
    "print(\"OCTOBER 2020 COUNTS\")\n",
    "# Note November 2020 data is only up to 25th November 2020\n",
    "calculate_counts(october_data_file_name, november_data_file_name, october_time_range)"
   ]
  }
 ]
}