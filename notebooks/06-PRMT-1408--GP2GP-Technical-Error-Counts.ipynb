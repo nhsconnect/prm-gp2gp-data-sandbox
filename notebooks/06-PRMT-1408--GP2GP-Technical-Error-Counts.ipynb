{
 "cells": [
  {
   "source": [
    "\n",
    "# GP2GP Technical Error Counts - Jan 2020 to Oct 2020\n",
    "\n",
    "Context:\n",
    "\n",
    "JGPIT Futures would like to know the current impact/size of the problem of paper processing as a result of GP2GP failures. \n",
    "Finding the totals of technical failures involves calculating, for each month:\n",
    "- the total number of transfers\n",
    "- the total number of successful transfers completed within 8 days SLA\n",
    "- the total number of successful transfers completed beyond 8 days SLA\n",
    "- the total number of technical errors\n",
    "- the total number of other process/tech errors\n",
    "\n",
    "Assumptions:\n",
    "\n",
    "We defined technical errors as:\n",
    "- conversations that have completed but there is an error code in the final Application Acknowledgement Message MCCI_IN010000UK13 of the RCMR_IN030000UK06 Request Started message.\n",
    "- conversations that are still pending (i.e. no final Application Acknowledgement Message MCCI_IN010000UK13 of the RCMR_IN030000UK06 Request Started message received within the following month), and have error codes in any of the intermediate messages (for example any other MCCI_IN010000UK13 Application Acknowledgement  Messages.\n",
    "\n",
    "We defined other process/tech errors as:\n",
    "- As conversations that are still pending (i.e. there is no final Application Acknowledgement Message MCCI_IN010000UK13 of the RCMR_IN030000UK06 Request Started message received within the following month) and without any errors\n",
    "\n",
    "Requirements:\n",
    "\n",
    "This notebook uses the following Splunk query, where we obtained data from entire months of January 2020, Feburary 2020, March 2020, April 2020, May 2020, June 2020, July 2020, August 2020, September 2020, October 2020 and November 2020:\n",
    "```\n",
    "index=\"spine2vfmmonitor\" service=\"gp2gp\"\n",
    "| search interactionID=\"urn:nhs:names:services:gp2gp/*\"\n",
    "| rex field=fromPartyID \"(?<fromNACS>.+)(-\\d*)\"\n",
    "| rex field=toPartyID \"(?<toNACS>.+)(-\\d*)\"\n",
    "| fields _time, conversationID, GUID, interactionID, fromNACS, toNACS, messageRef, jdiEvent\n",
    "| fields - _raw\n",
    "```\n",
    "\n",
    "`gzip filename` to create the <month>.csv.gz files  "
   ],
   "cell_type": "markdown",
   "metadata": {}
  },
  {
   "cell_type": "code",
   "execution_count": 1,
   "metadata": {},
   "outputs": [],
   "source": [
    "import pandas as pd\n",
    "from matplotlib import pyplot as plt"
   ]
  },
  {
   "cell_type": "code",
   "execution_count": 2,
   "metadata": {},
   "outputs": [],
   "source": [
    "import paths\n",
    "from datetime import datetime\n",
    "from dateutil.tz import tzutc\n",
    "\n",
    "from gp2gp.date.range import DateTimeRange\n",
    "from scripts.gp2gp_spine_outcomes import calculate_counts"
   ]
  },
  {
   "cell_type": "code",
   "execution_count": 3,
   "metadata": {},
   "outputs": [],
   "source": [
    "january_data_file_name=\"../data/months/Jan-2020.csv.gz\"\n",
    "february_data_file_name=\"../data/months/Feb-2020.csv.gz\"\n",
    "march_data_file_name = \"../data/months/Mar-2020.csv.gz\"\n",
    "april_data_file_name = \"../data/months/Apr-2020.csv.gz\"\n",
    "may_data_file_name = \"../data/months/May-2020.csv.gz\"\n",
    "june_data_file_name = \"../data/months/Jun-2020.csv.gz\"\n",
    "july_data_file_name = \"../data/months/July-2020.csv.gz\"\n",
    "august_data_file_name = \"../data/months/Aug-2020.csv.gz\"\n",
    "september_data_file_name=\"../data/months/Sept-2020.csv.gz\"\n",
    "october_data_file_name = \"../data/months/Oct-2020.csv.gz\"\n",
    "november_data_file_name = \"../data/months/Nov-2020.csv.gz\""
   ]
  },
  {
   "cell_type": "code",
   "execution_count": 4,
   "metadata": {},
   "outputs": [],
   "source": [
    "january_time_range = DateTimeRange(\n",
    "    datetime(year=2020, month=1, day=1, tzinfo=tzutc()),\n",
    "    datetime(year=2020, month=2, day=1, tzinfo=tzutc()),\n",
    ")\n",
    "\n",
    "january_transfer_outcomes = calculate_counts(january_data_file_name, february_data_file_name, january_time_range)"
   ]
  },
  {
   "cell_type": "code",
   "execution_count": 5,
   "metadata": {
    "tags": []
   },
   "outputs": [],
   "source": [
    "february_time_range = DateTimeRange(\n",
    "    datetime(year=2020, month=2, day=1, tzinfo=tzutc()),\n",
    "    datetime(year=2020, month=3, day=1, tzinfo=tzutc()),\n",
    ")\n",
    "\n",
    "february_transfer_outcomes = calculate_counts(february_data_file_name, march_data_file_name, february_time_range)"
   ]
  },
  {
   "cell_type": "code",
   "execution_count": 6,
   "metadata": {},
   "outputs": [],
   "source": [
    "march_time_range = DateTimeRange(\n",
    "    datetime(year=2020, month=3, day=1, tzinfo=tzutc()),\n",
    "    datetime(year=2020, month=4, day=1, tzinfo=tzutc()),\n",
    ")\n",
    "\n",
    "march_transfer_outcomes = calculate_counts(march_data_file_name, april_data_file_name, march_time_range)"
   ]
  },
  {
   "cell_type": "code",
   "execution_count": 7,
   "metadata": {},
   "outputs": [],
   "source": [
    "april_time_range = DateTimeRange(\n",
    "    datetime(year=2020, month=4, day=1, tzinfo=tzutc()),\n",
    "    datetime(year=2020, month=5, day=1, tzinfo=tzutc()),\n",
    ")\n",
    "\n",
    "april_transfer_outcomes = calculate_counts(april_data_file_name, may_data_file_name, april_time_range)"
   ]
  },
  {
   "cell_type": "code",
   "execution_count": 8,
   "metadata": {},
   "outputs": [],
   "source": [
    "may_time_range = DateTimeRange(\n",
    "    datetime(year=2020, month=5, day=1, tzinfo=tzutc()),\n",
    "    datetime(year=2020, month=6, day=1, tzinfo=tzutc()),\n",
    ")\n",
    "\n",
    "may_transfer_outcomes = calculate_counts(may_data_file_name, june_data_file_name, may_time_range)"
   ]
  },
  {
   "cell_type": "code",
   "execution_count": 9,
   "metadata": {},
   "outputs": [],
   "source": [
    "june_time_range = DateTimeRange(\n",
    "    datetime(year=2020, month=6, day=1, tzinfo=tzutc()),\n",
    "    datetime(year=2020, month=7, day=1, tzinfo=tzutc()),\n",
    ")\n",
    "\n",
    "june_transfer_outcomes = calculate_counts(june_data_file_name, july_data_file_name, june_time_range)"
   ]
  },
  {
   "cell_type": "code",
   "execution_count": 10,
   "metadata": {},
   "outputs": [],
   "source": [
    "july_time_range = DateTimeRange(\n",
    "    datetime(year=2020, month=7, day=1, tzinfo=tzutc()),\n",
    "    datetime(year=2020, month=8, day=1, tzinfo=tzutc()),\n",
    ")\n",
    "\n",
    "july_transfer_outcomes = calculate_counts(july_data_file_name, august_data_file_name, july_time_range)"
   ]
  },
  {
   "cell_type": "code",
   "execution_count": 11,
   "metadata": {},
   "outputs": [],
   "source": [
    "august_time_range = DateTimeRange(\n",
    "    datetime(year=2020, month=8, day=1, tzinfo=tzutc()),\n",
    "    datetime(year=2020, month=9, day=1, tzinfo=tzutc()),\n",
    ")\n",
    "\n",
    "august_transfer_outcomes = calculate_counts(august_data_file_name, september_data_file_name, august_time_range)"
   ]
  },
  {
   "cell_type": "code",
   "execution_count": 13,
   "metadata": {
    "tags": []
   },
   "outputs": [],
   "source": [
    "september_time_range = DateTimeRange(\n",
    "    datetime(year=2020, month=9, day=1, tzinfo=tzutc()),\n",
    "    datetime(year=2020, month=10, day=1, tzinfo=tzutc()),\n",
    ")\n",
    "\n",
    "september_transfer_outcomes = calculate_counts(september_data_file_name, october_data_file_name, september_time_range)"
   ]
  },
  {
   "cell_type": "code",
   "execution_count": 14,
   "metadata": {
    "tags": []
   },
   "outputs": [],
   "source": [
    "october_time_range = DateTimeRange(\n",
    "    datetime(year=2020, month=10, day=1, tzinfo=tzutc()),\n",
    "    datetime(year=2020, month=11, day=1, tzinfo=tzutc()),\n",
    ")\n",
    "\n",
    "october_transfer_outcomes = calculate_counts(october_data_file_name, november_data_file_name, october_time_range)"
   ]
  },
  {
   "cell_type": "code",
   "execution_count": 15,
   "metadata": {},
   "outputs": [
    {
     "output_type": "execute_result",
     "data": {
      "text/plain": [
       "           DIDN'T COMPLETE - ERROR MID CONVERSATION  \\\n",
       "months                                                \n",
       "January                                        5234   \n",
       "February                                       4384   \n",
       "March                                          3617   \n",
       "April                                          2293   \n",
       "May                                            2330   \n",
       "June                                           3270   \n",
       "July                                           4012   \n",
       "August                                         3839   \n",
       "September                                      5488   \n",
       "October                                        4845   \n",
       "\n",
       "           COMPLETED - WITHIN 8 DAYS  COMPLETED - ERROR IN FINAL ACK  \\\n",
       "months                                                                 \n",
       "January                       205375                            4133   \n",
       "February                      175517                            3559   \n",
       "March                         153099                            3495   \n",
       "April                          77236                            2001   \n",
       "May                            75461                            1910   \n",
       "June                          112464                            2995   \n",
       "July                          144487                            3570   \n",
       "August                        142943                            3633   \n",
       "September                     236905                            5737   \n",
       "October                       205238                            4840   \n",
       "\n",
       "           DIDN'T COMPLETE - STUCK  COMPLETED - BEYOND 8 DAYS  \n",
       "months                                                         \n",
       "January                       7235                      12232  \n",
       "February                      6329                      10097  \n",
       "March                         5512                      12261  \n",
       "April                         3549                       4745  \n",
       "May                           2699                       4014  \n",
       "June                          3687                       5588  \n",
       "July                          4893                       8107  \n",
       "August                        4835                      10370  \n",
       "September                     8096                      17439  \n",
       "October                       6759                      12734  "
      ],
      "text/html": "<div>\n<style scoped>\n    .dataframe tbody tr th:only-of-type {\n        vertical-align: middle;\n    }\n\n    .dataframe tbody tr th {\n        vertical-align: top;\n    }\n\n    .dataframe thead th {\n        text-align: right;\n    }\n</style>\n<table border=\"1\" class=\"dataframe\">\n  <thead>\n    <tr style=\"text-align: right;\">\n      <th></th>\n      <th>DIDN'T COMPLETE - ERROR MID CONVERSATION</th>\n      <th>COMPLETED - WITHIN 8 DAYS</th>\n      <th>COMPLETED - ERROR IN FINAL ACK</th>\n      <th>DIDN'T COMPLETE - STUCK</th>\n      <th>COMPLETED - BEYOND 8 DAYS</th>\n    </tr>\n    <tr>\n      <th>months</th>\n      <th></th>\n      <th></th>\n      <th></th>\n      <th></th>\n      <th></th>\n    </tr>\n  </thead>\n  <tbody>\n    <tr>\n      <th>January</th>\n      <td>5234</td>\n      <td>205375</td>\n      <td>4133</td>\n      <td>7235</td>\n      <td>12232</td>\n    </tr>\n    <tr>\n      <th>February</th>\n      <td>4384</td>\n      <td>175517</td>\n      <td>3559</td>\n      <td>6329</td>\n      <td>10097</td>\n    </tr>\n    <tr>\n      <th>March</th>\n      <td>3617</td>\n      <td>153099</td>\n      <td>3495</td>\n      <td>5512</td>\n      <td>12261</td>\n    </tr>\n    <tr>\n      <th>April</th>\n      <td>2293</td>\n      <td>77236</td>\n      <td>2001</td>\n      <td>3549</td>\n      <td>4745</td>\n    </tr>\n    <tr>\n      <th>May</th>\n      <td>2330</td>\n      <td>75461</td>\n      <td>1910</td>\n      <td>2699</td>\n      <td>4014</td>\n    </tr>\n    <tr>\n      <th>June</th>\n      <td>3270</td>\n      <td>112464</td>\n      <td>2995</td>\n      <td>3687</td>\n      <td>5588</td>\n    </tr>\n    <tr>\n      <th>July</th>\n      <td>4012</td>\n      <td>144487</td>\n      <td>3570</td>\n      <td>4893</td>\n      <td>8107</td>\n    </tr>\n    <tr>\n      <th>August</th>\n      <td>3839</td>\n      <td>142943</td>\n      <td>3633</td>\n      <td>4835</td>\n      <td>10370</td>\n    </tr>\n    <tr>\n      <th>September</th>\n      <td>5488</td>\n      <td>236905</td>\n      <td>5737</td>\n      <td>8096</td>\n      <td>17439</td>\n    </tr>\n    <tr>\n      <th>October</th>\n      <td>4845</td>\n      <td>205238</td>\n      <td>4840</td>\n      <td>6759</td>\n      <td>12734</td>\n    </tr>\n  </tbody>\n</table>\n</div>"
     },
     "metadata": {},
     "execution_count": 15
    }
   ],
   "source": [
    "transfer_outcomes_df = pd.DataFrame.from_dict([january_transfer_outcomes, february_transfer_outcomes, march_transfer_outcomes, april_transfer_outcomes, may_transfer_outcomes, june_transfer_outcomes, july_transfer_outcomes, august_transfer_outcomes, september_transfer_outcomes, october_transfer_outcomes])\n",
    "transfer_outcomes_df[\"months\"] = [\"January\", \"February\", \"March\", \"April\", \"May\", \"June\", \"July\", \"August\",\"September\", \"October\"]\n",
    "transfer_outcomes_df = transfer_outcomes_df.set_index(\"months\")\n",
    "transfer_outcomes_df"
   ]
  },
  {
   "cell_type": "code",
   "execution_count": 16,
   "metadata": {},
   "outputs": [
    {
     "output_type": "execute_result",
     "data": {
      "text/plain": [
       "           TOTAL TRANSFERS  TOTAL INTEGRATED  INTEGRATED WITHIN 8 DAYS  \\\n",
       "months                                                                   \n",
       "January             234209            217607                    205375   \n",
       "February            199886            185614                    175517   \n",
       "March               177984            165360                    153099   \n",
       "April                89824             81981                     77236   \n",
       "May                  86414             79475                     75461   \n",
       "June                128004            118052                    112464   \n",
       "July                165069            152594                    144487   \n",
       "August              165620            153313                    142943   \n",
       "September           273665            254344                    236905   \n",
       "October             234416            217972                    205238   \n",
       "\n",
       "           PAPER FALLBACK  INTEGRATED BEYOND 8 DAYS  TECHNICAL ERRORS  \\\n",
       "months                                                                  \n",
       "January             28834                     12232              9367   \n",
       "February            24369                     10097              7943   \n",
       "March               24885                     12261              7112   \n",
       "April               12588                      4745              4294   \n",
       "May                 10953                      4014              4240   \n",
       "June                15540                      5588              6265   \n",
       "July                20582                      8107              7582   \n",
       "August              22677                     10370              7472   \n",
       "September           36760                     17439             11225   \n",
       "October             29178                     12734              9685   \n",
       "\n",
       "           OTHER PROCESS/TECH ERRORS  \n",
       "months                                \n",
       "January                         7235  \n",
       "February                        6329  \n",
       "March                           5512  \n",
       "April                           3549  \n",
       "May                             2699  \n",
       "June                            3687  \n",
       "July                            4893  \n",
       "August                          4835  \n",
       "September                       8096  \n",
       "October                         6759  "
      ],
      "text/html": "<div>\n<style scoped>\n    .dataframe tbody tr th:only-of-type {\n        vertical-align: middle;\n    }\n\n    .dataframe tbody tr th {\n        vertical-align: top;\n    }\n\n    .dataframe thead th {\n        text-align: right;\n    }\n</style>\n<table border=\"1\" class=\"dataframe\">\n  <thead>\n    <tr style=\"text-align: right;\">\n      <th></th>\n      <th>TOTAL TRANSFERS</th>\n      <th>TOTAL INTEGRATED</th>\n      <th>INTEGRATED WITHIN 8 DAYS</th>\n      <th>PAPER FALLBACK</th>\n      <th>INTEGRATED BEYOND 8 DAYS</th>\n      <th>TECHNICAL ERRORS</th>\n      <th>OTHER PROCESS/TECH ERRORS</th>\n    </tr>\n    <tr>\n      <th>months</th>\n      <th></th>\n      <th></th>\n      <th></th>\n      <th></th>\n      <th></th>\n      <th></th>\n      <th></th>\n    </tr>\n  </thead>\n  <tbody>\n    <tr>\n      <th>January</th>\n      <td>234209</td>\n      <td>217607</td>\n      <td>205375</td>\n      <td>28834</td>\n      <td>12232</td>\n      <td>9367</td>\n      <td>7235</td>\n    </tr>\n    <tr>\n      <th>February</th>\n      <td>199886</td>\n      <td>185614</td>\n      <td>175517</td>\n      <td>24369</td>\n      <td>10097</td>\n      <td>7943</td>\n      <td>6329</td>\n    </tr>\n    <tr>\n      <th>March</th>\n      <td>177984</td>\n      <td>165360</td>\n      <td>153099</td>\n      <td>24885</td>\n      <td>12261</td>\n      <td>7112</td>\n      <td>5512</td>\n    </tr>\n    <tr>\n      <th>April</th>\n      <td>89824</td>\n      <td>81981</td>\n      <td>77236</td>\n      <td>12588</td>\n      <td>4745</td>\n      <td>4294</td>\n      <td>3549</td>\n    </tr>\n    <tr>\n      <th>May</th>\n      <td>86414</td>\n      <td>79475</td>\n      <td>75461</td>\n      <td>10953</td>\n      <td>4014</td>\n      <td>4240</td>\n      <td>2699</td>\n    </tr>\n    <tr>\n      <th>June</th>\n      <td>128004</td>\n      <td>118052</td>\n      <td>112464</td>\n      <td>15540</td>\n      <td>5588</td>\n      <td>6265</td>\n      <td>3687</td>\n    </tr>\n    <tr>\n      <th>July</th>\n      <td>165069</td>\n      <td>152594</td>\n      <td>144487</td>\n      <td>20582</td>\n      <td>8107</td>\n      <td>7582</td>\n      <td>4893</td>\n    </tr>\n    <tr>\n      <th>August</th>\n      <td>165620</td>\n      <td>153313</td>\n      <td>142943</td>\n      <td>22677</td>\n      <td>10370</td>\n      <td>7472</td>\n      <td>4835</td>\n    </tr>\n    <tr>\n      <th>September</th>\n      <td>273665</td>\n      <td>254344</td>\n      <td>236905</td>\n      <td>36760</td>\n      <td>17439</td>\n      <td>11225</td>\n      <td>8096</td>\n    </tr>\n    <tr>\n      <th>October</th>\n      <td>234416</td>\n      <td>217972</td>\n      <td>205238</td>\n      <td>29178</td>\n      <td>12734</td>\n      <td>9685</td>\n      <td>6759</td>\n    </tr>\n  </tbody>\n</table>\n</div>"
     },
     "metadata": {},
     "execution_count": 16
    }
   ],
   "source": [
    "transfer_outcomes_df[\"TECHNICAL ERRORS\"] = transfer_outcomes_df[\"DIDN'T COMPLETE - ERROR MID CONVERSATION\"] + transfer_outcomes_df[\"COMPLETED - ERROR IN FINAL ACK\"]\n",
    "del transfer_outcomes_df[\"DIDN'T COMPLETE - ERROR MID CONVERSATION\"]\n",
    "del transfer_outcomes_df[\"COMPLETED - ERROR IN FINAL ACK\"]\n",
    "\n",
    "transfer_outcomes_df[\"TOTAL TRANSFERS\"] = transfer_outcomes_df.sum(axis=1)\n",
    "\n",
    "transfer_outcomes_df[\"TOTAL INTEGRATED\"] = transfer_outcomes_df[\"COMPLETED - WITHIN 8 DAYS\"] + transfer_outcomes_df[\"COMPLETED - BEYOND 8 DAYS\"]\n",
    "\n",
    "transfer_outcomes_df[\"PAPER FALLBACK\"] = transfer_outcomes_df[\"COMPLETED - BEYOND 8 DAYS\"] + transfer_outcomes_df[\"TECHNICAL ERRORS\"] + transfer_outcomes_df[\"DIDN'T COMPLETE - STUCK\"]\n",
    "\n",
    "transfer_outcomes_df.rename(columns={\"COMPLETED - WITHIN 8 DAYS\": \"INTEGRATED WITHIN 8 DAYS\", \"COMPLETED - BEYOND 8 DAYS\": \"INTEGRATED BEYOND 8 DAYS\", \"DIDN'T COMPLETE - STUCK\": \"OTHER PROCESS/TECH ERRORS\"}, inplace=True)\n",
    "\n",
    "transfer_outcomes_df = transfer_outcomes_df[[\"TOTAL TRANSFERS\", \"TOTAL INTEGRATED\", \"INTEGRATED WITHIN 8 DAYS\", \"PAPER FALLBACK\", \"INTEGRATED BEYOND 8 DAYS\", \"TECHNICAL ERRORS\", \"OTHER PROCESS/TECH ERRORS\"]]\n",
    "\n",
    "transfer_outcomes_df"
   ]
  },
  {
   "cell_type": "code",
   "execution_count": 17,
   "metadata": {},
   "outputs": [
    {
     "output_type": "execute_result",
     "data": {
      "text/plain": [
       "           TOTAL INTEGRATED (%)  INTEGRATED WITHIN 8 DAYS (%)  \\\n",
       "months                                                          \n",
       "January                   92.91                         87.69   \n",
       "February                  92.86                         87.81   \n",
       "March                     92.91                         86.02   \n",
       "April                     91.27                         85.99   \n",
       "May                       91.97                         87.32   \n",
       "June                      92.23                         87.86   \n",
       "July                      92.44                         87.53   \n",
       "August                    92.57                         86.31   \n",
       "September                 92.94                         86.57   \n",
       "October                   92.99                         87.55   \n",
       "\n",
       "           PAPER FALLBACK (%)  INTEGRATED BEYOND 8 DAYS (%)  \\\n",
       "months                                                        \n",
       "January                 12.31                          5.22   \n",
       "February                12.19                          5.05   \n",
       "March                   13.98                          6.89   \n",
       "April                   14.01                          5.28   \n",
       "May                     12.68                          4.65   \n",
       "June                    12.14                          4.37   \n",
       "July                    12.47                          4.91   \n",
       "August                  13.69                          6.26   \n",
       "September               13.43                          6.37   \n",
       "October                 12.45                          5.43   \n",
       "\n",
       "           TECHNICAL ERRORS (%)  OTHER PROCESS/TECH ERRORS (%)  \n",
       "months                                                          \n",
       "January                    4.00                           3.09  \n",
       "February                   3.97                           3.17  \n",
       "March                      4.00                           3.10  \n",
       "April                      4.78                           3.95  \n",
       "May                        4.91                           3.12  \n",
       "June                       4.89                           2.88  \n",
       "July                       4.59                           2.96  \n",
       "August                     4.51                           2.92  \n",
       "September                  4.10                           2.96  \n",
       "October                    4.13                           2.88  "
      ],
      "text/html": "<div>\n<style scoped>\n    .dataframe tbody tr th:only-of-type {\n        vertical-align: middle;\n    }\n\n    .dataframe tbody tr th {\n        vertical-align: top;\n    }\n\n    .dataframe thead th {\n        text-align: right;\n    }\n</style>\n<table border=\"1\" class=\"dataframe\">\n  <thead>\n    <tr style=\"text-align: right;\">\n      <th></th>\n      <th>TOTAL INTEGRATED (%)</th>\n      <th>INTEGRATED WITHIN 8 DAYS (%)</th>\n      <th>PAPER FALLBACK (%)</th>\n      <th>INTEGRATED BEYOND 8 DAYS (%)</th>\n      <th>TECHNICAL ERRORS (%)</th>\n      <th>OTHER PROCESS/TECH ERRORS (%)</th>\n    </tr>\n    <tr>\n      <th>months</th>\n      <th></th>\n      <th></th>\n      <th></th>\n      <th></th>\n      <th></th>\n      <th></th>\n    </tr>\n  </thead>\n  <tbody>\n    <tr>\n      <th>January</th>\n      <td>92.91</td>\n      <td>87.69</td>\n      <td>12.31</td>\n      <td>5.22</td>\n      <td>4.00</td>\n      <td>3.09</td>\n    </tr>\n    <tr>\n      <th>February</th>\n      <td>92.86</td>\n      <td>87.81</td>\n      <td>12.19</td>\n      <td>5.05</td>\n      <td>3.97</td>\n      <td>3.17</td>\n    </tr>\n    <tr>\n      <th>March</th>\n      <td>92.91</td>\n      <td>86.02</td>\n      <td>13.98</td>\n      <td>6.89</td>\n      <td>4.00</td>\n      <td>3.10</td>\n    </tr>\n    <tr>\n      <th>April</th>\n      <td>91.27</td>\n      <td>85.99</td>\n      <td>14.01</td>\n      <td>5.28</td>\n      <td>4.78</td>\n      <td>3.95</td>\n    </tr>\n    <tr>\n      <th>May</th>\n      <td>91.97</td>\n      <td>87.32</td>\n      <td>12.68</td>\n      <td>4.65</td>\n      <td>4.91</td>\n      <td>3.12</td>\n    </tr>\n    <tr>\n      <th>June</th>\n      <td>92.23</td>\n      <td>87.86</td>\n      <td>12.14</td>\n      <td>4.37</td>\n      <td>4.89</td>\n      <td>2.88</td>\n    </tr>\n    <tr>\n      <th>July</th>\n      <td>92.44</td>\n      <td>87.53</td>\n      <td>12.47</td>\n      <td>4.91</td>\n      <td>4.59</td>\n      <td>2.96</td>\n    </tr>\n    <tr>\n      <th>August</th>\n      <td>92.57</td>\n      <td>86.31</td>\n      <td>13.69</td>\n      <td>6.26</td>\n      <td>4.51</td>\n      <td>2.92</td>\n    </tr>\n    <tr>\n      <th>September</th>\n      <td>92.94</td>\n      <td>86.57</td>\n      <td>13.43</td>\n      <td>6.37</td>\n      <td>4.10</td>\n      <td>2.96</td>\n    </tr>\n    <tr>\n      <th>October</th>\n      <td>92.99</td>\n      <td>87.55</td>\n      <td>12.45</td>\n      <td>5.43</td>\n      <td>4.13</td>\n      <td>2.88</td>\n    </tr>\n  </tbody>\n</table>\n</div>"
     },
     "metadata": {},
     "execution_count": 17
    }
   ],
   "source": [
    "outcome_percentages_df = transfer_outcomes_df.iloc[:, 1:].apply(lambda x: x / transfer_outcomes_df.iloc[:, 0] * 100)\n",
    "\n",
    "outcome_percentages_df = outcome_percentages_df.add_suffix(' (%)')\n",
    "\n",
    "outcome_percentages_df.round(2)"
   ]
  },
  {
   "cell_type": "code",
   "execution_count": null,
   "metadata": {},
   "outputs": [],
   "source": []
  }
 ],
 "metadata": {
  "kernelspec": {
   "name": "python3",
   "display_name": "Python 3.9.0 64-bit ('venv')",
   "metadata": {
    "interpreter": {
     "hash": "d61def0820be6f0e1212225f28cf3a877bed2a308cc2508df5a192d0dd4fb85d"
    }
   }
  },
  "language_info": {
   "codemirror_mode": {
    "name": "ipython",
    "version": 3
   },
   "file_extension": ".py",
   "mimetype": "text/x-python",
   "name": "python",
   "nbconvert_exporter": "python",
   "pygments_lexer": "ipython3",
   "version": "3.9.0-final"
  }
 },
 "nbformat": 4,
 "nbformat_minor": 2
}