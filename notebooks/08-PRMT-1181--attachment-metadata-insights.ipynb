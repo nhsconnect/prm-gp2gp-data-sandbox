{
 "metadata": {
  "language_info": {
   "codemirror_mode": {
    "name": "ipython",
    "version": 3
   },
   "file_extension": ".py",
   "mimetype": "text/x-python",
   "name": "python",
   "nbconvert_exporter": "python",
   "pygments_lexer": "ipython3",
   "version": "3.8.1-final"
  },
  "orig_nbformat": 2,
  "kernelspec": {
   "name": "python3",
   "display_name": "Python 3.8.1 64-bit ('venv')",
   "metadata": {
    "interpreter": {
     "hash": "426d3cea9478f76cbda040767bf32b2b0b785fb2fbb5306c7bfa712622301487"
    }
   }
  }
 },
 "nbformat": 4,
 "nbformat_minor": 2,
 "cells": [
  {
   "source": [
    "# PRMT-1181 Attachment Metadata Insights"
   ],
   "cell_type": "markdown",
   "metadata": {}
  },
  {
   "source": [
    "### Context\n",
    "\n",
    "PCSE want to be able to understand the scope and size of the GP2GP fallback service. They want to know more about the types of attachments that come via GP2GP.\n",
    "\n",
    "They would like to know:\n",
    "- Average and maximum file sizes\n",
    "- Graph which demonstrates distribution of file sizes\n",
    "- Identify File types that got as far as the transfer\n",
    "- Add graph on number of attachments\n",
    "\n",
    "### Requirements\n",
    "\n",
    "In order to replicate this notebook, perform the following steps:\n",
    "\n",
    "1. Log into Splunk and run the following query, for 21/12/2020 00:00:00:00 to 27/12/2020 24:00:00 and 28/12/2020 00:00:00:00 to 03/01/2020 24:00:00 time frames (currently there are issues with downloading large data sets in Splunk):\n",
    "\n",
    "```\n",
    "index=\"spine2vfmmonitor\" logReference=MPS0208\n",
    "| fields _time, attachmentID, conversationID, FromSystem, ToSystem, attachmentType, Compressed, ContentType, LargeAttachment, Length, OriginalBase64\n",
    "| fields - _raw\n",
    "```\n",
    "\n",
    "2. Download the two data sets as CSV and put into a directory. Change the `attachment_data_dir` variable to the location of these files."
   ],
   "cell_type": "markdown",
   "metadata": {}
  },
  {
   "cell_type": "code",
   "execution_count": 1,
   "metadata": {},
   "outputs": [],
   "source": [
    "import paths\n",
    "import duckdb\n",
    "from scripts.attachment_insights import construct_db_database"
   ]
  },
  {
   "cell_type": "code",
   "execution_count": 2,
   "metadata": {},
   "outputs": [
    {
     "output_type": "stream",
     "name": "stdout",
     "text": [
      "Loading /Users/helen.zhou/Desktop/attachmentData/attachment21Dec.csv\n",
      "Loading /Users/helen.zhou/Desktop/attachmentData/attachment28Dec.csv\n",
      "Done\n"
     ]
    }
   ],
   "source": [
    "# Should you need to rerun this, you will need to delete the attachment.db and attachment.db.wal files generated.\n",
    "attachment_data_dir = \"/Users/helen.zhou/Desktop/attachmentData\"\n",
    "database_file = f\"{attachment_data_dir}/attachment.db\"\n",
    "construct_db_database(attachment_data_dir, database_file)"
   ]
  },
  {
   "cell_type": "code",
   "execution_count": 3,
   "metadata": {},
   "outputs": [],
   "source": [
    "attachment_cursor = duckdb.connect(database_file)\n",
    "attachment_rel = attachment_cursor.table(\"attachment_metadata\")"
   ]
  },
  {
   "cell_type": "code",
   "execution_count": 4,
   "metadata": {},
   "outputs": [
    {
     "output_type": "stream",
     "name": "stdout",
     "text": [
      "The total number of transfers involving attachments:\n"
     ]
    },
    {
     "output_type": "execute_result",
     "data": {
      "text/plain": [
       "---------------------\n",
       "-- Expression Tree --\n",
       "---------------------\n",
       "Aggregate [count_star()]\n",
       "  Scan Table [attachment_metadata]\n",
       "\n",
       "---------------------\n",
       "-- Result Columns  --\n",
       "---------------------\n",
       "- count_star() (BIGINT)\n",
       "\n",
       "---------------------\n",
       "-- Result Preview  --\n",
       "---------------------\n",
       "count_star()\t\n",
       "BIGINT\t\n",
       "[ Rows: 1]\n",
       "2502766\t\n",
       "\n"
      ]
     },
     "metadata": {},
     "execution_count": 4
    }
   ],
   "source": [
    "print(\"The total number of transfers involving attachments:\")\n",
    "\n",
    "attachment_rel.aggregate(\"count(*)\")"
   ]
  },
  {
   "source": [
    "The total number of transfers matches the total number of events when doing a Splunk query, therefore validating the concatenation of the datasets has been completed successfully.\n",
    "\n",
    "The Splunk query used with the Date Range specified as 21/12/2020 00:00:00 to 03/01/2021 24:00:00:\n",
    "\n",
    "```\n",
    "index=\"spine2vfmmonitor\" logReference=MPS0208\n",
    "| stats count, dc(conversationID) as distinct_conversations\n",
    "```\n",
    "\n",
    "Results\n",
    "Count: 2502766 and distinct_conversations: 30314 \n"
   ],
   "cell_type": "markdown",
   "metadata": {}
  }
 ]
}