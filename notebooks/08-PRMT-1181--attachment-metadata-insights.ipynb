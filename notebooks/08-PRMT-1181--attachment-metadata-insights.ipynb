{
 "cells": [
  {
   "cell_type": "markdown",
   "metadata": {},
   "source": [
    "# PRMT-1181 Attachment Metadata Insights"
   ]
  },
  {
   "cell_type": "markdown",
   "metadata": {},
   "source": [
    "### Context\n",
    "\n",
    "PCSE want to be able to understand the scope and size of the GP2GP fallback service. They want to know more about the types of attachments that come via GP2GP.\n",
    "\n",
    "They would like to know:\n",
    "- Average and maximum file sizes\n",
    "- Graph which demonstrates distribution of file sizes\n",
    "- Identify File types that got as far as the transfer\n",
    "- Add graph on number of attachments\n",
    "\n",
    "### Requirements\n",
    "\n",
    "In order to replicate this notebook, perform the following steps:\n",
    "\n",
    "1. Log into Splunk and run the following query, for 21/12/2020 00:00:00:00 to 27/12/2020 24:00:00 and 28/12/2020 00:00:00:00 to 03/01/2020 24:00:00 time frames (currently there are issues with downloading large data sets in Splunk):\n",
    "\n",
    "```\n",
    "index=\"spine2vfmmonitor\" logReference=MPS0208\n",
    "| fields _time, attachmentID, conversationID, FromSystem, ToSystem, attachmentType, Compressed, ContentType, LargeAttachment, Length, OriginalBase64\n",
    "| fields - _raw\n",
    "```\n",
    "\n",
    "2. Download the two data sets as CSVs and place in a directory. Set the `INPUT_DATA_DIR` environment variable to point to this directory."
   ]
  },
  {
   "cell_type": "code",
   "execution_count": 1,
   "metadata": {},
   "outputs": [],
   "source": [
    "import paths, os\n",
    "import duckdb\n",
    "from scripts.attachments import construct_attachments_db"
   ]
  },
  {
   "cell_type": "code",
   "execution_count": 2,
   "metadata": {},
   "outputs": [],
   "source": [
    "attachment_data_dir = os.environ[\"INPUT_DATA_DIR\"]\n",
    "cursor =  duckdb.connect()\n",
    "construct_attachments_db(cursor, attachment_data_dir)"
   ]
  },
  {
   "cell_type": "markdown",
   "metadata": {},
   "source": [
    "## Average and maximum file sizes"
   ]
  },
  {
   "cell_type": "code",
   "execution_count": 3,
   "metadata": {},
   "outputs": [
    {
     "data": {
      "text/html": [
       "<style  type=\"text/css\" >\n",
       "</style><table id=\"T_6667c1fc_53fb_11eb_a912_00e04c680f34\" ><caption>Attachment file sizes (bytes)</caption><thead>    <tr>        <th class=\"blank level0\" ></th>        <th class=\"col_heading level0 col0\" >total</th>        <th class=\"col_heading level0 col1\" >smallest</th>        <th class=\"col_heading level0 col2\" >quantile_25</th>        <th class=\"col_heading level0 col3\" >median</th>        <th class=\"col_heading level0 col4\" >quantile_75</th>        <th class=\"col_heading level0 col5\" >largest</th>    </tr></thead><tbody>\n",
       "                <tr>\n",
       "                        <th id=\"T_6667c1fc_53fb_11eb_a912_00e04c680f34level0_row0\" class=\"row_heading level0 row0\" >0</th>\n",
       "                        <td id=\"T_6667c1fc_53fb_11eb_a912_00e04c680f34row0_col0\" class=\"data row0 col0\" >2363478</td>\n",
       "                        <td id=\"T_6667c1fc_53fb_11eb_a912_00e04c680f34row0_col1\" class=\"data row0 col1\" >4</td>\n",
       "                        <td id=\"T_6667c1fc_53fb_11eb_a912_00e04c680f34row0_col2\" class=\"data row0 col2\" >19272</td>\n",
       "                        <td id=\"T_6667c1fc_53fb_11eb_a912_00e04c680f34row0_col3\" class=\"data row0 col3\" >52386</td>\n",
       "                        <td id=\"T_6667c1fc_53fb_11eb_a912_00e04c680f34row0_col4\" class=\"data row0 col4\" >187772</td>\n",
       "                        <td id=\"T_6667c1fc_53fb_11eb_a912_00e04c680f34row0_col5\" class=\"data row0 col5\" >203868820</td>\n",
       "            </tr>\n",
       "    </tbody></table>"
      ],
      "text/plain": [
       "<pandas.io.formats.style.Styler at 0x10c5a7ee0>"
      ]
     },
     "execution_count": 3,
     "metadata": {},
     "output_type": "execute_result"
    }
   ],
   "source": [
    "attachment_statistics = cursor.view(\"attachment_statistics\")\n",
    "attachments_stats = attachment_statistics.df()\n",
    "attachments_stats.style.set_caption(\"Attachment file sizes (bytes)\")\n",
    "#TODO: ADD date range to table title"
   ]
  },
  {
   "cell_type": "code",
   "execution_count": 4,
   "metadata": {},
   "outputs": [
    {
     "data": {
      "image/png": "[encoded data removed]",
      "text/plain": [
       "<Figure size 1008x576 with 1 Axes>"
      ]
     },
     "metadata": {
      "needs_background": "light"
     },
     "output_type": "display_data"
    }
   ],
   "source": [
    "attachments = cursor.table(\"attachment_metadata\")\n",
    "hist = attachments.project(\"length\").df().hist(bins=100, log=True, figsize=(14,8))\n",
    "#TODO: add sensible axis labels (e.g MB)"
   ]
  },
  {
   "cell_type": "code",
   "execution_count": null,
   "metadata": {},
   "outputs": [],
   "source": []
  }
 ],
 "metadata": {
  "kernelspec": {
   "display_name": "Python 3",
   "language": "python",
   "name": "python3"
  },
  "language_info": {
   "codemirror_mode": {
    "name": "ipython",
    "version": 3
   },
   "file_extension": ".py",
   "mimetype": "text/x-python",
   "name": "python",
   "nbconvert_exporter": "python",
   "pygments_lexer": "ipython3",
   "version": "3.9.1"
  }
 },
 "nbformat": 4,
 "nbformat_minor": 4
}
