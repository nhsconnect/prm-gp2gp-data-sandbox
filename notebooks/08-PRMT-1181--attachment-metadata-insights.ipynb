{
 "cells": [
  {
   "cell_type": "markdown",
   "metadata": {},
   "source": [
    "# PRMT-1181 Attachment Metadata Insights"
   ]
  },
  {
   "cell_type": "markdown",
   "metadata": {},
   "source": [
    "### Context\n",
    "\n",
    "PCSE want to be able to understand the scope and size of the GP2GP fallback service. They want to know more about the types of attachments that come via GP2GP.\n",
    "\n",
    "They would like to know:\n",
    "- Average and maximum file sizes\n",
    "- Graph which demonstrates distribution of file sizes\n",
    "- Identify File types that got as far as the transfer\n",
    "- Add graph on number of attachments\n",
    "\n",
    "There is some effort required to de-duplicate the underlying data. This is explored in notebook `10-PRMT-1528`.\n",
    "\n",
    "### Requirements\n",
    "\n",
    "In order to replicate this notebook, perform the following steps:\n",
    "\n",
    "1. Log into Splunk and run the following query, for 21/12/2020 00:00:00:00 to 03/01/2020 24:00:00 time frame. Export the result as a csv named `attachment_metadata.csv`. \n",
    "\n",
    "```\n",
    "index=\"spine2vfmmonitor\" logReference=MPS0208\n",
    "| table _time, attachmentID, conversationID, FromSystem, ToSystem, attachmentType, Compressed, ContentType, LargeAttachment, Length, OriginalBase64, internalID\n",
    "```\n",
    "\n",
    "2. Run the following Splunk query for the same time range. Export the result as a csv named `gp2gp_messages.csv`.\n",
    "\n",
    "```\n",
    "index=\"spine2vfmmonitor\" service=\"gp2gp\" logReference=\"MPS0053c\"\n",
    "| table _time, conversationID, internalID, interactionID\n",
    "```\n",
    "\n",
    "3. Place both the csv files in a directory called `attachments`. Set the `INPUT_DATA_DIR` environment variable to point to this directory.\n",
    "\n",
    "Example directory layout, where `INPUT_DATA_DIR` is `attachments`.\n",
    "```\n",
    "attachments/attachment_metadata.csv\n",
    "attachments/gp2gp_messages.csv\n"
   ]
  },
  {
   "cell_type": "code",
   "execution_count": null,
   "metadata": {},
   "outputs": [],
   "source": [
    "import paths, os\n",
    "import duckdb\n",
    "from scripts.attachments import construct_attachments_db"
   ]
  },
  {
   "cell_type": "code",
   "execution_count": null,
   "metadata": {},
   "outputs": [],
   "source": [
    "attachment_data_dir = os.environ[\"INPUT_DATA_DIR\"]\n",
    "cursor =  duckdb.connect()\n",
    "construct_attachments_db(cursor, attachment_data_dir)\n"
   ]
  },
  {
   "cell_type": "code",
   "execution_count": null,
   "metadata": {},
   "outputs": [],
   "source": [
    "cursor.execute(\"\"\"\n",
    "    create or replace view ehr_request_completed_messages as \n",
    "        select * from gp2gp_messages\n",
    "        where interaction_id='urn:nhs:names:services:gp2gp/RCMR_IN030000UK06'\n",
    "\"\"\")"
   ]
  },
  {
   "cell_type": "code",
   "execution_count": null,
   "metadata": {},
   "outputs": [],
   "source": [
    "cursor.execute(\"\"\"\n",
    "create table unique_ehr_request_completed_messages as \n",
    "select a.* from ehr_request_completed_messages a\n",
    "inner join (\n",
    "    select conversation_id, max(time) as time\n",
    "    from ehr_request_completed_messages\n",
    "    group by conversation_id\n",
    ") b on a.conversation_id = b.conversation_id and a.time = b.time\"\"\")"
   ]
  },
  {
   "cell_type": "code",
   "execution_count": null,
   "metadata": {},
   "outputs": [],
   "source": [
    "cursor.execute(\"\"\"\n",
    "    create table ehr_attachments as \n",
    "    select a.* from attachment_metadata a\n",
    "    join unique_ehr_request_completed_messages b \n",
    "    on a.internal_id = b.internal_id\n",
    "\"\"\")\n"
   ]
  },
  {
   "cell_type": "code",
   "execution_count": null,
   "metadata": {},
   "outputs": [],
   "source": [
    "attachments = cursor.table(\"ehr_attachments\")\n",
    "ehr_requests = cursor.table(\"unique_ehr_request_completed_messages\")"
   ]
  },
  {
   "cell_type": "markdown",
   "metadata": {},
   "source": [
    "## Attachment types"
   ]
  },
  {
   "cell_type": "code",
   "execution_count": null,
   "metadata": {},
   "outputs": [],
   "source": [
    "(start_time, end_time) = attachments\\\n",
    "    .aggregate(\"MIN(time) as start_time, MAX(time) as end_time\") \\\n",
    "    .execute().fetchone()\n",
    "\n",
    "start_date = start_time.date()\n",
    "end_date = end_time.date()"
   ]
  },
  {
   "cell_type": "code",
   "execution_count": null,
   "metadata": {},
   "outputs": [],
   "source": [
    "attachment_count = attachments.aggregate(\"COUNT(*)\").df()\n",
    "print(f\"{attachment_count.iat[0, 0]} attachments in dataset ({start_date} to {end_date})\")"
   ]
  },
  {
   "cell_type": "markdown",
   "metadata": {},
   "source": [
    "### Number of attachments by file type"
   ]
  },
  {
   "cell_type": "code",
   "execution_count": null,
   "metadata": {},
   "outputs": [],
   "source": [
    "attachments_per_content_type = attachments.aggregate(\"content_type, count(*) as count\").order(\"count DESC\").df()\n",
    "attachment_type_bars = attachments_per_content_type.plot.bar(\n",
    "    x=\"content_type\", y=\"count\",\n",
    "    title=f\"Count of attachments by file type, {start_date} to {end_date}\",\n",
    "    rot=45,\n",
    "    figsize=(16,8),\n",
    "    legend=False,\n",
    ")\n",
    "attachment_type_bars.set(xlabel=\"Attachment file type\", ylabel=\"Number of attachments\")\n",
    "attachment_type_bars.ticklabel_format(style='plain', axis='y')"
   ]
  },
  {
   "cell_type": "code",
   "execution_count": null,
   "metadata": {},
   "outputs": [],
   "source": [
    "attachments_per_content_type.set_index(\"content_type\").style.set_caption(f\"Count of attachments by file type, {start_date} to {end_date}\")"
   ]
  },
  {
   "cell_type": "markdown",
   "metadata": {},
   "source": [
    "### Number of transfers with attachment"
   ]
  },
  {
   "cell_type": "code",
   "execution_count": null,
   "metadata": {},
   "outputs": [],
   "source": [
    "transfer_count, with_attachment_count, without_attachment_count = cursor.execute(\"\"\"\n",
    "    select\n",
    "        count(*) as transfers,\n",
    "        sum(case when attachments.internal_id is not null then 1 else 0 end) as with_attachments,\n",
    "        sum(case when attachments.internal_id is null then 1 else 0 end) as without_attachments\n",
    "    from unique_ehr_request_completed_messages\n",
    "    left join (select distinct internal_id from attachment_metadata) attachments\n",
    "    on attachments.internal_id=unique_ehr_request_completed_messages.internal_id\n",
    "\"\"\").fetchone()\n",
    "percent_with_attachment = with_attachment_count/transfer_count*100\n",
    "print(f\"Out of {transfer_count} transfers made between {start_date} and {end_date}, {with_attachment_count} had at least one attachment. ({percent_with_attachment}%) \")"
   ]
  },
  {
   "cell_type": "markdown",
   "metadata": {},
   "source": [
    "### Number of attachments per transfer (excluding transfers with no attachments)"
   ]
  },
  {
   "cell_type": "code",
   "execution_count": null,
   "metadata": {},
   "outputs": [],
   "source": [
    "attachments_per_transfer = attachments.aggregate(\"conversation_id, count(*) as count\").df()"
   ]
  },
  {
   "cell_type": "code",
   "execution_count": null,
   "metadata": {},
   "outputs": [],
   "source": [
    "attachments_per_transfer_truncated = attachments.aggregate(\"conversation_id, count(*) as count\").filter(\"count <= 1000\").df()"
   ]
  },
  {
   "cell_type": "code",
   "execution_count": null,
   "metadata": {},
   "outputs": [],
   "source": [
    "attachments_per_transfer_hist_truncated = attachments_per_transfer_truncated.plot.hist(\n",
    "    title=f\"Histogram of attachments per transfer (where transfer has less than 1000 attachments), {start_date} to {end_date}\",\n",
    "    legend=False,\n",
    "    bins=150, figsize=(14,8)\n",
    ")\n",
    "attachments_per_transfer_hist = attachments_per_transfer.plot.hist(\n",
    "    title=f\"Histogram of attachments per transfer, {start_date} to {end_date}\",\n",
    "    legend=False,\n",
    "    bins=150, figsize=(14,8)\n",
    ")\n",
    "attachments_per_transfer_hist_truncated.set(xlabel=\"Attachments per transfer\", ylabel=\"Frequency\")\n",
    "attachments_per_transfer_hist_truncated.ticklabel_format(style='plain', axis='y')\n",
    "attachments_per_transfer_hist.set(xlabel=\"Attachments per transfer\", ylabel=\"Frequency\")\n",
    "attachments_per_transfer_hist.ticklabel_format(style='plain', axis='y')"
   ]
  },
  {
   "cell_type": "code",
   "execution_count": null,
   "metadata": {},
   "outputs": [],
   "source": [
    "attachments_per_transfer.describe().style.set_caption(f\"Count of attachments per transfer, {start_date} to {end_date}\")"
   ]
  },
  {
   "cell_type": "markdown",
   "metadata": {},
   "source": [
    "## Size of attachments"
   ]
  },
  {
   "cell_type": "code",
   "execution_count": null,
   "metadata": {},
   "outputs": [],
   "source": [
    "attachment_lengths = attachments.project(\"content_type, length/(1024.0*1024.0) as megabytes\").df()"
   ]
  },
  {
   "cell_type": "code",
   "execution_count": null,
   "metadata": {},
   "outputs": [],
   "source": [
    "attachment_lengths.describe().style.set_caption(f\"Attachment file sizes (megabytes), {start_date} to {end_date}\")"
   ]
  },
  {
   "cell_type": "code",
   "execution_count": null,
   "metadata": {},
   "outputs": [],
   "source": [
    "attachment_lengths_hist = attachment_lengths.plot.hist(\n",
    "    title=f\"Histogram of attachment size (logarithmic), {start_date} to {end_date}\",\n",
    "    legend=False,\n",
    "    bins=100, log=True, figsize=(14,8)\n",
    ")\n",
    "attachment_lengths_hist.set(xlabel=\"Attachment size (MB)\", ylabel=\"Frequency (logarithmic)\")\n",
    "attachment_lengths_hist.ticklabel_format(style='plain', axis='x', useOffset=False)"
   ]
  },
  {
   "cell_type": "code",
   "execution_count": null,
   "metadata": {},
   "outputs": [],
   "source": [
    "attachment_lengths_hist_lin = attachment_lengths.plot.hist(\n",
    "    title=f\"Histogram of attachment size (linear), {start_date} to {end_date}\",\n",
    "    legend=False,\n",
    "    bins=100, log=False, figsize=(14,8)\n",
    ")\n",
    "attachment_lengths_hist_lin.set(xlabel=\"Attachment size (MB)\", ylabel=\"Frequency (linear)\")\n",
    "attachment_lengths_hist_lin.ticklabel_format(style='plain', axis='y', useOffset=False)"
   ]
  },
  {
   "cell_type": "markdown",
   "metadata": {},
   "source": [
    "### Attachment size by file type"
   ]
  },
  {
   "cell_type": "code",
   "execution_count": null,
   "metadata": {},
   "outputs": [],
   "source": [
    "attachment_lengths.groupby('content_type').describe().style.set_caption(\"Attachment file sizes by content type\")\n"
   ]
  },
  {
   "cell_type": "code",
   "execution_count": null,
   "metadata": {},
   "outputs": [],
   "source": [
    "attachment_lengths_boxplot = attachment_lengths.boxplot(\n",
    "    'megabytes', by='content_type',\n",
    "    figsize=(14,8),\n",
    "    showfliers=False,\n",
    "    rot=45,\n",
    ")\n",
    "attachment_lengths_boxplot.set_title(f\"Boxplot of attachment size by content type (outliers removed), {start_date} to {end_date}\")\n",
    "attachment_lengths_boxplot.set(xlabel=\"Attachment type\", ylabel=\"Size (MB)\")"
   ]
  },
  {
   "cell_type": "markdown",
   "metadata": {},
   "source": [
    "## Size of combined attachments per transfer"
   ]
  },
  {
   "cell_type": "code",
   "execution_count": null,
   "metadata": {},
   "outputs": [],
   "source": [
    "combined_attachment_size = attachments.aggregate(\"conversation_id, SUM(length)/(1024*1024) as megabytes\").df()"
   ]
  },
  {
   "cell_type": "code",
   "execution_count": null,
   "metadata": {},
   "outputs": [],
   "source": [
    "combined_attachment_size.describe().style.set_caption(f\"Size of combined attachments per transfer, {start_date} to {end_date}\")"
   ]
  },
  {
   "cell_type": "code",
   "execution_count": null,
   "metadata": {},
   "outputs": [],
   "source": [
    "transfer_sizes_hist = combined_attachment_size.plot.hist(\n",
    "        title=f\"Histogram of combined attachment size per transfer (logarithmic), {start_date} to {end_date}\",\n",
    "    legend=False,\n",
    "    bins=100, log=True, figsize=(14,8)\n",
    ")\n",
    "transfer_sizes_hist.set(xlabel=\"Combined attachment size (MB)\", ylabel=\"Frequency (logarithmic)\")\n",
    "transfer_sizes_hist.ticklabel_format(style='plain', axis='x', useOffset=False)"
   ]
  },
  {
   "cell_type": "code",
   "execution_count": null,
   "metadata": {},
   "outputs": [],
   "source": [
    "transfer_sizes_hist_lin = attachments.aggregate(\"conversation_id, SUM(length)/(1024*1024) as bytes\").df().plot.hist(\n",
    "        title=f\"Histogram of combined attachment size per transfer (linear), {start_date} to {end_date}\",\n",
    "    legend=False,\n",
    "    bins=100, log=False, figsize=(14,8)\n",
    ")\n",
    "transfer_sizes_hist_lin.set(xlabel=\"Combined attachment size (MB)\", ylabel=\"Frequency (linear)\")\n",
    "transfer_sizes_hist_lin.ticklabel_format(style='plain', axis='x', useOffset=False)"
   ]
  }
 ],
 "metadata": {
  "kernelspec": {
   "display_name": "Python 3",
   "language": "python",
   "name": "python3"
  },
  "language_info": {
   "codemirror_mode": {
    "name": "ipython",
    "version": 3
   },
   "file_extension": ".py",
   "mimetype": "text/x-python",
   "name": "python",
   "nbconvert_exporter": "python",
   "pygments_lexer": "ipython3",
   "version": "3.9.1"
  }
 },
 "nbformat": 4,
 "nbformat_minor": 4
}
