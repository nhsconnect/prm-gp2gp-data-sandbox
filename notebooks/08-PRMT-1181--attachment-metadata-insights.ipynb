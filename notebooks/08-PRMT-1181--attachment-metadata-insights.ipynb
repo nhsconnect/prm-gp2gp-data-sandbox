{
 "cells": [
  {
   "cell_type": "markdown",
   "metadata": {},
   "source": [
    "# PRMT-1181 Attachment Metadata Insights"
   ]
  },
  {
   "cell_type": "markdown",
   "metadata": {},
   "source": [
    "### Context\n",
    "\n",
    "PCSE want to be able to understand the scope and size of the GP2GP fallback service. They want to know more about the types of attachments that come via GP2GP.\n",
    "\n",
    "They would like to know:\n",
    "- Average and maximum file sizes\n",
    "- Graph which demonstrates distribution of file sizes\n",
    "- Identify File types that got as far as the transfer\n",
    "- Add graph on number of attachments\n",
    "\n",
    "### Requirements\n",
    "\n",
    "In order to replicate this notebook, perform the following steps:\n",
    "\n",
    "1. Log into Splunk and run the following query, for 21/12/2020 00:00:00:00 to 27/12/2020 24:00:00 and 28/12/2020 00:00:00:00 to 03/01/2020 24:00:00 time frames (currently there are issues with downloading large data sets in Splunk):\n",
    "\n",
    "```\n",
    "index=\"spine2vfmmonitor\" logReference=MPS0208\n",
    "| fields _time, attachmentID, conversationID, FromSystem, ToSystem, attachmentType, Compressed, ContentType, LargeAttachment, Length, OriginalBase64\n",
    "| fields - _raw\n",
    "```\n",
    "\n",
    "2. Download the two data sets as CSVs and place in a directory. Set the `INPUT_DATA_DIR` environment variable to point to this directory."
   ]
  },
  {
   "cell_type": "code",
   "execution_count": null,
   "metadata": {},
   "outputs": [],
   "source": [
    "import paths, os\n",
    "import duckdb\n",
    "from scripts.attachments import construct_attachments_db"
   ]
  },
  {
   "cell_type": "code",
   "execution_count": null,
   "metadata": {},
   "outputs": [],
   "source": [
    "attachment_data_dir = os.environ[\"INPUT_DATA_DIR\"]\n",
    "cursor =  duckdb.connect()\n",
    "attachments = construct_attachments_db(cursor, attachment_data_dir)"
   ]
  },
  {
   "cell_type": "markdown",
   "metadata": {},
   "source": [
    "## Number of attachments"
   ]
  },
  {
   "cell_type": "code",
   "execution_count": null,
   "metadata": {},
   "outputs": [],
   "source": [
    "attachment_count = attachments.aggregate(\"count(*)\").df()\n",
    "print(f\"{attachment_count.iat[0, 0]} attachments in dataset\")"
   ]
  },
  {
   "cell_type": "code",
   "execution_count": null,
   "metadata": {},
   "outputs": [],
   "source": [
    "attachments_per_content_type = attachments.aggregate(\"content_type, count(*) as count\").df()\n",
    "attachments_per_content_type.plot.bar(x=\"content_type\", y=\"count\", rot=45, figsize=(16,8))"
   ]
  },
  {
   "cell_type": "code",
   "execution_count": null,
   "metadata": {},
   "outputs": [],
   "source": [
    "attachments_per_transfer = attachments.aggregate(\"conversation_id, count(*) as count\").df()"
   ]
  },
  {
   "cell_type": "code",
   "execution_count": null,
   "metadata": {},
   "outputs": [],
   "source": [
    "attachments_per_transfer.hist(bins=200, figsize=(14,8))"
   ]
  },
  {
   "cell_type": "code",
   "execution_count": null,
   "metadata": {},
   "outputs": [],
   "source": [
    "attachments_per_transfer.describe()"
   ]
  },
  {
   "cell_type": "markdown",
   "metadata": {},
   "source": [
    "## Size of attachments"
   ]
  },
  {
   "cell_type": "code",
   "execution_count": null,
   "metadata": {},
   "outputs": [],
   "source": [
    "attachment_lengths = attachments.project(\"content_type, length\").df()"
   ]
  },
  {
   "cell_type": "code",
   "execution_count": null,
   "metadata": {},
   "outputs": [],
   "source": [
    "attachment_lengths.describe()\n",
    "#attachments_stats.style.set_caption(\"Attachment file sizes (bytes)\")\n",
    "#TODO: ADD date range to table title"
   ]
  },
  {
   "cell_type": "code",
   "execution_count": null,
   "metadata": {},
   "outputs": [],
   "source": [
    "attachment_lengths.hist(bins=100, log=True, figsize=(14,8))\n",
    "#TODO: add sensible axis labels (e.g MB)"
   ]
  },
  {
   "cell_type": "markdown",
   "metadata": {},
   "source": [
    "### Attachment size by file type"
   ]
  },
  {
   "cell_type": "code",
   "execution_count": null,
   "metadata": {},
   "outputs": [],
   "source": [
    "attachment_lengths.groupby('content_type').describe()\n",
    "#attachment_statistics_by_content_type_df = query_attachment_statistics_by_content_type(attachments)\n",
    "#attachment_statistics_by_content_type_df.style.set_caption(\"Attachment file sizes (bytes)\")\n",
    "#TODO: Format cells, add date range in title"
   ]
  },
  {
   "cell_type": "code",
   "execution_count": null,
   "metadata": {},
   "outputs": [],
   "source": [
    "attachment_lengths.boxplot('length', by='content_type',  figsize=(14,8), showfliers=False)"
   ]
  },
  {
   "cell_type": "markdown",
   "metadata": {},
   "source": [
    "## Appendix: Attachment uniqueness"
   ]
  },
  {
   "cell_type": "code",
   "execution_count": null,
   "metadata": {},
   "outputs": [],
   "source": [
    "attachments.aggregate(\"count(*)\").df()"
   ]
  },
  {
   "cell_type": "code",
   "execution_count": null,
   "metadata": {},
   "outputs": [],
   "source": [
    "cursor.execute(\"select count(*) from (select distinct conversation_id, attachment_id from attachment_metadata) uniq\").df()"
   ]
  },
  {
   "cell_type": "code",
   "execution_count": null,
   "metadata": {},
   "outputs": [],
   "source": [
    "converstaion_attachment_counts = attachments\\\n",
    "    .aggregate(\"conversation_id, count(*) as rows, count(distinct(attachment_id)) as unique_attachments\")\\\n",
    "    .create_view(\"convo_attachment_counts\")"
   ]
  },
  {
   "cell_type": "code",
   "execution_count": null,
   "metadata": {},
   "outputs": [],
   "source": [
    "converstaion_attachment_counts.filter(\"rows != unique_attachments\").df()"
   ]
  }
 ],
 "metadata": {
  "kernelspec": {
   "display_name": "Python 3",
   "language": "python",
   "name": "python3"
  },
  "language_info": {
   "codemirror_mode": {
    "name": "ipython",
    "version": 3
   },
   "file_extension": ".py",
   "mimetype": "text/x-python",
   "name": "python",
   "nbconvert_exporter": "python",
   "pygments_lexer": "ipython3",
   "version": "3.9.1"
  }
 },
 "nbformat": 4,
 "nbformat_minor": 4
}
