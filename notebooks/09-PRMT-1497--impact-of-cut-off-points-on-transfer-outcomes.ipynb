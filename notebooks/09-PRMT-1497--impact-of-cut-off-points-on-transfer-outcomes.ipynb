{
 "cells": [
  {
   "cell_type": "markdown",
   "metadata": {},
   "source": [
    "# Impact of cut off points on transfer outcomes"
   ]
  },
  {
   "cell_type": "markdown",
   "metadata": {},
   "source": [
    "We need to decide when we should consistently cut off the data to show a full picture of a month. The purpose of this analysis is to assess the impact of different cut off points. For example, if we cut off the data two weeks after the month end, we might have 1% of transfers that are shown in pending but will ultimately be successful, compared to doing it three weeks after the month end where we might ave 0.5% of transfers that are pending but ultimately successful. "
   ]
  },
  {
   "cell_type": "code",
   "execution_count": 1,
   "metadata": {},
   "outputs": [],
   "source": [
    "import paths\n",
    "from datetime import datetime, date\n",
    "from dateutil.tz import tzutc\n",
    "import pandas as pd\n",
    "from matplotlib import pyplot as plt"
   ]
  },
  {
   "cell_type": "code",
   "execution_count": 2,
   "metadata": {},
   "outputs": [],
   "source": [
    "from gp2gp.date.range import DateTimeRange\n",
    "from gp2gp.pipeline.dashboard.main import read_spine_csv_gz_files\n",
    "from gp2gp.service.transformers import derive_transfers\n",
    "from scripts.gp2gp_spine_outcomes import parse_conversations"
   ]
  },
  {
   "cell_type": "code",
   "execution_count": 3,
   "metadata": {},
   "outputs": [],
   "source": [
    "july_data_file_name = \"../data/months/July-2020.csv.gz\"\n",
    "august_data_file_name = \"../data/months/Aug-2020.csv.gz\"\n",
    "september_data_file_name=\"../data/months/Sept-2020.csv.gz\"\n",
    "october_data_file_name = \"../data/months/Oct-2020.csv.gz\""
   ]
  },
  {
   "cell_type": "code",
   "execution_count": 4,
   "metadata": {},
   "outputs": [],
   "source": [
    "july_time_range = DateTimeRange(\n",
    "    datetime(year=2020, month=7, day=1, tzinfo=tzutc()),\n",
    "    datetime(year=2020, month=8, day=1, tzinfo=tzutc()),\n",
    ")"
   ]
  },
  {
   "cell_type": "code",
   "execution_count": 5,
   "metadata": {},
   "outputs": [],
   "source": [
    "  spine_messages = read_spine_csv_gz_files([\n",
    "      july_data_file_name, august_data_file_name, september_data_file_name, october_data_file_name\n",
    "  ])\n",
    "\n",
    "  conversations = parse_conversations(spine_messages, time_range=july_time_range)\n",
    "  transfers = derive_transfers(conversations)"
   ]
  },
  {
   "cell_type": "code",
   "execution_count": 6,
   "metadata": {},
   "outputs": [
    {
     "data": {
      "text/html": [
       "<div>\n",
       "<style scoped>\n",
       "    .dataframe tbody tr th:only-of-type {\n",
       "        vertical-align: middle;\n",
       "    }\n",
       "\n",
       "    .dataframe tbody tr th {\n",
       "        vertical-align: top;\n",
       "    }\n",
       "\n",
       "    .dataframe thead th {\n",
       "        text-align: right;\n",
       "    }\n",
       "</style>\n",
       "<table border=\"1\" class=\"dataframe\">\n",
       "  <thead>\n",
       "    <tr style=\"text-align: right;\">\n",
       "      <th></th>\n",
       "      <th>final_error_code</th>\n",
       "      <th>intermediate_error_codes</th>\n",
       "      <th>status</th>\n",
       "      <th>date_completed</th>\n",
       "    </tr>\n",
       "  </thead>\n",
       "  <tbody>\n",
       "    <tr>\n",
       "      <th>0</th>\n",
       "      <td>NaN</td>\n",
       "      <td>[23]</td>\n",
       "      <td>TransferStatus.FAILED</td>\n",
       "      <td>NaT</td>\n",
       "    </tr>\n",
       "    <tr>\n",
       "      <th>1</th>\n",
       "      <td>NaN</td>\n",
       "      <td>[20]</td>\n",
       "      <td>TransferStatus.FAILED</td>\n",
       "      <td>NaT</td>\n",
       "    </tr>\n",
       "    <tr>\n",
       "      <th>2</th>\n",
       "      <td>NaN</td>\n",
       "      <td>[10]</td>\n",
       "      <td>TransferStatus.FAILED</td>\n",
       "      <td>NaT</td>\n",
       "    </tr>\n",
       "    <tr>\n",
       "      <th>3</th>\n",
       "      <td>NaN</td>\n",
       "      <td>[10]</td>\n",
       "      <td>TransferStatus.FAILED</td>\n",
       "      <td>NaT</td>\n",
       "    </tr>\n",
       "    <tr>\n",
       "      <th>4</th>\n",
       "      <td>NaN</td>\n",
       "      <td>[10]</td>\n",
       "      <td>TransferStatus.FAILED</td>\n",
       "      <td>NaT</td>\n",
       "    </tr>\n",
       "    <tr>\n",
       "      <th>...</th>\n",
       "      <td>...</td>\n",
       "      <td>...</td>\n",
       "      <td>...</td>\n",
       "      <td>...</td>\n",
       "    </tr>\n",
       "    <tr>\n",
       "      <th>165064</th>\n",
       "      <td>NaN</td>\n",
       "      <td>[]</td>\n",
       "      <td>TransferStatus.INTEGRATED</td>\n",
       "      <td>2020-07-01 06:39:08.615000+00:00</td>\n",
       "    </tr>\n",
       "    <tr>\n",
       "      <th>165065</th>\n",
       "      <td>NaN</td>\n",
       "      <td>[]</td>\n",
       "      <td>TransferStatus.INTEGRATED</td>\n",
       "      <td>2020-07-01 06:38:55.183000+00:00</td>\n",
       "    </tr>\n",
       "    <tr>\n",
       "      <th>165066</th>\n",
       "      <td>NaN</td>\n",
       "      <td>[]</td>\n",
       "      <td>TransferStatus.INTEGRATED</td>\n",
       "      <td>2020-07-01 06:38:33.343000+00:00</td>\n",
       "    </tr>\n",
       "    <tr>\n",
       "      <th>165067</th>\n",
       "      <td>NaN</td>\n",
       "      <td>[]</td>\n",
       "      <td>TransferStatus.INTEGRATED</td>\n",
       "      <td>2020-07-01 05:49:42.736000+00:00</td>\n",
       "    </tr>\n",
       "    <tr>\n",
       "      <th>165068</th>\n",
       "      <td>NaN</td>\n",
       "      <td>[]</td>\n",
       "      <td>TransferStatus.INTEGRATED</td>\n",
       "      <td>2020-07-01 05:49:17.646000+00:00</td>\n",
       "    </tr>\n",
       "  </tbody>\n",
       "</table>\n",
       "<p>165069 rows × 4 columns</p>\n",
       "</div>"
      ],
      "text/plain": [
       "        final_error_code intermediate_error_codes                     status  \\\n",
       "0                    NaN                     [23]      TransferStatus.FAILED   \n",
       "1                    NaN                     [20]      TransferStatus.FAILED   \n",
       "2                    NaN                     [10]      TransferStatus.FAILED   \n",
       "3                    NaN                     [10]      TransferStatus.FAILED   \n",
       "4                    NaN                     [10]      TransferStatus.FAILED   \n",
       "...                  ...                      ...                        ...   \n",
       "165064               NaN                       []  TransferStatus.INTEGRATED   \n",
       "165065               NaN                       []  TransferStatus.INTEGRATED   \n",
       "165066               NaN                       []  TransferStatus.INTEGRATED   \n",
       "165067               NaN                       []  TransferStatus.INTEGRATED   \n",
       "165068               NaN                       []  TransferStatus.INTEGRATED   \n",
       "\n",
       "                         date_completed  \n",
       "0                                   NaT  \n",
       "1                                   NaT  \n",
       "2                                   NaT  \n",
       "3                                   NaT  \n",
       "4                                   NaT  \n",
       "...                                 ...  \n",
       "165064 2020-07-01 06:39:08.615000+00:00  \n",
       "165065 2020-07-01 06:38:55.183000+00:00  \n",
       "165066 2020-07-01 06:38:33.343000+00:00  \n",
       "165067 2020-07-01 05:49:42.736000+00:00  \n",
       "165068 2020-07-01 05:49:17.646000+00:00  \n",
       "\n",
       "[165069 rows x 4 columns]"
      ]
     },
     "execution_count": 6,
     "metadata": {},
     "output_type": "execute_result"
    }
   ],
   "source": [
    "transfers_df = pd.DataFrame(transfers)[[\"final_error_code\", \"intermediate_error_codes\", \"status\", \"date_completed\"]]\n",
    "transfers_df"
   ]
  },
  {
   "cell_type": "markdown",
   "metadata": {},
   "source": [
    "## Investigation into the final outcome of transfers with intermediate errors"
   ]
  },
  {
   "cell_type": "code",
   "execution_count": 21,
   "metadata": {},
   "outputs": [],
   "source": [
    "total_number_transfers = len(transfers_df.index)\n",
    "transfer_error_code_count = transfers_df[\"intermediate_error_codes\"].map(lambda error_codes: len(error_codes))\n",
    "transfers_with_intermediate_errors = transfers_df[transfer_error_code_count > 0]"
   ]
  },
  {
   "cell_type": "code",
   "execution_count": 22,
   "metadata": {},
   "outputs": [
    {
     "data": {
      "text/html": [
       "<div>\n",
       "<style scoped>\n",
       "    .dataframe tbody tr th:only-of-type {\n",
       "        vertical-align: middle;\n",
       "    }\n",
       "\n",
       "    .dataframe tbody tr th {\n",
       "        vertical-align: top;\n",
       "    }\n",
       "\n",
       "    .dataframe thead th {\n",
       "        text-align: right;\n",
       "    }\n",
       "</style>\n",
       "<table border=\"1\" class=\"dataframe\">\n",
       "  <thead>\n",
       "    <tr style=\"text-align: right;\">\n",
       "      <th></th>\n",
       "      <th>final_error_code</th>\n",
       "      <th>intermediate_error_codes</th>\n",
       "      <th>status</th>\n",
       "      <th>date_completed</th>\n",
       "    </tr>\n",
       "  </thead>\n",
       "  <tbody>\n",
       "    <tr>\n",
       "      <th>0</th>\n",
       "      <td>NaN</td>\n",
       "      <td>[23]</td>\n",
       "      <td>TransferStatus.FAILED</td>\n",
       "      <td>NaT</td>\n",
       "    </tr>\n",
       "    <tr>\n",
       "      <th>1</th>\n",
       "      <td>NaN</td>\n",
       "      <td>[20]</td>\n",
       "      <td>TransferStatus.FAILED</td>\n",
       "      <td>NaT</td>\n",
       "    </tr>\n",
       "    <tr>\n",
       "      <th>2</th>\n",
       "      <td>NaN</td>\n",
       "      <td>[10]</td>\n",
       "      <td>TransferStatus.FAILED</td>\n",
       "      <td>NaT</td>\n",
       "    </tr>\n",
       "    <tr>\n",
       "      <th>3</th>\n",
       "      <td>NaN</td>\n",
       "      <td>[10]</td>\n",
       "      <td>TransferStatus.FAILED</td>\n",
       "      <td>NaT</td>\n",
       "    </tr>\n",
       "    <tr>\n",
       "      <th>4</th>\n",
       "      <td>NaN</td>\n",
       "      <td>[10]</td>\n",
       "      <td>TransferStatus.FAILED</td>\n",
       "      <td>NaT</td>\n",
       "    </tr>\n",
       "    <tr>\n",
       "      <th>...</th>\n",
       "      <td>...</td>\n",
       "      <td>...</td>\n",
       "      <td>...</td>\n",
       "      <td>...</td>\n",
       "    </tr>\n",
       "    <tr>\n",
       "      <th>165024</th>\n",
       "      <td>NaN</td>\n",
       "      <td>[30]</td>\n",
       "      <td>TransferStatus.FAILED</td>\n",
       "      <td>NaT</td>\n",
       "    </tr>\n",
       "    <tr>\n",
       "      <th>165026</th>\n",
       "      <td>NaN</td>\n",
       "      <td>[14]</td>\n",
       "      <td>TransferStatus.FAILED</td>\n",
       "      <td>NaT</td>\n",
       "    </tr>\n",
       "    <tr>\n",
       "      <th>165037</th>\n",
       "      <td>NaN</td>\n",
       "      <td>[6]</td>\n",
       "      <td>TransferStatus.FAILED</td>\n",
       "      <td>NaT</td>\n",
       "    </tr>\n",
       "    <tr>\n",
       "      <th>165051</th>\n",
       "      <td>NaN</td>\n",
       "      <td>[10]</td>\n",
       "      <td>TransferStatus.FAILED</td>\n",
       "      <td>NaT</td>\n",
       "    </tr>\n",
       "    <tr>\n",
       "      <th>165056</th>\n",
       "      <td>NaN</td>\n",
       "      <td>[30]</td>\n",
       "      <td>TransferStatus.FAILED</td>\n",
       "      <td>NaT</td>\n",
       "    </tr>\n",
       "  </tbody>\n",
       "</table>\n",
       "<p>4348 rows × 4 columns</p>\n",
       "</div>"
      ],
      "text/plain": [
       "        final_error_code intermediate_error_codes                 status  \\\n",
       "0                    NaN                     [23]  TransferStatus.FAILED   \n",
       "1                    NaN                     [20]  TransferStatus.FAILED   \n",
       "2                    NaN                     [10]  TransferStatus.FAILED   \n",
       "3                    NaN                     [10]  TransferStatus.FAILED   \n",
       "4                    NaN                     [10]  TransferStatus.FAILED   \n",
       "...                  ...                      ...                    ...   \n",
       "165024               NaN                     [30]  TransferStatus.FAILED   \n",
       "165026               NaN                     [14]  TransferStatus.FAILED   \n",
       "165037               NaN                      [6]  TransferStatus.FAILED   \n",
       "165051               NaN                     [10]  TransferStatus.FAILED   \n",
       "165056               NaN                     [30]  TransferStatus.FAILED   \n",
       "\n",
       "       date_completed  \n",
       "0                 NaT  \n",
       "1                 NaT  \n",
       "2                 NaT  \n",
       "3                 NaT  \n",
       "4                 NaT  \n",
       "...               ...  \n",
       "165024            NaT  \n",
       "165026            NaT  \n",
       "165037            NaT  \n",
       "165051            NaT  \n",
       "165056            NaT  \n",
       "\n",
       "[4348 rows x 4 columns]"
      ]
     },
     "execution_count": 22,
     "metadata": {},
     "output_type": "execute_result"
    }
   ],
   "source": [
    "transfers_with_intermediate_errors_df = pd.DataFrame(transfers_with_intermediate_errors)[[\"final_error_code\", \"intermediate_error_codes\", \"status\", \"date_completed\",]]\n",
    "transfers_with_intermediate_errors_df"
   ]
  },
  {
   "cell_type": "code",
   "execution_count": 23,
   "metadata": {},
   "outputs": [
    {
     "name": "stdout",
     "output_type": "stream",
     "text": [
      "Total number of transfers: 165069\n"
     ]
    }
   ],
   "source": [
    "print(f\"Total number of transfers: {total_number_transfers}\")"
   ]
  },
  {
   "cell_type": "code",
   "execution_count": 24,
   "metadata": {},
   "outputs": [],
   "source": [
    "def calculate_percentage(subset, total):\n",
    "    return round((subset/total) * 100, 2)"
   ]
  },
  {
   "cell_type": "code",
   "execution_count": 25,
   "metadata": {},
   "outputs": [
    {
     "name": "stdout",
     "output_type": "stream",
     "text": [
      "Total number of transfers with intermediate errors: 4348, out of a total transfer count of 165069 (2.63%) for transfers that began in the month of July (and cut off point being up until October)\n"
     ]
    }
   ],
   "source": [
    "total_number_transfers_with_intermediate_error_codes = len(transfers_with_intermediate_errors_df.index)\n",
    "\n",
    "print(f\"Total number of transfers with intermediate errors: {total_number_transfers_with_intermediate_error_codes}, out of a total transfer count of {total_number_transfers} ({calculate_percentage(total_number_transfers_with_intermediate_error_codes, total_number_transfers)}%) for transfers that began in the month of July (and cut off point being up until October)\")"
   ]
  },
  {
   "cell_type": "code",
   "execution_count": 26,
   "metadata": {},
   "outputs": [
    {
     "name": "stdout",
     "output_type": "stream",
     "text": [
      "Transfers with intermediate errors that eventually integrate: 340 out of 4348 (7.82%)\n"
     ]
    }
   ],
   "source": [
    "eventually_integrated_count = len(transfers_with_intermediate_errors_df[transfers_with_intermediate_errors_df[\"date_completed\"].notnull()].index)\n",
    "percentage_eventually_integrated = calculate_percentage(eventually_integrated_count, total_number_transfers_with_intermediate_error_codes)\n",
    "\n",
    "print(f\"Transfers with intermediate errors that eventually integrate: {eventually_integrated_count} out of {total_number_transfers_with_intermediate_error_codes} ({percentage_eventually_integrated}%)\")"
   ]
  },
  {
   "cell_type": "code",
   "execution_count": 27,
   "metadata": {},
   "outputs": [
    {
     "name": "stdout",
     "output_type": "stream",
     "text": [
      "Transfers with intermediate error codes that eventually failed: 97.0 out of 4348 (2.23%)\n"
     ]
    }
   ],
   "source": [
    "eventually_fails_count = transfers_with_intermediate_errors_df[\"final_error_code\"].describe()[\"count\"]\n",
    "percentage_eventually_failed = calculate_percentage(eventually_fails_count, total_number_transfers_with_intermediate_error_codes)\n",
    "\n",
    "print(f\"Transfers with intermediate error codes that eventually failed: {eventually_fails_count} out of {total_number_transfers_with_intermediate_error_codes} ({percentage_eventually_failed}%)\")"
   ]
  },
  {
   "cell_type": "code",
   "execution_count": 28,
   "metadata": {},
   "outputs": [
    {
     "name": "stdout",
     "output_type": "stream",
     "text": [
      "Transfers with intermediate error codes that are still pending: 3911.0 out of 4348 (89.95)%\n"
     ]
    }
   ],
   "source": [
    "unresolved_count = total_number_transfers_with_intermediate_error_codes - (eventually_fails_count + eventually_integrated_count)\n",
    "percentage_unresolved = calculate_percentage(unresolved_count, total_number_transfers_with_intermediate_error_codes)\n",
    "\n",
    "print(f\"Transfers with intermediate error codes that are still pending: {unresolved_count} out of {total_number_transfers_with_intermediate_error_codes} ({percentage_unresolved})%\")"
   ]
  },
  {
   "cell_type": "markdown",
   "metadata": {},
   "source": [
    "# Transfers completed over time"
   ]
  },
  {
   "cell_type": "code",
   "execution_count": 138,
   "metadata": {},
   "outputs": [],
   "source": [
    "start_date = date(2020, 8, 1)\n",
    "transfers_date_series = transfers_df[\"date_completed\"].apply(lambda dt: (dt.date()-start_date).days if not pd.isnull(dt) else None)\n",
    "transfers_date_df = transfers_date_series.to_frame(name=\"days_to_complete\")\n",
    "days_to_complete_df = transfers_date_df.groupby(\"days_to_complete\").size().reset_index(name='counts')"
   ]
  },
  {
   "cell_type": "code",
   "execution_count": 139,
   "metadata": {},
   "outputs": [],
   "source": [
    "filled_days_to_complete_df = pd.Series(range(-31,91)).to_frame(\"days_to_complete\")\n",
    "days_to_complete_df = pd.merge(filled_days_to_complete_df, days_to_complete_df, how=\"outer\", on=\"days_to_complete\").fillna(0)"
   ]
  },
  {
   "cell_type": "code",
   "execution_count": 140,
   "metadata": {},
   "outputs": [
    {
     "data": {
      "text/html": [
       "<div>\n",
       "<style scoped>\n",
       "    .dataframe tbody tr th:only-of-type {\n",
       "        vertical-align: middle;\n",
       "    }\n",
       "\n",
       "    .dataframe tbody tr th {\n",
       "        vertical-align: top;\n",
       "    }\n",
       "\n",
       "    .dataframe thead th {\n",
       "        text-align: right;\n",
       "    }\n",
       "</style>\n",
       "<table border=\"1\" class=\"dataframe\">\n",
       "  <thead>\n",
       "    <tr style=\"text-align: right;\">\n",
       "      <th></th>\n",
       "      <th>days_to_complete</th>\n",
       "      <th>counts</th>\n",
       "      <th>percent_complete</th>\n",
       "    </tr>\n",
       "  </thead>\n",
       "  <tbody>\n",
       "    <tr>\n",
       "      <th>0</th>\n",
       "      <td>-31</td>\n",
       "      <td>3039.0</td>\n",
       "      <td>1.841048</td>\n",
       "    </tr>\n",
       "    <tr>\n",
       "      <th>1</th>\n",
       "      <td>-30</td>\n",
       "      <td>4690.0</td>\n",
       "      <td>4.682284</td>\n",
       "    </tr>\n",
       "    <tr>\n",
       "      <th>2</th>\n",
       "      <td>-29</td>\n",
       "      <td>4563.0</td>\n",
       "      <td>7.446583</td>\n",
       "    </tr>\n",
       "    <tr>\n",
       "      <th>3</th>\n",
       "      <td>-28</td>\n",
       "      <td>73.0</td>\n",
       "      <td>7.490807</td>\n",
       "    </tr>\n",
       "    <tr>\n",
       "      <th>4</th>\n",
       "      <td>-27</td>\n",
       "      <td>145.0</td>\n",
       "      <td>7.578649</td>\n",
       "    </tr>\n",
       "    <tr>\n",
       "      <th>...</th>\n",
       "      <td>...</td>\n",
       "      <td>...</td>\n",
       "      <td>...</td>\n",
       "    </tr>\n",
       "    <tr>\n",
       "      <th>118</th>\n",
       "      <td>87</td>\n",
       "      <td>12.0</td>\n",
       "      <td>95.197766</td>\n",
       "    </tr>\n",
       "    <tr>\n",
       "      <th>119</th>\n",
       "      <td>88</td>\n",
       "      <td>4.0</td>\n",
       "      <td>95.200189</td>\n",
       "    </tr>\n",
       "    <tr>\n",
       "      <th>120</th>\n",
       "      <td>89</td>\n",
       "      <td>19.0</td>\n",
       "      <td>95.211699</td>\n",
       "    </tr>\n",
       "    <tr>\n",
       "      <th>121</th>\n",
       "      <td>90</td>\n",
       "      <td>0.0</td>\n",
       "      <td>95.211699</td>\n",
       "    </tr>\n",
       "    <tr>\n",
       "      <th>122</th>\n",
       "      <td>91</td>\n",
       "      <td>1.0</td>\n",
       "      <td>95.212305</td>\n",
       "    </tr>\n",
       "  </tbody>\n",
       "</table>\n",
       "<p>123 rows × 3 columns</p>\n",
       "</div>"
      ],
      "text/plain": [
       "     days_to_complete  counts  percent_complete\n",
       "0                 -31  3039.0          1.841048\n",
       "1                 -30  4690.0          4.682284\n",
       "2                 -29  4563.0          7.446583\n",
       "3                 -28    73.0          7.490807\n",
       "4                 -27   145.0          7.578649\n",
       "..                ...     ...               ...\n",
       "118                87    12.0         95.197766\n",
       "119                88     4.0         95.200189\n",
       "120                89    19.0         95.211699\n",
       "121                90     0.0         95.211699\n",
       "122                91     1.0         95.212305\n",
       "\n",
       "[123 rows x 3 columns]"
      ]
     },
     "execution_count": 140,
     "metadata": {},
     "output_type": "execute_result"
    }
   ],
   "source": [
    "days_to_complete_df[\"percent_complete\"] = (days_to_complete_df[\"counts\"].cumsum()/total_number_transfers)*100\n",
    "days_to_complete_df"
   ]
  },
  {
   "cell_type": "code",
   "execution_count": 141,
   "metadata": {},
   "outputs": [],
   "source": [
    "def percentage_after_cut_off(days_to_complete_df, number_of_days):\n",
    "    return round(days_to_complete_df.loc[days_to_complete_df[\"days_to_complete\"] == number_of_days].iloc[0][\"percent_complete\"], 3)"
   ]
  },
  {
   "cell_type": "code",
   "execution_count": 165,
   "metadata": {},
   "outputs": [],
   "source": [
    "percentage_complete_after_one_weeks = percentage_after_cut_off(days_to_complete_df, 4)\n",
    "percentage_complete_after_two_weeks = percentage_after_cut_off(days_to_complete_df, 14)\n",
    "percentage_complete_after_four_weeks =  percentage_after_cut_off(days_to_complete_df, 28)\n",
    "percentage_complete_after_six_weeks =  percentage_after_cut_off(days_to_complete_df, 42)"
   ]
  },
  {
   "cell_type": "code",
   "execution_count": 166,
   "metadata": {},
   "outputs": [
    {
     "data": {
      "text/plain": [
       "Text(43, 98, '94.808% completed after six weeks')"
      ]
     },
     "execution_count": 166,
     "metadata": {},
     "output_type": "execute_result"
    },
    {
     "data": {
      "image/png": "[encoded data removed]",
      "text/plain": [
       "<Figure size 1008x720 with 1 Axes>"
      ]
     },
     "metadata": {
      "needs_background": "light"
     },
     "output_type": "display_data"
    }
   ],
   "source": [
    "days_to_complete_plot = days_to_complete_df.plot.line(x=\"days_to_complete\", y=\"percent_complete\",\n",
    "    title=\"Transfers started that completed after the end of the month\", figsize=(14,10), legend=False)\n",
    "days_to_complete_plot.set_xlim(0, 90)\n",
    "days_to_complete_plot.set_ylim(86, 100)\n",
    "days_to_complete_plot.set(xlabel=\"Days to complete after end of July\", ylabel=\"Percentage complete\")\n",
    "\n",
    "days_to_complete_plot.axvline(7, color='red', linestyle='--')\n",
    "days_to_complete_plot.text(s=f\"{percentage_complete_after_one_weeks}% completed after two weeks\", x=8, y=95, color='red')\n",
    "\n",
    "days_to_complete_plot.axvline(14, color='orange', linestyle='--')\n",
    "days_to_complete_plot.text(s=f\"{percentage_complete_after_two_weeks}% completed after two weeks\", x=15, y=96, color='orange')\n",
    "\n",
    "days_to_complete_plot.axvline(28, color='purple', linestyle='--')\n",
    "days_to_complete_plot.text(s=f\"{percentage_complete_after_four_weeks}% completed after four weeks\", x=29, y=97, color='purple')\n",
    "\n",
    "days_to_complete_plot.axvline(42, color='brown', linestyle='--')\n",
    "days_to_complete_plot.text(s=f\"{percentage_complete_after_six_weeks}% completed after six weeks\", x=43, y=98, color='brown')"
   ]
  }
 ],
 "metadata": {
  "kernelspec": {
   "display_name": "Python 3",
   "language": "python",
   "name": "python3"
  },
  "language_info": {
   "codemirror_mode": {
    "name": "ipython",
    "version": 3
   },
   "file_extension": ".py",
   "mimetype": "text/x-python",
   "name": "python",
   "nbconvert_exporter": "python",
   "pygments_lexer": "ipython3",
   "version": "3.8.1"
  }
 },
 "nbformat": 4,
 "nbformat_minor": 4
}