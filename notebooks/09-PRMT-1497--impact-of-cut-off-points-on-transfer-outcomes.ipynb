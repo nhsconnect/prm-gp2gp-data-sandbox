{
 "cells": [
  {
   "cell_type": "markdown",
   "metadata": {},
   "source": [
    "# Impact of cut off points on transfer outcomes"
   ]
  },
  {
   "cell_type": "markdown",
   "metadata": {},
   "source": [
    "We need to decide when we should consistently cut off the data to show a full picture of a month. The purpose of this analysis is to assess the impact of different cut off points. For example, if we cut off the data two weeks after the month end, we might have 1% of transfers that are shown in pending but will ultimately be successful, compared to doing it three weeks after the month end where we might ave 0.5% of transfers that are pending but ultimately successful. "
   ]
  },
  {
   "cell_type": "code",
   "execution_count": null,
   "metadata": {},
   "outputs": [],
   "source": [
    "import paths\n",
    "from datetime import datetime, date\n",
    "from dateutil.tz import tzutc\n",
    "import pandas as pd\n",
    "from matplotlib import pyplot as plt"
   ]
  },
  {
   "cell_type": "code",
   "execution_count": null,
   "metadata": {},
   "outputs": [],
   "source": [
    "from gp2gp.date.range import DateTimeRange\n",
    "from gp2gp.pipeline.dashboard.main import read_spine_csv_gz_files\n",
    "from gp2gp.service.transformers import derive_transfers\n",
    "from scripts.gp2gp_spine_outcomes import parse_conversations"
   ]
  },
  {
   "cell_type": "code",
   "execution_count": null,
   "metadata": {},
   "outputs": [],
   "source": [
    "july_data_file_name = \"../data/months/July-2020.csv.gz\"\n",
    "august_data_file_name = \"../data/months/Aug-2020.csv.gz\"\n",
    "september_data_file_name=\"../data/months/Sept-2020.csv.gz\"\n",
    "october_data_file_name = \"../data/months/Oct-2020.csv.gz\""
   ]
  },
  {
   "cell_type": "code",
   "execution_count": null,
   "metadata": {},
   "outputs": [],
   "source": [
    "july_time_range = DateTimeRange(\n",
    "    datetime(year=2020, month=7, day=1, tzinfo=tzutc()),\n",
    "    datetime(year=2020, month=8, day=1, tzinfo=tzutc()),\n",
    ")"
   ]
  },
  {
   "cell_type": "code",
   "execution_count": null,
   "metadata": {},
   "outputs": [],
   "source": [
    "  spine_messages = read_spine_csv_gz_files([\n",
    "      july_data_file_name\n",
    "  ])\n",
    "\n",
    "  conversations = parse_conversations(spine_messages, time_range=july_time_range)\n",
    "  transfers = derive_transfers(conversations)"
   ]
  },
  {
   "cell_type": "code",
   "execution_count": null,
   "metadata": {},
   "outputs": [],
   "source": [
    "transfers_df = pd.DataFrame(transfers)[[\"final_error_code\", \"intermediate_error_codes\", \"status\", \"date_completed\"]]\n",
    "transfers_df"
   ]
  },
  {
   "cell_type": "markdown",
   "metadata": {},
   "source": [
    "## Investigation into the final outcome of transfers with intermediate errors"
   ]
  },
  {
   "cell_type": "code",
   "execution_count": null,
   "metadata": {},
   "outputs": [],
   "source": [
    "total_number_transfers = len(transfers_df.index)\n",
    "transfer_error_code_count = transfers_df[\"intermediate_error_codes\"].map(lambda error_codes: len(error_codes))\n",
    "transfers_with_intermediate_errors = transfers_df[transfer_error_code_count > 0]"
   ]
  },
  {
   "cell_type": "code",
   "execution_count": null,
   "metadata": {},
   "outputs": [],
   "source": [
    "transfers_with_intermediate_errors_df = pd.DataFrame(transfers_with_intermediate_errors)[[\"final_error_code\", \"intermediate_error_codes\", \"status\", \"date_completed\",]]\n",
    "transfers_with_intermediate_errors_df"
   ]
  },
  {
   "cell_type": "code",
   "execution_count": null,
   "metadata": {},
   "outputs": [],
   "source": [
    "print(f\"Total number of transfers: {total_number_transfers}\")"
   ]
  },
  {
   "cell_type": "code",
   "execution_count": null,
   "metadata": {},
   "outputs": [],
   "source": [
    "def calculate_percentage(subset, total):\n",
    "    return round((subset/total) * 100, 2)"
   ]
  },
  {
   "cell_type": "code",
   "execution_count": null,
   "metadata": {},
   "outputs": [],
   "source": [
    "total_number_transfers_with_intermediate_error_codes = len(transfers_with_intermediate_errors_df.index)\n",
    "\n",
    "print(f\"Total number of transfers with intermediate errors: {total_number_transfers_with_intermediate_error_codes}, out of a total transfer count of {total_number_transfers} ({calculate_percentage(total_number_transfers_with_intermediate_error_codes, total_number_transfers)}%) for transfers that began in the month of July (and cut off point being up until October)\")"
   ]
  },
  {
   "cell_type": "code",
   "execution_count": null,
   "metadata": {},
   "outputs": [],
   "source": [
    "eventually_integrated_count = len(transfers_with_intermediate_errors_df[transfers_with_intermediate_errors_df[\"date_completed\"].notnull()].index)\n",
    "percentage_eventually_integrated = calculate_percentage(eventually_integrated_count, total_number_transfers_with_intermediate_error_codes)\n",
    "\n",
    "print(f\"Transfers with intermediate errors that eventually integrate: {eventually_integrated_count} out of {total_number_transfers_with_intermediate_error_codes} ({percentage_eventually_integrated}%)\")"
   ]
  },
  {
   "cell_type": "code",
   "execution_count": null,
   "metadata": {},
   "outputs": [],
   "source": [
    "eventually_fails_count = transfers_with_intermediate_errors_df[\"final_error_code\"].describe()[\"count\"]\n",
    "percentage_eventually_failed = calculate_percentage(eventually_fails_count, total_number_transfers_with_intermediate_error_codes)\n",
    "\n",
    "print(f\"Transfers with intermediate error codes that eventually failed: {eventually_fails_count} out of {total_number_transfers_with_intermediate_error_codes} ({percentage_eventually_failed}%)\")"
   ]
  },
  {
   "cell_type": "code",
   "execution_count": null,
   "metadata": {},
   "outputs": [],
   "source": [
    "unresolved_count = total_number_transfers_with_intermediate_error_codes - (eventually_fails_count + eventually_integrated_count)\n",
    "percentage_unresolved = calculate_percentage(unresolved_count, total_number_transfers_with_intermediate_error_codes)\n",
    "\n",
    "print(f\"Transfers with intermediate error codes that are still pending: {unresolved_count} out of {total_number_transfers_with_intermediate_error_codes} ({percentage_unresolved})%\")"
   ]
  },
  {
   "cell_type": "markdown",
   "metadata": {},
   "source": [
    "# Transfers completed over time"
   ]
  },
  {
   "cell_type": "code",
   "execution_count": null,
   "metadata": {},
   "outputs": [],
   "source": [
    "start_date = date(2020, 7, 1)\n",
    "transfers_date_series = transfers_df[\"date_completed\"].apply(lambda dt: (dt.date()-start_date).days if not pd.isnull(dt) else None)\n",
    "transfers_date_df = transfers_date_series.to_frame(name=\"days_to_complete\")\n",
    "days_to_complete_df = transfers_date_df.groupby(\"days_to_complete\").size().reset_index(name='counts')"
   ]
  },
  {
   "cell_type": "code",
   "execution_count": null,
   "metadata": {},
   "outputs": [],
   "source": [
    "days_to_complete_df[\"percent_complete\"] = (days_to_complete_df[\"counts\"].cumsum()/total_number_transfers)*100\n",
    "days_to_complete_df.head()"
   ]
  }
 ],
 "metadata": {
  "kernelspec": {
   "display_name": "Python 3",
   "language": "python",
   "name": "python3"
  },
  "language_info": {
   "codemirror_mode": {
    "name": "ipython",
    "version": 3
   },
   "file_extension": ".py",
   "mimetype": "text/x-python",
   "name": "python",
   "nbconvert_exporter": "python",
   "pygments_lexer": "ipython3",
   "version": "3.8.6"
  }
 },
 "nbformat": 4,
 "nbformat_minor": 4
}
