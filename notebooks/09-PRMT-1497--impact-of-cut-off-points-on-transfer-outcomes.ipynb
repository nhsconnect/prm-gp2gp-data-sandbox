{
 "metadata": {
  "language_info": {
   "codemirror_mode": {
    "name": "ipython",
    "version": 3
   },
   "file_extension": ".py",
   "mimetype": "text/x-python",
   "name": "python",
   "nbconvert_exporter": "python",
   "pygments_lexer": "ipython3",
   "version": "3.8.1-final"
  },
  "orig_nbformat": 2,
  "kernelspec": {
   "name": "python3",
   "display_name": "Python 3.8.1 64-bit ('venv')",
   "metadata": {
    "interpreter": {
     "hash": "ee89a30b763cf696c0267df6abaef35a51c05068e06c7df11fe54a439e919a16"
    }
   }
  }
 },
 "nbformat": 4,
 "nbformat_minor": 2,
 "cells": [
  {
   "source": [
    "# Impact of cut off points on transfer outcomes"
   ],
   "cell_type": "markdown",
   "metadata": {}
  },
  {
   "source": [
    "We need to decide when we should consistently cut off the data to show a full picture of a month. The purpose of this analysis is to assess the impact of different cut off points. For example, if we cut off the data two weeks after the month end, we might have 1% of transfers that are shown in pending but will ultimately be successful, compared to doing it three weeks after the month end where we might ave 0.5% of transfers that are pending but ultimately successful. "
   ],
   "cell_type": "markdown",
   "metadata": {}
  },
  {
   "cell_type": "code",
   "execution_count": 1,
   "metadata": {},
   "outputs": [],
   "source": [
    "import paths\n",
    "from datetime import datetime\n",
    "from dateutil.tz import tzutc\n",
    "\n",
    "from gp2gp.date.range import DateTimeRange\n",
    "from gp2gp.pipeline.dashboard.main import read_spine_csv_gz_files\n",
    "from gp2gp.service.transformers import derive_transfers\n",
    "from scripts.gp2gp_spine_outcomes import parse_conversations"
   ]
  },
  {
   "cell_type": "code",
   "execution_count": 2,
   "metadata": {},
   "outputs": [],
   "source": [
    "july_data_file_name = \"../data/months/July-2020.csv.gz\"\n",
    "august_data_file_name = \"../data/months/Aug-2020.csv.gz\"\n",
    "september_data_file_name=\"../data/months/Sept-2020.csv.gz\"\n",
    "october_data_file_name = \"../data/months/Oct-2020.csv.gz\""
   ]
  },
  {
   "cell_type": "code",
   "execution_count": 3,
   "metadata": {},
   "outputs": [],
   "source": [
    "july_time_range = DateTimeRange(\n",
    "    datetime(year=2020, month=7, day=1, tzinfo=tzutc()),\n",
    "    datetime(year=2020, month=8, day=1, tzinfo=tzutc()),\n",
    ")"
   ]
  },
  {
   "cell_type": "code",
   "execution_count": 4,
   "metadata": {},
   "outputs": [],
   "source": [
    "  spine_messages = read_spine_csv_gz_files([\n",
    "      july_data_file_name, august_data_file_name\n",
    "  ])\n",
    "\n",
    "  conversations = parse_conversations(spine_messages, time_range=july_time_range)\n",
    "  transfers = derive_transfers(conversations)"
   ]
  },
  {
   "cell_type": "code",
   "execution_count": 5,
   "metadata": {},
   "outputs": [],
   "source": [
    "import pandas as pd\n",
    "from matplotlib import pyplot as plt"
   ]
  },
  {
   "cell_type": "code",
   "execution_count": 6,
   "metadata": {},
   "outputs": [
    {
     "output_type": "execute_result",
     "data": {
      "text/plain": [
       "                           status                   date_completed\n",
       "0           TransferStatus.FAILED                              NaT\n",
       "1           TransferStatus.FAILED                              NaT\n",
       "2           TransferStatus.FAILED                              NaT\n",
       "3           TransferStatus.FAILED                              NaT\n",
       "4           TransferStatus.FAILED                              NaT\n",
       "...                           ...                              ...\n",
       "165064  TransferStatus.INTEGRATED 2020-07-01 06:39:08.615000+00:00\n",
       "165065  TransferStatus.INTEGRATED 2020-07-01 06:38:55.183000+00:00\n",
       "165066  TransferStatus.INTEGRATED 2020-07-01 06:38:33.343000+00:00\n",
       "165067  TransferStatus.INTEGRATED 2020-07-01 05:49:42.736000+00:00\n",
       "165068  TransferStatus.INTEGRATED 2020-07-01 05:49:17.646000+00:00\n",
       "\n",
       "[165069 rows x 2 columns]"
      ],
      "text/html": "<div>\n<style scoped>\n    .dataframe tbody tr th:only-of-type {\n        vertical-align: middle;\n    }\n\n    .dataframe tbody tr th {\n        vertical-align: top;\n    }\n\n    .dataframe thead th {\n        text-align: right;\n    }\n</style>\n<table border=\"1\" class=\"dataframe\">\n  <thead>\n    <tr style=\"text-align: right;\">\n      <th></th>\n      <th>status</th>\n      <th>date_completed</th>\n    </tr>\n  </thead>\n  <tbody>\n    <tr>\n      <th>0</th>\n      <td>TransferStatus.FAILED</td>\n      <td>NaT</td>\n    </tr>\n    <tr>\n      <th>1</th>\n      <td>TransferStatus.FAILED</td>\n      <td>NaT</td>\n    </tr>\n    <tr>\n      <th>2</th>\n      <td>TransferStatus.FAILED</td>\n      <td>NaT</td>\n    </tr>\n    <tr>\n      <th>3</th>\n      <td>TransferStatus.FAILED</td>\n      <td>NaT</td>\n    </tr>\n    <tr>\n      <th>4</th>\n      <td>TransferStatus.FAILED</td>\n      <td>NaT</td>\n    </tr>\n    <tr>\n      <th>...</th>\n      <td>...</td>\n      <td>...</td>\n    </tr>\n    <tr>\n      <th>165064</th>\n      <td>TransferStatus.INTEGRATED</td>\n      <td>2020-07-01 06:39:08.615000+00:00</td>\n    </tr>\n    <tr>\n      <th>165065</th>\n      <td>TransferStatus.INTEGRATED</td>\n      <td>2020-07-01 06:38:55.183000+00:00</td>\n    </tr>\n    <tr>\n      <th>165066</th>\n      <td>TransferStatus.INTEGRATED</td>\n      <td>2020-07-01 06:38:33.343000+00:00</td>\n    </tr>\n    <tr>\n      <th>165067</th>\n      <td>TransferStatus.INTEGRATED</td>\n      <td>2020-07-01 05:49:42.736000+00:00</td>\n    </tr>\n    <tr>\n      <th>165068</th>\n      <td>TransferStatus.INTEGRATED</td>\n      <td>2020-07-01 05:49:17.646000+00:00</td>\n    </tr>\n  </tbody>\n</table>\n<p>165069 rows × 2 columns</p>\n</div>"
     },
     "metadata": {},
     "execution_count": 6
    }
   ],
   "source": [
    "transfers_df = pd.DataFrame(transfers)[[\"status\", \"date_completed\"]]\n",
    "\n",
    "transfers_df"
   ]
  }
 ]
}