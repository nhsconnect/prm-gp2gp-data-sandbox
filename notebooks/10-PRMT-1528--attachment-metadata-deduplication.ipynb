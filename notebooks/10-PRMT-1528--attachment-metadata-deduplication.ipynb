{
 "cells": [
  {
   "cell_type": "markdown",
   "metadata": {},
   "source": [
    "# PRMR-1528 Attachment metadata deduplication"
   ]
  },
  {
   "cell_type": "markdown",
   "metadata": {},
   "source": [
    "### Context\n",
    "\n",
    "Currently we suspect that there is duplication in the attachments dataset. We believe attachments are being logged multiple times:\n",
    "- once in the `EHR request completed` message\n",
    "- again in a COPC message when large messaging is used (due to overal size of EHR and attachments exceeding 5mb or 99 attachments limit)\n",
    "- again in multiple COPC messages when attachment is broken down into fragments (due to being over 5mb)\n",
    "- again if there are duplicated `EHR request completed` messages\n",
    "\n",
    "Duplication caused by COPC messages could be resolved by filtering them out such that for each transfer we only consider attachments referenced in the manifest contained in the `EHR request completed` message. We propose enriching attachments dataset with interaction ID to enable this filtering.\n",
    "\n",
    "Duplication caused by multiple `EHR request completed` messages could be rosolved by counting attachments only from the latest one.\n",
    "\n",
    "### Requirements\n",
    "\n",
    "In order to replicate this notebook, perform the following steps:\n",
    "\n",
    "1. Log into Splunk and run the following query, for 21/12/2020 00:00:00:00 to 03/01/2020 24:00:00 time frame. Export the result as a csv named `attachment_metadata.csv`. \n",
    "\n",
    "```\n",
    "index=\"spine2vfmmonitor\" logReference=MPS0208\n",
    "| table _time, attachmentID, conversationID, FromSystem, ToSystem, attachmentType, Compressed, ContentType, LargeAttachment, Length, OriginalBase64, internalID\n",
    "```\n",
    "\n",
    "2. Run the following Splunk query for the same time range. Export the result as a csv named `gp2gp_messages.csv`.\n",
    "\n",
    "```\n",
    "index=\"spine2vfmmonitor\" service=\"gp2gp\" logReference=\"MPS0053c\"\n",
    "| table _time, conversationID, internalID, interactionID\n",
    "```\n",
    "\n",
    "3. Place both the csv files in a directory called `attachments`. Set the `INPUT_DATA_DIR` environment variable to point to this directory.\n",
    "\n",
    "Example directory layout, where `INPUT_DATA_DIR` is `attachments`.\n",
    "```\n",
    "attachments/attachment_metadata.csv\n",
    "attachments/gp2gp_messages.csv\n",
    "```"
   ]
  },
  {
   "cell_type": "code",
   "execution_count": null,
   "metadata": {},
   "outputs": [],
   "source": [
    "import paths, os\n",
    "import duckdb\n",
    "from scripts.attachments import construct_attachments_db"
   ]
  },
  {
   "cell_type": "code",
   "execution_count": null,
   "metadata": {},
   "outputs": [],
   "source": [
    "attachment_data_dir = os.environ[\"INPUT_DATA_DIR\"]\n",
    "cursor =  duckdb.connect()\n",
    "construct_attachments_db(cursor, attachment_data_dir)\n",
    "attachments = cursor.table(\"attachment_metadata\")"
   ]
  },
  {
   "cell_type": "code",
   "execution_count": null,
   "metadata": {},
   "outputs": [],
   "source": [
    "cursor.execute(\"\"\"\n",
    "    create or replace view attachment_messages as \n",
    "        select attachment_metadata.*, interaction_id from attachment_metadata \n",
    "        left join gp2gp_messages\n",
    "        on attachment_metadata.internal_id=gp2gp_messages.internal_id;\n",
    "\"\"\")\n",
    "\n",
    "cursor.execute(\"select count(*) as conversations_with_no_interaction_id from attachment_messages where interaction_id is null\").df()"
   ]
  },
  {
   "cell_type": "markdown",
   "metadata": {},
   "source": [
    "### Count of the EHR request completed and COPC messages"
   ]
  },
  {
   "cell_type": "code",
   "execution_count": null,
   "metadata": {},
   "outputs": [],
   "source": [
    "cursor.execute(\"\"\"\n",
    "    select count(*) as count, interaction_id\n",
    "    from attachment_messages group by interaction_id\"\"\").df()"
   ]
  },
  {
   "cell_type": "markdown",
   "metadata": {},
   "source": [
    "### Conversations containing more than one EHR request completed message"
   ]
  },
  {
   "cell_type": "code",
   "execution_count": null,
   "metadata": {},
   "outputs": [],
   "source": [
    "conversations_with_duplicate_ehr = cursor.execute(\"\"\"\n",
    "    select * from (\n",
    "    select count(*) as count, conversation_id\n",
    "    from gp2gp_messages\n",
    "    where interaction_id='urn:nhs:names:services:gp2gp/RCMR_IN030000UK06'\n",
    "    group by conversation_id) request_completed_message_per_conversation \n",
    "    where count > 1\n",
    "\"\"\").df()\n",
    "conversations_with_duplicate_ehr"
   ]
  },
  {
   "cell_type": "code",
   "execution_count": null,
   "metadata": {},
   "outputs": [],
   "source": [
    "conversations_with_duplicate_ehr['count'].sum() - len(conversations_with_duplicate_ehr)"
   ]
  },
  {
   "cell_type": "code",
   "execution_count": null,
   "metadata": {},
   "outputs": [],
   "source": [
    "cursor.execute(\"\"\"\n",
    "    create or replace view ehr_request_completed_messages as \n",
    "        select * from gp2gp_messages\n",
    "        where interaction_id='urn:nhs:names:services:gp2gp/RCMR_IN030000UK06'\n",
    "\"\"\")"
   ]
  },
  {
   "cell_type": "code",
   "execution_count": null,
   "metadata": {},
   "outputs": [],
   "source": [
    "cursor.execute(\"\"\"\n",
    "create or replace view unique_ehr_request_completed_messages as \n",
    "select a.* from ehr_request_completed_messages a\n",
    "inner join (\n",
    "    select conversation_id, max(time) as time\n",
    "    from ehr_request_completed_messages\n",
    "    group by conversation_id\n",
    ") b on a.conversation_id = b.conversation_id and a.time = b.time\"\"\")"
   ]
  },
  {
   "cell_type": "code",
   "execution_count": null,
   "metadata": {},
   "outputs": [],
   "source": [
    "cursor.execute(\"\"\"\n",
    "    create table ehr_attachments as \n",
    "    select a.* from attachment_metadata a\n",
    "    join unique_ehr_request_completed_messages b \n",
    "    on a.internal_id = b.internal_id\n",
    "\"\"\")\n",
    "\n",
    "cursor.execute(\"select * from ehr_attachments\").df()"
   ]
  }
 ],
 "metadata": {
  "kernelspec": {
   "display_name": "Python 3",
   "language": "python",
   "name": "python3"
  },
  "language_info": {
   "codemirror_mode": {
    "name": "ipython",
    "version": 3
   },
   "file_extension": ".py",
   "mimetype": "text/x-python",
   "name": "python",
   "nbconvert_exporter": "python",
   "pygments_lexer": "ipython3",
   "version": "3.9.1"
  }
 },
 "nbformat": 4,
 "nbformat_minor": 4
}
