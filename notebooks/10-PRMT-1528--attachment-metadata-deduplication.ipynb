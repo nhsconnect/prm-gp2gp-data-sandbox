{
 "metadata": {
  "language_info": {
   "codemirror_mode": {
    "name": "ipython",
    "version": 3
   },
   "file_extension": ".py",
   "mimetype": "text/x-python",
   "name": "python",
   "nbconvert_exporter": "python",
   "pygments_lexer": "ipython3",
   "version": "3.8.1-final"
  },
  "orig_nbformat": 2,
  "kernelspec": {
   "name": "python3",
   "display_name": "Python 3.8.1 64-bit ('venv')",
   "metadata": {
    "interpreter": {
     "hash": "ee89a30b763cf696c0267df6abaef35a51c05068e06c7df11fe54a439e919a16"
    }
   }
  }
 },
 "nbformat": 4,
 "nbformat_minor": 2,
 "cells": [
  {
   "source": [
    "# PRMR-1528 Attachment metadata deduplication"
   ],
   "cell_type": "markdown",
   "metadata": {}
  },
  {
   "source": [
    "### Context\n",
    "\n",
    "Currently we suspect that there is duplication in the attachments dataset. We believe attachments are being logged multiple times:\n",
    "- once in the `EHR request completed` message\n",
    "- again in a COPC message when large messaging is used (due to overal size of EHR and attachments exceeding 5mb or 99 attachments limit)\n",
    "- again in multiple COPC messages when attachment is broken down into fragments (due to being over 5mb)\n",
    "- again if there are duplicated `EHR request completed` messages\n",
    "\n",
    "Duplication caused by COPC messages could be resolved by filtering them out such that for each transfer we only consider attachments referenced in the manifest contained in the `EHR request completed` message. We propose enriching attachments dataset with interaction ID to enable this filtering.\n",
    "\n",
    "Duplication caused by multiple `EHR request completed` messages could be rosolved by counting attachments only from the latest one.\n",
    "\n",
    "### Requirements\n",
    "\n",
    "In order to replicate this notebook, perform the following steps:\n",
    "\n",
    "1. Log into Splunk and run the following query, for 21/12/2020 00:00:00:00 to 03/01/2020 24:00:00 time frame:\n",
    "\n",
    "```\n",
    "index=\"spine2vfmmonitor\" logReference=MPS0208\n",
    "| table _time, attachmentID, conversationID, FromSystem, ToSystem, attachmentType, Compressed, ContentType, LargeAttachment, Length, OriginalBase64, internalID\n",
    "```\n",
    "\n",
    "2. Download the two data sets as CSVs and place in a directory called `attachments_metadata`. Set the `INPUT_DATA_DIR` environment variable to point to the _parent_ of this directory.\n",
    "\n",
    "3. Run the following Splunk query for the same time range, and place the CSV in a directory alongside the first one called `gp2gp_requests`.\n",
    "\n",
    "```\n",
    "index=\"spine2vfmmonitor\" service=\"gp2gp\" logReference=\"MPS0053c\"\n",
    "| table _time, conversationID, internalID, interactionID\n",
    "```\n",
    "\n",
    "Example directory layout, where `INPUT_DATA_DIR` is `/attachments`.\n",
    "```\n",
    "attachments/attachments_metadata/attachments.csv\n",
    "attachments/gp2gp_messages/gp2gp_messages.csv\n",
    "```"
   ],
   "cell_type": "markdown",
   "metadata": {}
  },
  {
   "cell_type": "code",
   "execution_count": 1,
   "metadata": {},
   "outputs": [],
   "source": [
    "import paths, os\n",
    "import duckdb\n",
    "from scripts.attachments import construct_attachments_db"
   ]
  },
  {
   "cell_type": "code",
   "execution_count": 2,
   "metadata": {},
   "outputs": [],
   "source": [
    "attachment_data_dir = os.environ[\"INPUT_DATA_DIR\"]\n",
    "cursor =  duckdb.connect()\n",
    "construct_attachments_db(cursor, attachment_data_dir)\n",
    "attachments = cursor.table(\"attachment_metadata\")"
   ]
  },
  {
   "cell_type": "code",
   "execution_count": 3,
   "metadata": {},
   "outputs": [
    {
     "output_type": "execute_result",
     "data": {
      "text/plain": [
       "   conversations_with_no_interaction_id\n",
       "0                                     0"
      ],
      "text/html": "<div>\n<style scoped>\n    .dataframe tbody tr th:only-of-type {\n        vertical-align: middle;\n    }\n\n    .dataframe tbody tr th {\n        vertical-align: top;\n    }\n\n    .dataframe thead th {\n        text-align: right;\n    }\n</style>\n<table border=\"1\" class=\"dataframe\">\n  <thead>\n    <tr style=\"text-align: right;\">\n      <th></th>\n      <th>conversations_with_no_interaction_id</th>\n    </tr>\n  </thead>\n  <tbody>\n    <tr>\n      <th>0</th>\n      <td>0</td>\n    </tr>\n  </tbody>\n</table>\n</div>"
     },
     "metadata": {},
     "execution_count": 3
    }
   ],
   "source": [
    "cursor.execute(\"\"\"\n",
    "    create or replace view attachment_messages as \n",
    "        select attachment_metadata.*, interaction_id from attachment_metadata \n",
    "        left join gp2gp_messages\n",
    "        on attachment_metadata.internal_id=gp2gp_messages.internal_id;\n",
    "\"\"\")\n",
    "\n",
    "cursor.execute(\"select count(*) as conversations_with_no_interaction_id from attachment_messages where interaction_id is null\").df()"
   ]
  },
  {
   "source": [
    "### Count of the EHR request completed and COPC messages"
   ],
   "cell_type": "markdown",
   "metadata": {}
  },
  {
   "cell_type": "code",
   "execution_count": 4,
   "metadata": {},
   "outputs": [
    {
     "output_type": "execute_result",
     "data": {
      "text/plain": [
       "     count                                  interaction_id\n",
       "0  2130721  urn:nhs:names:services:gp2gp/RCMR_IN030000UK06\n",
       "1   372045  urn:nhs:names:services:gp2gp/COPC_IN000001UK01"
      ],
      "text/html": "<div>\n<style scoped>\n    .dataframe tbody tr th:only-of-type {\n        vertical-align: middle;\n    }\n\n    .dataframe tbody tr th {\n        vertical-align: top;\n    }\n\n    .dataframe thead th {\n        text-align: right;\n    }\n</style>\n<table border=\"1\" class=\"dataframe\">\n  <thead>\n    <tr style=\"text-align: right;\">\n      <th></th>\n      <th>count</th>\n      <th>interaction_id</th>\n    </tr>\n  </thead>\n  <tbody>\n    <tr>\n      <th>0</th>\n      <td>2130721</td>\n      <td>urn:nhs:names:services:gp2gp/RCMR_IN030000UK06</td>\n    </tr>\n    <tr>\n      <th>1</th>\n      <td>372045</td>\n      <td>urn:nhs:names:services:gp2gp/COPC_IN000001UK01</td>\n    </tr>\n  </tbody>\n</table>\n</div>"
     },
     "metadata": {},
     "execution_count": 4
    }
   ],
   "source": [
    "cursor.execute(\"\"\"\n",
    "    select count(*) as count, interaction_id\n",
    "    from attachment_messages group by interaction_id\"\"\").df()"
   ]
  },
  {
   "source": [
    "### Conversations containing more than one EHR request completed message"
   ],
   "cell_type": "markdown",
   "metadata": {}
  },
  {
   "cell_type": "code",
   "execution_count": 5,
   "metadata": {},
   "outputs": [
    {
     "output_type": "execute_result",
     "data": {
      "text/plain": [
       "     count                       conversation_id\n",
       "0        2  EC1AD9F3-EFC2-4C6F-9C30-B696C1EF8074\n",
       "1        2  F5EB37B0-B344-41C3-BD1A-9AA9B09E65FD\n",
       "2        2  8A05247C-9A68-491B-9652-A3E3A9378BC5\n",
       "3        2  5D701E8E-6E67-4BE5-920B-8D057D61503D\n",
       "4        3  FBA54C48-66F8-46DF-9C31-00401C781EDE\n",
       "..     ...                                   ...\n",
       "702      3  EDD96FD2-BD57-4CFE-A2C3-32BAB34683C2\n",
       "703      2  788F5DCF-68A3-40D3-97F5-A9964CA4BBC2\n",
       "704      3  3F6E8C90-412F-11EB-A1CF-874D6673CFE6\n",
       "705      2  B79B3994-3AA4-4550-9DB1-37C771A0E88B\n",
       "706      2  0E165ACE-3974-46CF-AF0F-1871EAFB86E2\n",
       "\n",
       "[707 rows x 2 columns]"
      ],
      "text/html": "<div>\n<style scoped>\n    .dataframe tbody tr th:only-of-type {\n        vertical-align: middle;\n    }\n\n    .dataframe tbody tr th {\n        vertical-align: top;\n    }\n\n    .dataframe thead th {\n        text-align: right;\n    }\n</style>\n<table border=\"1\" class=\"dataframe\">\n  <thead>\n    <tr style=\"text-align: right;\">\n      <th></th>\n      <th>count</th>\n      <th>conversation_id</th>\n    </tr>\n  </thead>\n  <tbody>\n    <tr>\n      <th>0</th>\n      <td>2</td>\n      <td>EC1AD9F3-EFC2-4C6F-9C30-B696C1EF8074</td>\n    </tr>\n    <tr>\n      <th>1</th>\n      <td>2</td>\n      <td>F5EB37B0-B344-41C3-BD1A-9AA9B09E65FD</td>\n    </tr>\n    <tr>\n      <th>2</th>\n      <td>2</td>\n      <td>8A05247C-9A68-491B-9652-A3E3A9378BC5</td>\n    </tr>\n    <tr>\n      <th>3</th>\n      <td>2</td>\n      <td>5D701E8E-6E67-4BE5-920B-8D057D61503D</td>\n    </tr>\n    <tr>\n      <th>4</th>\n      <td>3</td>\n      <td>FBA54C48-66F8-46DF-9C31-00401C781EDE</td>\n    </tr>\n    <tr>\n      <th>...</th>\n      <td>...</td>\n      <td>...</td>\n    </tr>\n    <tr>\n      <th>702</th>\n      <td>3</td>\n      <td>EDD96FD2-BD57-4CFE-A2C3-32BAB34683C2</td>\n    </tr>\n    <tr>\n      <th>703</th>\n      <td>2</td>\n      <td>788F5DCF-68A3-40D3-97F5-A9964CA4BBC2</td>\n    </tr>\n    <tr>\n      <th>704</th>\n      <td>3</td>\n      <td>3F6E8C90-412F-11EB-A1CF-874D6673CFE6</td>\n    </tr>\n    <tr>\n      <th>705</th>\n      <td>2</td>\n      <td>B79B3994-3AA4-4550-9DB1-37C771A0E88B</td>\n    </tr>\n    <tr>\n      <th>706</th>\n      <td>2</td>\n      <td>0E165ACE-3974-46CF-AF0F-1871EAFB86E2</td>\n    </tr>\n  </tbody>\n</table>\n<p>707 rows × 2 columns</p>\n</div>"
     },
     "metadata": {},
     "execution_count": 5
    }
   ],
   "source": [
    "cursor.execute(\"\"\"\n",
    "    select * from (\n",
    "    select count(*) as count, conversation_id\n",
    "    from gp2gp_messages\n",
    "    where interaction_id='urn:nhs:names:services:gp2gp/RCMR_IN030000UK06'\n",
    "    group by conversation_id) request_completed_message_per_conversation \n",
    "    where count > 1\n",
    "\"\"\").df()"
   ]
  },
  {
   "cell_type": "code",
   "execution_count": 6,
   "metadata": {},
   "outputs": [
    {
     "output_type": "execute_result",
     "data": {
      "text/plain": [
       "<duckdb.DuckDBPyConnection at 0x7f7f4022ae70>"
      ]
     },
     "metadata": {},
     "execution_count": 6
    }
   ],
   "source": [
    "cursor.execute(\"\"\"\n",
    "    create or replace view ehr_request_completed_messages as \n",
    "        select * from gp2gp_messages\n",
    "        where interaction_id='urn:nhs:names:services:gp2gp/RCMR_IN030000UK06'\n",
    "\"\"\")"
   ]
  },
  {
   "cell_type": "code",
   "execution_count": 7,
   "metadata": {},
   "outputs": [
    {
     "output_type": "execute_result",
     "data": {
      "text/plain": [
       "<duckdb.DuckDBPyConnection at 0x7f7f4022ae70>"
      ]
     },
     "metadata": {},
     "execution_count": 7
    }
   ],
   "source": [
    "cursor.execute(\"\"\"\n",
    "create or replace view unique_ehr_request_completed_messages as \n",
    "select a.* from ehr_request_completed_messages a\n",
    "inner join (\n",
    "    select conversation_id, max(time) as time\n",
    "    from ehr_request_completed_messages\n",
    "    group by conversation_id\n",
    ") b on a.conversation_id = b.conversation_id and a.time = b.time\"\"\")"
   ]
  },
  {
   "cell_type": "code",
   "execution_count": 8,
   "metadata": {},
   "outputs": [
    {
     "output_type": "execute_result",
     "data": {
      "text/plain": [
       "                           time                         attachment_id  \\\n",
       "0       2021-01-03 18:25:05.371  FE4B9C70-4DF0-11EB-93BE-48DF371F565C   \n",
       "1       2021-01-03 18:25:05.370  FE46E183-4DF0-11EB-93BE-48DF371F565C   \n",
       "2       2021-01-03 18:25:05.369  FE46E180-4DF0-11EB-93BE-48DF371F565C   \n",
       "3       2021-01-03 18:25:05.368  FE447080-4DF0-11EB-93BE-48DF371F565C   \n",
       "4       2021-01-03 18:25:05.366               attachment20.0@test.com   \n",
       "...                         ...                                   ...   \n",
       "2091050 2020-12-21 08:27:32.750                attachment5.0@test.com   \n",
       "2091051 2020-12-21 08:27:32.749                attachment4.0@test.com   \n",
       "2091052 2020-12-21 08:27:32.748                attachment3.0@test.com   \n",
       "2091053 2020-12-21 08:27:32.745                attachment2.0@test.com   \n",
       "2091054 2020-12-21 08:27:32.744                attachment1.0@test.com   \n",
       "\n",
       "                              conversation_id from_system to_system  \\\n",
       "0        0F17219E-5549-4DF0-BE9A-6601E34D5F7B    SystmOne  EMIS Web   \n",
       "1        0F17219E-5549-4DF0-BE9A-6601E34D5F7B    SystmOne  EMIS Web   \n",
       "2        0F17219E-5549-4DF0-BE9A-6601E34D5F7B    SystmOne  EMIS Web   \n",
       "3        0F17219E-5549-4DF0-BE9A-6601E34D5F7B    SystmOne  EMIS Web   \n",
       "4        0F17219E-5549-4DF0-BE9A-6601E34D5F7B    SystmOne  EMIS Web   \n",
       "...                                       ...         ...       ...   \n",
       "2091050  BAD45EEF-57D4-4BAA-AF85-637D462DC602    SystmOne  EMIS Web   \n",
       "2091051  BAD45EEF-57D4-4BAA-AF85-637D462DC602    SystmOne  EMIS Web   \n",
       "2091052  BAD45EEF-57D4-4BAA-AF85-637D462DC602    SystmOne  EMIS Web   \n",
       "2091053  BAD45EEF-57D4-4BAA-AF85-637D462DC602    SystmOne  EMIS Web   \n",
       "2091054  BAD45EEF-57D4-4BAA-AF85-637D462DC602    SystmOne  EMIS Web   \n",
       "\n",
       "        attachment_type  compressed content_type  large_attachment     length  \\\n",
       "0                   mid        True   image/tiff             False  1875188.0   \n",
       "1                   mid       False   image/tiff             False   454000.0   \n",
       "2                   mid       False   image/tiff             False   350536.0   \n",
       "3                   mid       False   image/tiff             False   345202.0   \n",
       "4                   cid       False   image/tiff             False   339098.0   \n",
       "...                 ...         ...          ...               ...        ...   \n",
       "2091050             cid       False     text/rtf             False      684.0   \n",
       "2091051             cid       False     text/rtf             False      610.0   \n",
       "2091052             cid       False     text/rtf             False      298.0   \n",
       "2091053             cid       False     text/rtf             False      234.0   \n",
       "2091054             cid       False     text/rtf             False      188.0   \n",
       "\n",
       "         original_base64                             internal_id  \n",
       "0                  False  20210103182505020335_EC3E43_1522284092  \n",
       "1                  False  20210103182505020335_EC3E43_1522284092  \n",
       "2                  False  20210103182505020335_EC3E43_1522284092  \n",
       "3                  False  20210103182505020335_EC3E43_1522284092  \n",
       "4                  False  20210103182505020335_EC3E43_1522284092  \n",
       "...                  ...                                     ...  \n",
       "2091050            False  20201221082732676178_D03B72_1522284092  \n",
       "2091051            False  20201221082732676178_D03B72_1522284092  \n",
       "2091052            False  20201221082732676178_D03B72_1522284092  \n",
       "2091053            False  20201221082732676178_D03B72_1522284092  \n",
       "2091054            False  20201221082732676178_D03B72_1522284092  \n",
       "\n",
       "[2091055 rows x 12 columns]"
      ],
      "text/html": "<div>\n<style scoped>\n    .dataframe tbody tr th:only-of-type {\n        vertical-align: middle;\n    }\n\n    .dataframe tbody tr th {\n        vertical-align: top;\n    }\n\n    .dataframe thead th {\n        text-align: right;\n    }\n</style>\n<table border=\"1\" class=\"dataframe\">\n  <thead>\n    <tr style=\"text-align: right;\">\n      <th></th>\n      <th>time</th>\n      <th>attachment_id</th>\n      <th>conversation_id</th>\n      <th>from_system</th>\n      <th>to_system</th>\n      <th>attachment_type</th>\n      <th>compressed</th>\n      <th>content_type</th>\n      <th>large_attachment</th>\n      <th>length</th>\n      <th>original_base64</th>\n      <th>internal_id</th>\n    </tr>\n  </thead>\n  <tbody>\n    <tr>\n      <th>0</th>\n      <td>2021-01-03 18:25:05.371</td>\n      <td>FE4B9C70-4DF0-11EB-93BE-48DF371F565C</td>\n      <td>0F17219E-5549-4DF0-BE9A-6601E34D5F7B</td>\n      <td>SystmOne</td>\n      <td>EMIS Web</td>\n      <td>mid</td>\n      <td>True</td>\n      <td>image/tiff</td>\n      <td>False</td>\n      <td>1875188.0</td>\n      <td>False</td>\n      <td>20210103182505020335_EC3E43_1522284092</td>\n    </tr>\n    <tr>\n      <th>1</th>\n      <td>2021-01-03 18:25:05.370</td>\n      <td>FE46E183-4DF0-11EB-93BE-48DF371F565C</td>\n      <td>0F17219E-5549-4DF0-BE9A-6601E34D5F7B</td>\n      <td>SystmOne</td>\n      <td>EMIS Web</td>\n      <td>mid</td>\n      <td>False</td>\n      <td>image/tiff</td>\n      <td>False</td>\n      <td>454000.0</td>\n      <td>False</td>\n      <td>20210103182505020335_EC3E43_1522284092</td>\n    </tr>\n    <tr>\n      <th>2</th>\n      <td>2021-01-03 18:25:05.369</td>\n      <td>FE46E180-4DF0-11EB-93BE-48DF371F565C</td>\n      <td>0F17219E-5549-4DF0-BE9A-6601E34D5F7B</td>\n      <td>SystmOne</td>\n      <td>EMIS Web</td>\n      <td>mid</td>\n      <td>False</td>\n      <td>image/tiff</td>\n      <td>False</td>\n      <td>350536.0</td>\n      <td>False</td>\n      <td>20210103182505020335_EC3E43_1522284092</td>\n    </tr>\n    <tr>\n      <th>3</th>\n      <td>2021-01-03 18:25:05.368</td>\n      <td>FE447080-4DF0-11EB-93BE-48DF371F565C</td>\n      <td>0F17219E-5549-4DF0-BE9A-6601E34D5F7B</td>\n      <td>SystmOne</td>\n      <td>EMIS Web</td>\n      <td>mid</td>\n      <td>False</td>\n      <td>image/tiff</td>\n      <td>False</td>\n      <td>345202.0</td>\n      <td>False</td>\n      <td>20210103182505020335_EC3E43_1522284092</td>\n    </tr>\n    <tr>\n      <th>4</th>\n      <td>2021-01-03 18:25:05.366</td>\n      <td>attachment20.0@test.com</td>\n      <td>0F17219E-5549-4DF0-BE9A-6601E34D5F7B</td>\n      <td>SystmOne</td>\n      <td>EMIS Web</td>\n      <td>cid</td>\n      <td>False</td>\n      <td>image/tiff</td>\n      <td>False</td>\n      <td>339098.0</td>\n      <td>False</td>\n      <td>20210103182505020335_EC3E43_1522284092</td>\n    </tr>\n    <tr>\n      <th>...</th>\n      <td>...</td>\n      <td>...</td>\n      <td>...</td>\n      <td>...</td>\n      <td>...</td>\n      <td>...</td>\n      <td>...</td>\n      <td>...</td>\n      <td>...</td>\n      <td>...</td>\n      <td>...</td>\n      <td>...</td>\n    </tr>\n    <tr>\n      <th>2091050</th>\n      <td>2020-12-21 08:27:32.750</td>\n      <td>attachment5.0@test.com</td>\n      <td>BAD45EEF-57D4-4BAA-AF85-637D462DC602</td>\n      <td>SystmOne</td>\n      <td>EMIS Web</td>\n      <td>cid</td>\n      <td>False</td>\n      <td>text/rtf</td>\n      <td>False</td>\n      <td>684.0</td>\n      <td>False</td>\n      <td>20201221082732676178_D03B72_1522284092</td>\n    </tr>\n    <tr>\n      <th>2091051</th>\n      <td>2020-12-21 08:27:32.749</td>\n      <td>attachment4.0@test.com</td>\n      <td>BAD45EEF-57D4-4BAA-AF85-637D462DC602</td>\n      <td>SystmOne</td>\n      <td>EMIS Web</td>\n      <td>cid</td>\n      <td>False</td>\n      <td>text/rtf</td>\n      <td>False</td>\n      <td>610.0</td>\n      <td>False</td>\n      <td>20201221082732676178_D03B72_1522284092</td>\n    </tr>\n    <tr>\n      <th>2091052</th>\n      <td>2020-12-21 08:27:32.748</td>\n      <td>attachment3.0@test.com</td>\n      <td>BAD45EEF-57D4-4BAA-AF85-637D462DC602</td>\n      <td>SystmOne</td>\n      <td>EMIS Web</td>\n      <td>cid</td>\n      <td>False</td>\n      <td>text/rtf</td>\n      <td>False</td>\n      <td>298.0</td>\n      <td>False</td>\n      <td>20201221082732676178_D03B72_1522284092</td>\n    </tr>\n    <tr>\n      <th>2091053</th>\n      <td>2020-12-21 08:27:32.745</td>\n      <td>attachment2.0@test.com</td>\n      <td>BAD45EEF-57D4-4BAA-AF85-637D462DC602</td>\n      <td>SystmOne</td>\n      <td>EMIS Web</td>\n      <td>cid</td>\n      <td>False</td>\n      <td>text/rtf</td>\n      <td>False</td>\n      <td>234.0</td>\n      <td>False</td>\n      <td>20201221082732676178_D03B72_1522284092</td>\n    </tr>\n    <tr>\n      <th>2091054</th>\n      <td>2020-12-21 08:27:32.744</td>\n      <td>attachment1.0@test.com</td>\n      <td>BAD45EEF-57D4-4BAA-AF85-637D462DC602</td>\n      <td>SystmOne</td>\n      <td>EMIS Web</td>\n      <td>cid</td>\n      <td>False</td>\n      <td>text/rtf</td>\n      <td>False</td>\n      <td>188.0</td>\n      <td>False</td>\n      <td>20201221082732676178_D03B72_1522284092</td>\n    </tr>\n  </tbody>\n</table>\n<p>2091055 rows × 12 columns</p>\n</div>"
     },
     "metadata": {},
     "execution_count": 8
    }
   ],
   "source": [
    "cursor.execute(\"\"\"\n",
    "    create table ehr_attachments as \n",
    "    select a.* from attachment_metadata a\n",
    "    join unique_ehr_request_completed_messages b \n",
    "    on a.internal_id = b.internal_id\n",
    "\"\"\")\n",
    "\n",
    "cursor.execute(\"select * from ehr_attachments\").df()"
   ]
  },
  {
   "cell_type": "code",
   "execution_count": null,
   "metadata": {},
   "outputs": [],
   "source": []
  }
 ]
}