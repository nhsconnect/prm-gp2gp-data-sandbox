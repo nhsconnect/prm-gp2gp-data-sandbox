{
 "cells": [
  {
   "cell_type": "code",
   "execution_count": null,
   "metadata": {},
   "outputs": [],
   "source": [
    "import os\n",
    "from pathlib import Path\n",
    "import pandas as pd"
   ]
  },
  {
   "cell_type": "code",
   "execution_count": null,
   "metadata": {},
   "outputs": [],
   "source": [
    "data_dir = Path(os.environ[\"INPUT_DATA_DIR\"])\n",
    "transfer_input_files = data_dir.rglob(\"transfers-*.json\")\n",
    "asid_lookup_file = data_dir / \"asidLookup.csv\""
   ]
  },
  {
   "cell_type": "code",
   "execution_count": null,
   "metadata": {},
   "outputs": [],
   "source": [
    "asid_lookup = pd.read_csv(asid_lookup_file)"
   ]
  },
  {
   "cell_type": "code",
   "execution_count": null,
   "metadata": {},
   "outputs": [],
   "source": [
    "date_cols = [\"dateRequested\", \"dateCompleted\"]\n",
    "transfers = pd.concat((\n",
    "    pd.read_json(f, convert_dates=date_cols)\n",
    "    for f in transfer_input_files\n",
    "))"
   ]
  },
  {
   "cell_type": "code",
   "execution_count": null,
   "metadata": {},
   "outputs": [],
   "source": [
    "supplier_transfers = transfers\\\n",
    "    .merge(asid_lookup, left_on='requestingPracticeAsid',right_on='ASID',how='left')\\\n",
    "    .merge(asid_lookup, suffixes=('_requesting', '_sending'), left_on='sendingPracticeAsid',right_on='ASID',how='left')\\\n",
    "\n",
    "supplier_transfers[\"MName_sending\"] = supplier_transfers[\"MName_sending\"].fillna(\"Unknown\")\n",
    "supplier_transfers[\"MName_requesting\"] = supplier_transfers[\"MName_requesting\"].fillna(\"Unknown\")"
   ]
  },
  {
   "cell_type": "code",
   "execution_count": null,
   "metadata": {},
   "outputs": [],
   "source": [
    "supplier_transfers[\"MName_sending\"].value_counts(dropna=False)\n",
    "# TODO: Can we increase the lookup join coverage"
   ]
  },
  {
   "cell_type": "code",
   "execution_count": null,
   "metadata": {},
   "outputs": [],
   "source": [
    "monthy_transfer_breakdown_by_supplier_pathways = supplier_transfers[\n",
    "    [\"dateRequested\", \"MName_requesting\", \"MName_sending\", \"status\"]\n",
    "].pivot_table(\n",
    "    index=[\n",
    "        supplier_transfers[\"dateRequested\"].dt.year,\n",
    "        supplier_transfers[\"dateRequested\"].dt.month,\n",
    "        \"MName_requesting\",\n",
    "        \"MName_sending\"\n",
    "    ],\n",
    "    columns=[\"status\"],\n",
    "    aggfunc=len,\n",
    "    fill_value=0\n",
    ")\n",
    "monthy_transfer_breakdown_by_supplier_pathways"
   ]
  },
  {
   "cell_type": "code",
   "execution_count": null,
   "metadata": {},
   "outputs": [],
   "source": [
    "EMIS_name = \"EGTON MEDICAL INFORMATION SYSTEMS LTD (EMIS)\"\n",
    "EMIS_monthly_transfer_breakdown = monthy_transfer_breakdown_by_supplier_pathways.iloc[monthy_transfer_breakdown_by_supplier_pathways.index.get_level_values('MName_requesting') == EMIS_name]\n",
    "EMIS_monthly_transfer_breakdown=EMIS_monthly_transfer_breakdown['dateRequested']"
   ]
  },
  {
   "cell_type": "code",
   "execution_count": null,
   "metadata": {},
   "outputs": [],
   "source": [
    "EMIS_monthly_transfer_breakdown.div(EMIS_monthly_transfer_breakdown.sum(axis=1),axis=0)*100"
   ]
  }
 ],
 "metadata": {
  "kernelspec": {
   "display_name": "Python 3",
   "language": "python",
   "name": "python3"
  },
  "language_info": {
   "codemirror_mode": {
    "name": "ipython",
    "version": 3
   },
   "file_extension": ".py",
   "mimetype": "text/x-python",
   "name": "python",
   "nbconvert_exporter": "python",
   "pygments_lexer": "ipython3",
   "version": "3.9.1"
  }
 },
 "nbformat": 4,
 "nbformat_minor": 4
}