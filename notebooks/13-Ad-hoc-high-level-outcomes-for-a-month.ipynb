{
 "cells": [
  {
   "cell_type": "code",
   "execution_count": 51,
   "id": "several-dryer",
   "metadata": {},
   "outputs": [
    {
     "name": "stdout",
     "output_type": "stream",
     "text": [
      "Total transfers: 234557\n",
      "First transfer: 2021-02-01 05:59:00.037000\n",
      "Last transfer: 2021-02-28 23:04:58.544000\n",
      "\n",
      "High level breakdown:\n",
      "Failed: 4237 (1.81%)\n",
      "Pending: 7872 (3.36%)\n",
      "Pending with error: 4452 (1.9%)\n",
      "Integrated: 217996 (92.94%)\n",
      "\n",
      "Breakdown of integrated:\n",
      "Integrated within 8 days: 207988 (88.67%)\n",
      "Integrated beyond 8 days: 10008 (4.27%)\n",
      "\n",
      "Paper fallback: 26569 (11.33%)\n"
     ]
    }
   ],
   "source": [
    "import pandas as pd\n",
    "transfers = pd.read_parquet(\"s3://prm-gp2gp-data-sandbox-dev/transfers-sample-3/2-2021-transfers.parquet\")\n",
    "total_count = len(transfers)\n",
    "print(\"Total transfers:\", total_count)\n",
    "print(\"First transfer:\", min(transfers[\"date_requested\"]))\n",
    "print(\"Last transfer:\", max(transfers[\"date_requested\"]))\n",
    "\n",
    "def pct(num):\n",
    "    return \"(\" + str(round(num * 100, 2)) + \"%)\"\n",
    "\n",
    "print(\"\\nHigh level breakdown:\")\n",
    "failed = transfers[\"status\"] == \"FAILED\"\n",
    "pending = transfers[\"status\"] == \"PENDING\"\n",
    "pending_with_error = transfers[\"status\"] == \"PENDING_WITH_ERROR\"\n",
    "integrated = transfers[\"status\"] == \"INTEGRATED\"\n",
    "failed_count = len(transfers[failed])\n",
    "pending_count = len(transfers[pending])\n",
    "pending_with_error_count = len(transfers[pending_with_error])\n",
    "integrated_count =  len(transfers[integrated])\n",
    "print(\"Failed:\", failed_count, pct(failed_count / total_count))\n",
    "print(\"Pending:\", pending_count, pct(pending_count / total_count))\n",
    "print(\"Pending with error:\", pending_with_error_count, pct(pending_with_error_count / total_count))\n",
    "print(\"Integrated:\", integrated_count, pct(integrated_count / total_count))\n",
    "\n",
    "eight_days_in_seconds = 691200\n",
    "integrated = transfers[\"status\"] == \"INTEGRATED\"\n",
    "within_8_days = transfers[\"sla_duration\"] <= eight_days_in_seconds\n",
    "beyond_8_days = transfers[\"sla_duration\"] > eight_days_in_seconds\n",
    "within_8_days_count = len(transfers[integrated & within_8_days])\n",
    "beyond_8_days_count = len(transfers[integrated & beyond_8_days])\n",
    "print(\"\\nBreakdown of integrated:\")\n",
    "print(\"Integrated within 8 days:\", within_8_days_count, pct(within_8_days_count / total_count))\n",
    "print(\"Integrated beyond 8 days:\", beyond_8_days_count, pct(beyond_8_days_count / total_count))\n",
    "\n",
    "not_integrated = transfers[\"status\"] != \"INTEGRATED\"\n",
    "fallback_count = len(transfers[(integrated & beyond_8_days) | not_integrated])\n",
    "print(\"\\nPaper fallback:\", fallback_count, pct(fallback_count / total_count))\n"
   ]
  }
 ],
 "metadata": {
  "kernelspec": {
   "display_name": "conda_python3",
   "language": "python",
   "name": "conda_python3"
  },
  "language_info": {
   "codemirror_mode": {
    "name": "ipython",
    "version": 3
   },
   "file_extension": ".py",
   "mimetype": "text/x-python",
   "name": "python",
   "nbconvert_exporter": "python",
   "pygments_lexer": "ipython3",
   "version": "3.6.13"
  }
 },
 "nbformat": 4,
 "nbformat_minor": 5
}
