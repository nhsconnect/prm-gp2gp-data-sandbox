{
 "cells": [
  {
   "cell_type": "markdown",
   "id": "obvious-grave",
   "metadata": {},
   "source": [
    "# Review of practices implementing large messaging\n",
    "\n",
    "This notebook is to compare the GP2GP performance of two specific practices that have implemented GP2GP 2.2b (allowing for large messaging) on 12th January 2021.\n",
    "\n",
    "Note when looking at the counts - we are comparing transfers that were initiated in September up until 12th January compared to transfers between 12th January to 17th March (inclusive)."
   ]
  },
  {
   "cell_type": "code",
   "execution_count": 1,
   "id": "local-painting",
   "metadata": {},
   "outputs": [],
   "source": [
    "import pandas as pd\n",
    "import paths, data\n",
    "from datetime import datetime"
   ]
  },
  {
   "cell_type": "code",
   "execution_count": 2,
   "id": "entire-expense",
   "metadata": {},
   "outputs": [],
   "source": [
    "transfer_file_location = \"s3://prm-gp2gp-data-sandbox-dev/transfers-sample-3/\"\n",
    "transfer_files = [\n",
    "    \"9-2020-transfers.parquet\",\n",
    "    \"10-2020-transfers.parquet\",\n",
    "    \"11-2020-transfers.parquet\",\n",
    "    \"12-2020-transfers.parquet\",\n",
    "    \"1-2021-transfers.parquet\",\n",
    "    \"2-2021-transfers.parquet\",\n",
    "    \"partial-3-2021-transfers.parquet\"\n",
    "]\n",
    "transfer_input_files = [transfer_file_location + f for f in transfer_files]\n",
    "transfers = pd.concat((\n",
    "    pd.read_parquet(f)\n",
    "    for f in transfer_input_files\n",
    "))"
   ]
  },
  {
   "cell_type": "code",
   "execution_count": 3,
   "id": "faced-simple",
   "metadata": {},
   "outputs": [],
   "source": [
    "asid_lookup_file_location =\"s3://prm-gp2gp-data-sandbox-dev/asid-lookup/\"\n",
    "asid_lookup_files = [\n",
    "    \"asidLookup-Dec-2020.csv.gz\",\n",
    "    \"asidLookup-Jan-2021.csv.gz\",\n",
    "    \"asidLookup-Feb-2021.csv.gz\",\n",
    "    \"asidLookup-Mar-2021.csv.gz\",\n",
    "]\n",
    "asid_lookup_input_files = [asid_lookup_file_location + f for f in asid_lookup_files]\n",
    "asid_lookups = pd.concat((\n",
    "    pd.read_csv(f)\n",
    "    for f in asid_lookup_input_files\n",
    "))"
   ]
  },
  {
   "cell_type": "code",
   "execution_count": 4,
   "id": "willing-cedar",
   "metadata": {},
   "outputs": [],
   "source": [
    "def transfers_filtered_by_date(date_time):\n",
    "    return transfers[transfers[\"date_requested\"] < date_time], transfers[transfers[\"date_requested\"] > date_time]"
   ]
  },
  {
   "cell_type": "code",
   "execution_count": 5,
   "id": "numerical-sandwich",
   "metadata": {},
   "outputs": [],
   "source": [
    "mid_jan = datetime(year=2021, month=1, day=13, hour=10, minute=40)\n",
    "transfers_pre_mid_jan, transfers_post_mid_jan = transfers_filtered_by_date(mid_jan)"
   ]
  },
  {
   "cell_type": "code",
   "execution_count": 6,
   "id": "sustained-african",
   "metadata": {},
   "outputs": [
    {
     "data": {
      "text/plain": [
       "array(['004730850049', '642159719037'], dtype=object)"
      ]
     },
     "execution_count": 6,
     "metadata": {},
     "output_type": "execute_result"
    }
   ],
   "source": [
    "large_messaging_vision_practices = asid_lookups[\"NACS\"].isin([\"K81607\", \"K81089\"])\n",
    "asids_for_large_messaging_practices = asid_lookups.loc[large_messaging_vision_practices][\"ASID\"].unique()\n",
    "asids_for_large_messaging_practices"
   ]
  },
  {
   "cell_type": "code",
   "execution_count": 7,
   "id": "arbitrary-matter",
   "metadata": {},
   "outputs": [],
   "source": [
    "def filter_transfers(has_large_messaging, is_sending_practice):\n",
    "    transfers = transfers_post_mid_jan if has_large_messaging else transfers_pre_mid_jan\n",
    "    practice_key = \"sending_practice_asid\" if is_sending_practice else \"requesting_practice_asid\"\n",
    "    return transfers.loc[transfers[practice_key].isin(asids_for_large_messaging_practices)]"
   ]
  },
  {
   "cell_type": "code",
   "execution_count": 8,
   "id": "entitled-sacrifice",
   "metadata": {},
   "outputs": [],
   "source": [
    "df = pd.DataFrame(data={'is_sending_practice': [True, False, True, False], 'has_large_messaging': [False, False, True, True]})"
   ]
  },
  {
   "cell_type": "code",
   "execution_count": 9,
   "id": "billion-clinic",
   "metadata": {},
   "outputs": [],
   "source": [
    "def calculate_totals(transfers):\n",
    "    return len(transfers.index)\n",
    "\n",
    "df[\"total_transfers\"] = df.apply(lambda row: \n",
    "                     calculate_totals(filter_transfers(row[\"has_large_messaging\"], row[\"is_sending_practice\"]))\n",
    "                     , axis = 1)"
   ]
  },
  {
   "cell_type": "code",
   "execution_count": 10,
   "id": "tight-fundamental",
   "metadata": {},
   "outputs": [],
   "source": [
    "def count_final_error_codes(transfers):\n",
    "    return transfers[\"final_error_code\"].dropna().tolist()\n",
    "   \n",
    "    \n",
    "df[\"final_errors\"] = df.apply(lambda row: \n",
    "                     count_final_error_codes(filter_transfers(row[\"has_large_messaging\"], row[\"is_sending_practice\"]))\n",
    "                     , axis = 1)\n"
   ]
  },
  {
   "cell_type": "code",
   "execution_count": 11,
   "id": "prerequisite-cyprus",
   "metadata": {},
   "outputs": [],
   "source": [
    "def count_intermediate_error_codes(transfers):\n",
    "    interm_errors = transfers.loc[transfers[\"intermediate_error_codes\"].apply(lambda x: len(x) > 0)]\n",
    "    return interm_errors[\"intermediate_error_codes\"].sum()\n",
    "\n",
    "df[\"intermediate_error_count\"] = df.apply(lambda row:\n",
    "                                count_intermediate_error_codes(filter_transfers(row[\"has_large_messaging\"], row[\"is_sending_practice\"])), axis = 1)"
   ]
  },
  {
   "cell_type": "code",
   "execution_count": 12,
   "id": "israeli-dating",
   "metadata": {},
   "outputs": [],
   "source": [
    "def count_sender_error_codes(transfers):\n",
    "        return transfers[\"sender_error_code\"].dropna().tolist()\n",
    "\n",
    "df[\"sender_error_codes\"] = df.apply(lambda row:\n",
    "                                count_sender_error_codes(filter_transfers(row[\"has_large_messaging\"], row[\"is_sending_practice\"])), axis = 1)"
   ]
  },
  {
   "cell_type": "code",
   "execution_count": 13,
   "id": "still-findings",
   "metadata": {},
   "outputs": [],
   "source": [
    "def count_transfer_status(transfers, status):\n",
    "    default_transfer_status_count = {\n",
    "        \"PENDING_WITH_ERROR\": 0,\n",
    "        \"FAILED\": 0,\n",
    "        \"INTEGRATED\": 0,\n",
    "        \"PENDING\": 0\n",
    "    }\n",
    "    actual_transfer_status_count = transfers[\"status\"].value_counts().to_dict()\n",
    "    return {**default_transfer_status_count, **actual_transfer_status_count}[status]\n",
    "\n",
    "df[\"status_pending_with_error\"] = df.apply(lambda row:\n",
    "                                count_transfer_status(filter_transfers(row[\"has_large_messaging\"], row[\"is_sending_practice\"]), \"PENDING_WITH_ERROR\"), axis = 1)\n",
    "\n",
    "\n",
    "df[\"status_failed\"] = df.apply(lambda row:\n",
    "                                count_transfer_status(filter_transfers(row[\"has_large_messaging\"], row[\"is_sending_practice\"]), \"FAILED\"), axis = 1)\n",
    "\n",
    "\n",
    "\n",
    "df[\"status_pending\"] = df.apply(lambda row:\n",
    "                                count_transfer_status(filter_transfers(row[\"has_large_messaging\"], row[\"is_sending_practice\"]), \"PENDING\"), axis = 1)\n",
    "\n",
    "\n",
    "df[\"status_integrated\"] = df.apply(lambda row:\n",
    "                                count_transfer_status(filter_transfers(row[\"has_large_messaging\"], row[\"is_sending_practice\"]), \"INTEGRATED\"), axis = 1)\n",
    "\n"
   ]
  },
  {
   "cell_type": "code",
   "execution_count": 14,
   "id": "apparent-sudan",
   "metadata": {},
   "outputs": [
    {
     "data": {
      "text/html": [
       "<div>\n",
       "<style scoped>\n",
       "    .dataframe tbody tr th:only-of-type {\n",
       "        vertical-align: middle;\n",
       "    }\n",
       "\n",
       "    .dataframe tbody tr th {\n",
       "        vertical-align: top;\n",
       "    }\n",
       "\n",
       "    .dataframe thead th {\n",
       "        text-align: right;\n",
       "    }\n",
       "</style>\n",
       "<table border=\"1\" class=\"dataframe\">\n",
       "  <thead>\n",
       "    <tr style=\"text-align: right;\">\n",
       "      <th></th>\n",
       "      <th></th>\n",
       "      <th>final_errors</th>\n",
       "      <th>intermediate_error_count</th>\n",
       "      <th>sender_error_codes</th>\n",
       "      <th>status_failed</th>\n",
       "      <th>status_integrated</th>\n",
       "      <th>status_pending</th>\n",
       "      <th>status_pending_with_error</th>\n",
       "      <th>total_transfers</th>\n",
       "    </tr>\n",
       "    <tr>\n",
       "      <th>has_large_messaging</th>\n",
       "      <th>is_sending_practice</th>\n",
       "      <th></th>\n",
       "      <th></th>\n",
       "      <th></th>\n",
       "      <th></th>\n",
       "      <th></th>\n",
       "      <th></th>\n",
       "      <th></th>\n",
       "      <th></th>\n",
       "    </tr>\n",
       "  </thead>\n",
       "  <tbody>\n",
       "    <tr>\n",
       "      <th rowspan=\"2\" valign=\"top\">False</th>\n",
       "      <th>False</th>\n",
       "      <td>[11.0]</td>\n",
       "      <td>0</td>\n",
       "      <td>[14.0, 14.0, 14.0, 14.0, 14.0, 14.0, 14.0, 14.0, 14.0, 14.0, 14.0]</td>\n",
       "      <td>1</td>\n",
       "      <td>8</td>\n",
       "      <td>1</td>\n",
       "      <td>11</td>\n",
       "      <td>21</td>\n",
       "    </tr>\n",
       "    <tr>\n",
       "      <th>True</th>\n",
       "      <td>[15.0]</td>\n",
       "      <td>0</td>\n",
       "      <td>[23.0, 23.0, 23.0, 23.0, 23.0]</td>\n",
       "      <td>0</td>\n",
       "      <td>91</td>\n",
       "      <td>33</td>\n",
       "      <td>5</td>\n",
       "      <td>129</td>\n",
       "    </tr>\n",
       "    <tr>\n",
       "      <th rowspan=\"2\" valign=\"top\">True</th>\n",
       "      <th>False</th>\n",
       "      <td>[]</td>\n",
       "      <td>0</td>\n",
       "      <td>[30.0]</td>\n",
       "      <td>0</td>\n",
       "      <td>26</td>\n",
       "      <td>0</td>\n",
       "      <td>1</td>\n",
       "      <td>27</td>\n",
       "    </tr>\n",
       "    <tr>\n",
       "      <th>True</th>\n",
       "      <td>[15.0, 15.0, 15.0, 15.0]</td>\n",
       "      <td>0</td>\n",
       "      <td>[10.0, 10.0, 10.0, 6.0, 6.0]</td>\n",
       "      <td>0</td>\n",
       "      <td>52</td>\n",
       "      <td>20</td>\n",
       "      <td>5</td>\n",
       "      <td>77</td>\n",
       "    </tr>\n",
       "  </tbody>\n",
       "</table>\n",
       "</div>"
      ],
      "text/plain": [
       "                                                     final_errors  \\\n",
       "has_large_messaging is_sending_practice                             \n",
       "False               False                                  [11.0]   \n",
       "                    True                                   [15.0]   \n",
       "True                False                                      []   \n",
       "                    True                 [15.0, 15.0, 15.0, 15.0]   \n",
       "\n",
       "                                        intermediate_error_count  \\\n",
       "has_large_messaging is_sending_practice                            \n",
       "False               False                                      0   \n",
       "                    True                                       0   \n",
       "True                False                                      0   \n",
       "                    True                                       0   \n",
       "\n",
       "                                                                                         sender_error_codes  \\\n",
       "has_large_messaging is_sending_practice                                                                       \n",
       "False               False                [14.0, 14.0, 14.0, 14.0, 14.0, 14.0, 14.0, 14.0, 14.0, 14.0, 14.0]   \n",
       "                    True                                                     [23.0, 23.0, 23.0, 23.0, 23.0]   \n",
       "True                False                                                                            [30.0]   \n",
       "                    True                                                       [10.0, 10.0, 10.0, 6.0, 6.0]   \n",
       "\n",
       "                                        status_failed status_integrated  \\\n",
       "has_large_messaging is_sending_practice                                   \n",
       "False               False                           1                 8   \n",
       "                    True                            0                91   \n",
       "True                False                           0                26   \n",
       "                    True                            0                52   \n",
       "\n",
       "                                        status_pending  \\\n",
       "has_large_messaging is_sending_practice                  \n",
       "False               False                            1   \n",
       "                    True                            33   \n",
       "True                False                            0   \n",
       "                    True                            20   \n",
       "\n",
       "                                        status_pending_with_error  \\\n",
       "has_large_messaging is_sending_practice                             \n",
       "False               False                                      11   \n",
       "                    True                                        5   \n",
       "True                False                                       1   \n",
       "                    True                                        5   \n",
       "\n",
       "                                        total_transfers  \n",
       "has_large_messaging is_sending_practice                  \n",
       "False               False                            21  \n",
       "                    True                            129  \n",
       "True                False                            27  \n",
       "                    True                             77  "
      ]
     },
     "execution_count": 14,
     "metadata": {},
     "output_type": "execute_result"
    }
   ],
   "source": [
    "pd.set_option('display.max_colwidth',600)\n",
    "\n",
    "pd.pivot_table(df, index=[\"has_large_messaging\", \"is_sending_practice\"], aggfunc=lambda x: x.astype(str))"
   ]
  }
 ],
 "metadata": {
  "kernelspec": {
   "display_name": "conda_python3",
   "language": "python",
   "name": "conda_python3"
  },
  "language_info": {
   "codemirror_mode": {
    "name": "ipython",
    "version": 3
   },
   "file_extension": ".py",
   "mimetype": "text/x-python",
   "name": "python",
   "nbconvert_exporter": "python",
   "pygments_lexer": "ipython3",
   "version": "3.6.13"
  }
 },
 "nbformat": 4,
 "nbformat_minor": 5
}
