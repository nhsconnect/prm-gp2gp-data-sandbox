{
 "cells": [
  {
   "cell_type": "markdown",
   "id": "affiliated-interim",
   "metadata": {},
   "source": [
    "# PRMT-1724 Attachment data for NME (New Market Entrant)"
   ]
  },
  {
   "cell_type": "markdown",
   "id": "about-shakespeare",
   "metadata": {},
   "source": [
    "### Context\n",
    "\n",
    "NME have requested some insights on attachments data. They want to understand the number of attachments over a certain size, as they need to know what types of sizes and volumes they need to be able to handle. \n",
    "\n",
    "They would like to know:\n",
    "- total number of attachments \n",
    "- how many attachments are over 5mb (volume and %)\n",
    "- how many attachments are over 20mb (volume and %)\n",
    "\n",
    "There is some effort required to de-duplicate the underlying data. This is explored in notebook `10-PRMT-1528`.\n",
    "\n",
    "### Requirements\n",
    "\n",
    "In order to replicate this notebook, perform the following steps:\n",
    "\n",
    "1. Log into Splunk and run the following query for:\n",
    "- 01/01/2021 00:00:00:00 to 31/01/2021 24:00:00 and export the result as a csv named `1-2021-attachment-metadata.csv`. \n",
    "- 01/02/2021 00:00:00:00 to 28/02/2021 24:00:00 and export the result as a csv named `2-2021-attachment-metadata.csv`. \n",
    "- 01/03/2021 00:00:00:00 to 17/03/2021 24:00:00 and export the result as a csv named `3-2021-partial-attachment-metadata.csv`. \n",
    "\n",
    "```\n",
    "index=\"spine2vfmmonitor\" logReference=MPS0208\n",
    "| table _time, attachmentID, conversationID, FromSystem, ToSystem, attachmentType, Compressed, ContentType, LargeAttachment, Length, OriginalBase64, internalID\n",
    "```\n",
    "\n",
    "2. Run the following Splunk query for the same time ranges. Export the results as a csvs named `1-2021-gp2gp-messages.csv`, `2-2021-gp2gp-messages.csv`, `3-2021-partial-gp2gp-messages.csv`.\n",
    "\n",
    "```\n",
    "index=\"spine2vfmmonitor\" service=\"gp2gp\" logReference=\"MPS0053c\"\n",
    "| table _time, conversationID, internalID, interactionID\n",
    "```"
   ]
  },
  {
   "cell_type": "code",
   "execution_count": 1,
   "id": "great-shopper",
   "metadata": {},
   "outputs": [],
   "source": [
    "import pandas as pd\n",
    "import numpy as np"
   ]
  },
  {
   "cell_type": "code",
   "execution_count": 2,
   "id": "focal-wichita",
   "metadata": {},
   "outputs": [],
   "source": [
    "attachments_metadata_prefix = \"s3://<bucket-name>\"\n",
    "attachment_files = [\n",
    "    \"1-2021-attachment-metadata.csv.gz\",\n",
    "    \"2-2021-attachment-metadata.csv.gz\",\n",
    "    \"3-2021-partial-attachment-metadata.csv.gz\"\n",
    "]\n",
    "attachment_input_files = [attachments_metadata_prefix + f for f in attachment_files]"
   ]
  },
  {
   "cell_type": "code",
   "execution_count": 3,
   "id": "aging-possession",
   "metadata": {},
   "outputs": [],
   "source": [
    "def convert_to_int(val):\n",
    "    if val == \"Unknown\":\n",
    "        return np.NaN\n",
    "    else:\n",
    "        return np.int(val)\n",
    "\n",
    "attachments = pd.concat((\n",
    "    pd.read_csv(f, converters={\"Length\": convert_to_int}, parse_dates=[\"_time\"])\n",
    "    for f in attachment_input_files\n",
    "))"
   ]
  },
  {
   "cell_type": "code",
   "execution_count": 4,
   "id": "enormous-quilt",
   "metadata": {},
   "outputs": [],
   "source": [
    "gp2gp_messages_prefix = \"s3://<bucket-name>\"\n",
    "gp2gp_messages_files = [\n",
    "    \"1-2021-gp2gp-messages.csv.gz\",\n",
    "    \"2-2021-gp2gp-messages.csv.gz\",\n",
    "    \"3-2021-partial-gp2gp-messages.csv.gz\"\n",
    "]\n",
    "gp2gp_messages_input_files = [gp2gp_messages_prefix + f for f in gp2gp_messages_files]"
   ]
  },
  {
   "cell_type": "code",
   "execution_count": 5,
   "id": "helpful-inventory",
   "metadata": {},
   "outputs": [],
   "source": [
    "gp2gp_messages = pd.concat((\n",
    "    pd.read_csv(f, parse_dates=[\"_time\"])\n",
    "    for f in gp2gp_messages_input_files\n",
    "))"
   ]
  },
  {
   "cell_type": "markdown",
   "id": "cosmetic-plymouth",
   "metadata": {},
   "source": [
    "## Deduplicate Attachment data"
   ]
  },
  {
   "cell_type": "code",
   "execution_count": 6,
   "id": "equivalent-nursery",
   "metadata": {},
   "outputs": [],
   "source": [
    "ehr_request_completed_messages = gp2gp_messages[gp2gp_messages[\"interactionID\"] == \"urn:nhs:names:services:gp2gp/RCMR_IN030000UK06\"]\n",
    "\n",
    "unique_ehr_request_completed_messages = ehr_request_completed_messages.sort_values(by=\"_time\").drop_duplicates(subset=[\"conversationID\"], keep=\"last\")"
   ]
  },
  {
   "cell_type": "code",
   "execution_count": 7,
   "id": "opposite-voltage",
   "metadata": {},
   "outputs": [],
   "source": [
    "ehr_attachments = pd.merge(attachments, unique_ehr_request_completed_messages[[\"internalID\", \"interactionID\"]], on=\"internalID\", how=\"inner\")"
   ]
  },
  {
   "cell_type": "markdown",
   "id": "recreational-carter",
   "metadata": {},
   "source": [
    "## Attachment sizes"
   ]
  },
  {
   "cell_type": "code",
   "execution_count": 8,
   "id": "powered-mercury",
   "metadata": {},
   "outputs": [],
   "source": [
    "ehr_attachments_with_size_in_mb = ehr_attachments.assign(LengthInMB=lambda x: x[\"Length\"]/ (1024 * 1024))"
   ]
  },
  {
   "cell_type": "code",
   "execution_count": 9,
   "id": "modified-knife",
   "metadata": {},
   "outputs": [
    {
     "data": {
      "text/html": [
       "<div>\n",
       "<style scoped>\n",
       "    .dataframe tbody tr th:only-of-type {\n",
       "        vertical-align: middle;\n",
       "    }\n",
       "\n",
       "    .dataframe tbody tr th {\n",
       "        vertical-align: top;\n",
       "    }\n",
       "\n",
       "    .dataframe thead th {\n",
       "        text-align: right;\n",
       "    }\n",
       "</style>\n",
       "<table border=\"1\" class=\"dataframe\">\n",
       "  <thead>\n",
       "    <tr style=\"text-align: right;\">\n",
       "      <th></th>\n",
       "      <th>over 5 MB</th>\n",
       "      <th>over 20 MB</th>\n",
       "      <th>under 5 MB</th>\n",
       "      <th>Unknown</th>\n",
       "      <th>Total</th>\n",
       "    </tr>\n",
       "  </thead>\n",
       "  <tbody>\n",
       "    <tr>\n",
       "      <th>0</th>\n",
       "      <td>161844</td>\n",
       "      <td>28038</td>\n",
       "      <td>19404108</td>\n",
       "      <td>139</td>\n",
       "      <td>19594129</td>\n",
       "    </tr>\n",
       "  </tbody>\n",
       "</table>\n",
       "</div>"
      ],
      "text/plain": [
       "   over 5 MB  over 20 MB  under 5 MB  Unknown     Total\n",
       "0     161844       28038    19404108      139  19594129"
      ]
     },
     "execution_count": 9,
     "metadata": {},
     "output_type": "execute_result"
    }
   ],
   "source": [
    "attachments_over_5_mb = np.sum((ehr_attachments_with_size_in_mb[\"LengthInMB\"] >= 5) & (ehr_attachments_with_size_in_mb[\"LengthInMB\"] < 20))\n",
    "attachments_over_20_mb = np.sum(ehr_attachments_with_size_in_mb[\"LengthInMB\"] >= 20)\n",
    "attachments_under_5_mb = np.sum(ehr_attachments_with_size_in_mb[\"LengthInMB\"] < 5)\n",
    "attachments_size_unknown = np.sum(ehr_attachments_with_size_in_mb[\"LengthInMB\"].isnull())\n",
    "\n",
    "attachment_sizes = pd.DataFrame([[attachments_over_5_mb, attachments_over_20_mb, attachments_under_5_mb, attachments_size_unknown]],\n",
    "                  columns=['over 5 MB', 'over 20 MB', 'under 5 MB', 'Unknown'])\n",
    "attachment_sizes['Total'] = attachment_sizes.sum(axis=1)\n",
    "attachment_sizes"
   ]
  },
  {
   "cell_type": "code",
   "execution_count": 17,
   "id": "generic-reynolds",
   "metadata": {},
   "outputs": [
    {
     "data": {
      "text/html": [
       "<div>\n",
       "<style scoped>\n",
       "    .dataframe tbody tr th:only-of-type {\n",
       "        vertical-align: middle;\n",
       "    }\n",
       "\n",
       "    .dataframe tbody tr th {\n",
       "        vertical-align: top;\n",
       "    }\n",
       "\n",
       "    .dataframe thead th {\n",
       "        text-align: right;\n",
       "    }\n",
       "</style>\n",
       "<table border=\"1\" class=\"dataframe\">\n",
       "  <thead>\n",
       "    <tr style=\"text-align: right;\">\n",
       "      <th></th>\n",
       "      <th>over 5 MB (%)</th>\n",
       "      <th>over 20 MB (%)</th>\n",
       "      <th>under 5 MB (%)</th>\n",
       "      <th>Unknown (%)</th>\n",
       "    </tr>\n",
       "  </thead>\n",
       "  <tbody>\n",
       "    <tr>\n",
       "      <th>0</th>\n",
       "      <td>0.83</td>\n",
       "      <td>0.14</td>\n",
       "      <td>99.03</td>\n",
       "      <td>0.0</td>\n",
       "    </tr>\n",
       "  </tbody>\n",
       "</table>\n",
       "</div>"
      ],
      "text/plain": [
       "   over 5 MB (%)  over 20 MB (%)  under 5 MB (%)  Unknown (%)\n",
       "0           0.83            0.14           99.03          0.0"
      ]
     },
     "execution_count": 17,
     "metadata": {},
     "output_type": "execute_result"
    }
   ],
   "source": [
    "attachment_size_percentages = attachment_sizes.iloc[:, 0:4].apply(lambda x: x / attachment_sizes.iloc[:, 4] * 100)\n",
    "\n",
    "attachment_size_percentages = attachment_size_percentages.add_suffix(' (%)')\n",
    "\n",
    "attachment_size_percentages.round(2)"
   ]
  },
  {
   "cell_type": "code",
   "execution_count": null,
   "id": "young-fitness",
   "metadata": {},
   "outputs": [],
   "source": []
  }
 ],
 "metadata": {
  "kernelspec": {
   "display_name": "conda_python3",
   "language": "python",
   "name": "conda_python3"
  },
  "language_info": {
   "codemirror_mode": {
    "name": "ipython",
    "version": 3
   },
   "file_extension": ".py",
   "mimetype": "text/x-python",
   "name": "python",
   "nbconvert_exporter": "python",
   "pygments_lexer": "ipython3",
   "version": "3.6.13"
  }
 },
 "nbformat": 4,
 "nbformat_minor": 5
}