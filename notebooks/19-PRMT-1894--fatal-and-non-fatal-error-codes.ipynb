{
 "cells": [
  {
   "cell_type": "markdown",
   "id": "south-concord",
   "metadata": {},
   "source": [
    "# [HYPOTHESIS] All error codes can be classified as completely fatal or completely non fatal\n",
    "\n",
    "## Hypothesis\n",
    "\n",
    "**We believe** all error codes can be classified as completely fatal or completely non fatal\n",
    "\n",
    "**We will know this to be true** when we can attribute every failed transfer to an error code which is not present in any successfully integrated transfer\n",
    "\n",
    " \n",
    "\n",
    "## Approach/Scope\n",
    "\n",
    "- Take 6 months of data - Sept 2020 to Feb 2021\n",
    "\n",
    "- Clearly label each transfer as integrated or failed \n",
    "\n",
    "  - Correct duplicate transfers \n",
    "\n",
    "  - Remove pending transfers\n",
    "\n",
    "- Merge intermediate and final error codes\n",
    "\n",
    "- Identify % failure for each error code and designate anything with 100% error code as fatal \n",
    "\n",
    "- Ensure that all failures contain one of these fatal error codes"
   ]
  },
  {
   "cell_type": "code",
   "execution_count": null,
   "id": "graduate-southeast",
   "metadata": {},
   "outputs": [],
   "source": [
    "import pandas as pd\n",
    "import numpy as np"
   ]
  },
  {
   "cell_type": "code",
   "execution_count": null,
   "id": "short-fraction",
   "metadata": {},
   "outputs": [],
   "source": [
    "def Series_of_lists_value_counts(Series):\n",
    "    # Replace any nan values in list\n",
    "    Series=Series.apply(lambda row: ['None' if np.isnan(x) else x for x in row])\n",
    "    # Convert this into a dataframe of list items in order\n",
    "    journey_frame=pd.DataFrame.from_records(Series.tolist())\n",
    "    # To ensure grouping of different list lengths, fill gaps\n",
    "    journey_frame=journey_frame.fillna('n/a')\n",
    "    # Store index for grouping\n",
    "    grouping_index=list(journey_frame.columns)\n",
    "    # Add column to aggreate on for group\n",
    "    journey_frame['Total Occurences']=1\n",
    "\n",
    "    # Now do the actual aggregate\n",
    "    journey_frame=journey_frame.groupby(grouping_index).agg('count').sort_values(by='Total Occurences',ascending=False)\n",
    "    \n",
    "    return journey_frame.reset_index().replace({'n/a':np.nan})"
   ]
  },
  {
   "cell_type": "code",
   "execution_count": null,
   "id": "prompt-raise",
   "metadata": {},
   "outputs": [],
   "source": [
    "transfer_file_location = \"s3://<bucket-name>\"\n",
    "transfer_files = [\n",
    "    \"9-2020-transfers.parquet\",\n",
    "    \"10-2020-transfers.parquet\",\n",
    "    \"11-2020-transfers.parquet\",\n",
    "    \"12-2020-transfers.parquet\",\n",
    "    \"1-2021-transfers.parquet\",\n",
    "    \"2-2021-transfers.parquet\"\n",
    "]\n",
    "transfer_input_files = [transfer_file_location + f for f in transfer_files]\n",
    "transfers = pd.concat((\n",
    "    pd.read_parquet(f)\n",
    "    for f in transfer_input_files\n",
    "))\n",
    "transfers"
   ]
  },
  {
   "cell_type": "code",
   "execution_count": null,
   "id": "coated-rouge",
   "metadata": {},
   "outputs": [],
   "source": [
    "successful_transfers_bool = transfers['request_completed_ack_codes'].apply(lambda x: True in [(np.isnan(i) or i==15) for i in x])\n",
    "transfers_without_integrated_status_bool = transfers['status'] != 'INTEGRATED'\n",
    "successful_transfers_without_integrated_status = transfers[(successful_transfers_bool & transfers_without_integrated_status_bool)]\n",
    "successful_transfers_without_integrated_status['status'].value_counts()"
   ]
  },
  {
   "cell_type": "code",
   "execution_count": null,
   "id": "minimal-investment",
   "metadata": {},
   "outputs": [],
   "source": [
    "Series_of_lists_value_counts(successful_transfers_without_integrated_status['request_completed_ack_codes'].apply(set))"
   ]
  },
  {
   "cell_type": "code",
   "execution_count": null,
   "id": "inclusive-hayes",
   "metadata": {},
   "outputs": [],
   "source": [
    "transfers_with_final_outcome = transfers.copy()\n",
    "transfers_with_final_outcome.loc[successful_transfers_bool, 'status'] = 'INTEGRATED'\n",
    "transfers_with_final_outcome = transfers_with_final_outcome.loc[(transfers_with_final_outcome['status'] == 'INTEGRATED') | (transfers_with_final_outcome['status'] == 'FAILED')]\n",
    "transfers_with_final_outcome"
   ]
  },
  {
   "cell_type": "code",
   "execution_count": null,
   "id": "prompt-wings",
   "metadata": {},
   "outputs": [],
   "source": [
    "transfers_with_final_outcome['all_error_codes'] = transfers_with_final_outcome.apply(lambda x: [*x['intermediate_error_codes'], *x['request_completed_ack_codes']],axis=1)\n",
    "transfers_with_final_outcome"
   ]
  },
  {
   "cell_type": "code",
   "execution_count": null,
   "id": "liberal-landing",
   "metadata": {},
   "outputs": [],
   "source": [
    "transfers_with_final_outcome['all_error_codes'] = transfers_with_final_outcome['all_error_codes'].apply(lambda x: [i for i in x if np.isfinite(i)])\n",
    "transfers_with_final_outcome"
   ]
  },
  {
   "cell_type": "code",
   "execution_count": null,
   "id": "anonymous-sponsorship",
   "metadata": {},
   "outputs": [],
   "source": [
    "reduced_transfers_with_final_outcome = transfers_with_final_outcome[['status', 'all_error_codes']]\n",
    "has_errors = reduced_transfers_with_final_outcome[\"all_error_codes\"].apply(len) > 0\n",
    "transfers_with_final_outcome_exploded = reduced_transfers_with_final_outcome[has_errors].explode(\"all_error_codes\")\n",
    "transfers_with_final_outcome_exploded\n",
    "# transfers_with_errors = group_by_errors(\"intermediate_error_codes\", transfers_with_unique_intermediate_errors)\n",
    "# transfers_with_errors"
   ]
  },
  {
   "cell_type": "code",
   "execution_count": null,
   "id": "fifth-effects",
   "metadata": {},
   "outputs": [],
   "source": []
  }
 ],
 "metadata": {
  "kernelspec": {
   "display_name": "conda_python3",
   "language": "python",
   "name": "conda_python3"
  },
  "language_info": {
   "codemirror_mode": {
    "name": "ipython",
    "version": 3
   },
   "file_extension": ".py",
   "mimetype": "text/x-python",
   "name": "python",
   "nbconvert_exporter": "python",
   "pygments_lexer": "ipython3",
   "version": "3.6.13"
  }
 },
 "nbformat": 4,
 "nbformat_minor": 5
}