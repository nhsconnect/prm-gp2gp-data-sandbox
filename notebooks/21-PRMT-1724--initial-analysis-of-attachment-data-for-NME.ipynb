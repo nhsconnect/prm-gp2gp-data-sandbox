{
 "cells": [
  {
   "cell_type": "markdown",
   "id": "premier-siemens",
   "metadata": {},
   "source": [
    "# PRMT-1724 Attachment data for NME (New Market Entrant)"
   ]
  },
  {
   "cell_type": "markdown",
   "id": "planned-banana",
   "metadata": {},
   "source": [
    "### Context\n",
    "\n",
    "NME have requested some insights on attachments data. They want to understand the number of attachments over a certain size, as they need to know what types of sizes and volumes they need to be able to handle. \n",
    "\n",
    "They would like to know:\n",
    "- total number of attachments \n",
    "- how many attachments are over 5mb (volume and %)\n",
    "- how many attachments are over 20mb (volume and %)\n",
    "\n",
    "There is some effort required to de-duplicate the underlying data. This is explored in notebook `10-PRMT-1528`.\n",
    "\n",
    "### Requirements\n",
    "\n",
    "In order to replicate this notebook, perform the following steps:\n",
    "\n",
    "1. Log into Splunk and run the following query for:\n",
    "- 01/01/2021 00:00:00:00 to 31/01/2021 24:00:00 and export the result as a csv named `1-2021-attachment-metadata.csv`. \n",
    "- 01/02/2021 00:00:00:00 to 28/02/2021 24:00:00 and export the result as a csv named `2-2021-attachment-metadata.csv`. \n",
    "- 01/03/2021 00:00:00:00 to 31/03/2021 24:00:00 and export the result as a csv named `3-2021-attachment-metadata.csv`. \n",
    "\n",
    "```\n",
    "index=\"spine2vfmmonitor\" logReference=MPS0208\n",
    "| table _time, attachmentID, conversationID, FromSystem, ToSystem, attachmentType, Compressed, ContentType, LargeAttachment, Length, OriginalBase64, internalID\n",
    "```\n",
    "\n",
    "2. Run the following Splunk query for the same time ranges. Export the results as a csvs named `1-2021-gp2gp-messages.csv`, `2-2021-gp2gp-messages.csv`, `3-2021-gp2gp-messages.csv`.\n",
    "\n",
    "```\n",
    "index=\"spine2vfmmonitor\" service=\"gp2gp\" logReference=\"MPS0053c\"\n",
    "| table _time, conversationID, internalID, interactionID\n",
    "```"
   ]
  },
  {
   "cell_type": "code",
   "execution_count": 4,
   "id": "legislative-norfolk",
   "metadata": {},
   "outputs": [],
   "source": [
    "import pandas as pd\n",
    "import numpy as np"
   ]
  },
  {
   "cell_type": "code",
   "execution_count": 5,
   "id": "owned-james",
   "metadata": {},
   "outputs": [],
   "source": [
    "attachments_metadata_prefix = \"s3://<bucket-name>\"\n",
    "attachment_files = [\n",
    "    \"1-2021-attachment-metadata.csv.gz\",\n",
    "    \"2-2021-attachment-metadata.csv.gz\",\n",
    "    \"3-2021-attachment-metadata.csv.gz\"\n",
    "]\n",
    "attachment_input_files = [attachments_metadata_prefix + f for f in attachment_files]"
   ]
  },
  {
   "cell_type": "code",
   "execution_count": 6,
   "id": "forty-indonesian",
   "metadata": {},
   "outputs": [],
   "source": [
    "def convert_to_int(val):\n",
    "    if val == \"Unknown\":\n",
    "        return np.NaN\n",
    "    else:\n",
    "        return np.int(val)\n",
    "\n",
    "attachments = pd.concat((\n",
    "    pd.read_csv(f, converters={\"Length\": convert_to_int}, parse_dates=[\"_time\"])\n",
    "    for f in attachment_input_files\n",
    "))"
   ]
  },
  {
   "cell_type": "code",
   "execution_count": 7,
   "id": "czech-helping",
   "metadata": {},
   "outputs": [],
   "source": [
    "gp2gp_messages_prefix = \"s3://<bucket-name>\"\n",
    "    \"1-2021-gp2gp-messages.csv.gz\",\n",
    "    \"2-2021-gp2gp-messages.csv.gz\",\n",
    "    \"3-2021-gp2gp-messages.csv.gz\"\n",
    "]\n",
    "gp2gp_messages_input_files = [gp2gp_messages_prefix + f for f in gp2gp_messages_files]"
   ]
  },
  {
   "cell_type": "code",
   "execution_count": 8,
   "id": "hybrid-major",
   "metadata": {},
   "outputs": [],
   "source": [
    "gp2gp_messages = pd.concat((\n",
    "    pd.read_csv(f, parse_dates=[\"_time\"])\n",
    "    for f in gp2gp_messages_input_files\n",
    "))"
   ]
  },
  {
   "cell_type": "markdown",
   "id": "complete-mumbai",
   "metadata": {},
   "source": [
    "## Deduplicate Attachment data"
   ]
  },
  {
   "cell_type": "code",
   "execution_count": 9,
   "id": "mineral-occupation",
   "metadata": {},
   "outputs": [],
   "source": [
    "ehr_request_completed_messages = gp2gp_messages[gp2gp_messages[\"interactionID\"] == \"urn:nhs:names:services:gp2gp/RCMR_IN030000UK06\"]\n",
    "\n",
    "unique_ehr_request_completed_messages = ehr_request_completed_messages.sort_values(by=\"_time\").drop_duplicates(subset=[\"conversationID\"], keep=\"last\")"
   ]
  },
  {
   "cell_type": "code",
   "execution_count": 10,
   "id": "accepted-literature",
   "metadata": {},
   "outputs": [],
   "source": [
    "ehr_attachments = pd.merge(attachments, unique_ehr_request_completed_messages[[\"internalID\", \"interactionID\"]], on=\"internalID\", how=\"inner\")"
   ]
  },
  {
   "cell_type": "markdown",
   "id": "faced-travel",
   "metadata": {},
   "source": [
    "## Attachment sizes"
   ]
  },
  {
   "cell_type": "code",
   "execution_count": 11,
   "id": "bibliographic-touch",
   "metadata": {},
   "outputs": [],
   "source": [
    "ehr_attachments_with_size_in_mb = ehr_attachments.assign(LengthInMB=lambda x: x[\"Length\"]/ (1024 * 1024))"
   ]
  },
  {
   "cell_type": "code",
   "execution_count": 28,
   "id": "eight-queens",
   "metadata": {},
   "outputs": [
    {
     "data": {
      "text/html": [
       "<div>\n",
       "<style scoped>\n",
       "    .dataframe tbody tr th:only-of-type {\n",
       "        vertical-align: middle;\n",
       "    }\n",
       "\n",
       "    .dataframe tbody tr th {\n",
       "        vertical-align: top;\n",
       "    }\n",
       "\n",
       "    .dataframe thead th {\n",
       "        text-align: right;\n",
       "    }\n",
       "</style>\n",
       "<table border=\"1\" class=\"dataframe\">\n",
       "  <thead>\n",
       "    <tr style=\"text-align: right;\">\n",
       "      <th></th>\n",
       "      <th>over 5 MB</th>\n",
       "      <th>over 20 MB</th>\n",
       "      <th>under 5 MB</th>\n",
       "      <th>Unknown</th>\n",
       "      <th>Total</th>\n",
       "    </tr>\n",
       "  </thead>\n",
       "  <tbody>\n",
       "    <tr>\n",
       "      <th>0</th>\n",
       "      <td>194053</td>\n",
       "      <td>33685</td>\n",
       "      <td>23154184</td>\n",
       "      <td>178</td>\n",
       "      <td>23382100</td>\n",
       "    </tr>\n",
       "  </tbody>\n",
       "</table>\n",
       "</div>"
      ],
      "text/plain": [
       "   over 5 MB  over 20 MB  under 5 MB  Unknown     Total\n",
       "0     194053       33685    23154184      178  23382100"
      ]
     },
     "execution_count": 28,
     "metadata": {},
     "output_type": "execute_result"
    }
   ],
   "source": [
    "attachments_over_5_mb = np.sum((ehr_attachments_with_size_in_mb[\"LengthInMB\"] >= 5) & (ehr_attachments_with_size_in_mb[\"LengthInMB\"] < 20))\n",
    "attachments_over_20_mb = np.sum(ehr_attachments_with_size_in_mb[\"LengthInMB\"] >= 20)\n",
    "attachments_under_5_mb = np.sum(ehr_attachments_with_size_in_mb[\"LengthInMB\"] < 5)\n",
    "attachments_size_unknown = np.sum(ehr_attachments_with_size_in_mb[\"LengthInMB\"].isnull())\n",
    "\n",
    "attachment_sizes = pd.DataFrame([[attachments_over_5_mb, attachments_over_20_mb, attachments_under_5_mb, attachments_size_unknown]],\n",
    "                  columns=['over 5 MB', 'over 20 MB', 'under 5 MB', 'Unknown'])\n",
    "attachment_sizes['Total'] = attachment_sizes.sum(axis=1)\n",
    "attachment_sizes"
   ]
  },
  {
   "cell_type": "code",
   "execution_count": 29,
   "id": "statistical-tunisia",
   "metadata": {},
   "outputs": [
    {
     "data": {
      "text/html": [
       "<div>\n",
       "<style scoped>\n",
       "    .dataframe tbody tr th:only-of-type {\n",
       "        vertical-align: middle;\n",
       "    }\n",
       "\n",
       "    .dataframe tbody tr th {\n",
       "        vertical-align: top;\n",
       "    }\n",
       "\n",
       "    .dataframe thead th {\n",
       "        text-align: right;\n",
       "    }\n",
       "</style>\n",
       "<table border=\"1\" class=\"dataframe\">\n",
       "  <thead>\n",
       "    <tr style=\"text-align: right;\">\n",
       "      <th></th>\n",
       "      <th>over 5 MB (%)</th>\n",
       "      <th>over 20 MB (%)</th>\n",
       "      <th>under 5 MB (%)</th>\n",
       "      <th>Unknown (%)</th>\n",
       "    </tr>\n",
       "  </thead>\n",
       "  <tbody>\n",
       "    <tr>\n",
       "      <th>0</th>\n",
       "      <td>0.83</td>\n",
       "      <td>0.14</td>\n",
       "      <td>99.03</td>\n",
       "      <td>0.0</td>\n",
       "    </tr>\n",
       "  </tbody>\n",
       "</table>\n",
       "</div>"
      ],
      "text/plain": [
       "   over 5 MB (%)  over 20 MB (%)  under 5 MB (%)  Unknown (%)\n",
       "0           0.83            0.14           99.03          0.0"
      ]
     },
     "execution_count": 29,
     "metadata": {},
     "output_type": "execute_result"
    }
   ],
   "source": [
    "attachment_size_percentages = attachment_sizes.iloc[:, 0:4].apply(lambda x: x / attachment_sizes.iloc[:, 4] * 100)\n",
    "\n",
    "attachment_size_percentages = attachment_size_percentages.add_suffix(' (%)')\n",
    "\n",
    "attachment_size_percentages.round(2)"
   ]
  },
  {
   "cell_type": "code",
   "execution_count": null,
   "id": "herbal-freight",
   "metadata": {},
   "outputs": [],
   "source": []
  }
 ],
 "metadata": {
  "kernelspec": {
   "display_name": "conda_python3",
   "language": "python",
   "name": "conda_python3"
  },
  "language_info": {
   "codemirror_mode": {
    "name": "ipython",
    "version": 3
   },
   "file_extension": ".py",
   "mimetype": "text/x-python",
   "name": "python",
   "nbconvert_exporter": "python",
   "pygments_lexer": "ipython3",
   "version": "3.6.13"
  }
 },
 "nbformat": 4,
 "nbformat_minor": 5
}