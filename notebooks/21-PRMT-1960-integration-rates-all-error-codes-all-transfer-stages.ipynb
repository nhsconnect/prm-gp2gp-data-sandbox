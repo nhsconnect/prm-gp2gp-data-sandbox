{
 "cells": [
  {
   "cell_type": "markdown",
   "id": "complete-victorian",
   "metadata": {},
   "source": [
    "# PRMT-1960 Can we use the presence of a error code at a particular point in the process to designate a transfer as failed\n",
    "### Context\n",
    "\n",
    "Data range: 01/09/2020 - 28/02/2021 (6 months)\n",
    "\n",
    "### Hypothesis\n",
    "\n",
    "**We believe that** certain Error Codes appear at certain points in the GP2GP process,\n",
    "\n",
    "**Can** automatically be considered failures.\n",
    "\n",
    "**We will know this to be true when** we can see in the data that whenever a given error codes appear at a given stage of the transfer process (e.g. in intermediate, sender or final message(s)), those transfers have no successful integrations.\n",
    "\n",
    "### Scope\n",
    "\n",
    "We have:\n",
    "- looked at the effect of re-designating any transfers that have a pending with error status, and contain the fatal intermediate error codes as failed - see fatal error codes in Notebook 16: PRMT-1622\n",
    "- for each error code, for each stage in the process, looked at the eventual status of the transfer\n",
    "- identify which error codes appearing at which stage can be automatically assumed as failed.\n",
    "- This analysis is for a 6 month time frame - From September 2020 to February 2021 (using transfers - duplicate hypothesis - dataset)."
   ]
  },
  {
   "cell_type": "code",
   "execution_count": 1,
   "id": "fifty-flexibility",
   "metadata": {},
   "outputs": [],
   "source": [
    "import pandas as pd\n",
    "import matplotlib.pyplot as plt\n",
    "import numpy as np"
   ]
  },
  {
   "cell_type": "code",
   "execution_count": 2,
   "id": "federal-newsletter",
   "metadata": {},
   "outputs": [],
   "source": [
    "error_code_lookup_file = pd.read_csv(\"https://raw.githubusercontent.com/nhsconnect/prm-gp2gp-data-sandbox/master/data/gp2gp_response_codes.csv\")"
   ]
  },
  {
   "cell_type": "code",
   "execution_count": 3,
   "id": "employed-excess",
   "metadata": {},
   "outputs": [],
   "source": [
    "transfer_file_location = \"s3://prm-gp2gp-data-sandbox-dev/transfers-duplicates-hypothesis/\"\n",
    "transfer_files = [\n",
    "    \"9-2020-transfers.parquet\",\n",
    "    \"10-2020-transfers.parquet\",\n",
    "    \"11-2020-transfers.parquet\",\n",
    "    \"12-2020-transfers.parquet\",\n",
    "    \"1-2021-transfers.parquet\",\n",
    "    \"2-2021-transfers.parquet\",\n",
    "]\n",
    "transfer_input_files = [transfer_file_location + f for f in transfer_files]\n",
    "transfers_raw = pd.concat((\n",
    "    pd.read_parquet(f)\n",
    "    for f in transfer_input_files\n",
    "))\n",
    "# This is only needed when using transfers-duplicates-hypothesis datasets\n",
    "transfers_raw = transfers_raw.drop([\"sending_supplier\", \"requesting_supplier\"], axis=1)"
   ]
  },
  {
   "cell_type": "code",
   "execution_count": 4,
   "id": "pressed-immune",
   "metadata": {},
   "outputs": [],
   "source": [
    "# Given the findings in PRMT-1742 - many duplicate EHR errors are misclassified, the below reclassifies the relevant data\n",
    "successful_transfers_bool = transfers_raw['request_completed_ack_codes'].apply(lambda x: True in [(np.isnan(i) or i==15) for i in x])\n",
    "transfers = transfers_raw.copy()\n",
    "transfers.loc[successful_transfers_bool, \"status\"] = \"INTEGRATED\""
   ]
  },
  {
   "cell_type": "markdown",
   "id": "atmospheric-mining",
   "metadata": {},
   "source": [
    "\n",
    "# Part 1: Pending with Error\n",
    "## Fatal Error Codes - Effect on pending with error transfers\n",
    "\n",
    "We want to find the:\n",
    "- Number of pending with error as the status - total number of transfers\n",
    "   - broken down by the (4) Likely Fatal Error: Common errors with no integrations\n",
    "   - broken down by the (4) Likely Fatal Error: Common errors with no integrations & (2) Seems Fatal: Tiny chance of Integration"
   ]
  },
  {
   "cell_type": "markdown",
   "id": "prescription-atlantic",
   "metadata": {},
   "source": [
    "### Data set information"
   ]
  },
  {
   "cell_type": "code",
   "execution_count": 5,
   "id": "sharing-adjustment",
   "metadata": {},
   "outputs": [
    {
     "name": "stdout",
     "output_type": "stream",
     "text": [
      "Min time of dataset: 2020-09-01 04:51:16.148000\n",
      "Max time of dataset: 2021-02-28 23:04:58.544000\n",
      "Total number of transfers: 1343234\n",
      "Breakdown by status:\n"
     ]
    },
    {
     "data": {
      "text/plain": [
       "INTEGRATED            1254802\n",
       "PENDING                 39087\n",
       "PENDING_WITH_ERROR      26574\n",
       "FAILED                  22771\n",
       "Name: status, dtype: int64"
      ]
     },
     "execution_count": 5,
     "metadata": {},
     "output_type": "execute_result"
    }
   ],
   "source": [
    "start_time = transfers['date_requested'].min()\n",
    "end_time = transfers['date_requested'].max()\n",
    "\n",
    "start_date = start_time.date()\n",
    "end_date = end_time.date()\n",
    "\n",
    "print(f\"Min time of dataset: {start_time}\")\n",
    "print(f\"Max time of dataset: {end_time}\")\n",
    "\n",
    "total_number_transfers = transfers[\"status\"].value_counts().sum()\n",
    "print(f\"Total number of transfers: {total_number_transfers}\")\n",
    "\n",
    "print(\"Breakdown by status:\")\n",
    "transfers[\"status\"].value_counts()"
   ]
  },
  {
   "cell_type": "code",
   "execution_count": 6,
   "id": "frank-oliver",
   "metadata": {},
   "outputs": [
    {
     "name": "stdout",
     "output_type": "stream",
     "text": [
      "To confirm that no pending transfers have any intermediate error codes\n"
     ]
    },
    {
     "data": {
      "text/plain": [
       "0    39087\n",
       "Name: intermediate_error_codes, dtype: int64"
      ]
     },
     "execution_count": 6,
     "metadata": {},
     "output_type": "execute_result"
    }
   ],
   "source": [
    "transfers_with_pending_bool = transfers.loc[:, \"status\"] == \"PENDING\"\n",
    "transfers_with_pending = transfers.loc[transfers_with_pending_bool]\n",
    "print(\"To confirm that no pending transfers have any intermediate error codes\")\n",
    "transfers_with_pending[\"intermediate_error_codes\"].apply(len).value_counts()"
   ]
  },
  {
   "cell_type": "code",
   "execution_count": 7,
   "id": "thirty-press",
   "metadata": {},
   "outputs": [
    {
     "name": "stdout",
     "output_type": "stream",
     "text": [
      "To confirm that no pending transfers have a sender error code\n"
     ]
    },
    {
     "data": {
      "text/plain": [
       "NaN    39087\n",
       "Name: sender_error_code, dtype: int64"
      ]
     },
     "execution_count": 7,
     "metadata": {},
     "output_type": "execute_result"
    }
   ],
   "source": [
    "print(\"To confirm that no pending transfers have a sender error code\")\n",
    "transfers_with_pending[\"sender_error_code\"].value_counts(dropna=False)"
   ]
  },
  {
   "cell_type": "markdown",
   "id": "dated-charger",
   "metadata": {},
   "source": [
    "### Fatal Errors"
   ]
  },
  {
   "cell_type": "code",
   "execution_count": null,
   "id": "english-complement",
   "metadata": {},
   "outputs": [],
   "source": [
    "transfers_with_pending_with_error_bool = transfers.loc[:, \"status\"] == \"PENDING_WITH_ERROR\"\n",
    "transfers_with_pending_with_error = transfers.loc[transfers_with_pending_with_error_bool]\n",
    "transfers_with_pending_with_error[\"intermediate_and_sender_error_codes\"] = transfers_with_pending_with_error.apply(lambda row: np.append(row[\"intermediate_error_codes\"], row[\"sender_error_code\"]), axis=1)\n",
    "                                                                                                                   \n",
    "print(f\"Total number of transfers with pending with error status:\")\n",
    "print(transfers[\"status\"].value_counts()[\"PENDING_WITH_ERROR\"])\n",
    "\n",
    "print(f\"Validating transfers_with_pending_with_error data frame is the correct size\")\n",
    "transfers_with_pending_with_error.shape                                                                                                               \n",
    "                                                                                                                   "
   ]
  },
  {
   "cell_type": "code",
   "execution_count": null,
   "id": "headed-sphere",
   "metadata": {},
   "outputs": [],
   "source": [
    "print('Do pending with error transfers, contain fatal error codes? Just error codes which are 100% fatal [PRMT-1622]:')\n",
    "fatal_error_codes = [10, 6, 7, 24, 99, 15]\n",
    "transfers_with_fatal_errors_bool = transfers_with_pending_with_error[\"intermediate_and_sender_error_codes\"].apply(lambda interm_error_codes: list(set(interm_error_codes) & set(fatal_error_codes))).apply(len) > 0\n",
    "transfers_with_fatal_errors_bool.value_counts().iloc[[1,0]]"
   ]
  },
  {
   "cell_type": "code",
   "execution_count": null,
   "id": "pursuant-thickness",
   "metadata": {},
   "outputs": [],
   "source": [
    "print('Do pending with error transfers, contain fatal error codes? All error codes which are 99% + fatal [PRMT-1622]:')\n",
    "extended_fatal_error_codes = fatal_error_codes + [30, 14, 23]\n",
    "transfers_with_extended_fatal_errors_bool = transfers_with_pending_with_error[\"intermediate_and_sender_error_codes\"].apply(lambda interm_error_codes: list(set(interm_error_codes) & set(extended_fatal_error_codes))).apply(len) > 0\n",
    "transfers_with_extended_fatal_errors_bool.value_counts()"
   ]
  },
  {
   "cell_type": "code",
   "execution_count": null,
   "id": "played-battery",
   "metadata": {},
   "outputs": [],
   "source": [
    "pd.pivot_table(transfers, index=\"sender_error_code\", columns=\"status\", aggfunc=\"count\", values=\"conversation_id\").fillna(0).astype(int)"
   ]
  },
  {
   "cell_type": "markdown",
   "id": "persistent-algorithm",
   "metadata": {},
   "source": [
    "From the above figures -  it appears that almost all transfers with 'pending with error' status contain sender error 30 (LM general failure) or 14 (Message not send because requesting LM messages). Error codes 30 and 14 - large message issues - these are deemed to be usually fatal, and therefore we may be able to classify the vast majority of these as a status of failed instead.\n",
    "\n",
    "#### Given this finding, let's open this up to all error types (eg sender, final, intermediate, req ack)"
   ]
  },
  {
   "cell_type": "markdown",
   "id": "enormous-guide",
   "metadata": {},
   "source": [
    "# Part 2: All Error Types\n",
    "## Error Code, Error Type (Sender/Intermediate/Final) and transfer status\n",
    "Looking at all transfers that have any error codes (either as a sender error code, final error code, or intermediate error code) - and what their final transfer status is (failed/integrated/pending or pending with error), in order to see any patterns."
   ]
  },
  {
   "cell_type": "code",
   "execution_count": null,
   "id": "amino-civilian",
   "metadata": {},
   "outputs": [],
   "source": [
    "# Sender Errors\n",
    "transfers_with_sender_error_bool = transfers[\"sender_error_code\"].apply(lambda sender_error_code: np.isfinite(sender_error_code))\n",
    "transfers_with_sender_error = transfers[transfers_with_sender_error_bool]\n",
    "transfers_with_sender_error = transfers_with_sender_error[[\"sender_error_code\", \"status\"]]\n",
    "transfers_with_sender_error[\"Error Type\"] = \"Sender\"\n",
    "transfers_with_sender_error = transfers_with_sender_error.rename({ \"sender_error_code\": \"Error Code\" }, axis=1)"
   ]
  },
  {
   "cell_type": "code",
   "execution_count": null,
   "id": "norwegian-colon",
   "metadata": {},
   "outputs": [],
   "source": [
    "# Final Errors\n",
    "transfers_with_final_error_bool = transfers[\"final_error_code\"].apply(lambda final_error_code: np.isfinite(final_error_code))\n",
    "transfers_with_final_error = transfers[transfers_with_final_error_bool]\n",
    "transfers_with_final_error = transfers_with_final_error[[\"final_error_code\", \"status\"]]\n",
    "transfers_with_final_error[\"Error Type\"] = \"Final\"\n",
    "transfers_with_final_error = transfers_with_final_error.rename({ \"final_error_code\": \"Error Code\" }, axis=1)"
   ]
  },
  {
   "cell_type": "code",
   "execution_count": null,
   "id": "discrete-chassis",
   "metadata": {},
   "outputs": [],
   "source": [
    "# Intermediate Errors\n",
    "has_intermediate_errors_bool = transfers[\"intermediate_error_codes\"].apply(len) > 0\n",
    "transfers_with_intermediate_errors_exploded = transfers[has_intermediate_errors_bool].explode(\"intermediate_error_codes\")\n",
    "# A single transfer may have the same duplicate error code repeatedly - let's only count each one once by dropping duplicates\n",
    "transfers_with_unique_interm_errors = transfers_with_intermediate_errors_exploded.drop_duplicates(subset=[\"conversation_id\", \"intermediate_error_codes\"])\n",
    "transfers_with_unique_interm_errors = transfers_with_unique_interm_errors[[\"intermediate_error_codes\", \"status\"]]\n",
    "transfers_with_unique_interm_errors[\"Error Type\"] = \"intermediate\"\n",
    "transfers_with_unique_interm_errors = transfers_with_unique_interm_errors.rename({ \"intermediate_error_codes\": \"Error Code\" }, axis=1)"
   ]
  },
  {
   "cell_type": "code",
   "execution_count": null,
   "id": "lonely-arthritis",
   "metadata": {},
   "outputs": [],
   "source": [
    "# Request Completed Acknowledgement Errors [As added by pipeline branch created by PRMT-1622; there are \"final\" error codes being lost by the current pipeline stored here]\n",
    "has_req_ack_errors_bool = transfers['request_completed_ack_codes'].apply(len) > 0\n",
    "transfers_with_req_ack_errors_exploded = transfers[has_req_ack_errors_bool].explode(\"request_completed_ack_codes\")\n",
    "# A single transfer may have the same duplicate error code repeatedly - let's only count each one once by dropping duplicates\n",
    "transfers_with_req_ack_errors = transfers_with_req_ack_errors_exploded.drop_duplicates(subset=[\"conversation_id\", \"request_completed_ack_codes\"])\n",
    "transfers_with_req_ack_errors = transfers_with_req_ack_errors[[\"request_completed_ack_codes\", \"status\"]]\n",
    "transfers_with_req_ack_errors[\"Error Type\"] = \"Request completed acknowledgement\"\n",
    "transfers_with_req_ack_errors = transfers_with_req_ack_errors.rename({ \"request_completed_ack_codes\": \"Error Code\" }, axis=1).dropna()"
   ]
  },
  {
   "cell_type": "code",
   "execution_count": null,
   "id": "turned-wesley",
   "metadata": {},
   "outputs": [],
   "source": [
    "transfers_with_errors = pd.concat([transfers_with_unique_interm_errors, transfers_with_final_error, transfers_with_sender_error,transfers_with_req_ack_errors])\n",
    "transfers_with_errors[\"Error Type\"].value_counts()"
   ]
  },
  {
   "cell_type": "code",
   "execution_count": null,
   "id": "going-services",
   "metadata": {},
   "outputs": [],
   "source": [
    "transfers_with_errors[\"Error Description\"] = transfers_with_errors[\"Error Code\"]\n",
    "transfers_with_errors[\"Error Description\"] = transfers_with_errors[\"Error Description\"].replace(error_code_lookup_file[\"ErrorCode\"].values, error_code_lookup_file[\"ErrorName\"].values)\n",
    "error_code_summary_pivot_table = pd.pivot_table(transfers_with_errors, index=[\"Error Code\", \"Error Description\", \"Error Type\"], columns=\"status\", aggfunc=lambda x: len(x), fill_value=0, margins=True, margins_name=\"Total\")\n",
    "pd.set_option('display.max_rows', len(error_code_summary_pivot_table))\n",
    "#error_code_summary_pivot_table"
   ]
  },
  {
   "cell_type": "code",
   "execution_count": null,
   "id": "dangerous-bangkok",
   "metadata": {},
   "outputs": [],
   "source": [
    "sender_pending=[6, 7, 10, 14, 23, 24]\n",
    "\n",
    "failure_when_sender =[30] \n",
    "\n",
    "sender_mixed_outcome=[19, 20]\n",
    "\n",
    "intermediate_mixed_outcome=[29]\n",
    "\n",
    "end_mixed_outcome=[11, 12,31]\n",
    "\n",
    "end_failures=[17, 21, 25,9,99]\n",
    "\n",
    "\n",
    "distinct=[15, 205]\n",
    "\n",
    "\n",
    "\n"
   ]
  },
  {
   "cell_type": "code",
   "execution_count": null,
   "id": "removable-thanksgiving",
   "metadata": {},
   "outputs": [],
   "source": [
    "# All Sender Error Codes: Almost always end up Pending with Error\n",
    "error_code_summary_pivot_table.loc[sender_pending]"
   ]
  },
  {
   "cell_type": "code",
   "execution_count": null,
   "id": "remarkable-rings",
   "metadata": {},
   "outputs": [],
   "source": [
    "# 30 is a mix but when it is a sender error code, it almost always ends up Pending with Error\n",
    "error_code_summary_pivot_table.loc[failure_when_sender]"
   ]
  },
  {
   "cell_type": "code",
   "execution_count": null,
   "id": "adapted-stack",
   "metadata": {},
   "outputs": [],
   "source": [
    "error_code_summary_pivot_table.loc[sender_mixed_outcome]"
   ]
  },
  {
   "cell_type": "code",
   "execution_count": null,
   "id": "premier-history",
   "metadata": {},
   "outputs": [],
   "source": [
    "error_code_summary_pivot_table.loc[intermediate_mixed_outcome]"
   ]
  },
  {
   "cell_type": "code",
   "execution_count": null,
   "id": "complete-burns",
   "metadata": {},
   "outputs": [],
   "source": [
    "error_code_summary_pivot_table.loc[end_mixed_outcome]"
   ]
  },
  {
   "cell_type": "code",
   "execution_count": null,
   "id": "typical-mouse",
   "metadata": {},
   "outputs": [],
   "source": [
    "error_code_summary_pivot_table.loc[end_failures]"
   ]
  },
  {
   "cell_type": "code",
   "execution_count": null,
   "id": "electronic-browse",
   "metadata": {},
   "outputs": [],
   "source": [
    "error_code_summary_pivot_table.loc[distinct]"
   ]
  },
  {
   "cell_type": "markdown",
   "id": "ranking-setup",
   "metadata": {},
   "source": [
    "### Verification of numbers"
   ]
  },
  {
   "cell_type": "code",
   "execution_count": null,
   "id": "historical-entity",
   "metadata": {},
   "outputs": [],
   "source": [
    "print(\"To verify above values\")\n",
    "transfers_with_sender_error[\"Error Code\"].value_counts()"
   ]
  },
  {
   "cell_type": "code",
   "execution_count": null,
   "id": "double-sharp",
   "metadata": {},
   "outputs": [],
   "source": [
    "transfers_with_unique_interm_errors[\"Error Code\"].value_counts()"
   ]
  },
  {
   "cell_type": "code",
   "execution_count": null,
   "id": "august-membrane",
   "metadata": {},
   "outputs": [],
   "source": [
    "transfers_with_final_error[\"Error Code\"].value_counts()\n"
   ]
  }
 ],
 "metadata": {
  "kernelspec": {
   "display_name": "conda_python3",
   "language": "python",
   "name": "conda_python3"
  },
  "language_info": {
   "codemirror_mode": {
    "name": "ipython",
    "version": 3
   },
   "file_extension": ".py",
   "mimetype": "text/x-python",
   "name": "python",
   "nbconvert_exporter": "python",
   "pygments_lexer": "ipython3",
   "version": "3.6.13"
  }
 },
 "nbformat": 4,
 "nbformat_minor": 5
}
