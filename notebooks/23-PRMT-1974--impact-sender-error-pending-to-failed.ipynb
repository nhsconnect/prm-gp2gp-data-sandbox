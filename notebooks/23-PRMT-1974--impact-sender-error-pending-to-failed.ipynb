{
 "cells": [
  {
   "cell_type": "markdown",
   "id": "cross-initial",
   "metadata": {},
   "source": [
    "# [HYPOTHESIS] Impact of changing the pipeline to re-allocate certain sender error codes as failures\n",
    "\n",
    "**We believe that** Changing the data pipeline to re-allocate pending with error transfers with specified sender error codes will\n",
    "\n",
    "**Result** remove the vast majority of Pending with Error transfers\n",
    "\n",
    "**We will know this to be true when** we identify the prescence of these error codes in the vast majority of Pending with Error transfers generated over a 6 month period"
   ]
  },
  {
   "cell_type": "code",
   "execution_count": 1,
   "id": "cubic-iraqi",
   "metadata": {},
   "outputs": [],
   "source": [
    "import pandas as pd\n",
    "import numpy as np"
   ]
  },
  {
   "cell_type": "markdown",
   "id": "rational-diary",
   "metadata": {},
   "source": [
    "## Import 6 months of data"
   ]
  },
  {
   "cell_type": "code",
   "execution_count": 2,
   "id": "united-confirmation",
   "metadata": {},
   "outputs": [],
   "source": [
    "transfer_file_location = \"s3://prm-gp2gp-data-sandbox-dev/transfers-duplicates-hypothesis/\"\n",
    "transfer_files = [\n",
    "    \"9-2020-transfers.parquet\",\n",
    "    \"10-2020-transfers.parquet\",\n",
    "    \"11-2020-transfers.parquet\",\n",
    "    \"12-2020-transfers.parquet\",\n",
    "    \"1-2021-transfers.parquet\",\n",
    "    \"2-2021-transfers.parquet\"\n",
    "]\n",
    "transfer_input_files = [transfer_file_location + f for f in transfer_files]\n",
    "transfers_raw = pd.concat((\n",
    "    pd.read_parquet(f)\n",
    "    for f in transfer_input_files\n",
    "))"
   ]
  },
  {
   "cell_type": "markdown",
   "id": "textile-technical",
   "metadata": {},
   "source": [
    "## Change status of duplicates to match expected pipeline change"
   ]
  },
  {
   "cell_type": "code",
   "execution_count": 3,
   "id": "increasing-traffic",
   "metadata": {},
   "outputs": [],
   "source": [
    "# Given the findings in PRMT-1742 - many duplicate EHR errors are misclassified, the below reclassifies the relevant data\n",
    "transfers=transfers_raw.copy()\n",
    "successful_transfers_bool = transfers['request_completed_ack_codes'].apply(lambda ack_codes: True in [(np.isnan(code) or code==15) for code in ack_codes])\n",
    "transfers.loc[successful_transfers_bool,'status']='INTEGRATED'"
   ]
  },
  {
   "cell_type": "markdown",
   "id": "nonprofit-lodging",
   "metadata": {},
   "source": [
    "## Add Proposed Status Change"
   ]
  },
  {
   "cell_type": "code",
   "execution_count": 4,
   "id": "japanese-frequency",
   "metadata": {},
   "outputs": [],
   "source": [
    "# Given the findings in PRMT-1960 - we re-classify transfers with certain sender error codes as failed\n",
    "pending_sender_error_codes=[6,7,10,24,30,23,14,99]\n",
    "transfers['New status']=transfers['status'].copy()\n",
    "\n",
    "transfers_with_pending_sender_codes_bool=transfers['sender_error_code'].isin(pending_sender_error_codes)\n",
    "transfers.loc[transfers_with_pending_sender_codes_bool,'New status']='FAILED'"
   ]
  },
  {
   "cell_type": "markdown",
   "id": "important-hundred",
   "metadata": {},
   "source": [
    "## Assess Impact"
   ]
  },
  {
   "cell_type": "code",
   "execution_count": 5,
   "id": "gentle-revision",
   "metadata": {},
   "outputs": [
    {
     "data": {
      "text/html": [
       "<div>\n",
       "<style scoped>\n",
       "    .dataframe tbody tr th:only-of-type {\n",
       "        vertical-align: middle;\n",
       "    }\n",
       "\n",
       "    .dataframe tbody tr th {\n",
       "        vertical-align: top;\n",
       "    }\n",
       "\n",
       "    .dataframe thead th {\n",
       "        text-align: right;\n",
       "    }\n",
       "</style>\n",
       "<table border=\"1\" class=\"dataframe\">\n",
       "  <thead>\n",
       "    <tr style=\"text-align: right;\">\n",
       "      <th>New status</th>\n",
       "      <th>FAILED</th>\n",
       "      <th>INTEGRATED</th>\n",
       "      <th>PENDING</th>\n",
       "      <th>PENDING_WITH_ERROR</th>\n",
       "    </tr>\n",
       "    <tr>\n",
       "      <th>status</th>\n",
       "      <th></th>\n",
       "      <th></th>\n",
       "      <th></th>\n",
       "      <th></th>\n",
       "    </tr>\n",
       "  </thead>\n",
       "  <tbody>\n",
       "    <tr>\n",
       "      <th>FAILED</th>\n",
       "      <td>22771</td>\n",
       "      <td>0</td>\n",
       "      <td>0</td>\n",
       "      <td>0</td>\n",
       "    </tr>\n",
       "    <tr>\n",
       "      <th>INTEGRATED</th>\n",
       "      <td>7</td>\n",
       "      <td>1254795</td>\n",
       "      <td>0</td>\n",
       "      <td>0</td>\n",
       "    </tr>\n",
       "    <tr>\n",
       "      <th>PENDING</th>\n",
       "      <td>0</td>\n",
       "      <td>0</td>\n",
       "      <td>39087</td>\n",
       "      <td>0</td>\n",
       "    </tr>\n",
       "    <tr>\n",
       "      <th>PENDING_WITH_ERROR</th>\n",
       "      <td>23375</td>\n",
       "      <td>0</td>\n",
       "      <td>0</td>\n",
       "      <td>3199</td>\n",
       "    </tr>\n",
       "  </tbody>\n",
       "</table>\n",
       "</div>"
      ],
      "text/plain": [
       "New status          FAILED  INTEGRATED  PENDING  PENDING_WITH_ERROR\n",
       "status                                                             \n",
       "FAILED               22771           0        0                   0\n",
       "INTEGRATED               7     1254795        0                   0\n",
       "PENDING                  0           0    39087                   0\n",
       "PENDING_WITH_ERROR   23375           0        0                3199"
      ]
     },
     "execution_count": 5,
     "metadata": {},
     "output_type": "execute_result"
    }
   ],
   "source": [
    "status_change_table=pd.pivot_table(transfers,index='status',columns='New status',values='conversation_id',aggfunc='count')\n",
    "status_change_table=status_change_table.fillna(0).astype(int)\n",
    "status_change_table"
   ]
  },
  {
   "cell_type": "code",
   "execution_count": 6,
   "id": "placed-seeker",
   "metadata": {},
   "outputs": [
    {
     "name": "stdout",
     "output_type": "stream",
     "text": [
      "Total Number of Transfers: 1343234\n",
      "\n",
      "Initial Number of Pending With Error: 26574\n",
      "Final Number of Pending With Error: 3199\n",
      "\n",
      "Initial Number of Failures: 22771\n",
      "Final Number of Failures: 46153\n",
      "\n",
      "Initial Number of Integrated: 1254802\n",
      "Final Number of Integrated*: 1254795\n"
     ]
    }
   ],
   "source": [
    "print('Total Number of Transfers: ' + str(status_change_table.sum().sum()))\n",
    "\n",
    "print('\\nInitial Number of Pending With Error: ' + str(status_change_table.loc['PENDING_WITH_ERROR'].sum()))\n",
    "print('Final Number of Pending With Error: ' + str(status_change_table.loc[:, 'PENDING_WITH_ERROR'].sum()))\n",
    "\n",
    "print('\\nInitial Number of Failures: ' + str(status_change_table.loc['FAILED'].sum()))\n",
    "print('Final Number of Failures: ' + str(status_change_table.loc[:, 'FAILED'].sum()))\n",
    "\n",
    "print('\\nInitial Number of Integrated: ' + str(status_change_table.loc['INTEGRATED'].sum()))\n",
    "print('Final Number of Integrated*: ' + str(status_change_table.loc[:, 'INTEGRATED'].sum()))"
   ]
  },
  {
   "cell_type": "markdown",
   "id": "scenic-delivery",
   "metadata": {},
   "source": [
    "\\* Error Codes 23 & 14 are responsible for 4 and 3 of the 7 integrations containing these error codes, respectively"
   ]
  },
  {
   "cell_type": "code",
   "execution_count": null,
   "id": "powered-legend",
   "metadata": {},
   "outputs": [],
   "source": []
  }
 ],
 "metadata": {
  "kernelspec": {
   "display_name": "conda_python3",
   "language": "python",
   "name": "conda_python3"
  },
  "language_info": {
   "codemirror_mode": {
    "name": "ipython",
    "version": 3
   },
   "file_extension": ".py",
   "mimetype": "text/x-python",
   "name": "python",
   "nbconvert_exporter": "python",
   "pygments_lexer": "ipython3",
   "version": "3.6.13"
  }
 },
 "nbformat": 4,
 "nbformat_minor": 5
}
