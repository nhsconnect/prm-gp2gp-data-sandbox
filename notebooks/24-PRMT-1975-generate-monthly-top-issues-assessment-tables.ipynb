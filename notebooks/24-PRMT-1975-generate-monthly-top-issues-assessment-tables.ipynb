{
 "cells": [
  {
   "cell_type": "markdown",
   "id": "native-bottom",
   "metadata": {},
   "source": [
    "# [“HYPOTHESIS”] Creation of tables to determine and assess the most common causes of failure to integrate \n",
    "\n",
    "- Import Data and adjust for duplicates issue\n",
    "- Implement the sender error pipeline change\n",
    "- Add in supplier\n",
    "\n",
    "Table 1:\n",
    "- Relabel status to reflect integrated late\n",
    "- Add in column for absolutely no errors\n",
    "- Create seperate dataframes for each error type and concatenate\n",
    "- generate the pivot table\n",
    "- Add in Error Descriptions/Name\n",
    "- Add in Supplier Pathway %s\n",
    "\n",
    "\n",
    "\n",
    "\n",
    "\n",
    "- Create Monthly Views\n"
   ]
  },
  {
   "cell_type": "code",
   "execution_count": 1,
   "id": "appreciated-sequence",
   "metadata": {},
   "outputs": [],
   "source": [
    "import pandas as pd\n",
    "import numpy as np"
   ]
  },
  {
   "cell_type": "markdown",
   "id": "casual-combining",
   "metadata": {},
   "source": [
    "## Import 6 months of data and adjust for duplicates issue"
   ]
  },
  {
   "cell_type": "code",
   "execution_count": 2,
   "id": "stretch-attraction",
   "metadata": {},
   "outputs": [],
   "source": [
    "transfer_file_location = \"s3://prm-gp2gp-data-sandbox-dev/transfers-duplicates-hypothesis/\"\n",
    "transfer_files = [\n",
    "    \"9-2020-transfers.parquet\",\n",
    "    \"10-2020-transfers.parquet\",\n",
    "    \"11-2020-transfers.parquet\",\n",
    "    \"12-2020-transfers.parquet\",\n",
    "    \"1-2021-transfers.parquet\",\n",
    "    \"2-2021-transfers.parquet\"\n",
    "]\n",
    "transfer_input_files = [transfer_file_location + f for f in transfer_files]\n",
    "transfers_raw = pd.concat((\n",
    "    pd.read_parquet(f)\n",
    "    for f in transfer_input_files\n",
    "))\n",
    "\n",
    "transfers_raw=transfers_raw.drop(['requesting_supplier','sending_supplier'],axis=1)\n",
    "\n",
    "asid_lookup_file = \"s3://prm-gp2gp-data-sandbox-dev/asid-lookup/asidLookup-Mar-2021.csv.gz\"\n",
    "asid_lookup = pd.read_csv(asid_lookup_file)"
   ]
  },
  {
   "cell_type": "code",
   "execution_count": 3,
   "id": "resistant-bullet",
   "metadata": {},
   "outputs": [],
   "source": [
    "transfers=transfers_raw.copy()\n",
    "successful_transfers_bool = transfers['request_completed_ack_codes'].apply(lambda x: True in [(np.isnan(i) or i==15) for i in x])\n",
    "transfers.loc[successful_transfers_bool,'status']='INTEGRATED'"
   ]
  },
  {
   "cell_type": "code",
   "execution_count": 4,
   "id": "offensive-vegetarian",
   "metadata": {},
   "outputs": [],
   "source": [
    "pending_sender_error_codes=[6,7,10,24,30,23,14,99]\n",
    "transfers_with_pending_sender_code_bool=transfers['sender_error_code'].isin(pending_sender_error_codes)\n",
    "transfers_with_pending_with_error_bool=transfers['status']=='PENDING_WITH_ERROR'\n",
    "transfers_which_need_pending_to_failure_change_bool=transfers_with_pending_sender_code_bool & transfers_with_pending_with_error_bool\n",
    "transfers.loc[transfers_which_need_pending_to_failure_change_bool,'status']='FAILED'"
   ]
  },
  {
   "cell_type": "code",
   "execution_count": 5,
   "id": "transparent-allocation",
   "metadata": {},
   "outputs": [],
   "source": [
    "# Add in who the supplier is\n",
    "supplier_renaming = {\n",
    "    \"EGTON MEDICAL INFORMATION SYSTEMS LTD (EMIS)\":\"EMIS\",\n",
    "    \"IN PRACTICE SYSTEMS LTD\":\"Vision\",\n",
    "    \"MICROTEST LTD\":\"Microtest\",\n",
    "    \"THE PHOENIX PARTNERSHIP\":\"TPP\",\n",
    "    None: \"Unknown\"\n",
    "}\n",
    "\n",
    "lookup = asid_lookup[[\"ASID\", \"MName\"]]\n",
    "transfers = transfers.merge(lookup, left_on='requesting_practice_asid',right_on='ASID',how='left')\n",
    "transfers = transfers.rename({'MName': 'requesting_supplier', 'ASID': 'requesting_supplier_asid'}, axis=1)\n",
    "transfers = transfers.merge(lookup, left_on='sending_practice_asid',right_on='ASID',how='left')\n",
    "transfers = transfers.rename({'MName': 'sending_supplier', 'ASID': 'sending_supplier_asid'}, axis=1)\n",
    "\n",
    "transfers[\"sending_supplier\"] = transfers[\"sending_supplier\"].replace(supplier_renaming.keys(), supplier_renaming.values())\n",
    "transfers[\"requesting_supplier\"] = transfers[\"requesting_supplier\"].replace(supplier_renaming.keys(), supplier_renaming.values())"
   ]
  },
  {
   "cell_type": "code",
   "execution_count": 6,
   "id": "latin-surgeon",
   "metadata": {},
   "outputs": [
    {
     "data": {
      "text/html": [
       "<div>\n",
       "<style scoped>\n",
       "    .dataframe tbody tr th:only-of-type {\n",
       "        vertical-align: middle;\n",
       "    }\n",
       "\n",
       "    .dataframe tbody tr th {\n",
       "        vertical-align: top;\n",
       "    }\n",
       "\n",
       "    .dataframe thead th {\n",
       "        text-align: right;\n",
       "    }\n",
       "</style>\n",
       "<table border=\"1\" class=\"dataframe\">\n",
       "  <thead>\n",
       "    <tr style=\"text-align: right;\">\n",
       "      <th></th>\n",
       "      <th>ErrorCode</th>\n",
       "      <th>ErrorName</th>\n",
       "      <th>ResponseText</th>\n",
       "    </tr>\n",
       "  </thead>\n",
       "  <tbody>\n",
       "    <tr>\n",
       "      <th>0</th>\n",
       "      <td>6</td>\n",
       "      <td>Not at surgery</td>\n",
       "      <td>Patient not at surgery</td>\n",
       "    </tr>\n",
       "    <tr>\n",
       "      <th>1</th>\n",
       "      <td>7</td>\n",
       "      <td>GP2GP disabled</td>\n",
       "      <td>GP2GP Messaging is not enabled on this system</td>\n",
       "    </tr>\n",
       "    <tr>\n",
       "      <th>2</th>\n",
       "      <td>9</td>\n",
       "      <td>Unexpected EHR</td>\n",
       "      <td>EHR Extract received without corresponding req...</td>\n",
       "    </tr>\n",
       "    <tr>\n",
       "      <th>3</th>\n",
       "      <td>10</td>\n",
       "      <td>Failed to generate</td>\n",
       "      <td>Failed to successfully generate EHR Extract</td>\n",
       "    </tr>\n",
       "    <tr>\n",
       "      <th>4</th>\n",
       "      <td>11</td>\n",
       "      <td>Failed to integrate</td>\n",
       "      <td>Failed to successfully integrate EHR Extract</td>\n",
       "    </tr>\n",
       "    <tr>\n",
       "      <th>5</th>\n",
       "      <td>12</td>\n",
       "      <td>Duplicate EHR</td>\n",
       "      <td>Duplicate EHR Extract received</td>\n",
       "    </tr>\n",
       "    <tr>\n",
       "      <th>6</th>\n",
       "      <td>13</td>\n",
       "      <td>Config issue</td>\n",
       "      <td>The system’s configuration prevents it from pr...</td>\n",
       "    </tr>\n",
       "    <tr>\n",
       "      <th>7</th>\n",
       "      <td>14</td>\n",
       "      <td>Req not LM compliant</td>\n",
       "      <td>Message not sent because requesting practice i...</td>\n",
       "    </tr>\n",
       "    <tr>\n",
       "      <th>8</th>\n",
       "      <td>15</td>\n",
       "      <td>ABA suppressed</td>\n",
       "      <td>A-B-A EHR Extract Received and Stored As Suppr...</td>\n",
       "    </tr>\n",
       "    <tr>\n",
       "      <th>9</th>\n",
       "      <td>17</td>\n",
       "      <td>ABA wrong patient</td>\n",
       "      <td>A-B-A EHR Extract Received and rejected due to...</td>\n",
       "    </tr>\n",
       "    <tr>\n",
       "      <th>10</th>\n",
       "      <td>18</td>\n",
       "      <td>Req malformed</td>\n",
       "      <td>Request message not well-formed or not able to...</td>\n",
       "    </tr>\n",
       "    <tr>\n",
       "      <th>11</th>\n",
       "      <td>19</td>\n",
       "      <td>Unauthorised req</td>\n",
       "      <td>Sender check indicates that Requester is not t...</td>\n",
       "    </tr>\n",
       "    <tr>\n",
       "      <th>12</th>\n",
       "      <td>20</td>\n",
       "      <td>Spine error</td>\n",
       "      <td>Spine system responded with an error</td>\n",
       "    </tr>\n",
       "    <tr>\n",
       "      <th>13</th>\n",
       "      <td>21</td>\n",
       "      <td>Extract malformed</td>\n",
       "      <td>EHR Extract message not well-formed or not abl...</td>\n",
       "    </tr>\n",
       "    <tr>\n",
       "      <th>14</th>\n",
       "      <td>23</td>\n",
       "      <td>Sender not LM compliant</td>\n",
       "      <td>Message not sent because sending practice is n...</td>\n",
       "    </tr>\n",
       "    <tr>\n",
       "      <th>15</th>\n",
       "      <td>24</td>\n",
       "      <td>SDS lookup</td>\n",
       "      <td>SDS lookup provided zero or more than one resu...</td>\n",
       "    </tr>\n",
       "    <tr>\n",
       "      <th>16</th>\n",
       "      <td>25</td>\n",
       "      <td>Timeout</td>\n",
       "      <td>Large messages rejected due to timeout duratio...</td>\n",
       "    </tr>\n",
       "    <tr>\n",
       "      <th>17</th>\n",
       "      <td>26</td>\n",
       "      <td>Filed as attachment</td>\n",
       "      <td>Returning Patient EHR Extract Received and fil...</td>\n",
       "    </tr>\n",
       "    <tr>\n",
       "      <th>18</th>\n",
       "      <td>28</td>\n",
       "      <td>Wrong patient</td>\n",
       "      <td>Non A-B-A EHR Extract Received and rejected du...</td>\n",
       "    </tr>\n",
       "    <tr>\n",
       "      <th>19</th>\n",
       "      <td>29</td>\n",
       "      <td>LM reassembly</td>\n",
       "      <td>Large Message Re-assembly failure</td>\n",
       "    </tr>\n",
       "    <tr>\n",
       "      <th>20</th>\n",
       "      <td>30</td>\n",
       "      <td>LM general failure</td>\n",
       "      <td>Large Message general failure</td>\n",
       "    </tr>\n",
       "    <tr>\n",
       "      <th>21</th>\n",
       "      <td>31</td>\n",
       "      <td>Missing LM</td>\n",
       "      <td>The overall EHR Extract has been rejected beca...</td>\n",
       "    </tr>\n",
       "    <tr>\n",
       "      <th>22</th>\n",
       "      <td>99</td>\n",
       "      <td>Unexpected</td>\n",
       "      <td>Unexpected condition</td>\n",
       "    </tr>\n",
       "  </tbody>\n",
       "</table>\n",
       "</div>"
      ],
      "text/plain": [
       "    ErrorCode                ErrorName  \\\n",
       "0           6           Not at surgery   \n",
       "1           7           GP2GP disabled   \n",
       "2           9           Unexpected EHR   \n",
       "3          10       Failed to generate   \n",
       "4          11      Failed to integrate   \n",
       "5          12            Duplicate EHR   \n",
       "6          13             Config issue   \n",
       "7          14     Req not LM compliant   \n",
       "8          15           ABA suppressed   \n",
       "9          17        ABA wrong patient   \n",
       "10         18            Req malformed   \n",
       "11         19         Unauthorised req   \n",
       "12         20              Spine error   \n",
       "13         21        Extract malformed   \n",
       "14         23  Sender not LM compliant   \n",
       "15         24               SDS lookup   \n",
       "16         25                  Timeout   \n",
       "17         26      Filed as attachment   \n",
       "18         28            Wrong patient   \n",
       "19         29            LM reassembly   \n",
       "20         30       LM general failure   \n",
       "21         31               Missing LM   \n",
       "22         99               Unexpected   \n",
       "\n",
       "                                         ResponseText  \n",
       "0                              Patient not at surgery  \n",
       "1       GP2GP Messaging is not enabled on this system  \n",
       "2   EHR Extract received without corresponding req...  \n",
       "3         Failed to successfully generate EHR Extract  \n",
       "4        Failed to successfully integrate EHR Extract  \n",
       "5                      Duplicate EHR Extract received  \n",
       "6   The system’s configuration prevents it from pr...  \n",
       "7   Message not sent because requesting practice i...  \n",
       "8   A-B-A EHR Extract Received and Stored As Suppr...  \n",
       "9   A-B-A EHR Extract Received and rejected due to...  \n",
       "10  Request message not well-formed or not able to...  \n",
       "11  Sender check indicates that Requester is not t...  \n",
       "12               Spine system responded with an error  \n",
       "13  EHR Extract message not well-formed or not abl...  \n",
       "14  Message not sent because sending practice is n...  \n",
       "15  SDS lookup provided zero or more than one resu...  \n",
       "16  Large messages rejected due to timeout duratio...  \n",
       "17  Returning Patient EHR Extract Received and fil...  \n",
       "18  Non A-B-A EHR Extract Received and rejected du...  \n",
       "19                  Large Message Re-assembly failure  \n",
       "20                      Large Message general failure  \n",
       "21  The overall EHR Extract has been rejected beca...  \n",
       "22                               Unexpected condition  "
      ]
     },
     "execution_count": 6,
     "metadata": {},
     "output_type": "execute_result"
    }
   ],
   "source": [
    "error_code_lookup_file = pd.read_csv(\"https://raw.githubusercontent.com/nhsconnect/prm-gp2gp-data-sandbox/master/data/gp2gp_response_codes.csv\")\n",
    "error_code_lookup_file"
   ]
  },
  {
   "cell_type": "markdown",
   "id": "joined-boating",
   "metadata": {},
   "source": [
    "# Table 1: High Level View of Issues"
   ]
  },
  {
   "cell_type": "markdown",
   "id": "cognitive-soviet",
   "metadata": {},
   "source": [
    "## Relabel status to reflect integrated late"
   ]
  },
  {
   "cell_type": "code",
   "execution_count": 7,
   "id": "aerial-distributor",
   "metadata": {},
   "outputs": [],
   "source": [
    "eight_days_in_seconds=8*24*60*60\n",
    "transfers_after_sla_bool=transfers['sla_duration']>eight_days_in_seconds\n",
    "transfers_with_integrated_bool=transfers['status']=='INTEGRATED'\n",
    "transfers_integrated_late_bool=transfers_after_sla_bool & transfers_with_integrated_bool\n",
    "transfers.loc[transfers_integrated_late_bool,'status']='INTEGRATED LATE'"
   ]
  },
  {
   "cell_type": "markdown",
   "id": "ongoing-aspect",
   "metadata": {},
   "source": [
    "## Add in column for absolutely no errors\n"
   ]
  },
  {
   "cell_type": "code",
   "execution_count": 8,
   "id": "smooth-franchise",
   "metadata": {},
   "outputs": [],
   "source": [
    "transfers_without_sender_error_bool=transfers['sender_error_code'].isna()\n",
    "transfers_without_intermediate_error_bool=transfers['intermediate_error_codes'].apply(len)==0\n",
    "transfers_without_final_ack_error_bool=transfers['request_completed_ack_codes'].apply(lambda lis: [x for x in lis if np.isfinite(x)]).apply(len)==0\n",
    "\n",
    "transfers_without_any_error_bool=transfers_without_sender_error_bool & transfers_without_intermediate_error_bool & transfers_without_final_ack_error_bool\n",
    "transfers['No error codes']=np.nan\n",
    "transfers.loc[transfers_without_any_error_bool,'No error codes']='No Error'"
   ]
  },
  {
   "cell_type": "markdown",
   "id": "departmental-corner",
   "metadata": {},
   "source": [
    "## Add in month column"
   ]
  },
  {
   "cell_type": "code",
   "execution_count": 9,
   "id": "political-arthur",
   "metadata": {},
   "outputs": [],
   "source": [
    "transfers['month']=transfers['date_requested'].dt.to_period('M')"
   ]
  },
  {
   "cell_type": "markdown",
   "id": "honey-stylus",
   "metadata": {},
   "source": [
    "## Create seperate dataframes for each error type and concatenate"
   ]
  },
  {
   "cell_type": "code",
   "execution_count": 10,
   "id": "favorite-receiver",
   "metadata": {},
   "outputs": [],
   "source": [
    "reduced_transfers=transfers[['requesting_supplier','sending_supplier','sender_error_code','intermediate_error_codes','request_completed_ack_codes','No error codes','status','conversation_id','month']]"
   ]
  },
  {
   "cell_type": "markdown",
   "id": "thirty-indianapolis",
   "metadata": {},
   "source": [
    "### Sender Error Table"
   ]
  },
  {
   "cell_type": "code",
   "execution_count": 11,
   "id": "democratic-method",
   "metadata": {},
   "outputs": [],
   "source": [
    "sender_table=reduced_transfers.drop(['intermediate_error_codes','request_completed_ack_codes','No error codes'],axis=1)\n",
    "sender_table=sender_table.loc[~sender_table['sender_error_code'].isna()]\n",
    "sender_table=sender_table.rename({'sender_error_code':'Error Code'},axis=1)\n",
    "sender_table['Error Type']='Sender'\n",
    "# sender_table=sender_table.groupby(['sending_supplier','requesting_supplier','Error Type','Error Code','status']).agg('count').rename({'conversation_id':'Total Volume'},axis=1).reset_index()\n",
    "sender_table=pd.pivot_table(sender_table, index=['sending_supplier','requesting_supplier','Error Type','Error Code','status'],columns='month', aggfunc='count', values='conversation_id').fillna(0)\n",
    "sender_table['Total Volume']=sender_table.sum(axis=1)\n",
    "sender_table=sender_table.astype(int)"
   ]
  },
  {
   "cell_type": "markdown",
   "id": "dominant-abortion",
   "metadata": {},
   "source": [
    "### Intermediate Error Table"
   ]
  },
  {
   "cell_type": "code",
   "execution_count": 12,
   "id": "rocky-effect",
   "metadata": {},
   "outputs": [],
   "source": [
    "intermediate_table=reduced_transfers.drop(['sender_error_code','request_completed_ack_codes','No error codes'],axis=1)\n",
    "intermediate_table=intermediate_table.loc[intermediate_table['intermediate_error_codes'].apply(len)>0]\n",
    "intermediate_table=intermediate_table.explode('intermediate_error_codes')\n",
    "intermediate_table=intermediate_table.rename({'intermediate_error_codes':'Error Code'},axis=1)\n",
    "intermediate_table['Error Type']='Intermediate'\n",
    "intermediate_table=pd.pivot_table(intermediate_table, index=['sending_supplier','requesting_supplier','Error Type','Error Code','status'],columns='month', aggfunc='count', values='conversation_id').fillna(0)\n",
    "intermediate_table['Total Volume']=intermediate_table.sum(axis=1)\n",
    "intermediate_table=intermediate_table.astype(int)"
   ]
  },
  {
   "cell_type": "markdown",
   "id": "governing-charleston",
   "metadata": {},
   "source": [
    "### Final Request Acknowledgements Table"
   ]
  },
  {
   "cell_type": "code",
   "execution_count": 13,
   "id": "advisory-graph",
   "metadata": {},
   "outputs": [],
   "source": [
    "reqack_table=reduced_transfers.drop(['sender_error_code','intermediate_error_codes','No error codes'],axis=1)\n",
    "reqack_table['request_completed_ack_codes']=reqack_table['request_completed_ack_codes'].apply(lambda lis: [x for x in lis if np.isfinite(x)])\n",
    "reqack_table=reqack_table.loc[reqack_table['request_completed_ack_codes'].apply(len)>0]\n",
    "reqack_table=reqack_table.explode('request_completed_ack_codes')\n",
    "reqack_table=reqack_table.rename({'request_completed_ack_codes':'Error Code'},axis=1)\n",
    "reqack_table['Error Type']='Final Request Acknowledgment'\n",
    "reqack_table=pd.pivot_table(reqack_table, index=['sending_supplier','requesting_supplier','Error Type','Error Code','status'],columns='month', aggfunc='count', values='conversation_id').fillna(0)\n",
    "reqack_table['Total Volume']=reqack_table.sum(axis=1)\n",
    "reqack_table=reqack_table.astype(int)"
   ]
  },
  {
   "cell_type": "markdown",
   "id": "elementary-trainer",
   "metadata": {},
   "source": [
    "### No error codes Table"
   ]
  },
  {
   "cell_type": "code",
   "execution_count": 14,
   "id": "wicked-palmer",
   "metadata": {},
   "outputs": [],
   "source": [
    "noerror_table=reduced_transfers.drop(['intermediate_error_codes','request_completed_ack_codes','sender_error_code'],axis=1)\n",
    "noerror_table=noerror_table.loc[~noerror_table['No error codes'].isna()]\n",
    "noerror_table=noerror_table.rename({'No error codes':'Error Code'},axis=1)\n",
    "noerror_table['Error Type']='No Error Code'\n",
    "noerror_table=pd.pivot_table(noerror_table, index=['sending_supplier','requesting_supplier','Error Type','Error Code','status'],columns='month', aggfunc='count', values='conversation_id').fillna(0)\n",
    "noerror_table['Total Volume']=noerror_table.sum(axis=1)\n",
    "noerror_table=noerror_table.astype(int)"
   ]
  },
  {
   "cell_type": "markdown",
   "id": "challenging-happening",
   "metadata": {},
   "source": [
    "### Concatenate Tables"
   ]
  },
  {
   "cell_type": "code",
   "execution_count": 15,
   "id": "labeled-finnish",
   "metadata": {},
   "outputs": [],
   "source": [
    "high_level_table=pd.concat([sender_table,intermediate_table,reqack_table,noerror_table])\n",
    "high_level_table=high_level_table.reset_index()\n",
    "\n",
    "high_level_table=high_level_table.reset_index().drop('index',axis=1)\n",
    "high_level_table.index=high_level_table.index+1\n",
    "\n",
    "high_level_table=high_level_table.merge(error_code_lookup_file,left_on='Error Code',right_on='ErrorCode',how='left')\n",
    "high_level_table.loc[high_level_table['Error Code']=='No Error',['ErrorName','ResponseText']]='No Error'\n",
    "high_level_table=high_level_table.drop(['ErrorCode','ErrorName'],axis=1)\n"
   ]
  },
  {
   "cell_type": "markdown",
   "id": "incomplete-argentina",
   "metadata": {},
   "source": [
    "# Add in Supplier Pathway %"
   ]
  },
  {
   "cell_type": "code",
   "execution_count": 16,
   "id": "twelve-ukraine",
   "metadata": {},
   "outputs": [],
   "source": [
    "full_high_level_table=high_level_table.copy()\n",
    "total_transfers_supplier_pathway=transfers.groupby(['sending_supplier','requesting_supplier']).agg({'conversation_id':'count'}).rename({'conversation_id':'Total Supplier Pathway Transfers'},axis=1).reset_index()\n",
    "full_high_level_table=full_high_level_table.merge(total_transfers_supplier_pathway,left_on=['sending_supplier','requesting_supplier'],right_on=['sending_supplier','requesting_supplier'])\n",
    "full_high_level_table['% Supplier Pathway Transfers']=(100*full_high_level_table['Total Volume']/full_high_level_table['Total Supplier Pathway Transfers']).round(2)\n",
    "full_high_level_table=full_high_level_table.drop('Total Supplier Pathway Transfers',axis=1)\n",
    "high_level_table=full_high_level_table.copy()"
   ]
  },
  {
   "cell_type": "code",
   "execution_count": 17,
   "id": "pending-cambridge",
   "metadata": {},
   "outputs": [],
   "source": [
    "monthly_transfers_supplier_pathway=pd.pivot_table(transfers,index=['sending_supplier','requesting_supplier'],columns='month',aggfunc='count', values='conversation_id').fillna(0).astype(int)\n",
    "monthly_transfers_supplier_pathway\n",
    "total_monthly_volumes_by_row=high_level_table[['sending_supplier','requesting_supplier']].merge(monthly_transfers_supplier_pathway, left_on=['sending_supplier','requesting_supplier'], right_index=True)\n",
    "monthly_columns=monthly_transfers_supplier_pathway.columns\n",
    "\n",
    "monthly_percentages=high_level_table[monthly_columns]/(total_monthly_volumes_by_row[monthly_columns])\n",
    "monthly_percentages=(monthly_percentages.fillna(0)*100).round(2)\n",
    "high_level_table[monthly_columns]=monthly_percentages"
   ]
  },
  {
   "cell_type": "code",
   "execution_count": 18,
   "id": "attempted-chuck",
   "metadata": {},
   "outputs": [],
   "source": [
    "monthly_columns=[x for x in high_level_table.columns if type(x)!=str]\n",
    "column_order=['sending_supplier','requesting_supplier','Error Type','ResponseText','status', 'Total Volume', '% Supplier Pathway Transfers','Error Code']+monthly_columns\n",
    "high_level_table=high_level_table[column_order]\n",
    "\n",
    "high_level_table=high_level_table.sort_values(by='Total Volume',ascending=False)"
   ]
  },
  {
   "cell_type": "code",
   "execution_count": 19,
   "id": "indian-garden",
   "metadata": {},
   "outputs": [],
   "source": [
    "high_level_table\n",
    "high_level_table.to_excel('top_level_problems_view.xlsx')"
   ]
  },
  {
   "cell_type": "code",
   "execution_count": null,
   "id": "recovered-devices",
   "metadata": {},
   "outputs": [],
   "source": []
  },
  {
   "cell_type": "code",
   "execution_count": null,
   "id": "external-imaging",
   "metadata": {},
   "outputs": [],
   "source": []
  }
 ],
 "metadata": {
  "kernelspec": {
   "display_name": "conda_python3",
   "language": "python",
   "name": "conda_python3"
  },
  "language_info": {
   "codemirror_mode": {
    "name": "ipython",
    "version": 3
   },
   "file_extension": ".py",
   "mimetype": "text/x-python",
   "name": "python",
   "nbconvert_exporter": "python",
   "pygments_lexer": "ipython3",
   "version": "3.6.13"
  }
 },
 "nbformat": 4,
 "nbformat_minor": 5
}
