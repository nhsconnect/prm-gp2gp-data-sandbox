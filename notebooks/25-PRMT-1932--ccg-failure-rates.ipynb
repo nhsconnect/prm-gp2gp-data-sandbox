{
 "cells": [
  {
   "cell_type": "markdown",
   "id": "activated-productivity",
   "metadata": {},
   "source": [
    "# PRMT-1932 Look at effect of Lloyd George Digitisation on failure rates for CCGs and practices"
   ]
  },
  {
   "cell_type": "markdown",
   "id": "sound-cookbook",
   "metadata": {},
   "source": [
    "## Context\n",
    "Do practices and CCGs that are doing Lloyd George digitisation, experience higher levels of failure? We want to look at our data to see if this is true, and if so, why are transfers failing?\n",
    "\n",
    "## Scope\n",
    "\n",
    "### CCGs\n",
    "- Look at failure rates on transfers out over the last 6 months for:\n",
    "\n",
    "    - Blackpool CCG\n",
    "    - Chorley and South Ribble CCG\n",
    "    - Sunderland CCG\n",
    "\n",
    "- Document failure rate for each month so we can see if they have gone down\n",
    "- Look at each CCG separately\n",
    "- If failures have increased month on month, show breakdown of failure reasons per supplier pathway for each CCG\n",
    "\n",
    "### Practices\n",
    "- Look at the failure rates on transfers out over the last 6 months for:\n",
    "\n",
    "    - Adelaide St practice\n",
    "    - Library House practice\n",
    "\n",
    "- Document failure rate for each month so we can see if they have gone down\n",
    "\n",
    "- Look at each practice separately\n",
    "\n",
    "- If failures have increased month on month, show breakdown of failure reasons per supplier pathway for each Practice\n",
    "\n",
    "## Acceptance Criteria\n",
    "We have documented the failures for each organisation and understand for each whether failures have been increasing. \n",
    "\n",
    "For any organisation that has seen an increase in failures, we know the reasons for failures and what suppliers they’re going to "
   ]
  },
  {
   "cell_type": "code",
   "execution_count": 19,
   "id": "absolute-referral",
   "metadata": {},
   "outputs": [],
   "source": [
    "import pandas as pd\n",
    "import numpy as np\n",
    "import json\n",
    "import urllib"
   ]
  },
  {
   "cell_type": "code",
   "execution_count": 20,
   "id": "dated-uncle",
   "metadata": {},
   "outputs": [],
   "source": [
    "error_code_lookup_file = pd.read_csv(\"https://raw.githubusercontent.com/nhsconnect/prm-gp2gp-data-sandbox/master/data/gp2gp_response_codes.csv\")"
   ]
  },
  {
   "cell_type": "code",
   "execution_count": 21,
   "id": "cognitive-stress",
   "metadata": {},
   "outputs": [],
   "source": [
    "transfer_file_location = \"s3://prm-gp2gp-data-sandbox-dev/transfers-duplicates-hypothesis/\"\n",
    "transfer_files = [\n",
    "    \"9-2020-transfers.parquet\",\n",
    "    \"10-2020-transfers.parquet\",\n",
    "    \"11-2020-transfers.parquet\",\n",
    "    \"12-2020-transfers.parquet\",\n",
    "    \"1-2021-transfers.parquet\",\n",
    "    \"2-2021-transfers.parquet\"\n",
    "]\n",
    "transfer_input_files = [transfer_file_location + f for f in transfer_files]\n",
    "transfers_raw = pd.concat((\n",
    "    pd.read_parquet(f)\n",
    "    for f in transfer_input_files\n",
    "))\n",
    "# This is only needed when using transfers-duplicates-hypothesis datasets\n",
    "transfers_raw = transfers_raw.drop([\"sending_supplier\", \"requesting_supplier\"], axis=1)"
   ]
  },
  {
   "cell_type": "code",
   "execution_count": 22,
   "id": "british-highland",
   "metadata": {},
   "outputs": [],
   "source": [
    "asid_lookup_file = \"s3://prm-gp2gp-data-sandbox-dev/asid-lookup/asidLookup-Mar-2021.csv.gz\"\n",
    "asid_lookup = pd.read_csv(asid_lookup_file)"
   ]
  },
  {
   "cell_type": "code",
   "execution_count": 23,
   "id": "expected-penetration",
   "metadata": {},
   "outputs": [],
   "source": [
    "# Given the findings in PRMT-1742 - many duplicate EHR errors are misclassified, the below reclassifies the relevant data\n",
    "successful_transfers_bool = transfers_raw['request_completed_ack_codes'].apply(lambda ack_codes: True in [(np.isnan(code) or code==15) for code in ack_codes])\n",
    "transfers = transfers_raw.copy()\n",
    "transfers.loc[successful_transfers_bool, \"status\"] = \"INTEGRATED\""
   ]
  },
  {
   "cell_type": "code",
   "execution_count": 24,
   "id": "alternative-raleigh",
   "metadata": {},
   "outputs": [],
   "source": [
    "# Given the findings in PRMT-1960 - we re-classify transfers with certain sender error codes as failed\n",
    "pending_sender_error_codes=[6,7,10,24,30,23,14,99]\n",
    "transfers_with_pending_sender_code_bool=transfers['sender_error_code'].isin(pending_sender_error_codes)\n",
    "transfers_with_pending_with_error_bool=transfers['status']=='PENDING_WITH_ERROR'\n",
    "transfers_which_need_pending_to_failure_change_bool=transfers_with_pending_sender_code_bool & transfers_with_pending_with_error_bool\n",
    "transfers.loc[transfers_which_need_pending_to_failure_change_bool,'status']='FAILED'"
   ]
  },
  {
   "cell_type": "code",
   "execution_count": 25,
   "id": "arbitrary-nudist",
   "metadata": {},
   "outputs": [],
   "source": [
    "# Supplier name mapping\n",
    "supplier_renaming = {\n",
    "    \"EGTON MEDICAL INFORMATION SYSTEMS LTD (EMIS)\":\"EMIS\",\n",
    "    \"IN PRACTICE SYSTEMS LTD\":\"Vision\",\n",
    "    \"MICROTEST LTD\":\"Microtest\",\n",
    "    \"THE PHOENIX PARTNERSHIP\":\"TPP\",\n",
    "    None: \"Unknown\"\n",
    "}\n",
    "\n",
    "lookup = asid_lookup[[\"ASID\", \"MName\", \"NACS\"]]\n",
    "\n",
    "transfers = transfers.merge(lookup, left_on='requesting_practice_asid',right_on='ASID',how='left').drop(\"NACS\", axis=1)\n",
    "transfers = transfers.rename({'MName': 'requesting_supplier', 'ASID': 'requesting_supplier_asid'}, axis=1)\n",
    "transfers = transfers.merge(lookup, left_on='sending_practice_asid',right_on='ASID',how='left')\n",
    "transfers = transfers.rename({'MName': 'sending_supplier', 'ASID': 'sending_supplier_asid', 'NACS': 'sending_ods_code'}, axis=1)\n",
    "\n",
    "transfers[\"sending_supplier\"] = transfers[\"sending_supplier\"].replace(supplier_renaming.keys(), supplier_renaming.values())\n",
    "transfers[\"requesting_supplier\"] = transfers[\"requesting_supplier\"].replace(supplier_renaming.keys(), supplier_renaming.values())"
   ]
  },
  {
   "cell_type": "markdown",
   "id": "marine-continent",
   "metadata": {},
   "source": [
    "# Generate View of each CCG or practice"
   ]
  },
  {
   "cell_type": "code",
   "execution_count": 26,
   "id": "identified-trance",
   "metadata": {},
   "outputs": [],
   "source": [
    "NACS_to_investigate=dict()\n",
    "NACS_to_investigate['Blackpool']=[\"P81004\",\"P81074\",\"P81714\",\"P81042\",\"P81081\",\"P81115\",\"P81073\",\"P81072\",\"P81066\",\"P81054\",\"P81172\",\"P81681\",\"P81043\",\"P81159\",\"P81063\",\"P81092\",\"P81016\"]\n",
    "NACS_to_investigate['Chorley']=[\"P81082\",\"P81010\",\"Y02466\",\"P81076\",\"Y03656\",\"P81740\",\"P81692\",\"P81117\",\"P81180\",\"P81033\",\"P81701\",\"Y00347\",\"P81154\",\"P81181\",\"P81044\",\"P81186\",\"P81687\",\"P81062\",\"P81083\",\"P81741\",\"P81038\",\"P81171\",\"P81127\",\"P81655\",\"P81143\",\"P81057\"]\n",
    "NACS_to_investigate['Sunderland']=[\"A89036\",\"A89012\",\"A89018\",\"A89008\",\"A89025\",\"A89009\",\"A89011\",\"A89031\",\"A89013\",\"A89040\",\"A89614\",\"A89019\",\"A89001\",\"A89623\",\"A89022\",\"A89002\",\"A89010\",\"A89020\",\"A89015\",\"A89028\",\"A89041\",\"A89004\",\"A89023\",\"A89617\",\"A89021\",\"A89017\",\"A89032\",\"A89026\",\"A89007\",\"A89034\",\"A89616\",\"A89035\",\"A89027\",\"A89016\",\"A89024\",\"A89005\",\"A89006\",\"A89030\",\"Y01262\"]\n",
    "NACS_to_investigate['Adelaide']=[\"P81042\"]\n",
    "NACS_to_investigate['Library']=[\"P81044\"]"
   ]
  },
  {
   "cell_type": "code",
   "execution_count": 27,
   "id": "whole-douglas",
   "metadata": {},
   "outputs": [
    {
     "data": {
      "text/plain": [
       "Sunderland    4902\n",
       "Chorley       3991\n",
       "Blackpool     3625\n",
       "Adelaide       352\n",
       "Library        246\n",
       "Name: Investigation Group, dtype: int64"
      ]
     },
     "execution_count": 27,
     "metadata": {},
     "output_type": "execute_result"
    }
   ],
   "source": [
    "lg_transfers=transfers.copy()\n",
    "lg_transfers['Investigation Group']=None\n",
    "\n",
    "for investigation_group in NACS_to_investigate.keys():\n",
    "    list_lg_practices = NACS_to_investigate[investigation_group]\n",
    "    is_lg_practice_bool = lg_transfers[\"sending_ods_code\"].apply(lambda ods_code: ods_code in list_lg_practices)\n",
    "    lg_transfers.loc[is_lg_practice_bool,'Investigation Group']=investigation_group\n",
    "\n",
    "lg_transfers['Investigation Group'].value_counts()"
   ]
  },
  {
   "cell_type": "code",
   "execution_count": 28,
   "id": "unlike-apparatus",
   "metadata": {},
   "outputs": [],
   "source": [
    "lg_transfers['Month']=lg_transfers['date_requested'].dt.to_period('M')\n",
    "lg_outcomes=pd.pivot_table(lg_transfers,index=['Investigation Group','Month'],columns='status',values='conversation_id',aggfunc='count')\n",
    "lg_outcomes=lg_outcomes.fillna(0).astype(int)\n",
    "\n",
    "lg_outcomes_pc=lg_outcomes.copy()\n",
    "lg_outcomes_pc=(lg_outcomes_pc.div(lg_outcomes_pc.sum(axis=1),axis=0)*100).round(2)\n",
    "lg_outcomes_pc.columns=lg_outcomes_pc.columns + \" %\"\n",
    "lg_outcomes=pd.concat([lg_outcomes,lg_outcomes_pc],axis=1)\n"
   ]
  },
  {
   "cell_type": "markdown",
   "id": "refined-emission",
   "metadata": {},
   "source": [
    "### Output to Excel"
   ]
  },
  {
   "cell_type": "code",
   "execution_count": 29,
   "id": "brave-logan",
   "metadata": {},
   "outputs": [],
   "source": [
    "excel_tables=lg_outcomes.index.get_level_values('Investigation Group').drop_duplicates()\n",
    "\n",
    "writer = pd.ExcelWriter('prmt-1932-ccg-outcomes.xlsx', engine='xlsxwriter')\n",
    "\n",
    "[lg_outcomes.loc[excel_table].to_excel(writer,sheet_name=excel_table) for excel_table in excel_tables]\n",
    "\n",
    "writer.save()"
   ]
  }
 ],
 "metadata": {
  "kernelspec": {
   "display_name": "conda_python3",
   "language": "python",
   "name": "conda_python3"
  },
  "language_info": {
   "codemirror_mode": {
    "name": "ipython",
    "version": 3
   },
   "file_extension": ".py",
   "mimetype": "text/x-python",
   "name": "python",
   "nbconvert_exporter": "python",
   "pygments_lexer": "ipython3",
   "version": "3.6.13"
  }
 },
 "nbformat": 4,
 "nbformat_minor": 5
}
