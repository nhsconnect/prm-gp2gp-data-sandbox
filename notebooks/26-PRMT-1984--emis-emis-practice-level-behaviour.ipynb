{
 "cells": [
  {
   "cell_type": "markdown",
   "id": "83dbc97c",
   "metadata": {},
   "source": [
    "# PRMT-1984 [HYPOTHESIS] The spread of EMIS-EMIS pending (without error) transfers is even across GP Practices"
   ]
  },
  {
   "cell_type": "markdown",
   "id": "34f0e69b",
   "metadata": {},
   "source": [
    "NB: Could this be extended to Integrated Late??\n",
    "\n",
    "### Hypothesis\n",
    "We believe that EMIS-EMIS pending transfers are spread evenly across practices\n",
    "We will know this to be true when we see in the data that for these transfers, they are consistently spread cross the majority of practices rather than clustered in a smaller group of practices\n",
    "\n",
    " \n",
    "\n",
    "### Subsequent questions (later hypotheses)\n",
    "\n",
    "If transfers are in a cluster of smaller practices, what do the integrations look like for those practices? I.e. are they bad at integration and therefore makes sense that they have poor pending?"
   ]
  },
  {
   "cell_type": "code",
   "execution_count": 1,
   "id": "dc6f4686",
   "metadata": {},
   "outputs": [],
   "source": [
    "import pandas as pd\n",
    "import numpy as np\n",
    "import matplotlib.pyplot as plt"
   ]
  },
  {
   "cell_type": "code",
   "execution_count": 2,
   "id": "c33635ca",
   "metadata": {},
   "outputs": [],
   "source": [
    "transfer_file_location = \"s3://prm-gp2gp-data-sandbox-dev/transfers-duplicates-hypothesis/\"\n",
    "transfer_files = [\n",
    "    \"9-2020-transfers.parquet\",\n",
    "    \"10-2020-transfers.parquet\",\n",
    "    \"11-2020-transfers.parquet\",\n",
    "    \"12-2020-transfers.parquet\",\n",
    "    \"1-2021-transfers.parquet\",\n",
    "    \"2-2021-transfers.parquet\"\n",
    "]\n",
    "transfer_input_files = [transfer_file_location + f for f in transfer_files]\n",
    "transfers_raw = pd.concat((\n",
    "    pd.read_parquet(f)\n",
    "    for f in transfer_input_files\n",
    "))\n",
    "# This is only needed when using transfers-duplicates-hypothesis datasets\n",
    "transfers_raw = transfers_raw.drop([\"sending_supplier\", \"requesting_supplier\"], axis=1)"
   ]
  },
  {
   "cell_type": "code",
   "execution_count": 3,
   "id": "0944f7ce",
   "metadata": {},
   "outputs": [],
   "source": [
    "asid_lookup_file = \"s3://prm-gp2gp-data-sandbox-dev/asid-lookup/asidLookup-Mar-2021.csv.gz\"\n",
    "asid_lookup = pd.read_csv(asid_lookup_file)"
   ]
  },
  {
   "cell_type": "code",
   "execution_count": 4,
   "id": "39078972",
   "metadata": {},
   "outputs": [],
   "source": [
    "# Given the findings in PRMT-1742 - many duplicate EHR errors are misclassified, the below reclassifies the relevant data\n",
    "successful_transfers_bool = transfers_raw['request_completed_ack_codes'].apply(lambda x: True in [(np.isnan(i) or i==15) for i in x])\n",
    "transfers = transfers_raw.copy()\n",
    "transfers.loc[successful_transfers_bool, \"status\"] = \"INTEGRATED\""
   ]
  },
  {
   "cell_type": "code",
   "execution_count": 5,
   "id": "887e7338",
   "metadata": {},
   "outputs": [
    {
     "data": {
      "text/plain": [
       "59            196.0\n",
       "99           7889.0\n",
       "109       2241598.0\n",
       "136            99.0\n",
       "155            93.0\n",
       "            ...    \n",
       "234091          2.0\n",
       "234281          3.0\n",
       "234289          3.0\n",
       "234372         58.0\n",
       "234525          1.0\n",
       "Name: sla_duration, Length: 22771, dtype: float64"
      ]
     },
     "execution_count": 5,
     "metadata": {},
     "output_type": "execute_result"
    }
   ],
   "source": [
    "transfers.loc[transfers['status']=='FAILED','sla_duration'].dropna()"
   ]
  },
  {
   "cell_type": "code",
   "execution_count": 6,
   "id": "9de4891d",
   "metadata": {},
   "outputs": [],
   "source": [
    "pending_sender_error_codes=[6,7,10,24,30,23,14,99]\n",
    "transfers_with_pending_sender_code_bool=transfers['sender_error_code'].isin(pending_sender_error_codes)\n",
    "transfers_with_pending_with_error_bool=transfers['status']=='PENDING_WITH_ERROR'\n",
    "transfers_which_need_pending_to_failure_change_bool=transfers_with_pending_sender_code_bool & transfers_with_pending_with_error_bool\n",
    "transfers.loc[transfers_which_need_pending_to_failure_change_bool,'status']='FAILED'"
   ]
  },
  {
   "cell_type": "code",
   "execution_count": 7,
   "id": "05d62f2c",
   "metadata": {},
   "outputs": [],
   "source": [
    "eight_days_in_seconds=8*24*60*60\n",
    "transfers_after_sla_bool=transfers['sla_duration']>eight_days_in_seconds\n",
    "transfers_with_integrated_bool=transfers['status']=='INTEGRATED'\n",
    "transfers_integrated_late_bool=transfers_after_sla_bool & transfers_with_integrated_bool\n",
    "transfers.loc[transfers_integrated_late_bool,'status']='INTEGRATED LATE'"
   ]
  },
  {
   "cell_type": "code",
   "execution_count": 8,
   "id": "f1188224",
   "metadata": {},
   "outputs": [],
   "source": [
    "twenty_eight_days_in_seconds=28*24*60*60\n",
    "transfers_after_month_bool=transfers['sla_duration']>twenty_eight_days_in_seconds\n",
    "transfers_pending_at_month_bool=transfers_after_month_bool & transfers_integrated_late_bool\n",
    "transfers.loc[transfers_pending_at_month_bool,'status']='PENDING'\n",
    "transfers_with_early_error_bool=(~transfers.loc[:,'sender_error_code'].isna()) |(~transfers.loc[:,'intermediate_error_codes'].apply(len)>0)\n",
    "transfers.loc[transfers_with_early_error_bool & transfers_pending_at_month_bool,'status']='PENDING_WITH_ERROR'"
   ]
  },
  {
   "cell_type": "code",
   "execution_count": 9,
   "id": "32e8acb2",
   "metadata": {},
   "outputs": [],
   "source": [
    "# Supplier name mapping\n",
    "supplier_renaming = {\n",
    "    \"EGTON MEDICAL INFORMATION SYSTEMS LTD (EMIS)\":\"EMIS\",\n",
    "    \"IN PRACTICE SYSTEMS LTD\":\"Vision\",\n",
    "    \"MICROTEST LTD\":\"Microtest\",\n",
    "    \"THE PHOENIX PARTNERSHIP\":\"TPP\",\n",
    "    None: \"Unknown\"\n",
    "}\n",
    "\n",
    "lookup = asid_lookup[[\"ASID\", \"MName\", \"NACS\"]]\n",
    "\n",
    "transfers = transfers.merge(lookup, left_on='requesting_practice_asid',right_on='ASID',how='left').drop(\"NACS\", axis=1)\n",
    "transfers = transfers.rename({'MName': 'requesting_supplier', 'ASID': 'requesting_supplier_asid'}, axis=1)\n",
    "transfers = transfers.merge(lookup, left_on='sending_practice_asid',right_on='ASID',how='left')\n",
    "transfers = transfers.rename({'MName': 'sending_supplier', 'ASID': 'sending_supplier_asid', 'NACS': 'sending_ods_code'}, axis=1)\n",
    "\n",
    "transfers[\"sending_supplier\"] = transfers[\"sending_supplier\"].replace(supplier_renaming.keys(), supplier_renaming.values())\n",
    "transfers[\"requesting_supplier\"] = transfers[\"requesting_supplier\"].replace(supplier_renaming.keys(), supplier_renaming.values())"
   ]
  },
  {
   "cell_type": "markdown",
   "id": "e78d1967",
   "metadata": {},
   "source": [
    "### Select just relevant data: EMIS-EMIS"
   ]
  },
  {
   "cell_type": "code",
   "execution_count": 10,
   "id": "69f50caa",
   "metadata": {},
   "outputs": [],
   "source": [
    "both_suppliers_EMIS_bool=(transfers['requesting_supplier']=='EMIS') & (transfers['sending_supplier']=='EMIS')\n",
    "\n",
    "relevant_transfers=transfers.loc[both_suppliers_EMIS_bool]"
   ]
  },
  {
   "cell_type": "code",
   "execution_count": 101,
   "id": "2456c090",
   "metadata": {},
   "outputs": [
    {
     "data": {
      "text/html": [
       "<div>\n",
       "<style scoped>\n",
       "    .dataframe tbody tr th:only-of-type {\n",
       "        vertical-align: middle;\n",
       "    }\n",
       "\n",
       "    .dataframe tbody tr th {\n",
       "        vertical-align: top;\n",
       "    }\n",
       "\n",
       "    .dataframe thead th {\n",
       "        text-align: right;\n",
       "    }\n",
       "</style>\n",
       "<table border=\"1\" class=\"dataframe\">\n",
       "  <thead>\n",
       "    <tr style=\"text-align: right;\">\n",
       "      <th></th>\n",
       "      <th>Volume</th>\n",
       "      <th>%</th>\n",
       "    </tr>\n",
       "  </thead>\n",
       "  <tbody>\n",
       "    <tr>\n",
       "      <th>INTEGRATED</th>\n",
       "      <td>718274</td>\n",
       "      <td>91.15</td>\n",
       "    </tr>\n",
       "    <tr>\n",
       "      <th>INTEGRATED LATE</th>\n",
       "      <td>43210</td>\n",
       "      <td>5.48</td>\n",
       "    </tr>\n",
       "    <tr>\n",
       "      <th>PENDING</th>\n",
       "      <td>16353</td>\n",
       "      <td>2.08</td>\n",
       "    </tr>\n",
       "    <tr>\n",
       "      <th>FAILED</th>\n",
       "      <td>8159</td>\n",
       "      <td>1.04</td>\n",
       "    </tr>\n",
       "    <tr>\n",
       "      <th>PENDING_WITH_ERROR</th>\n",
       "      <td>2023</td>\n",
       "      <td>0.26</td>\n",
       "    </tr>\n",
       "  </tbody>\n",
       "</table>\n",
       "</div>"
      ],
      "text/plain": [
       "                    Volume      %\n",
       "INTEGRATED          718274  91.15\n",
       "INTEGRATED LATE      43210   5.48\n",
       "PENDING              16353   2.08\n",
       "FAILED                8159   1.04\n",
       "PENDING_WITH_ERROR    2023   0.26"
      ]
     },
     "execution_count": 101,
     "metadata": {},
     "output_type": "execute_result"
    }
   ],
   "source": [
    "emis_emis_status_table=relevant_transfers['status'].value_counts()\n",
    "\n",
    "emis_emis_status_table_pc=(100*emis_emis_status_table/emis_emis_status_table.sum()).round(2)\n",
    "\n",
    "pd.concat([emis_emis_status_table.rename('Volume'),emis_emis_status_table_pc.rename('%')],axis=1)"
   ]
  },
  {
   "cell_type": "markdown",
   "id": "969d117e",
   "metadata": {},
   "source": [
    "### Pivot table of practice vs status volumes"
   ]
  },
  {
   "cell_type": "code",
   "execution_count": 11,
   "id": "ea46ab6b",
   "metadata": {},
   "outputs": [
    {
     "name": "stdout",
     "output_type": "stream",
     "text": [
      "3955\n",
      "0.33\n",
      "3.1724096080910233\n"
     ]
    }
   ],
   "source": [
    "practice_status_table=pd.pivot_table(relevant_transfers,index='requesting_practice_asid',columns='status',values='conversation_id',aggfunc='count').fillna(0)\n",
    "practice_status_table['TOTAL']=practice_status_table.sum(axis=1)\n",
    "practice_status_pc=100*practice_status_table.div(practice_status_table['TOTAL'],axis=0).drop('TOTAL',axis=1)\n",
    "practice_status_pc.columns=practice_status_pc.columns + \" %\"\n",
    "practice_status_pc=practice_status_pc.round(2)\n",
    "practice_status_table=pd.concat([practice_status_table,practice_status_pc],axis=1)\n",
    "print(practice_status_table.shape[0])\n",
    "print(practice_status_table['PENDING %'].median())\n",
    "print(practice_status_table['PENDING %'].mean())"
   ]
  },
  {
   "cell_type": "code",
   "execution_count": null,
   "id": "92a33d94",
   "metadata": {},
   "outputs": [],
   "source": []
  },
  {
   "cell_type": "code",
   "execution_count": 12,
   "id": "f5c98875",
   "metadata": {},
   "outputs": [
    {
     "data": {
      "image/png": "[encoded data removed]",
      "text/plain": [
       "<Figure size 432x288 with 1 Axes>"
      ]
     },
     "metadata": {
      "needs_background": "light"
     },
     "output_type": "display_data"
    }
   ],
   "source": [
    "ax =practice_status_table['PENDING %'].plot.hist(bins=range(101),ylim=[0,50])\n",
    "ax.set_xlabel('% Pending')\n",
    "ax.set_ylabel('Number of GP Practices')\n",
    "ax.set_title('Distribution of % transfers pending across GP Practices')\n",
    "practice_status_table['PENDING %'].quantile(np.arange(0.1, 1.1, 0.1))\n",
    "plt.gcf().savefig('EMIS_EMIS_pending_distribution.png')"
   ]
  },
  {
   "cell_type": "code",
   "execution_count": null,
   "id": "e2714fb0",
   "metadata": {},
   "outputs": [],
   "source": []
  },
  {
   "cell_type": "code",
   "execution_count": 13,
   "id": "51e16fd0",
   "metadata": {},
   "outputs": [
    {
     "data": {
      "text/plain": [
       "<AxesSubplot:xlabel='TOTAL', ylabel='PENDING %'>"
      ]
     },
     "execution_count": 13,
     "metadata": {},
     "output_type": "execute_result"
    },
    {
     "data": {
      "image/png": "[encoded data removed]",
      "text/plain": [
       "<Figure size 432x288 with 1 Axes>"
      ]
     },
     "metadata": {
      "needs_background": "light"
     },
     "output_type": "display_data"
    }
   ],
   "source": [
    "practice_status_table.plot.scatter(x='TOTAL',y='PENDING %')"
   ]
  },
  {
   "cell_type": "code",
   "execution_count": 14,
   "id": "45f2e81c",
   "metadata": {},
   "outputs": [
    {
     "data": {
      "text/plain": [
       "<AxesSubplot:xlabel='TOTAL', ylabel='PENDING %'>"
      ]
     },
     "execution_count": 14,
     "metadata": {},
     "output_type": "execute_result"
    },
    {
     "data": {
      "image/png": "[encoded data removed]",
      "text/plain": [
       "<Figure size 432x288 with 1 Axes>"
      ]
     },
     "metadata": {
      "needs_background": "light"
     },
     "output_type": "display_data"
    }
   ],
   "source": [
    "practice_status_table.plot.scatter(x='TOTAL',y='PENDING %',xlim=[0,1000])"
   ]
  },
  {
   "cell_type": "code",
   "execution_count": 15,
   "id": "c2f6f2ae",
   "metadata": {},
   "outputs": [
    {
     "data": {
      "text/plain": [
       "<AxesSubplot:xlabel='PENDING %', ylabel='INTEGRATED LATE %'>"
      ]
     },
     "execution_count": 15,
     "metadata": {},
     "output_type": "execute_result"
    },
    {
     "data": {
      "image/png": "[encoded data removed]",
      "text/plain": [
       "<Figure size 432x288 with 1 Axes>"
      ]
     },
     "metadata": {
      "needs_background": "light"
     },
     "output_type": "display_data"
    }
   ],
   "source": [
    "practice_status_table.plot.scatter(x='PENDING %',y='INTEGRATED LATE %',xlim=[0,0.1])"
   ]
  },
  {
   "cell_type": "code",
   "execution_count": 16,
   "id": "4083d533",
   "metadata": {},
   "outputs": [
    {
     "data": {
      "text/html": [
       "<div>\n",
       "<style scoped>\n",
       "    .dataframe tbody tr th:only-of-type {\n",
       "        vertical-align: middle;\n",
       "    }\n",
       "\n",
       "    .dataframe tbody tr th {\n",
       "        vertical-align: top;\n",
       "    }\n",
       "\n",
       "    .dataframe thead th {\n",
       "        text-align: right;\n",
       "    }\n",
       "</style>\n",
       "<table border=\"1\" class=\"dataframe\">\n",
       "  <thead>\n",
       "    <tr style=\"text-align: right;\">\n",
       "      <th>status</th>\n",
       "      <th>FAILED %</th>\n",
       "      <th>INTEGRATED %</th>\n",
       "      <th>INTEGRATED LATE %</th>\n",
       "      <th>PENDING %</th>\n",
       "      <th>PENDING_WITH_ERROR %</th>\n",
       "    </tr>\n",
       "    <tr>\n",
       "      <th>status</th>\n",
       "      <th></th>\n",
       "      <th></th>\n",
       "      <th></th>\n",
       "      <th></th>\n",
       "      <th></th>\n",
       "    </tr>\n",
       "  </thead>\n",
       "  <tbody>\n",
       "    <tr>\n",
       "      <th>FAILED %</th>\n",
       "      <td>1.00</td>\n",
       "      <td>-0.41</td>\n",
       "      <td>0.06</td>\n",
       "      <td>0.36</td>\n",
       "      <td>-0.00</td>\n",
       "    </tr>\n",
       "    <tr>\n",
       "      <th>INTEGRATED %</th>\n",
       "      <td>-0.41</td>\n",
       "      <td>1.00</td>\n",
       "      <td>-0.74</td>\n",
       "      <td>-0.80</td>\n",
       "      <td>-0.09</td>\n",
       "    </tr>\n",
       "    <tr>\n",
       "      <th>INTEGRATED LATE %</th>\n",
       "      <td>0.06</td>\n",
       "      <td>-0.74</td>\n",
       "      <td>1.00</td>\n",
       "      <td>0.23</td>\n",
       "      <td>-0.00</td>\n",
       "    </tr>\n",
       "    <tr>\n",
       "      <th>PENDING %</th>\n",
       "      <td>0.36</td>\n",
       "      <td>-0.80</td>\n",
       "      <td>0.23</td>\n",
       "      <td>1.00</td>\n",
       "      <td>0.01</td>\n",
       "    </tr>\n",
       "    <tr>\n",
       "      <th>PENDING_WITH_ERROR %</th>\n",
       "      <td>-0.00</td>\n",
       "      <td>-0.09</td>\n",
       "      <td>-0.00</td>\n",
       "      <td>0.01</td>\n",
       "      <td>1.00</td>\n",
       "    </tr>\n",
       "  </tbody>\n",
       "</table>\n",
       "</div>"
      ],
      "text/plain": [
       "status                FAILED %  INTEGRATED %  INTEGRATED LATE %  PENDING %  \\\n",
       "status                                                                       \n",
       "FAILED %                  1.00         -0.41               0.06       0.36   \n",
       "INTEGRATED %             -0.41          1.00              -0.74      -0.80   \n",
       "INTEGRATED LATE %         0.06         -0.74               1.00       0.23   \n",
       "PENDING %                 0.36         -0.80               0.23       1.00   \n",
       "PENDING_WITH_ERROR %     -0.00         -0.09              -0.00       0.01   \n",
       "\n",
       "status                PENDING_WITH_ERROR %  \n",
       "status                                      \n",
       "FAILED %                             -0.00  \n",
       "INTEGRATED %                         -0.09  \n",
       "INTEGRATED LATE %                    -0.00  \n",
       "PENDING %                             0.01  \n",
       "PENDING_WITH_ERROR %                  1.00  "
      ]
     },
     "execution_count": 16,
     "metadata": {},
     "output_type": "execute_result"
    }
   ],
   "source": [
    "practice_status_table[[\"FAILED %\",\"INTEGRATED %\",\"INTEGRATED LATE %\",\"PENDING %\",\"PENDING_WITH_ERROR %\"]].corr().round(2)"
   ]
  },
  {
   "cell_type": "code",
   "execution_count": 17,
   "id": "9b669fc2",
   "metadata": {},
   "outputs": [
    {
     "data": {
      "text/plain": [
       "<AxesSubplot:xlabel='PENDING %', ylabel='FAILED %'>"
      ]
     },
     "execution_count": 17,
     "metadata": {},
     "output_type": "execute_result"
    },
    {
     "data": {
      "image/png": "[encoded data removed]",
      "text/plain": [
       "<Figure size 432x288 with 1 Axes>"
      ]
     },
     "metadata": {
      "needs_background": "light"
     },
     "output_type": "display_data"
    }
   ],
   "source": [
    "practice_status_table.plot.scatter(x='PENDING %',y='FAILED %',ylim=[0,0.2])"
   ]
  },
  {
   "cell_type": "code",
   "execution_count": 18,
   "id": "bc55e2a6",
   "metadata": {},
   "outputs": [
    {
     "data": {
      "text/plain": [
       "<AxesSubplot:xlabel='TOTAL', ylabel='PENDING'>"
      ]
     },
     "execution_count": 18,
     "metadata": {},
     "output_type": "execute_result"
    },
    {
     "data": {
      "image/png": "[encoded data removed]",
      "text/plain": [
       "<Figure size 432x288 with 1 Axes>"
      ]
     },
     "metadata": {
      "needs_background": "light"
     },
     "output_type": "display_data"
    }
   ],
   "source": [
    "practice_status_table.plot.scatter(x='TOTAL',y='PENDING')"
   ]
  },
  {
   "cell_type": "code",
   "execution_count": 19,
   "id": "73c6a4e9",
   "metadata": {},
   "outputs": [
    {
     "data": {
      "text/html": [
       "<div>\n",
       "<style scoped>\n",
       "    .dataframe tbody tr th:only-of-type {\n",
       "        vertical-align: middle;\n",
       "    }\n",
       "\n",
       "    .dataframe tbody tr th {\n",
       "        vertical-align: top;\n",
       "    }\n",
       "\n",
       "    .dataframe thead th {\n",
       "        text-align: right;\n",
       "    }\n",
       "</style>\n",
       "<table border=\"1\" class=\"dataframe\">\n",
       "  <thead>\n",
       "    <tr style=\"text-align: right;\">\n",
       "      <th>status</th>\n",
       "      <th>FAILED</th>\n",
       "      <th>INTEGRATED</th>\n",
       "      <th>INTEGRATED LATE</th>\n",
       "      <th>PENDING</th>\n",
       "      <th>PENDING_WITH_ERROR</th>\n",
       "      <th>TOTAL</th>\n",
       "      <th>FAILED %</th>\n",
       "      <th>INTEGRATED %</th>\n",
       "      <th>INTEGRATED LATE %</th>\n",
       "      <th>PENDING %</th>\n",
       "      <th>PENDING_WITH_ERROR %</th>\n",
       "    </tr>\n",
       "    <tr>\n",
       "      <th>status</th>\n",
       "      <th></th>\n",
       "      <th></th>\n",
       "      <th></th>\n",
       "      <th></th>\n",
       "      <th></th>\n",
       "      <th></th>\n",
       "      <th></th>\n",
       "      <th></th>\n",
       "      <th></th>\n",
       "      <th></th>\n",
       "      <th></th>\n",
       "    </tr>\n",
       "  </thead>\n",
       "  <tbody>\n",
       "    <tr>\n",
       "      <th>FAILED</th>\n",
       "      <td>1.000000</td>\n",
       "      <td>0.312707</td>\n",
       "      <td>0.587494</td>\n",
       "      <td>0.441363</td>\n",
       "      <td>0.317940</td>\n",
       "      <td>0.486602</td>\n",
       "      <td>0.320491</td>\n",
       "      <td>-0.167851</td>\n",
       "      <td>0.056411</td>\n",
       "      <td>0.141826</td>\n",
       "      <td>-0.006331</td>\n",
       "    </tr>\n",
       "    <tr>\n",
       "      <th>INTEGRATED</th>\n",
       "      <td>0.312707</td>\n",
       "      <td>1.000000</td>\n",
       "      <td>0.139091</td>\n",
       "      <td>0.008456</td>\n",
       "      <td>0.595107</td>\n",
       "      <td>0.960091</td>\n",
       "      <td>-0.059742</td>\n",
       "      <td>0.201421</td>\n",
       "      <td>-0.165714</td>\n",
       "      <td>-0.150830</td>\n",
       "      <td>-0.020778</td>\n",
       "    </tr>\n",
       "    <tr>\n",
       "      <th>INTEGRATED LATE</th>\n",
       "      <td>0.587494</td>\n",
       "      <td>0.139091</td>\n",
       "      <td>1.000000</td>\n",
       "      <td>0.246875</td>\n",
       "      <td>0.290396</td>\n",
       "      <td>0.394733</td>\n",
       "      <td>0.029487</td>\n",
       "      <td>-0.242526</td>\n",
       "      <td>0.352154</td>\n",
       "      <td>0.047018</td>\n",
       "      <td>-0.002643</td>\n",
       "    </tr>\n",
       "    <tr>\n",
       "      <th>PENDING</th>\n",
       "      <td>0.441363</td>\n",
       "      <td>0.008456</td>\n",
       "      <td>0.246875</td>\n",
       "      <td>1.000000</td>\n",
       "      <td>0.088071</td>\n",
       "      <td>0.161879</td>\n",
       "      <td>0.204845</td>\n",
       "      <td>-0.454847</td>\n",
       "      <td>0.166755</td>\n",
       "      <td>0.532747</td>\n",
       "      <td>0.002453</td>\n",
       "    </tr>\n",
       "    <tr>\n",
       "      <th>PENDING_WITH_ERROR</th>\n",
       "      <td>0.317940</td>\n",
       "      <td>0.595107</td>\n",
       "      <td>0.290396</td>\n",
       "      <td>0.088071</td>\n",
       "      <td>1.000000</td>\n",
       "      <td>0.632030</td>\n",
       "      <td>-0.009932</td>\n",
       "      <td>0.015052</td>\n",
       "      <td>-0.020169</td>\n",
       "      <td>-0.029302</td>\n",
       "      <td>0.179392</td>\n",
       "    </tr>\n",
       "    <tr>\n",
       "      <th>TOTAL</th>\n",
       "      <td>0.486602</td>\n",
       "      <td>0.960091</td>\n",
       "      <td>0.394733</td>\n",
       "      <td>0.161879</td>\n",
       "      <td>0.632030</td>\n",
       "      <td>1.000000</td>\n",
       "      <td>-0.022222</td>\n",
       "      <td>0.085753</td>\n",
       "      <td>-0.055400</td>\n",
       "      <td>-0.078327</td>\n",
       "      <td>-0.018934</td>\n",
       "    </tr>\n",
       "    <tr>\n",
       "      <th>FAILED %</th>\n",
       "      <td>0.320491</td>\n",
       "      <td>-0.059742</td>\n",
       "      <td>0.029487</td>\n",
       "      <td>0.204845</td>\n",
       "      <td>-0.009932</td>\n",
       "      <td>-0.022222</td>\n",
       "      <td>1.000000</td>\n",
       "      <td>-0.408119</td>\n",
       "      <td>0.059399</td>\n",
       "      <td>0.363831</td>\n",
       "      <td>-0.000351</td>\n",
       "    </tr>\n",
       "    <tr>\n",
       "      <th>INTEGRATED %</th>\n",
       "      <td>-0.167851</td>\n",
       "      <td>0.201421</td>\n",
       "      <td>-0.242526</td>\n",
       "      <td>-0.454847</td>\n",
       "      <td>0.015052</td>\n",
       "      <td>0.085753</td>\n",
       "      <td>-0.408119</td>\n",
       "      <td>1.000000</td>\n",
       "      <td>-0.743061</td>\n",
       "      <td>-0.800451</td>\n",
       "      <td>-0.093574</td>\n",
       "    </tr>\n",
       "    <tr>\n",
       "      <th>INTEGRATED LATE %</th>\n",
       "      <td>0.056411</td>\n",
       "      <td>-0.165714</td>\n",
       "      <td>0.352154</td>\n",
       "      <td>0.166755</td>\n",
       "      <td>-0.020169</td>\n",
       "      <td>-0.055400</td>\n",
       "      <td>0.059399</td>\n",
       "      <td>-0.743061</td>\n",
       "      <td>1.000000</td>\n",
       "      <td>0.228225</td>\n",
       "      <td>-0.003299</td>\n",
       "    </tr>\n",
       "    <tr>\n",
       "      <th>PENDING %</th>\n",
       "      <td>0.141826</td>\n",
       "      <td>-0.150830</td>\n",
       "      <td>0.047018</td>\n",
       "      <td>0.532747</td>\n",
       "      <td>-0.029302</td>\n",
       "      <td>-0.078327</td>\n",
       "      <td>0.363831</td>\n",
       "      <td>-0.800451</td>\n",
       "      <td>0.228225</td>\n",
       "      <td>1.000000</td>\n",
       "      <td>0.007833</td>\n",
       "    </tr>\n",
       "    <tr>\n",
       "      <th>PENDING_WITH_ERROR %</th>\n",
       "      <td>-0.006331</td>\n",
       "      <td>-0.020778</td>\n",
       "      <td>-0.002643</td>\n",
       "      <td>0.002453</td>\n",
       "      <td>0.179392</td>\n",
       "      <td>-0.018934</td>\n",
       "      <td>-0.000351</td>\n",
       "      <td>-0.093574</td>\n",
       "      <td>-0.003299</td>\n",
       "      <td>0.007833</td>\n",
       "      <td>1.000000</td>\n",
       "    </tr>\n",
       "  </tbody>\n",
       "</table>\n",
       "</div>"
      ],
      "text/plain": [
       "status                  FAILED  INTEGRATED  INTEGRATED LATE   PENDING  \\\n",
       "status                                                                  \n",
       "FAILED                1.000000    0.312707         0.587494  0.441363   \n",
       "INTEGRATED            0.312707    1.000000         0.139091  0.008456   \n",
       "INTEGRATED LATE       0.587494    0.139091         1.000000  0.246875   \n",
       "PENDING               0.441363    0.008456         0.246875  1.000000   \n",
       "PENDING_WITH_ERROR    0.317940    0.595107         0.290396  0.088071   \n",
       "TOTAL                 0.486602    0.960091         0.394733  0.161879   \n",
       "FAILED %              0.320491   -0.059742         0.029487  0.204845   \n",
       "INTEGRATED %         -0.167851    0.201421        -0.242526 -0.454847   \n",
       "INTEGRATED LATE %     0.056411   -0.165714         0.352154  0.166755   \n",
       "PENDING %             0.141826   -0.150830         0.047018  0.532747   \n",
       "PENDING_WITH_ERROR % -0.006331   -0.020778        -0.002643  0.002453   \n",
       "\n",
       "status                PENDING_WITH_ERROR     TOTAL  FAILED %  INTEGRATED %  \\\n",
       "status                                                                       \n",
       "FAILED                          0.317940  0.486602  0.320491     -0.167851   \n",
       "INTEGRATED                      0.595107  0.960091 -0.059742      0.201421   \n",
       "INTEGRATED LATE                 0.290396  0.394733  0.029487     -0.242526   \n",
       "PENDING                         0.088071  0.161879  0.204845     -0.454847   \n",
       "PENDING_WITH_ERROR              1.000000  0.632030 -0.009932      0.015052   \n",
       "TOTAL                           0.632030  1.000000 -0.022222      0.085753   \n",
       "FAILED %                       -0.009932 -0.022222  1.000000     -0.408119   \n",
       "INTEGRATED %                    0.015052  0.085753 -0.408119      1.000000   \n",
       "INTEGRATED LATE %              -0.020169 -0.055400  0.059399     -0.743061   \n",
       "PENDING %                      -0.029302 -0.078327  0.363831     -0.800451   \n",
       "PENDING_WITH_ERROR %            0.179392 -0.018934 -0.000351     -0.093574   \n",
       "\n",
       "status                INTEGRATED LATE %  PENDING %  PENDING_WITH_ERROR %  \n",
       "status                                                                    \n",
       "FAILED                         0.056411   0.141826             -0.006331  \n",
       "INTEGRATED                    -0.165714  -0.150830             -0.020778  \n",
       "INTEGRATED LATE                0.352154   0.047018             -0.002643  \n",
       "PENDING                        0.166755   0.532747              0.002453  \n",
       "PENDING_WITH_ERROR            -0.020169  -0.029302              0.179392  \n",
       "TOTAL                         -0.055400  -0.078327             -0.018934  \n",
       "FAILED %                       0.059399   0.363831             -0.000351  \n",
       "INTEGRATED %                  -0.743061  -0.800451             -0.093574  \n",
       "INTEGRATED LATE %              1.000000   0.228225             -0.003299  \n",
       "PENDING %                      0.228225   1.000000              0.007833  \n",
       "PENDING_WITH_ERROR %          -0.003299   0.007833              1.000000  "
      ]
     },
     "execution_count": 19,
     "metadata": {},
     "output_type": "execute_result"
    }
   ],
   "source": [
    "practice_status_table.corr()"
   ]
  },
  {
   "cell_type": "code",
   "execution_count": 20,
   "id": "883de5b1",
   "metadata": {},
   "outputs": [
    {
     "data": {
      "text/plain": [
       "0.056075337858496915"
      ]
     },
     "execution_count": 20,
     "metadata": {},
     "output_type": "execute_result"
    }
   ],
   "source": [
    "practice_status_table['PENDING'].max()/practice_status_table['PENDING'].sum()"
   ]
  },
  {
   "cell_type": "code",
   "execution_count": 21,
   "id": "665aadf6",
   "metadata": {},
   "outputs": [
    {
     "data": {
      "text/html": [
       "<div>\n",
       "<style scoped>\n",
       "    .dataframe tbody tr th:only-of-type {\n",
       "        vertical-align: middle;\n",
       "    }\n",
       "\n",
       "    .dataframe tbody tr th {\n",
       "        vertical-align: top;\n",
       "    }\n",
       "\n",
       "    .dataframe thead th {\n",
       "        text-align: right;\n",
       "    }\n",
       "</style>\n",
       "<table border=\"1\" class=\"dataframe\">\n",
       "  <thead>\n",
       "    <tr style=\"text-align: right;\">\n",
       "      <th></th>\n",
       "      <th>ASID</th>\n",
       "      <th>NACS</th>\n",
       "      <th>OrgName</th>\n",
       "      <th>OrgType</th>\n",
       "      <th>PostCode</th>\n",
       "      <th>FAILED</th>\n",
       "      <th>INTEGRATED</th>\n",
       "      <th>INTEGRATED LATE</th>\n",
       "      <th>PENDING</th>\n",
       "      <th>PENDING_WITH_ERROR</th>\n",
       "      <th>TOTAL</th>\n",
       "      <th>FAILED %</th>\n",
       "      <th>INTEGRATED %</th>\n",
       "      <th>INTEGRATED LATE %</th>\n",
       "      <th>PENDING %</th>\n",
       "      <th>PENDING_WITH_ERROR %</th>\n",
       "    </tr>\n",
       "  </thead>\n",
       "  <tbody>\n",
       "    <tr>\n",
       "      <th>33038</th>\n",
       "      <td>615075629043</td>\n",
       "      <td>D82088</td>\n",
       "      <td>UEA MEDICAL CENTRE</td>\n",
       "      <td>GP Practice</td>\n",
       "      <td>NR4 7TJ</td>\n",
       "      <td>123.0</td>\n",
       "      <td>36.0</td>\n",
       "      <td>40.0</td>\n",
       "      <td>917.0</td>\n",
       "      <td>1.0</td>\n",
       "      <td>1117.0</td>\n",
       "      <td>11.01</td>\n",
       "      <td>3.22</td>\n",
       "      <td>3.58</td>\n",
       "      <td>82.09</td>\n",
       "      <td>0.09</td>\n",
       "    </tr>\n",
       "    <tr>\n",
       "      <th>33754</th>\n",
       "      <td>669024222046</td>\n",
       "      <td>P81002</td>\n",
       "      <td>LANCASTER MEDICAL PRACTICE</td>\n",
       "      <td>GP Practice</td>\n",
       "      <td>LA1 1PN</td>\n",
       "      <td>47.0</td>\n",
       "      <td>755.0</td>\n",
       "      <td>815.0</td>\n",
       "      <td>442.0</td>\n",
       "      <td>1.0</td>\n",
       "      <td>2060.0</td>\n",
       "      <td>2.28</td>\n",
       "      <td>36.65</td>\n",
       "      <td>39.56</td>\n",
       "      <td>21.46</td>\n",
       "      <td>0.05</td>\n",
       "    </tr>\n",
       "    <tr>\n",
       "      <th>28125</th>\n",
       "      <td>260198413015</td>\n",
       "      <td>G82074</td>\n",
       "      <td>BEARSTED</td>\n",
       "      <td>GP Practice</td>\n",
       "      <td>ME14 4DS</td>\n",
       "      <td>44.0</td>\n",
       "      <td>73.0</td>\n",
       "      <td>2.0</td>\n",
       "      <td>211.0</td>\n",
       "      <td>0.0</td>\n",
       "      <td>330.0</td>\n",
       "      <td>13.33</td>\n",
       "      <td>22.12</td>\n",
       "      <td>0.61</td>\n",
       "      <td>63.94</td>\n",
       "      <td>0.00</td>\n",
       "    </tr>\n",
       "    <tr>\n",
       "      <th>38052</th>\n",
       "      <td>994133653042</td>\n",
       "      <td>F86008</td>\n",
       "      <td>GANTS HILL MEDICAL CENTRE</td>\n",
       "      <td>GP Practice</td>\n",
       "      <td>IG2 6UP</td>\n",
       "      <td>16.0</td>\n",
       "      <td>10.0</td>\n",
       "      <td>19.0</td>\n",
       "      <td>201.0</td>\n",
       "      <td>2.0</td>\n",
       "      <td>248.0</td>\n",
       "      <td>6.45</td>\n",
       "      <td>4.03</td>\n",
       "      <td>7.66</td>\n",
       "      <td>81.05</td>\n",
       "      <td>0.81</td>\n",
       "    </tr>\n",
       "    <tr>\n",
       "      <th>31980</th>\n",
       "      <td>540917834041</td>\n",
       "      <td>K81638</td>\n",
       "      <td>BURMA HILL PRACTICE</td>\n",
       "      <td>GP Practice</td>\n",
       "      <td>RG40 1PH</td>\n",
       "      <td>26.0</td>\n",
       "      <td>1.0</td>\n",
       "      <td>0.0</td>\n",
       "      <td>199.0</td>\n",
       "      <td>1.0</td>\n",
       "      <td>227.0</td>\n",
       "      <td>11.45</td>\n",
       "      <td>0.44</td>\n",
       "      <td>0.00</td>\n",
       "      <td>87.67</td>\n",
       "      <td>0.44</td>\n",
       "    </tr>\n",
       "  </tbody>\n",
       "</table>\n",
       "</div>"
      ],
      "text/plain": [
       "               ASID    NACS                     OrgName      OrgType  \\\n",
       "33038  615075629043  D82088          UEA MEDICAL CENTRE  GP Practice   \n",
       "33754  669024222046  P81002  LANCASTER MEDICAL PRACTICE  GP Practice   \n",
       "28125  260198413015  G82074                    BEARSTED  GP Practice   \n",
       "38052  994133653042  F86008   GANTS HILL MEDICAL CENTRE  GP Practice   \n",
       "31980  540917834041  K81638         BURMA HILL PRACTICE  GP Practice   \n",
       "\n",
       "       PostCode  FAILED  INTEGRATED  INTEGRATED LATE  PENDING  \\\n",
       "33038   NR4 7TJ   123.0        36.0             40.0    917.0   \n",
       "33754   LA1 1PN    47.0       755.0            815.0    442.0   \n",
       "28125  ME14 4DS    44.0        73.0              2.0    211.0   \n",
       "38052   IG2 6UP    16.0        10.0             19.0    201.0   \n",
       "31980  RG40 1PH    26.0         1.0              0.0    199.0   \n",
       "\n",
       "       PENDING_WITH_ERROR   TOTAL  FAILED %  INTEGRATED %  INTEGRATED LATE %  \\\n",
       "33038                 1.0  1117.0     11.01          3.22               3.58   \n",
       "33754                 1.0  2060.0      2.28         36.65              39.56   \n",
       "28125                 0.0   330.0     13.33         22.12               0.61   \n",
       "38052                 2.0   248.0      6.45          4.03               7.66   \n",
       "31980                 1.0   227.0     11.45          0.44               0.00   \n",
       "\n",
       "       PENDING %  PENDING_WITH_ERROR %  \n",
       "33038      82.09                  0.09  \n",
       "33754      21.46                  0.05  \n",
       "28125      63.94                  0.00  \n",
       "38052      81.05                  0.81  \n",
       "31980      87.67                  0.44  "
      ]
     },
     "execution_count": 21,
     "metadata": {},
     "output_type": "execute_result"
    }
   ],
   "source": [
    "practice_status_table=practice_status_table.sort_values(by='PENDING',ascending=False)\n",
    "full_practice_status_table=asid_lookup.merge(practice_status_table, left_on='ASID', right_index=True, how='right')\n",
    "full_practice_status_table=full_practice_status_table.drop(['MName','PName'],axis=1)\n",
    "full_practice_status_table.head()\n"
   ]
  },
  {
   "cell_type": "code",
   "execution_count": 22,
   "id": "f33d88ac",
   "metadata": {},
   "outputs": [],
   "source": [
    "def generate_gp_table(gp_asid): \n",
    "    gp_practice_transfers=transfers.loc[transfers['requesting_practice_asid']==gp_asid].copy()\n",
    "    gp_practice_transfers.loc[:,'Month']=gp_practice_transfers['date_requested'].copy().dt.to_period('M')\n",
    "\n",
    "    gp_totals=pd.pivot_table(gp_practice_transfers,index='Month',columns='status',values='conversation_id',aggfunc='count').fillna(0)\n",
    "    gp_percentages=pd.pivot_table(gp_practice_transfers,index='Month',columns='status',values='conversation_id',aggfunc='count').fillna(0).div(gp_practice_transfers['Month'].value_counts(),axis=0)\n",
    "    gp_percentages=(100*gp_percentages).round(2)\n",
    "    gp_percentages.columns='% '+gp_percentages.columns\n",
    "\n",
    "    return pd.concat([gp_totals, gp_percentages], axis=1)\n",
    "\n"
   ]
  },
  {
   "cell_type": "markdown",
   "id": "22cdcf3e",
   "metadata": {},
   "source": [
    "# Break down by user profile: \n",
    "\n",
    "## Ie is the issue related to a handful of practices or distributed?\n",
    "\n",
    "Consider for each practice, it's total number of transfers, it's outcomes \n",
    "\n",
    "- Rank practices by the total number of issues (eg Pending)\n",
    "- Break into quantiles based on number of issues\n",
    "- Identify what % of users and what % of total transfers each quantile represents"
   ]
  },
  {
   "cell_type": "code",
   "execution_count": 24,
   "id": "32594d3c",
   "metadata": {},
   "outputs": [
    {
     "data": {
      "text/html": [
       "<div>\n",
       "<style scoped>\n",
       "    .dataframe tbody tr th:only-of-type {\n",
       "        vertical-align: middle;\n",
       "    }\n",
       "\n",
       "    .dataframe tbody tr th {\n",
       "        vertical-align: top;\n",
       "    }\n",
       "\n",
       "    .dataframe thead th {\n",
       "        text-align: right;\n",
       "    }\n",
       "</style>\n",
       "<table border=\"1\" class=\"dataframe\">\n",
       "  <thead>\n",
       "    <tr style=\"text-align: right;\">\n",
       "      <th></th>\n",
       "      <th>Total Pending</th>\n",
       "      <th>Total Transfers</th>\n",
       "      <th>Total Practices</th>\n",
       "      <th>% Total Pending</th>\n",
       "      <th>% Total Transfers</th>\n",
       "      <th>% Total Practices</th>\n",
       "    </tr>\n",
       "    <tr>\n",
       "      <th>Quantile Group</th>\n",
       "      <th></th>\n",
       "      <th></th>\n",
       "      <th></th>\n",
       "      <th></th>\n",
       "      <th></th>\n",
       "      <th></th>\n",
       "    </tr>\n",
       "  </thead>\n",
       "  <tbody>\n",
       "    <tr>\n",
       "      <th>1.0</th>\n",
       "      <td>3186</td>\n",
       "      <td>10960</td>\n",
       "      <td>13</td>\n",
       "      <td>19.48</td>\n",
       "      <td>1.39</td>\n",
       "      <td>0.33</td>\n",
       "    </tr>\n",
       "    <tr>\n",
       "      <th>2.0</th>\n",
       "      <td>3352</td>\n",
       "      <td>11821</td>\n",
       "      <td>38</td>\n",
       "      <td>20.50</td>\n",
       "      <td>1.50</td>\n",
       "      <td>0.96</td>\n",
       "    </tr>\n",
       "    <tr>\n",
       "      <th>3.0</th>\n",
       "      <td>3263</td>\n",
       "      <td>18536</td>\n",
       "      <td>78</td>\n",
       "      <td>19.95</td>\n",
       "      <td>2.35</td>\n",
       "      <td>1.97</td>\n",
       "    </tr>\n",
       "    <tr>\n",
       "      <th>4.0</th>\n",
       "      <td>3281</td>\n",
       "      <td>71228</td>\n",
       "      <td>259</td>\n",
       "      <td>20.06</td>\n",
       "      <td>9.04</td>\n",
       "      <td>6.55</td>\n",
       "    </tr>\n",
       "    <tr>\n",
       "      <th>5.0</th>\n",
       "      <td>3271</td>\n",
       "      <td>675474</td>\n",
       "      <td>3567</td>\n",
       "      <td>20.00</td>\n",
       "      <td>85.72</td>\n",
       "      <td>90.19</td>\n",
       "    </tr>\n",
       "  </tbody>\n",
       "</table>\n",
       "</div>"
      ],
      "text/plain": [
       "                Total Pending  Total Transfers  Total Practices  \\\n",
       "Quantile Group                                                    \n",
       "1.0                      3186            10960               13   \n",
       "2.0                      3352            11821               38   \n",
       "3.0                      3263            18536               78   \n",
       "4.0                      3281            71228              259   \n",
       "5.0                      3271           675474             3567   \n",
       "\n",
       "                % Total Pending  % Total Transfers  % Total Practices  \n",
       "Quantile Group                                                         \n",
       "1.0                       19.48               1.39               0.33  \n",
       "2.0                       20.50               1.50               0.96  \n",
       "3.0                       19.95               2.35               1.97  \n",
       "4.0                       20.06               9.04               6.55  \n",
       "5.0                       20.00              85.72              90.19  "
      ]
     },
     "execution_count": 24,
     "metadata": {},
     "output_type": "execute_result"
    }
   ],
   "source": [
    "practice_profile_data=practice_status_table.copy()\n",
    "\n",
    "cumulative_percentage=practice_status_table['PENDING'].cumsum()/practice_status_table['PENDING'].sum()\n",
    "quantiles=5\n",
    "practice_profile_data['Quantile Group']=np.ceil(cumulative_percentage*quantiles)\n",
    "\n",
    "practice_profile_data=practice_profile_data.groupby('Quantile Group').agg({'PENDING':'sum','TOTAL':'sum','INTEGRATED':'count'}).astype(int)\n",
    "practice_profile_data=practice_profile_data.rename({'PENDING':'Total Pending','TOTAL':'Total Transfers','INTEGRATED':'Total Practices'},axis=1)\n",
    "\n",
    "practice_profile_data_percentages=(100*practice_profile_data/practice_profile_data.sum()).round(2)\n",
    "practice_profile_data_percentages.columns= \"% \" + practice_profile_data_percentages.columns\n",
    "\n",
    "practice_profile_table=pd.concat([practice_profile_data,practice_profile_data_percentages],axis=1)\n",
    "practice_profile_table"
   ]
  },
  {
   "cell_type": "code",
   "execution_count": 92,
   "id": "c7df6f97",
   "metadata": {},
   "outputs": [
    {
     "data": {
      "image/png": "[encoded data removed]",
      "text/plain": [
       "<Figure size 576x360 with 1 Axes>"
      ]
     },
     "metadata": {
      "needs_background": "light"
     },
     "output_type": "display_data"
    }
   ],
   "source": [
    "ax=practice_status_table['PENDING'].cumsum().reset_index(drop=True).plot(figsize=(8,5))\n",
    "ax.set_ylabel('Number of Pending without error Transfers')\n",
    "ax.set_xlabel('Number of GP Practices')\n",
    "ax.set_title('Cumulative graph of total pending transfers for GP Practices')\n",
    "plt.gcf().savefig('EMIS_EMIS_cumulative_pending_transfers.jpg')"
   ]
  },
  {
   "cell_type": "code",
   "execution_count": 91,
   "id": "a511d686",
   "metadata": {},
   "outputs": [
    {
     "data": {
      "image/png": "[encoded data removed]",
      "text/plain": [
       "<Figure size 504x504 with 1 Axes>"
      ]
     },
     "metadata": {},
     "output_type": "display_data"
    }
   ],
   "source": [
    "def make_autopct(values):\n",
    "    def my_autopct(pct):\n",
    "        total = sum(values)\n",
    "        val = int(round(pct*total/100.0))\n",
    "        return '{p:.2f}%  ({v:d})'.format(p=pct,v=val)\n",
    "    return my_autopct\n",
    "\n",
    "practices_by_total_pending=practice_status_table['PENDING'].value_counts()\n",
    "practices_by_total_pending.index=practices_by_total_pending.index.astype(int)\n",
    "\n",
    "\n",
    "reduced_df=practices_by_total_pending.head(3)\n",
    "reduced_df['3+']=practices_by_total_pending.tail(-3).sum()\n",
    "reduced_df.index=reduced_df.index.astype(str) + ' pending transfers'\n",
    "practices_by_total_pending=reduced_df\n",
    "\n",
    "#practices_by_total_pending.plot.pie(autopct=make_autopct(values))\n",
    "\n",
    "plt.pie(practices_by_total_pending.values, labels=practices_by_total_pending.index, autopct=make_autopct(practices_by_total_pending.values))\n",
    "plt.gcf().set_size_inches(7,7)\n",
    "plt.gca().set_title('Number of pending Transfers by % of GP Practices')\n",
    "#plt.show()\n",
    "plt.gcf().savefig('EMIS_EMIS_pie_number_pending_pc_practices.jpg')"
   ]
  },
  {
   "cell_type": "code",
   "execution_count": 79,
   "id": "d396513d",
   "metadata": {},
   "outputs": [
    {
     "data": {
      "text/plain": [
       "0     1796\n",
       "1      939\n",
       "2      438\n",
       "3+     782\n",
       "Name: PENDING, dtype: int64"
      ]
     },
     "execution_count": 79,
     "metadata": {},
     "output_type": "execute_result"
    }
   ],
   "source": []
  },
  {
   "cell_type": "markdown",
   "id": "a7cc2d2a",
   "metadata": {},
   "source": [
    "# Output to Excel"
   ]
  },
  {
   "cell_type": "code",
   "execution_count": 27,
   "id": "7e55f3df",
   "metadata": {},
   "outputs": [],
   "source": [
    "writer = pd.ExcelWriter('prmt-1984-emis-emis-practice-level-statuses.xlsx', engine='xlsxwriter')\n",
    "\n",
    "practice_profile_table.to_excel(writer, sheet_name='Breakdown')\n",
    "full_practice_status_table.to_excel(writer, sheet_name='Overview')\n",
    "\n",
    "asid_of_interest=full_practice_status_table.head(10)['ASID'].values\n",
    "[generate_gp_table(gp_asid).to_excel(writer,sheet_name=gp_asid) for gp_asid in asid_of_interest] \n",
    "\n",
    "writer.save()"
   ]
  },
  {
   "cell_type": "code",
   "execution_count": null,
   "id": "786c4773",
   "metadata": {},
   "outputs": [],
   "source": []
  },
  {
   "cell_type": "code",
   "execution_count": null,
   "id": "f3abba32",
   "metadata": {},
   "outputs": [],
   "source": []
  },
  {
   "cell_type": "code",
   "execution_count": null,
   "id": "54970576",
   "metadata": {},
   "outputs": [],
   "source": []
  }
 ],
 "metadata": {
  "kernelspec": {
   "display_name": "conda_python3",
   "language": "python",
   "name": "conda_python3"
  },
  "language_info": {
   "codemirror_mode": {
    "name": "ipython",
    "version": 3
   },
   "file_extension": ".py",
   "mimetype": "text/x-python",
   "name": "python",
   "nbconvert_exporter": "python",
   "pygments_lexer": "ipython3",
   "version": "3.6.13"
  }
 },
 "nbformat": 4,
 "nbformat_minor": 5
}
