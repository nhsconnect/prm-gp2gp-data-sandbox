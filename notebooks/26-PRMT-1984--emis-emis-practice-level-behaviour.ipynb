{
 "cells": [
  {
   "cell_type": "markdown",
   "id": "essential-newark",
   "metadata": {},
   "source": [
    "# PRMT-1984 [HYPOTHESIS] The spread of EMIS-EMIS pending (without error) transfers is even"
   ]
  },
  {
   "cell_type": "markdown",
   "id": "suburban-monthly",
   "metadata": {},
   "source": [
    "NB: Could this be extended to Integrated Late??\n",
    "\n",
    "### Hypothesis\n",
    "We believe that EMIS-EMIS pending transfers are spread evenly across practices\n",
    "We will know this to be true when we see in the data that for these transfers, they are consistently spread cross the majority of practices rather than clustered in a smaller group of practices\n",
    "\n",
    " \n",
    "\n",
    "### Subsequent questions (later hypotheses)\n",
    "\n",
    "If transfers are in a cluster of smaller practices, what do the integrations look like for those practices? I.e. are they bad at integration and therefore makes sense that they have poor pending?"
   ]
  },
  {
   "cell_type": "code",
   "execution_count": 1,
   "id": "lonely-family",
   "metadata": {},
   "outputs": [],
   "source": [
    "import pandas as pd\n",
    "import numpy as np"
   ]
  },
  {
   "cell_type": "code",
   "execution_count": 2,
   "id": "dirty-portland",
   "metadata": {},
   "outputs": [],
   "source": [
    "transfer_file_location = \"s3://prm-gp2gp-data-sandbox-dev/transfers-duplicates-hypothesis/\"\n",
    "transfer_files = [\n",
    "    \"9-2020-transfers.parquet\",\n",
    "    \"10-2020-transfers.parquet\",\n",
    "    \"11-2020-transfers.parquet\",\n",
    "    \"12-2020-transfers.parquet\",\n",
    "    \"1-2021-transfers.parquet\",\n",
    "    \"2-2021-transfers.parquet\"\n",
    "]\n",
    "transfer_input_files = [transfer_file_location + f for f in transfer_files]\n",
    "transfers_raw = pd.concat((\n",
    "    pd.read_parquet(f)\n",
    "    for f in transfer_input_files\n",
    "))\n",
    "# This is only needed when using transfers-duplicates-hypothesis datasets\n",
    "transfers_raw = transfers_raw.drop([\"sending_supplier\", \"requesting_supplier\"], axis=1)"
   ]
  },
  {
   "cell_type": "code",
   "execution_count": 3,
   "id": "duplicate-pharmacology",
   "metadata": {},
   "outputs": [],
   "source": [
    "asid_lookup_file = \"s3://prm-gp2gp-data-sandbox-dev/asid-lookup/asidLookup-Mar-2021.csv.gz\"\n",
    "asid_lookup = pd.read_csv(asid_lookup_file)"
   ]
  },
  {
   "cell_type": "code",
   "execution_count": 4,
   "id": "recent-reunion",
   "metadata": {},
   "outputs": [
    {
     "data": {
      "text/html": [
       "<div>\n",
       "<style scoped>\n",
       "    .dataframe tbody tr th:only-of-type {\n",
       "        vertical-align: middle;\n",
       "    }\n",
       "\n",
       "    .dataframe tbody tr th {\n",
       "        vertical-align: top;\n",
       "    }\n",
       "\n",
       "    .dataframe thead th {\n",
       "        text-align: right;\n",
       "    }\n",
       "</style>\n",
       "<table border=\"1\" class=\"dataframe\">\n",
       "  <thead>\n",
       "    <tr style=\"text-align: right;\">\n",
       "      <th></th>\n",
       "      <th>ASID</th>\n",
       "      <th>NACS</th>\n",
       "      <th>OrgName</th>\n",
       "      <th>MName</th>\n",
       "      <th>PName</th>\n",
       "      <th>OrgType</th>\n",
       "      <th>PostCode</th>\n",
       "    </tr>\n",
       "  </thead>\n",
       "  <tbody>\n",
       "    <tr>\n",
       "      <th>28125</th>\n",
       "      <td>260198413015</td>\n",
       "      <td>G82074</td>\n",
       "      <td>BEARSTED</td>\n",
       "      <td>EGTON MEDICAL INFORMATION SYSTEMS LTD (EMIS)</td>\n",
       "      <td>EMIS Web</td>\n",
       "      <td>GP Practice</td>\n",
       "      <td>ME14 4DS</td>\n",
       "    </tr>\n",
       "  </tbody>\n",
       "</table>\n",
       "</div>"
      ],
      "text/plain": [
       "               ASID    NACS   OrgName  \\\n",
       "28125  260198413015  G82074  BEARSTED   \n",
       "\n",
       "                                              MName     PName      OrgType  \\\n",
       "28125  EGTON MEDICAL INFORMATION SYSTEMS LTD (EMIS)  EMIS Web  GP Practice   \n",
       "\n",
       "       PostCode  \n",
       "28125  ME14 4DS  "
      ]
     },
     "execution_count": 4,
     "metadata": {},
     "output_type": "execute_result"
    }
   ],
   "source": [
    "asid_lookup.loc[asid_lookup['ASID']=='260198413015']"
   ]
  },
  {
   "cell_type": "code",
   "execution_count": 5,
   "id": "animal-overview",
   "metadata": {},
   "outputs": [],
   "source": [
    "# Given the findings in PRMT-1742 - many duplicate EHR errors are misclassified, the below reclassifies the relevant data\n",
    "successful_transfers_bool = transfers_raw['request_completed_ack_codes'].apply(lambda x: True in [(np.isnan(i) or i==15) for i in x])\n",
    "transfers = transfers_raw.copy()\n",
    "transfers.loc[successful_transfers_bool, \"status\"] = \"INTEGRATED\""
   ]
  },
  {
   "cell_type": "code",
   "execution_count": 6,
   "id": "liberal-despite",
   "metadata": {},
   "outputs": [],
   "source": [
    "pending_sender_error_codes=[6,7,10,24,30,23,14,99]\n",
    "transfers_with_pending_sender_code_bool=transfers['sender_error_code'].isin(pending_sender_error_codes)\n",
    "transfers_with_pending_with_error_bool=transfers['status']=='PENDING_WITH_ERROR'\n",
    "transfers_which_need_pending_to_failure_change_bool=transfers_with_pending_sender_code_bool & transfers_with_pending_with_error_bool\n",
    "transfers.loc[transfers_which_need_pending_to_failure_change_bool,'status']='FAILED'"
   ]
  },
  {
   "cell_type": "code",
   "execution_count": 7,
   "id": "junior-philosophy",
   "metadata": {},
   "outputs": [],
   "source": [
    "eight_days_in_seconds=8*24*60*60\n",
    "transfers_after_sla_bool=transfers['sla_duration']>eight_days_in_seconds\n",
    "transfers_with_integrated_bool=transfers['status']=='INTEGRATED'\n",
    "transfers_integrated_late_bool=transfers_after_sla_bool & transfers_with_integrated_bool\n",
    "transfers.loc[transfers_integrated_late_bool,'status']='INTEGRATED LATE'"
   ]
  },
  {
   "cell_type": "code",
   "execution_count": 8,
   "id": "secondary-grant",
   "metadata": {},
   "outputs": [],
   "source": [
    "# Supplier name mapping\n",
    "supplier_renaming = {\n",
    "    \"EGTON MEDICAL INFORMATION SYSTEMS LTD (EMIS)\":\"EMIS\",\n",
    "    \"IN PRACTICE SYSTEMS LTD\":\"Vision\",\n",
    "    \"MICROTEST LTD\":\"Microtest\",\n",
    "    \"THE PHOENIX PARTNERSHIP\":\"TPP\",\n",
    "    None: \"Unknown\"\n",
    "}\n",
    "\n",
    "lookup = asid_lookup[[\"ASID\", \"MName\", \"NACS\"]]\n",
    "\n",
    "transfers = transfers.merge(lookup, left_on='requesting_practice_asid',right_on='ASID',how='left').drop(\"NACS\", axis=1)\n",
    "transfers = transfers.rename({'MName': 'requesting_supplier', 'ASID': 'requesting_supplier_asid'}, axis=1)\n",
    "transfers = transfers.merge(lookup, left_on='sending_practice_asid',right_on='ASID',how='left')\n",
    "transfers = transfers.rename({'MName': 'sending_supplier', 'ASID': 'sending_supplier_asid', 'NACS': 'sending_ods_code'}, axis=1)\n",
    "\n",
    "transfers[\"sending_supplier\"] = transfers[\"sending_supplier\"].replace(supplier_renaming.keys(), supplier_renaming.values())\n",
    "transfers[\"requesting_supplier\"] = transfers[\"requesting_supplier\"].replace(supplier_renaming.keys(), supplier_renaming.values())"
   ]
  },
  {
   "cell_type": "markdown",
   "id": "aerial-drove",
   "metadata": {},
   "source": [
    "### Select just relevant data: EMIS-EMIS"
   ]
  },
  {
   "cell_type": "code",
   "execution_count": 9,
   "id": "breathing-health",
   "metadata": {},
   "outputs": [],
   "source": [
    "both_suppliers_EMIS_bool=(transfers['requesting_supplier']=='EMIS') & (transfers['sending_supplier']=='EMIS')\n",
    "\n",
    "relevant_transfers=transfers.loc[both_suppliers_EMIS_bool]"
   ]
  },
  {
   "cell_type": "markdown",
   "id": "acquired-sheriff",
   "metadata": {},
   "source": [
    "### Pivot table of practice vs status volumes"
   ]
  },
  {
   "cell_type": "code",
   "execution_count": 10,
   "id": "careful-ozone",
   "metadata": {},
   "outputs": [],
   "source": [
    "practice_status_table=pd.pivot_table(relevant_transfers,index='requesting_practice_asid',columns='status',values='conversation_id',aggfunc='count').fillna(0)\n",
    "practice_status_table['TOTAL']=practice_status_table.sum(axis=1)\n",
    "practice_status_pc=100*practice_status_table.div(practice_status_table['TOTAL'],axis=0).drop('TOTAL',axis=1)\n",
    "practice_status_pc.columns=practice_status_pc.columns + \" %\"\n",
    "practice_status_table=pd.concat([practice_status_table,practice_status_pc],axis=1)"
   ]
  },
  {
   "cell_type": "code",
   "execution_count": 11,
   "id": "supported-lodge",
   "metadata": {},
   "outputs": [
    {
     "data": {
      "text/plain": [
       "0.1     0.000000\n",
       "0.2     0.000000\n",
       "0.3     0.000000\n",
       "0.4     0.000000\n",
       "0.5     0.196078\n",
       "0.6     0.480769\n",
       "0.7     0.735294\n",
       "0.8     1.123596\n",
       "0.9     2.272727\n",
       "1.0    96.250000\n",
       "Name: PENDING %, dtype: float64"
      ]
     },
     "execution_count": 11,
     "metadata": {},
     "output_type": "execute_result"
    },
    {
     "data": {
      "image/png": "[encoded data removed]",
      "text/plain": [
       "<Figure size 432x288 with 1 Axes>"
      ]
     },
     "metadata": {
      "needs_background": "light"
     },
     "output_type": "display_data"
    }
   ],
   "source": [
    "practice_status_table['PENDING %'].plot.hist()\n",
    "practice_status_table['PENDING %'].quantile(np.arange(0.1, 1.1, 0.1))"
   ]
  },
  {
   "cell_type": "code",
   "execution_count": 12,
   "id": "attached-priest",
   "metadata": {},
   "outputs": [
    {
     "data": {
      "text/plain": [
       "<AxesSubplot:xlabel='TOTAL', ylabel='PENDING %'>"
      ]
     },
     "execution_count": 12,
     "metadata": {},
     "output_type": "execute_result"
    },
    {
     "data": {
      "image/png": "[encoded data removed]",
      "text/plain": [
       "<Figure size 432x288 with 1 Axes>"
      ]
     },
     "metadata": {
      "needs_background": "light"
     },
     "output_type": "display_data"
    }
   ],
   "source": [
    "practice_status_table.plot.scatter(x='TOTAL',y='PENDING %')"
   ]
  },
  {
   "cell_type": "code",
   "execution_count": 13,
   "id": "recreational-harbor",
   "metadata": {},
   "outputs": [
    {
     "data": {
      "text/plain": [
       "<AxesSubplot:xlabel='TOTAL', ylabel='PENDING %'>"
      ]
     },
     "execution_count": 13,
     "metadata": {},
     "output_type": "execute_result"
    },
    {
     "data": {
      "image/png": "[encoded data removed]",
      "text/plain": [
       "<Figure size 432x288 with 1 Axes>"
      ]
     },
     "metadata": {
      "needs_background": "light"
     },
     "output_type": "display_data"
    }
   ],
   "source": [
    "practice_status_table.plot.scatter(x='TOTAL',y='PENDING %',xlim=[0,1000])"
   ]
  },
  {
   "cell_type": "code",
   "execution_count": 14,
   "id": "terminal-adoption",
   "metadata": {},
   "outputs": [
    {
     "data": {
      "text/plain": [
       "<AxesSubplot:xlabel='PENDING %', ylabel='INTEGRATED LATE %'>"
      ]
     },
     "execution_count": 14,
     "metadata": {},
     "output_type": "execute_result"
    },
    {
     "data": {
      "image/png": "[encoded data removed]",
      "text/plain": [
       "<Figure size 432x288 with 1 Axes>"
      ]
     },
     "metadata": {
      "needs_background": "light"
     },
     "output_type": "display_data"
    }
   ],
   "source": [
    "practice_status_table.plot.scatter(x='PENDING %',y='INTEGRATED LATE %',xlim=[0,0.1])"
   ]
  },
  {
   "cell_type": "code",
   "execution_count": 15,
   "id": "harmful-pharmacy",
   "metadata": {},
   "outputs": [
    {
     "data": {
      "text/html": [
       "<div>\n",
       "<style scoped>\n",
       "    .dataframe tbody tr th:only-of-type {\n",
       "        vertical-align: middle;\n",
       "    }\n",
       "\n",
       "    .dataframe tbody tr th {\n",
       "        vertical-align: top;\n",
       "    }\n",
       "\n",
       "    .dataframe thead th {\n",
       "        text-align: right;\n",
       "    }\n",
       "</style>\n",
       "<table border=\"1\" class=\"dataframe\">\n",
       "  <thead>\n",
       "    <tr style=\"text-align: right;\">\n",
       "      <th>status</th>\n",
       "      <th>FAILED %</th>\n",
       "      <th>INTEGRATED %</th>\n",
       "      <th>INTEGRATED LATE %</th>\n",
       "      <th>PENDING %</th>\n",
       "      <th>PENDING_WITH_ERROR %</th>\n",
       "    </tr>\n",
       "    <tr>\n",
       "      <th>status</th>\n",
       "      <th></th>\n",
       "      <th></th>\n",
       "      <th></th>\n",
       "      <th></th>\n",
       "      <th></th>\n",
       "    </tr>\n",
       "  </thead>\n",
       "  <tbody>\n",
       "    <tr>\n",
       "      <th>FAILED %</th>\n",
       "      <td>1.000000</td>\n",
       "      <td>-0.408097</td>\n",
       "      <td>0.089774</td>\n",
       "      <td>0.380024</td>\n",
       "      <td>-0.000528</td>\n",
       "    </tr>\n",
       "    <tr>\n",
       "      <th>INTEGRATED %</th>\n",
       "      <td>-0.408097</td>\n",
       "      <td>1.000000</td>\n",
       "      <td>-0.813560</td>\n",
       "      <td>-0.703807</td>\n",
       "      <td>-0.089285</td>\n",
       "    </tr>\n",
       "    <tr>\n",
       "      <th>INTEGRATED LATE %</th>\n",
       "      <td>0.089774</td>\n",
       "      <td>-0.813560</td>\n",
       "      <td>1.000000</td>\n",
       "      <td>0.193205</td>\n",
       "      <td>-0.006813</td>\n",
       "    </tr>\n",
       "    <tr>\n",
       "      <th>PENDING %</th>\n",
       "      <td>0.380024</td>\n",
       "      <td>-0.703807</td>\n",
       "      <td>0.193205</td>\n",
       "      <td>1.000000</td>\n",
       "      <td>0.006569</td>\n",
       "    </tr>\n",
       "    <tr>\n",
       "      <th>PENDING_WITH_ERROR %</th>\n",
       "      <td>-0.000528</td>\n",
       "      <td>-0.089285</td>\n",
       "      <td>-0.006813</td>\n",
       "      <td>0.006569</td>\n",
       "      <td>1.000000</td>\n",
       "    </tr>\n",
       "  </tbody>\n",
       "</table>\n",
       "</div>"
      ],
      "text/plain": [
       "status                FAILED %  INTEGRATED %  INTEGRATED LATE %  PENDING %  \\\n",
       "status                                                                       \n",
       "FAILED %              1.000000     -0.408097           0.089774   0.380024   \n",
       "INTEGRATED %         -0.408097      1.000000          -0.813560  -0.703807   \n",
       "INTEGRATED LATE %     0.089774     -0.813560           1.000000   0.193205   \n",
       "PENDING %             0.380024     -0.703807           0.193205   1.000000   \n",
       "PENDING_WITH_ERROR % -0.000528     -0.089285          -0.006813   0.006569   \n",
       "\n",
       "status                PENDING_WITH_ERROR %  \n",
       "status                                      \n",
       "FAILED %                         -0.000528  \n",
       "INTEGRATED %                     -0.089285  \n",
       "INTEGRATED LATE %                -0.006813  \n",
       "PENDING %                         0.006569  \n",
       "PENDING_WITH_ERROR %              1.000000  "
      ]
     },
     "execution_count": 15,
     "metadata": {},
     "output_type": "execute_result"
    }
   ],
   "source": [
    "practice_status_table[[\"FAILED %\",\"INTEGRATED %\",\"INTEGRATED LATE %\",\"PENDING %\",\"PENDING_WITH_ERROR %\"]].corr()"
   ]
  },
  {
   "cell_type": "code",
   "execution_count": 16,
   "id": "choice-exhaust",
   "metadata": {},
   "outputs": [
    {
     "data": {
      "text/plain": [
       "<AxesSubplot:xlabel='PENDING %', ylabel='FAILED %'>"
      ]
     },
     "execution_count": 16,
     "metadata": {},
     "output_type": "execute_result"
    },
    {
     "data": {
      "image/png": "[encoded data removed]",
      "text/plain": [
       "<Figure size 432x288 with 1 Axes>"
      ]
     },
     "metadata": {
      "needs_background": "light"
     },
     "output_type": "display_data"
    }
   ],
   "source": [
    "practice_status_table.plot.scatter(x='PENDING %',y='FAILED %',ylim=[0,0.2])"
   ]
  },
  {
   "cell_type": "code",
   "execution_count": 17,
   "id": "western-nutrition",
   "metadata": {},
   "outputs": [
    {
     "data": {
      "text/plain": [
       "<AxesSubplot:xlabel='TOTAL', ylabel='PENDING'>"
      ]
     },
     "execution_count": 17,
     "metadata": {},
     "output_type": "execute_result"
    },
    {
     "data": {
      "image/png": "[encoded data removed]",
      "text/plain": [
       "<Figure size 432x288 with 1 Axes>"
      ]
     },
     "metadata": {
      "needs_background": "light"
     },
     "output_type": "display_data"
    }
   ],
   "source": [
    "practice_status_table.plot.scatter(x='TOTAL',y='PENDING')"
   ]
  },
  {
   "cell_type": "code",
   "execution_count": 18,
   "id": "unlimited-flavor",
   "metadata": {},
   "outputs": [
    {
     "data": {
      "text/html": [
       "<div>\n",
       "<style scoped>\n",
       "    .dataframe tbody tr th:only-of-type {\n",
       "        vertical-align: middle;\n",
       "    }\n",
       "\n",
       "    .dataframe tbody tr th {\n",
       "        vertical-align: top;\n",
       "    }\n",
       "\n",
       "    .dataframe thead th {\n",
       "        text-align: right;\n",
       "    }\n",
       "</style>\n",
       "<table border=\"1\" class=\"dataframe\">\n",
       "  <thead>\n",
       "    <tr style=\"text-align: right;\">\n",
       "      <th>status</th>\n",
       "      <th>FAILED</th>\n",
       "      <th>INTEGRATED</th>\n",
       "      <th>INTEGRATED LATE</th>\n",
       "      <th>PENDING</th>\n",
       "      <th>PENDING_WITH_ERROR</th>\n",
       "      <th>TOTAL</th>\n",
       "      <th>FAILED %</th>\n",
       "      <th>INTEGRATED %</th>\n",
       "      <th>INTEGRATED LATE %</th>\n",
       "      <th>PENDING %</th>\n",
       "      <th>PENDING_WITH_ERROR %</th>\n",
       "    </tr>\n",
       "    <tr>\n",
       "      <th>status</th>\n",
       "      <th></th>\n",
       "      <th></th>\n",
       "      <th></th>\n",
       "      <th></th>\n",
       "      <th></th>\n",
       "      <th></th>\n",
       "      <th></th>\n",
       "      <th></th>\n",
       "      <th></th>\n",
       "      <th></th>\n",
       "      <th></th>\n",
       "    </tr>\n",
       "  </thead>\n",
       "  <tbody>\n",
       "    <tr>\n",
       "      <th>FAILED</th>\n",
       "      <td>1.000000</td>\n",
       "      <td>0.312707</td>\n",
       "      <td>0.588573</td>\n",
       "      <td>0.401717</td>\n",
       "      <td>0.298665</td>\n",
       "      <td>0.486602</td>\n",
       "      <td>0.320502</td>\n",
       "      <td>-0.167849</td>\n",
       "      <td>0.062875</td>\n",
       "      <td>0.148646</td>\n",
       "      <td>-0.006586</td>\n",
       "    </tr>\n",
       "    <tr>\n",
       "      <th>INTEGRATED</th>\n",
       "      <td>0.312707</td>\n",
       "      <td>1.000000</td>\n",
       "      <td>0.131090</td>\n",
       "      <td>0.010344</td>\n",
       "      <td>0.598428</td>\n",
       "      <td>0.960091</td>\n",
       "      <td>-0.059751</td>\n",
       "      <td>0.201425</td>\n",
       "      <td>-0.177385</td>\n",
       "      <td>-0.129491</td>\n",
       "      <td>-0.019849</td>\n",
       "    </tr>\n",
       "    <tr>\n",
       "      <th>INTEGRATED LATE</th>\n",
       "      <td>0.588573</td>\n",
       "      <td>0.131090</td>\n",
       "      <td>1.000000</td>\n",
       "      <td>0.144810</td>\n",
       "      <td>0.256682</td>\n",
       "      <td>0.390589</td>\n",
       "      <td>0.038380</td>\n",
       "      <td>-0.274922</td>\n",
       "      <td>0.356691</td>\n",
       "      <td>0.037299</td>\n",
       "      <td>-0.003561</td>\n",
       "    </tr>\n",
       "    <tr>\n",
       "      <th>PENDING</th>\n",
       "      <td>0.401717</td>\n",
       "      <td>0.010344</td>\n",
       "      <td>0.144810</td>\n",
       "      <td>1.000000</td>\n",
       "      <td>0.057123</td>\n",
       "      <td>0.128827</td>\n",
       "      <td>0.203901</td>\n",
       "      <td>-0.377898</td>\n",
       "      <td>0.117077</td>\n",
       "      <td>0.519150</td>\n",
       "      <td>0.000549</td>\n",
       "    </tr>\n",
       "    <tr>\n",
       "      <th>PENDING_WITH_ERROR</th>\n",
       "      <td>0.298665</td>\n",
       "      <td>0.598428</td>\n",
       "      <td>0.256682</td>\n",
       "      <td>0.057123</td>\n",
       "      <td>1.000000</td>\n",
       "      <td>0.626996</td>\n",
       "      <td>-0.011571</td>\n",
       "      <td>0.026047</td>\n",
       "      <td>-0.035607</td>\n",
       "      <td>-0.030770</td>\n",
       "      <td>0.180590</td>\n",
       "    </tr>\n",
       "    <tr>\n",
       "      <th>TOTAL</th>\n",
       "      <td>0.486602</td>\n",
       "      <td>0.960091</td>\n",
       "      <td>0.390589</td>\n",
       "      <td>0.128827</td>\n",
       "      <td>0.626996</td>\n",
       "      <td>1.000000</td>\n",
       "      <td>-0.022230</td>\n",
       "      <td>0.085756</td>\n",
       "      <td>-0.065706</td>\n",
       "      <td>-0.067798</td>\n",
       "      <td>-0.018520</td>\n",
       "    </tr>\n",
       "    <tr>\n",
       "      <th>FAILED %</th>\n",
       "      <td>0.320502</td>\n",
       "      <td>-0.059751</td>\n",
       "      <td>0.038380</td>\n",
       "      <td>0.203901</td>\n",
       "      <td>-0.011571</td>\n",
       "      <td>-0.022230</td>\n",
       "      <td>1.000000</td>\n",
       "      <td>-0.408097</td>\n",
       "      <td>0.089774</td>\n",
       "      <td>0.380024</td>\n",
       "      <td>-0.000528</td>\n",
       "    </tr>\n",
       "    <tr>\n",
       "      <th>INTEGRATED %</th>\n",
       "      <td>-0.167849</td>\n",
       "      <td>0.201425</td>\n",
       "      <td>-0.274922</td>\n",
       "      <td>-0.377898</td>\n",
       "      <td>0.026047</td>\n",
       "      <td>0.085756</td>\n",
       "      <td>-0.408097</td>\n",
       "      <td>1.000000</td>\n",
       "      <td>-0.813560</td>\n",
       "      <td>-0.703807</td>\n",
       "      <td>-0.089285</td>\n",
       "    </tr>\n",
       "    <tr>\n",
       "      <th>INTEGRATED LATE %</th>\n",
       "      <td>0.062875</td>\n",
       "      <td>-0.177385</td>\n",
       "      <td>0.356691</td>\n",
       "      <td>0.117077</td>\n",
       "      <td>-0.035607</td>\n",
       "      <td>-0.065706</td>\n",
       "      <td>0.089774</td>\n",
       "      <td>-0.813560</td>\n",
       "      <td>1.000000</td>\n",
       "      <td>0.193205</td>\n",
       "      <td>-0.006813</td>\n",
       "    </tr>\n",
       "    <tr>\n",
       "      <th>PENDING %</th>\n",
       "      <td>0.148646</td>\n",
       "      <td>-0.129491</td>\n",
       "      <td>0.037299</td>\n",
       "      <td>0.519150</td>\n",
       "      <td>-0.030770</td>\n",
       "      <td>-0.067798</td>\n",
       "      <td>0.380024</td>\n",
       "      <td>-0.703807</td>\n",
       "      <td>0.193205</td>\n",
       "      <td>1.000000</td>\n",
       "      <td>0.006569</td>\n",
       "    </tr>\n",
       "    <tr>\n",
       "      <th>PENDING_WITH_ERROR %</th>\n",
       "      <td>-0.006586</td>\n",
       "      <td>-0.019849</td>\n",
       "      <td>-0.003561</td>\n",
       "      <td>0.000549</td>\n",
       "      <td>0.180590</td>\n",
       "      <td>-0.018520</td>\n",
       "      <td>-0.000528</td>\n",
       "      <td>-0.089285</td>\n",
       "      <td>-0.006813</td>\n",
       "      <td>0.006569</td>\n",
       "      <td>1.000000</td>\n",
       "    </tr>\n",
       "  </tbody>\n",
       "</table>\n",
       "</div>"
      ],
      "text/plain": [
       "status                  FAILED  INTEGRATED  INTEGRATED LATE   PENDING  \\\n",
       "status                                                                  \n",
       "FAILED                1.000000    0.312707         0.588573  0.401717   \n",
       "INTEGRATED            0.312707    1.000000         0.131090  0.010344   \n",
       "INTEGRATED LATE       0.588573    0.131090         1.000000  0.144810   \n",
       "PENDING               0.401717    0.010344         0.144810  1.000000   \n",
       "PENDING_WITH_ERROR    0.298665    0.598428         0.256682  0.057123   \n",
       "TOTAL                 0.486602    0.960091         0.390589  0.128827   \n",
       "FAILED %              0.320502   -0.059751         0.038380  0.203901   \n",
       "INTEGRATED %         -0.167849    0.201425        -0.274922 -0.377898   \n",
       "INTEGRATED LATE %     0.062875   -0.177385         0.356691  0.117077   \n",
       "PENDING %             0.148646   -0.129491         0.037299  0.519150   \n",
       "PENDING_WITH_ERROR % -0.006586   -0.019849        -0.003561  0.000549   \n",
       "\n",
       "status                PENDING_WITH_ERROR     TOTAL  FAILED %  INTEGRATED %  \\\n",
       "status                                                                       \n",
       "FAILED                          0.298665  0.486602  0.320502     -0.167849   \n",
       "INTEGRATED                      0.598428  0.960091 -0.059751      0.201425   \n",
       "INTEGRATED LATE                 0.256682  0.390589  0.038380     -0.274922   \n",
       "PENDING                         0.057123  0.128827  0.203901     -0.377898   \n",
       "PENDING_WITH_ERROR              1.000000  0.626996 -0.011571      0.026047   \n",
       "TOTAL                           0.626996  1.000000 -0.022230      0.085756   \n",
       "FAILED %                       -0.011571 -0.022230  1.000000     -0.408097   \n",
       "INTEGRATED %                    0.026047  0.085756 -0.408097      1.000000   \n",
       "INTEGRATED LATE %              -0.035607 -0.065706  0.089774     -0.813560   \n",
       "PENDING %                      -0.030770 -0.067798  0.380024     -0.703807   \n",
       "PENDING_WITH_ERROR %            0.180590 -0.018520 -0.000528     -0.089285   \n",
       "\n",
       "status                INTEGRATED LATE %  PENDING %  PENDING_WITH_ERROR %  \n",
       "status                                                                    \n",
       "FAILED                         0.062875   0.148646             -0.006586  \n",
       "INTEGRATED                    -0.177385  -0.129491             -0.019849  \n",
       "INTEGRATED LATE                0.356691   0.037299             -0.003561  \n",
       "PENDING                        0.117077   0.519150              0.000549  \n",
       "PENDING_WITH_ERROR            -0.035607  -0.030770              0.180590  \n",
       "TOTAL                         -0.065706  -0.067798             -0.018520  \n",
       "FAILED %                       0.089774   0.380024             -0.000528  \n",
       "INTEGRATED %                  -0.813560  -0.703807             -0.089285  \n",
       "INTEGRATED LATE %              1.000000   0.193205             -0.006813  \n",
       "PENDING %                      0.193205   1.000000              0.006569  \n",
       "PENDING_WITH_ERROR %          -0.006813   0.006569              1.000000  "
      ]
     },
     "execution_count": 18,
     "metadata": {},
     "output_type": "execute_result"
    }
   ],
   "source": [
    "practice_status_table.corr()"
   ]
  },
  {
   "cell_type": "code",
   "execution_count": 19,
   "id": "finnish-matrix",
   "metadata": {},
   "outputs": [
    {
     "data": {
      "text/plain": [
       "0.0748771810943588"
      ]
     },
     "execution_count": 19,
     "metadata": {},
     "output_type": "execute_result"
    }
   ],
   "source": [
    "practice_status_table['PENDING'].max()/practice_status_table['PENDING'].sum()"
   ]
  },
  {
   "cell_type": "code",
   "execution_count": 41,
   "id": "legitimate-slovak",
   "metadata": {},
   "outputs": [
    {
     "data": {
      "text/html": [
       "<div>\n",
       "<style scoped>\n",
       "    .dataframe tbody tr th:only-of-type {\n",
       "        vertical-align: middle;\n",
       "    }\n",
       "\n",
       "    .dataframe tbody tr th {\n",
       "        vertical-align: top;\n",
       "    }\n",
       "\n",
       "    .dataframe thead th {\n",
       "        text-align: right;\n",
       "    }\n",
       "</style>\n",
       "<table border=\"1\" class=\"dataframe\">\n",
       "  <thead>\n",
       "    <tr style=\"text-align: right;\">\n",
       "      <th></th>\n",
       "      <th>ASID</th>\n",
       "      <th>NACS</th>\n",
       "      <th>OrgName</th>\n",
       "      <th>OrgType</th>\n",
       "      <th>PostCode</th>\n",
       "      <th>FAILED</th>\n",
       "      <th>INTEGRATED</th>\n",
       "      <th>INTEGRATED LATE</th>\n",
       "      <th>PENDING</th>\n",
       "      <th>PENDING_WITH_ERROR</th>\n",
       "      <th>TOTAL</th>\n",
       "      <th>FAILED %</th>\n",
       "      <th>INTEGRATED %</th>\n",
       "      <th>INTEGRATED LATE %</th>\n",
       "      <th>PENDING %</th>\n",
       "      <th>PENDING_WITH_ERROR %</th>\n",
       "    </tr>\n",
       "  </thead>\n",
       "  <tbody>\n",
       "    <tr>\n",
       "      <th>33038</th>\n",
       "      <td>615075629043</td>\n",
       "      <td>D82088</td>\n",
       "      <td>UEA MEDICAL CENTRE</td>\n",
       "      <td>GP Practice</td>\n",
       "      <td>NR4 7TJ</td>\n",
       "      <td>123.0</td>\n",
       "      <td>36.0</td>\n",
       "      <td>73.0</td>\n",
       "      <td>884.0</td>\n",
       "      <td>1.0</td>\n",
       "      <td>1117.0</td>\n",
       "      <td>11.011638</td>\n",
       "      <td>3.222919</td>\n",
       "      <td>6.535363</td>\n",
       "      <td>79.140555</td>\n",
       "      <td>0.089526</td>\n",
       "    </tr>\n",
       "    <tr>\n",
       "      <th>33754</th>\n",
       "      <td>669024222046</td>\n",
       "      <td>P81002</td>\n",
       "      <td>LANCASTER MEDICAL PRACTICE</td>\n",
       "      <td>GP Practice</td>\n",
       "      <td>LA1 1PN</td>\n",
       "      <td>47.0</td>\n",
       "      <td>755.0</td>\n",
       "      <td>1013.0</td>\n",
       "      <td>244.0</td>\n",
       "      <td>1.0</td>\n",
       "      <td>2060.0</td>\n",
       "      <td>2.281553</td>\n",
       "      <td>36.650485</td>\n",
       "      <td>49.174757</td>\n",
       "      <td>11.844660</td>\n",
       "      <td>0.048544</td>\n",
       "    </tr>\n",
       "    <tr>\n",
       "      <th>28125</th>\n",
       "      <td>260198413015</td>\n",
       "      <td>G82074</td>\n",
       "      <td>BEARSTED</td>\n",
       "      <td>GP Practice</td>\n",
       "      <td>ME14 4DS</td>\n",
       "      <td>44.0</td>\n",
       "      <td>73.0</td>\n",
       "      <td>2.0</td>\n",
       "      <td>211.0</td>\n",
       "      <td>0.0</td>\n",
       "      <td>330.0</td>\n",
       "      <td>13.333333</td>\n",
       "      <td>22.121212</td>\n",
       "      <td>0.606061</td>\n",
       "      <td>63.939394</td>\n",
       "      <td>0.000000</td>\n",
       "    </tr>\n",
       "    <tr>\n",
       "      <th>31980</th>\n",
       "      <td>540917834041</td>\n",
       "      <td>K81638</td>\n",
       "      <td>BURMA HILL PRACTICE</td>\n",
       "      <td>GP Practice</td>\n",
       "      <td>RG40 1PH</td>\n",
       "      <td>26.0</td>\n",
       "      <td>1.0</td>\n",
       "      <td>2.0</td>\n",
       "      <td>197.0</td>\n",
       "      <td>1.0</td>\n",
       "      <td>227.0</td>\n",
       "      <td>11.453744</td>\n",
       "      <td>0.440529</td>\n",
       "      <td>0.881057</td>\n",
       "      <td>86.784141</td>\n",
       "      <td>0.440529</td>\n",
       "    </tr>\n",
       "    <tr>\n",
       "      <th>36076</th>\n",
       "      <td>847520267018</td>\n",
       "      <td>G85023</td>\n",
       "      <td>LEWISHAM MEDICAL CENTRE</td>\n",
       "      <td>GP Practice</td>\n",
       "      <td>SE13 5PJ</td>\n",
       "      <td>9.0</td>\n",
       "      <td>487.0</td>\n",
       "      <td>0.0</td>\n",
       "      <td>166.0</td>\n",
       "      <td>0.0</td>\n",
       "      <td>662.0</td>\n",
       "      <td>1.359517</td>\n",
       "      <td>73.564955</td>\n",
       "      <td>0.000000</td>\n",
       "      <td>25.075529</td>\n",
       "      <td>0.000000</td>\n",
       "    </tr>\n",
       "  </tbody>\n",
       "</table>\n",
       "</div>"
      ],
      "text/plain": [
       "               ASID    NACS                     OrgName      OrgType  \\\n",
       "33038  615075629043  D82088          UEA MEDICAL CENTRE  GP Practice   \n",
       "33754  669024222046  P81002  LANCASTER MEDICAL PRACTICE  GP Practice   \n",
       "28125  260198413015  G82074                    BEARSTED  GP Practice   \n",
       "31980  540917834041  K81638         BURMA HILL PRACTICE  GP Practice   \n",
       "36076  847520267018  G85023     LEWISHAM MEDICAL CENTRE  GP Practice   \n",
       "\n",
       "       PostCode  FAILED  INTEGRATED  INTEGRATED LATE  PENDING  \\\n",
       "33038   NR4 7TJ   123.0        36.0             73.0    884.0   \n",
       "33754   LA1 1PN    47.0       755.0           1013.0    244.0   \n",
       "28125  ME14 4DS    44.0        73.0              2.0    211.0   \n",
       "31980  RG40 1PH    26.0         1.0              2.0    197.0   \n",
       "36076  SE13 5PJ     9.0       487.0              0.0    166.0   \n",
       "\n",
       "       PENDING_WITH_ERROR   TOTAL   FAILED %  INTEGRATED %  INTEGRATED LATE %  \\\n",
       "33038                 1.0  1117.0  11.011638      3.222919           6.535363   \n",
       "33754                 1.0  2060.0   2.281553     36.650485          49.174757   \n",
       "28125                 0.0   330.0  13.333333     22.121212           0.606061   \n",
       "31980                 1.0   227.0  11.453744      0.440529           0.881057   \n",
       "36076                 0.0   662.0   1.359517     73.564955           0.000000   \n",
       "\n",
       "       PENDING %  PENDING_WITH_ERROR %  \n",
       "33038  79.140555              0.089526  \n",
       "33754  11.844660              0.048544  \n",
       "28125  63.939394              0.000000  \n",
       "31980  86.784141              0.440529  \n",
       "36076  25.075529              0.000000  "
      ]
     },
     "execution_count": 41,
     "metadata": {},
     "output_type": "execute_result"
    }
   ],
   "source": [
    "practice_status_table=practice_status_table.sort_values(by='PENDING',ascending=False)\n",
    "full_practice_status_table=asid_lookup.merge(practice_status_table, left_on='ASID', right_index=True, how='right')\n",
    "full_practice_status_table=full_practice_status_table.drop(['MName','PName'],axis=1)\n",
    "full_practice_status_table.head()\n"
   ]
  },
  {
   "cell_type": "code",
   "execution_count": 52,
   "id": "flexible-seven",
   "metadata": {},
   "outputs": [],
   "source": [
    "def generate_gp_table(gp_asid): \n",
    "    gp_practice_transfers=transfers.loc[transfers['requesting_practice_asid']==gp_asid]\n",
    "    gp_practice_transfers['Month']=gp_practice_transfers['date_requested'].dt.to_period('M')\n",
    "\n",
    "    gp_totals=pd.pivot_table(gp_practice_transfers,index='Month',columns='status',values='conversation_id',aggfunc='count').fillna(0)\n",
    "    gp_percentages=pd.pivot_table(gp_practice_transfers,index='Month',columns='status',values='conversation_id',aggfunc='count').fillna(0).div(gp_practice_transfers['Month'].value_counts(),axis=0)\n",
    "    gp_percentages=(100*gp_percentages).round(2)\n",
    "    gp_percentages.columns='% '+gp_percentages.columns\n",
    "\n",
    "    return pd.concat([gp_totals, gp_percentages], axis=1)\n",
    "\n"
   ]
  },
  {
   "cell_type": "code",
   "execution_count": 58,
   "id": "thick-harbor",
   "metadata": {},
   "outputs": [
    {
     "name": "stderr",
     "output_type": "stream",
     "text": [
      "/home/ec2-user/anaconda3/envs/python3/lib/python3.6/site-packages/ipykernel/__main__.py:3: SettingWithCopyWarning: \n",
      "A value is trying to be set on a copy of a slice from a DataFrame.\n",
      "Try using .loc[row_indexer,col_indexer] = value instead\n",
      "\n",
      "See the caveats in the documentation: https://pandas.pydata.org/pandas-docs/stable/user_guide/indexing.html#returning-a-view-versus-a-copy\n",
      "  app.launch_new_instance()\n",
      "/home/ec2-user/anaconda3/envs/python3/lib/python3.6/site-packages/ipykernel/__main__.py:3: SettingWithCopyWarning: \n",
      "A value is trying to be set on a copy of a slice from a DataFrame.\n",
      "Try using .loc[row_indexer,col_indexer] = value instead\n",
      "\n",
      "See the caveats in the documentation: https://pandas.pydata.org/pandas-docs/stable/user_guide/indexing.html#returning-a-view-versus-a-copy\n",
      "  app.launch_new_instance()\n",
      "/home/ec2-user/anaconda3/envs/python3/lib/python3.6/site-packages/ipykernel/__main__.py:3: SettingWithCopyWarning: \n",
      "A value is trying to be set on a copy of a slice from a DataFrame.\n",
      "Try using .loc[row_indexer,col_indexer] = value instead\n",
      "\n",
      "See the caveats in the documentation: https://pandas.pydata.org/pandas-docs/stable/user_guide/indexing.html#returning-a-view-versus-a-copy\n",
      "  app.launch_new_instance()\n",
      "/home/ec2-user/anaconda3/envs/python3/lib/python3.6/site-packages/ipykernel/__main__.py:3: SettingWithCopyWarning: \n",
      "A value is trying to be set on a copy of a slice from a DataFrame.\n",
      "Try using .loc[row_indexer,col_indexer] = value instead\n",
      "\n",
      "See the caveats in the documentation: https://pandas.pydata.org/pandas-docs/stable/user_guide/indexing.html#returning-a-view-versus-a-copy\n",
      "  app.launch_new_instance()\n",
      "/home/ec2-user/anaconda3/envs/python3/lib/python3.6/site-packages/ipykernel/__main__.py:3: SettingWithCopyWarning: \n",
      "A value is trying to be set on a copy of a slice from a DataFrame.\n",
      "Try using .loc[row_indexer,col_indexer] = value instead\n",
      "\n",
      "See the caveats in the documentation: https://pandas.pydata.org/pandas-docs/stable/user_guide/indexing.html#returning-a-view-versus-a-copy\n",
      "  app.launch_new_instance()\n",
      "/home/ec2-user/anaconda3/envs/python3/lib/python3.6/site-packages/ipykernel/__main__.py:3: SettingWithCopyWarning: \n",
      "A value is trying to be set on a copy of a slice from a DataFrame.\n",
      "Try using .loc[row_indexer,col_indexer] = value instead\n",
      "\n",
      "See the caveats in the documentation: https://pandas.pydata.org/pandas-docs/stable/user_guide/indexing.html#returning-a-view-versus-a-copy\n",
      "  app.launch_new_instance()\n",
      "/home/ec2-user/anaconda3/envs/python3/lib/python3.6/site-packages/ipykernel/__main__.py:3: SettingWithCopyWarning: \n",
      "A value is trying to be set on a copy of a slice from a DataFrame.\n",
      "Try using .loc[row_indexer,col_indexer] = value instead\n",
      "\n",
      "See the caveats in the documentation: https://pandas.pydata.org/pandas-docs/stable/user_guide/indexing.html#returning-a-view-versus-a-copy\n",
      "  app.launch_new_instance()\n",
      "/home/ec2-user/anaconda3/envs/python3/lib/python3.6/site-packages/ipykernel/__main__.py:3: SettingWithCopyWarning: \n",
      "A value is trying to be set on a copy of a slice from a DataFrame.\n",
      "Try using .loc[row_indexer,col_indexer] = value instead\n",
      "\n",
      "See the caveats in the documentation: https://pandas.pydata.org/pandas-docs/stable/user_guide/indexing.html#returning-a-view-versus-a-copy\n",
      "  app.launch_new_instance()\n",
      "/home/ec2-user/anaconda3/envs/python3/lib/python3.6/site-packages/ipykernel/__main__.py:3: SettingWithCopyWarning: \n",
      "A value is trying to be set on a copy of a slice from a DataFrame.\n",
      "Try using .loc[row_indexer,col_indexer] = value instead\n",
      "\n",
      "See the caveats in the documentation: https://pandas.pydata.org/pandas-docs/stable/user_guide/indexing.html#returning-a-view-versus-a-copy\n",
      "  app.launch_new_instance()\n",
      "/home/ec2-user/anaconda3/envs/python3/lib/python3.6/site-packages/ipykernel/__main__.py:3: SettingWithCopyWarning: \n",
      "A value is trying to be set on a copy of a slice from a DataFrame.\n",
      "Try using .loc[row_indexer,col_indexer] = value instead\n",
      "\n",
      "See the caveats in the documentation: https://pandas.pydata.org/pandas-docs/stable/user_guide/indexing.html#returning-a-view-versus-a-copy\n",
      "  app.launch_new_instance()\n"
     ]
    }
   ],
   "source": [
    "\n",
    "writer = pd.ExcelWriter('prmt-1984-emis-emis-practice-level-statuses.xlsx', engine='xlsxwriter')\n",
    "\n",
    "asid_of_interest=full_practice_status_table.head(10)['ASID'].values\n",
    "full_practice_status_table.to_excel(writer, sheet_name='overview')\n",
    "asid_of_interest.stream()\n",
    "[generate_gp_table(gp_asid).to_excel(writer,sheet_name=gp_asid) for gp_asid in asid_of_interest] \n",
    "writer.save()\n",
    "# generate_gp_table('669024222046')"
   ]
  },
  {
   "cell_type": "code",
   "execution_count": 46,
   "id": "designing-lindsay",
   "metadata": {},
   "outputs": [
    {
     "data": {
      "text/html": [
       "<div>\n",
       "<style scoped>\n",
       "    .dataframe tbody tr th:only-of-type {\n",
       "        vertical-align: middle;\n",
       "    }\n",
       "\n",
       "    .dataframe tbody tr th {\n",
       "        vertical-align: top;\n",
       "    }\n",
       "\n",
       "    .dataframe thead th {\n",
       "        text-align: right;\n",
       "    }\n",
       "</style>\n",
       "<table border=\"1\" class=\"dataframe\">\n",
       "  <thead>\n",
       "    <tr style=\"text-align: right;\">\n",
       "      <th>status</th>\n",
       "      <th>% FAILED</th>\n",
       "      <th>% INTEGRATED</th>\n",
       "      <th>% INTEGRATED LATE</th>\n",
       "      <th>% PENDING</th>\n",
       "      <th>% PENDING_WITH_ERROR</th>\n",
       "    </tr>\n",
       "  </thead>\n",
       "  <tbody>\n",
       "    <tr>\n",
       "      <th>2020-09</th>\n",
       "      <td>1.97</td>\n",
       "      <td>44.08</td>\n",
       "      <td>50.45</td>\n",
       "      <td>3.50</td>\n",
       "      <td>0.00</td>\n",
       "    </tr>\n",
       "    <tr>\n",
       "      <th>2020-10</th>\n",
       "      <td>1.53</td>\n",
       "      <td>35.44</td>\n",
       "      <td>61.11</td>\n",
       "      <td>1.92</td>\n",
       "      <td>0.00</td>\n",
       "    </tr>\n",
       "    <tr>\n",
       "      <th>2020-11</th>\n",
       "      <td>3.06</td>\n",
       "      <td>16.33</td>\n",
       "      <td>63.95</td>\n",
       "      <td>16.33</td>\n",
       "      <td>0.34</td>\n",
       "    </tr>\n",
       "    <tr>\n",
       "      <th>2020-12</th>\n",
       "      <td>3.77</td>\n",
       "      <td>20.13</td>\n",
       "      <td>26.42</td>\n",
       "      <td>49.69</td>\n",
       "      <td>0.00</td>\n",
       "    </tr>\n",
       "    <tr>\n",
       "      <th>2021-01</th>\n",
       "      <td>10.34</td>\n",
       "      <td>16.67</td>\n",
       "      <td>29.31</td>\n",
       "      <td>43.68</td>\n",
       "      <td>0.00</td>\n",
       "    </tr>\n",
       "    <tr>\n",
       "      <th>2021-02</th>\n",
       "      <td>10.50</td>\n",
       "      <td>20.00</td>\n",
       "      <td>25.50</td>\n",
       "      <td>44.00</td>\n",
       "      <td>0.00</td>\n",
       "    </tr>\n",
       "  </tbody>\n",
       "</table>\n",
       "</div>"
      ],
      "text/plain": [
       "status   % FAILED  % INTEGRATED  % INTEGRATED LATE  % PENDING  \\\n",
       "2020-09      1.97         44.08              50.45       3.50   \n",
       "2020-10      1.53         35.44              61.11       1.92   \n",
       "2020-11      3.06         16.33              63.95      16.33   \n",
       "2020-12      3.77         20.13              26.42      49.69   \n",
       "2021-01     10.34         16.67              29.31      43.68   \n",
       "2021-02     10.50         20.00              25.50      44.00   \n",
       "\n",
       "status   % PENDING_WITH_ERROR  \n",
       "2020-09                  0.00  \n",
       "2020-10                  0.00  \n",
       "2020-11                  0.34  \n",
       "2020-12                  0.00  \n",
       "2021-01                  0.00  \n",
       "2021-02                  0.00  "
      ]
     },
     "execution_count": 46,
     "metadata": {},
     "output_type": "execute_result"
    }
   ],
   "source": []
  },
  {
   "cell_type": "code",
   "execution_count": null,
   "id": "sought-internship",
   "metadata": {},
   "outputs": [],
   "source": []
  }
 ],
 "metadata": {
  "kernelspec": {
   "display_name": "conda_python3",
   "language": "python",
   "name": "conda_python3"
  },
  "language_info": {
   "codemirror_mode": {
    "name": "ipython",
    "version": 3
   },
   "file_extension": ".py",
   "mimetype": "text/x-python",
   "name": "python",
   "nbconvert_exporter": "python",
   "pygments_lexer": "ipython3",
   "version": "3.6.13"
  }
 },
 "nbformat": 4,
 "nbformat_minor": 5
}
