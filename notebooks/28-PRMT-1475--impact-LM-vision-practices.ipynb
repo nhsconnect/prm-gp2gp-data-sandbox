{
 "cells": [
  {
   "cell_type": "markdown",
   "id": "realistic-messenger",
   "metadata": {},
   "source": [
    "# Observe other vision practices that have moved to large messaging in Spine\n",
    "\n",
    "On the 23rd March 2021, three more Vision practices enabled large messaging for GP2GP. We want to look at our Spine data for these practices to identify how their failure rates have changed since moving to large messaging. \n",
    "\n",
    "### Scope\n",
    "\n",
    "Analyse spine data for the following three practices, for transfers both in and out:\n",
    "\n",
    "Went live with large messaging from: 23.03.21 - 12.16pm \n",
    "\n",
    "User ID | Practice Code | Practice Name\n",
    "\n",
    "#668 | M89019 | Hobs Moat Medical Centre\n",
    "\n",
    "#33018 | M82010 | Drayton Medical Centre\n",
    "\n",
    "#857 | H84023 | Essex House Surgery\n",
    "\n",
    "- Document the technical success rate of their transfers for three months prior to 23.03\n",
    "- Document a high level breakdown of reasons for failures for this time period.\n",
    "- Document the technical success rate of their transfers since 23.03. \n",
    "- Document a high level breakdown of reasons for this time period\n",
    "\n",
    " \n",
    "### Acceptance Criteria\n",
    "- We are able to compare the technical success rate for these two practices before and after enabling attachments, and communicate to stakeholders how much their failure rates have changed. \n",
    "- We are able to tell the Vision team the reasons for some transfers still failing since moving to Large messaging"
   ]
  },
  {
   "cell_type": "code",
   "execution_count": 14,
   "id": "assured-globe",
   "metadata": {},
   "outputs": [],
   "source": [
    "from datetime import datetime\n",
    "practice_codes=[\"M89019\",\"M82010\",\"H84023\"]\n",
    "time_of_switch=datetime(year=2021, month=3, day=23, hour=12, minute=16)"
   ]
  },
  {
   "cell_type": "code",
   "execution_count": 6,
   "id": "medieval-agent",
   "metadata": {},
   "outputs": [],
   "source": [
    "import pandas as pd\n",
    "import numpy as np\n",
    "\n",
    "transfer_file_location = \"s3://prm-gp2gp-data-sandbox-dev/transfers-duplicates-hypothesis/\"\n",
    "transfer_files = [\n",
    "    \"9-2020-transfers.parquet\",\n",
    "    \"10-2020-transfers.parquet\",\n",
    "    \"11-2020-transfers.parquet\",\n",
    "    \"12-2020-transfers.parquet\",\n",
    "    \"1-2021-transfers.parquet\",\n",
    "    \"2-2021-transfers.parquet\"\n",
    "]\n",
    "transfer_input_files = [transfer_file_location + f for f in transfer_files]\n",
    "transfers_raw = pd.concat((\n",
    "    pd.read_parquet(f)\n",
    "    for f in transfer_input_files\n",
    "))\n",
    "# This is only needed when using transfers-duplicates-hypothesis datasets\n",
    "transfers_raw = transfers_raw.drop([\"sending_supplier\", \"requesting_supplier\"], axis=1)\n",
    "\n",
    "\n",
    "\n",
    "\n",
    "# Given the findings in PRMT-1742 - many duplicate EHR errors are misclassified, the below reclassifies the relevant data\n",
    "successful_transfers_bool = transfers_raw['request_completed_ack_codes'].apply(lambda x: True in [(np.isnan(i) or i==15) for i in x])\n",
    "transfers = transfers_raw.copy()\n",
    "transfers.loc[successful_transfers_bool, \"status\"] = \"INTEGRATED\"\n",
    "\n",
    "# Pending (Sender Error) Code\n",
    "pending_sender_error_codes=[6,7,10,24,30,23,14,99]\n",
    "transfers_with_pending_sender_code_bool=transfers['sender_error_code'].isin(pending_sender_error_codes)\n",
    "transfers_with_pending_with_error_bool=transfers['status']=='PENDING_WITH_ERROR'\n",
    "transfers_which_need_pending_to_failure_change_bool=transfers_with_pending_sender_code_bool & transfers_with_pending_with_error_bool\n",
    "transfers.loc[transfers_which_need_pending_to_failure_change_bool,'status']='FAILED'\n",
    "\n",
    "# Add integrated Late status\n",
    "eight_days_in_seconds=8*24*60*60\n",
    "transfers_after_sla_bool=transfers['sla_duration']>eight_days_in_seconds\n",
    "transfers_with_integrated_bool=transfers['status']=='INTEGRATED'\n",
    "transfers_integrated_late_bool=transfers_after_sla_bool & transfers_with_integrated_bool\n",
    "transfers.loc[transfers_integrated_late_bool,'status']='INTEGRATED LATE'\n",
    "\n",
    "\n",
    "# Supplier name mapping\n",
    "supplier_renaming = {\n",
    "    \"EGTON MEDICAL INFORMATION SYSTEMS LTD (EMIS)\":\"EMIS\",\n",
    "    \"IN PRACTICE SYSTEMS LTD\":\"Vision\",\n",
    "    \"MICROTEST LTD\":\"Microtest\",\n",
    "    \"THE PHOENIX PARTNERSHIP\":\"TPP\",\n",
    "    None: \"Unknown\"\n",
    "}\n",
    "\n",
    "asid_lookup_file = \"s3://prm-gp2gp-data-sandbox-dev/asid-lookup/asidLookup-Mar-2021.csv.gz\"\n",
    "asid_lookup = pd.read_csv(asid_lookup_file)\n",
    "lookup = asid_lookup[[\"ASID\", \"MName\", \"NACS\",\"OrgName\"]]\n",
    "\n",
    "transfers = transfers.merge(lookup, left_on='requesting_practice_asid',right_on='ASID',how='left')\n",
    "transfers = transfers.rename({'MName': 'requesting_supplier', 'ASID': 'requesting_supplier_asid', 'NACS': 'requesting_ods_code'}, axis=1)\n",
    "transfers = transfers.merge(lookup, left_on='sending_practice_asid',right_on='ASID',how='left')\n",
    "transfers = transfers.rename({'MName': 'sending_supplier', 'ASID': 'sending_supplier_asid', 'NACS': 'sending_ods_code'}, axis=1)\n",
    "\n",
    "transfers[\"sending_supplier\"] = transfers[\"sending_supplier\"].replace(supplier_renaming.keys(), supplier_renaming.values())\n",
    "transfers[\"requesting_supplier\"] = transfers[\"requesting_supplier\"].replace(supplier_renaming.keys(), supplier_renaming.values())"
   ]
  },
  {
   "cell_type": "markdown",
   "id": "chinese-snapshot",
   "metadata": {},
   "source": [
    "### Extract the data relevant to the practices in question"
   ]
  },
  {
   "cell_type": "code",
   "execution_count": 12,
   "id": "serious-junction",
   "metadata": {},
   "outputs": [],
   "source": [
    "requesting_transfers_bool=transfers[\"requesting_ods_code\"].isin(practice_codes)\n",
    "requesting_transfers=transfers.loc[requesting_transfers_bool].copy()\n",
    "requesting_transfers['ods_code']=requesting_transfers['requesting_ods_code']\n",
    "requesting_transfers['transfer type']='Requesting'\n",
    "\n",
    "sending_transfers_bool=transfers[\"sending_ods_code\"].isin(practice_codes)\n",
    "sending_transfers=transfers.loc[sending_transfers_bool].copy()\n",
    "sending_transfers['ods_code']=sending_transfers['sending_ods_code']\n",
    "sending_transfers['transfer type']='Sending'\n",
    "\n",
    "relevant_transfers=pd.concat([requesting_transfers,sending_transfers],axis=0)"
   ]
  },
  {
   "cell_type": "code",
   "execution_count": 18,
   "id": "assisted-contact",
   "metadata": {},
   "outputs": [
    {
     "data": {
      "text/plain": [
       "2187"
      ]
     },
     "execution_count": 18,
     "metadata": {},
     "output_type": "execute_result"
    }
   ],
   "source": [
    "relevant_transfers['Large Messaging']=relevant_transfers['date_requested']>time_of_switch\n"
   ]
  },
  {
   "cell_type": "code",
   "execution_count": null,
   "id": "protective-diary",
   "metadata": {},
   "outputs": [],
   "source": []
  }
 ],
 "metadata": {
  "kernelspec": {
   "display_name": "conda_python3",
   "language": "python",
   "name": "conda_python3"
  },
  "language_info": {
   "codemirror_mode": {
    "name": "ipython",
    "version": 3
   },
   "file_extension": ".py",
   "mimetype": "text/x-python",
   "name": "python",
   "nbconvert_exporter": "python",
   "pygments_lexer": "ipython3",
   "version": "3.6.13"
  }
 },
 "nbformat": 4,
 "nbformat_minor": 5
}
