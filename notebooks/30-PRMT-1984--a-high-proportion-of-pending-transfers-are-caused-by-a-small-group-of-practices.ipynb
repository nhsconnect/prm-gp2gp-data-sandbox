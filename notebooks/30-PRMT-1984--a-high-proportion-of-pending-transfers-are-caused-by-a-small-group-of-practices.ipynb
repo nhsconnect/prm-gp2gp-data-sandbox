{
 "cells": [
  {
   "cell_type": "markdown",
   "id": "c101e000",
   "metadata": {},
   "source": [
    "# PRMT-1984 [HYPOTHESIS] A high proportion of pending transfers are caused by a small group of practices"
   ]
  },
  {
   "cell_type": "markdown",
   "id": "1dc68aee",
   "metadata": {},
   "source": [
    "### Hypothesis\n",
    "We believe that a large proportion of pending transfers are caused by a small group of practices receiving, regardless of the sending supplier. \n",
    "\n",
    "We will know this to be true when we can see that the same practices causing a high number of EMIS-EMIS pending transfers are the same as those causing TPP-EMIS or Vision-EMIS, (and the same would occur for each supplier as a receiver)"
   ]
  },
  {
   "cell_type": "markdown",
   "id": "3c761037",
   "metadata": {},
   "source": [
    "# Import and setup Data"
   ]
  },
  {
   "cell_type": "markdown",
   "id": "2eb83b59",
   "metadata": {},
   "source": [
    "import pandas as pd\n",
    "import numpy as np\n",
    "\n",
    "transfer_file_location = \"s3://prm-gp2gp-data-sandbox-dev/transfers-duplicates-hypothesis/\"\n",
    "transfer_files = [\n",
    "    \"9-2020-transfers.parquet\",\n",
    "    \"10-2020-transfers.parquet\",\n",
    "    \"11-2020-transfers.parquet\",\n",
    "    \"12-2020-transfers.parquet\",\n",
    "    \"1-2021-transfers.parquet\",\n",
    "    \"2-2021-transfers.parquet\"\n",
    "]\n",
    "transfer_input_files = [transfer_file_location + f for f in transfer_files]\n",
    "transfers_raw = pd.concat((\n",
    "    pd.read_parquet(f)\n",
    "    for f in transfer_input_files\n",
    "))\n",
    "# This is only needed when using transfers-duplicates-hypothesis datasets\n",
    "transfers_raw = transfers_raw.drop([\"sending_supplier\", \"requesting_supplier\"], axis=1)\n",
    "\n",
    "\n",
    "# Given the findings in PRMT-1742 - many duplicate EHR errors are misclassified, the below reclassifies the relevant data\n",
    "successful_transfers_bool = transfers_raw['request_completed_ack_codes'].apply(lambda x: True in [(np.isnan(i) or i==15) for i in x])\n",
    "transfers = transfers_raw.copy()\n",
    "transfers.loc[successful_transfers_bool, \"status\"] = \"INTEGRATED\"\n",
    "\n",
    "# Pending (Sender Error) Code\n",
    "pending_sender_error_codes=[6,7,10,24,30,23,14,99]\n",
    "transfers_with_pending_sender_code_bool=transfers['sender_error_code'].isin(pending_sender_error_codes)\n",
    "transfers_with_pending_with_error_bool=transfers['status']=='PENDING_WITH_ERROR'\n",
    "transfers_which_need_pending_to_failure_change_bool=transfers_with_pending_sender_code_bool & transfers_with_pending_with_error_bool\n",
    "transfers.loc[transfers_which_need_pending_to_failure_change_bool,'status']='FAILED'\n",
    "\n",
    "# Add integrated Late status\n",
    "eight_days_in_seconds=8*24*60*60\n",
    "transfers_after_sla_bool=transfers['sla_duration']>eight_days_in_seconds\n",
    "transfers_with_integrated_bool=transfers['status']=='INTEGRATED'\n",
    "transfers_integrated_late_bool=transfers_after_sla_bool & transfers_with_integrated_bool\n",
    "transfers.loc[transfers_integrated_late_bool,'status']='INTEGRATED LATE'\n",
    "\n",
    "twenty_eight_days_in_seconds=28*24*60*60\n",
    "transfers_after_month_bool=transfers['sla_duration']>twenty_eight_days_in_seconds\n",
    "transfers_pending_at_month_bool=transfers_after_month_bool & transfers_integrated_late_bool\n",
    "transfers.loc[transfers_pending_at_month_bool,'status']='PENDING'\n",
    "transfers_with_early_error_bool=(~transfers.loc[:,'sender_error_code'].isna()) |(~transfers.loc[:,'intermediate_error_codes'].apply(len)>0)\n",
    "transfers.loc[transfers_with_early_error_bool & transfers_pending_at_month_bool,'status']='PENDING_WITH_ERROR'\n",
    "\n",
    "# Supplier name mapping\n",
    "supplier_renaming = {\n",
    "    \"EGTON MEDICAL INFORMATION SYSTEMS LTD (EMIS)\":\"EMIS\",\n",
    "    \"IN PRACTICE SYSTEMS LTD\":\"Vision\",\n",
    "    \"MICROTEST LTD\":\"Microtest\",\n",
    "    \"THE PHOENIX PARTNERSHIP\":\"TPP\",\n",
    "    None: \"Unknown\"\n",
    "}\n",
    "\n",
    "asid_lookup_file = \"s3://prm-gp2gp-data-sandbox-dev/asid-lookup/asidLookup-Mar-2021.csv.gz\"\n",
    "asid_lookup = pd.read_csv(asid_lookup_file)\n",
    "lookup = asid_lookup[[\"ASID\", \"MName\", \"NACS\",\"OrgName\"]]\n",
    "\n",
    "transfers = transfers.merge(lookup, left_on='requesting_practice_asid',right_on='ASID',how='left')\n",
    "transfers = transfers.rename({'MName': 'requesting_supplier', 'ASID': 'requesting_supplier_asid', 'NACS': 'requesting_ods_code'}, axis=1)\n",
    "transfers = transfers.merge(lookup, left_on='sending_practice_asid',right_on='ASID',how='left')\n",
    "transfers = transfers.rename({'MName': 'sending_supplier', 'ASID': 'sending_supplier_asid', 'NACS': 'sending_ods_code'}, axis=1)\n",
    "\n",
    "transfers[\"sending_supplier\"] = transfers[\"sending_supplier\"].replace(supplier_renaming.keys(), supplier_renaming.values())\n",
    "transfers[\"requesting_supplier\"] = transfers[\"requesting_supplier\"].replace(supplier_renaming.keys(), supplier_renaming.values())"
   ]
  },
  {
   "cell_type": "code",
   "execution_count": null,
   "id": "7467dc77",
   "metadata": {},
   "outputs": [],
   "source": [
    "import pandas as pd \n",
    "import numpy as np\n",
    "# Using data generated from branch PRMT-1742-duplicates-analysis.\n",
    "# This is needed to correctly handle duplicates.\n",
    "# Once the upstream pipeline has a fix for duplicate EHRs, then we can go back to using the main output.\n",
    "transfer_file_location = \"s3://prm-gp2gp-data-sandbox-dev/transfers-duplicates-hypothesis/\"\n",
    "transfer_files = [\n",
    "    \"9-2020-transfers.parquet\",\n",
    "    \"10-2020-transfers.parquet\",\n",
    "    \"11-2020-transfers.parquet\",\n",
    "    \"12-2020-transfers.parquet\",\n",
    "    \"1-2021-transfers.parquet\",\n",
    "    \"2-2021-transfers.parquet\"\n",
    "]\n",
    "\n",
    "transfer_input_files = [transfer_file_location + f for f in transfer_files]\n",
    "transfers_raw = pd.concat((\n",
    "    pd.read_parquet(f)\n",
    "    for f in transfer_input_files\n",
    "))\n",
    "\n",
    "# In the data from the PRMT-1742-duplicates-analysis branch, these columns have been added , but contain only empty values.\n",
    "transfers_raw = transfers_raw.drop([\"sending_supplier\", \"requesting_supplier\"], axis=1)\n",
    "\n",
    "\n",
    "# Given the findings in PRMT-1742 - many duplicate EHR errors are misclassified, the below reclassifies the relevant data\n",
    "\n",
    "has_at_least_one_successful_integration_code = lambda errors: any((np.isnan(e) or e==15 for e in errors))\n",
    "successful_transfers_bool = transfers_raw['request_completed_ack_codes'].apply(has_at_least_one_successful_integration_code)\n",
    "transfers = transfers_raw.copy()\n",
    "transfers.loc[successful_transfers_bool, \"status\"] = \"INTEGRATED\"\n",
    "\n",
    "# Correctly interpret certail sender errors as failed.\n",
    "# This is explained in PRMT-1974. Eventaully this will be fixed upstream in the pipeline. \n",
    "pending_sender_error_codes=[6,7,10,24,30,23,14,99]\n",
    "transfers_with_pending_sender_code_bool=transfers['sender_error_code'].isin(pending_sender_error_codes)\n",
    "transfers_with_pending_with_error_bool=transfers['status']=='PENDING_WITH_ERROR'\n",
    "transfers_which_need_pending_to_failure_change_bool=transfers_with_pending_sender_code_bool & transfers_with_pending_with_error_bool\n",
    "transfers.loc[transfers_which_need_pending_to_failure_change_bool,'status']='FAILED'\n",
    "\n",
    "# Add integrated Late status\n",
    "eight_days_in_seconds=8*24*60*60\n",
    "transfers_after_sla_bool=transfers['sla_duration']>eight_days_in_seconds\n",
    "transfers_with_integrated_bool=transfers['status']=='INTEGRATED'\n",
    "transfers_integrated_late_bool=transfers_after_sla_bool & transfers_with_integrated_bool\n",
    "transfers.loc[transfers_integrated_late_bool,'status']='INTEGRATED LATE'\n",
    "\n",
    "# If the record integrated after 28 days, change the status back to pending.\n",
    "# This is to handle each month consistentently and to always reflect a transfers status 28 days after it was made.\n",
    "# TBD how this is handled upstream in the pipeline\n",
    "twenty_eight_days_in_seconds=28*24*60*60\n",
    "transfers_after_month_bool=transfers['sla_duration']>twenty_eight_days_in_seconds\n",
    "transfers_pending_at_month_bool=transfers_after_month_bool & transfers_integrated_late_bool\n",
    "transfers.loc[transfers_pending_at_month_bool,'status']='PENDING'\n",
    "transfers_with_early_error_bool=(~transfers.loc[:,'sender_error_code'].isna()) |(~transfers.loc[:,'intermediate_error_codes'].apply(len)>0)\n",
    "transfers.loc[transfers_with_early_error_bool & transfers_pending_at_month_bool,'status']='PENDING_WITH_ERROR'\n",
    "\n",
    "# Supplier name mapping\n",
    "supplier_renaming = {\n",
    "    \"EGTON MEDICAL INFORMATION SYSTEMS LTD (EMIS)\":\"EMIS\",\n",
    "    \"IN PRACTICE SYSTEMS LTD\":\"Vision\",\n",
    "    \"MICROTEST LTD\":\"Microtest\",\n",
    "    \"THE PHOENIX PARTNERSHIP\":\"TPP\",\n",
    "    None: \"Unknown\"\n",
    "}\n",
    "\n",
    "asid_lookup_file = \"s3://prm-gp2gp-data-sandbox-dev/asid-lookup/asidLookup-Mar-2021.csv.gz\"\n",
    "asid_lookup = pd.read_csv(asid_lookup_file)\n",
    "lookup = asid_lookup[[\"ASID\", \"MName\", \"NACS\",\"OrgName\"]]\n",
    "\n",
    "transfers = transfers.merge(lookup, left_on='requesting_practice_asid',right_on='ASID',how='left')\n",
    "transfers = transfers.rename({'MName': 'requesting_supplier', 'ASID': 'requesting_supplier_asid', 'NACS': 'requesting_ods_code'}, axis=1)\n",
    "transfers = transfers.merge(lookup, left_on='sending_practice_asid',right_on='ASID',how='left')\n",
    "transfers = transfers.rename({'MName': 'sending_supplier', 'ASID': 'sending_supplier_asid', 'NACS': 'sending_ods_code'}, axis=1)\n",
    "\n",
    "transfers[\"sending_supplier\"] = transfers[\"sending_supplier\"].replace(supplier_renaming.keys(), supplier_renaming.values())\n",
    "transfers[\"requesting_supplier\"] = transfers[\"requesting_supplier\"].replace(supplier_renaming.keys(), supplier_renaming.values())"
   ]
  },
  {
   "cell_type": "code",
   "execution_count": null,
   "id": "d8cdb040",
   "metadata": {},
   "outputs": [],
   "source": [
    "transfers_reduced_columns = transfers[[\"requesting_practice_asid\",\"requesting_supplier\",\"sending_supplier\", \"status\"]].copy()\n",
    "is_pending_transfers = transfers[\"status\"] == \"PENDING\"\n",
    "transfers_reduced_columns[\"is_pending\"] = is_pending_transfers\n",
    "transfers_reduced_columns = transfers_reduced_columns.drop(\"status\", axis=1)\n",
    "transfers_reduced_columns.head()"
   ]
  },
  {
   "cell_type": "markdown",
   "id": "d2c5e0b1",
   "metadata": {},
   "source": [
    "# For all Pending, what is the distribution by number of Practices"
   ]
  },
  {
   "cell_type": "code",
   "execution_count": null,
   "id": "810d0064",
   "metadata": {},
   "outputs": [],
   "source": [
    "def transfers_quantile_status_table(transfers_df,status,quantiles=5):\n",
    "    practice_status_table=pd.pivot_table(transfers_df,index='requesting_practice_asid',columns='status',values='conversation_id',aggfunc='count').fillna(0)\n",
    "    \n",
    "    practice_status_table['TOTAL']=practice_status_table.sum(axis=1)\n",
    "    \n",
    "    practice_profile_data=practice_status_table.sort_values(by=status,ascending=False)\n",
    "\n",
    "    cumulative_percentage=practice_profile_data[status].cumsum()/practice_profile_data[status].sum()\n",
    "\n",
    "    practice_profile_data['Percentile Group']=(100/quantiles)*np.ceil(cumulative_percentage*quantiles)\n",
    "\n",
    "    practice_profile_data=practice_profile_data.groupby('Percentile Group').agg({status:'sum','TOTAL':'sum','INTEGRATED':'count'}).astype(int)\n",
    "    practice_profile_data=practice_profile_data.rename({status:'Total ' + status,'TOTAL':'Total Transfers','INTEGRATED':'Total Practices'},axis=1)\n",
    "\n",
    "    practice_profile_data_percentages=(100*practice_profile_data/practice_profile_data.sum()).round(2)\n",
    "    practice_profile_data_percentages.columns= \"% \" + practice_profile_data_percentages.columns\n",
    "\n",
    "    return pd.concat([practice_profile_data,practice_profile_data_percentages],axis=1)"
   ]
  },
  {
   "cell_type": "code",
   "execution_count": null,
   "id": "64cc837c",
   "metadata": {},
   "outputs": [],
   "source": [
    "transfers_quantile_status_table(transfers,\"PENDING\")"
   ]
  },
  {
   "cell_type": "code",
   "execution_count": null,
   "id": "61de06de",
   "metadata": {},
   "outputs": [],
   "source": [
    "import matplotlib.pyplot as plt\n",
    "practice_status_table=pd.pivot_table(transfers,index='requesting_practice_asid',columns='status',values='conversation_id',aggfunc='count').fillna(0).sort_values(by=\"PENDING\",ascending=False)\n",
    "ax=practice_status_table['PENDING'].cumsum().reset_index(drop=True).plot(figsize=(8,5))\n",
    "ax.set_ylabel('Number of Pending without error Transfers')\n",
    "ax.set_xlabel('Number of GP Practices')\n",
    "ax.set_title('Cumulative graph of total pending transfers for GP Practices')\n",
    "plt.gcf().savefig('Cumulative_pending_transfers.jpg')"
   ]
  },
  {
   "cell_type": "markdown",
   "id": "1abf8aef",
   "metadata": {},
   "source": [
    "# For practices of each Supplier, does their \"policy\" towards pending transfers differ by the supplier they are requesting from?"
   ]
  },
  {
   "cell_type": "code",
   "execution_count": null,
   "id": "078e88f4",
   "metadata": {},
   "outputs": [],
   "source": [
    "suppliers_to_investigate = [\"EMIS\", \"TPP\", \"Vision\"]"
   ]
  },
  {
   "cell_type": "code",
   "execution_count": null,
   "id": "51440a1e",
   "metadata": {},
   "outputs": [],
   "source": [
    "pending_by_supplier_pathway=transfers_reduced_columns.pivot_table(index='requesting_supplier',columns='sending_supplier',values='is_pending',aggfunc='mean').multiply(100).round(2)\n",
    "pending_by_supplier_pathway=pending_by_supplier_pathway.loc[suppliers_to_investigate,suppliers_to_investigate]\n",
    "pending_by_supplier_pathway"
   ]
  },
  {
   "cell_type": "markdown",
   "id": "586a0dc0",
   "metadata": {},
   "source": [
    "### Correlations of volume pending"
   ]
  },
  {
   "cell_type": "code",
   "execution_count": null,
   "id": "2edd382f",
   "metadata": {},
   "outputs": [],
   "source": [
    "pending_transfers_supplier_pathways_pivot = pd.pivot_table(transfers_reduced_columns, index=[\"requesting_supplier\", \"requesting_practice_asid\"], columns=\"sending_supplier\", values=\"is_pending\", aggfunc=\"sum\").fillna(0)\n",
    "\n",
    "pending_transfers_as_list = [pending_transfers_supplier_pathways_pivot.loc[supplier].corr().stack().rename(supplier) for supplier in suppliers_to_investigate]\n",
    "pending_transfers_volume_between_suppliers_correlation = pd.concat(pending_transfers_as_list, axis=1)\n",
    "pending_transfers_volume_between_suppliers_correlation.loc[[(\"EMIS\", \"TPP\"), (\"EMIS\", \"Vision\"), (\"TPP\", \"Vision\")]].round(2)"
   ]
  },
  {
   "cell_type": "markdown",
   "id": "02999ca9",
   "metadata": {},
   "source": [
    "### Correlations of % pending"
   ]
  },
  {
   "cell_type": "code",
   "execution_count": null,
   "id": "30ae8c29",
   "metadata": {},
   "outputs": [],
   "source": [
    "pending_transfers_supplier_pathways_pivot = pd.pivot_table(transfers_reduced_columns, index=[\"requesting_supplier\", \"requesting_practice_asid\"], columns=\"sending_supplier\", values=\"is_pending\", aggfunc=\"mean\").fillna(0)\n",
    "\n",
    "pending_transfers_as_list = [pending_transfers_supplier_pathways_pivot.loc[supplier].corr().stack().rename(supplier) for supplier in suppliers_to_investigate]\n",
    "pending_transfers_percentage_between_suppliers_correlation = pd.concat(pending_transfers_as_list, axis=1)\n",
    "pending_transfers_percentage_between_suppliers_correlation.loc[[(\"EMIS\", \"TPP\"), (\"EMIS\", \"Vision\"), (\"TPP\", \"Vision\")]].round(2)"
   ]
  },
  {
   "cell_type": "markdown",
   "id": "b5f09c05",
   "metadata": {},
   "source": [
    "# Create frame of all practices ranked by pending\n",
    "Output to Excel"
   ]
  },
  {
   "cell_type": "code",
   "execution_count": null,
   "id": "9cb30da6",
   "metadata": {},
   "outputs": [],
   "source": [
    "# Total volume Pending by practice\n",
    "pending_transfers_supplier_pathways_pivot = pd.pivot_table(transfers_reduced_columns, index=[\"requesting_supplier\", \"requesting_practice_asid\"], columns=\"sending_supplier\", values=\"is_pending\", aggfunc=\"sum\").fillna(0)\n",
    "pending_transfers_for_supplier_pathways = pending_transfers_supplier_pathways_pivot.copy().astype(int)\n",
    "pending_transfers_for_supplier_pathways = pending_transfers_for_supplier_pathways.loc[:, [\"EMIS\",\"TPP\",\"Vision\",\"Microtest\",\"Unknown\"]]\n",
    "pending_transfers_for_supplier_pathways.insert(0, \"Total Pending Transfers\", pending_transfers_for_supplier_pathways.sum(axis=1))\n",
    "\n",
    "# Percentage Pending by practice\n",
    "pending_transfers_supplier_pathways_pivot_percentage = pd.pivot_table(transfers_reduced_columns, index=[\"requesting_supplier\", \"requesting_practice_asid\"], columns=\"sending_supplier\", values=\"is_pending\", aggfunc=\"mean\").fillna(0)\n",
    "pending_transfers_supplier_pathways_percentage = pending_transfers_supplier_pathways_pivot_percentage.copy().round(4).multiply(100)\n",
    "pending_transfers_supplier_pathways_percentage = pending_transfers_supplier_pathways_percentage.loc[:, [\"EMIS\",\"TPP\",\"Vision\",\"Microtest\",\"Unknown\"]]\n",
    "pending_transfers_supplier_pathways_percentage.columns = pending_transfers_supplier_pathways_percentage.columns + \" %\"\n",
    " \n",
    "# Join the two and clean up and re-organise the frame    \n",
    "complete_pending_transfers_for_supplier_pathways = pd.concat([pending_transfers_for_supplier_pathways, pending_transfers_supplier_pathways_percentage], axis=1)\n",
    "complete_pending_transfers_for_supplier_pathways = complete_pending_transfers_for_supplier_pathways.sort_values(by=\"Total Pending Transfers\", ascending=False)\n",
    "complete_pending_transfers_for_supplier_pathways = asid_lookup[[\"ASID\", \"PostCode\", \"OrgName\"]].merge(complete_pending_transfers_for_supplier_pathways.reset_index(), right_on=\"requesting_practice_asid\", left_on=\"ASID\", how=\"right\")\n",
    "complete_pending_transfers_for_supplier_pathways=complete_pending_transfers_for_supplier_pathways.drop('requesting_practice_asid',axis=1).set_index(['requesting_supplier','ASID'])#.insert(0,\"Supplier\",supplier)\n",
    "\n",
    "# Save to Excel\n",
    "complete_pending_transfers_for_supplier_pathways.to_excel('PRMT-1984 Pending Transfers all practices.xlsx')\n",
    "\n",
    "complete_pending_transfers_for_supplier_pathways.head(10)"
   ]
  },
  {
   "cell_type": "code",
   "execution_count": null,
   "id": "cd6cf581",
   "metadata": {},
   "outputs": [],
   "source": [
    "# View Emis practices\n",
    "complete_pending_transfers_for_supplier_pathways.loc[\"EMIS\"].head(10)"
   ]
  },
  {
   "cell_type": "code",
   "execution_count": null,
   "id": "64472418",
   "metadata": {},
   "outputs": [],
   "source": [
    "gants_hill = (transfers[\"requesting_practice_asid\"] == \"926102461049\") & (transfers[\"status\"] == \"PENDING\") & (transfers[\"sending_supplier\"] == \"Vision\")\n",
    "gants_hill = transfers.loc[gants_hill]\n",
    "\n",
    "#gants_hill.head(20)"
   ]
  },
  {
   "cell_type": "markdown",
   "id": "fb6a69c8",
   "metadata": {},
   "source": [
    "def create_pending_transfers_with_org_info_for_supplier(supplier,transfers_df):\n",
    "    pending_transfers_supplier_pathways_pivot = pd.pivot_table(transfers_df, index=[\"requesting_supplier\", \"requesting_practice_asid\"], columns=\"sending_supplier\", values=\"is_pending\", aggfunc=\"sum\").fillna(0)\n",
    "    pending_transfers_for_supplier_pathways = pending_transfers_supplier_pathways_pivot.loc[supplier].copy().astype(int)\n",
    "    pending_transfers_for_supplier_pathways = pending_transfers_for_supplier_pathways.loc[:, [\"EMIS\",\"TPP\",\"Vision\",\"Microtest\",\"Unknown\"]]\n",
    "    pending_transfers_for_supplier_pathways.insert(0, \"Total Pending Transfers\", pending_transfers_for_supplier_pathways.sum(axis=1))\n",
    "    \n",
    "    pending_transfers_supplier_pathways_pivot_percentage = pd.pivot_table(transfers_df, index=[\"requesting_supplier\", \"requesting_practice_asid\"], columns=\"sending_supplier\", values=\"is_pending\", aggfunc=\"mean\").fillna(0)\n",
    "    pending_transfers_supplier_pathways_percentage = pending_transfers_supplier_pathways_pivot_percentage.loc[supplier].copy().round(4).multiply(100)\n",
    "    pending_transfers_supplier_pathways_percentage = pending_transfers_supplier_pathways_percentage.loc[:, [\"EMIS\",\"TPP\",\"Vision\",\"Microtest\",\"Unknown\"]]\n",
    "    pending_transfers_supplier_pathways_percentage.columns = pending_transfers_supplier_pathways_percentage.columns + \" %\"\n",
    "    \n",
    "    complete_pending_transfers_for_supplier_pathways = pd.concat([pending_transfers_for_supplier_pathways, pending_transfers_supplier_pathways_percentage], axis=1)\n",
    "    complete_pending_transfers_for_supplier_pathways = complete_pending_transfers_for_supplier_pathways.sort_values(by=\"Total Pending Transfers\", ascending=False)\n",
    "    complete_pending_transfers_for_supplier_pathways = asid_lookup[[\"ASID\", \"PostCode\", \"OrgName\"]].merge(complete_pending_transfers_for_supplier_pathways, right_index=True, left_on=\"ASID\", how=\"right\")\n",
    "    complete_pending_transfers_for_supplier_pathways.insert(0,\"Supplier\",supplier)\n",
    "    return complete_pending_transfers_for_supplier_pathways"
   ]
  },
  {
   "cell_type": "markdown",
   "id": "9da5f799",
   "metadata": {},
   "source": [
    "emis_pending_transfers_with_org_info = create_pending_transfers_with_org_info_for_supplier(\"EMIS\",transfers_reduced_columns)\n",
    "emis_pending_transfers_with_org_info.head(20)"
   ]
  },
  {
   "cell_type": "code",
   "execution_count": null,
   "id": "355b9f91",
   "metadata": {},
   "outputs": [],
   "source": [
    "#pd.pivot_table(transfers_reduced_columns, index=\"requesting_supplier\", columns=\"sending_supplier\", values=\"is_pending\", aggfunc=\"sum\")"
   ]
  },
  {
   "cell_type": "markdown",
   "id": "b46463b7",
   "metadata": {},
   "source": [
    "all_suppliers = [create_pending_transfers_with_org_info_for_supplier(supplier,transfers_reduced_columns) for supplier in suppliers_to_investigate]\n",
    "all_suppliers = pd.concat(all_suppliers, axis=0).fillna(0)\n",
    "all_suppliers.sort_values(\"Total Pending Transfers\", ascending=False).head(20)"
   ]
  },
  {
   "cell_type": "code",
   "execution_count": null,
   "id": "e7d53e87",
   "metadata": {},
   "outputs": [],
   "source": []
  }
 ],
 "metadata": {
  "kernelspec": {
   "display_name": "conda_python3",
   "language": "python",
   "name": "conda_python3"
  },
  "language_info": {
   "codemirror_mode": {
    "name": "ipython",
    "version": 3
   },
   "file_extension": ".py",
   "mimetype": "text/x-python",
   "name": "python",
   "nbconvert_exporter": "python",
   "pygments_lexer": "ipython3",
   "version": "3.6.13"
  }
 },
 "nbformat": 4,
 "nbformat_minor": 5
}
