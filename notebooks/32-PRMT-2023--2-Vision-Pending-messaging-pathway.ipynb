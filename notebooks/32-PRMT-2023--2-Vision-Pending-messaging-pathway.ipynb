{
 "cells": [
  {
   "cell_type": "markdown",
   "id": "52dc53f7",
   "metadata": {},
   "source": [
    "## PRMT-2023\n",
    "### Hypothesis\n",
    "We believe that for two Vision practices, pending Vision transfers look different to EMIS and TPP pending transfers\n",
    "We will know this to be true when we can see different patterns in the data for each supplier in terms of the number of messages per conversation \n",
    "\n",
    "### Scope\n",
    "- Look at the following practice ASID codes\n",
    "\n",
    "896286726030\n",
    "\n",
    "244934959036\n",
    "\n",
    "(NB After discovering a distinct pattern in the first practice, we added a third: 052047562039)\n",
    "\n",
    "- Compare the makeup of messages per conversation across pending transfers for each supplier and identify if there’s any patterns \n",
    "- Generate a sample of 10 conversation IDs per practice, for pending transfers that are Vision 2 Vision\n",
    "- Show the makeup of number of messages per conversation ID\n",
    "\n",
    "### Acceptance Criteria\n",
    "- We have a list of 20 conversation IDs for vision to vision pending transfers for the two practices stated, and we know how many messages there are for each of these conversations\n",
    "- We have a confluence page that shows any patterns that either prove or disprove the hypothesis"
   ]
  },
  {
   "cell_type": "code",
   "execution_count": 11,
   "id": "17086187",
   "metadata": {},
   "outputs": [],
   "source": [
    "import pandas as pd\n",
    "import numpy as np\n",
    "# Using data generated from branch PRMT-1742-duplicates-analysis.\n",
    "# This is needed to correctly handle duplicates.\n",
    "# Once the upstream pipeline has a fix for duplicate EHRs, then we can go back to using the main output.\n",
    "transfer_file_location = \"s3://prm-gp2gp-data-sandbox-dev/transfers-duplicates-hypothesis/\"\n",
    "transfer_files = [\n",
    "    \"9-2020-transfers.parquet\",\n",
    "    \"10-2020-transfers.parquet\",\n",
    "    \"11-2020-transfers.parquet\",\n",
    "    \"12-2020-transfers.parquet\",\n",
    "    \"1-2021-transfers.parquet\",\n",
    "    \"2-2021-transfers.parquet\"\n",
    "]\n",
    "\n",
    "transfer_input_files = [transfer_file_location + f for f in transfer_files]\n",
    "transfers_raw = pd.concat((\n",
    "    pd.read_parquet(f)\n",
    "    for f in transfer_input_files\n",
    "))\n",
    "\n",
    "# In the data from the PRMT-1742-duplicates-analysis branch, these columns have been added , but contain only empty values.\n",
    "transfers_raw = transfers_raw.drop([\"sending_supplier\", \"requesting_supplier\"], axis=1)\n",
    "\n",
    "\n",
    "# Given the findings in PRMT-1742 - many duplicate EHR errors are misclassified, the below reclassifies the relevant data\n",
    "\n",
    "has_at_least_one_successful_integration_code = lambda errors: any((np.isnan(e) or e==15 for e in errors))\n",
    "successful_transfers_bool = transfers_raw['request_completed_ack_codes'].apply(has_at_least_one_successful_integration_code)\n",
    "transfers = transfers_raw.copy()\n",
    "transfers.loc[successful_transfers_bool, \"status\"] = \"INTEGRATED\"\n",
    "\n",
    "# Correctly interpret certail sender errors as failed.\n",
    "# This is explained in PRMT-1974. Eventaully this will be fixed upstream in the pipeline. \n",
    "pending_sender_error_codes=[6,7,10,24,30,23,14,99]\n",
    "transfers_with_pending_sender_code_bool=transfers['sender_error_code'].isin(pending_sender_error_codes)\n",
    "transfers_with_pending_with_error_bool=transfers['status']=='PENDING_WITH_ERROR'\n",
    "transfers_which_need_pending_to_failure_change_bool=transfers_with_pending_sender_code_bool & transfers_with_pending_with_error_bool\n",
    "transfers.loc[transfers_which_need_pending_to_failure_change_bool,'status']='FAILED'\n",
    "\n",
    "# Add integrated Late status\n",
    "eight_days_in_seconds=8*24*60*60\n",
    "transfers_after_sla_bool=transfers['sla_duration']>eight_days_in_seconds\n",
    "transfers_with_integrated_bool=transfers['status']=='INTEGRATED'\n",
    "transfers_integrated_late_bool=transfers_after_sla_bool & transfers_with_integrated_bool\n",
    "transfers.loc[transfers_integrated_late_bool,'status']='INTEGRATED LATE'\n",
    "\n",
    "# If the record integrated after 28 days, change the status back to pending.\n",
    "# This is to handle each month consistentently and to always reflect a transfers status 28 days after it was made.\n",
    "# TBD how this is handled upstream in the pipeline\n",
    "twenty_eight_days_in_seconds=28*24*60*60\n",
    "transfers_after_month_bool=transfers['sla_duration']>twenty_eight_days_in_seconds\n",
    "transfers_pending_at_month_bool=transfers_after_month_bool & transfers_integrated_late_bool\n",
    "transfers.loc[transfers_pending_at_month_bool,'status']='PENDING'\n",
    "transfers_with_early_error_bool=(~transfers.loc[:,'sender_error_code'].isna()) |(~transfers.loc[:,'intermediate_error_codes'].apply(len)>0)\n",
    "transfers.loc[transfers_with_early_error_bool & transfers_pending_at_month_bool,'status']='PENDING_WITH_ERROR'\n",
    "\n",
    "# Supplier name mapping\n",
    "supplier_renaming = {\n",
    "    \"EGTON MEDICAL INFORMATION SYSTEMS LTD (EMIS)\":\"EMIS\",\n",
    "    \"IN PRACTICE SYSTEMS LTD\":\"Vision\",\n",
    "    \"MICROTEST LTD\":\"Microtest\",\n",
    "    \"THE PHOENIX PARTNERSHIP\":\"TPP\",\n",
    "    None: \"Unknown\"\n",
    "}\n",
    "\n",
    "asid_lookup_file = \"s3://prm-gp2gp-data-sandbox-dev/asid-lookup/asidLookup-Mar-2021.csv.gz\"\n",
    "asid_lookup = pd.read_csv(asid_lookup_file)\n",
    "lookup = asid_lookup[[\"ASID\", \"MName\", \"NACS\",\"OrgName\"]]\n",
    "\n",
    "transfers = transfers.merge(lookup, left_on='requesting_practice_asid',right_on='ASID',how='left')\n",
    "transfers = transfers.rename({'MName': 'requesting_supplier', 'ASID': 'requesting_supplier_asid', 'NACS': 'requesting_ods_code','OrgName':'requesting_practice_name'}, axis=1)\n",
    "transfers = transfers.merge(lookup, left_on='sending_practice_asid',right_on='ASID',how='left')\n",
    "transfers = transfers.rename({'MName': 'sending_supplier', 'ASID': 'sending_supplier_asid', 'NACS': 'sending_ods_code','OrgName':'sending_practice_name'}, axis=1)\n",
    "\n",
    "transfers[\"sending_supplier\"] = transfers[\"sending_supplier\"].replace(supplier_renaming.keys(), supplier_renaming.values())\n",
    "transfers[\"requesting_supplier\"] = transfers[\"requesting_supplier\"].replace(supplier_renaming.keys(), supplier_renaming.values())"
   ]
  },
  {
   "cell_type": "code",
   "execution_count": 12,
   "id": "1045f558",
   "metadata": {},
   "outputs": [],
   "source": [
    "practice_asids=['896286726030' ,'244934959036','052047562039']\n",
    "relevant_practice_bool=transfers['requesting_practice_asid'].isin(practice_asids)\n",
    "from_vision_bool=transfers['sending_supplier']=='Vision'\n",
    "pending_status_bool=transfers['status']=='PENDING'\n",
    "relevant_data_bool=(relevant_practice_bool)&(from_vision_bool)&(pending_status_bool)\n",
    "relevant_transfers=transfers.loc[relevant_data_bool]"
   ]
  },
  {
   "cell_type": "markdown",
   "id": "8d6cbf0f",
   "metadata": {},
   "source": [
    "## Practice 1 "
   ]
  },
  {
   "cell_type": "code",
   "execution_count": 13,
   "id": "62d19e28",
   "metadata": {},
   "outputs": [
    {
     "data": {
      "text/plain": [
       "2     183\n",
       "9       7\n",
       "10      4\n",
       "1       2\n",
       "12      1\n",
       "11      1\n",
       "Name: date_requested, dtype: int64"
      ]
     },
     "execution_count": 13,
     "metadata": {},
     "output_type": "execute_result"
    }
   ],
   "source": [
    "# Randomly select a list of 10 conversations: The original 10 that are were used are written in the query\n",
    "practice_1_transfers_data=relevant_transfers.loc[relevant_transfers['requesting_practice_asid']==practice_asids[0]]\n",
    "practice_1_transfers_data.sample(n=10)['conversation_id'].values\n",
    "practice_1_transfers_data['date_requested'].dt.month.value_counts()"
   ]
  },
  {
   "cell_type": "raw",
   "id": "0699e18b",
   "metadata": {},
   "source": [
    "Practice 1 Query: This is the query, with the 10 conversationIDs randomly selected above, that was run in Splunk\n",
    "\n",
    "index=\"spine2vfmmonitor\" service=\"gp2gp\" logReference=\"MPS0053c\" \n",
    "| where conversationID in(\"610DEEDD-AB9A-420B-A3C9-24D3C5282858\",\n",
    "       \"8C68C440-1993-4E6F-A27B-7079FFB2DD5D\",\n",
    "       \"EA15568A-5802-4FE0-BA78-DFFFE31D8343\",\n",
    "       \"D9802ED9-28BA-45AD-BAA3-099E8F1DF832\",\n",
    "       \"AD4DD41D-CFA6-4019-BBF5-FC49F745F8B3\",\n",
    "       \"5C0BDBEE-C659-4E2D-957C-257B258D806E\",\n",
    "       \"3EF1056B-BEF5-483B-B366-867A26AC8C61\",\n",
    "       \"CA653500-6C89-46FB-A6E9-F5D3E24FED39\",\n",
    "       \"44A7F555-E964-45CD-9820-45079CE38A51\",\n",
    "       \"36D11428-665F-41EA-A688-11C417544BE9\")\n",
    "| rex field=fromPartyID \"(?<fromNACS>.+?)(-\\d+)\"\n",
    "| rex field=toPartyID \"(?<toNACS>.+?)(-\\d+)\"\n",
    "| eval interactionName=case(\n",
    "interactionID==\"urn:nhs:names:services:gp2gp/RCMR_IN010000UK05\", \"request started\",\n",
    "interactionID==\"urn:nhs:names:services:gp2gp/RCMR_IN030000UK06\", \"request completed\",\n",
    "interactionID==\"urn:nhs:names:services:gp2gp/COPC_IN000001UK01\", \"common point to point\",\n",
    "interactionID==\"urn:nhs:names:services:gp2gp/MCCI_IN010000UK13\", \"application acknowledgement\")\n",
    "| table conversationID, _time, GUID, interactionID, interactionName, fromNACS, toNACS, messageRef, jdiEvent\n",
    "| sort _time"
   ]
  },
  {
   "cell_type": "code",
   "execution_count": 14,
   "id": "f801948a",
   "metadata": {},
   "outputs": [
    {
     "ename": "TypeError",
     "evalue": "unhashable type: 'list'",
     "output_type": "error",
     "traceback": [
      "\u001b[0;31m---------------------------------------------------------------------------\u001b[0m",
      "\u001b[0;31mTypeError\u001b[0m                                 Traceback (most recent call last)",
      "\u001b[0;32mpandas/_libs/hashtable_class_helper.pxi\u001b[0m in \u001b[0;36mpandas._libs.hashtable.PyObjectHashTable.map_locations\u001b[0;34m()\u001b[0m\n",
      "\u001b[0;31mTypeError\u001b[0m: unhashable type: 'list'"
     ]
    },
    {
     "name": "stderr",
     "output_type": "stream",
     "text": [
      "Exception ignored in: 'pandas._libs.index.IndexEngine._call_map_locations'\n",
      "Traceback (most recent call last):\n",
      "  File \"pandas/_libs/hashtable_class_helper.pxi\", line 1709, in pandas._libs.hashtable.PyObjectHashTable.map_locations\n",
      "TypeError: unhashable type: 'list'\n"
     ]
    },
    {
     "data": {
      "text/plain": [
       "[request started]                                 9\n",
       "[request started, application acknowledgement]    1\n",
       "Name: interactionName, dtype: int64"
      ]
     },
     "execution_count": 14,
     "metadata": {},
     "output_type": "execute_result"
    }
   ],
   "source": [
    "# The output from splunk was placed in S3 - we load it in and look at the message patterns that occur\n",
    "practice_data_folder=\"s3://prm-gp2gp-data-sandbox-dev/PRMT-2023-Practice-Data/\"\n",
    "practice_1_filename=\"PRMT-2023_Practice_1_Data.csv\"\n",
    "practice_1_data=pd.read_csv(practice_data_folder+practice_1_filename)\n",
    "practice_1_data=practice_1_data.sort_values(by=['conversationID','_time'])\n",
    "practice_1_data.groupby('conversationID')['interactionName'].apply(list).value_counts()"
   ]
  },
  {
   "cell_type": "markdown",
   "id": "7ce5a09c",
   "metadata": {},
   "source": [
    "### Practice 2"
   ]
  },
  {
   "cell_type": "code",
   "execution_count": 15,
   "id": "ea5e9746",
   "metadata": {},
   "outputs": [
    {
     "data": {
      "text/plain": [
       "2     22\n",
       "9     20\n",
       "10    19\n",
       "1     19\n",
       "12    16\n",
       "11    12\n",
       "Name: date_requested, dtype: int64"
      ]
     },
     "execution_count": 15,
     "metadata": {},
     "output_type": "execute_result"
    }
   ],
   "source": [
    "practice_2_transfers_data=relevant_transfers.loc[relevant_transfers['requesting_practice_asid']==practice_asids[1]]\n",
    "practice_2_transfers_data.sample(n=10)['conversation_id'].values\n",
    "practice_2_transfers_data['date_requested'].dt.month.value_counts()"
   ]
  },
  {
   "cell_type": "raw",
   "id": "ba2d0660",
   "metadata": {},
   "source": [
    "Practice 2 Query\n",
    "\n",
    "index=\"spine2vfmmonitor\" service=\"gp2gp\" logReference=\"MPS0053c\" \n",
    "| where conversationID in(\"0CFB58BA-2EF7-4673-884C-6E71F05E3935\",\n",
    "       \"01CA24E1-1075-4F8D-875B-6CBA88C42721\",\n",
    "       \"12F6415C-B273-4257-A5A9-C48D91E6F149\",\n",
    "       \"75D58513-A8A3-4D39-98A0-837445DB77AD\",\n",
    "       \"067AC3B2-4BCD-44CF-86D3-84F4D5B8EB86\",\n",
    "       \"AD32CBF1-4A08-4BBE-B212-4B2259387FA5\",\n",
    "       \"23C185BE-A06A-40EA-889E-4A95D4D8C818\",\n",
    "       \"A396349B-FB2B-4048-9D36-FA6ACA33768D\",\n",
    "       \"211D9AFB-76D7-434A-85E4-DED596464460\",\n",
    "       \"A9026CCD-CAE0-492E-84F2-1EBAA7849A1C\")\n",
    "| rex field=fromPartyID \"(?<fromNACS>.+?)(-\\d+)\"\n",
    "| rex field=toPartyID \"(?<toNACS>.+?)(-\\d+)\"\n",
    "| eval interactionName=case(\n",
    "interactionID==\"urn:nhs:names:services:gp2gp/RCMR_IN010000UK05\", \"request started\",\n",
    "interactionID==\"urn:nhs:names:services:gp2gp/RCMR_IN030000UK06\", \"request completed\",\n",
    "interactionID==\"urn:nhs:names:services:gp2gp/COPC_IN000001UK01\", \"common point to point\",\n",
    "interactionID==\"urn:nhs:names:services:gp2gp/MCCI_IN010000UK13\", \"application acknowledgement\")\n",
    "| table conversationID, _time, GUID, interactionID, interactionName, fromNACS, toNACS, messageRef, jdiEvent\n",
    "| sort _time"
   ]
  },
  {
   "cell_type": "code",
   "execution_count": 16,
   "id": "3dc0416f",
   "metadata": {},
   "outputs": [
    {
     "ename": "TypeError",
     "evalue": "unhashable type: 'list'",
     "output_type": "error",
     "traceback": [
      "\u001b[0;31m---------------------------------------------------------------------------\u001b[0m",
      "\u001b[0;31mTypeError\u001b[0m                                 Traceback (most recent call last)",
      "\u001b[0;32mpandas/_libs/hashtable_class_helper.pxi\u001b[0m in \u001b[0;36mpandas._libs.hashtable.PyObjectHashTable.map_locations\u001b[0;34m()\u001b[0m\n",
      "\u001b[0;31mTypeError\u001b[0m: unhashable type: 'list'"
     ]
    },
    {
     "name": "stderr",
     "output_type": "stream",
     "text": [
      "Exception ignored in: 'pandas._libs.index.IndexEngine._call_map_locations'\n",
      "Traceback (most recent call last):\n",
      "  File \"pandas/_libs/hashtable_class_helper.pxi\", line 1709, in pandas._libs.hashtable.PyObjectHashTable.map_locations\n",
      "TypeError: unhashable type: 'list'\n"
     ]
    },
    {
     "data": {
      "text/plain": [
       "[request started, application acknowledgement]                                                    6\n",
       "[request started, application acknowledgement, request completed]                                 2\n",
       "[request started, application acknowledgement, request completed, application acknowledgement]    2\n",
       "Name: interactionName, dtype: int64"
      ]
     },
     "execution_count": 16,
     "metadata": {},
     "output_type": "execute_result"
    }
   ],
   "source": [
    "practice_2_filename=\"PRMT-2023_Practice_2_Data.csv\"\n",
    "practice_2_data=pd.read_csv(practice_data_folder+practice_2_filename)\n",
    "practice_2_data=practice_2_data.sort_values(by=['conversationID','_time'])\n",
    "practice_2_data.groupby('conversationID')['interactionName'].apply(list).value_counts()"
   ]
  },
  {
   "cell_type": "markdown",
   "id": "d95640bd",
   "metadata": {},
   "source": [
    "### Practice 3"
   ]
  },
  {
   "cell_type": "code",
   "execution_count": 17,
   "id": "5fc301aa",
   "metadata": {},
   "outputs": [
    {
     "data": {
      "text/plain": [
       "9     30\n",
       "1     20\n",
       "12    19\n",
       "11    19\n",
       "2     18\n",
       "10    13\n",
       "Name: date_requested, dtype: int64"
      ]
     },
     "execution_count": 17,
     "metadata": {},
     "output_type": "execute_result"
    }
   ],
   "source": [
    "practice_3_transfers_data=relevant_transfers.loc[relevant_transfers['requesting_practice_asid']==practice_asids[2]]\n",
    "practice_3_transfers_data.sample(n=10,random_state=1)['conversation_id'].values\n",
    "practice_3_transfers_data['date_requested'].dt.month.value_counts()"
   ]
  },
  {
   "cell_type": "raw",
   "id": "9031a21d",
   "metadata": {},
   "source": [
    "*Practice 3 Query*\n",
    "\n",
    "index=\"spine2vfmmonitor\" service=\"gp2gp\" logReference=\"MPS0053c\" \n",
    "| where conversationID in(\"287D4728-66D6-4332-90D2-5E1FC2AA561C\",\n",
    "       \"2D628A47-62EE-49AF-B599-E4B824847534\",\n",
    "       \"203A0E37-9EA5-4706-B707-376C3AF3DB52\",\n",
    "       \"7A431959-3B1B-48AB-8713-2D8A235A6D00\",\n",
    "       \"05BA2CF3-00E0-485D-99D8-4A3D67378CB8\",\n",
    "       \"BA29B5EF-AB13-401D-86E9-392B596794D3\",\n",
    "       \"7D12EDDD-AF79-4038-9379-9408D60E5AFF\",\n",
    "       \"94658F00-86E9-4E60-B007-AD705F795039\",\n",
    "       \"36816EA6-A954-4186-97EC-F7A19AF3E363\",\n",
    "       \"0AB643B6-B331-421A-AF60-5E014176E741\")\n",
    "| rex field=fromPartyID \"(?<fromNACS>.+?)(-\\d+)\"\n",
    "| rex field=toPartyID \"(?<toNACS>.+?)(-\\d+)\"\n",
    "| eval interactionName=case(\n",
    "interactionID==\"urn:nhs:names:services:gp2gp/RCMR_IN010000UK05\", \"request started\",\n",
    "interactionID==\"urn:nhs:names:services:gp2gp/RCMR_IN030000UK06\", \"request completed\",\n",
    "interactionID==\"urn:nhs:names:services:gp2gp/COPC_IN000001UK01\", \"common point to point\",\n",
    "interactionID==\"urn:nhs:names:services:gp2gp/MCCI_IN010000UK13\", \"application acknowledgement\")\n",
    "| table conversationID, _time, GUID, interactionID, interactionName, fromNACS, toNACS, messageRef, jdiEvent\n",
    "| sort _time"
   ]
  },
  {
   "cell_type": "code",
   "execution_count": 18,
   "id": "9e2de48a",
   "metadata": {},
   "outputs": [
    {
     "ename": "TypeError",
     "evalue": "unhashable type: 'list'",
     "output_type": "error",
     "traceback": [
      "\u001b[0;31m---------------------------------------------------------------------------\u001b[0m",
      "\u001b[0;31mTypeError\u001b[0m                                 Traceback (most recent call last)",
      "\u001b[0;32mpandas/_libs/hashtable_class_helper.pxi\u001b[0m in \u001b[0;36mpandas._libs.hashtable.PyObjectHashTable.map_locations\u001b[0;34m()\u001b[0m\n",
      "\u001b[0;31mTypeError\u001b[0m: unhashable type: 'list'"
     ]
    },
    {
     "name": "stderr",
     "output_type": "stream",
     "text": [
      "Exception ignored in: 'pandas._libs.index.IndexEngine._call_map_locations'\n",
      "Traceback (most recent call last):\n",
      "  File \"pandas/_libs/hashtable_class_helper.pxi\", line 1709, in pandas._libs.hashtable.PyObjectHashTable.map_locations\n",
      "TypeError: unhashable type: 'list'\n"
     ]
    },
    {
     "data": {
      "text/plain": [
       "[request started, application acknowledgement]    10\n",
       "Name: interactionName, dtype: int64"
      ]
     },
     "execution_count": 18,
     "metadata": {},
     "output_type": "execute_result"
    }
   ],
   "source": [
    "practice_data_folder=\"s3://prm-gp2gp-data-sandbox-dev/PRMT-2023-Practice-Data/\"\n",
    "practice_3_filename=\"PRMT-2023_Practice_3_Data.csv\"\n",
    "practice_3_data=pd.read_csv(practice_data_folder+practice_3_filename)\n",
    "practice_3_data=practice_3_data.sort_values(by=['conversationID','_time'])\n",
    "practice_3_data.groupby('conversationID')['interactionName'].apply(list).value_counts()"
   ]
  },
  {
   "cell_type": "markdown",
   "id": "f26cad0c",
   "metadata": {},
   "source": [
    "### Output data to Excel"
   ]
  },
  {
   "cell_type": "code",
   "execution_count": 19,
   "id": "fa07ee96",
   "metadata": {},
   "outputs": [],
   "source": [
    "with pd.ExcelWriter('32-PRMT-2023-Vision_conversations.xlsx') as writer:\n",
    "    practice_1_data.groupby('conversationID')['interactionName'].apply(list).to_excel(writer, sheet_name=practice_asids[0])\n",
    "    practice_2_data.groupby('conversationID')['interactionName'].apply(list).to_excel(writer, sheet_name=practice_asids[1])\n",
    "    practice_3_data.groupby('conversationID')['interactionName'].apply(list).to_excel(writer, sheet_name=practice_asids[2])"
   ]
  },
  {
   "cell_type": "code",
   "execution_count": null,
   "id": "f26be90c",
   "metadata": {},
   "outputs": [],
   "source": []
  }
 ],
 "metadata": {
  "kernelspec": {
   "display_name": "conda_python3",
   "language": "python",
   "name": "conda_python3"
  },
  "language_info": {
   "codemirror_mode": {
    "name": "ipython",
    "version": 3
   },
   "file_extension": ".py",
   "mimetype": "text/x-python",
   "name": "python",
   "nbconvert_exporter": "python",
   "pygments_lexer": "ipython3",
   "version": "3.6.13"
  }
 },
 "nbformat": 4,
 "nbformat_minor": 5
}
