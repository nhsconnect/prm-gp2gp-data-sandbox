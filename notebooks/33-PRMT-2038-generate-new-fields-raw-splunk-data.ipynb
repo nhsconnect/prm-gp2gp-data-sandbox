{
 "cells": [
  {
   "cell_type": "markdown",
   "id": "37e69810",
   "metadata": {},
   "source": [
    "This notebook takes the raw splunk data and aggregates it by conversation ID to generate a list of the messages generated during the transfer\n",
    "\n",
    "PRMT-2038: Generate list of messages for each transfers using raw spine data\n",
    "\n",
    "We wish to add a new field to the parquet files that we currently use for analytics.\n",
    "- Specifically, we want the list of all messages, in human readable form and the order in which they occur, added to the transfers used\n",
    "- We want to do this in Jupyter notebooks (rather than a branch etc on the pipeline), using the raw spine data already in S3.\n"
   ]
  },
  {
   "cell_type": "code",
   "execution_count": 1,
   "id": "5bdd0a88",
   "metadata": {},
   "outputs": [],
   "source": [
    "import pandas as pd\n",
    "import time"
   ]
  },
  {
   "cell_type": "code",
   "execution_count": 2,
   "id": "5e2858f0",
   "metadata": {},
   "outputs": [],
   "source": [
    "# Define a list of files to be loaded in\n",
    "folder=\"s3://prm-gp2gp-data-sandbox-dev/spine-gp2gp-data/\"\n",
    "files=[\"Sept-2020\",\"Oct-2020\",\"Nov-2020\",\"Dec-2020\",\"Jan-2021\",\"Feb-2021\",\"Mar-2021\"]\n",
    "full_filenames=[folder + file + \".csv.gz\" for file in files]"
   ]
  },
  {
   "cell_type": "code",
   "execution_count": 3,
   "id": "4cb82356",
   "metadata": {},
   "outputs": [],
   "source": [
    "# Rename message types to be human readable\n",
    "interaction_name_mapping={\"urn:nhs:names:services:gp2gp/RCMR_IN010000UK05\":\"request started\",\n",
    "\"urn:nhs:names:services:gp2gp/RCMR_IN030000UK06\":\"request completed\",\n",
    "\"urn:nhs:names:services:gp2gp/COPC_IN000001UK01\":\"common point to point\",\n",
    "\"urn:nhs:names:services:gp2gp/MCCI_IN010000UK13\":\"application acknowledgement\"}"
   ]
  },
  {
   "cell_type": "code",
   "execution_count": 4,
   "id": "60f8aaf7",
   "metadata": {},
   "outputs": [],
   "source": [
    "# Function to define what to retain from each file when it is loaded in - note that this is done in advance to save memory usage!\n",
    "def generate_single_frame(file):\n",
    "    df=pd.read_csv(file, compression='gzip',error_bad_lines=False)\n",
    "    df=df.sort_values(by='_time')\n",
    "    df['interaction name']=df['interactionID'].replace(interaction_name_mapping)\n",
    "    df=df[['conversationID','interaction name']]\n",
    "    return df"
   ]
  },
  {
   "cell_type": "code",
   "execution_count": 5,
   "id": "b0c3661e",
   "metadata": {},
   "outputs": [
    {
     "data": {
      "text/plain": [
       "286.74416992699935"
      ]
     },
     "execution_count": 5,
     "metadata": {},
     "output_type": "execute_result"
    }
   ],
   "source": [
    "a=time.perf_counter()\n",
    "field_data=[generate_single_frame(file) for file in full_filenames]\n",
    "time.perf_counter()-a"
   ]
  },
  {
   "cell_type": "code",
   "execution_count": 6,
   "id": "d83487d5",
   "metadata": {},
   "outputs": [],
   "source": [
    "field_data=pd.concat(field_data,axis=0)\n",
    "field_data=field_data.groupby('conversationID')['interaction name'].apply(list)"
   ]
  },
  {
   "cell_type": "code",
   "execution_count": 7,
   "id": "493ef525",
   "metadata": {},
   "outputs": [],
   "source": [
    "pd.DataFrame(field_data).to_parquet('s3://prm-gp2gp-data-sandbox-dev/extra-fields-data-from-splunk/Sept_20_Feb_21_conversations_interaction_messages.parquet')"
   ]
  }
 ],
 "metadata": {
  "kernelspec": {
   "display_name": "conda_python3",
   "language": "python",
   "name": "conda_python3"
  },
  "language_info": {
   "codemirror_mode": {
    "name": "ipython",
    "version": 3
   },
   "file_extension": ".py",
   "mimetype": "text/x-python",
   "name": "python",
   "nbconvert_exporter": "python",
   "pygments_lexer": "ipython3",
   "version": "3.6.13"
  }
 },
 "nbformat": 4,
 "nbformat_minor": 5
}
