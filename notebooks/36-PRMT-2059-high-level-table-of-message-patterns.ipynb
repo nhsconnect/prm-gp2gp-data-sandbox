{
 "cells": [
  {
   "cell_type": "markdown",
   "id": "f8cc5c99",
   "metadata": {},
   "source": [
    "# PRMT-2059 Generate high level table of message patterns prevalance\n",
    "We believe that being able to break down transfers by the set of messages that occur between the sending and receiving supplier will give us a better understanding of what the actual status of the transfer is. \n",
    "\n",
    "In particular, Pending transfers may have a technical issue or may be awaiting practice integration - we may be able to distinguish between these. \n",
    "For 6 months of transfers (September 2020 to Feb 2021), we wish to be able to see the list of messages in the form:\n",
    "- The message creator (sending or requesting practice)\n",
    "- The message type (interaction name)\n",
    "- Any associate code (jdi event)\n",
    "\n",
    "We then wish to break down all transfers by:\n",
    "- The supplier pathway\n",
    "- The Status\n",
    "- The message chain\n",
    "And order these in a table according to how common they are\n"
   ]
  },
  {
   "cell_type": "code",
   "execution_count": null,
   "id": "6d0a40e7",
   "metadata": {},
   "outputs": [],
   "source": [
    "import pandas as pd\n",
    "import numpy as np\n",
    "import time"
   ]
  },
  {
   "cell_type": "code",
   "execution_count": null,
   "id": "98abfaa6",
   "metadata": {},
   "outputs": [],
   "source": [
    "overwrite_files = False\n",
    "\n",
    "# Turn on the option to only include the first pair of messages\n",
    "# where multiple COPC messages with successful acknowledgements were sent in a single transfer\n",
    "reduce_COPC_messages = True\n",
    "\n",
    "COPC_tag = \"-reduced-COPCs\" if reduce_COPC_messages else \"\""
   ]
  },
  {
   "cell_type": "markdown",
   "id": "7b4ae1c6",
   "metadata": {},
   "source": [
    "## Importing transfer data"
   ]
  },
  {
   "cell_type": "code",
   "execution_count": null,
   "id": "4f111e97",
   "metadata": {},
   "outputs": [],
   "source": [
    "# Import transfer files to extract whether message creator is sender or requester\n",
    "# Using data generated from branch PRMT-1742-duplicates-analysis.\n",
    "# This is needed to correctly handle duplicates.\n",
    "# Once the upstream pipeline has a fix for duplicate EHRs, then we can go back to using the main output.\n",
    "transfer_file_location = \"s3://prm-gp2gp-data-sandbox-dev/transfers-duplicates-hypothesis/\"\n",
    "transfer_files = [\n",
    "    \"9-2020-transfers.parquet\",\n",
    "    \"10-2020-transfers.parquet\",\n",
    "    \"11-2020-transfers.parquet\",\n",
    "    \"12-2020-transfers.parquet\",\n",
    "    \"1-2021-transfers.parquet\",\n",
    "    \"2-2021-transfers.parquet\"\n",
    "]\n",
    "\n",
    "transfer_input_files = [transfer_file_location + f for f in transfer_files]\n",
    "transfers_raw = pd.concat((\n",
    "    pd.read_parquet(f)\n",
    "    for f in transfer_input_files\n",
    "))\n",
    "\n",
    "# In the data from the PRMT-1742-duplicates-analysis branch, these columns have been added , but contain only empty values.\n",
    "transfers_raw = transfers_raw.drop([\"sending_supplier\", \"requesting_supplier\"], axis=1)\n",
    "\n",
    "# Given the findings in PRMT-1742 - many duplicate EHR errors are misclassified, the below reclassifies the relevant data\n",
    "has_at_least_one_successful_integration_code = lambda errors: any((np.isnan(e) or e==15 for e in errors))\n",
    "successful_transfers_bool = transfers_raw['request_completed_ack_codes'].apply(has_at_least_one_successful_integration_code)\n",
    "transfers = transfers_raw.copy()\n",
    "transfers.loc[successful_transfers_bool, \"status\"] = \"INTEGRATED\"\n",
    "\n",
    "# Correctly interpret certain sender errors as failed.\n",
    "# This is explained in PRMT-1974. Eventually this will be fixed upstream in the pipeline.\n",
    "pending_sender_error_codes=[6,7,10,24,30,23,14,99]\n",
    "transfers_with_pending_sender_code_bool=transfers['sender_error_code'].isin(pending_sender_error_codes)\n",
    "transfers_with_pending_with_error_bool=transfers['status']=='PENDING_WITH_ERROR'\n",
    "transfers_which_need_pending_to_failure_change_bool=transfers_with_pending_sender_code_bool & transfers_with_pending_with_error_bool\n",
    "transfers.loc[transfers_which_need_pending_to_failure_change_bool,'status']='FAILED'\n",
    "\n",
    "# Add integrated Late status\n",
    "eight_days_in_seconds=8*24*60*60\n",
    "transfers_after_sla_bool=transfers['sla_duration']>eight_days_in_seconds\n",
    "transfers_with_integrated_bool=transfers['status']=='INTEGRATED'\n",
    "transfers_integrated_late_bool=transfers_after_sla_bool & transfers_with_integrated_bool\n",
    "transfers.loc[transfers_integrated_late_bool,'status']='INTEGRATED LATE'\n",
    "\n",
    "# If the record integrated after 28 days, change the status back to pending.\n",
    "# This is to handle each month consistently and to always reflect a transfers status 28 days after it was made.\n",
    "# TBD how this is handled upstream in the pipeline\n",
    "twenty_eight_days_in_seconds=28*24*60*60\n",
    "transfers_after_month_bool=transfers['sla_duration']>twenty_eight_days_in_seconds\n",
    "transfers_pending_at_month_bool=transfers_after_month_bool & transfers_integrated_late_bool\n",
    "transfers.loc[transfers_pending_at_month_bool,'status']='PENDING'\n",
    "transfers_with_early_error_bool=(~transfers.loc[:,'sender_error_code'].isna()) |(~transfers.loc[:,'intermediate_error_codes'].apply(len)>0)\n",
    "transfers.loc[transfers_with_early_error_bool & transfers_pending_at_month_bool,'status']='PENDING_WITH_ERROR'\n",
    "\n",
    "# Supplier name mapping\n",
    "supplier_renaming = {\n",
    "    \"EGTON MEDICAL INFORMATION SYSTEMS LTD (EMIS)\":\"EMIS\",\n",
    "    \"IN PRACTICE SYSTEMS LTD\":\"Vision\",\n",
    "    \"MICROTEST LTD\":\"Microtest\",\n",
    "    \"THE PHOENIX PARTNERSHIP\":\"TPP\",\n",
    "    None: \"Unknown\"\n",
    "}\n",
    "\n",
    "asid_lookup_file = \"s3://prm-gp2gp-data-sandbox-dev/asid-lookup/asidLookup-Mar-2021.csv.gz\"\n",
    "asid_lookup = pd.read_csv(asid_lookup_file)\n",
    "lookup = asid_lookup[[\"ASID\", \"MName\", \"NACS\",\"OrgName\"]]\n",
    "\n",
    "transfers = transfers.merge(lookup, left_on='requesting_practice_asid',right_on='ASID',how='left')\n",
    "transfers = transfers.rename({'MName': 'requesting_supplier', 'ASID': 'requesting_supplier_asid', 'NACS': 'requesting_ods_code','OrgName':'requesting_practice_name'}, axis=1)\n",
    "transfers = transfers.merge(lookup, left_on='sending_practice_asid',right_on='ASID',how='left')\n",
    "transfers = transfers.rename({'MName': 'sending_supplier', 'ASID': 'sending_supplier_asid', 'NACS': 'sending_ods_code','OrgName':'sending_practice_name'}, axis=1)\n",
    "\n",
    "transfers[\"sending_supplier\"] = transfers[\"sending_supplier\"].replace(supplier_renaming.keys(), supplier_renaming.values())\n",
    "transfers[\"requesting_supplier\"] = transfers[\"requesting_supplier\"].replace(supplier_renaming.keys(), supplier_renaming.values())"
   ]
  },
  {
   "cell_type": "markdown",
   "id": "f9622e67",
   "metadata": {},
   "source": [
    "## Stage 1\n",
    " \n",
    "Using the raw Spine data for the transfers above, we want to generate the list of messages in the form:\n",
    "- The message creator (sending or requesting practice)\n",
    "- The message type (interaction name)\n",
    "    - in the case of application acknowledgement message, we wish to see what type of message it is acknowledging\n",
    "- Any associate code (JDI event)"
   ]
  },
  {
   "cell_type": "code",
   "execution_count": null,
   "id": "278f50b7",
   "metadata": {},
   "outputs": [],
   "source": [
    "# Generating a mapping of practice asid, and whether they were the sender or requestor in that conversation\n",
    "requesting_supplier_type_map = transfers[[\"conversation_id\", \"requesting_practice_asid\", \"date_requested\"]].drop_duplicates()\n",
    "sending_supplier_type_map = transfers[[\"conversation_id\", \"sending_practice_asid\", \"date_requested\"]].drop_duplicates()\n",
    "\n",
    "requesting_supplier_type_map[\"supplier_type\"] = \"requestor\"\n",
    "sending_supplier_type_map[\"supplier_type\"] = \"sender\"\n",
    "\n",
    "requesting_supplier_type_map = requesting_supplier_type_map.rename({\"requesting_practice_asid\": \"practice_asid\"}, axis=1)\n",
    "sending_supplier_type_map = sending_supplier_type_map.rename({\"sending_practice_asid\": \"practice_asid\"}, axis=1)\n",
    "\n",
    "supplier_type_mapping = pd.concat([requesting_supplier_type_map, sending_supplier_type_map])\n",
    "supplier_type_mapping[\"practice_asid\"] = supplier_type_mapping[\"practice_asid\"].astype(int)"
   ]
  },
  {
   "cell_type": "code",
   "execution_count": null,
   "id": "a01ab8f7",
   "metadata": {},
   "outputs": [],
   "source": [
    "conversation_ids_of_interest=transfers['conversation_id'].values"
   ]
  },
  {
   "cell_type": "code",
   "execution_count": null,
   "id": "7f0530ac",
   "metadata": {},
   "outputs": [],
   "source": [
    "# Define a list of files to be loaded in\n",
    "#folder=\"s3://prm-gp2gp-data-sandbox-dev/spine-gp2gp-data-with-ack-codes-prmt-2059/\"\n",
    "folder=\"s3://prm-gp2gp-data-sandbox-dev/spine-gp2gp-data/\"\n",
    "files=[\"Sept-2020\",\"Oct-2020\",\"Nov-2020\",\"Dec-2020\",\"Jan-2021\",\"Feb-2021\",\"Mar-2021\"]\n",
    "full_filenames=[folder + file + \".csv.gz\" for file in files]"
   ]
  },
  {
   "cell_type": "code",
   "execution_count": null,
   "id": "43598970",
   "metadata": {},
   "outputs": [],
   "source": [
    "# Rename message types to be human readable\n",
    "interaction_name_mapping={\"urn:nhs:names:services:gp2gp/RCMR_IN010000UK05\":\"req start\",\n",
    "\"urn:nhs:names:services:gp2gp/RCMR_IN030000UK06\":\"req complete\",\n",
    "\"urn:nhs:names:services:gp2gp/COPC_IN000001UK01\":\"COPC\",\n",
    "\"urn:nhs:names:services:gp2gp/MCCI_IN010000UK13\":\" ack\"}\n",
    "\n",
    "#ackTypeCode_mapping={'AE':\"Neg\",\"AR\":\"Neg\",\"ER\":\"Neg\",\"IF\":\"Pos\",\"NONE\":\"Pos\"}"
   ]
  },
  {
   "cell_type": "markdown",
   "id": "e23d74a1",
   "metadata": {},
   "source": [
    "\n"
   ]
  },
  {
   "cell_type": "code",
   "execution_count": null,
   "id": "06743889",
   "metadata": {},
   "outputs": [],
   "source": [
    "# This function will take a set of Spine data and for each message in the conversation we're interested in, it will output a dataframe\n",
    "# with \"conversation_id\", \"supplier_type\", \"interaction_name\", \"jdiEvent\", \"GUID\", \"messageRef\" for each given message in the order\n",
    "# they occur\n",
    "def generate_single_frame(file):\n",
    "    a=time.perf_counter()\n",
    "    print(\"Now Processing \" + file)\n",
    "    all_messages_in_file=pd.read_csv(file, compression='gzip')\n",
    "\n",
    "    # Only keep conversations from the conversations that we actually want to use\n",
    "    monthly_relevant_messages=all_messages_in_file.loc[all_messages_in_file['conversationID'].isin(conversation_ids_of_interest)]\n",
    "    monthly_relevant_messages=monthly_relevant_messages.sort_values(by='_time')\n",
    "    monthly_relevant_messages = monthly_relevant_messages.merge(supplier_type_mapping, left_on=[\"conversationID\", \"messageSender\"], right_on=[\"conversation_id\", \"practice_asid\"], how=\"left\")\n",
    "    \n",
    "    # filter out messages that took place more than 28 days after the date requested\n",
    "    in_time_message_bool = (pd.to_datetime(monthly_relevant_messages[\"_time\"]).dt.tz_localize(None) - monthly_relevant_messages[\"date_requested\"]).dt.total_seconds() <= twenty_eight_days_in_seconds\n",
    "    monthly_messages = monthly_relevant_messages.loc[in_time_message_bool]\n",
    "    \n",
    "    # map the message name to human readable form using supplier mapping\n",
    "    monthly_messages['interaction_name']=monthly_messages['interactionID'].replace(interaction_name_mapping)\n",
    "    monthly_messages[\"jdiEvent\"] = monthly_messages[\"jdiEvent\"].replace(\"NONE\", \"\")\n",
    "    \n",
    "    monthly_messages=monthly_messages[[\"conversation_id\",\"supplier_type\",\"interaction_name\",\"jdiEvent\",\"GUID\",\"messageRef\"]]\n",
    "    print(time.perf_counter()-a)\n",
    "    return monthly_messages"
   ]
  },
  {
   "cell_type": "code",
   "execution_count": null,
   "id": "3aa74b89",
   "metadata": {},
   "outputs": [],
   "source": [
    "all_messages=[generate_single_frame(file) for file in full_filenames]\n",
    "\n",
    "print('Now Concatenating all months of data')\n",
    "a=time.perf_counter()\n",
    "all_messages=pd.concat(all_messages,axis=0)\n",
    "print(time.perf_counter()-a)"
   ]
  },
  {
   "cell_type": "code",
   "execution_count": null,
   "id": "d9a8af0f",
   "metadata": {},
   "outputs": [],
   "source": [
    "# Only include the first pair of messages where multiple COPC messages with successful acknowledgements were sent in a single transfer\n",
    "# The following code identifies indexes of messages we want to remove in df, and then removes them\n",
    "if reduce_COPC_messages:\n",
    "    all_messages=all_messages.reset_index(drop=True)\n",
    "    COPC_data=all_messages.copy()\n",
    "\n",
    "    # Sender COPCs\n",
    "    COPCs_bool=(COPC_data['supplier_type']=='sender') & (COPC_data['interaction_name']=='COPC')\n",
    "    COPC_data=COPC_data.loc[COPCs_bool].reset_index().rename({'index':'Sender COPC index'},axis=1)\n",
    "\n",
    "    # Requestor COPC ack\n",
    "    COPC_data=COPC_data.merge(all_messages[['messageRef','interaction_name', 'jdiEvent']].reset_index().rename({'index':'Requestor COPC ack index'},axis=1),left_on='GUID',right_on='messageRef',how='inner')\n",
    "\n",
    "    # Filter out anything with a negative acknowledgement (ie a JDI event)\n",
    "    successful_responses_bool=COPC_data['jdiEvent_y']==\"\"\n",
    "    COPC_data=COPC_data.loc[successful_responses_bool]\n",
    "\n",
    "    COPC_data=COPC_data[['conversation_id','Sender COPC index','Requestor COPC ack index']].groupby('conversation_id').agg(list)\n",
    "\n",
    "    multiple_COPC_message_conversations_bool=COPC_data['Sender COPC index'].apply(len)>1\n",
    "    COPC_data=COPC_data.loc[multiple_COPC_message_conversations_bool]\n",
    "    messages_to_remove=COPC_data.apply(lambda row: row['Sender COPC index'][1:]+row['Requestor COPC ack index'][1:],axis=1).explode().values\n",
    "    all_messages=all_messages.drop(messages_to_remove,axis=0)"
   ]
  },
  {
   "cell_type": "code",
   "execution_count": null,
   "id": "6b63db50",
   "metadata": {},
   "outputs": [],
   "source": [
    "print('Now constructing full interactions')\n",
    "a=time.perf_counter()\n",
    "all_messages_listed=all_messages.merge(all_messages[['GUID','interaction_name']].rename({'interaction_name':'interaction_response'},axis=1),left_on='messageRef',right_on='GUID',how='left')\n",
    "all_messages_listed['interaction_response']=all_messages_listed['interaction_response'].fillna(\"\")\n",
    "all_messages_listed['interaction']=all_messages_listed['interaction_response']+all_messages_listed['interaction_name']\n",
    "all_messages_listed[\"messages\"] = list(zip(all_messages_listed[\"supplier_type\"], all_messages_listed[\"interaction\"], all_messages_listed[\"jdiEvent\"]))\n",
    "all_messages_listed[\"messages\"] = all_messages_listed[\"messages\"].apply(list)\n",
    "all_messages_listed=all_messages_listed[[\"conversation_id\", \"messages\"]]\n",
    "all_messages_listed\n",
    "print(time.perf_counter()-a)\n",
    "\n",
    "print('Now Grouping by conversation')\n",
    "a=time.perf_counter()\n",
    "full_field_data=all_messages_listed.groupby('conversation_id')['messages'].apply(list)\n",
    "print(time.perf_counter()-a)\n",
    "\n",
    "if overwrite_files:\n",
    "    print('Now Saving Data')\n",
    "    pd.DataFrame(full_field_data).to_parquet(f's3://prm-gp2gp-data-sandbox-dev/extra-fields-data-from-splunk/Sept_20_Feb_21_conversations_extended_interaction_messages{COPC_tag}.parquet')"
   ]
  },
  {
   "cell_type": "markdown",
   "id": "56704533",
   "metadata": {},
   "source": [
    "## Stage 2\n",
    "\n",
    "Create csv files, which show the most common supplier pathway, status and message list combinations."
   ]
  },
  {
   "cell_type": "code",
   "execution_count": null,
   "id": "216737a4",
   "metadata": {},
   "outputs": [],
   "source": [
    "conversations_extended_interaction_messages=pd.read_parquet(f's3://prm-gp2gp-data-sandbox-dev/extra-fields-data-from-splunk/Sept_20_Feb_21_conversations_extended_interaction_messages{COPC_tag}.parquet')\n",
    "# turning messages from list of list to tuple of tuples (since they are hasable)\n",
    "conversations_extended_interaction_messages[\"messages\"]=conversations_extended_interaction_messages[\"messages\"].apply(lambda message_list: tuple([tuple(message) for message in message_list]))"
   ]
  },
  {
   "cell_type": "code",
   "execution_count": null,
   "id": "ea7961fb",
   "metadata": {},
   "outputs": [],
   "source": [
    "# Attach this message list to the transfers dataframe\n",
    "transfers_with_message_list = transfers.merge(conversations_extended_interaction_messages, left_on=\"conversation_id\", right_index=True)"
   ]
  },
  {
   "cell_type": "code",
   "execution_count": null,
   "id": "8fffd4e5",
   "metadata": {},
   "outputs": [],
   "source": [
    "# Count of transfers per status and supplier pathway and message pattern combination\n",
    "message_list_prevelance_table = transfers_with_message_list.groupby([\"sending_supplier\", \"requesting_supplier\", \"status\", \"messages\"]).agg({\"conversation_id\": \"count\"})\n",
    "message_list_prevelance_table = message_list_prevelance_table.rename({\"conversation_id\": \"Total Number of transfers\"}, axis=1).sort_values(by=\"Total Number of transfers\", ascending=False)"
   ]
  },
  {
   "cell_type": "code",
   "execution_count": null,
   "id": "3af85115",
   "metadata": {},
   "outputs": [],
   "source": [
    "total_transfer_count = message_list_prevelance_table[\"Total Number of transfers\"].sum()\n",
    "message_list_prevelance_table[\"% Transfers\"] = (message_list_prevelance_table[\"Total Number of transfers\"] / total_transfer_count).multiply(100).round(2)"
   ]
  },
  {
   "cell_type": "code",
   "execution_count": null,
   "id": "ce93b58a",
   "metadata": {},
   "outputs": [],
   "source": [
    "## Let's add a column with the percentage of transfers for that combination of Supplier Pathway and status\n",
    "\n",
    "# The columns we are aggregating on (ie supplier pathway and status)\n",
    "column_interested_in = [\"sending_supplier\", \"requesting_supplier\", \"status\"]\n",
    "\n",
    "# Create a table of the count of transfers for each of these supplier pathways\n",
    "pathway_and_status_counts = transfers_with_message_list.groupby(column_interested_in).agg({\"conversation_id\": \"count\"})\n",
    "pathway_and_status_counts = pathway_and_status_counts.rename({\"conversation_id\": \"Pathway and status totals\"}, axis=1)\n",
    "\n",
    "# Take the relevant indexes from our original table and use this to get a full list of the number of transfers for each row's pathway and status\n",
    "order_of_indexes_needed=message_list_prevelance_table.reset_index().set_index(column_interested_in).index\n",
    "ordered_totals=pathway_and_status_counts.loc[order_of_indexes_needed]\n",
    "\n",
    "# Divide the transfers by these values to get the percentage\n",
    "message_list_prevelance_table[\"% Pathway and status transfers\"] =(message_list_prevelance_table['Total Number of transfers'].values/ordered_totals['Pathway and status totals'].values)\n",
    "message_list_prevelance_table[\"% Pathway and status transfers\"] =message_list_prevelance_table[\"% Pathway and status transfers\"].multiply(100).round(2)"
   ]
  },
  {
   "cell_type": "code",
   "execution_count": null,
   "id": "fe22e75d",
   "metadata": {},
   "outputs": [],
   "source": [
    "message_list_prevelance_table.shape"
   ]
  },
  {
   "cell_type": "code",
   "execution_count": null,
   "id": "09a33af8",
   "metadata": {},
   "outputs": [],
   "source": [
    "# Filtering out the combinations that only have one transfer associated\n",
    "reduced_message_list_prevelance_table_bool = message_list_prevelance_table[\"Total Number of transfers\"] > 1\n",
    "reduced_message_list_prevelance_table = message_list_prevelance_table[reduced_message_list_prevelance_table_bool]\n",
    "reduced_message_list_prevelance_table.shape"
   ]
  },
  {
   "cell_type": "code",
   "execution_count": null,
   "id": "10947acb",
   "metadata": {},
   "outputs": [],
   "source": [
    "print(f\"Note: there are {message_list_prevelance_table.shape[0] - reduced_message_list_prevelance_table.shape[0]} combinations of supplier pathway, status and message pattern with only 1 transfer associated, which we have filtered out\")"
   ]
  },
  {
   "cell_type": "code",
   "execution_count": null,
   "id": "16fac001",
   "metadata": {},
   "outputs": [],
   "source": [
    "if overwrite_files:\n",
    "    pd.DataFrame(reduced_message_list_prevelance_table).to_csv(f's3://prm-gp2gp-data-sandbox-dev/notebook-outputs/36--PRMT-2059-high-level-table-of-message-patterns-reduced{COPC_tag}.csv')"
   ]
  },
  {
   "cell_type": "markdown",
   "id": "4034d733",
   "metadata": {},
   "source": [
    "## Addendum - Closer inspection of pending message patterns"
   ]
  },
  {
   "cell_type": "code",
   "execution_count": null,
   "id": "a380befd",
   "metadata": {},
   "outputs": [],
   "source": [
    "message_table = message_list_prevelance_table.reset_index()\n",
    "\n",
    "single_message_pending = message_table.loc[35, \"messages\"]\n",
    "two_messages_pending = message_table.loc[18, \"messages\"]\n",
    "\n",
    "missing_req_completed_pending_bool = message_table[\"messages\"].isin([single_message_pending, two_messages_pending])\n",
    "main_suppliers_bool = (message_table[\"sending_supplier\"].isin([\"EMIS\", \"TPP\", \"Vision\"])) & (message_table[\"requesting_supplier\"].isin([\"EMIS\", \"TPP\", \"Vision\"]))\n",
    "message_table=message_table[main_suppliers_bool & missing_req_completed_pending_bool]"
   ]
  },
  {
   "cell_type": "code",
   "execution_count": null,
   "id": "782ac43b",
   "metadata": {},
   "outputs": [],
   "source": [
    "reduced_messages_table=message_list_prevelance_table.copy().reset_index()\n",
    "reduced_messages_table['Message Pattern Type']='Other'\n",
    "\n",
    "single_message_bool=reduced_messages_table[\"messages\"].isin([single_message_pending])\n",
    "two_messages_bool=reduced_messages_table[\"messages\"].isin([two_messages_pending])\n",
    "three_messages_pending=message_list_prevelance_table.reset_index().loc[14,\"messages\"]\n",
    "three_messages_bool=reduced_messages_table[\"messages\"].isin([three_messages_pending])\n",
    "sender_complete_message=three_messages_pending[1]\n",
    "ready_for_integration_bool=reduced_messages_table['messages'].apply(lambda message: sender_complete_message in message)\n",
    "\n",
    "reduced_messages_table.loc[single_message_bool,'Message Pattern Type']='Transfer Started (Single Message)'\n",
    "reduced_messages_table.loc[two_messages_bool,'Message Pattern Type']='Transfer Acknowledged (Two Messages)'\n",
    "reduced_messages_table.loc[three_messages_bool,'Message Pattern Type']='Awaiting Integration (Three Messages)'\n",
    "reduced_messages_table.loc[ready_for_integration_bool,'Message Pattern Type']='Awaiting Integration (Sender Complete Message)'\n"
   ]
  },
  {
   "cell_type": "code",
   "execution_count": null,
   "id": "143a54af",
   "metadata": {},
   "outputs": [],
   "source": [
    "sender_complete_message"
   ]
  },
  {
   "cell_type": "code",
   "execution_count": null,
   "id": "a1ce6f8b",
   "metadata": {},
   "outputs": [],
   "source": [
    "reduced_messages_table_summary=reduced_messages_table.pivot_table(index='status',columns='Message Pattern Type',values='Total Number of transfers',aggfunc='sum').fillna(0).astype(int)\n",
    "\n",
    "reduced_messages_table_summary_pc=reduced_messages_table_summary.div(reduced_messages_table_summary.sum(axis=1),axis=0).multiply(100).round(2)\n",
    "reduced_messages_table_summary_pc.columns=\"% \" + reduced_messages_table_summary_pc.columns\n",
    "\n",
    "print('Proportions of Transfers that have certain message patterns')\n",
    "pd.concat([reduced_messages_table_summary,reduced_messages_table_summary_pc],axis=1)"
   ]
  },
  {
   "cell_type": "code",
   "execution_count": null,
   "id": "7a5f3bdd",
   "metadata": {},
   "outputs": [],
   "source": [
    "reduced_messages_table['Transferred Successfully']=ready_for_integration_bool\n",
    "pending_transfers_table=reduced_messages_table.loc[reduced_messages_table['status']=='PENDING']\n",
    "pending_transfers_by_pathway=pending_transfers_table.pivot_table(index=['sending_supplier','requesting_supplier'],columns='Transferred Successfully',values='Total Number of transfers',aggfunc='sum')\n",
    "pending_transfers_by_pathway.columns=pending_transfers_by_pathway.columns.astype(str)\n",
    "transfer_fail_rate=pd.DataFrame((pending_transfers_by_pathway['False']/pending_transfers_by_pathway.sum(axis=1)).multiply(100).rename('% Failed to Transfer'))\n",
    "transfer_fail_rate=transfer_fail_rate.reset_index().pivot_table(index='sending_supplier',columns='requesting_supplier',values='% Failed to Transfer').fillna(0)\n",
    "print('What percentage of each pathway does not seem to contain a successful transfer message from the sender')\n",
    "transfer_fail_rate.loc[['EMIS','TPP','Vision'],['EMIS','TPP','Vision']].round(1)"
   ]
  },
  {
   "cell_type": "code",
   "execution_count": null,
   "id": "5815cdcf",
   "metadata": {},
   "outputs": [],
   "source": [
    "pending_messages=message_list_prevelance_table.reset_index().loc[message_list_prevelance_table.reset_index()[\"status\"]==\"PENDING\"]\n",
    "pending_messages.groupby('messages').agg({'Total Number of transfers':'sum'}).sort_values(by='Total Number of transfers',ascending=False)\n"
   ]
  },
  {
   "cell_type": "code",
   "execution_count": null,
   "id": "8de38185",
   "metadata": {},
   "outputs": [],
   "source": [
    "three_messages_pending"
   ]
  },
  {
   "cell_type": "code",
   "execution_count": null,
   "id": "33551c50",
   "metadata": {},
   "outputs": [],
   "source": [
    "transfers.groupby('status').agg({'conversation_id':'count'})"
   ]
  },
  {
   "cell_type": "code",
   "execution_count": null,
   "id": "bfe249b3",
   "metadata": {},
   "outputs": [],
   "source": [
    "# For a given supplier pathway, what is a percentage chance of the transfer having the given message patterns\n",
    "supplier_pathway_missing_messages_table = message_table.pivot_table(index=[\"sending_supplier\", \"requesting_supplier\"], columns=\"messages\", values=[\"Total Number of transfers\"], aggfunc=\"sum\").fillna(0)\n",
    "supplier_pathway_transfer_count = transfers.groupby([\"sending_supplier\", \"requesting_supplier\"]).agg({\"conversation_id\": \"count\"})\n",
    "relevant_pathway_counts = supplier_pathway_transfer_count.loc[supplier_pathway_missing_messages_table.index]\n",
    "supplier_pathway_missing_messages_table.div(relevant_pathway_counts.values, axis=0).multiply(100).round(2)"
   ]
  },
  {
   "cell_type": "code",
   "execution_count": null,
   "id": "a2036e75",
   "metadata": {},
   "outputs": [],
   "source": [
    "# For each supplier pathway, what proportion of their pending transfers have the given message patterns\n",
    "pending_status_bool = message_table[\"status\"] == \"PENDING\"\n",
    "pending_message_table = message_table[pending_status_bool]\n",
    "\n",
    "pending_message_table.pivot_table(index=[\"sending_supplier\", \"requesting_supplier\"], columns=\"messages\", values=[\"% Pathway and status transfers\"], aggfunc=\"sum\").fillna(0)"
   ]
  },
  {
   "cell_type": "code",
   "execution_count": null,
   "id": "1ee8dc3b",
   "metadata": {},
   "outputs": [],
   "source": []
  }
 ],
 "metadata": {
  "kernelspec": {
   "display_name": "conda_python3",
   "language": "python",
   "name": "conda_python3"
  },
  "language_info": {
   "codemirror_mode": {
    "name": "ipython",
    "version": 3
   },
   "file_extension": ".py",
   "mimetype": "text/x-python",
   "name": "python",
   "nbconvert_exporter": "python",
   "pygments_lexer": "ipython3",
   "version": "3.6.13"
  }
 },
 "nbformat": 4,
 "nbformat_minor": 5
}
