{
 "cells": [
  {
   "cell_type": "markdown",
   "id": "0ce598e8",
   "metadata": {},
   "source": [
    "# PRMT-2059 Generate high level table of message patterns prevalance\n",
    "We believe that being able to break down transfers by the set of messages that occur between the sending and receiving supplier will give us a better understanding of what the actual status of the transfer is. \n",
    "\n",
    "In particular, Pending transfers may have a technical issue or may be awaiting practice integration - we may be able to distinguish between these. \n",
    "For 6 months of transfers (September 2020 to Feb 2021), we wish to be able to see the list of messages in the form:\n",
    "- The message creator (sending or requesting practice)\n",
    "- The message type (interaction name)\n",
    "- Any associate code (jdi event)\n",
    "\n",
    "We then wish to break down all transfers by:\n",
    "- The supplier pathway\n",
    "- The Status\n",
    "- The message chain\n",
    "And order these in a table according to how common they are\n"
   ]
  },
  {
   "cell_type": "code",
   "execution_count": 1,
   "id": "c9ccb208",
   "metadata": {},
   "outputs": [],
   "source": [
    "import pandas as pd\n",
    "import numpy as np\n",
    "import time"
   ]
  },
  {
   "cell_type": "code",
   "execution_count": 2,
   "id": "d03640ef",
   "metadata": {},
   "outputs": [],
   "source": [
    "overwrite_files = True"
   ]
  },
  {
   "cell_type": "markdown",
   "id": "63e6f87e",
   "metadata": {},
   "source": [
    "## Importing transfer data"
   ]
  },
  {
   "cell_type": "code",
   "execution_count": 3,
   "id": "752e0e21",
   "metadata": {},
   "outputs": [],
   "source": [
    "# Import transfer files to extract whether message creator is sender or requester\n",
    "# Using data generated from branch PRMT-1742-duplicates-analysis.\n",
    "# This is needed to correctly handle duplicates.\n",
    "# Once the upstream pipeline has a fix for duplicate EHRs, then we can go back to using the main output.\n",
    "transfer_file_location = \"s3://prm-gp2gp-data-sandbox-dev/transfers-duplicates-hypothesis/\"\n",
    "transfer_files = [\n",
    "    \"9-2020-transfers.parquet\",\n",
    "    \"10-2020-transfers.parquet\",\n",
    "    \"11-2020-transfers.parquet\",\n",
    "    \"12-2020-transfers.parquet\",\n",
    "    \"1-2021-transfers.parquet\",\n",
    "    \"2-2021-transfers.parquet\"\n",
    "]\n",
    "\n",
    "transfer_input_files = [transfer_file_location + f for f in transfer_files]\n",
    "transfers_raw = pd.concat((\n",
    "    pd.read_parquet(f)\n",
    "    for f in transfer_input_files\n",
    "))\n",
    "\n",
    "# In the data from the PRMT-1742-duplicates-analysis branch, these columns have been added , but contain only empty values.\n",
    "transfers_raw = transfers_raw.drop([\"sending_supplier\", \"requesting_supplier\"], axis=1)\n",
    "\n",
    "# Given the findings in PRMT-1742 - many duplicate EHR errors are misclassified, the below reclassifies the relevant data\n",
    "has_at_least_one_successful_integration_code = lambda errors: any((np.isnan(e) or e==15 for e in errors))\n",
    "successful_transfers_bool = transfers_raw['request_completed_ack_codes'].apply(has_at_least_one_successful_integration_code)\n",
    "transfers = transfers_raw.copy()\n",
    "transfers.loc[successful_transfers_bool, \"status\"] = \"INTEGRATED\"\n",
    "\n",
    "# Correctly interpret certain sender errors as failed.\n",
    "# This is explained in PRMT-1974. Eventually this will be fixed upstream in the pipeline.\n",
    "pending_sender_error_codes=[6,7,10,24,30,23,14,99]\n",
    "transfers_with_pending_sender_code_bool=transfers['sender_error_code'].isin(pending_sender_error_codes)\n",
    "transfers_with_pending_with_error_bool=transfers['status']=='PENDING_WITH_ERROR'\n",
    "transfers_which_need_pending_to_failure_change_bool=transfers_with_pending_sender_code_bool & transfers_with_pending_with_error_bool\n",
    "transfers.loc[transfers_which_need_pending_to_failure_change_bool,'status']='FAILED'\n",
    "\n",
    "# Add integrated Late status\n",
    "eight_days_in_seconds=8*24*60*60\n",
    "transfers_after_sla_bool=transfers['sla_duration']>eight_days_in_seconds\n",
    "transfers_with_integrated_bool=transfers['status']=='INTEGRATED'\n",
    "transfers_integrated_late_bool=transfers_after_sla_bool & transfers_with_integrated_bool\n",
    "transfers.loc[transfers_integrated_late_bool,'status']='INTEGRATED LATE'\n",
    "\n",
    "# If the record integrated after 28 days, change the status back to pending.\n",
    "# This is to handle each month consistently and to always reflect a transfers status 28 days after it was made.\n",
    "# TBD how this is handled upstream in the pipeline\n",
    "twenty_eight_days_in_seconds=28*24*60*60\n",
    "transfers_after_month_bool=transfers['sla_duration']>twenty_eight_days_in_seconds\n",
    "transfers_pending_at_month_bool=transfers_after_month_bool & transfers_integrated_late_bool\n",
    "transfers.loc[transfers_pending_at_month_bool,'status']='PENDING'\n",
    "transfers_with_early_error_bool=(~transfers.loc[:,'sender_error_code'].isna()) |(~transfers.loc[:,'intermediate_error_codes'].apply(len)>0)\n",
    "transfers.loc[transfers_with_early_error_bool & transfers_pending_at_month_bool,'status']='PENDING_WITH_ERROR'\n",
    "\n",
    "# Supplier name mapping\n",
    "supplier_renaming = {\n",
    "    \"EGTON MEDICAL INFORMATION SYSTEMS LTD (EMIS)\":\"EMIS\",\n",
    "    \"IN PRACTICE SYSTEMS LTD\":\"Vision\",\n",
    "    \"MICROTEST LTD\":\"Microtest\",\n",
    "    \"THE PHOENIX PARTNERSHIP\":\"TPP\",\n",
    "    None: \"Unknown\"\n",
    "}\n",
    "\n",
    "asid_lookup_file = \"s3://prm-gp2gp-data-sandbox-dev/asid-lookup/asidLookup-Mar-2021.csv.gz\"\n",
    "asid_lookup = pd.read_csv(asid_lookup_file)\n",
    "lookup = asid_lookup[[\"ASID\", \"MName\", \"NACS\",\"OrgName\"]]\n",
    "\n",
    "transfers = transfers.merge(lookup, left_on='requesting_practice_asid',right_on='ASID',how='left')\n",
    "transfers = transfers.rename({'MName': 'requesting_supplier', 'ASID': 'requesting_supplier_asid', 'NACS': 'requesting_ods_code','OrgName':'requesting_practice_name'}, axis=1)\n",
    "transfers = transfers.merge(lookup, left_on='sending_practice_asid',right_on='ASID',how='left')\n",
    "transfers = transfers.rename({'MName': 'sending_supplier', 'ASID': 'sending_supplier_asid', 'NACS': 'sending_ods_code','OrgName':'sending_practice_name'}, axis=1)\n",
    "\n",
    "transfers[\"sending_supplier\"] = transfers[\"sending_supplier\"].replace(supplier_renaming.keys(), supplier_renaming.values())\n",
    "transfers[\"requesting_supplier\"] = transfers[\"requesting_supplier\"].replace(supplier_renaming.keys(), supplier_renaming.values())"
   ]
  },
  {
   "cell_type": "markdown",
   "id": "f6a751f5",
   "metadata": {},
   "source": [
    "## Stage 1\n",
    "\n",
    "For each of the message from the Spine raw data, we extract the following:\n",
    "- messageCreator: \"sender\", \"requestor\"\n",
    "- messageType: interactionName (e.g. \"request completed\")\n",
    "- errorCode: None / int\n",
    "To produce for each message the following list: e.g. `[\"sender\", \"interactionName\", None]`\n",
    "\n",
    "Then for each transfer, we merged with the above to produce the following:\n",
    "- conversationID: str\n",
    "- messages: list of messages in the transfer e.g. `[[\"sender\", \"interactionName\", None], [\"sender\", \"interactionName\", None]]`\n",
    "\n",
    "We then save this as a parquet file to the following location: s3://prm-gp2gp-data-sandbox-dev/extra-fields-data-from-splunk/Sept_20_Feb_21_conversations_extended_interaction_messages.parquet"
   ]
  },
  {
   "cell_type": "code",
   "execution_count": 4,
   "id": "d4e92681",
   "metadata": {},
   "outputs": [],
   "source": [
    "# conversation_id, asid, supplier_type\n",
    "requesting_supplier_type_map = transfers_raw[[\"conversation_id\", \"requesting_practice_asid\", \"date_requested\"]].drop_duplicates()\n",
    "sending_supplier_type_map = transfers_raw[[\"conversation_id\", \"sending_practice_asid\", \"date_requested\"]].drop_duplicates()\n",
    "\n",
    "requesting_supplier_type_map[\"supplier_type\"] = \"requestor\"\n",
    "sending_supplier_type_map[\"supplier_type\"] = \"sender\"\n",
    "\n",
    "requesting_supplier_type_map = requesting_supplier_type_map.rename({\"requesting_practice_asid\": \"practice_asid\"}, axis=1)\n",
    "sending_supplier_type_map = sending_supplier_type_map.rename({\"sending_practice_asid\": \"practice_asid\"}, axis=1)\n",
    "\n",
    "supplier_type_mapping = pd.concat([requesting_supplier_type_map, sending_supplier_type_map])\n",
    "supplier_type_mapping[\"practice_asid\"] = supplier_type_mapping[\"practice_asid\"].astype(int)"
   ]
  },
  {
   "cell_type": "code",
   "execution_count": 5,
   "id": "826a3ed8",
   "metadata": {},
   "outputs": [],
   "source": [
    "# Define a list of files to be loaded in\n",
    "folder=\"s3://prm-gp2gp-data-sandbox-dev/spine-gp2gp-data/\"\n",
    "files=[\"Sept-2020\",\"Oct-2020\"]\n",
    "# ,\"Nov-2020\",\"Dec-2020\",\"Jan-2021\",\"Feb-2021\",\"Mar-2021\"\n",
    "full_filenames=[folder + file + \".csv.gz\" for file in files]"
   ]
  },
  {
   "cell_type": "code",
   "execution_count": 6,
   "id": "d69463a5",
   "metadata": {},
   "outputs": [],
   "source": [
    "# Rename message types to be human readable\n",
    "interaction_name_mapping={\"urn:nhs:names:services:gp2gp/RCMR_IN010000UK05\":\"req start\",\n",
    "\"urn:nhs:names:services:gp2gp/RCMR_IN030000UK06\":\"req complete\",\n",
    "\"urn:nhs:names:services:gp2gp/COPC_IN000001UK01\":\"COPC\",\n",
    "\"urn:nhs:names:services:gp2gp/MCCI_IN010000UK13\":\"app ack\"}"
   ]
  },
  {
   "cell_type": "code",
   "execution_count": 7,
   "id": "970855d6",
   "metadata": {},
   "outputs": [],
   "source": [
    "def generate_single_frame(file):\n",
    "    a=time.perf_counter()\n",
    "    print(\"Now Processing \" + file)\n",
    "    df=pd.read_csv(file, compression='gzip',error_bad_lines=False)\n",
    "    df=df.sort_values(by='_time')\n",
    "\n",
    "    # filter out conversations that are not september transfers & maps whether supplier who sent message is the requesting or sending practice\n",
    "    df = df.merge(supplier_type_mapping, left_on=[\"conversationID\", \"messageSender\"], right_on=[\"conversation_id\", \"practice_asid\"], how=\"left\")\n",
    "    \n",
    "    # filter out conversations that took place more than 28 days after the date requested\n",
    "    in_time_message_bool = (pd.to_datetime(df[\"_time\"]).dt.tz_localize(None) - df[\"date_requested\"]).dt.seconds <= twenty_eight_days_in_seconds\n",
    "    df = df.loc[in_time_message_bool]\n",
    "    \n",
    "    # overview of supplier type mapping\n",
    "    df['interaction_name']=df['interactionID'].replace(interaction_name_mapping)\n",
    "    df[\"jdiEvent\"] = df[\"jdiEvent\"].replace(\"NONE\", \"\")\n",
    "    df[\"messages\"] = list(zip(df[\"supplier_type\"], df[\"interaction_name\"], df[\"jdiEvent\"]))\n",
    "    df[\"messages\"] = df[\"messages\"].apply(list)\n",
    "    df=df[[\"conversation_id\", \"messages\"]]\n",
    "    print(time.perf_counter()-a)\n",
    "    return df"
   ]
  },
  {
   "cell_type": "code",
   "execution_count": 8,
   "id": "a7baef4c",
   "metadata": {},
   "outputs": [
    {
     "name": "stdout",
     "output_type": "stream",
     "text": [
      "Now Processing s3://prm-gp2gp-data-sandbox-dev/spine-gp2gp-data/Sept-2020.csv.gz\n",
      "64.21175881700037\n",
      "Now Processing s3://prm-gp2gp-data-sandbox-dev/spine-gp2gp-data/Oct-2020.csv.gz\n",
      "56.95174786300049\n"
     ]
    }
   ],
   "source": [
    "field_data=[generate_single_frame(file) for file in full_filenames]"
   ]
  },
  {
   "cell_type": "code",
   "execution_count": 9,
   "id": "78609001",
   "metadata": {},
   "outputs": [
    {
     "name": "stdout",
     "output_type": "stream",
     "text": [
      "Now Concatenating\n",
      "0.3748552999968524\n",
      "Now identifying and removing NaN conversation IDs\n",
      "1.0954096030000073\n",
      "Now Grouping by conversation\n",
      "25.15250265099894\n"
     ]
    }
   ],
   "source": [
    "print('Now Concatenating')\n",
    "a=time.perf_counter()\n",
    "full_field_data=pd.concat(field_data,axis=0)\n",
    "print(time.perf_counter()-a)\n",
    "\n",
    "print('Now identifying and removing NaN conversation IDs')\n",
    "a=time.perf_counter()\n",
    "valid_conversation_bool=~full_field_data['conversation_id'].isna()\n",
    "full_field_data=full_field_data.loc[valid_conversation_bool]\n",
    "print(time.perf_counter()-a)\n",
    "\n",
    "print('Now Grouping by conversation')\n",
    "a=time.perf_counter()\n",
    "full_field_data=full_field_data.groupby('conversation_id')['messages'].apply(list)\n",
    "print(time.perf_counter()-a)"
   ]
  },
  {
   "cell_type": "code",
   "execution_count": 10,
   "id": "ba438ad7",
   "metadata": {},
   "outputs": [
    {
     "name": "stdout",
     "output_type": "stream",
     "text": [
      "Now Saving Data\n"
     ]
    }
   ],
   "source": [
    "print('Now Saving Data')\n",
    "\n",
    "if overwrite_files:\n",
    "    pd.DataFrame(full_field_data).to_parquet('s3://prm-gp2gp-data-sandbox-dev/extra-fields-data-from-splunk/Sept_20_Feb_21_conversations_extended_interaction_messages.parquet')"
   ]
  },
  {
   "cell_type": "markdown",
   "id": "cd146f16",
   "metadata": {},
   "source": [
    "## Stage 2.\n",
    "\n",
    "a. We load in the original transfer data and for each transfer, and for each transfer we will have a list all messages associated (by joining in the message list dataset from above)\n",
    "\n",
    "b. We group by supplier pathway, status and message\n",
    "     - We count for each one, order it, add percentages and this is the final output"
   ]
  },
  {
   "cell_type": "code",
   "execution_count": 11,
   "id": "ccee63b3",
   "metadata": {},
   "outputs": [],
   "source": [
    "conversations_extended_interaction_messages=pd.read_parquet('s3://prm-gp2gp-data-sandbox-dev/extra-fields-data-from-splunk/Sept_20_Feb_21_conversations_extended_interaction_messages.parquet')\n",
    "conversations_extended_interaction_messages[\"messages\"]=conversations_extended_interaction_messages[\"messages\"].apply(lambda message_list: tuple([tuple(message) for message in message_list]))"
   ]
  },
  {
   "cell_type": "code",
   "execution_count": 12,
   "id": "abe930de",
   "metadata": {},
   "outputs": [],
   "source": [
    "transfers_with_message_list = transfers.merge(conversations_extended_interaction_messages, left_on=\"conversation_id\", right_index=True)"
   ]
  },
  {
   "cell_type": "code",
   "execution_count": 13,
   "id": "b22f9abe",
   "metadata": {},
   "outputs": [
    {
     "data": {
      "text/html": [
       "<div>\n",
       "<style scoped>\n",
       "    .dataframe tbody tr th:only-of-type {\n",
       "        vertical-align: middle;\n",
       "    }\n",
       "\n",
       "    .dataframe tbody tr th {\n",
       "        vertical-align: top;\n",
       "    }\n",
       "\n",
       "    .dataframe thead th {\n",
       "        text-align: right;\n",
       "    }\n",
       "</style>\n",
       "<table border=\"1\" class=\"dataframe\">\n",
       "  <thead>\n",
       "    <tr style=\"text-align: right;\">\n",
       "      <th></th>\n",
       "      <th></th>\n",
       "      <th></th>\n",
       "      <th></th>\n",
       "      <th>Total Number of transfers</th>\n",
       "    </tr>\n",
       "    <tr>\n",
       "      <th>requesting_supplier</th>\n",
       "      <th>sending_supplier</th>\n",
       "      <th>status</th>\n",
       "      <th>messages</th>\n",
       "      <th></th>\n",
       "    </tr>\n",
       "  </thead>\n",
       "  <tbody>\n",
       "    <tr>\n",
       "      <th>EMIS</th>\n",
       "      <th>EMIS</th>\n",
       "      <th>INTEGRATED</th>\n",
       "      <th>((requestor, req start, ), (sender, req complete, ), (sender, app ack, ), (requestor, app ack, ))</th>\n",
       "      <td>153686</td>\n",
       "    </tr>\n",
       "    <tr>\n",
       "      <th>TPP</th>\n",
       "      <th>EMIS</th>\n",
       "      <th>INTEGRATED</th>\n",
       "      <th>((requestor, req start, ), (sender, req complete, ), (sender, app ack, ), (requestor, app ack, ))</th>\n",
       "      <td>50165</td>\n",
       "    </tr>\n",
       "    <tr>\n",
       "      <th rowspan=\"9\" valign=\"top\">EMIS</th>\n",
       "      <th>TPP</th>\n",
       "      <th>INTEGRATED</th>\n",
       "      <th>((requestor, req start, ), (sender, req complete, ), (sender, app ack, ), (requestor, app ack, ))</th>\n",
       "      <td>16743</td>\n",
       "    </tr>\n",
       "    <tr>\n",
       "      <th rowspan=\"8\" valign=\"top\">EMIS</th>\n",
       "      <th rowspan=\"7\" valign=\"top\">INTEGRATED</th>\n",
       "      <th>((requestor, req start, ), (sender, req complete, ), (sender, app ack, ), (requestor, COPC, ), (sender, COPC, ), (requestor, app ack, ), (requestor, app ack, ))</th>\n",
       "      <td>13244</td>\n",
       "    </tr>\n",
       "    <tr>\n",
       "      <th>((requestor, req start, ), (sender, req complete, ), (sender, app ack, ), (requestor, app ack, 15))</th>\n",
       "      <td>10296</td>\n",
       "    </tr>\n",
       "    <tr>\n",
       "      <th>...</th>\n",
       "      <td>...</td>\n",
       "    </tr>\n",
       "    <tr>\n",
       "      <th>((requestor, req start, ), (sender, req complete, ), (sender, app ack, ), (requestor, COPC, ), (sender, COPC, ), (sender, COPC, ), (requestor, app ack, ), (sender, COPC, ), (sender, COPC, ), (requestor, app ack, ), (sender, COPC, ), (requestor, app ack, ), (sender, COPC, ), (requestor, app ack, ), (requestor, app ack, ), (sender, COPC, ), (requestor, app ack, ), (sender, COPC, ), (requestor, app ack, ), (requestor, app ack, ), (sender, COPC, ), (sender, COPC, ), (requestor, app ack, ), (sender, COPC, ), (requestor, app ack, ), (requestor, app ack, ), (sender, COPC, ), (sender, COPC, ), (sender, COPC, ), (requestor, app ack, ), (requestor, app ack, ), (sender, COPC, ), (requestor, app ack, ), (requestor, app ack, ), (sender, COPC, ), (requestor, app ack, ), (sender, COPC, ), (sender, COPC, ), (requestor, app ack, ), (requestor, app ack, ), (requestor, app ack, ))</th>\n",
       "      <td>1</td>\n",
       "    </tr>\n",
       "    <tr>\n",
       "      <th>((requestor, req start, ), (sender, req complete, ), (sender, app ack, ), (requestor, COPC, ), (sender, COPC, ), (sender, COPC, ), (requestor, app ack, ), (sender, COPC, ), (sender, COPC, ), (requestor, app ack, ), (sender, COPC, ), (requestor, app ack, ), (sender, COPC, ), (requestor, app ack, ), (requestor, app ack, ), (sender, COPC, ), (requestor, app ack, ), (sender, COPC, ), (requestor, app ack, ), (requestor, app ack, ), (sender, COPC, ), (sender, COPC, ), (requestor, app ack, ), (sender, COPC, ), (requestor, app ack, ), (requestor, app ack, ), (sender, COPC, ), (requestor, app ack, ), (sender, req complete, ), (sender, app ack, ), (requestor, COPC, ), (sender, COPC, ), (requestor, app ack, ), (sender, COPC, ), (requestor, app ack, ), (sender, COPC, ), (sender, COPC, ), (requestor, app ack, ), (sender, COPC, ), (requestor, app ack, ), (sender, COPC, ), (requestor, app ack, ), (requestor, app ack, ), (sender, COPC, ), (requestor, app ack, ), (sender, COPC, ), (requestor, app ack, ), (sender, COPC, ), (requestor, app ack, ), (sender, COPC, ), (requestor, app ack, ), (sender, COPC, ), (requestor, app ack, ), (sender, COPC, ), (requestor, app ack, 12), (requestor, app ack, ), (requestor, app ack, ))</th>\n",
       "      <td>1</td>\n",
       "    </tr>\n",
       "    <tr>\n",
       "      <th>((requestor, req start, ), (sender, req complete, ), (sender, app ack, ), (requestor, COPC, ), (sender, COPC, ), (sender, COPC, ), (requestor, app ack, ), (sender, COPC, ), (sender, COPC, ), (requestor, app ack, ), (sender, COPC, ), (requestor, app ack, ), (sender, COPC, ), (requestor, app ack, ), (requestor, app ack, ), (sender, COPC, ), (requestor, app ack, ), (sender, COPC, ), (requestor, app ack, ), (requestor, app ack, ), (sender, COPC, ), (sender, COPC, ), (requestor, app ack, ), (requestor, app ack, ), (sender, COPC, ), (sender, COPC, ), (requestor, app ack, ), (sender, COPC, ), (sender, COPC, ), (requestor, app ack, ), (sender, COPC, ), (sender, COPC, ), (requestor, app ack, ), (sender, COPC, ), (requestor, app ack, ), (sender, COPC, ), (sender, COPC, ), (requestor, app ack, ), (requestor, app ack, ), (sender, COPC, ), (sender, COPC, ), (requestor, app ack, ), (requestor, app ack, ), (sender, COPC, ), (requestor, app ack, ), (requestor, app ack, ), (requestor, app ack, ), (requestor, app ack, ), (requestor, app ack, ))</th>\n",
       "      <td>1</td>\n",
       "    </tr>\n",
       "    <tr>\n",
       "      <th>((requestor, req start, ), (sender, req complete, ), (sender, app ack, ), (requestor, COPC, ), (sender, COPC, ), (sender, COPC, ), (requestor, app ack, ), (sender, COPC, ), (sender, COPC, ), (requestor, app ack, ), (sender, COPC, ), (requestor, app ack, ), (sender, COPC, ), (requestor, app ack, ), (requestor, app ack, ), (sender, COPC, ), (requestor, app ack, ), (sender, COPC, ), (requestor, app ack, ), (requestor, app ack, ), (sender, COPC, ), (sender, COPC, ), (requestor, app ack, ), (requestor, app ack, ), (sender, COPC, ), (sender, COPC, ), (requestor, app ack, ), (sender, COPC, ), (requestor, app ack, ), (sender, COPC, ), (requestor, app ack, ), (sender, COPC, ), (requestor, app ack, ), (sender, COPC, ), (requestor, app ack, ), (sender, COPC, ), (requestor, app ack, ), (sender, COPC, ), (requestor, app ack, ), (sender, COPC, ), (requestor, app ack, ), (sender, COPC, ), (sender, COPC, ), (requestor, app ack, ), (requestor, app ack, ), (sender, COPC, ), (requestor, app ack, ), (sender, COPC, ), (requestor, app ack, ), (sender, COPC, ), (requestor, app ack, ), (sender, COPC, ), (requestor, app ack, ), (sender, COPC, ), (requestor, app ack, ), (sender, COPC, ), (requestor, app ack, ), (sender, COPC, ), (requestor, app ack, ), (sender, COPC, ), (requestor, app ack, ), (sender, COPC, ), (requestor, app ack, ), (sender, COPC, ), (requestor, app ack, ), (sender, COPC, ), (requestor, app ack, ), (sender, COPC, ), (sender, COPC, ), (requestor, app ack, ), (sender, COPC, ), (requestor, app ack, ), (sender, COPC, ), (requestor, app ack, ), (sender, COPC, ), (requestor, app ack, ), (requestor, app ack, ), (requestor, app ack, ), (sender, COPC, ), (sender, COPC, ), (requestor, app ack, ), (sender, COPC, ), (requestor, app ack, ), (sender, COPC, ), (requestor, app ack, ), (sender, COPC, ), (requestor, app ack, ), (requestor, app ack, ), (sender, COPC, ), (requestor, app ack, ), (sender, COPC, ), (sender, COPC, ), (requestor, app ack, ), (requestor, app ack, ), (sender, COPC, ), (requestor, app ack, ), (sender, COPC, ), (sender, COPC, ), (requestor, app ack, ), (sender, COPC, ), ...)</th>\n",
       "      <td>1</td>\n",
       "    </tr>\n",
       "    <tr>\n",
       "      <th>INTEGRATED LATE</th>\n",
       "      <th>((requestor, req start, ), (sender, req complete, ), (sender, app ack, ), (requestor, COPC, ), (sender, COPC, ), (sender, COPC, ), (requestor, app ack, ), (sender, COPC, ), (requestor, app ack, ), (sender, COPC, ), (sender, COPC, ), (requestor, app ack, ), (sender, COPC, ), (requestor, app ack, ), (requestor, app ack, ), (sender, COPC, ), (requestor, app ack, ), (sender, COPC, ), (requestor, app ack, ), (sender, COPC, ), (requestor, app ack, ), (sender, COPC, ), (requestor, app ack, ), (sender, COPC, ), (requestor, app ack, ), (sender, COPC, ), (requestor, app ack, ), (sender, COPC, ), (requestor, app ack, ), (sender, COPC, ), (requestor, app ack, ), (sender, COPC, ), (requestor, app ack, ), (requestor, app ack, ), (sender, COPC, ), (sender, COPC, ), (requestor, app ack, ), (sender, COPC, ), (requestor, app ack, ), (sender, COPC, ), (requestor, app ack, ), (sender, COPC, ), (requestor, app ack, ), (sender, COPC, ), (requestor, app ack, ), (sender, COPC, ), (requestor, app ack, ), (sender, COPC, ), (requestor, app ack, ), (sender, COPC, ), (requestor, app ack, ), (requestor, app ack, ), (sender, COPC, ), (sender, COPC, ), (requestor, app ack, ), (requestor, app ack, ), (sender, COPC, ), (requestor, app ack, ), (sender, COPC, ), (sender, COPC, ), (requestor, app ack, ), (sender, COPC, ), (sender, COPC, ), (requestor, app ack, ), (requestor, app ack, ), (sender, COPC, ), (requestor, app ack, ), (requestor, app ack, ), (requestor, app ack, ))</th>\n",
       "      <td>1</td>\n",
       "    </tr>\n",
       "  </tbody>\n",
       "</table>\n",
       "<p>95978 rows × 1 columns</p>\n",
       "</div>"
      ],
      "text/plain": [
       "                                                                                                         Total Number of transfers\n",
       "requesting_supplier sending_supplier status          messages                                                                     \n",
       "EMIS                EMIS             INTEGRATED      ((requestor, req start, ), (sender, req complet...                     153686\n",
       "TPP                 EMIS             INTEGRATED      ((requestor, req start, ), (sender, req complet...                      50165\n",
       "EMIS                TPP              INTEGRATED      ((requestor, req start, ), (sender, req complet...                      16743\n",
       "                    EMIS             INTEGRATED      ((requestor, req start, ), (sender, req complet...                      13244\n",
       "                                                     ((requestor, req start, ), (sender, req complet...                      10296\n",
       "...                                                                                                                            ...\n",
       "                                                     ((requestor, req start, ), (sender, req complet...                          1\n",
       "                                                     ((requestor, req start, ), (sender, req complet...                          1\n",
       "                                                     ((requestor, req start, ), (sender, req complet...                          1\n",
       "                                                     ((requestor, req start, ), (sender, req complet...                          1\n",
       "                                     INTEGRATED LATE ((requestor, req start, ), (sender, req complet...                          1\n",
       "\n",
       "[95978 rows x 1 columns]"
      ]
     },
     "execution_count": 13,
     "metadata": {},
     "output_type": "execute_result"
    }
   ],
   "source": [
    "message_list_prevelance_table = transfers_with_message_list.groupby([\"requesting_supplier\", \"sending_supplier\", \"status\", \"messages\"]).agg({\"conversation_id\": \"count\"})\n",
    "message_list_prevelance_table = message_list_prevelance_table.rename({\"conversation_id\": \"Total Number of transfers\"}, axis=1).sort_values(by=\"Total Number of transfers\", ascending=False)\n",
    "message_list_prevelance_table"
   ]
  },
  {
   "cell_type": "code",
   "execution_count": 14,
   "id": "ae5ce09a",
   "metadata": {},
   "outputs": [
    {
     "data": {
      "text/plain": [
       "508081"
      ]
     },
     "execution_count": 14,
     "metadata": {},
     "output_type": "execute_result"
    }
   ],
   "source": [
    "total_transfer_count = message_list_prevelance_table[\"Total Number of transfers\"].sum()\n",
    "total_transfer_count"
   ]
  },
  {
   "cell_type": "code",
   "execution_count": 15,
   "id": "8690cd7c",
   "metadata": {},
   "outputs": [
    {
     "data": {
      "text/plain": [
       "(95978, 1)"
      ]
     },
     "execution_count": 15,
     "metadata": {},
     "output_type": "execute_result"
    }
   ],
   "source": [
    "message_list_prevelance_table.shape"
   ]
  },
  {
   "cell_type": "code",
   "execution_count": 16,
   "id": "d34ba972",
   "metadata": {},
   "outputs": [],
   "source": [
    "message_list_prevelance_table[\"% Transfers\"] = (message_list_prevelance_table[\"Total Number of transfers\"] / total_transfer_count).multiply(100).round(2)"
   ]
  },
  {
   "cell_type": "code",
   "execution_count": 17,
   "id": "4238674f",
   "metadata": {},
   "outputs": [
    {
     "data": {
      "text/plain": [
       "(5494, 2)"
      ]
     },
     "execution_count": 17,
     "metadata": {},
     "output_type": "execute_result"
    }
   ],
   "source": [
    "reduced_message_list_prevelance_table_bool = message_list_prevelance_table[\"Total Number of transfers\"] > 1\n",
    "reduced_message_list_prevelance_table = message_list_prevelance_table[reduced_message_list_prevelance_table_bool]\n",
    "reduced_message_list_prevelance_table.shape"
   ]
  },
  {
   "cell_type": "code",
   "execution_count": 18,
   "id": "f80a6188",
   "metadata": {},
   "outputs": [],
   "source": [
    "if overwrite_files:\n",
    "    pd.DataFrame(reduced_message_list_prevelance_table).to_csv('s3://prm-gp2gp-data-sandbox-dev/notebook-outputs/36--PRMT-2059-high-level-table-of-message-patterns-reduced.csv')"
   ]
  }
 ],
 "metadata": {
  "kernelspec": {
   "display_name": "conda_python3",
   "language": "python",
   "name": "conda_python3"
  },
  "language_info": {
   "codemirror_mode": {
    "name": "ipython",
    "version": 3
   },
   "file_extension": ".py",
   "mimetype": "text/x-python",
   "name": "python",
   "nbconvert_exporter": "python",
   "pygments_lexer": "ipython3",
   "version": "3.6.13"
  }
 },
 "nbformat": 4,
 "nbformat_minor": 5
}
