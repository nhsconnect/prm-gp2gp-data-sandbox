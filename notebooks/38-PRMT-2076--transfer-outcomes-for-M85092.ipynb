{
 "cells": [
  {
   "cell_type": "markdown",
   "id": "2a329382",
   "metadata": {},
   "source": [
    "# Summary of transfer outcomes for practice M85092\n",
    "\n",
    "**Context**\n",
    "\n",
    "We would like to see a summary of transfer outcomes where the sending practice is M85092 for April data (if available), otherwise March data. \n",
    "\n",
    "NB: Upon finding there were only 8 relevant transfers, we also used March data (which contained 2600 transfers)\n",
    "\n",
    "**Scope**\n",
    "\n",
    "- Breakdown of transfers out, per month\n",
    "    - Show outcome of each transfer\n",
    "    - Show which practices they were sent to"
   ]
  },
  {
   "cell_type": "code",
   "execution_count": 1,
   "id": "181621db",
   "metadata": {},
   "outputs": [],
   "source": [
    "import pandas as pd"
   ]
  },
  {
   "cell_type": "code",
   "execution_count": 48,
   "id": "b79281c5",
   "metadata": {},
   "outputs": [],
   "source": [
    "# Import transfer files to extract whether message creator is sender or requester\n",
    "# Using data generated from branch PRMT-1742-duplicates-analysis.\n",
    "# This is needed to correctly handle duplicates.\n",
    "# Once the upstream pipeline has a fix for duplicate EHRs, then we can go back to using the main output.\n",
    "\n",
    "transfer_file_location = \"s3://prm-gp2gp-data-sandbox-dev/duplicate-fix-14-day-cut-off/\"\n",
    "transfer_files = [\n",
    "    \"2021/03/transfers.parquet\",\n",
    "    \"2021/04/transfers.parquet\"\n",
    "]\n",
    "\n",
    "transfer_input_files = [transfer_file_location + f for f in transfer_files]\n",
    "transfers = pd.concat((\n",
    "    pd.read_parquet(f)\n",
    "    for f in transfer_input_files\n",
    "))\n",
    "\n",
    "# Correctly interpret certain sender errors as failed.\n",
    "# This is explained in PRMT-1974. Eventually this will be fixed upstream in the pipeline.\n",
    "pending_sender_error_codes=[6,7,10,24,30,23,14,99]\n",
    "transfers_with_pending_sender_code_bool=transfers['sender_error_code'].isin(pending_sender_error_codes)\n",
    "transfers_with_pending_with_error_bool=transfers['status']=='PENDING_WITH_ERROR'\n",
    "transfers_which_need_pending_to_failure_change_bool=transfers_with_pending_sender_code_bool & transfers_with_pending_with_error_bool\n",
    "transfers.loc[transfers_which_need_pending_to_failure_change_bool,'status']='FAILED'\n",
    "\n",
    "# Add integrated Late status\n",
    "eight_days_in_seconds=8*24*60*60\n",
    "transfers_after_sla_bool=transfers['sla_duration']>eight_days_in_seconds\n",
    "transfers_with_integrated_bool=transfers['status']=='INTEGRATED'\n",
    "transfers_integrated_late_bool=transfers_after_sla_bool & transfers_with_integrated_bool\n",
    "transfers.loc[transfers_integrated_late_bool,'status']='INTEGRATED LATE'\n",
    "\n",
    "# If the record integrated after 14 days, change the status back to pending.\n",
    "# This is to handle each month consistently and to always reflect a transfers status 28 days after it was made.\n",
    "# TBD how this is handled upstream in the pipeline\n",
    "fourteen_days_in_seconds=14*24*60*60\n",
    "transfers_after_month_bool=transfers['sla_duration']>fourteen_days_in_seconds\n",
    "transfers_pending_at_month_bool=transfers_after_month_bool & transfers_integrated_late_bool\n",
    "transfers.loc[transfers_pending_at_month_bool,'status']='PENDING'\n",
    "transfers_with_early_error_bool=(~transfers.loc[:,'sender_error_code'].isna()) |(~transfers.loc[:,'intermediate_error_codes'].apply(len)>0)\n",
    "transfers.loc[transfers_with_early_error_bool & transfers_pending_at_month_bool,'status']='PENDING_WITH_ERROR'\n",
    "\n",
    "# Supplier name mapping\n",
    "supplier_renaming = {\n",
    "    \"SystmOne\":\"TPP\",\n",
    "    None: \"Unknown\"\n",
    "}\n",
    "\n",
    "asid_lookup_file = \"s3://prm-gp2gp-data-sandbox-dev/asid-lookup/asidLookup-Mar-2021.csv.gz\"\n",
    "asid_lookup = pd.read_csv(asid_lookup_file)\n",
    "lookup = asid_lookup[[\"ASID\",\"NACS\",\"OrgName\"]]\n",
    "\n",
    "transfers = transfers.merge(lookup, left_on='requesting_practice_asid',right_on='ASID',how='left')\n",
    "transfers = transfers.rename({'ASID': 'requesting_supplier_asid', 'NACS': 'requesting_ods_code','OrgName':'requesting_practice_name'}, axis=1)\n",
    "transfers = transfers.merge(lookup, left_on='sending_practice_asid',right_on='ASID',how='left')\n",
    "transfers = transfers.rename({'ASID': 'sending_supplier_asid', 'NACS': 'sending_ods_code','OrgName':'sending_practice_name'}, axis=1)\n",
    "\n",
    "transfers[\"sending_supplier\"] = transfers[\"sending_supplier\"].replace(supplier_renaming.keys(), supplier_renaming.values())\n",
    "transfers[\"requesting_supplier\"] = transfers[\"requesting_supplier\"].replace(supplier_renaming.keys(), supplier_renaming.values())"
   ]
  },
  {
   "cell_type": "code",
   "execution_count": 49,
   "id": "d3eddf6a",
   "metadata": {},
   "outputs": [],
   "source": [
    "# Select the transfers where the sending practice is the practice of interest\n",
    "practice_of_interest_bool = transfers[\"sending_ods_code\"] == \"M85092\"\n",
    "practice_transfers = transfers[practice_of_interest_bool]"
   ]
  },
  {
   "cell_type": "code",
   "execution_count": 55,
   "id": "bb26b84b",
   "metadata": {},
   "outputs": [],
   "source": [
    "# Create a table showing numbers of transfers to each practice and the status (at 14 days)\n",
    "# Both the practice (rows) and status (columns) are ordered by most common first\n",
    "ordered_requesting_practice_names=practice_transfers['requesting_practice_name'].value_counts().index\n",
    "ordered_status=practice_transfers['status'].value_counts().index\n",
    "\n",
    "practice_transfers_count_table=practice_transfers.pivot_table(index='requesting_practice_name',columns='status',values='conversation_id',aggfunc='count')\n",
    "practice_transfers_count_table=practice_transfers_count_table.loc[ordered_requesting_practice_names,ordered_status].fillna(0).astype(int)\n",
    "practice_transfers_count_table.to_csv( \"s3://prm-gp2gp-data-sandbox-dev/notebook-outputs/38-PRMT-2076-M85092-Mar-Apr-transfers-out.csv\")"
   ]
  },
  {
   "cell_type": "code",
   "execution_count": null,
   "id": "8c966547",
   "metadata": {},
   "outputs": [],
   "source": []
  }
 ],
 "metadata": {
  "kernelspec": {
   "display_name": "conda_python3",
   "language": "python",
   "name": "conda_python3"
  },
  "language_info": {
   "codemirror_mode": {
    "name": "ipython",
    "version": 3
   },
   "file_extension": ".py",
   "mimetype": "text/x-python",
   "name": "python",
   "nbconvert_exporter": "python",
   "pygments_lexer": "ipython3",
   "version": "3.6.13"
  }
 },
 "nbformat": 4,
 "nbformat_minor": 5
}
