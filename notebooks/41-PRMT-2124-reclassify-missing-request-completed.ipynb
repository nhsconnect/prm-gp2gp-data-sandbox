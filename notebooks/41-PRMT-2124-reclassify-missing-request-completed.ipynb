{
 "cells": [
  {
   "cell_type": "markdown",
   "id": "ebafeb0e",
   "metadata": {},
   "source": [
    "# PRMT-2124 - Can we consider transfers without a Sender Request Completed message as failed?"
   ]
  },
  {
   "cell_type": "code",
   "execution_count": 123,
   "id": "2ef63115",
   "metadata": {},
   "outputs": [],
   "source": [
    "import pandas as pd\n",
    "import numpy as np\n",
    "import time\n",
    "import datetime"
   ]
  },
  {
   "cell_type": "code",
   "execution_count": 124,
   "id": "5b263860",
   "metadata": {},
   "outputs": [],
   "source": [
    "# Import transfer files to extract whether message creator is sender or requester\n",
    "transfer_file_location = \"s3://prm-gp2gp-data-sandbox-dev/transfers-sample-5/\"\n",
    "transfer_files = [\n",
    "    \"2020-9-transfers.parquet\",\n",
    "    \"2020-10-transfers.parquet\",\n",
    "    \"2020-11-transfers.parquet\",\n",
    "    \"2020-12-transfers.parquet\",\n",
    "    \"2021-1-transfers.parquet\",\n",
    "    \"2021-2-transfers.parquet\",\n",
    "    \"2021-3-transfers.parquet\",\n",
    "    \"2021-4-transfers.parquet\",\n",
    "]\n",
    "\n",
    "transfer_input_files = [transfer_file_location + f for f in transfer_files]\n",
    "transfers_raw = pd.concat((\n",
    "    pd.read_parquet(f)\n",
    "    for f in transfer_input_files\n",
    "))\n",
    "\n",
    "# In the data from the PRMT-1742-duplicates-analysis branch, these columns have been added , but contain only empty values.\n",
    "transfers_raw = transfers_raw.drop([\"sending_supplier\", \"requesting_supplier\"], axis=1)\n",
    "transfers = transfers_raw.copy()\n",
    "\n",
    "# Correctly interpret certain sender errors as failed.\n",
    "# This is explained in PRMT-1974. Eventually this will be fixed upstream in the pipeline.\n",
    "# Step Two: reclassifying the relevant transfers with pending sender error codes to FAILED DUE TO SENDER ERROR CODE status for comparison\n",
    "pending_sender_error_codes=[6,7,10,24,30,23,14,99]\n",
    "transfers_with_pending_sender_code_bool=transfers['sender_error_code'].isin(pending_sender_error_codes)\n",
    "transfers_with_pending_with_error_bool=transfers['status']=='PENDING_WITH_ERROR'\n",
    "transfers_which_need_pending_to_failure_change_bool=transfers_with_pending_sender_code_bool & transfers_with_pending_with_error_bool\n",
    "transfers.loc[transfers_which_need_pending_to_failure_change_bool,'status']='FAILED DUE TO SENDER ERROR CODE'\n",
    "\n",
    "# Add integrated Late status\n",
    "eight_days_in_seconds=8*24*60*60\n",
    "transfers_after_sla_bool=transfers['sla_duration']>eight_days_in_seconds\n",
    "transfers_with_integrated_bool=transfers['status']=='INTEGRATED'\n",
    "transfers_integrated_late_bool=transfers_after_sla_bool & transfers_with_integrated_bool\n",
    "transfers.loc[transfers_integrated_late_bool,'status']='INTEGRATED LATE'\n",
    "\n",
    "# If the record integrated after 28 days, change the status back to pending.\n",
    "# This is to handle each month consistently and to always reflect a transfers status 28 days after it was made.\n",
    "# TBD how this is handled upstream in the pipeline\n",
    "twenty_eight_days_in_seconds=28*24*60*60\n",
    "transfers_after_month_bool=transfers['sla_duration']>twenty_eight_days_in_seconds\n",
    "transfers_pending_at_month_bool=transfers_after_month_bool & transfers_integrated_late_bool\n",
    "transfers.loc[transfers_pending_at_month_bool,'status']='PENDING'\n",
    "transfers_with_early_error_bool=(~transfers.loc[:,'sender_error_code'].isna()) |(~transfers.loc[:,'intermediate_error_codes'].apply(len)>0)\n",
    "transfers.loc[transfers_with_early_error_bool & transfers_pending_at_month_bool,'status']='PENDING_WITH_ERROR'\n",
    "\n",
    "# Supplier name mapping\n",
    "supplier_renaming = {\n",
    "    \"EGTON MEDICAL INFORMATION SYSTEMS LTD (EMIS)\":\"EMIS\",\n",
    "    \"IN PRACTICE SYSTEMS LTD\":\"Vision\",\n",
    "    \"MICROTEST LTD\":\"Microtest\",\n",
    "    \"THE PHOENIX PARTNERSHIP\":\"TPP\",\n",
    "    None: \"Unknown\"\n",
    "}\n",
    "\n",
    "# Generate ASID lookup that contains all the most recent entry for all ASIDs encountered\n",
    "asid_file_location = \"s3://prm-gp2gp-data-sandbox-dev/asid-lookup/\"\n",
    "asid_files = [\n",
    "    \"asidLookup-Nov-2020.csv.gz\",\n",
    "    \"asidLookup-Dec-2020.csv.gz\",\n",
    "    \"asidLookup-Jan-2021.csv.gz\",\n",
    "    \"asidLookup-Feb-2021.csv.gz\",\n",
    "    \"asidLookup-Mar-2021.csv.gz\",\n",
    "    \"asidLookup-Apr-2021.csv.gz\"\n",
    "]\n",
    "asid_lookup_files = [asid_file_location + f for f in asid_files]\n",
    "asid_lookup = pd.concat((\n",
    "    pd.read_csv(f)\n",
    "    for f in asid_lookup_files\n",
    "))\n",
    "asid_lookup = asid_lookup.drop_duplicates().groupby(\"ASID\").last().reset_index()\n",
    "lookup = asid_lookup[[\"ASID\", \"MName\", \"NACS\",\"OrgName\"]]\n",
    "\n",
    "transfers = transfers.merge(lookup, left_on='requesting_practice_asid',right_on='ASID',how='left')\n",
    "transfers = transfers.rename({'MName': 'requesting_supplier', 'ASID': 'requesting_supplier_asid', 'NACS': 'requesting_ods_code','OrgName':'requesting_practice_name'}, axis=1)\n",
    "transfers = transfers.merge(lookup, left_on='sending_practice_asid',right_on='ASID',how='left')\n",
    "transfers = transfers.rename({'MName': 'sending_supplier', 'ASID': 'sending_supplier_asid', 'NACS': 'sending_ods_code','OrgName':'sending_practice_name'}, axis=1)\n",
    "\n",
    "transfers[\"sending_supplier\"] = transfers[\"sending_supplier\"].replace(supplier_renaming.keys(), supplier_renaming.values())\n",
    "transfers[\"requesting_supplier\"] = transfers[\"requesting_supplier\"].replace(supplier_renaming.keys(), supplier_renaming.values())\n",
    "\n",
    "# Making the status to be more human readable here\n",
    "transfers[\"status\"] = transfers[\"status\"].str.replace(\"_\", \" \").str.title()\n"
   ]
  },
  {
   "cell_type": "code",
   "execution_count": 125,
   "id": "096406e5",
   "metadata": {},
   "outputs": [],
   "source": [
    "def add_messages_parquet_to_transfers(parquet_file_name, transfers_df):\n",
    "    conversations_extended_interaction_messages=pd.read_parquet(parquet_file_name)\n",
    "    # turning messages from list of list to tuple of tuples (since they are hashable)\n",
    "    conversations_extended_interaction_messages[\"messages\"]=conversations_extended_interaction_messages[\"messages\"].apply(lambda message_list: tuple([tuple(message) for message in message_list]))\n",
    "    # Attach this message list to the transfers dataframe\n",
    "    transfers_with_message_list = transfers_df.merge(conversations_extended_interaction_messages, left_on=\"conversation_id\", right_index=True,how='inner')\n",
    "    return transfers_with_message_list"
   ]
  },
  {
   "cell_type": "markdown",
   "id": "e0529762",
   "metadata": {},
   "source": [
    "## Part A\n",
    "\n",
    "**We believe that** transfers which do not receive a “Request Completed” message from the Sender within 14 days of the request started\n",
    "\n",
    "**can be considered** technical failures\n",
    "\n",
    "**we will know this to be true when** we see that for a sample of data without this message in 14 days, the message does not arrive, nor does transfer completion occur, within 1-8 months\n",
    "\n",
    "### Scope\n",
    "\n",
    "1. Extract all conversation ids from September to April (8 months) parquet files\n",
    "2. Identify all messages within these conversation IDs using raw Spine data from September to May\n",
    "3. Extract conversations with no Request Completed Message in the first 14 days\n",
    "4. Count how many of these contain a later Request Completed or successful transfer message"
   ]
  },
  {
   "cell_type": "code",
   "execution_count": 126,
   "id": "1044f8ce",
   "metadata": {},
   "outputs": [],
   "source": [
    "regenerate_time_messages_parquet = False"
   ]
  },
  {
   "cell_type": "code",
   "execution_count": 127,
   "id": "6841cf86",
   "metadata": {},
   "outputs": [],
   "source": [
    "# Generating a mapping of practice asid, and whether they were the sender or requestor in that conversation\n",
    "requesting_supplier_type_map = transfers[[\"conversation_id\", \"requesting_practice_asid\", \"date_requested\"]].drop_duplicates()\n",
    "sending_supplier_type_map = transfers[[\"conversation_id\", \"sending_practice_asid\", \"date_requested\"]].drop_duplicates()\n",
    "\n",
    "requesting_supplier_type_map[\"supplier_type\"] = \"requestor\"\n",
    "sending_supplier_type_map[\"supplier_type\"] = \"sender\"\n",
    "\n",
    "requesting_supplier_type_map = requesting_supplier_type_map.rename({\"requesting_practice_asid\": \"practice_asid\"}, axis=1)\n",
    "sending_supplier_type_map = sending_supplier_type_map.rename({\"sending_practice_asid\": \"practice_asid\"}, axis=1)\n",
    "\n",
    "supplier_type_mapping = pd.concat([requesting_supplier_type_map, sending_supplier_type_map])\n",
    "supplier_type_mapping[\"practice_asid\"] = supplier_type_mapping[\"practice_asid\"].astype(int)\n",
    "\n",
    "conversation_ids_of_interest=transfers['conversation_id'].values\n",
    "\n",
    "# Define a list of files to be loaded in\n",
    "folder=\"s3://prm-gp2gp-data-sandbox-dev/spine-gp2gp-data/\"\n",
    "files=[\"Sept-2020\",\"Oct-2020\",\"Nov-2020\",\"Dec-2020\",\"Jan-2021\",\"Feb-2021\",\"Mar-2021\",\"Apr-2021\",\"May-2021-part-1-of-2\",\"May-2021-part-2-of-2\"]\n",
    "full_filenames=[folder + file + \".csv.gz\" for file in files]\n",
    "\n",
    "# Rename message types to be human readable\n",
    "interaction_name_mapping={\"urn:nhs:names:services:gp2gp/RCMR_IN010000UK05\":\"req start\",\n",
    "\"urn:nhs:names:services:gp2gp/RCMR_IN030000UK06\":\"req complete\",\n",
    "\"urn:nhs:names:services:gp2gp/COPC_IN000001UK01\":\"COPC\",\n",
    "\"urn:nhs:names:services:gp2gp/MCCI_IN010000UK13\":\" ack\"}"
   ]
  },
  {
   "cell_type": "code",
   "execution_count": 128,
   "id": "6fa8290b",
   "metadata": {},
   "outputs": [],
   "source": [
    "# This function will take a set of Spine data and for each message in the conversation we're interested in, it will output a dataframe\n",
    "# with \"conversation_id\", \"supplier_type\", \"interaction_name\", \"jdiEvent\", \"GUID\", \"messageRef\" for each given message in the order\n",
    "# they occur\n",
    "def generate_single_frame(file):\n",
    "    a=time.perf_counter()\n",
    "    print(\"Now Processing \" + file)\n",
    "    all_messages_in_file=pd.read_csv(file, compression='gzip')\n",
    "\n",
    "    # Only keep conversations from the conversations that we actually want to use\n",
    "    monthly_relevant_messages=all_messages_in_file.loc[all_messages_in_file['conversationID'].isin(conversation_ids_of_interest)]\n",
    "    monthly_relevant_messages=monthly_relevant_messages.sort_values(by='_time')\n",
    "    monthly_relevant_messages = monthly_relevant_messages.merge(supplier_type_mapping, left_on=[\"conversationID\", \"messageSender\"], right_on=[\"conversation_id\", \"practice_asid\"], how=\"left\")\n",
    "    \n",
    "    # Add time of messages occurring\n",
    "    monthly_relevant_messages[\"time_of_message\"] = (pd.to_datetime(monthly_relevant_messages[\"_time\"]).dt.tz_localize(None) - monthly_relevant_messages[\"date_requested\"]).dt.total_seconds().astype(str)\n",
    "    monthly_messages = monthly_relevant_messages\n",
    "\n",
    "    # map the message name to human readable form using supplier mapping\n",
    "    monthly_messages['interaction_name']=monthly_messages['interactionID'].replace(interaction_name_mapping)\n",
    "    monthly_messages[\"jdiEvent\"] = monthly_messages[\"jdiEvent\"].replace(\"NONE\", \"\")\n",
    "    \n",
    "    monthly_messages=monthly_messages[[\"conversation_id\",\"supplier_type\",\"interaction_name\",\"jdiEvent\",\"GUID\",\"messageRef\",\"time_of_message\" ]]\n",
    "    print(time.perf_counter()-a)\n",
    "    return monthly_messages\n",
    "\n"
   ]
  },
  {
   "cell_type": "code",
   "execution_count": 129,
   "id": "f5ce72ad",
   "metadata": {},
   "outputs": [],
   "source": [
    "if regenerate_time_messages_parquet:\n",
    "    all_messages=pd.concat([generate_single_frame(file) for file in full_filenames], axis=0)\n",
    "\n",
    "#     print('Now Concatenating all months of data')\n",
    "#     a=time.perf_counter()\n",
    "#     all_messages=pd.concat(all_messages,axis=0)\n",
    "#     print(time.perf_counter()-a)\n",
    "\n",
    "    print('Now constructing full interactions')\n",
    "    a=time.perf_counter()\n",
    "    all_messages = all_messages.merge(all_messages[['GUID','interaction_name']].rename({'interaction_name':'interaction_response'},axis=1),left_on='messageRef',right_on='GUID',how='left').drop([\"GUID_x\", \"GUID_y\"], axis=1)\n",
    "    all_messages['interaction_response']=all_messages['interaction_response'].fillna(\"\")\n",
    "    all_messages['interaction']=all_messages['interaction_response']+all_messages['interaction_name']\n",
    "    all_messages.drop([\"interaction_response\", \"interaction_name\"], axis=1, inplace=True)\n",
    "    all_messages[\"messages\"] = list(zip(all_messages[\"supplier_type\"], all_messages[\"interaction\"], all_messages[\"jdiEvent\"], all_messages[\"time_of_message\"] ))\n",
    "    all_messages[\"messages\"] = all_messages[\"messages\"].apply(list)\n",
    "    columns_to_drop = [column for column in all_messages.columns if column not in [\"conversation_id\", \"messages\"]]    \n",
    "    all_messages.drop(columns_to_drop, axis=1, inplace=True)\n",
    "#     all_messages=all_messages[[\"conversation_id\", \"messages\"]]\n",
    "    print(time.perf_counter()-a)\n",
    "\n",
    "    print('Now Grouping by conversation')\n",
    "    a=time.perf_counter()\n",
    "    all_messages=all_messages.groupby('conversation_id')['messages'].apply(list)\n",
    "    print(time.perf_counter()-a)\n",
    "\n",
    "    print('Now Saving Data')\n",
    "    pd.DataFrame(all_messages).to_parquet(f's3://prm-gp2gp-data-sandbox-dev/extra-fields-data-from-splunk/Sept_20_Apr_21_conversations_extended_interaction_messages_with_time.parquet')"
   ]
  },
  {
   "cell_type": "code",
   "execution_count": 130,
   "id": "09a5ede3",
   "metadata": {},
   "outputs": [],
   "source": [
    "conversations_extended_interaction_messages_with_time_file_name = 's3://prm-gp2gp-data-sandbox-dev/extra-fields-data-from-splunk/Sept_20_Apr_21_conversations_extended_interaction_messages_with_time.parquet'\n",
    "transfers_with_time_messages = add_messages_parquet_to_transfers(conversations_extended_interaction_messages_with_time_file_name, transfers)"
   ]
  },
  {
   "cell_type": "code",
   "execution_count": 131,
   "id": "2d40d5f7",
   "metadata": {},
   "outputs": [],
   "source": [
    "transfers_with_time_messages[\"messages\"]=transfers_with_time_messages[\"messages\"].apply(lambda messages: tuple([message[0:3] + (float(message[3]),) for message in messages]) )"
   ]
  },
  {
   "cell_type": "markdown",
   "id": "70be5c58",
   "metadata": {},
   "source": [
    "### What volume of transfers do not successfully transfer\n",
    "NB Successful transfer does not necessarily mean successful integration"
   ]
  },
  {
   "cell_type": "code",
   "execution_count": 132,
   "id": "66594d3d",
   "metadata": {},
   "outputs": [
    {
     "name": "stdout",
     "output_type": "stream",
     "text": [
      "3.19% of transfers do not receive a Request Completed Message from the sender\n"
     ]
    }
   ],
   "source": [
    "transfers_with_time_messages[\"Contains sender req complete\"] = transfers_with_time_messages[\"messages\"].apply(lambda messages: True in [True for message in messages if message[0:3] == ('sender', 'req complete', '')])\n",
    "pc_never_transfer=(~transfers_with_time_messages[\"Contains sender req complete\"]).mean()*100\n",
    "print(f\"{round(pc_never_transfer,2)}% of transfers do not receive a Request Completed Message from the sender\")"
   ]
  },
  {
   "cell_type": "markdown",
   "id": "14badd8a",
   "metadata": {},
   "source": [
    "### Is integration possible without sender request complete message"
   ]
  },
  {
   "cell_type": "code",
   "execution_count": 133,
   "id": "2022fbf2",
   "metadata": {},
   "outputs": [
    {
     "data": {
      "text/html": [
       "<div>\n",
       "<style scoped>\n",
       "    .dataframe tbody tr th:only-of-type {\n",
       "        vertical-align: middle;\n",
       "    }\n",
       "\n",
       "    .dataframe tbody tr th {\n",
       "        vertical-align: top;\n",
       "    }\n",
       "\n",
       "    .dataframe thead th {\n",
       "        text-align: right;\n",
       "    }\n",
       "</style>\n",
       "<table border=\"1\" class=\"dataframe\">\n",
       "  <thead>\n",
       "    <tr style=\"text-align: right;\">\n",
       "      <th>integrated</th>\n",
       "      <th>False</th>\n",
       "      <th>True</th>\n",
       "    </tr>\n",
       "    <tr>\n",
       "      <th>Contains sender req complete</th>\n",
       "      <th></th>\n",
       "      <th></th>\n",
       "    </tr>\n",
       "  </thead>\n",
       "  <tbody>\n",
       "    <tr>\n",
       "      <th>False</th>\n",
       "      <td>60280</td>\n",
       "      <td>0</td>\n",
       "    </tr>\n",
       "    <tr>\n",
       "      <th>True</th>\n",
       "      <td>43256</td>\n",
       "      <td>1784761</td>\n",
       "    </tr>\n",
       "  </tbody>\n",
       "</table>\n",
       "</div>"
      ],
      "text/plain": [
       "integrated                    False    True \n",
       "Contains sender req complete                \n",
       "False                         60280        0\n",
       "True                          43256  1784761"
      ]
     },
     "execution_count": 133,
     "metadata": {},
     "output_type": "execute_result"
    }
   ],
   "source": [
    "# -- anything that did integrate at some point\n",
    "transfers_with_time_messages[\"integrated\"] = transfers_with_time_messages[\"messages\"].apply(lambda messages: True in [True for message in messages if (message[0:3] == (\"requestor\", \"req complete ack\", '')) | (message[0:3] == (\"requestor\", \"req complete ack\", \"15\"))])\n",
    "transfers_with_time_messages.pivot_table(index=\"Contains sender req complete\", columns=\"integrated\", aggfunc=\"count\", values=\"conversation_id\").fillna(0).astype(int)"
   ]
  },
  {
   "cell_type": "markdown",
   "id": "d611cd6a",
   "metadata": {},
   "source": [
    "### How long does it take for a sender request complete message to arrive from request start message"
   ]
  },
  {
   "cell_type": "code",
   "execution_count": 134,
   "id": "bc37881e",
   "metadata": {},
   "outputs": [
    {
     "name": "stdout",
     "output_type": "stream",
     "text": [
      "Hours\n"
     ]
    },
    {
     "data": {
      "text/plain": [
       "count    1828017.00\n",
       "mean           1.36\n",
       "std           47.29\n",
       "min            0.00\n",
       "25%            0.00\n",
       "50%            0.00\n",
       "75%            0.01\n",
       "max         6240.73\n",
       "Name: Min sender req complete time/s, dtype: float64"
      ]
     },
     "execution_count": 134,
     "metadata": {},
     "output_type": "execute_result"
    }
   ],
   "source": [
    "# returns a time if sender request completed message\n",
    "transfers_with_time_messages[\"Sender req complete times/s\"] = transfers_with_time_messages[\"messages\"].apply(lambda messages: [message[3] for message in messages if message[0:3] == ('sender', 'req complete', '')])\n",
    "transfers_with_time_messages[\"Min sender req complete time/s\"] = transfers_with_time_messages[\"Sender req complete times/s\"].apply(lambda times: min(times) if len(times) > 0 else np.nan)\n",
    "print(\"Hours\")\n",
    "(transfers_with_time_messages[\"Min sender req complete time/s\"].dropna()/3600).describe().round(2)"
   ]
  },
  {
   "cell_type": "code",
   "execution_count": 135,
   "id": "0dd8d98a",
   "metadata": {},
   "outputs": [
    {
     "name": "stdout",
     "output_type": "stream",
     "text": [
      "There are 0.09% (1734) transfers where a sender request complete message is received after 14 days\n",
      "85.06% of these transfers eventually integrate\n",
      "0.08% of all transfers are transfered after 14 days and then integrate\n"
     ]
    }
   ],
   "source": [
    "slow_transfer_threshold_in_days= 14\n",
    "slow_transfer_in_seconds=24*60*60*slow_transfer_threshold_in_days\n",
    "transfers_with_time_messages['slow transfer']=(transfers_with_time_messages[\"Min sender req complete time/s\"].fillna(0) >= slow_transfer_in_seconds)\n",
    "\n",
    "pc_slow_transfers=transfers_with_time_messages['slow transfer'].mean()*100\n",
    "total_slow_transfers=transfers_with_time_messages['slow transfer'].sum()\n",
    "print(f\"There are {round(pc_slow_transfers,2)}% ({total_slow_transfers}) transfers where a sender request complete message is received after {slow_transfer_threshold_in_days} days\")\n",
    "\n",
    "pc_slow_which_integrate=transfers_with_time_messages.loc[transfers_with_time_messages['slow transfer'],'integrated'].mean()*100\n",
    "print(f\"{round(pc_slow_which_integrate,2)}% of these transfers eventually integrate\")\n",
    "\n",
    "pc_transfers_slow_and_integrate=(transfers_with_time_messages['integrated'] & transfers_with_time_messages['slow transfer']).mean()*100\n",
    "print(f\"{round(pc_transfers_slow_and_integrate,2)}% of all transfers are transfered after {slow_transfer_threshold_in_days} days and then integrate\")"
   ]
  },
  {
   "cell_type": "code",
   "execution_count": 136,
   "id": "d4b40705",
   "metadata": {},
   "outputs": [
    {
     "name": "stdout",
     "output_type": "stream",
     "text": [
      "% of transfers completing transfer after 14 days\n"
     ]
    },
    {
     "data": {
      "text/html": [
       "<div>\n",
       "<style scoped>\n",
       "    .dataframe tbody tr th:only-of-type {\n",
       "        vertical-align: middle;\n",
       "    }\n",
       "\n",
       "    .dataframe tbody tr th {\n",
       "        vertical-align: top;\n",
       "    }\n",
       "\n",
       "    .dataframe thead th {\n",
       "        text-align: right;\n",
       "    }\n",
       "</style>\n",
       "<table border=\"1\" class=\"dataframe\">\n",
       "  <thead>\n",
       "    <tr style=\"text-align: right;\">\n",
       "      <th>requesting_supplier</th>\n",
       "      <th>EMIS</th>\n",
       "      <th>Microtest</th>\n",
       "      <th>TPP</th>\n",
       "      <th>Unknown</th>\n",
       "      <th>Vision</th>\n",
       "    </tr>\n",
       "    <tr>\n",
       "      <th>sending_supplier</th>\n",
       "      <th></th>\n",
       "      <th></th>\n",
       "      <th></th>\n",
       "      <th></th>\n",
       "      <th></th>\n",
       "    </tr>\n",
       "  </thead>\n",
       "  <tbody>\n",
       "    <tr>\n",
       "      <th>EMIS</th>\n",
       "      <td>0.061777</td>\n",
       "      <td>0.0</td>\n",
       "      <td>0.061861</td>\n",
       "      <td>0.0</td>\n",
       "      <td>0.022509</td>\n",
       "    </tr>\n",
       "    <tr>\n",
       "      <th>Microtest</th>\n",
       "      <td>0.000000</td>\n",
       "      <td>0.0</td>\n",
       "      <td>0.000000</td>\n",
       "      <td>0.0</td>\n",
       "      <td>0.000000</td>\n",
       "    </tr>\n",
       "    <tr>\n",
       "      <th>TPP</th>\n",
       "      <td>0.033625</td>\n",
       "      <td>0.0</td>\n",
       "      <td>0.000000</td>\n",
       "      <td>0.0</td>\n",
       "      <td>0.000000</td>\n",
       "    </tr>\n",
       "    <tr>\n",
       "      <th>Unknown</th>\n",
       "      <td>0.000000</td>\n",
       "      <td>0.0</td>\n",
       "      <td>0.000000</td>\n",
       "      <td>0.0</td>\n",
       "      <td>0.000000</td>\n",
       "    </tr>\n",
       "    <tr>\n",
       "      <th>Vision</th>\n",
       "      <td>1.914795</td>\n",
       "      <td>0.0</td>\n",
       "      <td>1.688613</td>\n",
       "      <td>0.0</td>\n",
       "      <td>1.632873</td>\n",
       "    </tr>\n",
       "  </tbody>\n",
       "</table>\n",
       "</div>"
      ],
      "text/plain": [
       "requesting_supplier      EMIS  Microtest       TPP  Unknown    Vision\n",
       "sending_supplier                                                     \n",
       "EMIS                 0.061777        0.0  0.061861      0.0  0.022509\n",
       "Microtest            0.000000        0.0  0.000000      0.0  0.000000\n",
       "TPP                  0.033625        0.0  0.000000      0.0  0.000000\n",
       "Unknown              0.000000        0.0  0.000000      0.0  0.000000\n",
       "Vision               1.914795        0.0  1.688613      0.0  1.632873"
      ]
     },
     "execution_count": 136,
     "metadata": {},
     "output_type": "execute_result"
    }
   ],
   "source": [
    "print(f'% of transfers completing transfer after {slow_transfer_threshold_in_days} days')\n",
    "transfers_with_time_messages.pivot_table(index='sending_supplier',columns='requesting_supplier',values='slow transfer',aggfunc='mean').multiply(100)"
   ]
  },
  {
   "cell_type": "code",
   "execution_count": 137,
   "id": "40fa3cd9",
   "metadata": {},
   "outputs": [
    {
     "name": "stdout",
     "output_type": "stream",
     "text": [
      "Number of transfers completing transfer after 14 days\n"
     ]
    },
    {
     "data": {
      "text/html": [
       "<div>\n",
       "<style scoped>\n",
       "    .dataframe tbody tr th:only-of-type {\n",
       "        vertical-align: middle;\n",
       "    }\n",
       "\n",
       "    .dataframe tbody tr th {\n",
       "        vertical-align: top;\n",
       "    }\n",
       "\n",
       "    .dataframe thead th {\n",
       "        text-align: right;\n",
       "    }\n",
       "</style>\n",
       "<table border=\"1\" class=\"dataframe\">\n",
       "  <thead>\n",
       "    <tr style=\"text-align: right;\">\n",
       "      <th>requesting_supplier</th>\n",
       "      <th>EMIS</th>\n",
       "      <th>Microtest</th>\n",
       "      <th>TPP</th>\n",
       "      <th>Unknown</th>\n",
       "      <th>Vision</th>\n",
       "    </tr>\n",
       "    <tr>\n",
       "      <th>sending_supplier</th>\n",
       "      <th></th>\n",
       "      <th></th>\n",
       "      <th></th>\n",
       "      <th></th>\n",
       "      <th></th>\n",
       "    </tr>\n",
       "  </thead>\n",
       "  <tbody>\n",
       "    <tr>\n",
       "      <th>EMIS</th>\n",
       "      <td>3197.0</td>\n",
       "      <td>2.0</td>\n",
       "      <td>1262.0</td>\n",
       "      <td>4.0</td>\n",
       "      <td>63.0</td>\n",
       "    </tr>\n",
       "    <tr>\n",
       "      <th>TPP</th>\n",
       "      <td>499.0</td>\n",
       "      <td>NaN</td>\n",
       "      <td>NaN</td>\n",
       "      <td>1.0</td>\n",
       "      <td>NaN</td>\n",
       "    </tr>\n",
       "    <tr>\n",
       "      <th>Unknown</th>\n",
       "      <td>NaN</td>\n",
       "      <td>NaN</td>\n",
       "      <td>2.0</td>\n",
       "      <td>NaN</td>\n",
       "      <td>NaN</td>\n",
       "    </tr>\n",
       "    <tr>\n",
       "      <th>Vision</th>\n",
       "      <td>611.0</td>\n",
       "      <td>NaN</td>\n",
       "      <td>146.0</td>\n",
       "      <td>NaN</td>\n",
       "      <td>112.0</td>\n",
       "    </tr>\n",
       "  </tbody>\n",
       "</table>\n",
       "</div>"
      ],
      "text/plain": [
       "requesting_supplier    EMIS  Microtest     TPP  Unknown  Vision\n",
       "sending_supplier                                               \n",
       "EMIS                 3197.0        2.0  1262.0      4.0    63.0\n",
       "TPP                   499.0        NaN     NaN      1.0     NaN\n",
       "Unknown                 NaN        NaN     2.0      NaN     NaN\n",
       "Vision                611.0        NaN   146.0      NaN   112.0"
      ]
     },
     "execution_count": 137,
     "metadata": {},
     "output_type": "execute_result"
    }
   ],
   "source": [
    "print(f'Number of transfers completing transfer after {slow_transfer_threshold_in_days} days')\n",
    "transfers_with_time_messages.loc[slow_transfers_bool].pivot_table(index='sending_supplier',columns='requesting_supplier',values='conversation_id',aggfunc='count')"
   ]
  },
  {
   "cell_type": "markdown",
   "id": "11898e72",
   "metadata": {},
   "source": [
    "### Investigation of transferred with caveats conversations (Vision practice??)\n",
    "\n",
    "These are likely April transfer requests so this is delayed until April data is ready"
   ]
  },
  {
   "cell_type": "code",
   "execution_count": 138,
   "id": "3ba22171",
   "metadata": {},
   "outputs": [],
   "source": [
    "conversations_of_interest=[\"D8C6FFBA-2BC3-4E35-9F3F-9BE661413D05\",\n",
    "\"93EDC8FA-EC8D-4634-B16B-CB81C48E35E7\",\"D72D3153-6841-44E2-9318-6067581269D7\",\n",
    "\"308ADDF4-9B19-47B1-B54C-1A28E70D26DF\",\"2D5FA7FF-B5D9-4F06-8772-8BBEEE7E2EFD\",\n",
    "\"FD7576C0-FC0B-4EF2-96EE-7AE4AD799892\",\"25E28A19-C610-4F19-A161-E594B902732B\",\n",
    "\"B85B2A9A-8F77-448D-96E6-9CBA777372F0\",\"1CEB01D0-607B-4D4B-97FF-54410526A17D\",\n",
    "\"B3C02083-FA21-47D3-9A49-3599474FB2E6\",\"0729466B-4D12-4D5F-B98C-F61D320D3B09\",\n",
    "\"7462310C-FED5-4C0F-9FD0-5BA1835F59CF\",\"6CD11744-F59D-4925-BF54-2E39EA002EF3\",\n",
    "\"79FCEF52-03C8-4602-904C-DA2639D8196D\",\"2BE44C84-30D4-45A5-BCAD-0E95C2ECFA83\",\n",
    "\"C5E3E09E-BC61-4C62-A4DE-0F605E736CE4\",\"2C70174E-5EA9-4672-B17B-7638CBB8EDAC\",\n",
    "\"C13674DF-9BE8-4959-8E6E-4E419F60ECAA\",\"98C809BE-5977-41DC-9293-CB304F63B739\",\n",
    "\"FFAB9987-F353-4A07-9ED5-9526B0EB0A27\",\"1077C9AA-B699-48B9-9D85-6B073431B4BC\",\n",
    "\"9234139D-5180-45C6-9C7A-E357C02D68EC\"]\n",
    "available_conversations=set(transfers_with_time_messages['conversation_id'].values).intersection(set(conversations_of_interest))\n",
    "\n",
    "output_file=\"s3://prm-gp2gp-data-sandbox-dev/notebook-outputs/41-PRMT-2124-Vision-ack-with-caveats-transfer-messages.csv\"\n",
    "transfers_with_time_messages.set_index('conversation_id').loc[available_conversations,\"messages\"].to_csv(output_file)"
   ]
  },
  {
   "cell_type": "markdown",
   "id": "b50f2caa",
   "metadata": {},
   "source": [
    "### What is the spread of transfer times?"
   ]
  },
  {
   "cell_type": "code",
   "execution_count": 139,
   "id": "2514e975",
   "metadata": {},
   "outputs": [
    {
     "data": {
      "text/html": [
       "<div>\n",
       "<style scoped>\n",
       "    .dataframe tbody tr th:only-of-type {\n",
       "        vertical-align: middle;\n",
       "    }\n",
       "\n",
       "    .dataframe tbody tr th {\n",
       "        vertical-align: top;\n",
       "    }\n",
       "\n",
       "    .dataframe thead th {\n",
       "        text-align: right;\n",
       "    }\n",
       "</style>\n",
       "<table border=\"1\" class=\"dataframe\">\n",
       "  <thead>\n",
       "    <tr style=\"text-align: right;\">\n",
       "      <th></th>\n",
       "      <th>Time to transfer/s</th>\n",
       "    </tr>\n",
       "    <tr>\n",
       "      <th>% Transfers Completed</th>\n",
       "      <th></th>\n",
       "    </tr>\n",
       "  </thead>\n",
       "  <tbody>\n",
       "    <tr>\n",
       "      <th>10</th>\n",
       "      <td>6.0</td>\n",
       "    </tr>\n",
       "    <tr>\n",
       "      <th>20</th>\n",
       "      <td>8.0</td>\n",
       "    </tr>\n",
       "    <tr>\n",
       "      <th>30</th>\n",
       "      <td>10.1</td>\n",
       "    </tr>\n",
       "    <tr>\n",
       "      <th>40</th>\n",
       "      <td>12.5</td>\n",
       "    </tr>\n",
       "    <tr>\n",
       "      <th>50</th>\n",
       "      <td>15.5</td>\n",
       "    </tr>\n",
       "    <tr>\n",
       "      <th>60</th>\n",
       "      <td>19.8</td>\n",
       "    </tr>\n",
       "    <tr>\n",
       "      <th>70</th>\n",
       "      <td>26.7</td>\n",
       "    </tr>\n",
       "    <tr>\n",
       "      <th>80</th>\n",
       "      <td>40.7</td>\n",
       "    </tr>\n",
       "    <tr>\n",
       "      <th>90</th>\n",
       "      <td>86.4</td>\n",
       "    </tr>\n",
       "  </tbody>\n",
       "</table>\n",
       "</div>"
      ],
      "text/plain": [
       "                       Time to transfer/s\n",
       "% Transfers Completed                    \n",
       "10                                    6.0\n",
       "20                                    8.0\n",
       "30                                   10.1\n",
       "40                                   12.5\n",
       "50                                   15.5\n",
       "60                                   19.8\n",
       "70                                   26.7\n",
       "80                                   40.7\n",
       "90                                   86.4"
      ]
     },
     "execution_count": 139,
     "metadata": {},
     "output_type": "execute_result"
    }
   ],
   "source": [
    "req_complete_times=transfers_with_time_messages[\"Min sender req complete time/s\"]\n",
    "quantiles=[i/10 for i in list(range(1,10))]\n",
    "transfer_proportions=pd.DataFrame(req_complete_times.fillna(req_complete_times.max()).quantile(quantiles).rename('Time to transfer/s'))\n",
    "transfer_proportions.index=(transfer_proportions.index*100).astype(int).rename('% Transfers Completed')\n",
    "transfer_proportions.round(1)"
   ]
  },
  {
   "cell_type": "code",
   "execution_count": 140,
   "id": "775dc48b",
   "metadata": {},
   "outputs": [
    {
     "data": {
      "text/html": [
       "<div>\n",
       "<style scoped>\n",
       "    .dataframe tbody tr th:only-of-type {\n",
       "        vertical-align: middle;\n",
       "    }\n",
       "\n",
       "    .dataframe tbody tr th {\n",
       "        vertical-align: top;\n",
       "    }\n",
       "\n",
       "    .dataframe thead th {\n",
       "        text-align: right;\n",
       "    }\n",
       "</style>\n",
       "<table border=\"1\" class=\"dataframe\">\n",
       "  <thead>\n",
       "    <tr style=\"text-align: right;\">\n",
       "      <th></th>\n",
       "      <th>% Transfers Completed</th>\n",
       "      <th>Increase (% Total Transfers)</th>\n",
       "    </tr>\n",
       "  </thead>\n",
       "  <tbody>\n",
       "    <tr>\n",
       "      <th>0.75 hours</th>\n",
       "      <td>96.13</td>\n",
       "      <td>NaN</td>\n",
       "    </tr>\n",
       "    <tr>\n",
       "      <th>1.5 hours</th>\n",
       "      <td>96.19</td>\n",
       "      <td>0.06</td>\n",
       "    </tr>\n",
       "    <tr>\n",
       "      <th>3.0 hours</th>\n",
       "      <td>96.38</td>\n",
       "      <td>0.19</td>\n",
       "    </tr>\n",
       "    <tr>\n",
       "      <th>6.0 hours</th>\n",
       "      <td>96.43</td>\n",
       "      <td>0.05</td>\n",
       "    </tr>\n",
       "    <tr>\n",
       "      <th>12.0 hours</th>\n",
       "      <td>96.45</td>\n",
       "      <td>0.02</td>\n",
       "    </tr>\n",
       "    <tr>\n",
       "      <th>24 hours</th>\n",
       "      <td>96.53</td>\n",
       "      <td>0.08</td>\n",
       "    </tr>\n",
       "    <tr>\n",
       "      <th>2 days</th>\n",
       "      <td>96.57</td>\n",
       "      <td>0.04</td>\n",
       "    </tr>\n",
       "    <tr>\n",
       "      <th>4 days</th>\n",
       "      <td>96.62</td>\n",
       "      <td>0.05</td>\n",
       "    </tr>\n",
       "    <tr>\n",
       "      <th>8 days</th>\n",
       "      <td>96.68</td>\n",
       "      <td>0.06</td>\n",
       "    </tr>\n",
       "    <tr>\n",
       "      <th>16 days</th>\n",
       "      <td>96.73</td>\n",
       "      <td>0.05</td>\n",
       "    </tr>\n",
       "    <tr>\n",
       "      <th>32 days</th>\n",
       "      <td>96.76</td>\n",
       "      <td>0.04</td>\n",
       "    </tr>\n",
       "    <tr>\n",
       "      <th>64 days</th>\n",
       "      <td>96.76</td>\n",
       "      <td>-0.00</td>\n",
       "    </tr>\n",
       "    <tr>\n",
       "      <th>128 days</th>\n",
       "      <td>96.66</td>\n",
       "      <td>-0.10</td>\n",
       "    </tr>\n",
       "  </tbody>\n",
       "</table>\n",
       "</div>"
      ],
      "text/plain": [
       "            % Transfers Completed  Increase (% Total Transfers)\n",
       "0.75 hours                  96.13                           NaN\n",
       "1.5 hours                   96.19                          0.06\n",
       "3.0 hours                   96.38                          0.19\n",
       "6.0 hours                   96.43                          0.05\n",
       "12.0 hours                  96.45                          0.02\n",
       "24 hours                    96.53                          0.08\n",
       "2 days                      96.57                          0.04\n",
       "4 days                      96.62                          0.05\n",
       "8 days                      96.68                          0.06\n",
       "16 days                     96.73                          0.05\n",
       "32 days                     96.76                          0.04\n",
       "64 days                     96.76                         -0.00\n",
       "128 days                    96.66                         -0.10"
      ]
     },
     "execution_count": 140,
     "metadata": {},
     "output_type": "execute_result"
    }
   ],
   "source": [
    "message_final_time=datetime.datetime(2021, 6, 1)\n",
    "transfers_with_time_messages['Total Time of Transfer Tracking/s']=(message_final_time-transfers_with_time_messages['date_requested']).dt.total_seconds()\n",
    "day_in_seconds=24*60*60\n",
    "time_points_in_days=[pow(2,i) for i in range(-5,8)]\n",
    "time_points_in_seconds=[day_point*day_in_seconds for day_point in time_points_in_days]\n",
    "time_point_labels=[str(day_point*24) + ' hours' if day_point<=1 else str(day_point) + ' days' for day_point in time_points_in_days]\n",
    "df=transfers_with_time_messages.copy()\n",
    "message_received_rate=[(df.loc[df['Total Time of Transfer Tracking/s']>=time_point,'Min sender req complete time/s'].fillna(time_point+1)<=time_point).mean() for time_point in time_points_in_seconds]\n",
    "Transfer_rate_time_table=pd.DataFrame(index=time_point_labels,data=message_received_rate).rename({0:'% Transfers Completed'},axis=1).multiply(100)\n",
    "Transfer_rate_time_table['Increase (% Total Transfers)']=Transfer_rate_time_table['% Transfers Completed'].diff()\n",
    "Transfer_rate_time_table.round(2)"
   ]
  },
  {
   "cell_type": "markdown",
   "id": "3e44adc1",
   "metadata": {},
   "source": [
    "#### Do slightly slower transfer times increase the chance of a late integration?"
   ]
  },
  {
   "cell_type": "code",
   "execution_count": 141,
   "id": "f2ac4d34",
   "metadata": {},
   "outputs": [
    {
     "data": {
      "text/html": [
       "<div>\n",
       "<style scoped>\n",
       "    .dataframe tbody tr th:only-of-type {\n",
       "        vertical-align: middle;\n",
       "    }\n",
       "\n",
       "    .dataframe tbody tr th {\n",
       "        vertical-align: top;\n",
       "    }\n",
       "\n",
       "    .dataframe thead th {\n",
       "        text-align: right;\n",
       "    }\n",
       "</style>\n",
       "<table border=\"1\" class=\"dataframe\">\n",
       "  <thead>\n",
       "    <tr style=\"text-align: right;\">\n",
       "      <th></th>\n",
       "      <th>Integrated in Time</th>\n",
       "    </tr>\n",
       "    <tr>\n",
       "      <th>Transfer Time Decile</th>\n",
       "      <th></th>\n",
       "    </tr>\n",
       "  </thead>\n",
       "  <tbody>\n",
       "    <tr>\n",
       "      <th>(45.45, 48.366]</th>\n",
       "      <td>0.906458</td>\n",
       "    </tr>\n",
       "    <tr>\n",
       "      <th>(48.366, 51.628]</th>\n",
       "      <td>0.905219</td>\n",
       "    </tr>\n",
       "    <tr>\n",
       "      <th>(51.628, 55.333]</th>\n",
       "      <td>0.908932</td>\n",
       "    </tr>\n",
       "    <tr>\n",
       "      <th>(55.333, 59.628]</th>\n",
       "      <td>0.907863</td>\n",
       "    </tr>\n",
       "    <tr>\n",
       "      <th>(59.628, 64.597]</th>\n",
       "      <td>0.906654</td>\n",
       "    </tr>\n",
       "    <tr>\n",
       "      <th>(64.597, 70.557]</th>\n",
       "      <td>0.908975</td>\n",
       "    </tr>\n",
       "    <tr>\n",
       "      <th>(70.557, 77.585]</th>\n",
       "      <td>0.904936</td>\n",
       "    </tr>\n",
       "    <tr>\n",
       "      <th>(77.585, 86.424]</th>\n",
       "      <td>0.902881</td>\n",
       "    </tr>\n",
       "    <tr>\n",
       "      <th>(86.424, 97.417]</th>\n",
       "      <td>0.901488</td>\n",
       "    </tr>\n",
       "    <tr>\n",
       "      <th>(97.417, 112.263]</th>\n",
       "      <td>0.894402</td>\n",
       "    </tr>\n",
       "    <tr>\n",
       "      <th>(112.263, 134.563]</th>\n",
       "      <td>0.890701</td>\n",
       "    </tr>\n",
       "    <tr>\n",
       "      <th>(134.563, 175.166]</th>\n",
       "      <td>0.880097</td>\n",
       "    </tr>\n",
       "    <tr>\n",
       "      <th>(175.166, 290.331]</th>\n",
       "      <td>0.854684</td>\n",
       "    </tr>\n",
       "    <tr>\n",
       "      <th>(290.331, 1036.95]</th>\n",
       "      <td>0.838744</td>\n",
       "    </tr>\n",
       "    <tr>\n",
       "      <th>(1036.95, 22466641.144]</th>\n",
       "      <td>0.167307</td>\n",
       "    </tr>\n",
       "  </tbody>\n",
       "</table>\n",
       "</div>"
      ],
      "text/plain": [
       "                         Integrated in Time\n",
       "Transfer Time Decile                       \n",
       "(45.45, 48.366]                    0.906458\n",
       "(48.366, 51.628]                   0.905219\n",
       "(51.628, 55.333]                   0.908932\n",
       "(55.333, 59.628]                   0.907863\n",
       "(59.628, 64.597]                   0.906654\n",
       "(64.597, 70.557]                   0.908975\n",
       "(70.557, 77.585]                   0.904936\n",
       "(77.585, 86.424]                   0.902881\n",
       "(86.424, 97.417]                   0.901488\n",
       "(97.417, 112.263]                  0.894402\n",
       "(112.263, 134.563]                 0.890701\n",
       "(134.563, 175.166]                 0.880097\n",
       "(175.166, 290.331]                 0.854684\n",
       "(290.331, 1036.95]                 0.838744\n",
       "(1036.95, 22466641.144]            0.167307"
      ]
     },
     "execution_count": 141,
     "metadata": {},
     "output_type": "execute_result"
    }
   ],
   "source": [
    "transfers_with_time_messages['Transfer Time Decile']=pd.qcut(req_complete_times.fillna(req_complete_times.max()),100,duplicates='drop')\n",
    "transfers_with_time_messages['Integrated in Time']=transfers_with_time_messages['status']=='Integrated'\n",
    "transfers_with_time_messages.groupby('Transfer Time Decile').agg({'Integrated in Time':'mean'}).tail(15)"
   ]
  },
  {
   "cell_type": "code",
   "execution_count": 142,
   "id": "578325af",
   "metadata": {},
   "outputs": [
    {
     "data": {
      "text/html": [
       "<div>\n",
       "<style scoped>\n",
       "    .dataframe tbody tr th:only-of-type {\n",
       "        vertical-align: middle;\n",
       "    }\n",
       "\n",
       "    .dataframe tbody tr th {\n",
       "        vertical-align: top;\n",
       "    }\n",
       "\n",
       "    .dataframe thead th {\n",
       "        text-align: right;\n",
       "    }\n",
       "</style>\n",
       "<table border=\"1\" class=\"dataframe\">\n",
       "  <thead>\n",
       "    <tr style=\"text-align: right;\">\n",
       "      <th></th>\n",
       "      <th>count</th>\n",
       "      <th>mean</th>\n",
       "      <th>%</th>\n",
       "    </tr>\n",
       "    <tr>\n",
       "      <th>Min sender req complete time/m</th>\n",
       "      <th></th>\n",
       "      <th></th>\n",
       "      <th></th>\n",
       "    </tr>\n",
       "  </thead>\n",
       "  <tbody>\n",
       "    <tr>\n",
       "      <th>1.0</th>\n",
       "      <td>1625470</td>\n",
       "      <td>0.907956</td>\n",
       "      <td>88.919851</td>\n",
       "    </tr>\n",
       "    <tr>\n",
       "      <th>2.0</th>\n",
       "      <td>119337</td>\n",
       "      <td>0.902620</td>\n",
       "      <td>6.528222</td>\n",
       "    </tr>\n",
       "    <tr>\n",
       "      <th>3.0</th>\n",
       "      <td>31701</td>\n",
       "      <td>0.882117</td>\n",
       "      <td>1.734174</td>\n",
       "    </tr>\n",
       "    <tr>\n",
       "      <th>4.0</th>\n",
       "      <td>11854</td>\n",
       "      <td>0.862072</td>\n",
       "      <td>0.648462</td>\n",
       "    </tr>\n",
       "    <tr>\n",
       "      <th>5.0</th>\n",
       "      <td>6479</td>\n",
       "      <td>0.841488</td>\n",
       "      <td>0.354428</td>\n",
       "    </tr>\n",
       "    <tr>\n",
       "      <th>6.0</th>\n",
       "      <td>4709</td>\n",
       "      <td>0.843279</td>\n",
       "      <td>0.257602</td>\n",
       "    </tr>\n",
       "    <tr>\n",
       "      <th>7.0</th>\n",
       "      <td>3868</td>\n",
       "      <td>0.834281</td>\n",
       "      <td>0.211595</td>\n",
       "    </tr>\n",
       "    <tr>\n",
       "      <th>8.0</th>\n",
       "      <td>3357</td>\n",
       "      <td>0.839738</td>\n",
       "      <td>0.183642</td>\n",
       "    </tr>\n",
       "    <tr>\n",
       "      <th>9.0</th>\n",
       "      <td>1863</td>\n",
       "      <td>0.822330</td>\n",
       "      <td>0.101914</td>\n",
       "    </tr>\n",
       "    <tr>\n",
       "      <th>10.0</th>\n",
       "      <td>982</td>\n",
       "      <td>0.819756</td>\n",
       "      <td>0.053719</td>\n",
       "    </tr>\n",
       "  </tbody>\n",
       "</table>\n",
       "</div>"
      ],
      "text/plain": [
       "                                  count      mean          %\n",
       "Min sender req complete time/m                              \n",
       "1.0                             1625470  0.907956  88.919851\n",
       "2.0                              119337  0.902620   6.528222\n",
       "3.0                               31701  0.882117   1.734174\n",
       "4.0                               11854  0.862072   0.648462\n",
       "5.0                                6479  0.841488   0.354428\n",
       "6.0                                4709  0.843279   0.257602\n",
       "7.0                                3868  0.834281   0.211595\n",
       "8.0                                3357  0.839738   0.183642\n",
       "9.0                                1863  0.822330   0.101914\n",
       "10.0                                982  0.819756   0.053719"
      ]
     },
     "execution_count": 142,
     "metadata": {},
     "output_type": "execute_result"
    }
   ],
   "source": [
    "transfers_with_time_messages[\"Min sender req complete time/m\"]=transfers_with_time_messages[\"Min sender req complete time/s\"].astype(float)/60\n",
    "transfers_minute_effect=transfers_with_time_messages.copy()\n",
    "transfers_minute_effect[\"Min sender req complete time/m\"]=np.ceil(transfers_minute_effect[\"Min sender req complete time/m\"])\n",
    "transfers_minute_effect=transfers_minute_effect.groupby(\"Min sender req complete time/m\").agg({'Integrated in Time':['count','mean']})['Integrated in Time']\n",
    "transfers_minute_effect['%']=100*transfers_minute_effect['count']/transfers_minute_effect['count'].sum()\n",
    "transfers_minute_effect.head(10)"
   ]
  },
  {
   "cell_type": "markdown",
   "id": "891eff4a",
   "metadata": {},
   "source": [
    "### Chance of eventual integration for transfers with only 2 vs 1 message"
   ]
  },
  {
   "cell_type": "code",
   "execution_count": 143,
   "id": "67d7e9d9",
   "metadata": {},
   "outputs": [],
   "source": [
    "_120_days_in_seconds = 120 * 24 * 60 * 60\n",
    "transfers_lasting_more_120_days_bool = transfers_with_time_messages[\"Total Time of Transfer Tracking/s\"] >= _120_days_in_seconds\n",
    "transfers_lasting_more_120_days = transfers_with_time_messages.copy().loc[transfers_lasting_more_120_days_bool]"
   ]
  },
  {
   "cell_type": "code",
   "execution_count": 144,
   "id": "6c5416e1",
   "metadata": {},
   "outputs": [],
   "source": [
    "integration_messages = [(\"requestor\", \"req complete ack\", ''), (\"requestor\", \"req complete ack\", \"15\")]\n",
    "def extract_integration_time(messages):\n",
    "    integration_times = [message[3] for message in messages if (message[0:3] in integration_messages)]\n",
    "    if len(integration_times) > 0:\n",
    "        return float(min(integration_times))\n",
    "    else:\n",
    "        return np.nan\n",
    "\n",
    "transfers_lasting_more_120_days[\"Integrated within 120 days\"] = transfers_lasting_more_120_days[\"messages\"].apply(lambda messages: extract_integration_time(messages) < _120_days_in_seconds)"
   ]
  },
  {
   "cell_type": "code",
   "execution_count": 145,
   "id": "cadd4268",
   "metadata": {},
   "outputs": [
    {
     "data": {
      "text/plain": [
       "True     1041961\n",
       "False      66716\n",
       "Name: Integrated within 120 days, dtype: int64"
      ]
     },
     "execution_count": 145,
     "metadata": {},
     "output_type": "execute_result"
    }
   ],
   "source": [
    "transfers_lasting_more_120_days[\"Integrated within 120 days\"].value_counts(dropna=False)"
   ]
  },
  {
   "cell_type": "code",
   "execution_count": 146,
   "id": "b402ffd7",
   "metadata": {},
   "outputs": [],
   "source": [
    "def pending_message_pattern(messages):\n",
    "    messages_within_14_days = tuple(message[0:3] for message in messages if float(message[3]) <= fourteen_days_in_seconds)\n",
    "    if messages_within_14_days == (('requestor', 'req start', ''),):\n",
    "        return \"Single message pending pattern\"\n",
    "    elif messages_within_14_days == (('requestor', 'req start', ''), ('sender', 'req start ack', ''),):\n",
    "        return \"Two message pending pattern\"\n",
    "    return \"Other pattern\"\n",
    "\n",
    "transfers_lasting_more_120_days[\"Message pattern\"] = transfers_lasting_more_120_days[\"messages\"].apply(pending_message_pattern)"
   ]
  },
  {
   "cell_type": "code",
   "execution_count": 147,
   "id": "7b87f7cd",
   "metadata": {},
   "outputs": [
    {
     "data": {
      "text/html": [
       "<div>\n",
       "<style scoped>\n",
       "    .dataframe tbody tr th:only-of-type {\n",
       "        vertical-align: middle;\n",
       "    }\n",
       "\n",
       "    .dataframe tbody tr th {\n",
       "        vertical-align: top;\n",
       "    }\n",
       "\n",
       "    .dataframe thead th {\n",
       "        text-align: right;\n",
       "    }\n",
       "</style>\n",
       "<table border=\"1\" class=\"dataframe\">\n",
       "  <thead>\n",
       "    <tr style=\"text-align: right;\">\n",
       "      <th></th>\n",
       "      <th>% integrated within 120 days</th>\n",
       "      <th>Total number transfers</th>\n",
       "    </tr>\n",
       "    <tr>\n",
       "      <th>Message pattern</th>\n",
       "      <th></th>\n",
       "      <th></th>\n",
       "    </tr>\n",
       "  </thead>\n",
       "  <tbody>\n",
       "    <tr>\n",
       "      <th>Other pattern</th>\n",
       "      <td>95.27</td>\n",
       "      <td>1092820</td>\n",
       "    </tr>\n",
       "    <tr>\n",
       "      <th>Single message pending pattern</th>\n",
       "      <td>6.26</td>\n",
       "      <td>5668</td>\n",
       "    </tr>\n",
       "    <tr>\n",
       "      <th>Two message pending pattern</th>\n",
       "      <td>4.36</td>\n",
       "      <td>10189</td>\n",
       "    </tr>\n",
       "  </tbody>\n",
       "</table>\n",
       "</div>"
      ],
      "text/plain": [
       "                                % integrated within 120 days  \\\n",
       "Message pattern                                                \n",
       "Other pattern                                          95.27   \n",
       "Single message pending pattern                          6.26   \n",
       "Two message pending pattern                             4.36   \n",
       "\n",
       "                                Total number transfers  \n",
       "Message pattern                                         \n",
       "Other pattern                                  1092820  \n",
       "Single message pending pattern                    5668  \n",
       "Two message pending pattern                      10189  "
      ]
     },
     "execution_count": 147,
     "metadata": {},
     "output_type": "execute_result"
    }
   ],
   "source": [
    "transfers_message_pattern_integration_within_120_days = transfers_lasting_more_120_days.groupby(\"Message pattern\").agg({\"Integrated within 120 days\": [\"mean\", \"count\"]})\n",
    "transfers_message_pattern_integration_within_120_days = transfers_message_pattern_integration_within_120_days[\"Integrated within 120 days\"]\n",
    "transfers_message_pattern_integration_within_120_days = transfers_message_pattern_integration_within_120_days.rename({\"mean\": \"% integrated within 120 days\", \"count\": \"Total number transfers\"}, axis=1)\n",
    "transfers_message_pattern_integration_within_120_days[\"% integrated within 120 days\"] = transfers_message_pattern_integration_within_120_days[\"% integrated within 120 days\"].multiply(100)\n",
    "transfers_message_pattern_integration_within_120_days.round(2)"
   ]
  },
  {
   "cell_type": "markdown",
   "id": "c25050aa",
   "metadata": {},
   "source": [
    "## Part B\n",
    "\n",
    "**We also believe that** reclassifying these transfers as Failed, will classify the transfers with fatal Sender errors as failures, and therefore make the following redundant: \n",
    "**We will know this to be true when** we can see that any transfers that would be classified as Failures because they contain these errors, do not contain the Request Completed message. \n",
    "\n",
    "### Scope\n",
    "\n",
    "1. Use 6 months of Spine Parquet files (Sept-2020 to Feb-2021 s3://prm-gp2gp-data-sandbox-dev/transfers-sample-5/)\n",
    "2. Re-label transfers which would be considered failures due to sender error as “Failed due to Sender Error”\n",
    "3. Add new status label for transfers not containing Request Completed Message\n",
    "4. Compare change in status for all “Failed due to Sender Error Messages”"
   ]
  },
  {
   "cell_type": "code",
   "execution_count": 148,
   "id": "12f9cae1",
   "metadata": {},
   "outputs": [
    {
     "data": {
      "text/plain": [
       "Integrated                         1654865\n",
       "Integrated Late                     102662\n",
       "Pending                              66882\n",
       "Failed Due To Sender Error Code      31217\n",
       "Failed                               25617\n",
       "Pending With Error                    7054\n",
       "Name: status, dtype: int64"
      ]
     },
     "execution_count": 148,
     "metadata": {},
     "output_type": "execute_result"
    }
   ],
   "source": [
    "transfers[\"status\"].value_counts()"
   ]
  },
  {
   "cell_type": "markdown",
   "id": "59301a08",
   "metadata": {},
   "source": [
    "## Step 3"
   ]
  },
  {
   "cell_type": "code",
   "execution_count": null,
   "id": "6c8c4c22",
   "metadata": {},
   "outputs": [],
   "source": [
    "conversations_extended_interaction_messages_file_name = 's3://prm-gp2gp-data-sandbox-dev/extra-fields-data-from-splunk/Sept_20_Feb_21_conversations_extended_interaction_messages.parquet'\n",
    "transfers_with_message_list = add_messages_parquet_to_transfers(conversations_extended_interaction_messages_file_name, transfers)"
   ]
  },
  {
   "cell_type": "code",
   "execution_count": null,
   "id": "a7dae24b",
   "metadata": {},
   "outputs": [],
   "source": [
    "sender_req_completed_message = ('sender', 'req complete', '')"
   ]
  },
  {
   "cell_type": "code",
   "execution_count": null,
   "id": "cd3a7af1",
   "metadata": {},
   "outputs": [],
   "source": [
    "transfers_with_sender_req_completed_bool = transfers_with_message_list[\"messages\"].apply(lambda messages: sender_req_completed_message in messages)\n",
    "transfers_with_message_list_and_new_status = transfers_with_message_list.copy()\n",
    "transfers_with_message_list_and_new_status[\"New Status\"] = transfers_with_message_list_and_new_status[\"status\"]\n",
    "transfers_with_message_list_and_new_status = transfers_with_message_list_and_new_status.rename({\"status\": \"Old Status\"}, axis=1)\n",
    "transfers_with_message_list_and_new_status.loc[~transfers_with_sender_req_completed_bool, \"New Status\"] = \"Failed\""
   ]
  },
  {
   "cell_type": "code",
   "execution_count": null,
   "id": "14f992eb",
   "metadata": {},
   "outputs": [],
   "source": [
    "transfers_with_message_list_and_new_status.groupby(by=[\"Old Status\", \"New Status\"]).agg({\"conversation_id\":\"count\"})"
   ]
  },
  {
   "cell_type": "code",
   "execution_count": null,
   "id": "18bd2e27",
   "metadata": {},
   "outputs": [],
   "source": [
    "#pd.set_option('display.max_colwidth', None)\n",
    "old_status_sender_error_failure_bool = transfers_with_message_list_and_new_status[\"Old Status\"] == \"Failed Due To Sender Error Code\"\n",
    "new_status_sender_error_failure_bool = transfers_with_message_list_and_new_status[\"New Status\"] == \"Failed Due To Sender Error Code\"\n",
    "transfers_with_message_list_and_new_status.loc[old_status_sender_error_failure_bool & new_status_sender_error_failure_bool, \"messages\"]"
   ]
  },
  {
   "cell_type": "code",
   "execution_count": null,
   "id": "5e701b21",
   "metadata": {},
   "outputs": [],
   "source": [
    "transfers_with_message_list_and_new_status"
   ]
  },
  {
   "cell_type": "code",
   "execution_count": null,
   "id": "78620e04",
   "metadata": {},
   "outputs": [],
   "source": []
  }
 ],
 "metadata": {
  "kernelspec": {
   "display_name": "conda_python3",
   "language": "python",
   "name": "conda_python3"
  },
  "language_info": {
   "codemirror_mode": {
    "name": "ipython",
    "version": 3
   },
   "file_extension": ".py",
   "mimetype": "text/x-python",
   "name": "python",
   "nbconvert_exporter": "python",
   "pygments_lexer": "ipython3",
   "version": "3.6.13"
  }
 },
 "nbformat": 4,
 "nbformat_minor": 5
}
