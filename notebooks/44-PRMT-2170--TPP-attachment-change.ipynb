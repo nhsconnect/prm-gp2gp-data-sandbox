{
 "cells": [
  {
   "cell_type": "code",
   "execution_count": 1,
   "id": "9430e060",
   "metadata": {},
   "outputs": [],
   "source": [
    "import pandas as pd\n",
    "from datetime import datetime, timedelta"
   ]
  },
  {
   "cell_type": "code",
   "execution_count": 2,
   "id": "95690172",
   "metadata": {},
   "outputs": [],
   "source": [
    "fix_time = datetime(2021, 5, 27, 11, 00, 0, 0)"
   ]
  },
  {
   "cell_type": "markdown",
   "id": "d1663f28",
   "metadata": {},
   "source": [
    "## Athena Query\n",
    "Athena Query used to generate MI-data-athena--PRMT-2170-notebook-44.csv\n",
    "\n",
    "Used previously defined `mi_rr` view (see notebook 42).\n",
    "\n",
    "```sql\n",
    "SELECT *\n",
    "FROM mi_rr\n",
    "WHERE from_iso8601_timestamp(RegistrationTime)\n",
    "    > from_iso8601_timestamp('2021-05-12T11:00:00')\n",
    "```"
   ]
  },
  {
   "cell_type": "code",
   "execution_count": 3,
   "id": "1372d0f4",
   "metadata": {},
   "outputs": [
    {
     "name": "stderr",
     "output_type": "stream",
     "text": [
      "/home/ec2-user/anaconda3/envs/python3/lib/python3.6/site-packages/IPython/core/interactiveshell.py:3072: DtypeWarning: Columns (11,13,27) have mixed types.Specify dtype option on import or set low_memory=False.\n",
      "  interactivity=interactivity, compiler=compiler, result=result)\n"
     ]
    }
   ],
   "source": [
    "file_name=\"s3://prm-gp2gp-data-sandbox-dev/MI_athena_outputs/MI-data-athena--PRMT-2170-notebook-44.csv\"\n",
    "raw_mi_rr_data=pd.read_csv(file_name,parse_dates=['RegistrationTime','RequestFailureTime'])"
   ]
  },
  {
   "cell_type": "code",
   "execution_count": 4,
   "id": "7bd6107d",
   "metadata": {},
   "outputs": [
    {
     "name": "stderr",
     "output_type": "stream",
     "text": [
      "/home/ec2-user/anaconda3/envs/python3/lib/python3.6/site-packages/ipykernel/__main__.py:28: SettingWithCopyWarning: \n",
      "A value is trying to be set on a copy of a slice from a DataFrame.\n",
      "Try using .loc[row_indexer,col_indexer] = value instead\n",
      "\n",
      "See the caveats in the documentation: https://pandas.pydata.org/pandas-docs/stable/user_guide/indexing.html#returning-a-view-versus-a-copy\n"
     ]
    }
   ],
   "source": [
    "# Supplier name mapping\n",
    "supplier_renaming = {\n",
    "    \"EGTON MEDICAL INFORMATION SYSTEMS LTD (EMIS)\":\"EMIS\",\n",
    "    \"IN PRACTICE SYSTEMS LTD\":\"Vision\",\n",
    "    \"MICROTEST LTD\":\"Microtest\",\n",
    "    \"THE PHOENIX PARTNERSHIP\":\"TPP\",\n",
    "    None: \"Unknown\"\n",
    "}\n",
    "\n",
    "# Generate ASID lookup that contains all the most recent entry for all ASIDs encountered\n",
    "asid_file_location = \"s3://prm-gp2gp-data-sandbox-dev/asid-lookup/\"\n",
    "asid_files = [\n",
    "    \"asidLookup-Nov-2020.csv.gz\",\n",
    "    \"asidLookup-Dec-2020.csv.gz\",\n",
    "    \"asidLookup-Jan-2021.csv.gz\",\n",
    "    \"asidLookup-Feb-2021.csv.gz\",\n",
    "    \"asidLookup-Mar-2021.csv.gz\",\n",
    "    \"asidLookup-Apr-2021.csv.gz\",\n",
    "    \"asidLookup-May-2021.csv.gz\"\n",
    "]\n",
    "asid_lookup_files = [asid_file_location + f for f in asid_files]\n",
    "asid_lookup = pd.concat((\n",
    "    pd.read_csv(f)\n",
    "    for f in asid_lookup_files\n",
    "))\n",
    "asid_lookup = asid_lookup.drop_duplicates().groupby(\"ASID\").last().reset_index()\n",
    "lookup = asid_lookup[[\"ASID\", \"MName\", \"NACS\",\"OrgName\"]]\n",
    "lookup['supplier']=lookup['MName'].replace(supplier_renaming)\n",
    "lookup=lookup[['NACS','supplier']].drop_duplicates().groupby(\"NACS\").last().reset_index()"
   ]
  },
  {
   "cell_type": "code",
   "execution_count": 5,
   "id": "b9d0ec01",
   "metadata": {},
   "outputs": [],
   "source": [
    "mi_rr_data_with_supplier=raw_mi_rr_data.merge(lookup,left_on='RequestorODS',right_on='NACS',how='left').rename({'supplier':'requesting supplier'},axis=1).drop('NACS',axis=1)\n",
    "mi_rr_data_with_supplier=mi_rr_data_with_supplier.merge(lookup,left_on='SenderODS',right_on='NACS',how='left').rename({'supplier':'sending supplier'},axis=1).drop('NACS',axis=1)"
   ]
  },
  {
   "cell_type": "code",
   "execution_count": 6,
   "id": "f913d4fc",
   "metadata": {},
   "outputs": [],
   "source": [
    "# Select EMIS to TPP conversations\n",
    "emis_to_tpp_conversations_bool = (mi_rr_data_with_supplier[\"sending supplier\"] == \"EMIS\") & (mi_rr_data_with_supplier[\"requesting supplier\"] == \"TPP\")\n",
    "emis_to_tpp_conversations = mi_rr_data_with_supplier[emis_to_tpp_conversations_bool]\n",
    "\n",
    "# Filter by 2 weeks before fix and 2 weeks after\n",
    "time_window = timedelta(days=14)\n",
    "date_bool = (emis_to_tpp_conversations[\"RegistrationTime\"] >= fix_time - time_window) & (emis_to_tpp_conversations[\"RegistrationTime\"] <= fix_time + time_window)\n",
    "emis_to_tpp_conversations = emis_to_tpp_conversations[date_bool]"
   ]
  },
  {
   "cell_type": "code",
   "execution_count": 7,
   "id": "2a108bd4",
   "metadata": {},
   "outputs": [],
   "source": [
    "# Adding before and after fix\n",
    "emis_to_tpp_conversations[\"Fix implemented\"] = emis_to_tpp_conversations[\"RegistrationTime\"] > fix_time"
   ]
  },
  {
   "cell_type": "code",
   "execution_count": 8,
   "id": "3ab4c448",
   "metadata": {},
   "outputs": [],
   "source": [
    "# Add contains error code 30 column\n",
    "emis_to_tpp_conversations['Contains Error Code 30']=((emis_to_tpp_conversations['RequestErrorCode']=='30') | (emis_to_tpp_conversations['ExtractAckCode']==30)).fillna(False)"
   ]
  },
  {
   "cell_type": "code",
   "execution_count": 9,
   "id": "5f795404",
   "metadata": {},
   "outputs": [],
   "source": [
    "# N.B. Conversations without a conversation ID are not counted\n",
    "error_code_30_prevalence_change = emis_to_tpp_conversations.pivot_table(index=\"Fix implemented\", columns=\"Contains Error Code 30\", aggfunc=\"count\", values=\"ConversationID\")\n",
    "error_code_30_prevalence_change[\"Total\"] = error_code_30_prevalence_change.sum(axis=1)\n",
    "error_code_30_prevalence_change[\"%\"] = (error_code_30_prevalence_change[True] / error_code_30_prevalence_change[\"Total\"]).multiply(100).round(2)"
   ]
  },
  {
   "cell_type": "code",
   "execution_count": 10,
   "id": "6662471b",
   "metadata": {},
   "outputs": [
    {
     "data": {
      "text/html": [
       "<div>\n",
       "<style scoped>\n",
       "    .dataframe tbody tr th:only-of-type {\n",
       "        vertical-align: middle;\n",
       "    }\n",
       "\n",
       "    .dataframe tbody tr th {\n",
       "        vertical-align: top;\n",
       "    }\n",
       "\n",
       "    .dataframe thead th {\n",
       "        text-align: right;\n",
       "    }\n",
       "</style>\n",
       "<table border=\"1\" class=\"dataframe\">\n",
       "  <thead>\n",
       "    <tr style=\"text-align: right;\">\n",
       "      <th>Contains Error Code 30</th>\n",
       "      <th>False</th>\n",
       "      <th>True</th>\n",
       "      <th>Total</th>\n",
       "      <th>%</th>\n",
       "    </tr>\n",
       "    <tr>\n",
       "      <th>Fix implemented</th>\n",
       "      <th></th>\n",
       "      <th></th>\n",
       "      <th></th>\n",
       "      <th></th>\n",
       "    </tr>\n",
       "  </thead>\n",
       "  <tbody>\n",
       "    <tr>\n",
       "      <th>False</th>\n",
       "      <td>20555</td>\n",
       "      <td>176</td>\n",
       "      <td>20731</td>\n",
       "      <td>0.85</td>\n",
       "    </tr>\n",
       "    <tr>\n",
       "      <th>True</th>\n",
       "      <td>18383</td>\n",
       "      <td>43</td>\n",
       "      <td>18426</td>\n",
       "      <td>0.23</td>\n",
       "    </tr>\n",
       "  </tbody>\n",
       "</table>\n",
       "</div>"
      ],
      "text/plain": [
       "Contains Error Code 30  False  True  Total     %\n",
       "Fix implemented                                 \n",
       "False                   20555   176  20731  0.85\n",
       "True                    18383    43  18426  0.23"
      ]
     },
     "execution_count": 10,
     "metadata": {},
     "output_type": "execute_result"
    }
   ],
   "source": [
    "error_code_30_prevalence_change"
   ]
  },
  {
   "cell_type": "code",
   "execution_count": 11,
   "id": "fbf14fcf",
   "metadata": {},
   "outputs": [
    {
     "data": {
      "text/plain": [
       "True    219\n",
       "Name: Contains TPP limit error, dtype: int64"
      ]
     },
     "execution_count": 11,
     "metadata": {},
     "output_type": "execute_result"
    }
   ],
   "source": [
    "# Only looking at conversations with Error Code 30\n",
    "conversations_with_error_code_30 = emis_to_tpp_conversations[emis_to_tpp_conversations['Contains Error Code 30']].copy()\n",
    "conversations_with_error_code_30['Contains TPP limit error'] = conversations_with_error_code_30['RequestErrorDescription'].str.contains('is larger than TPP limit').fillna(False)\n",
    "conversations_with_error_code_30['Contains TPP limit error'].value_counts(dropna=False)"
   ]
  },
  {
   "cell_type": "markdown",
   "id": "aba7f502",
   "metadata": {},
   "source": [
    "Therefore, all error code 30s have an error description that contains \"is larger than TPP limit\" (i.e. a TPP attachment limit error)"
   ]
  },
  {
   "cell_type": "code",
   "execution_count": 12,
   "id": "cf77f7c6",
   "metadata": {},
   "outputs": [
    {
     "data": {
      "text/html": [
       "<div>\n",
       "<style scoped>\n",
       "    .dataframe tbody tr th:only-of-type {\n",
       "        vertical-align: middle;\n",
       "    }\n",
       "\n",
       "    .dataframe tbody tr th {\n",
       "        vertical-align: top;\n",
       "    }\n",
       "\n",
       "    .dataframe thead th {\n",
       "        text-align: right;\n",
       "    }\n",
       "</style>\n",
       "<table border=\"1\" class=\"dataframe\">\n",
       "  <thead>\n",
       "    <tr style=\"text-align: right;\">\n",
       "      <th>Attachment Limit</th>\n",
       "      <th>60.0</th>\n",
       "      <th>100.0</th>\n",
       "    </tr>\n",
       "    <tr>\n",
       "      <th>Fix implemented</th>\n",
       "      <th></th>\n",
       "      <th></th>\n",
       "    </tr>\n",
       "  </thead>\n",
       "  <tbody>\n",
       "    <tr>\n",
       "      <th>False</th>\n",
       "      <td>176</td>\n",
       "      <td>0</td>\n",
       "    </tr>\n",
       "    <tr>\n",
       "      <th>True</th>\n",
       "      <td>0</td>\n",
       "      <td>43</td>\n",
       "    </tr>\n",
       "  </tbody>\n",
       "</table>\n",
       "</div>"
      ],
      "text/plain": [
       "Attachment Limit  60.0   100.0\n",
       "Fix implemented               \n",
       "False               176      0\n",
       "True                  0     43"
      ]
     },
     "execution_count": 12,
     "metadata": {},
     "output_type": "execute_result"
    }
   ],
   "source": [
    "# Attachment limit by MB\n",
    "conversations_with_error_code_30['Attachment Limit']=conversations_with_error_code_30['RequestErrorDescription'].str.split().apply(lambda message_list: int(message_list[-1]))\n",
    "attachment_limit_table = conversations_with_error_code_30.pivot_table(index=\"Fix implemented\", columns=\"Attachment Limit\", aggfunc=\"count\", values=\"ConversationID\").fillna(0).astype(int)\n",
    "attachment_limit_table.columns = attachment_limit_table.columns / (1024**2)\n",
    "attachment_limit_table"
   ]
  },
  {
   "cell_type": "code",
   "execution_count": null,
   "id": "37e4a86c",
   "metadata": {},
   "outputs": [],
   "source": []
  }
 ],
 "metadata": {
  "kernelspec": {
   "display_name": "conda_python3",
   "language": "python",
   "name": "conda_python3"
  },
  "language_info": {
   "codemirror_mode": {
    "name": "ipython",
    "version": 3
   },
   "file_extension": ".py",
   "mimetype": "text/x-python",
   "name": "python",
   "nbconvert_exporter": "python",
   "pygments_lexer": "ipython3",
   "version": "3.6.13"
  }
 },
 "nbformat": 4,
 "nbformat_minor": 5
}
