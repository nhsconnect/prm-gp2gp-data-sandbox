{
 "cells": [
  {
   "cell_type": "markdown",
   "id": "17251cfc",
   "metadata": {},
   "source": [
    "# PRMT-2183 Is it worth using Attachment MIDs in the pipeline to categorise transfers?\n",
    "\n",
    "## Hypothesis\n",
    "\n",
    "**We believe that** we should use attachment MID data to more accurately classify transfers.\n",
    "\n",
    "**We will know this to be true** when we see a significant number of transfers that are currently understood to be \"pending\" be re-categorised into either \"pending integration\" or \"still transfering\"\n",
    "\n",
    "Alternatively: how many transfers actually get stuck waiting for COPC large message fragments?\n",
    "\n",
    "## Approach\n",
    "\n",
    "Take a sample of pending transfers that include some number of large attachment COPC fragments, all of which are acknowledged.\n",
    "Measure how many of these gp2gp conversations appear to have sent all COPC messages that are referenced as attachment MIDS in the core EHR message.\n",
    "\n",
    "See: https://gpitbjss.atlassian.net/wiki/spaces/TW/pages/2552529087/EHR+structure+in+GP2GP\n",
    "\n",
    "As the data we are analysing is \"in the past\" if a conversation is still pending, then it was not a successful outcome for the patient.\n",
    "\n",
    "To simplify this analysis we will use only transfers with no duplicate core EHR (error code 12).\n",
    "\n",
    "So, using spine data we will calculate:\n",
    "1. Number of Conversations\n",
    "2. Number of Conversations without any error code 12\n",
    "3. Number of above which have core extract received, but do not have final ack message (transfers that would not be categorised as anything else under our new status proposal).\n",
    "4. Number of above that have COPC messages according to Attachment MIDs\n",
    "5. Number of above where all COPCs sent are acknowledged\n",
    "6. Number of the above for which the number of COPC sent is less than the number in Attachment MID \n",
    "\n",
    "These numbers correspond roughly to this categorisation hierarchy:\n",
    "\n",
    "```\n",
    "Looking back at collection of transfers, we could categorise them as follows\n",
    "\n",
    "-> A - Completed (successfully or otherwise)\n",
    "-> B - Not Completed (aka \"pending\")\n",
    "  -> C - EHR was not sent or request was not acknowledged \n",
    "  -> D - EHR was sent (This is more or less our current level of determination)\n",
    "    These next categorisations are viable using the attachment dataset:\n",
    "    -> E - Those where all the attachment fragments were sent (sending complete)\n",
    "    -> F - Those where some attachment fragments were not sent (sending incomplete)\n",
    "    -> G - ???\n",
    "```\n",
    "\n",
    "Two ways of interpreting the impact of the enhancement:\n",
    "\n",
    "1. We can now correctly categorise cases where some COPC were not sent and it got stuck - size of category F\n",
    "\n",
    "This would be calculated by taking (6) as a percentage of (2).\n",
    "\n",
    "2. By the process of elimination, we could potentially categorise anything where the EHR was sent, but the final ack is missing into \"stuck\" or \"not stuck\", depending on if we are waiting for the transfer to complete or not. - size of category D\n",
    "\n",
    "This would only be feasible, if there is not some other significant variation within category D (category G). E.g what if attachment fragments are sent but not acked.\n",
    "\n",
    "This would be calculated by taking (3) as a percentage of (2)."
   ]
  },
  {
   "cell_type": "code",
   "execution_count": 1,
   "id": "8aa39f12",
   "metadata": {},
   "outputs": [],
   "source": [
    "import pandas as pd"
   ]
  },
  {
   "cell_type": "code",
   "execution_count": 2,
   "id": "b4ae6c0d",
   "metadata": {},
   "outputs": [],
   "source": [
    "# Raw gp2gp spine data\n",
    "\n",
    "gp2gp_spine_data_files = [\n",
    "  \"s3://prm-gp2gp-data-sandbox-dev/spine-gp2gp-data/Mar-2021.csv.gz\",\n",
    "  \"s3://prm-gp2gp-data-sandbox-dev/spine-gp2gp-data/Apr-2021.csv.gz\"\n",
    "]\n",
    "\n",
    "gp2gp_spine = pd.concat((\n",
    "    pd.read_csv(f, parse_dates=[\"_time\"])\n",
    "    for f in gp2gp_spine_data_files\n",
    "))\n",
    "\n",
    "interaction_name_mapping = {\n",
    "    \"urn:nhs:names:services:gp2gp/RCMR_IN010000UK05\": \"req start\",\n",
    "    \"urn:nhs:names:services:gp2gp/RCMR_IN030000UK06\": \"req complete\",\n",
    "    \"urn:nhs:names:services:gp2gp/COPC_IN000001UK01\": \"COPC\",\n",
    "    \"urn:nhs:names:services:gp2gp/MCCI_IN010000UK13\": \"ack\"\n",
    "}\n",
    "\n",
    "gp2gp_spine['interaction_name']=gp2gp_spine['interactionID'].replace(interaction_name_mapping)\n",
    "gp2gp_spine = gp2gp_spine.drop_duplicates()"
   ]
  },
  {
   "cell_type": "markdown",
   "id": "78b7c683",
   "metadata": {},
   "source": [
    "Splunk query used to extract the attachment mid data:\n",
    "```sql\n",
    "index=\"spine2vfmmonitor\" logReference=\"MPS0208\" attachmentType=\"mid\"\n",
    "| table _time, attachmentID, conversationID\n",
    "```"
   ]
  },
  {
   "cell_type": "code",
   "execution_count": 3,
   "id": "70642847",
   "metadata": {},
   "outputs": [],
   "source": [
    "attachment_mids_folder=\"s3://prm-gp2gp-data-sandbox-dev/43-PRMT-2167-attachment-mids/\"\n",
    "attachment_mids_files=[\"attachment_mids_april_2021.csv\",\"attachment_mids_march_2021.csv\"]\n",
    "attachment_mids=pd.concat([pd.read_csv(attachment_mids_folder + file) for file in attachment_mids_files])"
   ]
  },
  {
   "cell_type": "code",
   "execution_count": 4,
   "id": "5203153e",
   "metadata": {},
   "outputs": [
    {
     "name": "stdout",
     "output_type": "stream",
     "text": [
      "Total number of conversations: 545063\n"
     ]
    }
   ],
   "source": [
    "# 1. Filtering for conversations that have started within the dataset\n",
    "all_messages = gp2gp_spine.copy()\n",
    "conversation_ids_with_req_start = all_messages.loc[all_messages['interaction_name']=='req start','conversationID'].unique()\n",
    "messages_from_started_conversations = all_messages[all_messages[\"conversationID\"].isin(conversation_ids_with_req_start)]\n",
    "\n",
    "print(f\"Total number of conversations: {conversation_ids_with_req_start.shape[0]}\")"
   ]
  },
  {
   "cell_type": "code",
   "execution_count": 5,
   "id": "3ca65ca9",
   "metadata": {},
   "outputs": [
    {
     "name": "stdout",
     "output_type": "stream",
     "text": [
      "Total number of conversations without error code 12: 537440\n"
     ]
    }
   ],
   "source": [
    "# 2. Filtering for conversations that do not have error code 12\n",
    "is_message_with_error_code_12 = messages_from_started_conversations['jdiEvent']=='12'\n",
    "\n",
    "conversation_ids_with_error_code_12 = messages_from_started_conversations.loc[is_message_with_error_code_12,'conversationID'].unique()\n",
    "conversation_ids_without_error_code_12 = list(set(messages_from_started_conversations['conversationID']) - set(conversation_ids_with_error_code_12))\n",
    "\n",
    "messages_from_conversations_without_duplicate_ehr_bool = messages_from_started_conversations[\"conversationID\"].isin(conversation_ids_without_error_code_12)\n",
    "messages_from_conversations_without_duplicate_ehr = messages_from_started_conversations[messages_from_conversations_without_duplicate_ehr_bool]\n",
    "\n",
    "print(f\"Total number of conversations without error code 12: {len(conversation_ids_without_error_code_12)}\")"
   ]
  },
  {
   "cell_type": "code",
   "execution_count": 6,
   "id": "0d81cb6c",
   "metadata": {},
   "outputs": [
    {
     "name": "stdout",
     "output_type": "stream",
     "text": [
      "Total number of conversations that have core extract received, but do not have final ack message: 24895\n"
     ]
    }
   ],
   "source": [
    "# 3. Conversations that have core extract received, but do not have final ack message\n",
    "\n",
    "# First filtering for conversations with core extract\n",
    "is_ehr_message = messages_from_conversations_without_duplicate_ehr['interaction_name']=='req complete'\n",
    "conversation_ids_with_core_extract = messages_from_conversations_without_duplicate_ehr.loc[is_ehr_message,'conversationID'].unique() \n",
    "is_message_in_conversation_with_ehr = messages_from_conversations_without_duplicate_ehr[\"conversationID\"].isin(conversation_ids_with_core_extract)\n",
    "messages_from_conversations_with_ehr = messages_from_conversations_without_duplicate_ehr[is_message_in_conversation_with_ehr]\n",
    "\n",
    "# Second filtering for conversations that do not have final ack message\n",
    "ids_of_req_complete_messages = messages_from_conversations_with_ehr.loc[messages_from_conversations_with_ehr['interaction_name']=='req complete','GUID'].unique()\n",
    "\n",
    "is_message_ehr_ack = messages_from_conversations_with_ehr[\"messageRef\"].isin(ids_of_req_complete_messages)\n",
    "conversation_ids_with_ehr_ack = messages_from_conversations_with_ehr.loc[is_message_ehr_ack, \"conversationID\"]\n",
    "conversation_ids_without_ehr_ack= list(set(messages_from_conversations_with_ehr['conversationID']) - set(conversation_ids_with_ehr_ack))\n",
    "\n",
    "is_message_in_conversation_without_ehr_ack = messages_from_conversations_with_ehr[\"conversationID\"].isin(conversation_ids_without_ehr_ack)\n",
    "messages_from_conversations_without_ehr_ack = messages_from_conversations_with_ehr[is_message_in_conversation_without_ehr_ack]\n",
    "\n",
    "print(f\"Total number of conversations that have core extract received, but do not have final ack message: {len(conversation_ids_without_ehr_ack)}\")"
   ]
  },
  {
   "cell_type": "code",
   "execution_count": 7,
   "id": "2a0c432f",
   "metadata": {},
   "outputs": [
    {
     "name": "stdout",
     "output_type": "stream",
     "text": [
      "Total number of conversations that have a COPC messages according to attachment MID:\n"
     ]
    },
    {
     "data": {
      "text/plain": [
       "10865"
      ]
     },
     "execution_count": 7,
     "metadata": {},
     "output_type": "execute_result"
    }
   ],
   "source": [
    "# 4. Number of above that have COPC messages according to Attachment MID\n",
    "all_conversations_with_attachment_ids = attachment_mids[\"conversationID\"].unique()\n",
    "\n",
    "is_message_in_conversation_with_large_attachment = messages_from_conversations_without_ehr_ack[\"conversationID\"].isin(all_conversations_with_attachment_ids)\n",
    "messages_from_conversations_with_large_attachments = messages_from_conversations_without_ehr_ack[is_message_in_conversation_with_large_attachment]\n",
    "count_of_conversations_that_should_have_copcs = messages_from_conversations_with_large_attachments[\"conversationID\"].unique().shape[0]\n",
    "\n",
    "print(f\"Total number of conversations that have a COPC messages according to attachment MID:\")\n",
    "count_of_conversations_that_should_have_copcs"
   ]
  },
  {
   "cell_type": "code",
   "execution_count": 8,
   "id": "24db8da7",
   "metadata": {},
   "outputs": [
    {
     "name": "stdout",
     "output_type": "stream",
     "text": [
      "Total number of conversations that actually have any COPC messages: \n",
      "10436\n",
      "Total number of conversations that expect to have COPC messages but don't \n",
      "429\n"
     ]
    }
   ],
   "source": [
    "is_message_copc = messages_from_conversations_with_large_attachments['interaction_name']=='COPC'\n",
    "conversations_with_copc = messages_from_conversations_with_large_attachments.loc[is_message_copc, 'conversationID'].unique()\n",
    "\n",
    "is_message_in_conversation_with_copc = messages_from_conversations_with_large_attachments['conversationID'].isin(conversations_with_copc)\n",
    "messages_from_conversations_with_copcs = messages_from_conversations_with_large_attachments[is_message_in_conversation_with_copc]\n",
    "\n",
    "print(f\"Total number of conversations that actually have any COPC messages: \")\n",
    "print(messages_from_conversations_with_copcs[\"conversationID\"].unique().shape[0])\n",
    "\n",
    "print(f\"Total number of conversations that expect to have COPC messages but don't \")\n",
    "print(count_of_conversations_that_should_have_copcs - messages_from_conversations_with_copcs[\"conversationID\"].unique().shape[0])"
   ]
  },
  {
   "cell_type": "code",
   "execution_count": 9,
   "id": "d7a640c1",
   "metadata": {},
   "outputs": [
    {
     "name": "stdout",
     "output_type": "stream",
     "text": [
      "Total number of conversations where all COPCs sent are acknowledged:\n"
     ]
    },
    {
     "data": {
      "text/plain": [
       "10164"
      ]
     },
     "execution_count": 9,
     "metadata": {},
     "output_type": "execute_result"
    }
   ],
   "source": [
    "# 5. Number of above where all COPCs sent are acknowledged (that are sent by Sender)\n",
    "\n",
    "# Add in whether message is sent from Sender or Requester\n",
    "is_req_started_message = messages_from_conversations_with_copcs['interaction_name']=='req start'\n",
    "requester_lookup = messages_from_conversations_with_copcs.loc[is_req_started_message, ['messageSender', 'conversationID']].rename({\"messageSender\": \"requester\"}, axis=1)\n",
    "messages_from_conversations_with_copcs = messages_from_conversations_with_copcs.merge(requester_lookup, left_on=\"conversationID\", right_on=\"conversationID\", how=\"left\")\n",
    "\n",
    "messages_from_conversations_with_copcs[\"Message sender type\"] = \"Sender\"\n",
    "is_message_from_requester = messages_from_conversations_with_copcs[\"messageSender\"] == messages_from_conversations_with_copcs[\"requester\"]\n",
    "messages_from_conversations_with_copcs.loc[is_message_from_requester, \"Message sender type\"] = \"Requester\" \n",
    "\n",
    "# Filtering for conversations where COPCs are sent by the Sender\n",
    "is_copc_message_from_sender = (messages_from_conversations_with_copcs['interaction_name']=='COPC') & (messages_from_conversations_with_copcs['Message sender type'] == \"Sender\")\n",
    "copc_message_guids = messages_from_conversations_with_copcs.loc[is_copc_message_from_sender,'GUID'].unique()\n",
    "all_messagerefs = messages_from_conversations_with_copcs.loc[messages_from_conversations_with_copcs['interaction_name']=='ack','messageRef'].unique()\n",
    "\n",
    "copcs_guids_without_ack = list(set(copc_message_guids) - set(all_messagerefs))\n",
    "\n",
    "messages_from_conversations_missing_copc_ack = messages_from_conversations_with_copcs[\"GUID\"].isin(copcs_guids_without_ack)\n",
    "conversation_ids_copcs_without_ack = messages_from_conversations_with_copcs.loc[messages_from_conversations_missing_copc_ack, \"conversationID\"].unique()\n",
    "\n",
    "is_message_a_sender_copc = (messages_from_conversations_with_copcs['Message sender type'] == \"Sender\") & (messages_from_conversations_with_copcs['interaction_name']=='COPC')\n",
    "conversation_ids_with_acked_sender_copcs = messages_from_conversations_with_copcs.loc[is_message_a_sender_copc, \"conversationID\"].unique() \n",
    "\n",
    "conversation_ids_copcs_with_ack = list(set(conversation_ids_with_acked_sender_copcs) - set(conversation_ids_copcs_without_ack))\n",
    "\n",
    "is_message_in_conversation_with_sender_copcs_acked = messages_from_conversations_with_copcs[\"conversationID\"].isin(conversation_ids_copcs_with_ack)\n",
    "messages_from_conversations_with_copcs_acked = messages_from_conversations_with_copcs[is_message_in_conversation_with_sender_copcs_acked]\n",
    "\n",
    "print(f\"Total number of conversations where all COPCs sent are acknowledged:\")\n",
    "messages_from_conversations_with_copcs_acked[\"conversationID\"].unique().shape[0]"
   ]
  },
  {
   "cell_type": "code",
   "execution_count": 10,
   "id": "924afa5f",
   "metadata": {},
   "outputs": [
    {
     "name": "stdout",
     "output_type": "stream",
     "text": [
      "Number of the above for which the number of COPC sent is less than the number in Attachment MID:\n"
     ]
    },
    {
     "data": {
      "text/plain": [
       "260"
      ]
     },
     "execution_count": 10,
     "metadata": {},
     "output_type": "execute_result"
    }
   ],
   "source": [
    "# 6. Number of the above for which the number of COPC sent is less than the number in Attachment MID\n",
    "copc_expected = attachment_mids.drop(\"_time\", axis=1).drop_duplicates().groupby(\"conversationID\").agg(\"count\").rename({\"attachmentID\": \"Number of COPCs expected\"}, axis=1).fillna(0)\n",
    "\n",
    "is_message_acked_sender_copc = (messages_from_conversations_with_copcs_acked['interaction_name']=='COPC') & (messages_from_conversations_with_copcs_acked['Message sender type'] == \"Sender\")\n",
    "copcs_seen = messages_from_conversations_with_copcs_acked.loc[is_message_acked_sender_copc, [\"conversationID\", \"GUID\"]].fillna(0)\n",
    "copcs_seen = copcs_seen.drop_duplicates().groupby(\"conversationID\").agg(\"count\").rename({\"GUID\": \"Number of COPCs seen\"}, axis=1).fillna(0)\n",
    "\n",
    "copc_comparison_table = copc_expected.merge(copcs_seen, left_index=True, right_index=True, how=\"right\").fillna(0)\n",
    "missing_copc_messages = (copc_comparison_table[\"Number of COPCs seen\"] < copc_comparison_table[\"Number of COPCs expected\"]).value_counts()\n",
    "\n",
    "print(f\"Number of the above for which the number of COPC sent is less than the number in Attachment MID:\")\n",
    "missing_copc_messages[True]"
   ]
  },
  {
   "cell_type": "code",
   "execution_count": 11,
   "id": "79083093",
   "metadata": {},
   "outputs": [
    {
     "data": {
      "text/plain": [
       "False    9904\n",
       "True      260\n",
       "dtype: int64"
      ]
     },
     "execution_count": 11,
     "metadata": {},
     "output_type": "execute_result"
    }
   ],
   "source": [
    "missing_copc_messages"
   ]
  },
  {
   "cell_type": "markdown",
   "id": "98e6fcd4",
   "metadata": {},
   "source": [
    "## Findings: Impact of the enhancement\n",
    "\n",
    "1. We can now correctly categorise cases where some COPC were not sent and it got stuck - size of category F"
   ]
  },
  {
   "cell_type": "code",
   "execution_count": 12,
   "id": "5fcaa2d3",
   "metadata": {},
   "outputs": [
    {
     "name": "stdout",
     "output_type": "stream",
     "text": [
      "% of transfers that would be re-categorised as a consequence of using attachment MIDs data\n"
     ]
    },
    {
     "data": {
      "text/plain": [
       "0.04837749330157785"
      ]
     },
     "execution_count": 12,
     "metadata": {},
     "output_type": "execute_result"
    }
   ],
   "source": [
    "print(\"% of transfers that would be re-categorised as a consequence of using attachment MIDs data\")\n",
    "(missing_copc_messages[True] / len(conversation_ids_without_error_code_12)) * 100"
   ]
  },
  {
   "cell_type": "markdown",
   "id": "cbbf843a",
   "metadata": {},
   "source": [
    "2. By the process of elimination, we could potentially categorise anything where the EHR was sent, but the final ack is missing into \"stuck\" or \"not stuck\", depending on if we are waiting for the transfer to complete or not. - size of category D\n",
    "\n",
    "This would only be feasible, if there is not some other significant variation within category D (category G). E.g what if attachment fragments are sent but not acked.\n",
    "\n",
    "This would be calculated by taking (3) as a percentage of (2)."
   ]
  },
  {
   "cell_type": "code",
   "execution_count": 13,
   "id": "524413e0",
   "metadata": {},
   "outputs": [
    {
     "name": "stdout",
     "output_type": "stream",
     "text": [
      "4.632144983626079%\n"
     ]
    }
   ],
   "source": [
    "print(f\"{(len(conversation_ids_without_ehr_ack) / len(conversation_ids_without_error_code_12)) * 100}%\")"
   ]
  },
  {
   "cell_type": "markdown",
   "id": "4836c405",
   "metadata": {},
   "source": [
    "## Addendum\n",
    "\n",
    "Context\n",
    "\n",
    "We recently did analysis using the attachment MIDs data to identify whether it would help us identify transfers that have been fully transfers vs. transfers that have missing attachments. We identified a small subset of transfers that had not fully transferred.\n",
    "\n",
    "Scope\n",
    "\n",
    "Perform analysis on a sample of transfers (longer than 1 months, maybe 3?) to identify any patterns in these transfers\n",
    "\n",
    "Are they specific to one supplier?\n",
    "\n",
    "Are they across a small group of practices, or across many?\n",
    "\n",
    "Anything else?"
   ]
  },
  {
   "cell_type": "code",
   "execution_count": 14,
   "id": "832a637d",
   "metadata": {},
   "outputs": [],
   "source": [
    "missing_copc_messages_bool = (copc_comparison_table[\"Number of COPCs seen\"] < copc_comparison_table[\"Number of COPCs expected\"])\n",
    "conversations_with_missing_copcs=copc_comparison_table[missing_copc_messages_bool].index"
   ]
  },
  {
   "cell_type": "code",
   "execution_count": 15,
   "id": "fe97c195",
   "metadata": {},
   "outputs": [],
   "source": [
    "transfer_file_location = \"s3://prm-gp2gp-data-sandbox-dev/transfers-sample-6/\"\n",
    "transfer_files = [\n",
    "    \"2021-3-transfers.parquet\",\n",
    "    \"2021-4-transfers.parquet\",\n",
    "]\n",
    "transfer_input_files = [transfer_file_location + f for f in transfer_files]\n",
    "transfers_raw = pd.concat((\n",
    "    pd.read_parquet(f)\n",
    "    for f in transfer_input_files\n",
    "))\n",
    "transfers=transfers_raw.copy().set_index(\"conversation_id\")"
   ]
  },
  {
   "cell_type": "code",
   "execution_count": 16,
   "id": "bd97bc5a",
   "metadata": {},
   "outputs": [
    {
     "data": {
      "text/html": [
       "<div>\n",
       "<style scoped>\n",
       "    .dataframe tbody tr th:only-of-type {\n",
       "        vertical-align: middle;\n",
       "    }\n",
       "\n",
       "    .dataframe tbody tr th {\n",
       "        vertical-align: top;\n",
       "    }\n",
       "\n",
       "    .dataframe thead th {\n",
       "        text-align: right;\n",
       "    }\n",
       "</style>\n",
       "<table border=\"1\" class=\"dataframe\">\n",
       "  <thead>\n",
       "    <tr style=\"text-align: right;\">\n",
       "      <th></th>\n",
       "      <th></th>\n",
       "      <th>Number of Transfers</th>\n",
       "      <th>Number of Transfers with Missing COPC</th>\n",
       "      <th>Estimated % Missing</th>\n",
       "    </tr>\n",
       "    <tr>\n",
       "      <th>sending_supplier</th>\n",
       "      <th>requesting_supplier</th>\n",
       "      <th></th>\n",
       "      <th></th>\n",
       "      <th></th>\n",
       "    </tr>\n",
       "  </thead>\n",
       "  <tbody>\n",
       "    <tr>\n",
       "      <th rowspan=\"2\" valign=\"top\">EMIS</th>\n",
       "      <th>EMIS</th>\n",
       "      <td>331997</td>\n",
       "      <td>171.0</td>\n",
       "      <td>0.051506</td>\n",
       "    </tr>\n",
       "    <tr>\n",
       "      <th>SystmOne</th>\n",
       "      <td>105542</td>\n",
       "      <td>69.0</td>\n",
       "      <td>0.065377</td>\n",
       "    </tr>\n",
       "    <tr>\n",
       "      <th>SystmOne</th>\n",
       "      <th>EMIS</th>\n",
       "      <td>91422</td>\n",
       "      <td>20.0</td>\n",
       "      <td>0.021877</td>\n",
       "    </tr>\n",
       "    <tr>\n",
       "      <th>Vision</th>\n",
       "      <th>EMIS</th>\n",
       "      <td>6251</td>\n",
       "      <td>0.0</td>\n",
       "      <td>0.000000</td>\n",
       "    </tr>\n",
       "    <tr>\n",
       "      <th>EMIS</th>\n",
       "      <th>Vision</th>\n",
       "      <td>5954</td>\n",
       "      <td>0.0</td>\n",
       "      <td>0.000000</td>\n",
       "    </tr>\n",
       "    <tr>\n",
       "      <th rowspan=\"2\" valign=\"top\">Vision</th>\n",
       "      <th>SystmOne</th>\n",
       "      <td>1434</td>\n",
       "      <td>0.0</td>\n",
       "      <td>0.000000</td>\n",
       "    </tr>\n",
       "    <tr>\n",
       "      <th>Vision</th>\n",
       "      <td>1285</td>\n",
       "      <td>0.0</td>\n",
       "      <td>0.000000</td>\n",
       "    </tr>\n",
       "    <tr>\n",
       "      <th rowspan=\"2\" valign=\"top\">SystmOne</th>\n",
       "      <th>Vision</th>\n",
       "      <td>1127</td>\n",
       "      <td>0.0</td>\n",
       "      <td>0.000000</td>\n",
       "    </tr>\n",
       "    <tr>\n",
       "      <th>SystmOne</th>\n",
       "      <td>51</td>\n",
       "      <td>0.0</td>\n",
       "      <td>0.000000</td>\n",
       "    </tr>\n",
       "  </tbody>\n",
       "</table>\n",
       "</div>"
      ],
      "text/plain": [
       "                                      Number of Transfers  \\\n",
       "sending_supplier requesting_supplier                        \n",
       "EMIS             EMIS                              331997   \n",
       "                 SystmOne                          105542   \n",
       "SystmOne         EMIS                               91422   \n",
       "Vision           EMIS                                6251   \n",
       "EMIS             Vision                              5954   \n",
       "Vision           SystmOne                            1434   \n",
       "                 Vision                              1285   \n",
       "SystmOne         Vision                              1127   \n",
       "                 SystmOne                              51   \n",
       "\n",
       "                                      Number of Transfers with Missing COPC  \\\n",
       "sending_supplier requesting_supplier                                          \n",
       "EMIS             EMIS                                                 171.0   \n",
       "                 SystmOne                                              69.0   \n",
       "SystmOne         EMIS                                                  20.0   \n",
       "Vision           EMIS                                                   0.0   \n",
       "EMIS             Vision                                                 0.0   \n",
       "Vision           SystmOne                                               0.0   \n",
       "                 Vision                                                 0.0   \n",
       "SystmOne         Vision                                                 0.0   \n",
       "                 SystmOne                                               0.0   \n",
       "\n",
       "                                      Estimated % Missing  \n",
       "sending_supplier requesting_supplier                       \n",
       "EMIS             EMIS                            0.051506  \n",
       "                 SystmOne                        0.065377  \n",
       "SystmOne         EMIS                            0.021877  \n",
       "Vision           EMIS                            0.000000  \n",
       "EMIS             Vision                          0.000000  \n",
       "Vision           SystmOne                        0.000000  \n",
       "                 Vision                          0.000000  \n",
       "SystmOne         Vision                          0.000000  \n",
       "                 SystmOne                        0.000000  "
      ]
     },
     "execution_count": 16,
     "metadata": {},
     "output_type": "execute_result"
    }
   ],
   "source": [
    "transfers_by_supplier_pathway=transfers.groupby(by=[\"sending_supplier\", \"requesting_supplier\"]).agg({\"date_requested\": \"count\"}).rename({\"date_requested\": \"Number of Transfers\"}, axis=1)\n",
    "transfers_with_missing_copcs = transfers.loc[conversations_with_missing_copcs]\n",
    "missing_copcs_by_supplier_pathway=transfers_with_missing_copcs.groupby(by=[\"sending_supplier\", \"requesting_supplier\"]).agg({\"date_requested\": \"count\"}).rename({\"date_requested\": \"Number of Transfers with Missing COPC\"}, axis=1)\n",
    "\n",
    "supplier_pathways_missing_copc_comparison_table=transfers_by_supplier_pathway.merge(missing_copcs_by_supplier_pathway, left_index=True, right_index=True, how=\"outer\").fillna(0)\n",
    "supplier_pathways_missing_copc_comparison_table[\"Estimated % Missing\"] = supplier_pathways_missing_copc_comparison_table[\"Number of Transfers with Missing COPC\"]/supplier_pathways_missing_copc_comparison_table[\"Number of Transfers\"]*100\n",
    "supplier_pathways_missing_copc_comparison_table.sort_values(by=\"Number of Transfers\", ascending=False)"
   ]
  },
  {
   "cell_type": "code",
   "execution_count": 17,
   "id": "3591db56",
   "metadata": {},
   "outputs": [
    {
     "data": {
      "text/html": [
       "<div>\n",
       "<style scoped>\n",
       "    .dataframe tbody tr th:only-of-type {\n",
       "        vertical-align: middle;\n",
       "    }\n",
       "\n",
       "    .dataframe tbody tr th {\n",
       "        vertical-align: top;\n",
       "    }\n",
       "\n",
       "    .dataframe thead th {\n",
       "        text-align: right;\n",
       "    }\n",
       "</style>\n",
       "<table border=\"1\" class=\"dataframe\">\n",
       "  <thead>\n",
       "    <tr style=\"text-align: right;\">\n",
       "      <th></th>\n",
       "      <th></th>\n",
       "      <th>Number of Transfers with Missing COPC</th>\n",
       "    </tr>\n",
       "    <tr>\n",
       "      <th>status</th>\n",
       "      <th>failure_reason</th>\n",
       "      <th></th>\n",
       "    </tr>\n",
       "  </thead>\n",
       "  <tbody>\n",
       "    <tr>\n",
       "      <th rowspan=\"2\" valign=\"top\">PROCESS_FAILURE</th>\n",
       "      <th>Integrated Late</th>\n",
       "      <td>8</td>\n",
       "    </tr>\n",
       "    <tr>\n",
       "      <th>Transferred, not integrated</th>\n",
       "      <td>151</td>\n",
       "    </tr>\n",
       "    <tr>\n",
       "      <th>TECHNICAL_FAILURE</th>\n",
       "      <th>Final Error</th>\n",
       "      <td>66</td>\n",
       "    </tr>\n",
       "    <tr>\n",
       "      <th rowspan=\"2\" valign=\"top\">UNCLASSIFIED_FAILURE</th>\n",
       "      <th>Ambiguous COPC messages</th>\n",
       "      <td>4</td>\n",
       "    </tr>\n",
       "    <tr>\n",
       "      <th>Transferred, not integrated, with error</th>\n",
       "      <td>10</td>\n",
       "    </tr>\n",
       "  </tbody>\n",
       "</table>\n",
       "</div>"
      ],
      "text/plain": [
       "                                                              Number of Transfers with Missing COPC\n",
       "status               failure_reason                                                                \n",
       "PROCESS_FAILURE      Integrated Late                                                              8\n",
       "                     Transferred, not integrated                                                151\n",
       "TECHNICAL_FAILURE    Final Error                                                                 66\n",
       "UNCLASSIFIED_FAILURE Ambiguous COPC messages                                                      4\n",
       "                     Transferred, not integrated, with error                                     10"
      ]
     },
     "execution_count": 17,
     "metadata": {},
     "output_type": "execute_result"
    }
   ],
   "source": [
    "# check if there's anything going on with the statuses\n",
    "transfers_with_missing_copcs.groupby(by=[\"status\", \"failure_reason\"]).agg({\"date_requested\": \"count\"}).rename({\"date_requested\": \"Number of Transfers with Missing COPC\"}, axis=1)"
   ]
  },
  {
   "cell_type": "code",
   "execution_count": 18,
   "id": "6d4ae4de",
   "metadata": {},
   "outputs": [
    {
     "data": {
      "text/plain": [
       "1    232\n",
       "2     14\n",
       "Name: requesting_practice_asid, dtype: int64"
      ]
     },
     "execution_count": 18,
     "metadata": {},
     "output_type": "execute_result"
    }
   ],
   "source": [
    "transfers_with_missing_copcs[\"requesting_practice_asid\"].value_counts().value_counts()\n"
   ]
  },
  {
   "cell_type": "code",
   "execution_count": 19,
   "id": "f34bf716",
   "metadata": {},
   "outputs": [
    {
     "data": {
      "text/plain": [
       "1    238\n",
       "2     11\n",
       "Name: sending_practice_asid, dtype: int64"
      ]
     },
     "execution_count": 19,
     "metadata": {},
     "output_type": "execute_result"
    }
   ],
   "source": [
    "transfers_with_missing_copcs[\"sending_practice_asid\"].value_counts().value_counts()"
   ]
  },
  {
   "cell_type": "markdown",
   "id": "e8314b65",
   "metadata": {},
   "source": [
    "## Addendum Findings\n",
    "\n",
    "1. Missing COPCs appear to be far more likely when EMIS is the sender.\n",
    "2. For the failure reasons, while the majority are transferred not integrated, there is also a large volume of technical failures with a final error.\n",
    "3. There does not appear to be a practice specific issue, No single practice has this issue mroe than twice as either a sender or requestor.\n"
   ]
  },
  {
   "cell_type": "code",
   "execution_count": null,
   "id": "0df05555",
   "metadata": {},
   "outputs": [],
   "source": []
  },
  {
   "cell_type": "code",
   "execution_count": null,
   "id": "24bba01b",
   "metadata": {},
   "outputs": [],
   "source": []
  }
 ],
 "metadata": {
  "kernelspec": {
   "display_name": "conda_python3",
   "language": "python",
   "name": "conda_python3"
  },
  "language_info": {
   "codemirror_mode": {
    "name": "ipython",
    "version": 3
   },
   "file_extension": ".py",
   "mimetype": "text/x-python",
   "name": "python",
   "nbconvert_exporter": "python",
   "pygments_lexer": "ipython3",
   "version": "3.6.13"
  }
 },
 "nbformat": 4,
 "nbformat_minor": 5
}
