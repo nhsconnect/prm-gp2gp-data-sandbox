{
 "cells": [
  {
   "cell_type": "markdown",
   "id": "5375ae04",
   "metadata": {},
   "source": [
    "# PRMT-2183 Is it worth using Attachment MIDs in the pipeline to categorise transfers?\n",
    "\n",
    "## Hypothesis\n",
    "\n",
    "**We believe that** we should use attachment MID data to more accurately classify transfers.\n",
    "\n",
    "**We will know this to be true** when ~we see a significant number of Transferred, not Integrated transfers re-categorised as Technical Failures~\n",
    "\n",
    "... we see a significant number of transfers that are currently understood to be \"pending\" be re-categorised into either \"pending integration\" or \"still transfering\"\n",
    "\n",
    "Alternatively: how many transfers actually get stuck waiting for COPC large message fragments?\n",
    "\n",
    "## Approach\n",
    "\n",
    "Take a sample of pending transfers that include some number of large attachment COPC fragments, all of which are acknowledged.\n",
    "Measure how many of these gp2gp conversations appear to have sent all COPC messages that are referenced as attachment MIDS in the core EHR message.\n",
    "\n",
    "See: https://gpitbjss.atlassian.net/wiki/spaces/TW/pages/2552529087/EHR+structure+in+GP2GP\n",
    "\n",
    "As the data we are analysing is \"in the past\" if a conversation is still pending, then it was not a successful outcome for the patient.\n",
    "\n",
    "To simplify this analysis we will use only transfers with no duplicate core EHR (error code 12).\n",
    "\n",
    "So, using spine data we will calculate:\n",
    "1. Number of Conversations\n",
    "2. Number of Conversations without any error code 12\n",
    "3. Number of above which have core extract received, but do not have final ack message (transfers that would not be categorised as anything else under our new status proposal).\n",
    "4. Number of above that have COPC messages according to Attachment MIDs\n",
    "5. Number of above where all COPCs sent are acknowledged\n",
    "6. Number of the above for which the number of COPC sent is less than the number in Attachment MID \n",
    "\n",
    "These numbers correspond roughly to this categorisation hierarchy:\n",
    "\n",
    "```\n",
    "Looking back at collection of transfers, we could categorise them as follows\n",
    "\n",
    "-> A - Completed (successfully or otherwise)\n",
    "-> B - Not Completed (aka \"pending\")\n",
    "  -> C - EHR was not sent or request was not acknowledged \n",
    "  -> D - EHR was sent (This is more or less our current level of determination)\n",
    "    These next categorisations are viable using the attachment dataset:\n",
    "    -> E - Those where all the attachment fragments were sent (sending complete)\n",
    "    -> F - Those where some attachment fragments were not sent (sending incomplete)\n",
    "    -> G - ???\n",
    "```\n",
    "\n",
    "Two ways of interpreting the impact of the enhancement:\n",
    "\n",
    "1. We can now correctly categorise cases where some COPC were not sent and it got stuck - size of category F\n",
    "\n",
    "This would be calculated by taking (6) as a percentage of (2).\n",
    "\n",
    "2. By the process of elimination we can now correctly categorise anything where the EHR was sent, but the final ack is missing into \"stuck\" or \"not stuck\", depending on if we are waiting for the transfer to complete or not. - size of category D\n",
    "\n",
    "This would only be feasible, if there is not some other significant variation within category D (category G). E.g what if attachment fragments are sent but not acked.\n",
    "\n",
    "This would be calculated by taking (3) as a percentage of (2)."
   ]
  },
  {
   "cell_type": "code",
   "execution_count": 1,
   "id": "45860845",
   "metadata": {},
   "outputs": [],
   "source": [
    "import pandas as pd"
   ]
  },
  {
   "cell_type": "code",
   "execution_count": 2,
   "id": "b9e9db14",
   "metadata": {},
   "outputs": [],
   "source": [
    "# Raw gp2gp spine data\n",
    "\n",
    "gp2gp_spine_data_files = [\n",
    "  \"s3://prm-gp2gp-data-sandbox-dev/spine-gp2gp-data/Mar-2021.csv.gz\",\n",
    "  \"s3://prm-gp2gp-data-sandbox-dev/spine-gp2gp-data/Apr-2021.csv.gz\"\n",
    "]\n",
    "\n",
    "gp2gp_spine = pd.concat((\n",
    "    pd.read_csv(f, parse_dates=[\"_time\"])\n",
    "    for f in gp2gp_spine_data_files\n",
    "))\n",
    "\n",
    "interaction_name_mapping = {\n",
    "    \"urn:nhs:names:services:gp2gp/RCMR_IN010000UK05\": \"req start\",\n",
    "    \"urn:nhs:names:services:gp2gp/RCMR_IN030000UK06\": \"req complete\",\n",
    "    \"urn:nhs:names:services:gp2gp/COPC_IN000001UK01\": \"COPC\",\n",
    "    \"urn:nhs:names:services:gp2gp/MCCI_IN010000UK13\": \"ack\"\n",
    "}\n",
    "\n",
    "gp2gp_spine['interaction_name']=gp2gp_spine['interactionID'].replace(interaction_name_mapping)\n",
    "gp2gp_spine = gp2gp_spine.drop_duplicates()"
   ]
  },
  {
   "cell_type": "markdown",
   "id": "2aa1b836",
   "metadata": {},
   "source": [
    "Splunk query used to extract the attachment mid data:\n",
    "```sql\n",
    "index=\"spine2vfmmonitor\" logReference=\"MPS0208\" attachmentType=\"mid\"\n",
    "| table _time, attachmentID, conversationID\n",
    "```"
   ]
  },
  {
   "cell_type": "code",
   "execution_count": 3,
   "id": "444bb74d",
   "metadata": {},
   "outputs": [],
   "source": [
    "attachment_mids_folder=\"s3://prm-gp2gp-data-sandbox-dev/43-PRMT-2167-attachment-mids/\"\n",
    "attachment_mids_files=[\"attachment_mids_april_2021.csv\",\"attachment_mids_march_2021.csv\"]\n",
    "attachment_mids=pd.concat([pd.read_csv(attachment_mids_folder + file) for file in attachment_mids_files])"
   ]
  },
  {
   "cell_type": "code",
   "execution_count": 4,
   "id": "0241fb15",
   "metadata": {},
   "outputs": [
    {
     "data": {
      "text/html": [
       "<div>\n",
       "<style scoped>\n",
       "    .dataframe tbody tr th:only-of-type {\n",
       "        vertical-align: middle;\n",
       "    }\n",
       "\n",
       "    .dataframe tbody tr th {\n",
       "        vertical-align: top;\n",
       "    }\n",
       "\n",
       "    .dataframe thead th {\n",
       "        text-align: right;\n",
       "    }\n",
       "</style>\n",
       "<table border=\"1\" class=\"dataframe\">\n",
       "  <thead>\n",
       "    <tr style=\"text-align: right;\">\n",
       "      <th></th>\n",
       "      <th>_time</th>\n",
       "      <th>attachmentID</th>\n",
       "      <th>conversationID</th>\n",
       "    </tr>\n",
       "  </thead>\n",
       "  <tbody>\n",
       "    <tr>\n",
       "      <th>0</th>\n",
       "      <td>2021-04-30T17:20:10.015+0000</td>\n",
       "      <td>0C66B7F0-9722-4E65-91D3-FAAF2B06DD6D</td>\n",
       "      <td>ADF88575-CC9C-4066-BFD9-3EE3C4B4C845</td>\n",
       "    </tr>\n",
       "    <tr>\n",
       "      <th>1</th>\n",
       "      <td>2021-04-30T17:20:10.013+0000</td>\n",
       "      <td>10370E86-C1E4-4DB9-91B9-2DDFA4900D93</td>\n",
       "      <td>ADF88575-CC9C-4066-BFD9-3EE3C4B4C845</td>\n",
       "    </tr>\n",
       "    <tr>\n",
       "      <th>2</th>\n",
       "      <td>2021-04-30T17:20:10.012+0000</td>\n",
       "      <td>F15AA0E4-E0B3-4B06-A6D9-6DEF1762F190</td>\n",
       "      <td>ADF88575-CC9C-4066-BFD9-3EE3C4B4C845</td>\n",
       "    </tr>\n",
       "    <tr>\n",
       "      <th>3</th>\n",
       "      <td>2021-04-30T16:50:59.252+0000</td>\n",
       "      <td>50A81888-42DA-4CB9-8BBA-4FCAE2B89BC7</td>\n",
       "      <td>A5299960-9D95-4323-975F-DACF34F6569C</td>\n",
       "    </tr>\n",
       "    <tr>\n",
       "      <th>4</th>\n",
       "      <td>2021-04-30T16:50:59.251+0000</td>\n",
       "      <td>7C150673-B75C-4258-83F6-FB11589D4011</td>\n",
       "      <td>A5299960-9D95-4323-975F-DACF34F6569C</td>\n",
       "    </tr>\n",
       "    <tr>\n",
       "      <th>...</th>\n",
       "      <td>...</td>\n",
       "      <td>...</td>\n",
       "      <td>...</td>\n",
       "    </tr>\n",
       "    <tr>\n",
       "      <th>3102027</th>\n",
       "      <td>2021-03-01T07:29:00.345+0000</td>\n",
       "      <td>9D6EBFF4-642D-4D78-8226-FDFFD7E71136</td>\n",
       "      <td>ACE98900-7A5F-11EB-A96A-99FF0384246D</td>\n",
       "    </tr>\n",
       "    <tr>\n",
       "      <th>3102028</th>\n",
       "      <td>2021-03-01T07:29:00.344+0000</td>\n",
       "      <td>3B238F0D-8ED0-4498-9232-16ABA663C847</td>\n",
       "      <td>ACE98900-7A5F-11EB-A96A-99FF0384246D</td>\n",
       "    </tr>\n",
       "    <tr>\n",
       "      <th>3102029</th>\n",
       "      <td>2021-03-01T07:29:00.342+0000</td>\n",
       "      <td>A6B50E2D-9484-4F2D-8EE5-985DA8B1255A</td>\n",
       "      <td>ACE98900-7A5F-11EB-A96A-99FF0384246D</td>\n",
       "    </tr>\n",
       "    <tr>\n",
       "      <th>3102030</th>\n",
       "      <td>2021-03-01T07:28:56.682+0000</td>\n",
       "      <td>4C1E79FE-D1C3-46C7-8FB9-3C7AFD4A34BB</td>\n",
       "      <td>ACE98900-7A5F-11EB-A96A-99FF0384246D</td>\n",
       "    </tr>\n",
       "    <tr>\n",
       "      <th>3102031</th>\n",
       "      <td>2021-03-01T07:28:56.681+0000</td>\n",
       "      <td>DA1BD625-0ED5-4261-8549-DA8EC37A2E6D</td>\n",
       "      <td>ACE98900-7A5F-11EB-A96A-99FF0384246D</td>\n",
       "    </tr>\n",
       "  </tbody>\n",
       "</table>\n",
       "<p>5898396 rows × 3 columns</p>\n",
       "</div>"
      ],
      "text/plain": [
       "                                _time                          attachmentID  \\\n",
       "0        2021-04-30T17:20:10.015+0000  0C66B7F0-9722-4E65-91D3-FAAF2B06DD6D   \n",
       "1        2021-04-30T17:20:10.013+0000  10370E86-C1E4-4DB9-91B9-2DDFA4900D93   \n",
       "2        2021-04-30T17:20:10.012+0000  F15AA0E4-E0B3-4B06-A6D9-6DEF1762F190   \n",
       "3        2021-04-30T16:50:59.252+0000  50A81888-42DA-4CB9-8BBA-4FCAE2B89BC7   \n",
       "4        2021-04-30T16:50:59.251+0000  7C150673-B75C-4258-83F6-FB11589D4011   \n",
       "...                               ...                                   ...   \n",
       "3102027  2021-03-01T07:29:00.345+0000  9D6EBFF4-642D-4D78-8226-FDFFD7E71136   \n",
       "3102028  2021-03-01T07:29:00.344+0000  3B238F0D-8ED0-4498-9232-16ABA663C847   \n",
       "3102029  2021-03-01T07:29:00.342+0000  A6B50E2D-9484-4F2D-8EE5-985DA8B1255A   \n",
       "3102030  2021-03-01T07:28:56.682+0000  4C1E79FE-D1C3-46C7-8FB9-3C7AFD4A34BB   \n",
       "3102031  2021-03-01T07:28:56.681+0000  DA1BD625-0ED5-4261-8549-DA8EC37A2E6D   \n",
       "\n",
       "                               conversationID  \n",
       "0        ADF88575-CC9C-4066-BFD9-3EE3C4B4C845  \n",
       "1        ADF88575-CC9C-4066-BFD9-3EE3C4B4C845  \n",
       "2        ADF88575-CC9C-4066-BFD9-3EE3C4B4C845  \n",
       "3        A5299960-9D95-4323-975F-DACF34F6569C  \n",
       "4        A5299960-9D95-4323-975F-DACF34F6569C  \n",
       "...                                       ...  \n",
       "3102027  ACE98900-7A5F-11EB-A96A-99FF0384246D  \n",
       "3102028  ACE98900-7A5F-11EB-A96A-99FF0384246D  \n",
       "3102029  ACE98900-7A5F-11EB-A96A-99FF0384246D  \n",
       "3102030  ACE98900-7A5F-11EB-A96A-99FF0384246D  \n",
       "3102031  ACE98900-7A5F-11EB-A96A-99FF0384246D  \n",
       "\n",
       "[5898396 rows x 3 columns]"
      ]
     },
     "execution_count": 4,
     "metadata": {},
     "output_type": "execute_result"
    }
   ],
   "source": [
    "attachment_mids"
   ]
  },
  {
   "cell_type": "code",
   "execution_count": 5,
   "id": "8d72755e",
   "metadata": {},
   "outputs": [
    {
     "name": "stdout",
     "output_type": "stream",
     "text": [
      "Total number of conversations: 545063\n"
     ]
    }
   ],
   "source": [
    "# 1. Filtering for conversations that have started within the dataset\n",
    "all_messages = gp2gp_spine.copy()\n",
    "conversation_ids_with_req_start = all_messages.loc[all_messages['interaction_name']=='req start','conversationID'].unique()\n",
    "messages_from_started_conversations = all_messages[all_messages[\"conversationID\"].isin(conversation_ids_with_req_start)]\n",
    "\n",
    "print(f\"Total number of conversations: {conversation_ids_with_req_start.shape[0]}\")"
   ]
  },
  {
   "cell_type": "code",
   "execution_count": 6,
   "id": "f9c27725",
   "metadata": {},
   "outputs": [
    {
     "name": "stdout",
     "output_type": "stream",
     "text": [
      "Total number of conversations without error code 12: 537440\n"
     ]
    }
   ],
   "source": [
    "# 2. Filtering for conversations that do not have error code 12\n",
    "conversation_ids_with_error_code_12 = messages_from_started_conversations.loc[messages_from_started_conversations['jdiEvent']=='12','conversationID'].unique()\n",
    "conversation_ids_without_error_code_12 = list(set(messages_from_started_conversations['conversationID']) - set(conversation_ids_with_error_code_12))\n",
    "messages_from_conversations_without_duplicate_ehr = messages_from_started_conversations[messages_from_started_conversations[\"conversationID\"].isin(conversation_ids_without_error_code_12)]\n",
    "\n",
    "print(f\"Total number of conversations without error code 12: {len(conversation_ids_without_error_code_12)}\")"
   ]
  },
  {
   "cell_type": "code",
   "execution_count": 7,
   "id": "75429abd",
   "metadata": {},
   "outputs": [
    {
     "name": "stdout",
     "output_type": "stream",
     "text": [
      "Total number of conversations that have core extract received, but do not have final ack message: 24895\n"
     ]
    }
   ],
   "source": [
    "# 3. Conversations that have core extract received, but do not have final ack message\n",
    "# First filtering for conversations with core extract\n",
    "conversation_ids_with_core_extract = messages_from_conversations_without_duplicate_ehr.loc[messages_from_conversations_without_duplicate_ehr['interaction_name']=='req complete','conversationID'].unique() \n",
    "messages_from_conversations_with_ehr = messages_from_conversations_without_duplicate_ehr[messages_from_conversations_without_duplicate_ehr[\"conversationID\"].isin(conversation_ids_with_core_extract)]\n",
    "\n",
    "# Second filtering for conversations that do not have final ack message\n",
    "ids_of_req_complete_messages = messages_from_conversations_with_ehr.loc[messages_from_conversations_with_ehr['interaction_name']=='req complete','GUID'].unique()\n",
    "conversation_ids_with_request_complete_ack = messages_from_conversations_with_ehr.loc[messages_from_conversations_with_ehr[\"messageRef\"].isin(ids_of_req_complete_messages), \"conversationID\"]\n",
    "conversation_ids_without_request_complete_ack= list(set(messages_from_conversations_with_ehr['conversationID']) - set(conversation_ids_with_request_complete_ack))\n",
    "messages_from_conversations_without_final_ack = messages_from_conversations_with_ehr[messages_from_conversations_with_ehr[\"conversationID\"].isin(conversation_ids_without_request_complete_ack)]\n",
    "\n",
    "print(f\"Total number of conversations that have core extract received, but do not have final ack message: {len(conversation_ids_without_request_complete_ack)}\")"
   ]
  },
  {
   "cell_type": "code",
   "execution_count": 8,
   "id": "f16faca2",
   "metadata": {},
   "outputs": [
    {
     "name": "stdout",
     "output_type": "stream",
     "text": [
      "Total number of conversations that have a COPC messages according to attachment MID:\n"
     ]
    },
    {
     "data": {
      "text/plain": [
       "10865"
      ]
     },
     "execution_count": 8,
     "metadata": {},
     "output_type": "execute_result"
    }
   ],
   "source": [
    "# 4. Number of above that have COPC messages according to Attachment MID\n",
    "all_conversations_with_attachment_ids = attachment_mids[\"conversationID\"].unique()\n",
    "messages_from_conversations_with_large_attachments = messages_from_conversations_without_final_ack[messages_from_conversations_without_final_ack[\"conversationID\"].isin(all_conversations_with_attachment_ids)]\n",
    "count_of_conversations_that_should_have_copcs = messages_from_conversations_with_large_attachments[\"conversationID\"].unique().shape[0]\n",
    "\n",
    "print(f\"Total number of conversations that have a COPC messages according to attachment MID:\")\n",
    "count_of_conversations_that_should_have_copcs"
   ]
  },
  {
   "cell_type": "code",
   "execution_count": 9,
   "id": "8a4761fd",
   "metadata": {},
   "outputs": [
    {
     "name": "stdout",
     "output_type": "stream",
     "text": [
      "Total number of conversations that actually have any COPC messages: \n",
      "10436\n",
      "Total number of conversations that expect to have COPC messages but don't \n",
      "429\n"
     ]
    }
   ],
   "source": [
    "conversations_with_copc = messages_from_conversations_with_large_attachments.loc[(messages_from_conversations_with_large_attachments['interaction_name']=='COPC'), 'conversationID'].unique()\n",
    "messages_from_conversations_with_copcs = messages_from_conversations_with_large_attachments[messages_from_conversations_with_large_attachments['conversationID'].isin(conversations_with_copc)]\n",
    "\n",
    "print(f\"Total number of conversations that actually have any COPC messages: \")\n",
    "print(messages_from_conversations_with_copcs[\"conversationID\"].unique().shape[0])\n",
    "\n",
    "print(f\"Total number of conversations that expect to have COPC messages but don't \")\n",
    "print(count_of_conversations_that_should_have_copcs - messages_from_conversations_with_copcs[\"conversationID\"].unique().shape[0])"
   ]
  },
  {
   "cell_type": "code",
   "execution_count": 10,
   "id": "b7774b02",
   "metadata": {},
   "outputs": [
    {
     "name": "stdout",
     "output_type": "stream",
     "text": [
      "Total number of conversations where all COPCs sent are acknowledged:\n"
     ]
    },
    {
     "data": {
      "text/plain": [
       "10164"
      ]
     },
     "execution_count": 10,
     "metadata": {},
     "output_type": "execute_result"
    }
   ],
   "source": [
    "# 5. Number of above where all COPCs sent are acknowledged (that are sent by Sender)\n",
    "\n",
    "# Add in whether message is sent from Sender or Requester\n",
    "requester_lookup = messages_from_conversations_with_copcs.loc[messages_from_conversations_with_copcs['interaction_name']=='req start', ['messageSender', 'conversationID']].rename({\"messageSender\": \"requester\"}, axis=1)\n",
    "messages_from_conversations_with_copcs = messages_from_conversations_with_copcs.merge(requester_lookup, left_on=\"conversationID\", right_on=\"conversationID\", how=\"left\")\n",
    "\n",
    "messages_from_conversations_with_copcs[\"Message sender type\"] = \"Sender\"\n",
    "requester_bool = messages_from_conversations_with_copcs[\"messageSender\"] == messages_from_conversations_with_copcs[\"requester\"]\n",
    "messages_from_conversations_with_copcs.loc[requester_bool, \"Message sender type\"] = \"Requester\" \n",
    "\n",
    "# Filtering for conversations where COPCs are sent by the Sender\n",
    "copc_message_guids = messages_from_conversations_with_copcs.loc[(messages_from_conversations_with_copcs['interaction_name']=='COPC') & (messages_from_conversations_with_copcs['Message sender type'] == \"Sender\"),'GUID'].unique()\n",
    "all_messagerefs = messages_from_conversations_with_copcs.loc[messages_from_conversations_with_copcs['interaction_name']=='ack','messageRef'].unique()\n",
    "\n",
    "copcs_guids_without_ack = list(set(copc_message_guids) - set(all_messagerefs))\n",
    "\n",
    "conversation_ids_copcs_without_ack = messages_from_conversations_with_copcs.loc[messages_from_conversations_with_copcs[\"GUID\"].isin(copcs_guids_without_ack), \"conversationID\"].unique()\n",
    "conversation_ids_with_acked_sender_copcs = messages_from_conversations_with_copcs.loc[(messages_from_conversations_with_copcs['Message sender type'] == \"Sender\") & (messages_from_conversations_with_copcs['interaction_name']=='COPC'), \"conversationID\"].unique() \n",
    "\n",
    "conversation_ids_copcs_with_ack = list(set(conversation_ids_with_acked_sender_copcs) - set(conversation_ids_copcs_without_ack))\n",
    "\n",
    "messages_from_conversations_with_copcs_acked = messages_from_conversations_with_copcs[messages_from_conversations_with_copcs[\"conversationID\"].isin(conversation_ids_copcs_with_ack)]\n",
    "\n",
    "print(f\"Total number of conversations where all COPCs sent are acknowledged:\")\n",
    "messages_from_conversations_with_copcs_acked[\"conversationID\"].unique().shape[0]"
   ]
  },
  {
   "cell_type": "code",
   "execution_count": 12,
   "id": "d1ec7528",
   "metadata": {},
   "outputs": [
    {
     "name": "stdout",
     "output_type": "stream",
     "text": [
      "Number of the above for which the number of COPC sent is less than the number in Attachment MID:\n"
     ]
    },
    {
     "data": {
      "text/plain": [
       "260"
      ]
     },
     "execution_count": 12,
     "metadata": {},
     "output_type": "execute_result"
    }
   ],
   "source": [
    "# 6. Number of the above for which the number of COPC sent is less than the number in Attachment MID\n",
    "copc_expected = attachment_mids.drop(\"_time\", axis=1).drop_duplicates().groupby(\"conversationID\").agg(\"count\").rename({\"attachmentID\": \"Number of COPCs expected\"}, axis=1).fillna(0)\n",
    "copcs_seen = messages_from_conversations_with_copcs_acked.loc[(messages_from_conversations_with_copcs_acked['interaction_name']=='COPC') & (messages_from_conversations_with_copcs_acked['Message sender type'] == \"Sender\"),[\"conversationID\", \"GUID\"]].fillna(0)\n",
    "copcs_seen = copcs_seen.drop_duplicates().groupby(\"conversationID\").agg(\"count\").rename({\"GUID\": \"Number of COPCs seen\"}, axis=1).fillna(0)\n",
    "copc_comparison_table = copc_expected.merge(copcs_seen, left_index=True, right_index=True, how=\"right\").fillna(0)\n",
    "missing_copc_messages = (copc_comparison_table[\"Number of COPCs seen\"] < copc_comparison_table[\"Number of COPCs expected\"]).value_counts()\n",
    "\n",
    "print(f\"Number of the above for which the number of COPC sent is less than the number in Attachment MID:\")\n",
    "missing_copc_messages[True]"
   ]
  },
  {
   "cell_type": "code",
   "execution_count": 17,
   "id": "1f95db09",
   "metadata": {},
   "outputs": [
    {
     "name": "stdout",
     "output_type": "stream",
     "text": [
      "% of transfers that would be re-categorised as a consequence of using attachment MIDs data\n"
     ]
    },
    {
     "data": {
      "text/plain": [
       "0.04837749330157785"
      ]
     },
     "execution_count": 17,
     "metadata": {},
     "output_type": "execute_result"
    }
   ],
   "source": [
    "print(\"% of transfers that would be re-categorised as a consequence of using attachment MIDs data\")\n",
    "(missing_copc_messages[True] / len(conversation_ids_without_error_code_12)) * 100"
   ]
  }
 ],
 "metadata": {
  "kernelspec": {
   "display_name": "conda_python3",
   "language": "python",
   "name": "conda_python3"
  },
  "language_info": {
   "codemirror_mode": {
    "name": "ipython",
    "version": 3
   },
   "file_extension": ".py",
   "mimetype": "text/x-python",
   "name": "python",
   "nbconvert_exporter": "python",
   "pygments_lexer": "ipython3",
   "version": "3.6.13"
  }
 },
 "nbformat": 4,
 "nbformat_minor": 5
}
