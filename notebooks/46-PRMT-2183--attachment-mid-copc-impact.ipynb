{
 "cells": [
  {
   "cell_type": "markdown",
   "id": "010be60e",
   "metadata": {},
   "source": [
    "# PRMT-2183 Is it worth using Attachment MIDs in the pipeline to categorise transfers?\n",
    "\n",
    "## Hypothesis\n",
    "**We believe that** we should use attachment MID data to more accurately classify transfers\n",
    "**We will know this to be true** when we see a significant number of Transferred, not Integrated transfers re-categorised as Technical Failures\n",
    "\n",
    "## Context\n",
    "Take a sample of pending transfers with COPC, where all COPC messages have been acknowledged. Measure for how many of these the number of COPC messages sent matches the number of COPC expected according to Attachment MID. \n",
    "\n",
    "Using spine data:\n",
    "1. Number of Conversations\n",
    "2. Number of Conversations without any error code 12\n",
    "3. Number of above which have core extract received, but do not have final ack message (transfers that would not be categorised as anything else under our new status proposal).\n",
    "4. Number of above that have COPC messages according to Attachment MID\n",
    "5. Number of above where all COPCs sent are acknowledged\n",
    "6. Number of the above for which the number of COPC sent is less than the number in Attachment MID \n",
    "\n",
    "6 as a percentage of (2) is our ultimate output, as it tells us what portion of transfers would be re-categorised as a consequence of using attachment MIDs data.\n"
   ]
  },
  {
   "cell_type": "code",
   "execution_count": 1,
   "id": "c7cd9221",
   "metadata": {},
   "outputs": [],
   "source": [
    "import pandas as pd"
   ]
  },
  {
   "cell_type": "code",
   "execution_count": 2,
   "id": "56efffd6",
   "metadata": {},
   "outputs": [],
   "source": [
    "# Raw gp2gp spine data\n",
    "\n",
    "gp2gp_spine_data_files = [\n",
    "  \"s3://prm-gp2gp-data-sandbox-dev/spine-gp2gp-data/Mar-2021.csv.gz\",\n",
    "  \"s3://prm-gp2gp-data-sandbox-dev/spine-gp2gp-data/Apr-2021.csv.gz\"\n",
    "]\n",
    "\n",
    "gp2gp_spine = pd.concat((\n",
    "    pd.read_csv(f, parse_dates=[\"_time\"])\n",
    "    for f in gp2gp_spine_data_files\n",
    "))\n",
    "\n",
    "interaction_name_mapping = {\n",
    "    \"urn:nhs:names:services:gp2gp/RCMR_IN010000UK05\": \"req start\",\n",
    "    \"urn:nhs:names:services:gp2gp/RCMR_IN030000UK06\": \"req complete\",\n",
    "    \"urn:nhs:names:services:gp2gp/COPC_IN000001UK01\": \"COPC\",\n",
    "    \"urn:nhs:names:services:gp2gp/MCCI_IN010000UK13\": \"ack\"\n",
    "}\n",
    "\n",
    "gp2gp_spine['interaction_name']=gp2gp_spine['interactionID'].replace(interaction_name_mapping)\n",
    "gp2gp_spine = gp2gp_spine.drop_duplicates()"
   ]
  },
  {
   "cell_type": "code",
   "execution_count": 4,
   "id": "02c502b2",
   "metadata": {},
   "outputs": [],
   "source": [
    "attachment_mids_folder=\"s3://prm-gp2gp-data-sandbox-dev/43-PRMT-2167-attachment-mids/\"\n",
    "attachment_mids_files=[\"attachment_mids_april_2021.csv\",\"attachment_mids_march_2021.csv\"]\n",
    "attachment_mids=pd.concat([pd.read_csv(attachment_mids_folder + file) for file in attachment_mids_files])"
   ]
  },
  {
   "cell_type": "code",
   "execution_count": 24,
   "id": "17f9d566",
   "metadata": {},
   "outputs": [
    {
     "name": "stdout",
     "output_type": "stream",
     "text": [
      "Total number of conversations: 545063\n"
     ]
    }
   ],
   "source": [
    "# 1. Filtering for conversations that have started within the dataset\n",
    "filter_data = gp2gp_spine.copy()\n",
    "conversation_ids_with_req_start = filter_data.loc[filter_data['interaction_name']=='req start','conversationID'].unique()\n",
    "filter_data = filter_data[filter_data[\"conversationID\"].isin(conversation_ids_with_req_start)]\n",
    "\n",
    "print(f\"Total number of conversations: {conversation_ids_with_req_start.shape[0]}\")"
   ]
  },
  {
   "cell_type": "code",
   "execution_count": 25,
   "id": "62e38fcd",
   "metadata": {},
   "outputs": [
    {
     "name": "stdout",
     "output_type": "stream",
     "text": [
      "Total number of conversations without error code 12: 537440\n"
     ]
    }
   ],
   "source": [
    "# 2. Filtering for conversations that do not have error code 12\n",
    "conversation_ids_with_error_code_12 = filter_data.loc[filter_data['jdiEvent']=='12','conversationID'].unique()\n",
    "conversation_ids_without_error_code_12 = list(set(filter_data['conversationID'].unique()) - set(conversation_ids_with_error_code_12))\n",
    "filter_data = filter_data[filter_data[\"conversationID\"].isin(conversation_ids_without_error_code_12)]\n",
    "\n",
    "print(f\"Total number of conversations without error code 12: {len(conversation_ids_without_error_code_12)}\")"
   ]
  },
  {
   "cell_type": "code",
   "execution_count": 26,
   "id": "187f4c23",
   "metadata": {},
   "outputs": [
    {
     "name": "stdout",
     "output_type": "stream",
     "text": [
      "Total number of conversations that have core extract received, but do not have final ack message: 24895\n"
     ]
    }
   ],
   "source": [
    "# 3. Conversations that have core extract received, but do not have final ack message\n",
    "# First filtering for conversations with core extract\n",
    "conversation_ids_with_core_extract = filter_data.loc[filter_data['interaction_name']=='req complete','conversationID'].unique() \n",
    "filter_data = filter_data[filter_data[\"conversationID\"].isin(conversation_ids_with_core_extract)]\n",
    "\n",
    "# Second filtering for conversations that do not have final ack message\n",
    "ids_of_req_complete_messages = filter_data.loc[filter_data['interaction_name']=='req complete','GUID'].unique()\n",
    "conversation_ids_with_request_complete_ack = filter_data.loc[filter_data[\"messageRef\"].isin(ids_of_req_complete_messages), \"conversationID\"]\n",
    "conversation_ids_without_request_complete_ack= list(set(filter_data['conversationID'].unique()) - set(conversation_ids_with_request_complete_ack))\n",
    "filter_data = filter_data[filter_data[\"conversationID\"].isin(conversation_ids_without_request_complete_ack)]\n",
    "\n",
    "print(f\"Total number of conversations that have core extract received, but do not have final ack message: {len(conversation_ids_without_request_complete_ack)}\")"
   ]
  },
  {
   "cell_type": "code",
   "execution_count": 27,
   "id": "c5e92cb9",
   "metadata": {},
   "outputs": [
    {
     "name": "stdout",
     "output_type": "stream",
     "text": [
      "Total number of conversations that have a COPC messages according to attachment MID:\n"
     ]
    },
    {
     "data": {
      "text/plain": [
       "10865"
      ]
     },
     "execution_count": 27,
     "metadata": {},
     "output_type": "execute_result"
    }
   ],
   "source": [
    "# 4. Number of above that have COPC messages according to Attachment MID\n",
    "all_conversations_with_attachment_ids = attachment_mids[\"conversationID\"].unique()\n",
    "filter_data = filter_data[filter_data[\"conversationID\"].isin(all_conversations_with_attachment_ids)]\n",
    "count_of_conversations_that_should_have_copcs = filter_data[\"conversationID\"].unique().shape[0]\n",
    "\n",
    "print(f\"Total number of conversations that have a COPC messages according to attachment MID:\")\n",
    "count_of_conversations_that_should_have_copcs"
   ]
  },
  {
   "cell_type": "code",
   "execution_count": 28,
   "id": "c7f9f342",
   "metadata": {},
   "outputs": [
    {
     "name": "stdout",
     "output_type": "stream",
     "text": [
      "Total number of conversations that actually have any COPC messages: \n",
      "10436\n",
      "Total number of conversations that expect to have COPC messages but don't \n",
      "429\n"
     ]
    }
   ],
   "source": [
    "conversations_with_copc = filter_data.loc[(filter_data['interaction_name']=='COPC'), 'conversationID'].unique()\n",
    "conversations_with_copc.shape[0]\n",
    "filter_data = filter_data[filter_data['conversationID'].isin(conversations_with_copc)]\n",
    "\n",
    "print(f\"Total number of conversations that actually have any COPC messages: \")\n",
    "print(filter_data[\"conversationID\"].unique().shape[0])\n",
    "\n",
    "print(f\"Total number of conversations that expect to have COPC messages but don't \")\n",
    "print(count_of_conversations_that_should_have_copcs - filter_data[\"conversationID\"].unique().shape[0])"
   ]
  },
  {
   "cell_type": "code",
   "execution_count": 29,
   "id": "9dba77cc",
   "metadata": {},
   "outputs": [
    {
     "name": "stdout",
     "output_type": "stream",
     "text": [
      "Total number of conversations where all COPCs sent are acknowledged:\n"
     ]
    },
    {
     "data": {
      "text/plain": [
       "10208"
      ]
     },
     "execution_count": 29,
     "metadata": {},
     "output_type": "execute_result"
    }
   ],
   "source": [
    "# 5. Number of above where all COPCs sent are acknowledged (that are sent by Sender)\n",
    "\n",
    "# Add in whether message is sent from Sender or Requester\n",
    "requester_lookup = filter_data.loc[filter_data['interaction_name']=='req start', ['messageSender', 'conversationID']].rename({\"messageSender\": \"requester\"}, axis=1)\n",
    "filter_data = filter_data.merge(requester_lookup, left_on=\"conversationID\", right_on=\"conversationID\", how=\"left\")\n",
    "\n",
    "filter_data[\"Message sender type\"] = \"Sender\"\n",
    "requester_bool = filter_data[\"messageSender\"] == filter_data[\"requester\"]\n",
    "filter_data.loc[requester_bool, \"Message sender type\"] = \"Requester\" \n",
    "\n",
    "# Filtering for conversations where COPCs are sent by the Sender\n",
    "copc_message_guids = filter_data.loc[(filter_data['interaction_name']=='COPC') & (filter_data['Message sender type'] == \"Sender\"),'GUID'].unique()\n",
    "all_messagerefs = filter_data.loc[filter_data['interaction_name']=='ack','messageRef'].unique()\n",
    "copcs_guids_without_ack = list(set(copc_message_guids) - set(all_messagerefs))\n",
    "\n",
    "conversation_ids_copcs_without_ack = filter_data.loc[filter_data[\"GUID\"].isin(copcs_guids_without_ack), \"conversationID\"].unique()\n",
    "conversation_ids_copcs_with_ack = list(set(filter_data['conversationID'].unique()) - set(conversation_ids_copcs_without_ack))\n",
    "\n",
    "filter_data = filter_data[filter_data[\"conversationID\"].isin(conversation_ids_copcs_with_ack)]\n",
    "\n",
    "print(f\"Total number of conversations where all COPCs sent are acknowledged:\")\n",
    "filter_data[\"conversationID\"].unique().shape[0]"
   ]
  },
  {
   "cell_type": "code",
   "execution_count": 30,
   "id": "8c79f7b0",
   "metadata": {},
   "outputs": [
    {
     "data": {
      "text/html": [
       "<div>\n",
       "<style scoped>\n",
       "    .dataframe tbody tr th:only-of-type {\n",
       "        vertical-align: middle;\n",
       "    }\n",
       "\n",
       "    .dataframe tbody tr th {\n",
       "        vertical-align: top;\n",
       "    }\n",
       "\n",
       "    .dataframe thead th {\n",
       "        text-align: right;\n",
       "    }\n",
       "</style>\n",
       "<table border=\"1\" class=\"dataframe\">\n",
       "  <thead>\n",
       "    <tr style=\"text-align: right;\">\n",
       "      <th></th>\n",
       "      <th>_time</th>\n",
       "      <th>conversationID</th>\n",
       "      <th>GUID</th>\n",
       "      <th>interactionID</th>\n",
       "      <th>messageSender</th>\n",
       "      <th>messageRecipient</th>\n",
       "      <th>messageRef</th>\n",
       "      <th>jdiEvent</th>\n",
       "      <th>toSystem</th>\n",
       "      <th>fromSystem</th>\n",
       "      <th>interaction_name</th>\n",
       "      <th>requester</th>\n",
       "      <th>Message sender type</th>\n",
       "    </tr>\n",
       "  </thead>\n",
       "  <tbody>\n",
       "    <tr>\n",
       "      <th>358143</th>\n",
       "      <td>2021-04-28 11:56:52.182000+00:00</td>\n",
       "      <td>77FB9B15-7275-4394-A0A2-B90667BE93D8</td>\n",
       "      <td>D543DE73-60A9-4849-A943-6B5280947296</td>\n",
       "      <td>urn:nhs:names:services:gp2gp/COPC_IN000001UK01</td>\n",
       "      <td>550635141017</td>\n",
       "      <td>847520267018</td>\n",
       "      <td>NotProvided</td>\n",
       "      <td>NONE</td>\n",
       "      <td>EMIS</td>\n",
       "      <td>EMIS</td>\n",
       "      <td>COPC</td>\n",
       "      <td>550635141017</td>\n",
       "      <td>Requester</td>\n",
       "    </tr>\n",
       "    <tr>\n",
       "      <th>358145</th>\n",
       "      <td>2021-04-28 11:56:49.435000+00:00</td>\n",
       "      <td>77FB9B15-7275-4394-A0A2-B90667BE93D8</td>\n",
       "      <td>CD8CF236-BFC5-4286-8A37-49F3612C352B</td>\n",
       "      <td>urn:nhs:names:services:gp2gp/MCCI_IN010000UK13</td>\n",
       "      <td>847520267018</td>\n",
       "      <td>550635141017</td>\n",
       "      <td>77FB9B15-7275-4394-A0A2-B90667BE93D8</td>\n",
       "      <td>NONE</td>\n",
       "      <td>EMIS</td>\n",
       "      <td>EMIS</td>\n",
       "      <td>ack</td>\n",
       "      <td>550635141017</td>\n",
       "      <td>Sender</td>\n",
       "    </tr>\n",
       "    <tr>\n",
       "      <th>398169</th>\n",
       "      <td>2021-04-28 11:56:15.269000+00:00</td>\n",
       "      <td>77FB9B15-7275-4394-A0A2-B90667BE93D8</td>\n",
       "      <td>77FB9B15-7275-4394-A0A2-B90667BE93D8</td>\n",
       "      <td>urn:nhs:names:services:gp2gp/RCMR_IN010000UK05</td>\n",
       "      <td>550635141017</td>\n",
       "      <td>847520267018</td>\n",
       "      <td>NotProvided</td>\n",
       "      <td>NONE</td>\n",
       "      <td>EMIS</td>\n",
       "      <td>EMIS</td>\n",
       "      <td>req start</td>\n",
       "      <td>550635141017</td>\n",
       "      <td>Requester</td>\n",
       "    </tr>\n",
       "    <tr>\n",
       "      <th>443378</th>\n",
       "      <td>2021-04-28 11:56:46.942000+00:00</td>\n",
       "      <td>77FB9B15-7275-4394-A0A2-B90667BE93D8</td>\n",
       "      <td>F572FC12-F53F-492A-9AF9-36E7C8A04BF1</td>\n",
       "      <td>urn:nhs:names:services:gp2gp/RCMR_IN030000UK06</td>\n",
       "      <td>847520267018</td>\n",
       "      <td>550635141017</td>\n",
       "      <td>NotProvided</td>\n",
       "      <td>NONE</td>\n",
       "      <td>EMIS</td>\n",
       "      <td>EMIS</td>\n",
       "      <td>req complete</td>\n",
       "      <td>550635141017</td>\n",
       "      <td>Sender</td>\n",
       "    </tr>\n",
       "  </tbody>\n",
       "</table>\n",
       "</div>"
      ],
      "text/plain": [
       "                                  _time                        conversationID  \\\n",
       "358143 2021-04-28 11:56:52.182000+00:00  77FB9B15-7275-4394-A0A2-B90667BE93D8   \n",
       "358145 2021-04-28 11:56:49.435000+00:00  77FB9B15-7275-4394-A0A2-B90667BE93D8   \n",
       "398169 2021-04-28 11:56:15.269000+00:00  77FB9B15-7275-4394-A0A2-B90667BE93D8   \n",
       "443378 2021-04-28 11:56:46.942000+00:00  77FB9B15-7275-4394-A0A2-B90667BE93D8   \n",
       "\n",
       "                                        GUID  \\\n",
       "358143  D543DE73-60A9-4849-A943-6B5280947296   \n",
       "358145  CD8CF236-BFC5-4286-8A37-49F3612C352B   \n",
       "398169  77FB9B15-7275-4394-A0A2-B90667BE93D8   \n",
       "443378  F572FC12-F53F-492A-9AF9-36E7C8A04BF1   \n",
       "\n",
       "                                         interactionID  messageSender  \\\n",
       "358143  urn:nhs:names:services:gp2gp/COPC_IN000001UK01   550635141017   \n",
       "358145  urn:nhs:names:services:gp2gp/MCCI_IN010000UK13   847520267018   \n",
       "398169  urn:nhs:names:services:gp2gp/RCMR_IN010000UK05   550635141017   \n",
       "443378  urn:nhs:names:services:gp2gp/RCMR_IN030000UK06   847520267018   \n",
       "\n",
       "        messageRecipient                            messageRef jdiEvent  \\\n",
       "358143      847520267018                           NotProvided     NONE   \n",
       "358145      550635141017  77FB9B15-7275-4394-A0A2-B90667BE93D8     NONE   \n",
       "398169      847520267018                           NotProvided     NONE   \n",
       "443378      550635141017                           NotProvided     NONE   \n",
       "\n",
       "       toSystem fromSystem interaction_name     requester Message sender type  \n",
       "358143     EMIS       EMIS             COPC  550635141017           Requester  \n",
       "358145     EMIS       EMIS              ack  550635141017              Sender  \n",
       "398169     EMIS       EMIS        req start  550635141017           Requester  \n",
       "443378     EMIS       EMIS     req complete  550635141017              Sender  "
      ]
     },
     "execution_count": 30,
     "metadata": {},
     "output_type": "execute_result"
    }
   ],
   "source": [
    "missing_conversation_ids = list(set(filter_data[\"conversationID\"].unique()) - set(copc_comparison_table.index))\n",
    "filter_data[filter_data[\"conversationID\"] == missing_conversation_ids[0]]"
   ]
  },
  {
   "cell_type": "code",
   "execution_count": 35,
   "id": "35390897",
   "metadata": {},
   "outputs": [
    {
     "name": "stdout",
     "output_type": "stream",
     "text": [
      "Number of the above for which the number of COPC sent is less than the number in Attachment MID:\n"
     ]
    },
    {
     "data": {
      "text/plain": [
       "260"
      ]
     },
     "execution_count": 35,
     "metadata": {},
     "output_type": "execute_result"
    }
   ],
   "source": [
    "# 6. Number of the above for which the number of COPC sent is less than the number in Attachment MID\n",
    "copc_expected = attachment_mids.drop(\"_time\", axis=1).drop_duplicates().groupby(\"conversationID\").agg(\"count\").rename({\"attachmentID\": \"Number of COPCs expected\"}, axis=1).fillna(0)\n",
    "copcs_seen = filter_data.loc[(filter_data['interaction_name']=='COPC') & (filter_data['Message sender type'] == \"Sender\"),[\"conversationID\", \"GUID\"]].fillna(0)\n",
    "copcs_seen = copcs_seen.drop_duplicates().groupby(\"conversationID\").agg(\"count\").rename({\"GUID\": \"Number of COPCs seen\"}, axis=1).fillna(0)\n",
    "copc_comparison_table = copc_expected.merge(copcs_seen, left_index=True, right_index=True, how=\"right\").fillna(0)\n",
    "missing_copc_messages = (copc_comparison_table[\"Number of COPCs seen\"] < copc_comparison_table[\"Number of COPCs expected\"]).value_counts()\n",
    "\n",
    "print(f\"Number of the above for which the number of COPC sent is less than the number in Attachment MID:\")\n",
    "missing_copc_messages[True]"
   ]
  },
  {
   "cell_type": "code",
   "execution_count": 32,
   "id": "781b802a",
   "metadata": {},
   "outputs": [
    {
     "data": {
      "text/plain": [
       "10164"
      ]
     },
     "execution_count": 32,
     "metadata": {},
     "output_type": "execute_result"
    }
   ],
   "source": [
    "# Should match the Total number of conversations where all COPCs sent are acknowledged:\n",
    "missing_copc_messages.sum()"
   ]
  },
  {
   "cell_type": "code",
   "execution_count": 33,
   "id": "9abafd4d",
   "metadata": {},
   "outputs": [
    {
     "name": "stdout",
     "output_type": "stream",
     "text": [
      "% of transfers that would be re-categorised as a consequence of using attachment MIDs data\n"
     ]
    },
    {
     "data": {
      "text/plain": [
       "0.04837749330157785"
      ]
     },
     "execution_count": 33,
     "metadata": {},
     "output_type": "execute_result"
    }
   ],
   "source": [
    "print(\"% of transfers that would be re-categorised as a consequence of using attachment MIDs data\")\n",
    "(missing_copc_messages[True] / len(conversation_ids_without_error_code_12)) * 100"
   ]
  },
  {
   "cell_type": "code",
   "execution_count": null,
   "id": "38210d9a",
   "metadata": {},
   "outputs": [],
   "source": []
  }
 ],
 "metadata": {
  "kernelspec": {
   "display_name": "conda_python3",
   "language": "python",
   "name": "conda_python3"
  },
  "language_info": {
   "codemirror_mode": {
    "name": "ipython",
    "version": 3
   },
   "file_extension": ".py",
   "mimetype": "text/x-python",
   "name": "python",
   "nbconvert_exporter": "python",
   "pygments_lexer": "ipython3",
   "version": "3.6.13"
  }
 },
 "nbformat": 4,
 "nbformat_minor": 5
}