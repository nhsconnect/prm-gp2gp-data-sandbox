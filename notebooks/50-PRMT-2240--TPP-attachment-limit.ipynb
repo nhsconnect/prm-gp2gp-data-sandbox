{
 "cells": [
  {
   "cell_type": "markdown",
   "id": "d4e0978c",
   "metadata": {},
   "source": [
    "# PRMT-2240 Is the 100MB attachment limit for TPP on compressed or uncompressed attachments?"
   ]
  },
  {
   "cell_type": "markdown",
   "id": "0e7f3f3c",
   "metadata": {},
   "source": [
    "### Requirements\n",
    "\n",
    "In order to replicate this notebook, perform the following steps:\n",
    "\n",
    "1. Log into Splunk and run the following query for:\n",
    "- 01/06/2021 00:00:00:00 to 01/07/2021 00:00:00, export the result as a csv named `6-2021-attachment-metadata.csv` and gzip it. \n",
    "\n",
    "```\n",
    "index=\"spine2vfmmonitor\" logReference=MPS0208\n",
    "| table _time, attachmentID, conversationID, FromSystem, ToSystem, attachmentType, Compressed, ContentType, LargeAttachment, Length, OriginalBase64, internalID\n",
    "```\n",
    "\n",
    "2. Run the following Splunk query for the same time range. Export the results as a csv named `6-2021-gp2gp-messages.csv` and gzip it.\n",
    "\n",
    "```\n",
    "index=\"spine2vfmmonitor\" service=\"gp2gp\" logReference=\"MPS0053d\"\n",
    "| table _time, conversationID, internalID, interactionID\n",
    "```"
   ]
  },
  {
   "cell_type": "code",
   "execution_count": 1,
   "id": "0b7f183f",
   "metadata": {},
   "outputs": [],
   "source": [
    "import pandas as pd\n",
    "import numpy as np\n",
    "import datetime"
   ]
  },
  {
   "cell_type": "code",
   "execution_count": 2,
   "id": "9c72e956",
   "metadata": {},
   "outputs": [],
   "source": [
    "attachment_metadata_file = \"s3://prm-gp2gp-data-sandbox-dev/PRMT-2240-tpp-attachment-limit/6-2021-attachment-metadata.csv.gz\"\n",
    "attachments = pd.read_csv(attachment_metadata_file, parse_dates=[\"_time\"], na_values=[\"Unknown\"], dtype={\"Length\": pd.Int64Dtype()})"
   ]
  },
  {
   "cell_type": "code",
   "execution_count": 3,
   "id": "28efa472",
   "metadata": {},
   "outputs": [],
   "source": [
    "gp2gp_messages_file = \"s3://prm-gp2gp-data-sandbox-dev/PRMT-2240-tpp-attachment-limit/6-2021-gp2gp-messages.csv.gz\"\n",
    "gp2gp_messages = pd.read_csv(gp2gp_messages_file, parse_dates=[\"_time\"])"
   ]
  },
  {
   "cell_type": "code",
   "execution_count": 4,
   "id": "21bad455",
   "metadata": {},
   "outputs": [],
   "source": [
    "transfer_data_file = \"s3://prm-gp2gp-data-sandbox-dev/transfers-sample-6/2021-6-transfers.parquet\"\n",
    "transfers = pd.read_parquet(transfer_data_file)"
   ]
  },
  {
   "cell_type": "code",
   "execution_count": 5,
   "id": "c618f75c",
   "metadata": {},
   "outputs": [],
   "source": [
    "mi_rr_extract_ack_code_30_file = \"s3://prm-gp2gp-data-sandbox-dev/PRMT-2240-tpp-attachment-limit/6-2021-mi-rr-extract-ack-code-30.csv\"\n",
    "mi_rr_extract_ack_code_30 = pd.read_csv(mi_rr_extract_ack_code_30_file, parse_dates=[\"RegistrationTime\"])"
   ]
  },
  {
   "cell_type": "markdown",
   "id": "e2001305",
   "metadata": {},
   "source": [
    "## Deduplicate attachment data"
   ]
  },
  {
   "cell_type": "code",
   "execution_count": 6,
   "id": "c84bdb0c",
   "metadata": {},
   "outputs": [],
   "source": [
    "ehr_request_completed_messages = gp2gp_messages[gp2gp_messages[\"interactionID\"] == \"urn:nhs:names:services:gp2gp/RCMR_IN030000UK06\"]\n",
    "\n",
    "unique_ehr_request_completed_messages = ehr_request_completed_messages.sort_values(by=\"_time\").drop_duplicates(subset=[\"conversationID\"], keep=\"last\")"
   ]
  },
  {
   "cell_type": "code",
   "execution_count": 7,
   "id": "7db34bdb",
   "metadata": {},
   "outputs": [],
   "source": [
    "ehr_attachments = pd.merge(attachments, unique_ehr_request_completed_messages[[\"internalID\", \"interactionID\"]], on=\"internalID\", how=\"inner\")"
   ]
  },
  {
   "cell_type": "markdown",
   "id": "143d94d7",
   "metadata": {},
   "source": [
    "## TPP Requestor large attachment failures"
   ]
  },
  {
   "cell_type": "code",
   "execution_count": 8,
   "id": "3f96b237",
   "metadata": {},
   "outputs": [],
   "source": [
    "large_attachment_requestor_failure_bool = transfers[\"final_error_codes\"].apply(lambda errs: 30 in errs)\n",
    "tpp_requestor_bool = transfers[\"requesting_supplier\"]==\"SystmOne\"\n",
    "tpp_requestor_large_attachment_failures = transfers[large_attachment_requestor_failure_bool & tpp_requestor_bool]"
   ]
  },
  {
   "cell_type": "code",
   "execution_count": 9,
   "id": "5774010d",
   "metadata": {},
   "outputs": [],
   "source": [
    "mi_rr_extract_ack_code_30_started_in_jun_bool = mi_rr_extract_ack_code_30[\"RegistrationTime\"].apply(lambda t: t.month == 6 and t.year == 2021)\n",
    "mi_rr_error_30_june = mi_rr_extract_ack_code_30[mi_rr_extract_ack_code_30_started_in_jun_bool].copy()"
   ]
  },
  {
   "cell_type": "markdown",
   "id": "87058402",
   "metadata": {},
   "source": [
    "#### From the Spine team work request:\n",
    "\n",
    "Attachment metadata field definition:\n",
    "- **Length** - Size in bytes of the original attachment. This should be set after Any compression andbase64 encoding(i.e. the contribution that the attachment would make to the content length of a message where it was sent in-line)."
   ]
  },
  {
   "cell_type": "code",
   "execution_count": 10,
   "id": "b9fd9763",
   "metadata": {},
   "outputs": [],
   "source": [
    "mi_rr_error_30_june[\"FailedAttachmentSize\"] = mi_rr_error_30_june[\"RequestErrorDescription\"].str.extract('(\\d+)')\n",
    "mi_rr_error_30_june[\"FailedAttachmentSize\"] = mi_rr_error_30_june[\"FailedAttachmentSize\"].astype(\"int\").astype(pd.Int64Dtype())\n",
    "\n",
    "# There may be some transfers that failed because the EHR extract size exceeded the limit, we are only interested in transfers that failed due to the attachment size\n",
    "rejected_attachment_bool = mi_rr_error_30_june[\"RequestErrorDescription\"].apply(lambda t: t.startswith(\"Attachment\"))\n",
    "\n",
    "mi_rr_error_30_june_failed_attachment_sizes = mi_rr_error_30_june[rejected_attachment_bool][[\"ConversationID\", \"RequestErrorDescription\", \"FailedAttachmentSize\"]]"
   ]
  },
  {
   "cell_type": "code",
   "execution_count": 11,
   "id": "a7702900",
   "metadata": {},
   "outputs": [],
   "source": [
    "rejected_attachments = mi_rr_error_30_june_failed_attachment_sizes.merge(ehr_attachments, left_on=[\"ConversationID\", \"FailedAttachmentSize\"], right_on=[\"conversationID\", \"Length\"], how=\"left\")"
   ]
  },
  {
   "cell_type": "code",
   "execution_count": 12,
   "id": "ff29660c",
   "metadata": {},
   "outputs": [
    {
     "data": {
      "text/plain": [
       "No     110\n",
       "Yes      2\n",
       "Name: Compressed, dtype: int64"
      ]
     },
     "execution_count": 12,
     "metadata": {},
     "output_type": "execute_result"
    }
   ],
   "source": [
    "# If there are any na values, that means for at least one conversation we could not find an attachment of the size reported in the MI\n",
    "# This would imply that the limit was reached after decompression\n",
    "rejected_attachments[\"Compressed\"].value_counts(dropna=False)"
   ]
  },
  {
   "cell_type": "code",
   "execution_count": 13,
   "id": "cfb32d18",
   "metadata": {},
   "outputs": [
    {
     "data": {
      "text/plain": [
       "array([[<AxesSubplot:title={'center':'FailedAttachmentSize'}>]],\n",
       "      dtype=object)"
      ]
     },
     "execution_count": 13,
     "metadata": {},
     "output_type": "execute_result"
    },
    {
     "data": {
      "image/png": "[encoded data removed]",
      "text/plain": [
       "<Figure size 432x288 with 1 Axes>"
      ]
     },
     "metadata": {
      "needs_background": "light"
     },
     "output_type": "display_data"
    }
   ],
   "source": [
    "rejected_attachments.hist(column='FailedAttachmentSize', bins=25)"
   ]
  },
  {
   "cell_type": "code",
   "execution_count": null,
   "id": "4acddc19",
   "metadata": {},
   "outputs": [],
   "source": []
  }
 ],
 "metadata": {
  "kernelspec": {
   "display_name": "conda_python3",
   "language": "python",
   "name": "conda_python3"
  },
  "language_info": {
   "codemirror_mode": {
    "name": "ipython",
    "version": 3
   },
   "file_extension": ".py",
   "mimetype": "text/x-python",
   "name": "python",
   "nbconvert_exporter": "python",
   "pygments_lexer": "ipython3",
   "version": "3.6.13"
  }
 },
 "nbformat": 4,
 "nbformat_minor": 5
}
