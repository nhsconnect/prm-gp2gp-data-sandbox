{
 "cells": [
  {
   "cell_type": "markdown",
   "id": "1dd7a6c6",
   "metadata": {},
   "source": [
    "# PRMT 2241: What is the average message size for GP2GP messages including / excluding attachments?\n",
    "\n",
    "In order for the Practice Migration team to estimate the potential transfer speed of a Migration Data Pipeline and provide a basis to the total potential total size of a bulk data set.\n",
    "\n",
    "Two questions:\n",
    "\n",
    "What is the average message size for GP2GP messages including attachments?\n",
    "\n",
    "What is the average message size for GP2GP messages Excluding attachments? <- we won't be able to answer this as we only have attachment size data and not core extract size data\n",
    "\n",
    "### Requirements\n",
    "\n",
    "In order to replicate this notebook, perform the following steps:\n",
    "\n",
    "1. Log into Splunk and run the following query for:\n",
    "- 01/06/2021 00:00:00:00 to 01/07/2021 00:00:00, export the result as a csv named `6-2021-attachment-metadata.csv` and gzip it. \n",
    "\n",
    "```\n",
    "index=\"spine2vfmmonitor\" logReference=MPS0208\n",
    "| table _time, attachmentID, conversationID, FromSystem, ToSystem, attachmentType, Compressed, ContentType, LargeAttachment, Length, OriginalBase64, internalID\n",
    "```\n",
    "\n",
    "2. Run the following Splunk query for the same time range. Export the results as a csv named `6-2021-gp2gp-messages.csv` and gzip it.\n",
    "\n",
    "```\n",
    "index=\"spine2vfmmonitor\" service=\"gp2gp\" logReference=\"MPS0053d\"\n",
    "| table _time, conversationID, internalID, interactionID\n",
    "```\n",
    " "
   ]
  },
  {
   "cell_type": "code",
   "execution_count": 1,
   "id": "ef3178e0",
   "metadata": {},
   "outputs": [],
   "source": [
    "import pandas as pd\n",
    "import numpy as np\n",
    "import datetime"
   ]
  },
  {
   "cell_type": "code",
   "execution_count": 2,
   "id": "b2bbc2c3",
   "metadata": {},
   "outputs": [],
   "source": [
    "attachment_metadata_file = \"s3://prm-gp2gp-data-sandbox-dev/PRMT-2240-tpp-attachment-limit/6-2021-attachment-metadata.csv.gz\"\n",
    "attachments = pd.read_csv(attachment_metadata_file, parse_dates=[\"_time\"], na_values=[\"Unknown\"], dtype={\"Length\": pd.Int64Dtype()})"
   ]
  },
  {
   "cell_type": "code",
   "execution_count": 3,
   "id": "2c1c6cb2",
   "metadata": {},
   "outputs": [],
   "source": [
    "gp2gp_messages_file = \"s3://prm-gp2gp-data-sandbox-dev/PRMT-2240-tpp-attachment-limit/6-2021-gp2gp-messages.csv.gz\"\n",
    "gp2gp_messages = pd.read_csv(gp2gp_messages_file, parse_dates=[\"_time\"])"
   ]
  },
  {
   "cell_type": "markdown",
   "id": "26704f31",
   "metadata": {},
   "source": [
    "## Deduplicate attachment data"
   ]
  },
  {
   "cell_type": "code",
   "execution_count": 4,
   "id": "8dbfff9f",
   "metadata": {},
   "outputs": [],
   "source": [
    "ehr_request_completed_messages = gp2gp_messages[gp2gp_messages[\"interactionID\"] == \"urn:nhs:names:services:gp2gp/RCMR_IN030000UK06\"]\n",
    "\n",
    "unique_ehr_request_completed_messages = ehr_request_completed_messages.sort_values(by=\"_time\").drop_duplicates(subset=[\"conversationID\"], keep=\"last\")\n"
   ]
  },
  {
   "cell_type": "code",
   "execution_count": 5,
   "id": "541a4a53",
   "metadata": {},
   "outputs": [
    {
     "data": {
      "text/plain": [
       "(242853, 4)"
      ]
     },
     "execution_count": 5,
     "metadata": {},
     "output_type": "execute_result"
    }
   ],
   "source": [
    "unique_ehr_request_completed_messages.shape"
   ]
  },
  {
   "cell_type": "code",
   "execution_count": 6,
   "id": "ffffd818",
   "metadata": {},
   "outputs": [],
   "source": [
    "ehr_attachments = pd.merge(attachments, unique_ehr_request_completed_messages[[\"internalID\", \"interactionID\"]], on=\"internalID\", how=\"inner\")"
   ]
  },
  {
   "cell_type": "markdown",
   "id": "503230bc",
   "metadata": {},
   "source": [
    "## Find total average size of attachments for a transfer"
   ]
  },
  {
   "cell_type": "code",
   "execution_count": 8,
   "id": "60d357d7",
   "metadata": {},
   "outputs": [
    {
     "data": {
      "text/plain": [
       "count    129960.000000\n",
       "mean         21.540058\n",
       "std          37.884311\n",
       "min           0.000000\n",
       "25%           5.306479\n",
       "50%           9.855163\n",
       "75%          21.755316\n",
       "max         928.978714\n",
       "Name: Length in Mb, dtype: float64"
      ]
     },
     "execution_count": 8,
     "metadata": {},
     "output_type": "execute_result"
    }
   ],
   "source": [
    "attachments_grouped_by_conversation = ehr_attachments.groupby(by=\"conversationID\").agg({\"Length\": \"sum\"})\n",
    "attachments_grouped_by_conversation[\"Length in Mb\"] = attachments_grouped_by_conversation[\"Length\"].fillna(0)/(1024**2)\n",
    "attachments_grouped_by_conversation[\"Length in Mb\"].describe()"
   ]
  },
  {
   "cell_type": "code",
   "execution_count": 11,
   "id": "57dc50be",
   "metadata": {},
   "outputs": [
    {
     "data": {
      "text/plain": [
       "<AxesSubplot:>"
      ]
     },
     "execution_count": 11,
     "metadata": {},
     "output_type": "execute_result"
    },
    {
     "data": {
      "image/png": "[encoded data removed]",
      "text/plain": [
       "<Figure size 432x288 with 1 Axes>"
      ]
     },
     "metadata": {
      "needs_background": "light"
     },
     "output_type": "display_data"
    }
   ],
   "source": [
    "attachments_grouped_by_conversation.boxplot(column=\"Length in Mb\")"
   ]
  },
  {
   "cell_type": "code",
   "execution_count": 10,
   "id": "2905dbba",
   "metadata": {},
   "outputs": [
    {
     "data": {
      "text/plain": [
       "array([[<AxesSubplot:title={'center':'Length in Mb'}>]], dtype=object)"
      ]
     },
     "execution_count": 10,
     "metadata": {},
     "output_type": "execute_result"
    },
    {
     "data": {
      "image/png": "[encoded data removed]",
      "text/plain": [
       "<Figure size 432x288 with 1 Axes>"
      ]
     },
     "metadata": {
      "needs_background": "light"
     },
     "output_type": "display_data"
    }
   ],
   "source": [
    "attachments_grouped_by_conversation.hist(column=\"Length in Mb\", bins=40)"
   ]
  },
  {
   "cell_type": "code",
   "execution_count": null,
   "id": "efd3316e",
   "metadata": {},
   "outputs": [],
   "source": []
  }
 ],
 "metadata": {
  "kernelspec": {
   "display_name": "conda_python3",
   "language": "python",
   "name": "conda_python3"
  },
  "language_info": {
   "codemirror_mode": {
    "name": "ipython",
    "version": 3
   },
   "file_extension": ".py",
   "mimetype": "text/x-python",
   "name": "python",
   "nbconvert_exporter": "python",
   "pygments_lexer": "ipython3",
   "version": "3.6.13"
  }
 },
 "nbformat": 4,
 "nbformat_minor": 5
}
