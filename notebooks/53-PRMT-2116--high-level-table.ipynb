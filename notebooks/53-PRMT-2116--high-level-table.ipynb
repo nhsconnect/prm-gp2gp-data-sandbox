{
 "cells": [
  {
   "cell_type": "markdown",
   "id": "7958e71c",
   "metadata": {},
   "source": [
    "# PRMT-2116 Generate High level table with new transfer categorisation"
   ]
  },
  {
   "cell_type": "markdown",
   "id": "75b36983",
   "metadata": {},
   "source": [
    "We’ve completed work for recategorising transfers, so now we want to regenerate the top level table of GP2GP transfers with these categorisations, so we can prioritise next things to look at. We also want to update the table with more recent data, as we’ve currently got September - Feb 2020. \n",
    "\n",
    "### Scope\n",
    "Generate the top level problems table\n",
    "- With new transfer categorisations\n",
    "- With March-May data only (excluding three months prior)\n",
    "- Generate individual for each month"
   ]
  },
  {
   "cell_type": "code",
   "execution_count": 1,
   "id": "cfffb65b",
   "metadata": {},
   "outputs": [],
   "source": [
    "import pandas as pd \n",
    "import numpy as np"
   ]
  },
  {
   "cell_type": "code",
   "execution_count": 2,
   "id": "a0029982",
   "metadata": {},
   "outputs": [],
   "source": [
    "transfer_file_location = \"s3://prm-gp2gp-data-sandbox-dev/transfers-sample-6/\"\n",
    "transfer_files = [\n",
    "    \"2021-3-transfers.parquet\",\n",
    "    \"2021-4-transfers.parquet\",\n",
    "    \"2021-5-transfers.parquet\",\n",
    "    \"2021-6-transfers.parquet\",\n",
    "]\n",
    "transfer_input_files = [transfer_file_location + f for f in transfer_files]\n",
    "transfers_raw = pd.concat((\n",
    "    pd.read_parquet(f)\n",
    "    for f in transfer_input_files\n",
    "))"
   ]
  },
  {
   "cell_type": "markdown",
   "id": "708adb24",
   "metadata": {},
   "source": [
    "#### TODO: How do we deal with status at exactly 14 or 28 days rather than 14/28 days after the month ended"
   ]
  },
  {
   "cell_type": "code",
   "execution_count": 3,
   "id": "42b59e4f",
   "metadata": {},
   "outputs": [],
   "source": [
    "error_code_lookup_file = pd.read_csv(\"https://raw.githubusercontent.com/nhsconnect/prm-gp2gp-data-sandbox/master/data/gp2gp_response_codes.csv\")"
   ]
  },
  {
   "cell_type": "code",
   "execution_count": 4,
   "id": "3eab5b99",
   "metadata": {},
   "outputs": [],
   "source": [
    "transfers = transfers_raw.copy()\n",
    "transfers[\"status\"] = transfers[\"status\"].str.replace(\"_\", \" \").str.title()"
   ]
  },
  {
   "cell_type": "code",
   "execution_count": 5,
   "id": "c72d79d9",
   "metadata": {},
   "outputs": [
    {
     "data": {
      "text/html": [
       "<div>\n",
       "<style scoped>\n",
       "    .dataframe tbody tr th:only-of-type {\n",
       "        vertical-align: middle;\n",
       "    }\n",
       "\n",
       "    .dataframe tbody tr th {\n",
       "        vertical-align: top;\n",
       "    }\n",
       "\n",
       "    .dataframe thead th {\n",
       "        text-align: right;\n",
       "    }\n",
       "</style>\n",
       "<table border=\"1\" class=\"dataframe\">\n",
       "  <thead>\n",
       "    <tr style=\"text-align: right;\">\n",
       "      <th></th>\n",
       "      <th></th>\n",
       "      <th>Number of transfers</th>\n",
       "      <th>% of transfers</th>\n",
       "    </tr>\n",
       "    <tr>\n",
       "      <th>status</th>\n",
       "      <th>failure_reason</th>\n",
       "      <th></th>\n",
       "      <th></th>\n",
       "    </tr>\n",
       "  </thead>\n",
       "  <tbody>\n",
       "    <tr>\n",
       "      <th>Integrated On Time</th>\n",
       "      <th>N/A</th>\n",
       "      <td>893562</td>\n",
       "      <td>88.12</td>\n",
       "    </tr>\n",
       "    <tr>\n",
       "      <th rowspan=\"2\" valign=\"top\">Process Failure</th>\n",
       "      <th>Integrated Late</th>\n",
       "      <td>52816</td>\n",
       "      <td>5.21</td>\n",
       "    </tr>\n",
       "    <tr>\n",
       "      <th>Transferred, not integrated</th>\n",
       "      <td>26486</td>\n",
       "      <td>2.61</td>\n",
       "    </tr>\n",
       "    <tr>\n",
       "      <th rowspan=\"6\" valign=\"top\">Technical Failure</th>\n",
       "      <th>COPC(s) not Acknowledged</th>\n",
       "      <td>507</td>\n",
       "      <td>0.05</td>\n",
       "    </tr>\n",
       "    <tr>\n",
       "      <th>COPC(s) not sent</th>\n",
       "      <td>77</td>\n",
       "      <td>0.01</td>\n",
       "    </tr>\n",
       "    <tr>\n",
       "      <th>Contains Fatal Sender Error</th>\n",
       "      <td>14661</td>\n",
       "      <td>1.45</td>\n",
       "    </tr>\n",
       "    <tr>\n",
       "      <th>Core Extract not Sent</th>\n",
       "      <td>13493</td>\n",
       "      <td>1.33</td>\n",
       "    </tr>\n",
       "    <tr>\n",
       "      <th>Final Error</th>\n",
       "      <td>8323</td>\n",
       "      <td>0.82</td>\n",
       "    </tr>\n",
       "    <tr>\n",
       "      <th>Request not Acknowledged</th>\n",
       "      <td>2751</td>\n",
       "      <td>0.27</td>\n",
       "    </tr>\n",
       "    <tr>\n",
       "      <th rowspan=\"2\" valign=\"top\">Unclassified Failure</th>\n",
       "      <th>Ambiguous COPC messages</th>\n",
       "      <td>879</td>\n",
       "      <td>0.09</td>\n",
       "    </tr>\n",
       "    <tr>\n",
       "      <th>Transferred, not integrated, with error</th>\n",
       "      <td>423</td>\n",
       "      <td>0.04</td>\n",
       "    </tr>\n",
       "  </tbody>\n",
       "</table>\n",
       "</div>"
      ],
      "text/plain": [
       "                                                              Number of transfers  \\\n",
       "status               failure_reason                                                 \n",
       "Integrated On Time   N/A                                                   893562   \n",
       "Process Failure      Integrated Late                                        52816   \n",
       "                     Transferred, not integrated                            26486   \n",
       "Technical Failure    COPC(s) not Acknowledged                                 507   \n",
       "                     COPC(s) not sent                                          77   \n",
       "                     Contains Fatal Sender Error                            14661   \n",
       "                     Core Extract not Sent                                  13493   \n",
       "                     Final Error                                             8323   \n",
       "                     Request not Acknowledged                                2751   \n",
       "Unclassified Failure Ambiguous COPC messages                                  879   \n",
       "                     Transferred, not integrated, with error                  423   \n",
       "\n",
       "                                                              % of transfers  \n",
       "status               failure_reason                                           \n",
       "Integrated On Time   N/A                                               88.12  \n",
       "Process Failure      Integrated Late                                    5.21  \n",
       "                     Transferred, not integrated                        2.61  \n",
       "Technical Failure    COPC(s) not Acknowledged                           0.05  \n",
       "                     COPC(s) not sent                                   0.01  \n",
       "                     Contains Fatal Sender Error                        1.45  \n",
       "                     Core Extract not Sent                              1.33  \n",
       "                     Final Error                                        0.82  \n",
       "                     Request not Acknowledged                           0.27  \n",
       "Unclassified Failure Ambiguous COPC messages                            0.09  \n",
       "                     Transferred, not integrated, with error            0.04  "
      ]
     },
     "execution_count": 5,
     "metadata": {},
     "output_type": "execute_result"
    }
   ],
   "source": [
    "outcome_counts = transfers.fillna(\"N/A\").groupby(by=[\"status\", \"failure_reason\"]).agg({\"conversation_id\": \"count\"})\n",
    "outcome_counts = outcome_counts.rename({\"conversation_id\": \"Number of transfers\", \"failure_reason\": \"Failure Reason\"}, axis=1)\n",
    "outcome_counts[\"% of transfers\"] = (outcome_counts[\"Number of transfers\"] / outcome_counts[\"Number of transfers\"].sum()).multiply(100)\n",
    "outcome_counts.round(2)"
   ]
  },
  {
   "cell_type": "code",
   "execution_count": 6,
   "id": "aac2bcbc",
   "metadata": {},
   "outputs": [],
   "source": [
    "transfers['month']=transfers['date_requested'].dt.to_period('M')"
   ]
  },
  {
   "cell_type": "code",
   "execution_count": 7,
   "id": "c8f313ec",
   "metadata": {},
   "outputs": [],
   "source": [
    "def convert_error_list_to_tuple(error_code_list, error_code_type):\n",
    "    return [(error_code_type, error_code) for error_code in set(error_code_list) if not np.isnan(error_code)]\n",
    "    \n",
    "def convert_error_to_tuple(error_code, error_code_type):\n",
    "    if np.isnan(error_code):\n",
    "        return []\n",
    "    else:\n",
    "        return [(error_code_type, error_code)]\n",
    "\n",
    "def combine_error_codes(row):\n",
    "    sender_list = convert_error_to_tuple(row[\"sender_error_code\"], \"Sender\")\n",
    "    intermediate_list = convert_error_list_to_tuple(row[\"intermediate_error_codes\"], \"COPC\")\n",
    "    final_list = convert_error_list_to_tuple(row[\"final_error_codes\"], \"Final\")\n",
    "    full_error_code_list = sender_list + intermediate_list + final_list\n",
    "    if len(full_error_code_list) == 0:\n",
    "        return [(\"No Error Code\", \"No Error\")]\n",
    "    else:\n",
    "        return full_error_code_list\n",
    "    \n",
    "transfers[\"all_error_codes\"] = transfers.apply(combine_error_codes, axis=1)"
   ]
  },
  {
   "cell_type": "code",
   "execution_count": 8,
   "id": "9e8661df",
   "metadata": {},
   "outputs": [],
   "source": [
    "# We spotted a discrepency - patches of investigative code here - to delete!!\n",
    "transfers.loc[transfers['failure_reason']=='Contains Fatal Sender Error']\n",
    "convert_error_to_tuple(14.0, \"Sender\")\n",
    "transfers.loc[transfers['failure_reason']=='Contains Fatal Sender Error','all_error_codes'].value_counts()\n",
    "discrepency_bool=(transfers['failure_reason']=='Contains Fatal Sender Error') & (transfers['sender_error_code'].isna())\n"
   ]
  },
  {
   "cell_type": "code",
   "execution_count": 11,
   "id": "18115d14",
   "metadata": {},
   "outputs": [],
   "source": [
    "def generate_high_level_table(transfers_sample):\n",
    "\n",
    "    # Break up lines by error code\n",
    "    transfers_split_by_error_code=transfers_sample.explode(\"all_error_codes\")\n",
    "\n",
    "    # Create High level table\n",
    "    high_level_table=transfers_split_by_error_code.fillna(\"N/A\").groupby([\"requesting_supplier\",\"sending_supplier\",\"status\",\"failure_reason\",\"all_error_codes\"]).agg({'conversation_id':'count'})\n",
    "    high_level_table=high_level_table.rename({'conversation_id':'Number of Transfers'},axis=1).reset_index()\n",
    "\n",
    "    # Count % of transfers\n",
    "    total_number_transfers = transfers_sample.shape[0]\n",
    "    high_level_table['% of Transfers']=(high_level_table['Number of Transfers']/total_number_transfers).multiply(100)\n",
    "\n",
    "    # Count by supplier pathway\n",
    "    supplier_pathway_counts = transfers_sample.fillna(\"Unknown\").groupby(by=[\"sending_supplier\", \"requesting_supplier\"]).agg({\"conversation_id\": \"count\"})['conversation_id']\n",
    "    high_level_table['% Supplier Pathway Transfers']=high_level_table.apply(lambda row: row['Number of Transfers']/supplier_pathway_counts.loc[(row['sending_supplier'],row['requesting_supplier'])],axis=1).multiply(100)\n",
    "\n",
    "    # Add in Paper Fallback columns\n",
    "    total_fallback = transfers_sample[\"failure_reason\"].dropna().shape[0]\n",
    "    fallback_bool=high_level_table['status']!='Integrated On Time'\n",
    "    high_level_table.loc[fallback_bool,'% Paper Fallback']=(high_level_table['Number of Transfers']/total_fallback).multiply(100)\n",
    "\n",
    "    # % of error codes column\n",
    "    total_number_of_error_codes=transfers_split_by_error_code['all_error_codes'].value_counts().drop(('No Error Code','No Error')).sum()\n",
    "    error_code_bool=high_level_table['all_error_codes']!=('No Error Code', 'No Error')\n",
    "    high_level_table.loc[error_code_bool,'% of error codes']=(high_level_table['Number of Transfers']/total_number_of_error_codes).multiply(100)\n",
    "    \n",
    "    # Adding columns to describe errors\n",
    "    high_level_table['error_type']=high_level_table['all_error_codes'].apply(lambda error_tuple: error_tuple[0])\n",
    "    high_level_table['error_code']=high_level_table['all_error_codes'].apply(lambda error_tuple: error_tuple[1])\n",
    "    high_level_table=high_level_table.merge(error_code_lookup_file[['ErrorCode','ResponseText']],left_on='error_code',right_on='ErrorCode',how='left')\n",
    "\n",
    "    # Select and re-order table\n",
    "    grouping_columns_order=['requesting_supplier','sending_supplier','status','failure_reason','error_type','ResponseText','error_code']\n",
    "    counting_columns_order=['Number of Transfers','% of Transfers','% Supplier Pathway Transfers','% Paper Fallback','% of error codes']\n",
    "    high_level_table=high_level_table[grouping_columns_order+counting_columns_order].sort_values(by='Number of Transfers',ascending=False)\n",
    "    \n",
    "    return high_level_table"
   ]
  },
  {
   "cell_type": "code",
   "execution_count": 25,
   "id": "8d42a03a",
   "metadata": {},
   "outputs": [],
   "source": [
    "with pd.ExcelWriter(\"High Level Tables PRMT-2116.xlsx\") as writer:\n",
    "    generate_high_level_table(transfers.copy()).to_excel(writer, sheet_name=\"All\",index=False)\n",
    "    [generate_high_level_table(transfers[transfers['month']==month].copy()).to_excel(writer, sheet_name=str(month),index=False) for month in transfers['month'].unique()]"
   ]
  },
  {
   "cell_type": "code",
   "execution_count": null,
   "id": "e8ecb540",
   "metadata": {},
   "outputs": [],
   "source": []
  }
 ],
 "metadata": {
  "kernelspec": {
   "display_name": "conda_python3",
   "language": "python",
   "name": "conda_python3"
  },
  "language_info": {
   "codemirror_mode": {
    "name": "ipython",
    "version": 3
   },
   "file_extension": ".py",
   "mimetype": "text/x-python",
   "name": "python",
   "nbconvert_exporter": "python",
   "pygments_lexer": "ipython3",
   "version": "3.6.13"
  }
 },
 "nbformat": 4,
 "nbformat_minor": 5
}
