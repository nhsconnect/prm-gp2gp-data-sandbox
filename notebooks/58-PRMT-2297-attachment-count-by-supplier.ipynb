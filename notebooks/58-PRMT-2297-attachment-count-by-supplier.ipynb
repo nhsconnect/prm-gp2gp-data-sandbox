{
 "cells": [
  {
   "cell_type": "markdown",
   "id": "8a2df618",
   "metadata": {},
   "source": [
    "# PRMT-2297: Look at attachments data from a supplier perspective\n",
    "\n",
    "\n",
    "## Context\n",
    "We have performed some analysis on the attachments data set which suggests that nearly half of transfers contain no attachments. When we presented this in showcase we received feedback from clinical leads that they believe the number to be higher. It was suggested that one reason could be because some documents won't be included if, for example, they are EMIS and stored in Docman. \n",
    "\n",
    "## Scope\n",
    "- Look at attachments data for 3 months\n",
    "- Identify the proportion of transfers per supplier that contain attachments\n",
    "- Identify the average no. attachments per transfer containing attachments, split by supplier \n",
    "- Look at attachments at a practice level for the following practices:\n",
    "    - Clevedon Medical Centre - L81040\n",
    "    - Paxton Green Group Practice - G85039\n",
    "    - Vine Medical Centre - H81128"
   ]
  },
  {
   "cell_type": "code",
   "execution_count": 1,
   "id": "4f55b970",
   "metadata": {},
   "outputs": [],
   "source": [
    "import pandas as pd\n",
    "import numpy as np\n",
    "import datetime"
   ]
  },
  {
   "cell_type": "markdown",
   "id": "6d3bf660",
   "metadata": {},
   "source": [
    "#### Load Attachment Data"
   ]
  },
  {
   "cell_type": "raw",
   "id": "cd62a7b4",
   "metadata": {},
   "source": [
    "[Taken From Notebook 52]\n",
    "June Data:\n",
    "Log into Splunk and run the following query for:\n",
    "01/06/2021 00:00:00:00 to 01/07/2021 00:00:00, export the result as a csv named 6-2021-attachment-metadata.csv and gzip it.\n",
    "\n",
    "index=\"spine2vfmmonitor\" logReference=MPS0208\n",
    "| table _time, attachmentID, conversationID, FromSystem, ToSystem, attachmentType, Compressed, ContentType, LargeAttachment, Length, OriginalBase64, internalID\n",
    "\n",
    "This was also done for April and May"
   ]
  },
  {
   "cell_type": "code",
   "execution_count": 116,
   "id": "ed6fd598",
   "metadata": {},
   "outputs": [],
   "source": [
    "attachment_metadata_folder=\"s3://prm-gp2gp-data-sandbox-dev/\"\n",
    "attachment_metadata_files = [\"PRMT-2297-supplier-attachments/4-2021-attachment-metadata.csv.gz\",\"PRMT-2297-supplier-attachments/5-2021-attachment-metadata.csv.gz\",\"PRMT-2240-tpp-attachment-limit/6-2021-attachment-metadata.csv.gz\"]\n",
    "\n",
    "attachments = pd.concat([pd.read_csv(attachment_metadata_folder+file, parse_dates=[\"_time\"], na_values=[\"Unknown\"], dtype={\"Length\": pd.Int64Dtype()}) for file in attachment_metadata_files])\n",
    "relevant_attachments=attachments.loc[attachments['attachmentType']=='cid',['attachmentID','conversationID']].drop_duplicates()\n",
    "conversation_attachment_counts=relevant_attachments.groupby('conversationID').agg({'attachmentID':'count'}).rename({'attachmentID':'Number of Attachments'},axis=1)"
   ]
  },
  {
   "cell_type": "markdown",
   "id": "5ee8a4b8",
   "metadata": {},
   "source": [
    "#### Load Transfers"
   ]
  },
  {
   "cell_type": "code",
   "execution_count": 117,
   "id": "be148c08",
   "metadata": {},
   "outputs": [],
   "source": [
    "transfer_file_location = \"s3://prm-gp2gp-data-sandbox-dev/transfers-sample-6/\"\n",
    "transfer_files = [\n",
    "    \"2021-4-transfers.parquet\",\n",
    "    \"2021-5-transfers.parquet\",\n",
    "    \"2021-6-transfers.parquet\",\n",
    "]\n",
    "transfer_input_files = [transfer_file_location + f for f in transfer_files]\n",
    "transfers = pd.concat((\n",
    "    pd.read_parquet(f)\n",
    "    for f in transfer_input_files\n",
    "))\n",
    "# Generate ASID lookup that contains all the most recent entry for all ASIDs encountered\n",
    "asid_file_location = \"s3://prm-gp2gp-data-sandbox-dev/asid-lookup/asidLookup-Jun-2021.csv.gz\"\n",
    "asid_lookup = pd.read_csv(asid_file_location)\n",
    "  \n",
    "asid_lookup = asid_lookup.drop_duplicates().groupby(\"ASID\").last().reset_index()\n",
    "lookup = asid_lookup[[\"ASID\", \"MName\", \"NACS\",\"OrgName\"]]\n",
    "\n",
    "transfers = transfers.merge(lookup, left_on='requesting_practice_asid',right_on='ASID',how='left')\n",
    "transfers = transfers.rename({'NACS': 'requesting_ods_code','OrgName':'requesting_practice_name'}, axis=1)\n",
    "transfers = transfers.merge(lookup, left_on='sending_practice_asid',right_on='ASID',how='left')\n",
    "transfers = transfers.rename({'NACS': 'sending_ods_code','OrgName':'sending_practice_name'}, axis=1)"
   ]
  },
  {
   "cell_type": "markdown",
   "id": "38922086",
   "metadata": {},
   "source": [
    "#### Merge Data"
   ]
  },
  {
   "cell_type": "code",
   "execution_count": 118,
   "id": "a1c72eab",
   "metadata": {},
   "outputs": [
    {
     "data": {
      "text/plain": [
       "706250"
      ]
     },
     "execution_count": 118,
     "metadata": {},
     "output_type": "execute_result"
    }
   ],
   "source": [
    "full_transfers=transfers.merge(conversation_attachment_counts,left_on='conversation_id',right_index=True,how='left')\n",
    "full_transfers['Contains Attachments']=full_transfers['Number of Attachments']>0\n",
    "full_transfers.shape[0]"
   ]
  },
  {
   "cell_type": "markdown",
   "id": "60026934",
   "metadata": {},
   "source": [
    "## What percentage of transfers contain attachments for each supplier Pathway?"
   ]
  },
  {
   "cell_type": "code",
   "execution_count": 122,
   "id": "286e15db",
   "metadata": {},
   "outputs": [
    {
     "data": {
      "text/html": [
       "<div>\n",
       "<style scoped>\n",
       "    .dataframe tbody tr th:only-of-type {\n",
       "        vertical-align: middle;\n",
       "    }\n",
       "\n",
       "    .dataframe tbody tr th {\n",
       "        vertical-align: top;\n",
       "    }\n",
       "\n",
       "    .dataframe thead th {\n",
       "        text-align: right;\n",
       "    }\n",
       "</style>\n",
       "<table border=\"1\" class=\"dataframe\">\n",
       "  <thead>\n",
       "    <tr style=\"text-align: right;\">\n",
       "      <th></th>\n",
       "      <th></th>\n",
       "      <th>% with Attachments</th>\n",
       "      <th>Av attachments for transfers with attachments</th>\n",
       "    </tr>\n",
       "    <tr>\n",
       "      <th>sending_supplier</th>\n",
       "      <th>requesting_supplier</th>\n",
       "      <th></th>\n",
       "      <th></th>\n",
       "    </tr>\n",
       "  </thead>\n",
       "  <tbody>\n",
       "    <tr>\n",
       "      <th rowspan=\"3\" valign=\"top\">EMIS</th>\n",
       "      <th>EMIS</th>\n",
       "      <td>45.5</td>\n",
       "      <td>49.4</td>\n",
       "    </tr>\n",
       "    <tr>\n",
       "      <th>SystmOne</th>\n",
       "      <td>46.8</td>\n",
       "      <td>45.9</td>\n",
       "    </tr>\n",
       "    <tr>\n",
       "      <th>Vision</th>\n",
       "      <td>3.3</td>\n",
       "      <td>43.8</td>\n",
       "    </tr>\n",
       "    <tr>\n",
       "      <th rowspan=\"3\" valign=\"top\">SystmOne</th>\n",
       "      <th>EMIS</th>\n",
       "      <td>80.9</td>\n",
       "      <td>31.8</td>\n",
       "    </tr>\n",
       "    <tr>\n",
       "      <th>SystmOne</th>\n",
       "      <td>0.0</td>\n",
       "      <td>0.0</td>\n",
       "    </tr>\n",
       "    <tr>\n",
       "      <th>Vision</th>\n",
       "      <td>13.4</td>\n",
       "      <td>29.9</td>\n",
       "    </tr>\n",
       "    <tr>\n",
       "      <th rowspan=\"3\" valign=\"top\">Vision</th>\n",
       "      <th>EMIS</th>\n",
       "      <td>5.6</td>\n",
       "      <td>27.5</td>\n",
       "    </tr>\n",
       "    <tr>\n",
       "      <th>SystmOne</th>\n",
       "      <td>7.0</td>\n",
       "      <td>28.9</td>\n",
       "    </tr>\n",
       "    <tr>\n",
       "      <th>Vision</th>\n",
       "      <td>0.0</td>\n",
       "      <td>0.0</td>\n",
       "    </tr>\n",
       "  </tbody>\n",
       "</table>\n",
       "</div>"
      ],
      "text/plain": [
       "                                      % with Attachments  \\\n",
       "sending_supplier requesting_supplier                       \n",
       "EMIS             EMIS                               45.5   \n",
       "                 SystmOne                           46.8   \n",
       "                 Vision                              3.3   \n",
       "SystmOne         EMIS                               80.9   \n",
       "                 SystmOne                            0.0   \n",
       "                 Vision                             13.4   \n",
       "Vision           EMIS                                5.6   \n",
       "                 SystmOne                            7.0   \n",
       "                 Vision                              0.0   \n",
       "\n",
       "                                      Av attachments for transfers with attachments  \n",
       "sending_supplier requesting_supplier                                                 \n",
       "EMIS             EMIS                                                          49.4  \n",
       "                 SystmOne                                                      45.9  \n",
       "                 Vision                                                        43.8  \n",
       "SystmOne         EMIS                                                          31.8  \n",
       "                 SystmOne                                                       0.0  \n",
       "                 Vision                                                        29.9  \n",
       "Vision           EMIS                                                          27.5  \n",
       "                 SystmOne                                                      28.9  \n",
       "                 Vision                                                         0.0  "
      ]
     },
     "execution_count": 122,
     "metadata": {},
     "output_type": "execute_result"
    }
   ],
   "source": [
    "supplier_table=full_transfers.groupby(['sending_supplier','requesting_supplier']).agg({'Contains Attachments':'mean','Number of Attachments':'mean'})\n",
    "supplier_table=supplier_table.rename({'Contains Attachments':'% with Attachments','Number of Attachments':'Av attachments for transfers with attachments'},axis=1)\n",
    "supplier_table['% with Attachments']=supplier_table['% with Attachments'].multiply(100)\n",
    "supplier_table.fillna(0).round(1)"
   ]
  },
  {
   "cell_type": "markdown",
   "id": "fb774026",
   "metadata": {},
   "source": [
    "## What % of transfers contain attachments for the practices in question?"
   ]
  },
  {
   "cell_type": "code",
   "execution_count": 127,
   "id": "7d81b3d1",
   "metadata": {},
   "outputs": [
    {
     "data": {
      "text/html": [
       "<div>\n",
       "<style scoped>\n",
       "    .dataframe tbody tr th:only-of-type {\n",
       "        vertical-align: middle;\n",
       "    }\n",
       "\n",
       "    .dataframe tbody tr th {\n",
       "        vertical-align: top;\n",
       "    }\n",
       "\n",
       "    .dataframe thead th {\n",
       "        text-align: right;\n",
       "    }\n",
       "</style>\n",
       "<table border=\"1\" class=\"dataframe\">\n",
       "  <thead>\n",
       "    <tr style=\"text-align: right;\">\n",
       "      <th></th>\n",
       "      <th></th>\n",
       "      <th></th>\n",
       "      <th></th>\n",
       "      <th>Number of Transfers</th>\n",
       "      <th>% of Transfers with Attachments</th>\n",
       "      <th>Av. Attachments for attachment transfers</th>\n",
       "    </tr>\n",
       "    <tr>\n",
       "      <th>sending_ods_code</th>\n",
       "      <th>sending_practice_name</th>\n",
       "      <th>sending_supplier</th>\n",
       "      <th>requesting_supplier</th>\n",
       "      <th></th>\n",
       "      <th></th>\n",
       "      <th></th>\n",
       "    </tr>\n",
       "  </thead>\n",
       "  <tbody>\n",
       "    <tr>\n",
       "      <th rowspan=\"3\" valign=\"top\">L81040</th>\n",
       "      <th rowspan=\"3\" valign=\"top\">CLEVEDON MEDICAL CENTRE</th>\n",
       "      <th rowspan=\"3\" valign=\"top\">EMIS</th>\n",
       "      <th>EMIS</th>\n",
       "      <td>81</td>\n",
       "      <td>55.1</td>\n",
       "      <td>52.4</td>\n",
       "    </tr>\n",
       "    <tr>\n",
       "      <th>SystmOne</th>\n",
       "      <td>10</td>\n",
       "      <td>43.5</td>\n",
       "      <td>50.3</td>\n",
       "    </tr>\n",
       "    <tr>\n",
       "      <th>Vision</th>\n",
       "      <td>0</td>\n",
       "      <td>0.0</td>\n",
       "      <td>0.0</td>\n",
       "    </tr>\n",
       "    <tr>\n",
       "      <th rowspan=\"3\" valign=\"top\">G85039</th>\n",
       "      <th rowspan=\"3\" valign=\"top\">PAXTON GREEN GROUP PRACTICE</th>\n",
       "      <th rowspan=\"3\" valign=\"top\">EMIS</th>\n",
       "      <th>EMIS</th>\n",
       "      <td>96</td>\n",
       "      <td>37.2</td>\n",
       "      <td>44.0</td>\n",
       "    </tr>\n",
       "    <tr>\n",
       "      <th>SystmOne</th>\n",
       "      <td>21</td>\n",
       "      <td>29.2</td>\n",
       "      <td>42.0</td>\n",
       "    </tr>\n",
       "    <tr>\n",
       "      <th>Vision</th>\n",
       "      <td>0</td>\n",
       "      <td>0.0</td>\n",
       "      <td>0.0</td>\n",
       "    </tr>\n",
       "    <tr>\n",
       "      <th rowspan=\"3\" valign=\"top\">H81128</th>\n",
       "      <th rowspan=\"3\" valign=\"top\">VINE MEDICAL CENTRE</th>\n",
       "      <th rowspan=\"3\" valign=\"top\">EMIS</th>\n",
       "      <th>EMIS</th>\n",
       "      <td>24</td>\n",
       "      <td>48.0</td>\n",
       "      <td>41.7</td>\n",
       "    </tr>\n",
       "    <tr>\n",
       "      <th>SystmOne</th>\n",
       "      <td>6</td>\n",
       "      <td>35.3</td>\n",
       "      <td>48.8</td>\n",
       "    </tr>\n",
       "    <tr>\n",
       "      <th>Vision</th>\n",
       "      <td>0</td>\n",
       "      <td>0.0</td>\n",
       "      <td>0.0</td>\n",
       "    </tr>\n",
       "  </tbody>\n",
       "</table>\n",
       "</div>"
      ],
      "text/plain": [
       "                                                                                   Number of Transfers  \\\n",
       "sending_ods_code sending_practice_name       sending_supplier requesting_supplier                        \n",
       "L81040           CLEVEDON MEDICAL CENTRE     EMIS             EMIS                                  81   \n",
       "                                                              SystmOne                              10   \n",
       "                                                              Vision                                 0   \n",
       "G85039           PAXTON GREEN GROUP PRACTICE EMIS             EMIS                                  96   \n",
       "                                                              SystmOne                              21   \n",
       "                                                              Vision                                 0   \n",
       "H81128           VINE MEDICAL CENTRE         EMIS             EMIS                                  24   \n",
       "                                                              SystmOne                               6   \n",
       "                                                              Vision                                 0   \n",
       "\n",
       "                                                                                   % of Transfers with Attachments  \\\n",
       "sending_ods_code sending_practice_name       sending_supplier requesting_supplier                                    \n",
       "L81040           CLEVEDON MEDICAL CENTRE     EMIS             EMIS                                            55.1   \n",
       "                                                              SystmOne                                        43.5   \n",
       "                                                              Vision                                           0.0   \n",
       "G85039           PAXTON GREEN GROUP PRACTICE EMIS             EMIS                                            37.2   \n",
       "                                                              SystmOne                                        29.2   \n",
       "                                                              Vision                                           0.0   \n",
       "H81128           VINE MEDICAL CENTRE         EMIS             EMIS                                            48.0   \n",
       "                                                              SystmOne                                        35.3   \n",
       "                                                              Vision                                           0.0   \n",
       "\n",
       "                                                                                   Av. Attachments for attachment transfers  \n",
       "sending_ods_code sending_practice_name       sending_supplier requesting_supplier                                            \n",
       "L81040           CLEVEDON MEDICAL CENTRE     EMIS             EMIS                                                     52.4  \n",
       "                                                              SystmOne                                                 50.3  \n",
       "                                                              Vision                                                    0.0  \n",
       "G85039           PAXTON GREEN GROUP PRACTICE EMIS             EMIS                                                     44.0  \n",
       "                                                              SystmOne                                                 42.0  \n",
       "                                                              Vision                                                    0.0  \n",
       "H81128           VINE MEDICAL CENTRE         EMIS             EMIS                                                     41.7  \n",
       "                                                              SystmOne                                                 48.8  \n",
       "                                                              Vision                                                    0.0  "
      ]
     },
     "execution_count": 127,
     "metadata": {},
     "output_type": "execute_result"
    }
   ],
   "source": [
    "practices={'Clevedon Medical Centre':'L81040','Paxton Green Group Practice':'G85039','Vine Medical Centre':'H81128'}\n",
    "practice_counts=full_transfers.groupby(['sending_ods_code','sending_practice_name','sending_supplier','requesting_supplier']).agg({'Contains Attachments':['sum','mean'],'Number of Attachments':'mean'})\n",
    "practice_counts.columns=['Number of Transfers','% of Transfers with Attachments','Av. Attachments for attachment transfers']\n",
    "#practice_counts=practice_counts.loc[practices.values()]\n",
    "practice_counts['% of Transfers with Attachments']=practice_counts['% of Transfers with Attachments'].multiply(100)\n",
    "practice_counts.loc[practices.values()].fillna(0).round(1)"
   ]
  },
  {
   "cell_type": "markdown",
   "id": "a776b4c6",
   "metadata": {},
   "source": [
    "## Is the use of Docman based on the individual practice?"
   ]
  },
  {
   "cell_type": "code",
   "execution_count": 153,
   "id": "96991fb3",
   "metadata": {},
   "outputs": [
    {
     "data": {
      "text/plain": [
       "Text(0, 0.5, 'Number of EMIS Practices')"
      ]
     },
     "execution_count": 153,
     "metadata": {},
     "output_type": "execute_result"
    },
    {
     "data": {
      "image/png": "[encoded data removed]",
      "text/plain": [
       "<Figure size 432x288 with 1 Axes>"
      ]
     },
     "metadata": {
      "needs_background": "light"
     },
     "output_type": "display_data"
    }
   ],
   "source": [
    "practice_table=practice_counts.reset_index()\n",
    "supplier_filter=(practice_table['sending_supplier']=='EMIS') & (practice_table['requesting_supplier']=='SystmOne')\n",
    "count_filter=practice_table['Number of Transfers']>10\n",
    "ax= practice_table.loc[supplier_filter & count_filter,'% of Transfers with Attachments'].plot.hist()\n",
    "ax.set_xlabel(\"% of EMIS to TPP Transfers with Attachments (min 10 Transfers)\")\n",
    "ax.set_ylabel(\"Number of EMIS Practices\")"
   ]
  },
  {
   "cell_type": "code",
   "execution_count": 152,
   "id": "8f11bdc3",
   "metadata": {},
   "outputs": [
    {
     "data": {
      "text/plain": [
       "Text(0, 0.5, 'Number of Practices')"
      ]
     },
     "execution_count": 152,
     "metadata": {},
     "output_type": "execute_result"
    },
    {
     "data": {
      "image/png": "[encoded data removed]",
      "text/plain": [
       "<Figure size 432x288 with 1 Axes>"
      ]
     },
     "metadata": {
      "needs_background": "light"
     },
     "output_type": "display_data"
    }
   ],
   "source": [
    "practice_table=practice_counts.reset_index()\n",
    "supplier_filter=(practice_table['sending_supplier']=='SystmOne') & (practice_table['requesting_supplier']=='EMIS')\n",
    "count_filter=practice_table['Number of Transfers']>10\n",
    "ax=practice_table.loc[supplier_filter & count_filter,'% of Transfers with Attachments'].plot.hist()\n",
    "ax.set_xlabel(\"% of TPP to EMIS Transfers with Attachments (min 10 Transfers)\")\n",
    "ax.set_ylabel(\"Number of TPP Practices\")"
   ]
  },
  {
   "cell_type": "code",
   "execution_count": null,
   "id": "03042910",
   "metadata": {},
   "outputs": [],
   "source": []
  }
 ],
 "metadata": {
  "kernelspec": {
   "display_name": "conda_python3",
   "language": "python",
   "name": "conda_python3"
  },
  "language_info": {
   "codemirror_mode": {
    "name": "ipython",
    "version": 3
   },
   "file_extension": ".py",
   "mimetype": "text/x-python",
   "name": "python",
   "nbconvert_exporter": "python",
   "pygments_lexer": "ipython3",
   "version": "3.6.13"
  }
 },
 "nbformat": 4,
 "nbformat_minor": 5
}
