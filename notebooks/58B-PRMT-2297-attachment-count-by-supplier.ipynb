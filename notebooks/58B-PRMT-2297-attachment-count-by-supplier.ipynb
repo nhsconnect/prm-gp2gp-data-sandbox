{
 "cells": [
  {
   "cell_type": "markdown",
   "id": "982360e8",
   "metadata": {},
   "source": [
    "# PRMT-2297: Look at attachments data from a supplier perspective\n",
    "\n",
    "\n",
    "## Context\n",
    "We have performed some analysis on the attachments data set which suggests that nearly half of transfers contain no attachments. When we presented this in showcase we received feedback from clinical leads that they believe the number to be higher. It was suggested that one reason could be because some documents won't be included if, for example, they are EMIS and stored in Docman. \n",
    "\n",
    "## Scope\n",
    "- Look at attachments data for 3 months\n",
    "- Identify the proportion of transfers per supplier that contain attachments\n",
    "- Identify the average no. attachments per transfer containing attachments, split by supplier \n",
    "- Look at attachments at a practice level for the following practices:\n",
    "    - Clevedon Medical Centre - L81040\n",
    "    - Paxton Green Group Practice - G85039\n",
    "    - Vine Medical Centre - H81128"
   ]
  },
  {
   "cell_type": "code",
   "execution_count": 1,
   "id": "c72e1176",
   "metadata": {},
   "outputs": [],
   "source": [
    "import pandas as pd\n",
    "import numpy as np\n",
    "import datetime"
   ]
  },
  {
   "cell_type": "markdown",
   "id": "ff4da5a2",
   "metadata": {},
   "source": [
    "#### Load Attachment Data"
   ]
  },
  {
   "cell_type": "raw",
   "id": "24887e29",
   "metadata": {},
   "source": [
    "[Taken From Notebook 52]\n",
    "June Data:\n",
    "Log into Splunk and run the following query for:\n",
    "01/06/2021 00:00:00:00 to 01/07/2021 00:00:00, export the result as a csv named 6-2021-attachment-metadata.csv and gzip it.\n",
    "\n",
    "index=\"spine2vfmmonitor\" logReference=MPS0208\n",
    "| table _time, attachmentID, conversationID, FromSystem, ToSystem, attachmentType, Compressed, ContentType, LargeAttachment, Length, OriginalBase64, internalID\n",
    "\n",
    "Run the following Splunk query for the same time range. Export the results as a csv named 6-2021-gp2gp-messages.csv and gzip it.\n",
    "\n",
    "index=\"spine2vfmmonitor\" service=\"gp2gp\" logReference=\"MPS0053d\"\n",
    "| table _time, conversationID, internalID, interactionID\n",
    "\n",
    "This was also done for April and May"
   ]
  },
  {
   "cell_type": "code",
   "execution_count": null,
   "id": "b2bea5cc",
   "metadata": {},
   "outputs": [],
   "source": [
    "data_folder=\"s3://prm-gp2gp-data-sandbox-dev/PRMT-2297-supplier-attachments/\"\n",
    "# attachment_metadata_files = [\n",
    "#     \"4-2021-attachment-metadata.csv.gz\",\n",
    "#     \"5-2021-attachment-metadata.csv.gz\",\n",
    "#     \"6-2021-attachment-metadata.csv.gz\"\n",
    "# ]\n",
    "\n",
    "attachment_metadata_files = [\n",
    "    \"attachments-with-domain-data-4-2021.csv.gz\",\n",
    "    \"attachments-with-domain-data-5-2021.csv.gz\",\n",
    "    \"attachments-with-domain-data-6-2021.csv.gz\"\n",
    "]\n",
    "\n",
    "attachments = pd.concat([pd.read_csv(data_folder+file, parse_dates=[\"_time\"], na_values=[\"Unknown\"], dtype={\"Length\": pd.Int64Dtype()}) for file in attachment_metadata_files])"
   ]
  },
  {
   "cell_type": "code",
   "execution_count": null,
   "id": "273c1d37",
   "metadata": {},
   "outputs": [
    {
     "data": {
      "text/plain": [
       "None                     28516322\n",
       "X-GP2GP-Skeleton: Yes       55438\n",
       "Name: DomainData, dtype: int64"
      ]
     },
     "execution_count": 3,
     "metadata": {},
     "output_type": "execute_result"
    }
   ],
   "source": [
    "attachments['DomainData'].value_counts()"
   ]
  },
  {
   "cell_type": "code",
   "execution_count": null,
   "id": "1e144550",
   "metadata": {},
   "outputs": [],
   "source": [
    "non_core_attachments_bool=attachments['DomainData']!='X-GP2GP-Skeleton: Yes'\n",
    "attachments_real=attachments.loc[non_core_attachments_bool]"
   ]
  },
  {
   "cell_type": "code",
   "execution_count": null,
   "id": "de77d930",
   "metadata": {},
   "outputs": [],
   "source": [
    "gp2gp_messages_files = [\n",
    "    \"4-2021-gp2gp-messages.csv.gz\",\n",
    "    \"5-2021-gp2gp-messages.csv.gz\",\n",
    "    \"6-2021-gp2gp-messages.csv.gz\"\n",
    "]\n",
    "gp2gp_messages = pd.concat([pd.read_csv(data_folder+file, parse_dates=[\"_time\"]) for file in gp2gp_messages_files])"
   ]
  },
  {
   "cell_type": "markdown",
   "id": "16abab96",
   "metadata": {},
   "source": [
    "## Deduplicate attachment data"
   ]
  },
  {
   "cell_type": "code",
   "execution_count": null,
   "id": "fb9abc8b",
   "metadata": {},
   "outputs": [],
   "source": []
  },
  {
   "cell_type": "code",
   "execution_count": null,
   "id": "af7fd943",
   "metadata": {},
   "outputs": [],
   "source": [
    "ehr_request_completed_messages = gp2gp_messages[gp2gp_messages[\"interactionID\"] == \"urn:nhs:names:services:gp2gp/RCMR_IN030000UK06\"]\n",
    "\n",
    "unique_ehr_request_completed_messages = ehr_request_completed_messages.sort_values(by=\"_time\").drop_duplicates(subset=[\"conversationID\"], keep=\"last\")"
   ]
  },
  {
   "cell_type": "code",
   "execution_count": null,
   "id": "11f976b9",
   "metadata": {},
   "outputs": [],
   "source": [
    "ehr_attachments = pd.merge(attachments_real, unique_ehr_request_completed_messages[[\"internalID\", \"interactionID\"]], on=\"internalID\", how=\"inner\")"
   ]
  },
  {
   "cell_type": "code",
   "execution_count": null,
   "id": "144bca00",
   "metadata": {},
   "outputs": [],
   "source": [
    "conversation_attachment_counts=ehr_attachments.groupby('conversationID').agg({'attachmentID':'count', 'FromSystem': 'first', 'ToSystem': 'first'}).rename({'attachmentID':'Number of Attachments'},axis=1)"
   ]
  },
  {
   "cell_type": "markdown",
   "id": "2ceacb28",
   "metadata": {},
   "source": [
    "#### Load Transfers"
   ]
  },
  {
   "cell_type": "code",
   "execution_count": null,
   "id": "e8bdb21c",
   "metadata": {},
   "outputs": [],
   "source": [
    "transfer_file_location = \"s3://prm-gp2gp-data-sandbox-dev/transfers-sample-6/\"\n",
    "transfer_files = [\n",
    "    \"2021-4-transfers.parquet\",\n",
    "    \"2021-5-transfers.parquet\",\n",
    "    \"2021-6-transfers.parquet\",\n",
    "]\n",
    "transfer_input_files = [transfer_file_location + f for f in transfer_files]\n",
    "transfers = pd.concat((\n",
    "    pd.read_parquet(f)\n",
    "    for f in transfer_input_files\n",
    "))\n",
    "# Generate ASID lookup that contains all the most recent entry for all ASIDs encountered\n",
    "asid_file_location = \"s3://prm-gp2gp-data-sandbox-dev/asid-lookup/asidLookup-Jun-2021.csv.gz\"\n",
    "asid_lookup = pd.read_csv(asid_file_location)\n",
    "  \n",
    "asid_lookup = asid_lookup.drop_duplicates().groupby(\"ASID\").last().reset_index()\n",
    "lookup = asid_lookup[[\"ASID\", \"MName\", \"NACS\",\"OrgName\"]]\n",
    "\n",
    "transfers = transfers.merge(lookup, left_on='requesting_practice_asid',right_on='ASID',how='left')\n",
    "transfers = transfers.rename({'NACS': 'requesting_ods_code','OrgName':'requesting_practice_name'}, axis=1)\n",
    "transfers = transfers.merge(lookup, left_on='sending_practice_asid',right_on='ASID',how='left')\n",
    "transfers = transfers.rename({'NACS': 'sending_ods_code','OrgName':'sending_practice_name'}, axis=1)"
   ]
  },
  {
   "cell_type": "markdown",
   "id": "398a0543",
   "metadata": {},
   "source": [
    "#### Merge Data"
   ]
  },
  {
   "cell_type": "code",
   "execution_count": null,
   "id": "9c8d19e9",
   "metadata": {},
   "outputs": [
    {
     "data": {
      "text/plain": [
       "706250"
      ]
     },
     "execution_count": 10,
     "metadata": {},
     "output_type": "execute_result"
    }
   ],
   "source": [
    "full_transfers=transfers.merge(conversation_attachment_counts,left_on='conversation_id',right_index=True,how='left')\n",
    "full_transfers['Contains Attachments']=full_transfers['Number of Attachments']>0\n",
    "full_transfers.shape[0]"
   ]
  },
  {
   "cell_type": "code",
   "execution_count": null,
   "id": "75f6112e",
   "metadata": {},
   "outputs": [
    {
     "data": {
      "text/plain": [
       "True     358333\n",
       "False    347917\n",
       "Name: Contains Attachments, dtype: int64"
      ]
     },
     "execution_count": 11,
     "metadata": {},
     "output_type": "execute_result"
    }
   ],
   "source": [
    "full_transfers['Contains Attachments'].value_counts(dropna=False)"
   ]
  },
  {
   "cell_type": "markdown",
   "id": "ce297b9b",
   "metadata": {},
   "source": [
    "## What percentage of transfers contain attachments for each supplier Pathway?"
   ]
  },
  {
   "cell_type": "code",
   "execution_count": null,
   "id": "1e05b6ad",
   "metadata": {},
   "outputs": [
    {
     "data": {
      "text/html": [
       "<div>\n",
       "<style scoped>\n",
       "    .dataframe tbody tr th:only-of-type {\n",
       "        vertical-align: middle;\n",
       "    }\n",
       "\n",
       "    .dataframe tbody tr th {\n",
       "        vertical-align: top;\n",
       "    }\n",
       "\n",
       "    .dataframe thead th {\n",
       "        text-align: right;\n",
       "    }\n",
       "</style>\n",
       "<table border=\"1\" class=\"dataframe\">\n",
       "  <thead>\n",
       "    <tr style=\"text-align: right;\">\n",
       "      <th></th>\n",
       "      <th></th>\n",
       "      <th>% with Attachments</th>\n",
       "      <th>Av attachments for transfers with attachments</th>\n",
       "    </tr>\n",
       "    <tr>\n",
       "      <th>sending_supplier</th>\n",
       "      <th>requesting_supplier</th>\n",
       "      <th></th>\n",
       "      <th></th>\n",
       "    </tr>\n",
       "  </thead>\n",
       "  <tbody>\n",
       "    <tr>\n",
       "      <th rowspan=\"3\" valign=\"top\">EMIS</th>\n",
       "      <th>EMIS</th>\n",
       "      <td>45.5</td>\n",
       "      <td>73.9</td>\n",
       "    </tr>\n",
       "    <tr>\n",
       "      <th>SystmOne</th>\n",
       "      <td>46.8</td>\n",
       "      <td>65.9</td>\n",
       "    </tr>\n",
       "    <tr>\n",
       "      <th>Vision</th>\n",
       "      <td>3.3</td>\n",
       "      <td>61.9</td>\n",
       "    </tr>\n",
       "    <tr>\n",
       "      <th rowspan=\"3\" valign=\"top\">SystmOne</th>\n",
       "      <th>EMIS</th>\n",
       "      <td>80.9</td>\n",
       "      <td>49.4</td>\n",
       "    </tr>\n",
       "    <tr>\n",
       "      <th>SystmOne</th>\n",
       "      <td>0.0</td>\n",
       "      <td>0.0</td>\n",
       "    </tr>\n",
       "    <tr>\n",
       "      <th>Vision</th>\n",
       "      <td>13.3</td>\n",
       "      <td>49.0</td>\n",
       "    </tr>\n",
       "    <tr>\n",
       "      <th rowspan=\"3\" valign=\"top\">Vision</th>\n",
       "      <th>EMIS</th>\n",
       "      <td>5.6</td>\n",
       "      <td>27.4</td>\n",
       "    </tr>\n",
       "    <tr>\n",
       "      <th>SystmOne</th>\n",
       "      <td>7.0</td>\n",
       "      <td>27.7</td>\n",
       "    </tr>\n",
       "    <tr>\n",
       "      <th>Vision</th>\n",
       "      <td>0.0</td>\n",
       "      <td>0.0</td>\n",
       "    </tr>\n",
       "  </tbody>\n",
       "</table>\n",
       "</div>"
      ],
      "text/plain": [
       "                                      % with Attachments  \\\n",
       "sending_supplier requesting_supplier                       \n",
       "EMIS             EMIS                               45.5   \n",
       "                 SystmOne                           46.8   \n",
       "                 Vision                              3.3   \n",
       "SystmOne         EMIS                               80.9   \n",
       "                 SystmOne                            0.0   \n",
       "                 Vision                             13.3   \n",
       "Vision           EMIS                                5.6   \n",
       "                 SystmOne                            7.0   \n",
       "                 Vision                              0.0   \n",
       "\n",
       "                                      Av attachments for transfers with attachments  \n",
       "sending_supplier requesting_supplier                                                 \n",
       "EMIS             EMIS                                                          73.9  \n",
       "                 SystmOne                                                      65.9  \n",
       "                 Vision                                                        61.9  \n",
       "SystmOne         EMIS                                                          49.4  \n",
       "                 SystmOne                                                       0.0  \n",
       "                 Vision                                                        49.0  \n",
       "Vision           EMIS                                                          27.4  \n",
       "                 SystmOne                                                      27.7  \n",
       "                 Vision                                                         0.0  "
      ]
     },
     "execution_count": 12,
     "metadata": {},
     "output_type": "execute_result"
    }
   ],
   "source": [
    "supplier_table=full_transfers.groupby(['sending_supplier','requesting_supplier']).agg({'Contains Attachments':'mean','Number of Attachments':'mean'})\n",
    "supplier_table=supplier_table.rename({'Contains Attachments':'% with Attachments','Number of Attachments':'Av attachments for transfers with attachments'},axis=1)\n",
    "supplier_table['% with Attachments']=supplier_table['% with Attachments'].multiply(100)\n",
    "supplier_table.fillna(0).round(1)"
   ]
  },
  {
   "cell_type": "markdown",
   "id": "70a4d506",
   "metadata": {},
   "source": [
    "## What % of transfers contain attachments for the practices in question?"
   ]
  },
  {
   "cell_type": "code",
   "execution_count": null,
   "id": "af11de34",
   "metadata": {},
   "outputs": [
    {
     "data": {
      "text/html": [
       "<div>\n",
       "<style scoped>\n",
       "    .dataframe tbody tr th:only-of-type {\n",
       "        vertical-align: middle;\n",
       "    }\n",
       "\n",
       "    .dataframe tbody tr th {\n",
       "        vertical-align: top;\n",
       "    }\n",
       "\n",
       "    .dataframe thead th {\n",
       "        text-align: right;\n",
       "    }\n",
       "</style>\n",
       "<table border=\"1\" class=\"dataframe\">\n",
       "  <thead>\n",
       "    <tr style=\"text-align: right;\">\n",
       "      <th></th>\n",
       "      <th></th>\n",
       "      <th></th>\n",
       "      <th></th>\n",
       "      <th>Number of Transfers</th>\n",
       "      <th>% of Transfers with Attachments</th>\n",
       "      <th>Av. Attachments for attachment transfers</th>\n",
       "    </tr>\n",
       "    <tr>\n",
       "      <th>sending_ods_code</th>\n",
       "      <th>sending_practice_name</th>\n",
       "      <th>sending_supplier</th>\n",
       "      <th>requesting_supplier</th>\n",
       "      <th></th>\n",
       "      <th></th>\n",
       "      <th></th>\n",
       "    </tr>\n",
       "  </thead>\n",
       "  <tbody>\n",
       "    <tr>\n",
       "      <th rowspan=\"3\" valign=\"top\">L81040</th>\n",
       "      <th rowspan=\"3\" valign=\"top\">CLEVEDON MEDICAL CENTRE</th>\n",
       "      <th rowspan=\"3\" valign=\"top\">EMIS</th>\n",
       "      <th>EMIS</th>\n",
       "      <td>81</td>\n",
       "      <td>55.1</td>\n",
       "      <td>83.0</td>\n",
       "    </tr>\n",
       "    <tr>\n",
       "      <th>SystmOne</th>\n",
       "      <td>10</td>\n",
       "      <td>43.5</td>\n",
       "      <td>63.3</td>\n",
       "    </tr>\n",
       "    <tr>\n",
       "      <th>Vision</th>\n",
       "      <td>0</td>\n",
       "      <td>0.0</td>\n",
       "      <td>0.0</td>\n",
       "    </tr>\n",
       "    <tr>\n",
       "      <th rowspan=\"3\" valign=\"top\">G85039</th>\n",
       "      <th rowspan=\"3\" valign=\"top\">PAXTON GREEN GROUP PRACTICE</th>\n",
       "      <th rowspan=\"3\" valign=\"top\">EMIS</th>\n",
       "      <th>EMIS</th>\n",
       "      <td>96</td>\n",
       "      <td>37.2</td>\n",
       "      <td>59.0</td>\n",
       "    </tr>\n",
       "    <tr>\n",
       "      <th>SystmOne</th>\n",
       "      <td>21</td>\n",
       "      <td>29.2</td>\n",
       "      <td>56.0</td>\n",
       "    </tr>\n",
       "    <tr>\n",
       "      <th>Vision</th>\n",
       "      <td>0</td>\n",
       "      <td>0.0</td>\n",
       "      <td>0.0</td>\n",
       "    </tr>\n",
       "    <tr>\n",
       "      <th rowspan=\"3\" valign=\"top\">H81128</th>\n",
       "      <th rowspan=\"3\" valign=\"top\">VINE MEDICAL CENTRE</th>\n",
       "      <th rowspan=\"3\" valign=\"top\">EMIS</th>\n",
       "      <th>EMIS</th>\n",
       "      <td>24</td>\n",
       "      <td>48.0</td>\n",
       "      <td>54.7</td>\n",
       "    </tr>\n",
       "    <tr>\n",
       "      <th>SystmOne</th>\n",
       "      <td>6</td>\n",
       "      <td>35.3</td>\n",
       "      <td>58.0</td>\n",
       "    </tr>\n",
       "    <tr>\n",
       "      <th>Vision</th>\n",
       "      <td>0</td>\n",
       "      <td>0.0</td>\n",
       "      <td>0.0</td>\n",
       "    </tr>\n",
       "  </tbody>\n",
       "</table>\n",
       "</div>"
      ],
      "text/plain": [
       "                                                                                   Number of Transfers  \\\n",
       "sending_ods_code sending_practice_name       sending_supplier requesting_supplier                        \n",
       "L81040           CLEVEDON MEDICAL CENTRE     EMIS             EMIS                                  81   \n",
       "                                                              SystmOne                              10   \n",
       "                                                              Vision                                 0   \n",
       "G85039           PAXTON GREEN GROUP PRACTICE EMIS             EMIS                                  96   \n",
       "                                                              SystmOne                              21   \n",
       "                                                              Vision                                 0   \n",
       "H81128           VINE MEDICAL CENTRE         EMIS             EMIS                                  24   \n",
       "                                                              SystmOne                               6   \n",
       "                                                              Vision                                 0   \n",
       "\n",
       "                                                                                   % of Transfers with Attachments  \\\n",
       "sending_ods_code sending_practice_name       sending_supplier requesting_supplier                                    \n",
       "L81040           CLEVEDON MEDICAL CENTRE     EMIS             EMIS                                            55.1   \n",
       "                                                              SystmOne                                        43.5   \n",
       "                                                              Vision                                           0.0   \n",
       "G85039           PAXTON GREEN GROUP PRACTICE EMIS             EMIS                                            37.2   \n",
       "                                                              SystmOne                                        29.2   \n",
       "                                                              Vision                                           0.0   \n",
       "H81128           VINE MEDICAL CENTRE         EMIS             EMIS                                            48.0   \n",
       "                                                              SystmOne                                        35.3   \n",
       "                                                              Vision                                           0.0   \n",
       "\n",
       "                                                                                   Av. Attachments for attachment transfers  \n",
       "sending_ods_code sending_practice_name       sending_supplier requesting_supplier                                            \n",
       "L81040           CLEVEDON MEDICAL CENTRE     EMIS             EMIS                                                     83.0  \n",
       "                                                              SystmOne                                                 63.3  \n",
       "                                                              Vision                                                    0.0  \n",
       "G85039           PAXTON GREEN GROUP PRACTICE EMIS             EMIS                                                     59.0  \n",
       "                                                              SystmOne                                                 56.0  \n",
       "                                                              Vision                                                    0.0  \n",
       "H81128           VINE MEDICAL CENTRE         EMIS             EMIS                                                     54.7  \n",
       "                                                              SystmOne                                                 58.0  \n",
       "                                                              Vision                                                    0.0  "
      ]
     },
     "execution_count": 13,
     "metadata": {},
     "output_type": "execute_result"
    }
   ],
   "source": [
    "practices={'Clevedon Medical Centre':'L81040','Paxton Green Group Practice':'G85039','Vine Medical Centre':'H81128'}\n",
    "practice_counts=full_transfers.groupby(['sending_ods_code','sending_practice_name','sending_supplier','requesting_supplier']).agg({'Contains Attachments':['sum','mean'],'Number of Attachments':'mean'})\n",
    "practice_counts.columns=['Number of Transfers','% of Transfers with Attachments','Av. Attachments for attachment transfers']\n",
    "#practice_counts=practice_counts.loc[practices.values()]\n",
    "practice_counts['% of Transfers with Attachments']=practice_counts['% of Transfers with Attachments'].multiply(100)\n",
    "practice_counts.loc[practices.values()].fillna(0).round(1)"
   ]
  },
  {
   "cell_type": "markdown",
   "id": "0ed01737",
   "metadata": {},
   "source": [
    "## Is the use of Docman based on the individual practice?"
   ]
  },
  {
   "cell_type": "code",
   "execution_count": null,
   "id": "9ee4ecf4",
   "metadata": {},
   "outputs": [
    {
     "data": {
      "text/plain": [
       "Text(0, 0.5, 'Number of EMIS Practices')"
      ]
     },
     "execution_count": 14,
     "metadata": {},
     "output_type": "execute_result"
    },
    {
     "data": {
      "image/png": "[encoded data removed]",
      "text/plain": [
       "<Figure size 432x288 with 1 Axes>"
      ]
     },
     "metadata": {
      "needs_background": "light"
     },
     "output_type": "display_data"
    }
   ],
   "source": [
    "practice_table=practice_counts.reset_index()\n",
    "supplier_filter=(practice_table['sending_supplier']=='EMIS') & (practice_table['requesting_supplier']=='SystmOne')\n",
    "count_filter=practice_table['Number of Transfers']>10\n",
    "ax= practice_table.loc[supplier_filter & count_filter,'% of Transfers with Attachments'].plot.hist()\n",
    "ax.set_xlabel(\"% of EMIS to TPP Transfers with Attachments (min 10 Transfers)\")\n",
    "ax.set_ylabel(\"Number of EMIS Practices\")"
   ]
  },
  {
   "cell_type": "code",
   "execution_count": null,
   "id": "74d0abd5",
   "metadata": {},
   "outputs": [
    {
     "data": {
      "text/plain": [
       "Text(0, 0.5, 'Number of TPP Practices')"
      ]
     },
     "execution_count": 15,
     "metadata": {},
     "output_type": "execute_result"
    },
    {
     "data": {
      "image/png": "[encoded data removed]",
      "text/plain": [
       "<Figure size 432x288 with 1 Axes>"
      ]
     },
     "metadata": {
      "needs_background": "light"
     },
     "output_type": "display_data"
    }
   ],
   "source": [
    "practice_table=practice_counts.reset_index()\n",
    "supplier_filter=(practice_table['sending_supplier']=='SystmOne') & (practice_table['requesting_supplier']=='EMIS')\n",
    "count_filter=practice_table['Number of Transfers']>10\n",
    "ax=practice_table.loc[supplier_filter & count_filter,'% of Transfers with Attachments'].plot.hist()\n",
    "ax.set_xlabel(\"% of TPP to EMIS Transfers with Attachments (min 10 Transfers)\")\n",
    "ax.set_ylabel(\"Number of TPP Practices\")"
   ]
  },
  {
   "cell_type": "markdown",
   "id": "763fff6b",
   "metadata": {},
   "source": [
    "### Is there a difference in the types of attachments by supplier?"
   ]
  },
  {
   "cell_type": "code",
   "execution_count": 22,
   "id": "eb6451d1",
   "metadata": {},
   "outputs": [
    {
     "data": {
      "text/html": [
       "<div>\n",
       "<style scoped>\n",
       "    .dataframe tbody tr th:only-of-type {\n",
       "        vertical-align: middle;\n",
       "    }\n",
       "\n",
       "    .dataframe tbody tr th {\n",
       "        vertical-align: top;\n",
       "    }\n",
       "\n",
       "    .dataframe thead th {\n",
       "        text-align: right;\n",
       "    }\n",
       "</style>\n",
       "<table border=\"1\" class=\"dataframe\">\n",
       "  <thead>\n",
       "    <tr style=\"text-align: right;\">\n",
       "      <th>attachmentType</th>\n",
       "      <th>cid</th>\n",
       "      <th>mid</th>\n",
       "    </tr>\n",
       "    <tr>\n",
       "      <th>FromSystem</th>\n",
       "      <th></th>\n",
       "      <th></th>\n",
       "    </tr>\n",
       "  </thead>\n",
       "  <tbody>\n",
       "    <tr>\n",
       "      <th>EMIS Web</th>\n",
       "      <td>68.607298</td>\n",
       "      <td>31.392702</td>\n",
       "    </tr>\n",
       "    <tr>\n",
       "      <th>SystmOne</th>\n",
       "      <td>72.054064</td>\n",
       "      <td>27.945936</td>\n",
       "    </tr>\n",
       "    <tr>\n",
       "      <th>Vision 3</th>\n",
       "      <td>80.785406</td>\n",
       "      <td>19.214594</td>\n",
       "    </tr>\n",
       "  </tbody>\n",
       "</table>\n",
       "</div>"
      ],
      "text/plain": [
       "attachmentType        cid        mid\n",
       "FromSystem                          \n",
       "EMIS Web        68.607298  31.392702\n",
       "SystmOne        72.054064  27.945936\n",
       "Vision 3        80.785406  19.214594"
      ]
     },
     "execution_count": 22,
     "metadata": {},
     "output_type": "execute_result"
    }
   ],
   "source": [
    "attachmentType_table=attachments_real.pivot_table(index='FromSystem',columns='attachmentType',aggfunc='count',values='conversationID')\n",
    "attachmentType_table.div(attachmentType_table.sum(axis=1),axis=0).multiply(100)"
   ]
  },
  {
   "cell_type": "code",
   "execution_count": 21,
   "id": "9c04d10c",
   "metadata": {},
   "outputs": [
    {
     "name": "stderr",
     "output_type": "stream",
     "text": [
      "/home/ec2-user/anaconda3/envs/python3/lib/python3.6/site-packages/ipykernel/__main__.py:1: SettingWithCopyWarning: \n",
      "A value is trying to be set on a copy of a slice from a DataFrame.\n",
      "Try using .loc[row_indexer,col_indexer] = value instead\n",
      "\n",
      "See the caveats in the documentation: https://pandas.pydata.org/pandas-docs/stable/user_guide/indexing.html#returning-a-view-versus-a-copy\n",
      "  if __name__ == '__main__':\n"
     ]
    },
    {
     "data": {
      "text/html": [
       "<div>\n",
       "<style scoped>\n",
       "    .dataframe tbody tr th:only-of-type {\n",
       "        vertical-align: middle;\n",
       "    }\n",
       "\n",
       "    .dataframe tbody tr th {\n",
       "        vertical-align: top;\n",
       "    }\n",
       "\n",
       "    .dataframe thead th {\n",
       "        text-align: right;\n",
       "    }\n",
       "</style>\n",
       "<table border=\"1\" class=\"dataframe\">\n",
       "  <thead>\n",
       "    <tr style=\"text-align: right;\">\n",
       "      <th>ContentType (high-level)</th>\n",
       "      <th>NotProvided</th>\n",
       "      <th>application</th>\n",
       "      <th>audio</th>\n",
       "      <th>image</th>\n",
       "      <th>text</th>\n",
       "    </tr>\n",
       "    <tr>\n",
       "      <th>FromSystem</th>\n",
       "      <th></th>\n",
       "      <th></th>\n",
       "      <th></th>\n",
       "      <th></th>\n",
       "      <th></th>\n",
       "    </tr>\n",
       "  </thead>\n",
       "  <tbody>\n",
       "    <tr>\n",
       "      <th>EMIS Web</th>\n",
       "      <td>NaN</td>\n",
       "      <td>18.982652</td>\n",
       "      <td>0.000956</td>\n",
       "      <td>52.184794</td>\n",
       "      <td>28.831597</td>\n",
       "    </tr>\n",
       "    <tr>\n",
       "      <th>SystmOne</th>\n",
       "      <td>0.000876</td>\n",
       "      <td>23.196859</td>\n",
       "      <td>0.002526</td>\n",
       "      <td>63.168726</td>\n",
       "      <td>13.631013</td>\n",
       "    </tr>\n",
       "    <tr>\n",
       "      <th>Vision 3</th>\n",
       "      <td>NaN</td>\n",
       "      <td>31.649238</td>\n",
       "      <td>NaN</td>\n",
       "      <td>59.678336</td>\n",
       "      <td>8.672426</td>\n",
       "    </tr>\n",
       "  </tbody>\n",
       "</table>\n",
       "</div>"
      ],
      "text/plain": [
       "ContentType (high-level)  NotProvided  application     audio      image  \\\n",
       "FromSystem                                                                \n",
       "EMIS Web                          NaN    18.982652  0.000956  52.184794   \n",
       "SystmOne                     0.000876    23.196859  0.002526  63.168726   \n",
       "Vision 3                          NaN    31.649238       NaN  59.678336   \n",
       "\n",
       "ContentType (high-level)       text  \n",
       "FromSystem                           \n",
       "EMIS Web                  28.831597  \n",
       "SystmOne                  13.631013  \n",
       "Vision 3                   8.672426  "
      ]
     },
     "execution_count": 21,
     "metadata": {},
     "output_type": "execute_result"
    }
   ],
   "source": [
    "attachments_real['ContentType (high-level)']=attachments_real['ContentType'].apply(lambda x: x.split('/')[0] if type(x) is str else x)\n",
    "ContentType_table=attachments_real.pivot_table(index='FromSystem',columns='ContentType (high-level)',aggfunc='count',values='conversationID')\n",
    "ContentType_table.div(ContentType_table.sum(axis=1),axis=0).multiply(100)"
   ]
  },
  {
   "cell_type": "code",
   "execution_count": 23,
   "id": "5504a3b4",
   "metadata": {},
   "outputs": [
    {
     "data": {
      "text/html": [
       "<div>\n",
       "<style scoped>\n",
       "    .dataframe tbody tr th:only-of-type {\n",
       "        vertical-align: middle;\n",
       "    }\n",
       "\n",
       "    .dataframe tbody tr th {\n",
       "        vertical-align: top;\n",
       "    }\n",
       "\n",
       "    .dataframe thead th {\n",
       "        text-align: right;\n",
       "    }\n",
       "</style>\n",
       "<table border=\"1\" class=\"dataframe\">\n",
       "  <thead>\n",
       "    <tr style=\"text-align: right;\">\n",
       "      <th>ContentType</th>\n",
       "      <th>NotProvided</th>\n",
       "      <th>application/msword</th>\n",
       "      <th>application/octet-stream</th>\n",
       "      <th>application/pdf</th>\n",
       "      <th>application/xml</th>\n",
       "      <th>audio/basic</th>\n",
       "      <th>audio/mpeg</th>\n",
       "      <th>image/gif</th>\n",
       "      <th>image/jpeg</th>\n",
       "      <th>image/png</th>\n",
       "      <th>image/tiff</th>\n",
       "      <th>text/html</th>\n",
       "      <th>text/plain</th>\n",
       "      <th>text/rtf</th>\n",
       "      <th>text/xml</th>\n",
       "    </tr>\n",
       "    <tr>\n",
       "      <th>FromSystem</th>\n",
       "      <th></th>\n",
       "      <th></th>\n",
       "      <th></th>\n",
       "      <th></th>\n",
       "      <th></th>\n",
       "      <th></th>\n",
       "      <th></th>\n",
       "      <th></th>\n",
       "      <th></th>\n",
       "      <th></th>\n",
       "      <th></th>\n",
       "      <th></th>\n",
       "      <th></th>\n",
       "      <th></th>\n",
       "      <th></th>\n",
       "    </tr>\n",
       "  </thead>\n",
       "  <tbody>\n",
       "    <tr>\n",
       "      <th>EMIS Web</th>\n",
       "      <td>NaN</td>\n",
       "      <td>7.300382</td>\n",
       "      <td>1.788283</td>\n",
       "      <td>8.138307</td>\n",
       "      <td>1.755681</td>\n",
       "      <td>0.000111</td>\n",
       "      <td>0.000845</td>\n",
       "      <td>0.002961</td>\n",
       "      <td>1.306540</td>\n",
       "      <td>1.691274</td>\n",
       "      <td>49.184019</td>\n",
       "      <td>1.097884</td>\n",
       "      <td>5.140432</td>\n",
       "      <td>22.593282</td>\n",
       "      <td>NaN</td>\n",
       "    </tr>\n",
       "    <tr>\n",
       "      <th>SystmOne</th>\n",
       "      <td>0.000876</td>\n",
       "      <td>17.479603</td>\n",
       "      <td>2.490629</td>\n",
       "      <td>3.226626</td>\n",
       "      <td>NaN</td>\n",
       "      <td>0.002380</td>\n",
       "      <td>0.000146</td>\n",
       "      <td>0.001577</td>\n",
       "      <td>5.977323</td>\n",
       "      <td>12.919104</td>\n",
       "      <td>44.270722</td>\n",
       "      <td>2.908177</td>\n",
       "      <td>2.997260</td>\n",
       "      <td>7.401316</td>\n",
       "      <td>0.324260</td>\n",
       "    </tr>\n",
       "    <tr>\n",
       "      <th>Vision 3</th>\n",
       "      <td>NaN</td>\n",
       "      <td>26.989088</td>\n",
       "      <td>4.461241</td>\n",
       "      <td>0.198909</td>\n",
       "      <td>NaN</td>\n",
       "      <td>NaN</td>\n",
       "      <td>NaN</td>\n",
       "      <td>NaN</td>\n",
       "      <td>0.386451</td>\n",
       "      <td>0.511480</td>\n",
       "      <td>58.780405</td>\n",
       "      <td>3.966811</td>\n",
       "      <td>1.460559</td>\n",
       "      <td>2.994999</td>\n",
       "      <td>0.250057</td>\n",
       "    </tr>\n",
       "  </tbody>\n",
       "</table>\n",
       "</div>"
      ],
      "text/plain": [
       "ContentType  NotProvided  application/msword  application/octet-stream  \\\n",
       "FromSystem                                                               \n",
       "EMIS Web             NaN            7.300382                  1.788283   \n",
       "SystmOne        0.000876           17.479603                  2.490629   \n",
       "Vision 3             NaN           26.989088                  4.461241   \n",
       "\n",
       "ContentType  application/pdf  application/xml  audio/basic  audio/mpeg  \\\n",
       "FromSystem                                                               \n",
       "EMIS Web            8.138307         1.755681     0.000111    0.000845   \n",
       "SystmOne            3.226626              NaN     0.002380    0.000146   \n",
       "Vision 3            0.198909              NaN          NaN         NaN   \n",
       "\n",
       "ContentType  image/gif  image/jpeg  image/png  image/tiff  text/html  \\\n",
       "FromSystem                                                             \n",
       "EMIS Web      0.002961    1.306540   1.691274   49.184019   1.097884   \n",
       "SystmOne      0.001577    5.977323  12.919104   44.270722   2.908177   \n",
       "Vision 3           NaN    0.386451   0.511480   58.780405   3.966811   \n",
       "\n",
       "ContentType  text/plain   text/rtf  text/xml  \n",
       "FromSystem                                    \n",
       "EMIS Web       5.140432  22.593282       NaN  \n",
       "SystmOne       2.997260   7.401316  0.324260  \n",
       "Vision 3       1.460559   2.994999  0.250057  "
      ]
     },
     "execution_count": 23,
     "metadata": {},
     "output_type": "execute_result"
    }
   ],
   "source": [
    "ContentType_table=attachments_real.pivot_table(index='FromSystem',columns='ContentType',aggfunc='count',values='conversationID')\n",
    "ContentType_table.div(ContentType_table.sum(axis=1),axis=0).multiply(100)"
   ]
  },
  {
   "cell_type": "code",
   "execution_count": null,
   "id": "102e41a2",
   "metadata": {},
   "outputs": [],
   "source": []
  }
 ],
 "metadata": {
  "kernelspec": {
   "display_name": "conda_python3",
   "language": "python",
   "name": "conda_python3"
  },
  "language_info": {
   "codemirror_mode": {
    "name": "ipython",
    "version": 3
   },
   "file_extension": ".py",
   "mimetype": "text/x-python",
   "name": "python",
   "nbconvert_exporter": "python",
   "pygments_lexer": "ipython3",
   "version": "3.6.13"
  }
 },
 "nbformat": 4,
 "nbformat_minor": 5
}
