{
 "cells": [
  {
   "cell_type": "markdown",
   "id": "0ddcb6c4",
   "metadata": {},
   "source": [
    "# PRMT-2319 Produce transfer samples for EMIS and Vision issues\n",
    "\n",
    "## Context \n",
    "We have seen a spike in GP2GP failures in the month of July. We have identified some specific error codes per supplier pathway that contribute to a high proportion of the increase. We want to produce transfer samples for these to send to suppliers to investigate. \n",
    "\n",
    "## Scope\n",
    "Create samples of 20 for the following transfers (pathway is sender - requester), in the last month:\n",
    "- EMIS - EMIS: Sender not Large Message compliant (error 23)\n",
    "- Vision - EMIS: Sender not Large Message compliant (error 23)\n",
    "- EMIS - EMIS: Final error: timeout (error 25)\n",
    "- TPP - EMIS: Final error: timeout (error 25)\n",
    "- EMIS - EMIS: Core extract not sent with Spine error (error 20)\n",
    "- EMIS-EMIS \"Sender check indicates that Requester is not the patient’s current healthcare provider\" (error 19)\n",
    "- All suppliers: a range of Spine errors from the month of May"
   ]
  },
  {
   "cell_type": "code",
   "execution_count": null,
   "id": "8c459495",
   "metadata": {},
   "outputs": [],
   "source": [
    "import pandas as pd"
   ]
  },
  {
   "cell_type": "markdown",
   "id": "2fe763e3",
   "metadata": {},
   "source": [
    "### Load July 2021 data"
   ]
  },
  {
   "cell_type": "code",
   "execution_count": null,
   "id": "9899faf6",
   "metadata": {},
   "outputs": [],
   "source": [
    "july_transfer_data_file = \"s3://prm-gp2gp-transfer-data-preprod/v4/2021/7/transfers.parquet\"\n",
    "july_transfers = pd.read_parquet(july_transfer_data_file)"
   ]
  },
  {
   "cell_type": "markdown",
   "id": "be312358",
   "metadata": {},
   "source": [
    "### EMIS - EMIS: Sender not Large Message compliant (error 23)"
   ]
  },
  {
   "cell_type": "code",
   "execution_count": null,
   "id": "165256ce",
   "metadata": {},
   "outputs": [],
   "source": [
    "emis_sender_bool = july_transfers[\"sending_supplier\"]==\"EMIS\"\n",
    "emis_requester_bool = july_transfers[\"requesting_supplier\"]==\"EMIS\"\n",
    "fatal_sender_error_bool = july_transfers[\"failure_reason\"]==\"Contains Fatal Sender Error\"\n",
    "sender_error_23_bool = july_transfers[\"sender_error_codes\"].apply(lambda error_codes: 23 in error_codes)\n",
    "emis_transfers_with_error_23 = july_transfers[emis_sender_bool & emis_requester_bool & fatal_sender_error_bool & sender_error_23_bool]\n",
    "emis_transfers_with_error_23.sample(20)"
   ]
  },
  {
   "cell_type": "markdown",
   "id": "e6d1e63c",
   "metadata": {},
   "source": [
    "### Vision - EMIS: Sender not Large Message compliant (error 23)"
   ]
  },
  {
   "cell_type": "code",
   "execution_count": null,
   "id": "12a98ebf",
   "metadata": {},
   "outputs": [],
   "source": [
    "vision_sender_bool = july_transfers[\"sending_supplier\"]==\"Vision\"\n",
    "vision_transfers_with_error_23 = july_transfers[vision_sender_bool & emis_requester_bool & sender_error_23_bool]\n",
    "vision_transfers_with_error_23.sample(20)"
   ]
  },
  {
   "cell_type": "markdown",
   "id": "a33d4739",
   "metadata": {},
   "source": [
    "### EMIS - EMIS: Final error: timeout (error 25)"
   ]
  },
  {
   "cell_type": "code",
   "execution_count": null,
   "id": "fea2449c",
   "metadata": {},
   "outputs": [],
   "source": [
    "final_error_25_bool = july_transfers[\"final_error_codes\"].apply(lambda error_codes: 25 in error_codes)\n",
    "final_error_bool = july_transfers[\"failure_reason\"]==\"Final Error\"\n",
    "emis_transfers_with_error_25 = july_transfers[emis_sender_bool & emis_requester_bool & final_error_bool & final_error_25_bool] \n",
    "emis_transfers_with_error_25.sample(20)"
   ]
  },
  {
   "cell_type": "markdown",
   "id": "793e6d2c",
   "metadata": {},
   "source": [
    "### TPP - EMIS: Final error: timeout (error 25)"
   ]
  },
  {
   "cell_type": "code",
   "execution_count": null,
   "id": "d826ba18",
   "metadata": {},
   "outputs": [],
   "source": [
    "tpp_sender_bool = july_transfers[\"sending_supplier\"]==\"SystmOne\"\n",
    "emis_tpp_transfers_with_error_25 = july_transfers[tpp_sender_bool & emis_requester_bool & final_error_bool & final_error_25_bool] \n",
    "emis_tpp_transfers_with_error_25.sample(20)"
   ]
  },
  {
   "cell_type": "markdown",
   "id": "c0dc1d5d",
   "metadata": {},
   "source": [
    "### EMIS - EMIS: Core extract not sent with Spine error (error 20)"
   ]
  },
  {
   "cell_type": "code",
   "execution_count": null,
   "id": "3bdecb11",
   "metadata": {},
   "outputs": [],
   "source": [
    "core_extract_not_sent_bool = july_transfers[\"failure_reason\"]==\"Core Extract not Sent\"\n",
    "sender_error_20_bool = july_transfers[\"sender_error_codes\"].apply(lambda error_codes: 20 in error_codes)\n",
    "emis_transfers_with_error_20 = july_transfers[emis_sender_bool & emis_requester_bool & core_extract_not_sent_bool & sender_error_20_bool]\n",
    "emis_transfers_with_error_20.sample(20)"
   ]
  },
  {
   "cell_type": "markdown",
   "id": "98d3d4ba",
   "metadata": {},
   "source": [
    "### EMIS-EMIS error 19"
   ]
  },
  {
   "cell_type": "code",
   "execution_count": null,
   "id": "1ac36f02",
   "metadata": {},
   "outputs": [],
   "source": [
    "sender_error_19_bool = july_transfers[\"sender_error_codes\"].apply(lambda error_codes: 19 in error_codes)\n",
    "emis_transfers_with_error_19 = july_transfers[emis_sender_bool & emis_requester_bool & sender_error_19_bool]\n",
    "emis_transfers_with_error_19.sample(20)"
   ]
  },
  {
   "cell_type": "markdown",
   "id": "ab1b4ea9",
   "metadata": {},
   "source": [
    "### EMIS - EMIS: Core extract not sent with Spine error (error 20) - May 2021"
   ]
  },
  {
   "cell_type": "code",
   "execution_count": null,
   "id": "ef99a7bd",
   "metadata": {},
   "outputs": [],
   "source": [
    "may_transfer_data_file = \"s3://prm-gp2gp-transfer-data-preprod/v4/2021/5/transfers.parquet\"\n",
    "may_transfers = pd.read_parquet(may_transfer_data_file)"
   ]
  },
  {
   "cell_type": "code",
   "execution_count": null,
   "id": "8ad9a300",
   "metadata": {},
   "outputs": [],
   "source": [
    "emis_sender_bool = may_transfers[\"sending_supplier\"]==\"EMIS\"\n",
    "emis_requester_bool = may_transfers[\"requesting_supplier\"]==\"EMIS\"\n",
    "core_extract_not_sent_bool = may_transfers[\"failure_reason\"]==\"Core Extract not Sent\"\n",
    "sender_error_20_bool = may_transfers[\"sender_error_codes\"].apply(lambda error_codes: 20 in error_codes)\n",
    "emis_transfers_with_error_20 = may_transfers[emis_sender_bool & emis_requester_bool & core_extract_not_sent_bool & sender_error_20_bool]\n",
    "emis_transfers_with_error_20.sample(10)"
   ]
  },
  {
   "cell_type": "markdown",
   "id": "50d33cf9",
   "metadata": {},
   "source": [
    "### TPP - EMIS: Core extract not sent with Spine error (error 20) - May 2021"
   ]
  },
  {
   "cell_type": "code",
   "execution_count": null,
   "id": "8e27337c",
   "metadata": {},
   "outputs": [],
   "source": [
    "tpp_sender_bool = may_transfers[\"sending_supplier\"]==\"SystmOne\"\n",
    "tpp_transfers_with_error_20 = may_transfers[tpp_sender_bool & emis_requester_bool & core_extract_not_sent_bool & sender_error_20_bool]\n",
    "tpp_transfers_with_error_20.sample(10)"
   ]
  },
  {
   "cell_type": "code",
   "execution_count": null,
   "id": "f28cea3a",
   "metadata": {},
   "outputs": [],
   "source": []
  }
 ],
 "metadata": {
  "kernelspec": {
   "display_name": "conda_python3",
   "language": "python",
   "name": "conda_python3"
  },
  "language_info": {
   "codemirror_mode": {
    "name": "ipython",
    "version": 3
   },
   "file_extension": ".py",
   "mimetype": "text/x-python",
   "name": "python",
   "nbconvert_exporter": "python",
   "pygments_lexer": "ipython3",
   "version": "3.6.13"
  }
 },
 "nbformat": 4,
 "nbformat_minor": 5
}
