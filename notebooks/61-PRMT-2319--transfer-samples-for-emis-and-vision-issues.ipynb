{
 "cells": [
  {
   "cell_type": "markdown",
   "id": "130e8f4f",
   "metadata": {},
   "source": [
    "# PRMT-2319 Produce transfer samples for EMIS and Vision issues\n",
    "\n",
    "## Context \n",
    "We have seen a spike in GP2GP failures in the month of July. We have identified some specific error codes per supplier pathway that contribute to a high proportion of the increase. We want to produce transfer samples for these to send to suppliers to investigate. \n",
    "\n",
    "## Scope\n",
    "Create samples of 20 for the following transfers, in the last month:\n",
    "- EMIS - EMIS: Sender not Large Message compliant (error 23)\n",
    "- Vision - EMIS: Sender not Large Message compliant (error 23)\n",
    "- EMIS - EMIS: Final error: timeout (error 25)\n",
    "- EMIS - TPP: Final error: timeout (error 25)\n",
    "- EMIS - EMIS: Core extract not sent with Spine error (error 20)\n",
    "- All suppliers: a range of Spine errors from the month of May"
   ]
  },
  {
   "cell_type": "code",
   "execution_count": null,
   "id": "b870acb2",
   "metadata": {},
   "outputs": [],
   "source": [
    "import pandas as pd"
   ]
  },
  {
   "cell_type": "markdown",
   "id": "7614e045",
   "metadata": {},
   "source": [
    "### Load July 2021 data"
   ]
  },
  {
   "cell_type": "code",
   "execution_count": null,
   "id": "a44f2b5e",
   "metadata": {},
   "outputs": [],
   "source": [
    "july_transfer_data_file = \"s3://prm-gp2gp-transfer-data-preprod/v4/2021/7/transfers.parquet\"\n",
    "july_transfers = pd.read_parquet(july_transfer_data_file)"
   ]
  },
  {
   "cell_type": "markdown",
   "id": "4f0b6d40",
   "metadata": {},
   "source": [
    "### EMIS - EMIS: Sender not Large Message compliant (error 23)"
   ]
  },
  {
   "cell_type": "code",
   "execution_count": null,
   "id": "b2519b6b",
   "metadata": {},
   "outputs": [],
   "source": [
    "emis_sender_bool = july_transfers[\"sending_supplier\"]==\"EMIS\"\n",
    "emis_requester_bool = july_transfers[\"requesting_supplier\"]==\"EMIS\"\n",
    "fatal_sender_error_bool = july_transfers[\"failure_reason\"]==\"Contains Fatal Sender Error\"\n",
    "sender_error_23_bool = july_transfers[\"sender_error_codes\"].apply(lambda error_codes: 23 in error_codes)\n",
    "emis_transfers_with_error_23 = july_transfers[emis_sender_bool & emis_requester_bool & fatal_sender_error_bool & sender_error_23_bool]\n",
    "emis_transfers_with_error_23.sample(20)"
   ]
  },
  {
   "cell_type": "markdown",
   "id": "1f9579dd",
   "metadata": {},
   "source": [
    "### Vision - EMIS: Sender not Large Message compliant (error 23)"
   ]
  },
  {
   "cell_type": "code",
   "execution_count": null,
   "id": "f053e683",
   "metadata": {},
   "outputs": [],
   "source": [
    "vision_sender_bool = july_transfers[\"sending_supplier\"]==\"Vision\"\n",
    "vision_transfers_with_error_23 = july_transfers[vision_sender_bool & emis_requester_bool & sender_error_23_bool]\n",
    "vision_transfers_with_error_23.sample(20)"
   ]
  },
  {
   "cell_type": "markdown",
   "id": "1797f6ff",
   "metadata": {},
   "source": [
    "### EMIS - EMIS: Final error: timeout (error 25)"
   ]
  },
  {
   "cell_type": "code",
   "execution_count": null,
   "id": "02df127c",
   "metadata": {},
   "outputs": [],
   "source": [
    "final_error_25_bool = july_transfers[\"final_error_codes\"].apply(lambda error_codes: 25 in error_codes)\n",
    "final_error_bool = july_transfers[\"failure_reason\"]==\"Final Error\"\n",
    "emis_transfers_with_error_25 = july_transfers[emis_sender_bool & emis_requester_bool & final_error_bool & final_error_25_bool] \n",
    "emis_transfers_with_error_25.sample(20)"
   ]
  },
  {
   "cell_type": "markdown",
   "id": "7c52d0dc",
   "metadata": {},
   "source": [
    "### EMIS - TPP: Final error: timeout (error 25)"
   ]
  },
  {
   "cell_type": "code",
   "execution_count": null,
   "id": "b58da73b",
   "metadata": {},
   "outputs": [],
   "source": [
    "tpp_requester_bool = july_transfers[\"requesting_supplier\"]==\"SystmOne\"\n",
    "emis_tpp_transfers_with_error_25 = july_transfers[emis_sender_bool & tpp_requester_bool & final_error_bool & final_error_25_bool] \n",
    "emis_tpp_transfers_with_error_25.sample(20)"
   ]
  },
  {
   "cell_type": "markdown",
   "id": "5ccf9433",
   "metadata": {},
   "source": [
    "### EMIS - EMIS: Core extract not sent with Spine error (error 20)"
   ]
  },
  {
   "cell_type": "code",
   "execution_count": null,
   "id": "1a588b18",
   "metadata": {},
   "outputs": [],
   "source": [
    "core_extract_not_sent_bool = july_transfers[\"failure_reason\"]==\"Core Extract not Sent\"\n",
    "sender_error_20_bool = july_transfers[\"sender_error_codes\"].apply(lambda error_codes: 20 in error_codes)\n",
    "emis_transfers_with_error_20 = july_transfers[emis_sender_bool & emis_requester_bool & core_extract_not_sent_bool & sender_error_20_bool]\n",
    "emis_transfers_with_error_20.sample(20)"
   ]
  },
  {
   "cell_type": "markdown",
   "id": "3c6ff43f",
   "metadata": {},
   "source": [
    "### EMIS - EMIS: Core extract not sent with Spine error (error 20) - May 2021"
   ]
  },
  {
   "cell_type": "code",
   "execution_count": null,
   "id": "1925f003",
   "metadata": {},
   "outputs": [],
   "source": [
    "may_transfer_data_file = \"s3://prm-gp2gp-transfer-data-preprod/v4/2021/5/transfers.parquet\"\n",
    "may_transfers = pd.read_parquet(may_transfer_data_file)"
   ]
  },
  {
   "cell_type": "code",
   "execution_count": null,
   "id": "9c55d24e",
   "metadata": {},
   "outputs": [],
   "source": [
    "emis_sender_bool = may_transfers[\"sending_supplier\"]==\"EMIS\"\n",
    "emis_requester_bool = may_transfers[\"requesting_supplier\"]==\"EMIS\"\n",
    "core_extract_not_sent_bool = may_transfers[\"failure_reason\"]==\"Core Extract not Sent\"\n",
    "sender_error_20_bool = may_transfers[\"sender_error_codes\"].apply(lambda error_codes: 20 in error_codes)\n",
    "emis_transfers_with_error_20 = may_transfers[emis_sender_bool & emis_requester_bool & core_extract_not_sent_bool & sender_error_20_bool]\n",
    "emis_transfers_with_error_20.sample(10)"
   ]
  },
  {
   "cell_type": "markdown",
   "id": "e674621a",
   "metadata": {},
   "source": [
    "### TPP - EMIS: Core extract not sent with Spine error (error 20) - May 2021"
   ]
  },
  {
   "cell_type": "code",
   "execution_count": null,
   "id": "25b78c3c",
   "metadata": {},
   "outputs": [],
   "source": [
    "tpp_sender_bool = may_transfers[\"sending_supplier\"]==\"SystmOne\"\n",
    "tpp_transfers_with_error_20 = may_transfers[tpp_sender_bool & emis_requester_bool & core_extract_not_sent_bool & sender_error_20_bool]\n",
    "tpp_transfers_with_error_20.sample(10)"
   ]
  },
  {
   "cell_type": "code",
   "execution_count": null,
   "id": "61d0fcd6",
   "metadata": {},
   "outputs": [],
   "source": []
  }
 ],
 "metadata": {
  "kernelspec": {
   "display_name": "conda_python3",
   "language": "python",
   "name": "conda_python3"
  },
  "language_info": {
   "codemirror_mode": {
    "name": "ipython",
    "version": 3
   },
   "file_extension": ".py",
   "mimetype": "text/x-python",
   "name": "python",
   "nbconvert_exporter": "python",
   "pygments_lexer": "ipython3",
   "version": "3.6.13"
  }
 },
 "nbformat": 4,
 "nbformat_minor": 5
}
