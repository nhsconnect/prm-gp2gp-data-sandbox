{
 "cells": [
  {
   "cell_type": "markdown",
   "id": "0b09a91c",
   "metadata": {},
   "source": [
    "# Hypothesis: Are digitised practices causing more failures?\n",
    "\n",
    "Off the notebook PRMT-2332: validating the revised output.\n",
    "- Write some validation that supplier is the same in both dataset\n",
    "- Compare with Excel: GP Practice list sent by CCG"
   ]
  },
  {
   "cell_type": "code",
   "execution_count": 1,
   "id": "8139c6be",
   "metadata": {},
   "outputs": [],
   "source": [
    "import pandas as pd\n",
    "import numpy as np\n",
    "import paths\n",
    "from data.practice_metadata import read_asid_metadata"
   ]
  },
  {
   "cell_type": "code",
   "execution_count": 2,
   "id": "7ef337f2",
   "metadata": {},
   "outputs": [],
   "source": [
    "asid_lookup=read_asid_metadata(\"prm-gp2gp-ods-metadata-preprod\", \"v2/2021/8/organisationMetadata.json\")\n",
    "\n",
    "transfer_file_location = \"s3://prm-gp2gp-transfer-data-preprod/v4/\"\n",
    "\n",
    "transfer_files = [\n",
    "    \"2021/5/transfers.parquet\",\n",
    "    \"2021/6/transfers.parquet\",\n",
    "    \"2021/7/transfers.parquet\"\n",
    "]\n",
    "transfer_input_files = [transfer_file_location + f for f in transfer_files]\n",
    "\n",
    "transfers_raw = pd.concat((\n",
    "    pd.read_parquet(f)\n",
    "    for f in transfer_input_files\n",
    "))\n",
    "\n",
    "transfers = transfers_raw\\\n",
    "    .join(asid_lookup.add_prefix(\"requesting_\"), on=\"requesting_practice_asid\", how=\"left\")\\\n",
    "    .join(asid_lookup.add_prefix(\"sending_\"), on=\"sending_practice_asid\", how=\"left\")\\\n",
    "\n",
    "transfers['month']=transfers['date_requested'].dt.to_period('M')"
   ]
  },
  {
   "cell_type": "code",
   "execution_count": 3,
   "id": "9523075e",
   "metadata": {},
   "outputs": [],
   "source": [
    "def generate_monthly_outcome_breakdown(transfers, columns):\n",
    "    total_transfers = (\n",
    "        transfers\n",
    "            .groupby(columns)\n",
    "            .size()\n",
    "            .to_frame(\"Total Transfers\")\n",
    "    )\n",
    "    \n",
    "    transfer_outcomes=pd.pivot_table(\n",
    "        transfers,\n",
    "        index=columns,\n",
    "        columns=[\"status\"],\n",
    "        aggfunc='size'\n",
    "    )\n",
    "    \n",
    "\n",
    "    transfer_outcomes_pc = (\n",
    "        transfer_outcomes\n",
    "            .div(total_transfers[\"Total Transfers\"],axis=0)\n",
    "            .multiply(100)\n",
    "            .round(2)\n",
    "            .add_suffix(\" %\")\n",
    "    )\n",
    "    \n",
    "    failed_transfers = (\n",
    "        transfers\n",
    "            .assign(failed_transfer=transfers[\"status\"] != \"INTEGRATED_ON_TIME\")\n",
    "            .groupby(columns)\n",
    "            .agg({'failed_transfer': 'sum'})\n",
    "            .rename(columns={'failed_transfer': 'ALL_FAILURE'})\n",
    "    )\n",
    "    \n",
    "    failed_transfers_pc = (\n",
    "        failed_transfers\n",
    "            .div(total_transfers[\"Total Transfers\"],axis=0)\n",
    "            .multiply(100)\n",
    "            .round(2)\n",
    "            .add_suffix(\" %\")\n",
    "    )\n",
    "    \n",
    "    \n",
    "\n",
    "    return pd.concat([\n",
    "        total_transfers,\n",
    "        transfer_outcomes,\n",
    "        failed_transfers,\n",
    "        transfer_outcomes_pc,\n",
    "        failed_transfers_pc,\n",
    "    ],axis=1).fillna(0)\n"
   ]
  },
  {
   "cell_type": "markdown",
   "id": "c4042e77",
   "metadata": {},
   "source": [
    "## Generate national transfer outcomes"
   ]
  },
  {
   "cell_type": "code",
   "execution_count": 4,
   "id": "b05d3f67",
   "metadata": {},
   "outputs": [],
   "source": [
    "national_metrics_monthly=generate_monthly_outcome_breakdown(transfers, [\"month\"])"
   ]
  },
  {
   "cell_type": "markdown",
   "id": "f7867b19",
   "metadata": {},
   "source": [
    "## Generate digitised CCG transfer outcomes"
   ]
  },
  {
   "cell_type": "code",
   "execution_count": 5,
   "id": "e39fed48",
   "metadata": {},
   "outputs": [],
   "source": [
    "ccgs_to_investigate = [\n",
    "    \"NHS SUNDERLAND CCG\",\n",
    "    'NHS FYLDE AND WYRE CCG',\n",
    "    'NHS CHORLEY AND SOUTH RIBBLE CCG',\n",
    "    'NHS BLACKPOOL CCG',\n",
    "    'NHS BIRMINGHAM AND SOLIHULL CCG'\n",
    "]\n",
    "is_requesting_ccg_of_interest = transfers.requesting_ccg_name.isin(ccgs_to_investigate)\n",
    "is_sending_ccg_of_interest = transfers.sending_ccg_name.isin(ccgs_to_investigate)\n",
    "\n",
    "requesting_transfers_of_interest = transfers[is_requesting_ccg_of_interest]\n",
    "sending_transfers_of_interest = transfers[is_sending_ccg_of_interest]"
   ]
  },
  {
   "cell_type": "markdown",
   "id": "0c897933",
   "metadata": {},
   "source": [
    "### Requesting CCGs (Digitised)"
   ]
  },
  {
   "cell_type": "code",
   "execution_count": 6,
   "id": "6fa36856",
   "metadata": {},
   "outputs": [],
   "source": [
    "requesting_ccgs_monthly=generate_monthly_outcome_breakdown(\n",
    "    transfers=requesting_transfers_of_interest,\n",
    "    columns=[\"requesting_ccg_name\", \"month\"]\n",
    ")"
   ]
  },
  {
   "cell_type": "markdown",
   "id": "f23030ce",
   "metadata": {},
   "source": [
    "### Sending CCGs (Digitised)"
   ]
  },
  {
   "cell_type": "code",
   "execution_count": 7,
   "id": "5f1abc69",
   "metadata": {},
   "outputs": [],
   "source": [
    "sending_ccgs_monthly=generate_monthly_outcome_breakdown(\n",
    "    transfers=sending_transfers_of_interest,\n",
    "    columns=[\"sending_ccg_name\", \"month\"]\n",
    ")"
   ]
  },
  {
   "cell_type": "markdown",
   "id": "5ab8ae4c",
   "metadata": {},
   "source": [
    "### Requesting practices (digitised)"
   ]
  },
  {
   "cell_type": "code",
   "execution_count": 8,
   "id": "335fa095",
   "metadata": {},
   "outputs": [],
   "source": [
    "requesting_practices_monthly=generate_monthly_outcome_breakdown(\n",
    "    transfers=requesting_transfers_of_interest,\n",
    "    columns=[\"requesting_ccg_name\", \"requesting_practice_name\", \"requesting_practice_ods_code\", \"requesting_supplier\", \"month\"]\n",
    ")"
   ]
  },
  {
   "cell_type": "markdown",
   "id": "09c33575",
   "metadata": {},
   "source": [
    "### Sending practices (digitised)"
   ]
  },
  {
   "cell_type": "code",
   "execution_count": 9,
   "id": "5f32f83e",
   "metadata": {},
   "outputs": [],
   "source": [
    "sending_practices_monthly=generate_monthly_outcome_breakdown(\n",
    "    transfers=sending_transfers_of_interest,\n",
    "    columns=[\"sending_ccg_name\", \"sending_practice_name\", \"sending_practice_ods_code\", \"sending_supplier\", \"month\"]\n",
    ")"
   ]
  },
  {
   "cell_type": "markdown",
   "id": "29906715",
   "metadata": {},
   "source": [
    "## Validation"
   ]
  },
  {
   "cell_type": "markdown",
   "id": "9417c82e",
   "metadata": {},
   "source": [
    "### Comparing supplier names do not change between requesting and sending "
   ]
  },
  {
   "cell_type": "code",
   "execution_count": 10,
   "id": "973eaf8a",
   "metadata": {},
   "outputs": [],
   "source": [
    "sending_practices_monthly_flat = sending_practices_monthly.reset_index().set_index(\"sending_practice_ods_code\")\n",
    "requesting_practices_monthly_flat = requesting_practices_monthly.reset_index().set_index(\"requesting_practice_ods_code\")\n",
    "sending_practices_monthly_flat = sending_practices_monthly_flat[[\"sending_supplier\"]]\n",
    "requesting_practices_monthly_flat = requesting_practices_monthly_flat[[\"requesting_supplier\"]]"
   ]
  },
  {
   "cell_type": "code",
   "execution_count": 11,
   "id": "920f4c7c",
   "metadata": {},
   "outputs": [
    {
     "data": {
      "text/plain": [
       "EMIS        1804\n",
       "SystmOne     459\n",
       "Vision        31\n",
       "Name: sending_supplier, dtype: int64"
      ]
     },
     "execution_count": 11,
     "metadata": {},
     "output_type": "execute_result"
    }
   ],
   "source": [
    "all_practices_monthly_flat = sending_practices_monthly_flat.join(requesting_practices_monthly_flat, how=\"outer\")\n",
    "all_practices_monthly_flat[\"sending_supplier\"].value_counts()"
   ]
  },
  {
   "cell_type": "code",
   "execution_count": 12,
   "id": "b374ab75",
   "metadata": {},
   "outputs": [
    {
     "data": {
      "text/plain": [
       "EMIS        1804\n",
       "SystmOne     459\n",
       "Vision        31\n",
       "Name: requesting_supplier, dtype: int64"
      ]
     },
     "execution_count": 12,
     "metadata": {},
     "output_type": "execute_result"
    }
   ],
   "source": [
    "all_practices_monthly_flat[\"requesting_supplier\"].value_counts()"
   ]
  },
  {
   "cell_type": "code",
   "execution_count": 13,
   "id": "78da61b6",
   "metadata": {},
   "outputs": [
    {
     "data": {
      "text/plain": [
       "True    2294\n",
       "dtype: int64"
      ]
     },
     "execution_count": 13,
     "metadata": {},
     "output_type": "execute_result"
    }
   ],
   "source": [
    "same_supplier_bool = all_practices_monthly_flat[\"sending_supplier\"] == all_practices_monthly_flat[\"requesting_supplier\"]\n",
    "same_supplier_bool.value_counts()"
   ]
  },
  {
   "cell_type": "markdown",
   "id": "c04a83d0",
   "metadata": {},
   "source": [
    "This indicates that the sending supplier and requesting supplier names match"
   ]
  },
  {
   "cell_type": "markdown",
   "id": "5112f448",
   "metadata": {},
   "source": [
    "### Comparing supplier names against provided GP practice list"
   ]
  },
  {
   "cell_type": "code",
   "execution_count": 14,
   "id": "43978121",
   "metadata": {},
   "outputs": [],
   "source": [
    "provided_gp_list = pd.read_csv(\"s3://prm-gp2gp-notebook-data-prod/PRMT-2332-Lloyd-George-digitalisation/GP-Practice-list.csv\")\n",
    "provided_gp_list = provided_gp_list.set_index(\"NACS\")"
   ]
  },
  {
   "cell_type": "code",
   "execution_count": 15,
   "id": "fe91e675",
   "metadata": {},
   "outputs": [],
   "source": [
    "provided_practices_monthly = provided_gp_list.join(all_practices_monthly_flat, how=\"left\", rsuffix=\"_provided\")"
   ]
  },
  {
   "cell_type": "code",
   "execution_count": 16,
   "id": "771cd86d",
   "metadata": {},
   "outputs": [
    {
     "data": {
      "text/plain": [
       "EMIS        913\n",
       "SystmOne    459\n",
       "Vision       31\n",
       "Name: Clinical System, dtype: int64"
      ]
     },
     "execution_count": 16,
     "metadata": {},
     "output_type": "execute_result"
    }
   ],
   "source": [
    "provided_practices_monthly['Clinical System'].value_counts()"
   ]
  },
  {
   "cell_type": "code",
   "execution_count": 17,
   "id": "65249c37",
   "metadata": {},
   "outputs": [
    {
     "data": {
      "text/plain": [
       "True     1402\n",
       "False       1\n",
       "dtype: int64"
      ]
     },
     "execution_count": 17,
     "metadata": {},
     "output_type": "execute_result"
    }
   ],
   "source": [
    "same_provided_supplier_bool = provided_practices_monthly['Clinical System'] == provided_practices_monthly[\"requesting_supplier\"]\n",
    "same_provided_supplier_bool.value_counts()"
   ]
  },
  {
   "cell_type": "markdown",
   "id": "fb7c61f1",
   "metadata": {},
   "source": [
    "#### Looking at the one practice with mismatch of supplier names"
   ]
  },
  {
   "cell_type": "code",
   "execution_count": 19,
   "id": "574b36a8",
   "metadata": {},
   "outputs": [
    {
     "data": {
      "text/html": [
       "<div>\n",
       "<style scoped>\n",
       "    .dataframe tbody tr th:only-of-type {\n",
       "        vertical-align: middle;\n",
       "    }\n",
       "\n",
       "    .dataframe tbody tr th {\n",
       "        vertical-align: top;\n",
       "    }\n",
       "\n",
       "    .dataframe thead th {\n",
       "        text-align: right;\n",
       "    }\n",
       "</style>\n",
       "<table border=\"1\" class=\"dataframe\">\n",
       "  <thead>\n",
       "    <tr style=\"text-align: right;\">\n",
       "      <th></th>\n",
       "      <th>Practice</th>\n",
       "      <th>Clinical System</th>\n",
       "      <th>requesting_supplier</th>\n",
       "      <th>sending_supplier</th>\n",
       "    </tr>\n",
       "  </thead>\n",
       "  <tbody>\n",
       "    <tr>\n",
       "      <th>Y01057</th>\n",
       "      <td>The Health Xchange</td>\n",
       "      <td>EMIS</td>\n",
       "      <td>NaN</td>\n",
       "      <td>NaN</td>\n",
       "    </tr>\n",
       "  </tbody>\n",
       "</table>\n",
       "</div>"
      ],
      "text/plain": [
       "                   Practice Clinical System requesting_supplier  \\\n",
       "Y01057  The Health Xchange             EMIS                 NaN   \n",
       "\n",
       "       sending_supplier  \n",
       "Y01057              NaN  "
      ]
     },
     "execution_count": 19,
     "metadata": {},
     "output_type": "execute_result"
    }
   ],
   "source": [
    "missing = provided_practices_monthly[same_provided_supplier_bool == False]\n",
    "missing[['Practice', 'Clinical System', 'requesting_supplier', 'sending_supplier']]"
   ]
  },
  {
   "cell_type": "markdown",
   "id": "4376546a",
   "metadata": {},
   "source": [
    "## Conclusion\n",
    "The output from PRMT-2332 (revised edition) appears to not have the issue where supplier names are different between sending and requesting. Also compared with the provided GP practice list - the supplier names do match (all apart from one - The Health Xchange where we do not have data on this practice)"
   ]
  },
  {
   "cell_type": "code",
   "execution_count": null,
   "id": "94327ef6",
   "metadata": {},
   "outputs": [],
   "source": []
  }
 ],
 "metadata": {
  "kernelspec": {
   "display_name": "conda_python3",
   "language": "python",
   "name": "conda_python3"
  },
  "language_info": {
   "codemirror_mode": {
    "name": "ipython",
    "version": 3
   },
   "file_extension": ".py",
   "mimetype": "text/x-python",
   "name": "python",
   "nbconvert_exporter": "python",
   "pygments_lexer": "ipython3",
   "version": "3.6.13"
  }
 },
 "nbformat": 4,
 "nbformat_minor": 5
}
