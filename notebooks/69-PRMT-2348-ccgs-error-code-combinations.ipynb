{
 "cells": [
  {
   "cell_type": "markdown",
   "id": "47a5cdac",
   "metadata": {},
   "source": [
    "# PRMT-2348 Analyse specific CCG data\n",
    "\n",
    "We’ve done some initial analysis to understand if CCGs undergoing Lloyd George digitisation are generating more failures than the national average - (PRMT 2332). There are a couple of CCGs (shown below) that show they are above average for certain types of failures. This story is to look more in depth for these CCGs at their reasons for failures.\n",
    "\n",
    "Create the error code combinations table (PRMT 2269) for the following CCGs, with a separate table for May, June, and July\n",
    "\n",
    "- Fylde and Wyre\n",
    "- Birmingham and Solihull"
   ]
  },
  {
   "cell_type": "code",
   "execution_count": 1,
   "id": "28b5b53a",
   "metadata": {},
   "outputs": [],
   "source": [
    "import pandas as pd \n",
    "import numpy as np\n",
    "from sklearn.preprocessing import MultiLabelBinarizer\n",
    "import paths\n",
    "from data.practice_metadata import read_asid_metadata\n",
    "from data import gp2gp_response_codes"
   ]
  },
  {
   "cell_type": "code",
   "execution_count": 2,
   "id": "657c065e",
   "metadata": {},
   "outputs": [],
   "source": [
    "asid_lookup=read_asid_metadata(\"prm-gp2gp-ods-metadata-preprod\", \"v2/2021/7/organisationMetadata.json\")\n",
    "\n",
    "transfer_file_location = \"s3://prm-gp2gp-transfer-data-preprod/v4/2021/\"\n",
    "\n",
    "transfer_files = [\n",
    "    \"5/transfers.parquet\",\n",
    "    \"6/transfers.parquet\",\n",
    "    \"7/transfers.parquet\",\n",
    "]\n",
    "transfer_input_files = [transfer_file_location + f for f in transfer_files]\n",
    "\n",
    "transfers_raw = pd.concat((\n",
    "    pd.read_parquet(f)\n",
    "    for f in transfer_input_files\n",
    "))\n",
    "\n",
    "transfers = transfers_raw\\\n",
    "    .join(asid_lookup.add_prefix(\"requesting_\"), on=\"requesting_practice_asid\", how=\"left\")\\\n",
    "    .join(asid_lookup.add_prefix(\"sending_\"), on=\"sending_practice_asid\", how=\"left\")\\\n",
    "\n",
    "transfers['month']=transfers['date_requested'].dt.to_period('M')\n",
    "transfers[\"status\"] = transfers[\"status\"].str.replace(\"_\", \" \").str.title()\n",
    "\n",
    "# Supplier name mapping\n",
    "supplier_renaming = {\n",
    "    \"SystmOne\":\"TPP\",\n",
    "    None: \"Unknown\"\n",
    "}\n",
    "\n",
    "transfers[\"sending_supplier\"] = transfers[\"sending_supplier\"].replace(supplier_renaming.keys(), supplier_renaming.values())\n",
    "transfers[\"requesting_supplier\"] = transfers[\"requesting_supplier\"].replace(supplier_renaming.keys(), supplier_renaming.values())"
   ]
  },
  {
   "cell_type": "code",
   "execution_count": 3,
   "id": "4b45b6fd",
   "metadata": {},
   "outputs": [],
   "source": [
    "# Filter transfers \n",
    "ccgs_interested_in = ['NHS Fylde and Wyre CCG'.upper(), 'NHS Birmingham and Solihull CCG'.upper()]\n",
    "sending_ccg_transfers = transfers[transfers['sending_ccg_name'].isin(ccgs_interested_in)].copy()\n",
    "requesting_ccg_transfers = transfers[transfers['requesting_ccg_name'].isin(ccgs_interested_in)].copy()"
   ]
  },
  {
   "cell_type": "code",
   "execution_count": 4,
   "id": "fc922faf",
   "metadata": {},
   "outputs": [],
   "source": [
    "error_code_lookup_file = pd.read_csv(gp2gp_response_codes.path)\n",
    "error_code_lookup = error_code_lookup_file.set_index(\"ErrorCode\")[\"ErrorName\"]"
   ]
  },
  {
   "cell_type": "code",
   "execution_count": 5,
   "id": "5fcb73d7",
   "metadata": {},
   "outputs": [],
   "source": [
    "def convert_error_list_to_tuple(error_code_list, error_code_type):\n",
    "    return [(error_code_type, error_code, error_code_lookup[error_code]) for error_code in set(error_code_list) if not np.isnan(error_code)]\n",
    "    \n",
    "def combine_error_codes(row):\n",
    "    sender_list = convert_error_list_to_tuple(row[\"sender_error_codes\"], \"Sender\")\n",
    "    intermediate_list = convert_error_list_to_tuple(row[\"intermediate_error_codes\"], \"COPC\")\n",
    "    final_list = convert_error_list_to_tuple(row[\"final_error_codes\"], \"Final\")\n",
    "    full_error_code_list = sender_list + intermediate_list + final_list\n",
    "    if len(full_error_code_list) == 0:\n",
    "        return tuple([(\"No Error Code\", \"No Error\", \"N/A\")])\n",
    "    else:\n",
    "        return tuple(full_error_code_list)\n",
    "    \n",
    "sending_ccg_transfers[\"all_error_codes\"] = sending_ccg_transfers.apply(combine_error_codes, axis=1)\n",
    "requesting_ccg_transfers[\"all_error_codes\"] = requesting_ccg_transfers.apply(combine_error_codes, axis=1)"
   ]
  },
  {
   "cell_type": "code",
   "execution_count": 6,
   "id": "c498c84d",
   "metadata": {},
   "outputs": [],
   "source": [
    "def binarized_error_codes(table_sample):\n",
    "# keeping this in case we want to consolidate error codes based on the int value rather then combined with error code type\n",
    "    table_sample[\"error_code_list\"]=table_sample[\"all_error_codes\"].apply(lambda error_tuple_list: [error_tuple[1] for error_tuple in error_tuple_list if type(error_tuple[1])!=str])\n",
    "\n",
    "    # split out error codes so we can use them to filter\n",
    "    mlb = MultiLabelBinarizer()\n",
    "    binarized = mlb.fit_transform(table_sample[\"error_code_list\"])\n",
    "    binarized_error_occurences = pd.DataFrame(data=binarized, columns=mlb.classes_, index=table_sample.index)\n",
    "\n",
    "    return pd.concat([table_sample, binarized_error_occurences], axis=1).drop('error_code_list',axis=1)\n",
    "    "
   ]
  },
  {
   "cell_type": "code",
   "execution_count": 7,
   "id": "9f3add36",
   "metadata": {},
   "outputs": [],
   "source": [
    "def generate_high_level_table(transfers_sample, practice_type, ccg_name_field):\n",
    "    # Create High level table\n",
    "    high_level_table=(\n",
    "        transfers_sample\n",
    "                .fillna(\"N/A\")\n",
    "                .groupby([ccg_name_field,practice_type,\"requesting_supplier\",\"sending_supplier\",\"status\",\"failure_reason\",\"all_error_codes\"])\n",
    "                .size()\n",
    "                .to_frame(\"Number of Transfers\").reset_index()\n",
    "    )\n",
    "    \n",
    "    # Count % of transfers\n",
    "    total_number_transfers = transfers_sample.shape[0]\n",
    "    high_level_table[\"% of Transfers\"]=(\n",
    "        high_level_table[\"Number of Transfers\"]/total_number_transfers\n",
    "        ).multiply(100)\n",
    "\n",
    "    # Count by supplier pathway\n",
    "    supplier_pathway_counts = (\n",
    "        transfers_sample\n",
    "            .fillna(\"Unknown\")\n",
    "            .groupby(by=[\"sending_supplier\", \"requesting_supplier\"])\n",
    "            .size()\n",
    "    )\n",
    "    high_level_table[\"% Supplier Pathway Transfers\"]=(\n",
    "        high_level_table\n",
    "            .apply(lambda row: row[\"Number of Transfers\"]/supplier_pathway_counts.loc[(row[\"sending_supplier\"],row[\"requesting_supplier\"])],axis=1)\n",
    "            .multiply(100)\n",
    "    )\n",
    "        \n",
    "    # Add in Paper Fallback columns\n",
    "    total_fallback = transfers_sample[\"failure_reason\"].dropna().shape[0]\n",
    "    fallback_bool=high_level_table[\"status\"]!=\"Integrated On Time\"\n",
    "    high_level_table.loc[fallback_bool,\"% Paper Fallback\"]=(\n",
    "            high_level_table[\"Number of Transfers\"]/total_fallback\n",
    "        ).multiply(100)\n",
    " \n",
    "    \n",
    "    # % of error codes column\n",
    "    no_error_tuple = tuple([(\"No Error Code\", \"No Error\", \"N/A\")])\n",
    "    error_code_bool = transfers_sample[\"all_error_codes\"]!=no_error_tuple\n",
    "    total_number_of_error_code_combinations=error_code_bool.sum()\n",
    "    table_error_code_bool = high_level_table[\"all_error_codes\"]!=no_error_tuple\n",
    "    high_level_table.loc[table_error_code_bool,\"% of error codes\"]=(\n",
    "            high_level_table.loc[table_error_code_bool, \"Number of Transfers\"]/total_number_of_error_code_combinations\n",
    "        ).multiply(100)\n",
    "    \n",
    "    # Select and re-order table\n",
    "    grouping_columns_order=[ccg_name_field,practice_type,\"requesting_supplier\",\"sending_supplier\",\"status\",\"failure_reason\", \"all_error_codes\"]\n",
    "    counting_columns_order=[\"Number of Transfers\",\"% of Transfers\",\"% Supplier Pathway Transfers\",\"% Paper Fallback\",\"% of error codes\"]\n",
    "    high_level_table=(\n",
    "        high_level_table[grouping_columns_order+counting_columns_order]\n",
    "            .sort_values(by=\"Number of Transfers\",ascending=False)\n",
    "    )\n",
    "    \n",
    "    high_level_table=binarized_error_codes(high_level_table)\n",
    "    return high_level_table"
   ]
  },
  {
   "cell_type": "code",
   "execution_count": 8,
   "id": "629e7cdf",
   "metadata": {},
   "outputs": [],
   "source": [
    "with pd.ExcelWriter(\"Error Code Combinations Tables CCG Requester View PRMT-2348.xlsx\") as writer:\n",
    "    generate_high_level_table(requesting_ccg_transfers.copy(), \"requesting_practice_name\", \"requesting_ccg_name\").to_excel(writer, sheet_name=\"All\",index=False)\n",
    "    [generate_high_level_table(requesting_ccg_transfers[(requesting_ccg_transfers['month']==month) & (requesting_ccg_transfers['requesting_ccg_name']==ccg)].copy(),\"requesting_practice_name\",\"requesting_ccg_name\").to_excel(writer, sheet_name=f\"{ccg[0:5]} {month}\",index=False) for month in requesting_ccg_transfers['month'].unique() for ccg in ccgs_interested_in]\n"
   ]
  },
  {
   "cell_type": "code",
   "execution_count": 9,
   "id": "62ec015e",
   "metadata": {},
   "outputs": [],
   "source": [
    "with pd.ExcelWriter(\"Error Code Combinations Tables CCG Sender View PRMT-2348.xlsx\") as writer:\n",
    "    generate_high_level_table(sending_ccg_transfers.copy(), \"sending_practice_name\", \"sending_ccg_name\").to_excel(writer, sheet_name=\"All\",index=False)\n",
    "    [generate_high_level_table(sending_ccg_transfers[(sending_ccg_transfers['month']==month) & (sending_ccg_transfers['sending_ccg_name']==ccg)].copy(),\"sending_practice_name\",\"sending_ccg_name\").to_excel(writer, sheet_name=f\"{ccg[0:5]} {month}\",index=False) for month in sending_ccg_transfers['month'].unique() for ccg in ccgs_interested_in]\n",
    "    "
   ]
  },
  {
   "cell_type": "code",
   "execution_count": null,
   "id": "4d0d2435",
   "metadata": {},
   "outputs": [],
   "source": []
  }
 ],
 "metadata": {
  "kernelspec": {
   "display_name": "conda_python3",
   "language": "python",
   "name": "conda_python3"
  },
  "language_info": {
   "codemirror_mode": {
    "name": "ipython",
    "version": 3
   },
   "file_extension": ".py",
   "mimetype": "text/x-python",
   "name": "python",
   "nbconvert_exporter": "python",
   "pygments_lexer": "ipython3",
   "version": "3.6.13"
  }
 },
 "nbformat": 4,
 "nbformat_minor": 5
}
