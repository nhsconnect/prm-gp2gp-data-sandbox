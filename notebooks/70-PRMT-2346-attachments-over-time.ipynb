{
 "cells": [
  {
   "cell_type": "markdown",
   "id": "2253cb52",
   "metadata": {},
   "source": [
    "# PRMT-2346 Hypothesis: Attachments are increasing in size over time\n",
    "\n",
    "We believe that GP2GP records are getting bigger\n",
    "We will know this to be true when we see either the number of attachments per transfer or the size of attachments increasing over time. \n",
    "\n",
    "Context\n",
    "We see a steady increase of EMIS-TPP Large message general failures over the last 4 months. A hypothesis for this is that records are steadily getting bigger, either in terms of size of attachments or number of attachments. We want to perform analysis to see if in general, the number of attachments per record or the size of attachments is increasing. \n",
    "\n",
    "Scope\n",
    "Look at data for June, July, August\n",
    "\n",
    "Analyse the number and size of attachments across these months.\n",
    "\n",
    "If there is an increase in the number of attachments, what attachment types are we seeing more of? What seem to be the biggest types of attachments?"
   ]
  },
  {
   "cell_type": "code",
   "execution_count": 40,
   "id": "c919408e",
   "metadata": {},
   "outputs": [],
   "source": [
    "import pandas as pd\n",
    "import numpy as np\n",
    "import datetime\n",
    "import matplotlib.pyplot as plt"
   ]
  },
  {
   "cell_type": "markdown",
   "id": "a6e63960",
   "metadata": {},
   "source": [
    "## Load attachment data"
   ]
  },
  {
   "cell_type": "markdown",
   "id": "74cd2c40",
   "metadata": {},
   "source": [
    "1. Log into Splunk and run the following query for:\n",
    "- 01/06/2021 00:00:00:00 to 30/06/2021 24:00:00 (using Date Range) and export the result as a CSV, gzip and name `6-2021-attachment-metadata.csv.gz`\n",
    "- 01/07/2021 00:00:00:00 to 31/07/2021 24:00:00 (using Date Range) and export the result as a CSV, gzip and name `7-2021-attachment-metadata.csv.gz`\n",
    "- 01/08/2021 00:00:00:00 to 31/08/2021 24:00:00 (using Date Range) and export the result as a CSV, gzip and name `8-2021-attachment-metadata.csv.gz`\n",
    "\n",
    "index=\"spine2vfmmonitor\" logReference=MPS0208\n",
    "| table _time, attachmentID, conversationID, FromSystem, ToSystem, attachmentType, Compressed, ContentType, LargeAttachment, Length, OriginalBase64, internalID, DomainData\n",
    "\n",
    "2. Run the following Splunk query for the same time range. Export the results as a csvs named `6-2021-ehr-request-completed-messages.csv`, `7-2021-ehr-request-completed-messages.csv`, `8-2021-ehr-request-completed-messages.csv` and gzip it.\n",
    "\n",
    "index=\"spine2vfmmonitor\" service=\"gp2gp\" logReference=\"MPS0053d\" interactionID=\"urn:nhs:names:services:gp2gp/RCMR_IN030000UK06\"\n",
    "| table _time, conversationID, internalID, interactionID"
   ]
  },
  {
   "cell_type": "code",
   "execution_count": 2,
   "id": "6ff9f660",
   "metadata": {},
   "outputs": [],
   "source": [
    "data_folder=\"s3://prm-gp2gp-notebook-data-prod/PRMT-2351-supplier-attachments/\"\n",
    "attachment_metadata_files = [\n",
    "    \"6-2021-attachment-metadata.csv.gz\",\n",
    "    \"7-2021-attachment-metadata.csv.gz\",\n",
    "    \"8-2021-attachment-metadata.csv.gz\"\n",
    "]\n",
    "\n",
    "attachments = pd.concat([pd.read_csv(data_folder+file, parse_dates=[\"_time\"], na_values=[\"Unknown\"], dtype={\"Length\": pd.Int64Dtype()}) for file in attachment_metadata_files])"
   ]
  },
  {
   "cell_type": "code",
   "execution_count": 3,
   "id": "429f4142",
   "metadata": {},
   "outputs": [],
   "source": [
    "non_core_attachments_bool=attachments['DomainData']!='X-GP2GP-Skeleton: Yes'\n",
    "attachments_real=attachments.loc[non_core_attachments_bool]"
   ]
  },
  {
   "cell_type": "code",
   "execution_count": 4,
   "id": "63b4b0ae",
   "metadata": {},
   "outputs": [],
   "source": [
    "gp2gp_messages_files = [\n",
    "    \"6-2021-ehr-request-completed-messages.csv.gz\",\n",
    "    \"7-2021-ehr-request-completed-messages.csv.gz\",\n",
    "    \"8-2021-ehr-request-completed-messages.csv.gz\"\n",
    "]\n",
    "ehr_request_completed_messages = pd.concat([pd.read_csv(data_folder+file, parse_dates=[\"_time\"]) for file in gp2gp_messages_files])"
   ]
  },
  {
   "cell_type": "markdown",
   "id": "34e581a5",
   "metadata": {},
   "source": [
    "## Deduplicate attachment data"
   ]
  },
  {
   "cell_type": "code",
   "execution_count": 5,
   "id": "c71a7af6",
   "metadata": {},
   "outputs": [],
   "source": [
    "unique_ehr_request_completed_messages = (\n",
    "    ehr_request_completed_messages\n",
    "        .sort_values(by=\"_time\")\n",
    "        .drop_duplicates(subset=[\"conversationID\"], keep=\"last\")\n",
    ")\n",
    "\n",
    "ehr_attachments = pd.merge(attachments_real, unique_ehr_request_completed_messages[[\"internalID\", \"interactionID\"]], on=\"internalID\", how=\"inner\")"
   ]
  },
  {
   "cell_type": "markdown",
   "id": "110e32ac",
   "metadata": {},
   "source": [
    "## A. Attachment sizes over time"
   ]
  },
  {
   "cell_type": "code",
   "execution_count": 6,
   "id": "f774d974",
   "metadata": {},
   "outputs": [
    {
     "name": "stderr",
     "output_type": "stream",
     "text": [
      "/home/ec2-user/anaconda3/envs/python3/lib/python3.6/site-packages/pandas/core/arrays/datetimes.py:1092: UserWarning: Converting to PeriodArray/Index representation will drop timezone information.\n",
      "  UserWarning,\n"
     ]
    }
   ],
   "source": [
    "# Extract month and date from the time stamp. Convert length to MB \n",
    "ehr_attachments['Month'] = ehr_attachments['_time'].dt.to_period('M')\n",
    "ehr_attachments['Date'] = ehr_attachments['_time'].dt.to_period('D')\n",
    "ehr_attachments['Length in MB'] = ehr_attachments[\"Length\"].fillna(0)/(1024**2)"
   ]
  },
  {
   "cell_type": "code",
   "execution_count": 7,
   "id": "298e946d",
   "metadata": {},
   "outputs": [
    {
     "data": {
      "text/plain": [
       "<AxesSubplot:xlabel='Date'>"
      ]
     },
     "execution_count": 7,
     "metadata": {},
     "output_type": "execute_result"
    },
    {
     "data": {
      "image/png": "[encoded data removed]",
      "text/plain": [
       "<Figure size 432x288 with 1 Axes>"
      ]
     },
     "metadata": {
      "needs_background": "light"
     },
     "output_type": "display_data"
    }
   ],
   "source": [
    "# Check avaerage daily attachment size over time\n",
    "ehr_attachments_grouped_by_day = ehr_attachments.groupby(by=\"Date\").agg({\"Length in MB\": \"mean\"})\n",
    "ehr_attachments_grouped_by_day.plot(kind='line')"
   ]
  },
  {
   "cell_type": "code",
   "execution_count": 128,
   "id": "8d5b1818",
   "metadata": {},
   "outputs": [],
   "source": [
    "# Format float outputs to more readable numbers\n",
    "pd.set_option('display.float_format', lambda x: '%.5f' % x)"
   ]
  },
  {
   "cell_type": "code",
   "execution_count": 152,
   "id": "ffc3ce3b",
   "metadata": {},
   "outputs": [
    {
     "data": {
      "text/html": [
       "<div>\n",
       "<style scoped>\n",
       "    .dataframe tbody tr th:only-of-type {\n",
       "        vertical-align: middle;\n",
       "    }\n",
       "\n",
       "    .dataframe tbody tr th {\n",
       "        vertical-align: top;\n",
       "    }\n",
       "\n",
       "    .dataframe thead th {\n",
       "        text-align: right;\n",
       "    }\n",
       "</style>\n",
       "<table border=\"1\" class=\"dataframe\">\n",
       "  <thead>\n",
       "    <tr style=\"text-align: right;\">\n",
       "      <th></th>\n",
       "      <th>June</th>\n",
       "      <th>July</th>\n",
       "      <th>August</th>\n",
       "    </tr>\n",
       "  </thead>\n",
       "  <tbody>\n",
       "    <tr>\n",
       "      <th>count</th>\n",
       "      <td>8557642.00000</td>\n",
       "      <td>8507119.00000</td>\n",
       "      <td>8229793.00000</td>\n",
       "    </tr>\n",
       "    <tr>\n",
       "      <th>mean</th>\n",
       "      <td>0.32457</td>\n",
       "      <td>0.31931</td>\n",
       "      <td>0.32310</td>\n",
       "    </tr>\n",
       "    <tr>\n",
       "      <th>std</th>\n",
       "      <td>1.96605</td>\n",
       "      <td>1.92463</td>\n",
       "      <td>1.89743</td>\n",
       "    </tr>\n",
       "    <tr>\n",
       "      <th>min</th>\n",
       "      <td>0.00000</td>\n",
       "      <td>0.00000</td>\n",
       "      <td>0.00000</td>\n",
       "    </tr>\n",
       "    <tr>\n",
       "      <th>25%</th>\n",
       "      <td>0.01538</td>\n",
       "      <td>0.01534</td>\n",
       "      <td>0.01552</td>\n",
       "    </tr>\n",
       "    <tr>\n",
       "      <th>50%</th>\n",
       "      <td>0.04344</td>\n",
       "      <td>0.04354</td>\n",
       "      <td>0.04396</td>\n",
       "    </tr>\n",
       "    <tr>\n",
       "      <th>75%</th>\n",
       "      <td>0.11906</td>\n",
       "      <td>0.11893</td>\n",
       "      <td>0.12152</td>\n",
       "    </tr>\n",
       "    <tr>\n",
       "      <th>max</th>\n",
       "      <td>528.96182</td>\n",
       "      <td>755.80851</td>\n",
       "      <td>289.18650</td>\n",
       "    </tr>\n",
       "  </tbody>\n",
       "</table>\n",
       "</div>"
      ],
      "text/plain": [
       "               June          July        August\n",
       "count 8557642.00000 8507119.00000 8229793.00000\n",
       "mean        0.32457       0.31931       0.32310\n",
       "std         1.96605       1.92463       1.89743\n",
       "min         0.00000       0.00000       0.00000\n",
       "25%         0.01538       0.01534       0.01552\n",
       "50%         0.04344       0.04354       0.04396\n",
       "75%         0.11906       0.11893       0.12152\n",
       "max       528.96182     755.80851     289.18650"
      ]
     },
     "execution_count": 152,
     "metadata": {},
     "output_type": "execute_result"
    }
   ],
   "source": [
    "# Calculate summary statistics for each month - Attachment sizes\n",
    "\n",
    "june_bool = ehr_attachments['Month'] == \"2021-06\"\n",
    "june_ehr_attachments = ehr_attachments[june_bool]\n",
    "june_ehr_attachments_summary = june_ehr_attachments[[\"Length in MB\"]].describe().rename(columns={\"Length in MB\": \"June\"})\n",
    "\n",
    "july_bool = ehr_attachments['Month'] == \"2021-07\"\n",
    "july_ehr_attachments = ehr_attachments[july_bool]\n",
    "july_ehr_attachments_summary = july_ehr_attachments[[\"Length in MB\"]].describe().rename(columns={\"Length in MB\": \"July\"})\n",
    "\n",
    "august_bool = ehr_attachments['Month'] == \"2021-08\"\n",
    "august_ehr_attachments = ehr_attachments[august_bool]\n",
    "august_ehr_attachments_summary = august_ehr_attachments[[\"Length in MB\"]].describe().rename(columns={\"Length in MB\": \"August\"})\n",
    "\n",
    "pd.concat([june_ehr_attachments_summary, july_ehr_attachments_summary, august_ehr_attachments_summary], axis=1)"
   ]
  },
  {
   "cell_type": "markdown",
   "id": "be241b18",
   "metadata": {},
   "source": [
    "## B. Attachment sizes over time with TPP as sender"
   ]
  },
  {
   "cell_type": "code",
   "execution_count": 151,
   "id": "9a90cf6e",
   "metadata": {},
   "outputs": [
    {
     "name": "stderr",
     "output_type": "stream",
     "text": [
      "/home/ec2-user/anaconda3/envs/python3/lib/python3.6/site-packages/ipykernel/__main__.py:2: UserWarning: Boolean Series key will be reindexed to match DataFrame index.\n",
      "  from ipykernel import kernelapp as app\n",
      "/home/ec2-user/anaconda3/envs/python3/lib/python3.6/site-packages/ipykernel/__main__.py:6: UserWarning: Boolean Series key will be reindexed to match DataFrame index.\n",
      "/home/ec2-user/anaconda3/envs/python3/lib/python3.6/site-packages/ipykernel/__main__.py:9: UserWarning: Boolean Series key will be reindexed to match DataFrame index.\n"
     ]
    },
    {
     "data": {
      "text/html": [
       "<div>\n",
       "<style scoped>\n",
       "    .dataframe tbody tr th:only-of-type {\n",
       "        vertical-align: middle;\n",
       "    }\n",
       "\n",
       "    .dataframe tbody tr th {\n",
       "        vertical-align: top;\n",
       "    }\n",
       "\n",
       "    .dataframe thead th {\n",
       "        text-align: right;\n",
       "    }\n",
       "</style>\n",
       "<table border=\"1\" class=\"dataframe\">\n",
       "  <thead>\n",
       "    <tr style=\"text-align: right;\">\n",
       "      <th></th>\n",
       "      <th>June</th>\n",
       "      <th>July</th>\n",
       "      <th>August</th>\n",
       "    </tr>\n",
       "  </thead>\n",
       "  <tbody>\n",
       "    <tr>\n",
       "      <th>count</th>\n",
       "      <td>1755604.00000</td>\n",
       "      <td>1717241.00000</td>\n",
       "      <td>1684655.00000</td>\n",
       "    </tr>\n",
       "    <tr>\n",
       "      <th>mean</th>\n",
       "      <td>0.48360</td>\n",
       "      <td>0.48260</td>\n",
       "      <td>0.48488</td>\n",
       "    </tr>\n",
       "    <tr>\n",
       "      <th>std</th>\n",
       "      <td>1.42154</td>\n",
       "      <td>1.41345</td>\n",
       "      <td>1.41814</td>\n",
       "    </tr>\n",
       "    <tr>\n",
       "      <th>min</th>\n",
       "      <td>0.00000</td>\n",
       "      <td>0.00000</td>\n",
       "      <td>0.00000</td>\n",
       "    </tr>\n",
       "    <tr>\n",
       "      <th>25%</th>\n",
       "      <td>0.02824</td>\n",
       "      <td>0.02798</td>\n",
       "      <td>0.02801</td>\n",
       "    </tr>\n",
       "    <tr>\n",
       "      <th>50%</th>\n",
       "      <td>0.06790</td>\n",
       "      <td>0.06815</td>\n",
       "      <td>0.06882</td>\n",
       "    </tr>\n",
       "    <tr>\n",
       "      <th>75%</th>\n",
       "      <td>0.32185</td>\n",
       "      <td>0.32273</td>\n",
       "      <td>0.33041</td>\n",
       "    </tr>\n",
       "    <tr>\n",
       "      <th>max</th>\n",
       "      <td>61.34062</td>\n",
       "      <td>61.53141</td>\n",
       "      <td>83.50857</td>\n",
       "    </tr>\n",
       "  </tbody>\n",
       "</table>\n",
       "</div>"
      ],
      "text/plain": [
       "               June          July        August\n",
       "count 1755604.00000 1717241.00000 1684655.00000\n",
       "mean        0.48360       0.48260       0.48488\n",
       "std         1.42154       1.41345       1.41814\n",
       "min         0.00000       0.00000       0.00000\n",
       "25%         0.02824       0.02798       0.02801\n",
       "50%         0.06790       0.06815       0.06882\n",
       "75%         0.32185       0.32273       0.33041\n",
       "max        61.34062      61.53141      83.50857"
      ]
     },
     "execution_count": 151,
     "metadata": {},
     "output_type": "execute_result"
    }
   ],
   "source": [
    "# Calculate summary statistics of attachments with TPP as sender\n",
    "\n",
    "ttp_sender_bool = ehr_attachments[\"FromSystem\"] == \"SystmOne\"\n",
    "\n",
    "tpp_june_attachments = june_ehr_attachments[ttp_sender_bool]\n",
    "tpp_june_summary = tpp_june_attachments[[\"Length in MB\"]].describe().rename(columns={\"Length in MB\": \"June\"})\n",
    "\n",
    "tpp_july_attachments = july_ehr_attachments[ttp_sender_bool]\n",
    "tpp_july_summary = tpp_july_attachments[[\"Length in MB\"]].describe().rename(columns={\"Length in MB\": \"July\"})\n",
    "\n",
    "tpp_august_attachments = august_ehr_attachments[ttp_sender_bool]\n",
    "tpp_august_summary = tpp_august_attachments[[\"Length in MB\"]].describe().rename(columns={\"Length in MB\": \"August\"})\n",
    "\n",
    "pd.concat([tpp_june_summary, tpp_july_summary, tpp_august_summary], axis=1)"
   ]
  },
  {
   "cell_type": "markdown",
   "id": "584ecffb",
   "metadata": {},
   "source": [
    "## C. Number of attachments over time"
   ]
  },
  {
   "cell_type": "code",
   "execution_count": 153,
   "id": "460f1c68",
   "metadata": {},
   "outputs": [],
   "source": [
    "# Group attachements by conversation to get a count of attachments for each\n",
    "ehr_attachments_grouped_by_conversation = ehr_attachments.groupby(by=\"conversationID\").agg({\"Length\": \"count\", \"Date\" : \"max\", \"Month\": \"max\"})"
   ]
  },
  {
   "cell_type": "code",
   "execution_count": 154,
   "id": "01fc0631",
   "metadata": {},
   "outputs": [
    {
     "data": {
      "text/html": [
       "<div>\n",
       "<style scoped>\n",
       "    .dataframe tbody tr th:only-of-type {\n",
       "        vertical-align: middle;\n",
       "    }\n",
       "\n",
       "    .dataframe tbody tr th {\n",
       "        vertical-align: top;\n",
       "    }\n",
       "\n",
       "    .dataframe thead th {\n",
       "        text-align: right;\n",
       "    }\n",
       "</style>\n",
       "<table border=\"1\" class=\"dataframe\">\n",
       "  <thead>\n",
       "    <tr style=\"text-align: right;\">\n",
       "      <th></th>\n",
       "      <th>June</th>\n",
       "      <th>July</th>\n",
       "      <th>August</th>\n",
       "    </tr>\n",
       "  </thead>\n",
       "  <tbody>\n",
       "    <tr>\n",
       "      <th>count</th>\n",
       "      <td>129477.00000</td>\n",
       "      <td>126280.00000</td>\n",
       "      <td>124201.00000</td>\n",
       "    </tr>\n",
       "    <tr>\n",
       "      <th>mean</th>\n",
       "      <td>66.09364</td>\n",
       "      <td>67.36679</td>\n",
       "      <td>66.26146</td>\n",
       "    </tr>\n",
       "    <tr>\n",
       "      <th>std</th>\n",
       "      <td>65.20358</td>\n",
       "      <td>65.23506</td>\n",
       "      <td>64.66335</td>\n",
       "    </tr>\n",
       "    <tr>\n",
       "      <th>min</th>\n",
       "      <td>0.00000</td>\n",
       "      <td>0.00000</td>\n",
       "      <td>0.00000</td>\n",
       "    </tr>\n",
       "    <tr>\n",
       "      <th>25%</th>\n",
       "      <td>25.00000</td>\n",
       "      <td>26.00000</td>\n",
       "      <td>25.00000</td>\n",
       "    </tr>\n",
       "    <tr>\n",
       "      <th>50%</th>\n",
       "      <td>46.00000</td>\n",
       "      <td>48.00000</td>\n",
       "      <td>47.00000</td>\n",
       "    </tr>\n",
       "    <tr>\n",
       "      <th>75%</th>\n",
       "      <td>84.00000</td>\n",
       "      <td>86.00000</td>\n",
       "      <td>84.00000</td>\n",
       "    </tr>\n",
       "    <tr>\n",
       "      <th>max</th>\n",
       "      <td>1484.00000</td>\n",
       "      <td>1156.00000</td>\n",
       "      <td>1340.00000</td>\n",
       "    </tr>\n",
       "  </tbody>\n",
       "</table>\n",
       "</div>"
      ],
      "text/plain": [
       "              June         July       August\n",
       "count 129477.00000 126280.00000 124201.00000\n",
       "mean      66.09364     67.36679     66.26146\n",
       "std       65.20358     65.23506     64.66335\n",
       "min        0.00000      0.00000      0.00000\n",
       "25%       25.00000     26.00000     25.00000\n",
       "50%       46.00000     48.00000     47.00000\n",
       "75%       84.00000     86.00000     84.00000\n",
       "max     1484.00000   1156.00000   1340.00000"
      ]
     },
     "execution_count": 154,
     "metadata": {},
     "output_type": "execute_result"
    }
   ],
   "source": [
    "# Calculate summary statistics for each month - number of attachements\n",
    "\n",
    "june_bool = ehr_attachments_grouped_by_conversation['Month'] == \"2021-06\"\n",
    "june_attachments = ehr_attachments_grouped_by_conversation[june_bool]\n",
    "june_summary = june_attachments.describe().rename(columns={\"Length\": \"June\"})\n",
    "\n",
    "july_bool = ehr_attachments_grouped_by_conversation['Month'] == \"2021-07\"\n",
    "july_attachments = ehr_attachments_grouped_by_conversation[july_bool]\n",
    "july_summary =july_attachments.describe().rename(columns={\"Length\": \"July\"})\n",
    "\n",
    "august_bool = ehr_attachments_grouped_by_conversation['Month'] == \"2021-08\"\n",
    "august_attachments = ehr_attachments_grouped_by_conversation[august_bool]\n",
    "august_summary = august_attachments.describe().rename(columns={\"Length\": \"August\"})\n",
    "\n",
    "pd.concat([june_summary, july_summary, august_summary], axis=1)"
   ]
  },
  {
   "cell_type": "markdown",
   "id": "69059e20",
   "metadata": {},
   "source": [
    "## D. Number of attachments over time with TPP as sender"
   ]
  },
  {
   "cell_type": "code",
   "execution_count": 155,
   "id": "6957a31f",
   "metadata": {},
   "outputs": [
    {
     "data": {
      "text/html": [
       "<div>\n",
       "<style scoped>\n",
       "    .dataframe tbody tr th:only-of-type {\n",
       "        vertical-align: middle;\n",
       "    }\n",
       "\n",
       "    .dataframe tbody tr th {\n",
       "        vertical-align: top;\n",
       "    }\n",
       "\n",
       "    .dataframe thead th {\n",
       "        text-align: right;\n",
       "    }\n",
       "</style>\n",
       "<table border=\"1\" class=\"dataframe\">\n",
       "  <thead>\n",
       "    <tr style=\"text-align: right;\">\n",
       "      <th></th>\n",
       "      <th>June</th>\n",
       "      <th>July</th>\n",
       "      <th>August</th>\n",
       "    </tr>\n",
       "  </thead>\n",
       "  <tbody>\n",
       "    <tr>\n",
       "      <th>count</th>\n",
       "      <td>35162.00000</td>\n",
       "      <td>32443.00000</td>\n",
       "      <td>32319.00000</td>\n",
       "    </tr>\n",
       "    <tr>\n",
       "      <th>mean</th>\n",
       "      <td>49.92901</td>\n",
       "      <td>52.93102</td>\n",
       "      <td>52.12584</td>\n",
       "    </tr>\n",
       "    <tr>\n",
       "      <th>std</th>\n",
       "      <td>55.26144</td>\n",
       "      <td>56.24711</td>\n",
       "      <td>55.05555</td>\n",
       "    </tr>\n",
       "    <tr>\n",
       "      <th>min</th>\n",
       "      <td>1.00000</td>\n",
       "      <td>1.00000</td>\n",
       "      <td>1.00000</td>\n",
       "    </tr>\n",
       "    <tr>\n",
       "      <th>25%</th>\n",
       "      <td>15.00000</td>\n",
       "      <td>17.00000</td>\n",
       "      <td>17.00000</td>\n",
       "    </tr>\n",
       "    <tr>\n",
       "      <th>50%</th>\n",
       "      <td>32.00000</td>\n",
       "      <td>35.00000</td>\n",
       "      <td>35.00000</td>\n",
       "    </tr>\n",
       "    <tr>\n",
       "      <th>75%</th>\n",
       "      <td>63.00000</td>\n",
       "      <td>68.00000</td>\n",
       "      <td>67.00000</td>\n",
       "    </tr>\n",
       "    <tr>\n",
       "      <th>max</th>\n",
       "      <td>837.00000</td>\n",
       "      <td>1118.00000</td>\n",
       "      <td>1209.00000</td>\n",
       "    </tr>\n",
       "  </tbody>\n",
       "</table>\n",
       "</div>"
      ],
      "text/plain": [
       "             June        July      August\n",
       "count 35162.00000 32443.00000 32319.00000\n",
       "mean     49.92901    52.93102    52.12584\n",
       "std      55.26144    56.24711    55.05555\n",
       "min       1.00000     1.00000     1.00000\n",
       "25%      15.00000    17.00000    17.00000\n",
       "50%      32.00000    35.00000    35.00000\n",
       "75%      63.00000    68.00000    67.00000\n",
       "max     837.00000  1118.00000  1209.00000"
      ]
     },
     "execution_count": 155,
     "metadata": {},
     "output_type": "execute_result"
    }
   ],
   "source": [
    "# Calculate summary statistics of number of attachments with TPP as sender\n",
    "\n",
    "tpp_sender_attachments = ehr_attachments[ttp_sender_bool]\n",
    "\n",
    "tpp_ehr_attachments_grouped_by_conversation = tpp_sender_attachments.groupby(by=\"conversationID\").agg({\"Length\": \"count\", \"Date\" : \"max\", \"Month\": \"max\"})\n",
    "tpp_june_bool = tpp_ehr_attachments_grouped_by_conversation['Month'] == \"2021-06\"\n",
    "tpp_june_attachments = tpp_ehr_attachments_grouped_by_conversation[tpp_june_bool]\n",
    "tpp_june_summary = tpp_june_attachments.describe().rename(columns={\"Length\": \"June\"})\n",
    "\n",
    "tpp_july_bool = tpp_ehr_attachments_grouped_by_conversation['Month'] == \"2021-07\"\n",
    "tpp_july_attachments = tpp_ehr_attachments_grouped_by_conversation[tpp_july_bool]\n",
    "tpp_july_summary =tpp_july_attachments.describe().rename(columns={\"Length\": \"July\"})\n",
    "\n",
    "tpp_august_bool = tpp_ehr_attachments_grouped_by_conversation['Month'] == \"2021-08\"\n",
    "tpp_august_attachments = tpp_ehr_attachments_grouped_by_conversation[tpp_august_bool]\n",
    "tpp_august_summary = tpp_august_attachments.describe().rename(columns={\"Length\": \"August\"})\n",
    "\n",
    "pd.concat([tpp_june_summary, tpp_july_summary, tpp_august_summary], axis=1)"
   ]
  },
  {
   "cell_type": "markdown",
   "id": "bca7d7d7",
   "metadata": {},
   "source": [
    "## Findings\n",
    "\n",
    "There doesn't seem to be any significant changes in number of attachments and its sizes over time."
   ]
  },
  {
   "cell_type": "markdown",
   "id": "04b94fa4",
   "metadata": {},
   "source": [
    "### Experimenting with visualising the data"
   ]
  },
  {
   "cell_type": "code",
   "execution_count": 138,
   "id": "13d8b50e",
   "metadata": {},
   "outputs": [
    {
     "data": {
      "text/plain": [
       "<AxesSubplot:title={'center':'Length'}, xlabel='[Month]'>"
      ]
     },
     "execution_count": 138,
     "metadata": {},
     "output_type": "execute_result"
    },
    {
     "data": {
      "image/png": "[encoded data removed]",
      "text/plain": [
       "<Figure size 432x288 with 1 Axes>"
      ]
     },
     "metadata": {
      "needs_background": "light"
     },
     "output_type": "display_data"
    }
   ],
   "source": [
    "ehr_attachments_grouped_by_conversation.boxplot(by='Month')"
   ]
  },
  {
   "cell_type": "code",
   "execution_count": 139,
   "id": "07960293",
   "metadata": {},
   "outputs": [
    {
     "data": {
      "text/plain": [
       "array([[<AxesSubplot:title={'center':'Length'}>]], dtype=object)"
      ]
     },
     "execution_count": 139,
     "metadata": {},
     "output_type": "execute_result"
    },
    {
     "data": {
      "image/png": "[encoded data removed]",
      "text/plain": [
       "<Figure size 432x288 with 1 Axes>"
      ]
     },
     "metadata": {
      "needs_background": "light"
     },
     "output_type": "display_data"
    },
    {
     "data": {
      "image/png": "[encoded data removed]",
      "text/plain": [
       "<Figure size 432x288 with 1 Axes>"
      ]
     },
     "metadata": {
      "needs_background": "light"
     },
     "output_type": "display_data"
    },
    {
     "data": {
      "image/png": "[encoded data removed]",
      "text/plain": [
       "<Figure size 432x288 with 1 Axes>"
      ]
     },
     "metadata": {
      "needs_background": "light"
     },
     "output_type": "display_data"
    }
   ],
   "source": [
    "june_attachments.hist(bins=100)\n",
    "july_attachments.hist(bins=100)\n",
    "august_attachments.hist(bins=100)"
   ]
  },
  {
   "cell_type": "code",
   "execution_count": 140,
   "id": "a378518f",
   "metadata": {},
   "outputs": [
    {
     "data": {
      "text/plain": [
       "<matplotlib.legend.Legend at 0x7f42c5317198>"
      ]
     },
     "execution_count": 140,
     "metadata": {},
     "output_type": "execute_result"
    },
    {
     "data": {
      "image/png": "[encoded data removed]",
      "text/plain": [
       "<Figure size 2160x1008 with 1 Axes>"
      ]
     },
     "metadata": {
      "needs_background": "light"
     },
     "output_type": "display_data"
    },
    {
     "data": {
      "image/png": "[encoded data removed]",
      "text/plain": [
       "<Figure size 2160x1008 with 1 Axes>"
      ]
     },
     "metadata": {
      "needs_background": "light"
     },
     "output_type": "display_data"
    }
   ],
   "source": [
    "fig, ax = plt.subplots(figsize=(30,14))\n",
    "fig2, ax2 = plt.subplots(figsize=(30,14))\n",
    "\n",
    "june_attachments.hist(bins=200, density=True, ax=ax, label='June', color='royalblue')\n",
    "june_attachments.plot(kind=\"kde\", ax=ax2, label='June')\n",
    "\n",
    "july_attachments.hist(bins=200, density=True, ax=ax, label='July', color='orange')\n",
    "july_attachments.plot(kind=\"kde\", ax=ax2, label='July')\n",
    "\n",
    "august_attachments.hist(bins=200, density=True, ax=ax, label='August', alpha=0.8 , color='cyan')\n",
    "august_attachments.plot(kind=\"kde\", ax=ax2, label='August')\n",
    "\n",
    "fig.legend(loc=2)"
   ]
  }
 ],
 "metadata": {
  "kernelspec": {
   "display_name": "conda_python3",
   "language": "python",
   "name": "conda_python3"
  },
  "language_info": {
   "codemirror_mode": {
    "name": "ipython",
    "version": 3
   },
   "file_extension": ".py",
   "mimetype": "text/x-python",
   "name": "python",
   "nbconvert_exporter": "python",
   "pygments_lexer": "ipython3",
   "version": "3.6.13"
  }
 },
 "nbformat": 4,
 "nbformat_minor": 5
}
