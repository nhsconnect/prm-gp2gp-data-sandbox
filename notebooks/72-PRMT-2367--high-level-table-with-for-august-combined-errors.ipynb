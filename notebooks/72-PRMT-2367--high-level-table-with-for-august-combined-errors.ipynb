{
 "cells": [
  {
   "cell_type": "markdown",
   "source": [
    "# PRMT-2367 Run top level table for August 2021"
   ],
   "metadata": {}
  },
  {
   "cell_type": "markdown",
   "source": [
    "## Context\n",
    "Generate error code combinations table for August\n",
    "- For both the first and last two weeks of August\n",
    "- And full month of August\n",
    "\n",
    "Both with 14 day cut off.\n"
   ],
   "metadata": {}
  },
  {
   "cell_type": "code",
   "execution_count": 1,
   "source": [
    "import pandas as pd \n",
    "import numpy as np\n",
    "from sklearn.preprocessing import MultiLabelBinarizer\n",
    "from datetime import datetime"
   ],
   "outputs": [],
   "metadata": {}
  },
  {
   "cell_type": "code",
   "execution_count": 2,
   "source": [
    "import paths, data\n",
    "error_code_lookup_file = pd.read_csv(data.gp2gp_response_codes.path)\n",
    "error_code_lookup = error_code_lookup_file.set_index(\"ErrorCode\")[\"ErrorName\"]"
   ],
   "outputs": [],
   "metadata": {}
  },
  {
   "cell_type": "code",
   "execution_count": 3,
   "source": [
    "def convert_error_list_to_tuple(error_code_list, error_code_type):\n",
    "    return [(error_code_type, error_code, error_code_lookup[error_code]) for error_code in set(error_code_list) if not np.isnan(error_code)]\n",
    "\n",
    "def combine_error_codes(row):\n",
    "    sender_list = convert_error_list_to_tuple(row[\"sender_error_codes\"], \"Sender\")\n",
    "    intermediate_list = convert_error_list_to_tuple(row[\"intermediate_error_codes\"], \"COPC\")\n",
    "    final_list = convert_error_list_to_tuple(row[\"final_error_codes\"], \"Final\")\n",
    "    full_error_code_list = sender_list + intermediate_list + final_list\n",
    "    if len(full_error_code_list) == 0:\n",
    "        return tuple([(\"No Error Code\", \"No Error\", \"N/A\")])\n",
    "    else:\n",
    "        return tuple(full_error_code_list)"
   ],
   "outputs": [],
   "metadata": {}
  },
  {
   "cell_type": "code",
   "execution_count": 4,
   "source": [
    "transfer_file_location = \"s3://prm-gp2gp-transfer-data-preprod/v4/2021/8/transfers.parquet\"\n",
    "\n",
    "transfers = pd.read_parquet(transfer_file_location)\n",
    "transfers[\"all_error_codes\"] = transfers.apply(combine_error_codes, axis=1)\n",
    "transfers[\"status\"] = transfers[\"status\"].str.replace(\"_\", \" \").str.title()\n",
    "transfers['month']=transfers['date_requested'].dt.to_period('M')"
   ],
   "outputs": [],
   "metadata": {}
  },
  {
   "cell_type": "code",
   "execution_count": 5,
   "source": [
    "# filter data to just include the first 2 weeks (15 days) of august & last days of August\n",
    "first_half_date_filter_bool = transfers[\"date_requested\"] < datetime(2021, 8, 16)\n",
    "transfers_first_half_august = transfers[first_half_date_filter_bool]\n",
    "\n",
    "second_half_date_filter_bool = transfers[\"date_requested\"] >= datetime(2021, 8, 16)\n",
    "transfers_second_half_august = transfers[second_half_date_filter_bool]"
   ],
   "outputs": [],
   "metadata": {}
  },
  {
   "cell_type": "code",
   "execution_count": 6,
   "source": [
    "def binarized_error_codes(table_sample):\n",
    "# keeping this in case we want to consolidate error codes based ont he int value rather then combined with error code type\n",
    "    table_sample[\"error_code_list\"]=table_sample[\"all_error_codes\"].apply(lambda error_tuple_list: [error_tuple[1] for error_tuple in error_tuple_list if type(error_tuple[1])!=str])\n",
    "\n",
    "    # split out error codes so we can use them to filter\n",
    "    mlb = MultiLabelBinarizer()\n",
    "    binarized = mlb.fit_transform(table_sample[\"error_code_list\"])\n",
    "    binarized_error_occurences = pd.DataFrame(data=binarized, columns=mlb.classes_, index=table_sample.index)\n",
    "\n",
    "    return pd.concat([table_sample, binarized_error_occurences], axis=1).drop('error_code_list',axis=1)\n",
    "    "
   ],
   "outputs": [],
   "metadata": {}
  },
  {
   "cell_type": "code",
   "execution_count": 7,
   "source": [
    "def generate_high_level_table(transfers_sample):\n",
    "\n",
    "    # Create High level table\n",
    "    high_level_table=transfers_sample.fillna(\"N/A\").groupby([\"requesting_supplier\",\"sending_supplier\",\"status\",\"failure_reason\",\"all_error_codes\"]).agg({\"conversation_id\":\"count\"})\n",
    "    high_level_table=high_level_table.rename({\"conversation_id\":\"Number of Transfers\"},axis=1).reset_index()\n",
    "\n",
    "    # Count % of transfers\n",
    "    total_number_transfers = transfers_sample.shape[0]\n",
    "    high_level_table[\"% of Transfers\"]=(high_level_table[\"Number of Transfers\"]/total_number_transfers).multiply(100)\n",
    "\n",
    "    # Count by supplier pathway\n",
    "    supplier_pathway_counts = transfers_sample.fillna(\"Unknown\").groupby(by=[\"sending_supplier\", \"requesting_supplier\"]).agg({\"conversation_id\": \"count\"})[\"conversation_id\"]\n",
    "    high_level_table[\"% Supplier Pathway Transfers\"]=high_level_table.apply(lambda row: row[\"Number of Transfers\"]/supplier_pathway_counts.loc[(row[\"sending_supplier\"],row[\"requesting_supplier\"])],axis=1).multiply(100)\n",
    "\n",
    "    # Add in Paper Fallback columns\n",
    "    total_fallback = transfers_sample[\"failure_reason\"].dropna().shape[0]\n",
    "    fallback_bool=high_level_table[\"status\"]!=\"Integrated On Time\"\n",
    "    high_level_table.loc[fallback_bool,\"% Paper Fallback\"]=(high_level_table[\"Number of Transfers\"]/total_fallback).multiply(100)\n",
    "\n",
    "    # % of error codes column\n",
    "    no_error_tuple = tuple([(\"No Error Code\", \"No Error\", \"N/A\")])\n",
    "    error_code_bool = transfers_sample[\"all_error_codes\"]!=no_error_tuple\n",
    "    total_number_of_error_code_combinations=error_code_bool.sum()\n",
    "    table_error_code_bool = high_level_table[\"all_error_codes\"]!=no_error_tuple\n",
    "    high_level_table.loc[table_error_code_bool,\"% of error codes\"]=(high_level_table.loc[table_error_code_bool, \"Number of Transfers\"]/total_number_of_error_code_combinations).multiply(100)\n",
    "    \n",
    "    # Select and re-order table\n",
    "    grouping_columns_order=[\"requesting_supplier\",\"sending_supplier\",\"status\",\"failure_reason\", \"all_error_codes\"]\n",
    "    counting_columns_order=[\"Number of Transfers\",\"% of Transfers\",\"% Supplier Pathway Transfers\",\"% Paper Fallback\",\"% of error codes\"]\n",
    "    high_level_table=high_level_table[grouping_columns_order+counting_columns_order].sort_values(by=\"Number of Transfers\",ascending=False)\n",
    "    \n",
    "    high_level_table=binarized_error_codes(high_level_table)\n",
    "    return high_level_table"
   ],
   "outputs": [],
   "metadata": {}
  },
  {
   "cell_type": "code",
   "execution_count": 8,
   "source": [
    "with pd.ExcelWriter(\"Error Code Combinations Tables August 2021 PRMT-2367.xlsx\") as writer:\n",
    "    generate_high_level_table(transfers).to_excel(writer, sheet_name=\"All\",index=False)\n",
    "    generate_high_level_table(transfers_first_half_august).to_excel(writer, sheet_name=\"First two weeks\",index=False)  \n",
    "    generate_high_level_table(transfers_second_half_august).to_excel(writer, sheet_name=\"Last two weeks\",index=False)  "
   ],
   "outputs": [],
   "metadata": {}
  },
  {
   "cell_type": "code",
   "execution_count": null,
   "source": [],
   "outputs": [],
   "metadata": {}
  }
 ],
 "metadata": {
  "kernelspec": {
   "display_name": "conda_python3",
   "language": "python",
   "name": "conda_python3"
  },
  "language_info": {
   "codemirror_mode": {
    "name": "ipython",
    "version": 3
   },
   "file_extension": ".py",
   "mimetype": "text/x-python",
   "name": "python",
   "nbconvert_exporter": "python",
   "pygments_lexer": "ipython3",
   "version": "3.6.13"
  }
 },
 "nbformat": 4,
 "nbformat_minor": 5
}