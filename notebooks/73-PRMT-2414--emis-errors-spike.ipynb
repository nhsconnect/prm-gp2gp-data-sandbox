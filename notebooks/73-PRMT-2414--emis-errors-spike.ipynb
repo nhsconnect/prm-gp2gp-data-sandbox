{
 "cells": [
  {
   "cell_type": "markdown",
   "id": "a3143deb",
   "metadata": {},
   "source": [
    "# PRMT-2414: Look at spread of EMIS spike errors across practices"
   ]
  },
  {
   "cell_type": "markdown",
   "id": "e62e4b45",
   "metadata": {},
   "source": [
    "## Context\n",
    "\n",
    "We have learnt from the CIS team that the EMIS spikes are down to individual practices not being on Windows 10. We want to do some data analysis to understand the spread of the errors we’re seeing and see if it’s the same practices responsible for the different scenarios. We will then compare this to a list EMIS will provide to us of the practices that aren’t on Windows 10. \n",
    "\n",
    "### Scope\n",
    "Look at the spread of the below error scenarios across practices. \n",
    "\n",
    "Questions to answers:\n",
    "\n",
    "List of practices nationally and the occurances of each error, split down by the last three months \n",
    "\n",
    "We would like to know if it is the same practices responsible for each error codes\n",
    "\n",
    "### Error scenarios\n",
    "EMIS sending: Core extract not sent - error code 20 sender error\n",
    "\n",
    "EMIS - EMIS: final error 25\n",
    "\n",
    "EMIS sending or receiving: COPCs not acknowledged - no error code\n",
    "\n",
    "EMIS to TPP: final error 31\n",
    "\n",
    "EMIS sending: Core extract not sent - sender error 19\n",
    "\n",
    "EMIS sending: Request not acknowledged - no error\n",
    "\n",
    "EMIS sending: Contains fatal sender error - sender error 14"
   ]
  },
  {
   "cell_type": "code",
   "execution_count": null,
   "id": "dbcc4876",
   "metadata": {},
   "outputs": [],
   "source": [
    "import pandas as pd \n",
    "import numpy as np\n",
    "import paths\n",
    "from data.practice_metadata import read_asid_metadata"
   ]
  },
  {
   "cell_type": "code",
   "execution_count": null,
   "id": "fc5bedb1",
   "metadata": {},
   "outputs": [],
   "source": [
    "asid_lookup=read_asid_metadata(\"prm-gp2gp-ods-metadata-preprod\", \"v2/2021/10/organisationMetadata.json\")\n",
    "\n",
    "transfer_file_location = \"s3://prm-gp2gp-transfer-data-preprod/v5/2021/\"\n",
    "\n",
    "transfer_files = [\n",
    "    \"6/2021-6-transfers.parquet\",\n",
    "    \"7/2021-7-transfers.parquet\",\n",
    "    \"8/2021-8-transfers.parquet\",\n",
    "    \"9/2021-9-transfers.parquet\",\n",
    "]\n",
    "transfer_input_files = [transfer_file_location + f for f in transfer_files]\n",
    "\n",
    "transfers_raw = pd.concat((\n",
    "    pd.read_parquet(f)\n",
    "    for f in transfer_input_files\n",
    "))\n",
    "\n",
    "transfers = transfers_raw\\\n",
    "    .join(asid_lookup.add_prefix(\"requesting_\"), on=\"requesting_practice_asid\", how=\"left\")\\\n",
    "    .join(asid_lookup.add_prefix(\"sending_\"), on=\"sending_practice_asid\", how=\"left\")\\\n",
    "\n",
    "transfers['month']=transfers['date_requested'].dt.to_period('M')\n",
    "\n",
    "# Supplier name mapping\n",
    "supplier_renaming = {\n",
    "    \"SystmOne\":\"TPP\",\n",
    "    None: \"Unknown\"\n",
    "}\n",
    "\n",
    "transfers[\"sending_supplier\"] = transfers[\"sending_supplier\"].replace(supplier_renaming.keys(), supplier_renaming.values())\n",
    "transfers[\"requesting_supplier\"] = transfers[\"requesting_supplier\"].replace(supplier_renaming.keys(), supplier_renaming.values())\n",
    "transfers[\"sending_practice_name\"] = transfers[\"sending_practice_name\"].fillna(\"Unknown\")\n",
    "transfers[\"requesting_practice_name\"] = transfers[\"requesting_practice_name\"].fillna(\"Unknown\")\n",
    "transfers[\"sending_practice_ods_code\"] = transfers[\"sending_practice_ods_code\"].fillna(\"Unknown\")\n",
    "transfers[\"requesting_practice_ods_code\"] = transfers[\"requesting_practice_ods_code\"].fillna(\"Unknown\")"
   ]
  },
  {
   "cell_type": "code",
   "execution_count": null,
   "id": "0ac7c34c",
   "metadata": {},
   "outputs": [],
   "source": [
    "monthly_transfers_per_sending_practice = transfers.pivot_table(\n",
    "        index=[\"sending_practice_name\", \"sending_supplier\", \"sending_practice_ods_code\"], \n",
    "        columns=\"month\", \n",
    "        values=\"conversation_id\", \n",
    "        aggfunc=\"count\"\n",
    ")\n",
    "\n",
    "monthly_transfers_per_requesting_practice = transfers.pivot_table(\n",
    "        index=[\"requesting_practice_name\", \"requesting_supplier\", \"requesting_practice_ods_code\"], \n",
    "        columns=\"month\", \n",
    "        values=\"conversation_id\", \n",
    "        aggfunc=\"count\"\n",
    ")\n",
    "\n",
    "\n",
    "def generate_error_scenario_overview(monthy_transfers_with_error_scenario, error_scenario_name):\n",
    "\n",
    "    monthly_error_scenario_overview = (\n",
    "        monthy_transfers_with_error_scenario\n",
    "            .rename(\n",
    "                 {\n",
    "                \"2021-06_x\" : \"Total transfers: Jun\", \n",
    "                 \"2021-07_x\" : \"Total transfers: Jul\", \n",
    "                 \"2021-08_x\" : \"Total transfers: Aug\",\n",
    "                 \"2021-09_x\" : \"Total transfers: Sept\",\n",
    "                 \"2021-06_y\" : f\"Transfers with {error_scenario_name}: Jun\",\n",
    "                 \"2021-07_y\" : f\"Transfers with {error_scenario_name}: Jul\",\n",
    "                 \"2021-08_y\" : f\"Transfers with {error_scenario_name}: Aug\",\n",
    "                 \"2021-09_y\" : f\"Transfers with {error_scenario_name}: Sept\"}, axis=1)\n",
    "            .reset_index()\n",
    "    )\n",
    "    \n",
    "    monthly_error_scenario_overview[\"% of transfers in Jun\"] = (\n",
    "            (monthly_error_scenario_overview[f\"Transfers with {error_scenario_name}: Jun\"] / monthly_error_scenario_overview[\"Total transfers: Jun\"])\n",
    "            .multiply(100)\n",
    "            .round(2)\n",
    "    )\n",
    "\n",
    "    monthly_error_scenario_overview[\"% of transfers in Jul\"] = (\n",
    "            (monthly_error_scenario_overview[f\"Transfers with {error_scenario_name}: Jul\"] / monthly_error_scenario_overview[\"Total transfers: Jul\"])\n",
    "            .multiply(100)\n",
    "            .round(2)\n",
    "    )\n",
    "\n",
    "    monthly_error_scenario_overview[\"% of transfers in Aug\"] = (\n",
    "            (monthly_error_scenario_overview[f\"Transfers with {error_scenario_name}: Aug\"] / monthly_error_scenario_overview[\"Total transfers: Aug\"])\n",
    "            .multiply(100)\n",
    "            .round(2)\n",
    "    )\n",
    "\n",
    "    monthly_error_scenario_overview[\"% of transfers in Sept\"] = (\n",
    "            (monthly_error_scenario_overview[f\"Transfers with {error_scenario_name}: Sept\"] / monthly_error_scenario_overview[\"Total transfers: Sept\"])\n",
    "            .multiply(100)\n",
    "            .round(2)\n",
    "    )\n",
    "\n",
    "    return monthly_error_scenario_overview.fillna(0).sort_values(by=\"% of transfers in Sept\", ascending=False)"
   ]
  },
  {
   "cell_type": "markdown",
   "id": "6318ec60",
   "metadata": {},
   "source": [
    "### EMIS sending: Core extract not sent - error code 20 sender error"
   ]
  },
  {
   "cell_type": "code",
   "execution_count": null,
   "id": "b97c659e",
   "metadata": {},
   "outputs": [],
   "source": [
    "emis_sender_bool = transfers[\"sending_supplier\"] == \"EMIS\"\n",
    "core_extract_not_sent_bool = transfers[\"failure_reason\"] == \"Core extract not sent\"\n",
    "sender_error_code_20_bool = transfers[\"sender_error_codes\"].apply(lambda error_codes: 20 in error_codes)\n",
    "emis_transfers_with_error_20 = transfers[emis_sender_bool & core_extract_not_sent_bool & sender_error_code_20_bool].copy()\n",
    "\n",
    "monthly_emis_transfers_with_error_20 = emis_transfers_with_error_20.pivot_table(\n",
    "        index=[\"sending_practice_name\", \"sending_supplier\", \"sending_practice_ods_code\"], \n",
    "        columns=\"month\", values=\"conversation_id\", \n",
    "        aggfunc=\"count\"\n",
    ")\n",
    "\n",
    "monthly_error_20_scenario_overview = monthly_transfers_per_sending_practice.merge(\n",
    "        monthly_emis_transfers_with_error_20, \n",
    "        how=\"right\", \n",
    "        on=[\"sending_practice_name\", \"sending_supplier\", \"sending_practice_ods_code\"]\n",
    ")\n",
    "\n",
    "monthly_error_20_sender_overview = generate_error_scenario_overview(monthly_error_20_scenario_overview, \"error code 20\")\n",
    "monthly_error_20_sender_overview"
   ]
  },
  {
   "cell_type": "markdown",
   "id": "7777d138",
   "metadata": {},
   "source": [
    "### EMIS - EMIS: final error 25 from sender"
   ]
  },
  {
   "cell_type": "code",
   "execution_count": null,
   "id": "b3563a17",
   "metadata": {},
   "outputs": [],
   "source": [
    "emis_sender_bool = transfers[\"sending_supplier\"] == \"EMIS\"\n",
    "emis_requester_bool = transfers[\"requesting_supplier\"] == \"EMIS\"\n",
    "final_error_code_25_bool = transfers[\"final_error_codes\"].apply(lambda error_codes: 25 in error_codes)\n",
    "emis_transfers_with_final_error_25 = transfers[emis_sender_bool & emis_requester_bool & final_error_code_25_bool].copy()\n",
    "\n",
    "monthly_emis_transfers_with_final_error_25_sender = emis_transfers_with_final_error_25.pivot_table(\n",
    "        index=[\"sending_practice_name\", \"sending_supplier\", \"sending_practice_ods_code\"], \n",
    "        columns=\"month\", values=\"conversation_id\", \n",
    "        aggfunc=\"count\"\n",
    ")\n",
    "\n",
    "monthly_error_25_sender_scenario_overview = monthly_transfers_per_sending_practice.merge(\n",
    "        monthly_emis_transfers_with_final_error_25_sender, \n",
    "        how=\"right\", \n",
    "        on=[\"sending_practice_name\", \"sending_supplier\", \"sending_practice_ods_code\"]\n",
    ")\n",
    "\n",
    "monthly_error_25_sender_overview = generate_error_scenario_overview(monthly_error_25_sender_scenario_overview, \"error code 25\")\n",
    "monthly_error_25_sender_overview"
   ]
  },
  {
   "cell_type": "markdown",
   "id": "9aceb5d4",
   "metadata": {},
   "source": [
    "### EMIS - EMIS: final error 25 from requester"
   ]
  },
  {
   "cell_type": "code",
   "execution_count": null,
   "id": "4c990383",
   "metadata": {},
   "outputs": [],
   "source": [
    "monthly_emis_transfers_with_final_error_25_requester = emis_transfers_with_final_error_25.pivot_table(\n",
    "        index=[\"requesting_practice_name\", \"requesting_supplier\", \"requesting_practice_ods_code\"], \n",
    "        columns=\"month\", values=\"conversation_id\", \n",
    "        aggfunc=\"count\"\n",
    ")\n",
    "\n",
    "monthly_error_25_requester_scenario_overview = monthly_transfers_per_requesting_practice.merge(\n",
    "        monthly_emis_transfers_with_final_error_25_requester, \n",
    "        how=\"right\", \n",
    "        on=[\"requesting_practice_name\", \"requesting_supplier\", \"requesting_practice_ods_code\"]\n",
    ")\n",
    "\n",
    "monthly_error_25_requester_overview = generate_error_scenario_overview(monthly_error_25_requester_scenario_overview, \"error code 25\")\n",
    "monthly_error_25_requester_overview"
   ]
  },
  {
   "cell_type": "markdown",
   "id": "6e1609ec",
   "metadata": {},
   "source": [
    "### EMIS to any : COPCs not acknowledged - no error code - sender"
   ]
  },
  {
   "cell_type": "code",
   "execution_count": null,
   "id": "d4216d82",
   "metadata": {},
   "outputs": [],
   "source": [
    "copc_failure_reason_bool = transfers[\"failure_reason\"] == \"COPC(s) not acknowledged\"\n",
    "\n",
    "# The list may contain some elements that are NaN - which would mean there was an ack without error. \n",
    "# We need to interate through the list and check there are no numbers (error codes).\n",
    "\n",
    "no_final_error_code_bool = transfers[\"final_error_codes\"].apply(lambda error_codes: all(pd.isna(error) for error in error_codes))\n",
    "no_sender_error_code_bool = transfers[\"sender_error_codes\"].apply(lambda error_codes: all(pd.isna(error) for error in error_codes))\n",
    "no_intermediate_error_code_bool = transfers[\"intermediate_error_codes\"].apply(lambda error_codes: all(pd.isna(error) for error in error_codes))\n",
    "\n",
    "emis_transfers_with_copc_not_acked = transfers[emis_sender_bool & copc_failure_reason_bool & no_final_error_code_bool & no_sender_error_code_bool & no_intermediate_error_code_bool].copy()\n",
    "\n",
    "monthly_emis_transfers_with_copc_not_acked_sender = emis_transfers_with_copc_not_acked.pivot_table(\n",
    "        index=[\"sending_practice_name\", \"sending_supplier\", \"sending_practice_ods_code\"], \n",
    "        columns=\"month\", values=\"conversation_id\", \n",
    "        aggfunc=\"count\"\n",
    ")\n",
    "\n",
    "monthly_copc_not_acked_sender_scenario_overview = monthly_transfers_per_sending_practice.merge(\n",
    "        monthly_emis_transfers_with_copc_not_acked_sender, \n",
    "        how=\"right\", \n",
    "        on=[\"sending_practice_name\", \"sending_supplier\", \"sending_practice_ods_code\"]\n",
    ")\n",
    "\n",
    "monthly_copc_not_acked_sender_overview = generate_error_scenario_overview(monthly_copc_not_acked_sender_scenario_overview, \"COPC not acked\")\n",
    "monthly_copc_not_acked_sender_overview"
   ]
  },
  {
   "cell_type": "markdown",
   "id": "670159a2",
   "metadata": {},
   "source": [
    "### Any to EMIS : COPCs not acknowledged - no error code - requester"
   ]
  },
  {
   "cell_type": "code",
   "execution_count": null,
   "id": "d57aaa2e",
   "metadata": {},
   "outputs": [],
   "source": [
    "emis_transfers_with_copc_not_acked_requester = transfers[emis_requester_bool & copc_failure_reason_bool & no_final_error_code_bool & no_sender_error_code_bool & no_intermediate_error_code_bool].copy()\n",
    "\n",
    "monthly_emis_transfers_with_copc_not_acked_requester = emis_transfers_with_copc_not_acked_requester.pivot_table(\n",
    "        index=[\"requesting_practice_name\", \"requesting_supplier\", \"requesting_practice_ods_code\"], \n",
    "        columns=\"month\", values=\"conversation_id\", \n",
    "        aggfunc=\"count\"\n",
    ")\n",
    "\n",
    "monthly_copc_not_acked_requester_scenario_overview = monthly_transfers_per_requesting_practice.merge(\n",
    "        monthly_emis_transfers_with_copc_not_acked_requester, \n",
    "        how=\"right\", \n",
    "        on=[\"requesting_practice_name\", \"requesting_supplier\", \"requesting_practice_ods_code\"]\n",
    ")\n",
    "\n",
    "monthly_copc_not_acked_requester_overview = generate_error_scenario_overview(monthly_copc_not_acked_requester_scenario_overview, \"COPC not acked\")\n",
    "monthly_copc_not_acked_requester_overview"
   ]
  },
  {
   "cell_type": "markdown",
   "id": "d1ceb14b",
   "metadata": {},
   "source": [
    "### EMIS to TPP: final error 31"
   ]
  },
  {
   "cell_type": "code",
   "execution_count": null,
   "id": "05fb2a45",
   "metadata": {},
   "outputs": [],
   "source": [
    "final_error_code_31_bool = transfers[\"final_error_codes\"].apply(lambda error_codes: 31 in error_codes)\n",
    "tpp_requester_bool = transfers[\"requesting_supplier\"] == \"TPP\"\n",
    "emis_to_tpp_transfers_with_error_31 = transfers[emis_sender_bool & tpp_requester_bool & final_error_code_31_bool].copy()\n",
    "\n",
    "monthly_transfers_with_error_31 = emis_to_tpp_transfers_with_error_31.pivot_table(\n",
    "        index=[\"sending_practice_name\", \"sending_supplier\", \"sending_practice_ods_code\"], \n",
    "        columns=\"month\", values=\"conversation_id\", \n",
    "        aggfunc=\"count\"\n",
    ")\n",
    "\n",
    "monthly_error_31_sender_scenario_overview = monthly_transfers_per_sending_practice.merge(\n",
    "        monthly_transfers_with_error_31, \n",
    "        how=\"right\", \n",
    "        on=[\"sending_practice_name\", \"sending_supplier\", \"sending_practice_ods_code\"]\n",
    ")\n",
    "\n",
    "monthly_error_31_sender_overview = generate_error_scenario_overview(monthly_error_31_sender_scenario_overview, \"Error 31\")\n",
    "monthly_error_31_sender_overview"
   ]
  },
  {
   "cell_type": "markdown",
   "id": "07c9a0ef",
   "metadata": {},
   "source": [
    "### EMIS sending: Core extract not sent - sender error 19"
   ]
  },
  {
   "cell_type": "code",
   "execution_count": null,
   "id": "d6b81e4a",
   "metadata": {},
   "outputs": [],
   "source": [
    "sender_error_code_19_bool = transfers[\"sender_error_codes\"].apply(lambda error_codes: 19 in error_codes)\n",
    "\n",
    "emis_transfers_with_error_19 = transfers[emis_sender_bool & sender_error_code_19_bool].copy()\n",
    "\n",
    "monthly_transfers_with_error_19 = emis_transfers_with_error_19.pivot_table(\n",
    "        index=[\"sending_practice_name\", \"sending_supplier\", \"sending_practice_ods_code\"], \n",
    "        columns=\"month\", values=\"conversation_id\", \n",
    "        aggfunc=\"count\"\n",
    ")\n",
    "\n",
    "monthly_error_19_sender_scenario_overview = monthly_transfers_per_sending_practice.merge(\n",
    "        monthly_transfers_with_error_19, \n",
    "        how=\"right\", \n",
    "        on=[\"sending_practice_name\", \"sending_supplier\", \"sending_practice_ods_code\"]\n",
    ")\n",
    "\n",
    "monthly_error_19_sender_overview = generate_error_scenario_overview(monthly_error_19_sender_scenario_overview, \"Error 19\")\n",
    "monthly_error_19_sender_overview"
   ]
  },
  {
   "cell_type": "markdown",
   "id": "58e909b1",
   "metadata": {},
   "source": [
    "### EMIS sending: Request not acknowledged - no error"
   ]
  },
  {
   "cell_type": "code",
   "execution_count": null,
   "id": "acba315f",
   "metadata": {},
   "outputs": [],
   "source": [
    "request_not_acked_bool = transfers[\"failure_reason\"] == \"Request not acknowledged\"\n",
    "emis_transfers_request_not_acked = transfers[emis_sender_bool & request_not_acked_bool & no_final_error_code_bool & no_sender_error_code_bool & no_intermediate_error_code_bool].copy()\n",
    "\n",
    "\n",
    "\n",
    "monthly_transfers_with_request_not_acked = emis_transfers_request_not_acked.pivot_table(\n",
    "        index=[\"sending_practice_name\", \"sending_supplier\", \"sending_practice_ods_code\"], \n",
    "        columns=\"month\", values=\"conversation_id\", \n",
    "        aggfunc=\"count\"\n",
    ")\n",
    "\n",
    "monthly_request_not_acked_sender_scenario_overview = monthly_transfers_per_sending_practice.merge(\n",
    "        monthly_transfers_with_request_not_acked, \n",
    "        how=\"right\", \n",
    "        on=[\"sending_practice_name\", \"sending_supplier\", \"sending_practice_ods_code\"]\n",
    ")\n",
    "\n",
    "monthly_request_not_acked_sender_overview = generate_error_scenario_overview(monthly_request_not_acked_sender_scenario_overview, \"Request not acked\")\n",
    "monthly_request_not_acked_sender_overview"
   ]
  },
  {
   "cell_type": "markdown",
   "id": "bbd8ab99",
   "metadata": {},
   "source": [
    "### EMIS sending: Contains fatal sender error - sender error 14"
   ]
  },
  {
   "cell_type": "code",
   "execution_count": null,
   "id": "767d9ea8",
   "metadata": {},
   "outputs": [],
   "source": [
    "sender_error_code_14_bool = transfers[\"sender_error_codes\"].apply(lambda error_codes: 14 in error_codes)\n",
    "emis_transfers_with_error_14 = transfers[emis_sender_bool & sender_error_code_14_bool].copy()\n",
    "\n",
    "monthly_transfers_with_error_14 = emis_transfers_with_error_14.pivot_table(\n",
    "        index=[\"sending_practice_name\", \"sending_supplier\", \"sending_practice_ods_code\"], \n",
    "        columns=\"month\", values=\"conversation_id\", \n",
    "        aggfunc=\"count\"\n",
    ")\n",
    "\n",
    "monthly_error_14_sender_scenario_overview = monthly_transfers_per_sending_practice.merge(\n",
    "        monthly_transfers_with_error_14, \n",
    "        how=\"right\", \n",
    "        on=[\"sending_practice_name\", \"sending_supplier\", \"sending_practice_ods_code\"]\n",
    ")\n",
    "\n",
    "monthly_error_14_sender_overview = generate_error_scenario_overview(monthly_error_14_sender_scenario_overview, \"Error 14\")\n",
    "monthly_error_14_sender_overview"
   ]
  },
  {
   "cell_type": "code",
   "execution_count": null,
   "id": "c1c83b7e",
   "metadata": {},
   "outputs": [],
   "source": [
    "with pd.ExcelWriter(\"Emis Error Code Scenarios by Practice PRMT-2414.xlsx\") as writer:\n",
    "    monthly_error_20_sender_overview.to_excel(writer, sheet_name=\"EMIS-Any, Err 20, Sender\",index=False)\n",
    "    monthly_error_25_sender_overview.to_excel(writer, sheet_name=\"EMIS-EMIS, Err 25, Sender\",index=False)\n",
    "    monthly_error_25_requester_overview.to_excel(writer, sheet_name=\"EMIS-EMIS, Err 25, Requester\",index=False)\n",
    "    monthly_copc_not_acked_sender_overview.to_excel(writer, sheet_name=\"EMIS-Any, COPC not acked,Send\",index=False)\n",
    "    monthly_copc_not_acked_requester_overview.to_excel(writer, sheet_name=\"Any-EMIS, COPC not acked, Req\",index=False)\n",
    "    monthly_error_31_sender_overview.to_excel(writer, sheet_name=\"EMIS-TPP, Err 31, Sender\",index=False)\n",
    "    monthly_error_19_sender_overview.to_excel(writer, sheet_name=\"EMIS-Any, Err 19, Sender\",index=False)\n",
    "    monthly_request_not_acked_sender_overview.to_excel(writer, sheet_name=\"EMIS-Any, Req not acked, Sender\",index=False)\n",
    "    monthly_error_14_sender_overview.to_excel(writer, sheet_name=\"EMIS-Any, Err 14, Sender\",index=False)"
   ]
  }
 ],
 "metadata": {
  "kernelspec": {
   "display_name": "conda_python3",
   "language": "python",
   "name": "conda_python3"
  },
  "language_info": {
   "codemirror_mode": {
    "name": "ipython",
    "version": 3
   },
   "file_extension": ".py",
   "mimetype": "text/x-python",
   "name": "python",
   "nbconvert_exporter": "python",
   "pygments_lexer": "ipython3",
   "version": "3.6.13"
  }
 },
 "nbformat": 4,
 "nbformat_minor": 5
}
