{
 "cells": [
  {
   "cell_type": "markdown",
   "id": "61a3caf1",
   "metadata": {},
   "source": [
    "# PRMT-2414: Look at spread of EMIS spike errors across practices"
   ]
  },
  {
   "cell_type": "markdown",
   "id": "27b32924",
   "metadata": {},
   "source": [
    "## Context\n",
    "\n",
    "We have learnt from the CIS team that the EMIS spikes are down to individual practices not being on Windows 10. We want to do some data analysis to understand the spread of the errors we’re seeing and see if it’s the same practices responsible for the different scenarios. We will then compare this to a list EMIS will provide to us of the practices that aren’t on Windows 10. \n",
    "\n",
    "### Scope\n",
    "Look at the spread of the below error scenarios across practices. \n",
    "\n",
    "Questions to answers:\n",
    "\n",
    "List of practices nationally and the occurances of each error, split down by the last three months \n",
    "\n",
    "We would like to know if it is the same practices responsible for each error codes\n",
    "\n",
    "### Error scenarios\n",
    "EMIS sending: Core extract not sent - error code 20 sender error\n",
    "\n",
    "EMIS - EMIS: final error 25\n",
    "\n",
    "EMIS sending or receiving: COPCs not acknowledged - no error code\n",
    "\n",
    "EMIS to TPP: final error 31\n",
    "\n",
    "EMIS sending: Core extract not sent - sender error 19\n",
    "\n",
    "EMIS sending: Request not acknowledged - no error\n",
    "\n",
    "EMIS sending: Contains fatal sender error - sender error 14"
   ]
  },
  {
   "cell_type": "code",
   "execution_count": null,
   "id": "cb3ae143",
   "metadata": {},
   "outputs": [],
   "source": [
    "import pandas as pd \n",
    "import numpy as np\n",
    "import paths\n",
    "from data.practice_metadata import read_asid_metadata"
   ]
  },
  {
   "cell_type": "code",
   "execution_count": null,
   "id": "4b6561dc",
   "metadata": {},
   "outputs": [],
   "source": [
    "asid_lookup=read_asid_metadata(\"prm-gp2gp-ods-metadata-preprod\", \"v2/2021/9/organisationMetadata.json\")\n",
    "\n",
    "transfer_file_location = \"s3://prm-gp2gp-transfer-data-preprod/v5/2021/\"\n",
    "\n",
    "transfer_files = [\n",
    "    \"7/2021-7-transfers.parquet\",\n",
    "    \"8/2021-8-transfers.parquet\",\n",
    "    \"9/2021-9-transfers.parquet\",\n",
    "]\n",
    "transfer_input_files = [transfer_file_location + f for f in transfer_files]\n",
    "\n",
    "transfers_raw = pd.concat((\n",
    "    pd.read_parquet(f)\n",
    "    for f in transfer_input_files\n",
    "))\n",
    "\n",
    "transfers = transfers_raw\\\n",
    "    .join(asid_lookup.add_prefix(\"requesting_\"), on=\"requesting_practice_asid\", how=\"left\")\\\n",
    "    .join(asid_lookup.add_prefix(\"sending_\"), on=\"sending_practice_asid\", how=\"left\")\\\n",
    "\n",
    "transfers['month']=transfers['date_requested'].dt.to_period('M')\n",
    "\n",
    "# Supplier name mapping\n",
    "supplier_renaming = {\n",
    "    \"SystmOne\":\"TPP\",\n",
    "    None: \"Unknown\"\n",
    "}\n",
    "\n",
    "transfers[\"sending_supplier\"] = transfers[\"sending_supplier\"].replace(supplier_renaming.keys(), supplier_renaming.values())\n",
    "transfers[\"requesting_supplier\"] = transfers[\"requesting_supplier\"].replace(supplier_renaming.keys(), supplier_renaming.values())"
   ]
  },
  {
   "cell_type": "code",
   "execution_count": null,
   "id": "aaef0b76",
   "metadata": {},
   "outputs": [],
   "source": [
    "monthly_transfers_per_sending_practice = transfers.pivot_table(\n",
    "        index=[\"sending_practice_name\", \"sending_practice_ods_code\"], \n",
    "        columns=\"month\", \n",
    "        values=\"conversation_id\", \n",
    "        aggfunc=\"count\"\n",
    ")\n",
    "\n",
    "\n",
    "def generate_sender_error_scenario_overview(monthy_transfers_with_error_scenario, error_scenario_name):\n",
    "    monthly_error_scenario_overview = monthly_transfers_per_sending_practice.merge(\n",
    "        monthy_transfers_with_error_scenario, \n",
    "        how=\"right\", \n",
    "        on=[\"sending_practice_name\", \"sending_practice_ods_code\"]\n",
    "    )\n",
    "\n",
    "\n",
    "    monthly_error_scenario_overview = (\n",
    "        monthly_error_scenario_overview\n",
    "            .rename(\n",
    "                {\"2021-07_x\" : \"Total transfers: Jul\", \n",
    "                 \"2021-08_x\" : \"Total transfers: Aug\",\n",
    "                 \"2021-09_x\" : \"Total transfers: Sept\",\n",
    "                 \"2021-07_y\" : f\"Transfers with {error_scenario_name}: Jul\",\n",
    "                 \"2021-08_y\" : f\"Transfers with {error_scenario_name}: Aug\",\n",
    "                 \"2021-09_y\" : f\"Transfers with {error_scenario_name}: Sept\"}, axis=1)\n",
    "            .reset_index()\n",
    "    )\n",
    "\n",
    "    monthly_error_scenario_overview[\"% of transfers in Jul\"] = (\n",
    "            (monthly_error_scenario_overview[f\"Transfers with {error_scenario_name}: Jul\"] / monthly_error_scenario_overview[\"Total transfers: Jul\"])\n",
    "            .multiply(100)\n",
    "            .round(2)\n",
    "    )\n",
    "\n",
    "    monthly_error_scenario_overview[\"% of transfers in Aug\"] = (\n",
    "            (monthly_error_scenario_overview[f\"Transfers with {error_scenario_name}: Aug\"] / monthly_error_scenario_overview[\"Total transfers: Aug\"])\n",
    "            .multiply(100)\n",
    "            .round(2)\n",
    "    )\n",
    "\n",
    "    monthly_error_scenario_overview[\"% of transfers in Sept\"] = (\n",
    "            (monthly_error_scenario_overview[f\"Transfers with {error_scenario_name}: Sept\"] / monthly_error_scenario_overview[\"Total transfers: Sept\"])\n",
    "            .multiply(100)\n",
    "            .round(2)\n",
    "    )\n",
    "\n",
    "    return monthly_error_scenario_overview.fillna(0).sort_values(by=\"% of transfers in Sept\", ascending=False)"
   ]
  },
  {
   "cell_type": "markdown",
   "id": "05d3de97",
   "metadata": {},
   "source": [
    "### EMIS sending: Core extract not sent - error code 20 sender error"
   ]
  },
  {
   "cell_type": "code",
   "execution_count": null,
   "id": "2d556f92",
   "metadata": {},
   "outputs": [],
   "source": [
    "emis_sender_bool = transfers[\"sending_supplier\"] == \"EMIS\"\n",
    "core_extract_not_sent_bool = transfers[\"failure_reason\"] == \"Core extract not sent\"\n",
    "sender_error_code_20_bool = transfers[\"sender_error_codes\"].apply(lambda error_codes: 20 in error_codes)\n",
    "emis_transfers_with_error_20 = transfers[emis_sender_bool & core_extract_not_sent_bool & sender_error_code_20_bool].copy()\n",
    "\n",
    "monthly_emis_transfers_with_error_20 = emis_transfers_with_error_20.pivot_table(\n",
    "        index=[\"sending_practice_name\", \"sending_practice_ods_code\"], \n",
    "        columns=\"month\", values=\"conversation_id\", \n",
    "        aggfunc=\"count\"\n",
    ")\n",
    "\n",
    "monthly_error_20_overview = generate_sender_error_scenario_overview(monthly_emis_transfers_with_error_20, \"error code 20\")\n",
    "monthly_error_20_overview"
   ]
  },
  {
   "cell_type": "markdown",
   "id": "ceccb057",
   "metadata": {},
   "source": [
    "### EMIS - EMIS: final error 25 from sender"
   ]
  },
  {
   "cell_type": "code",
   "execution_count": null,
   "id": "b9b3b7a3",
   "metadata": {},
   "outputs": [],
   "source": [
    "emis_sender_bool = transfers[\"sending_supplier\"] == \"EMIS\"\n",
    "emis_requesting_bool = transfers[\"requesting_supplier\"] == \"EMIS\"\n",
    "final_error_code_25_bool = transfers[\"final_error_codes\"].apply(lambda error_codes: 25 in error_codes)\n",
    "emis_transfers_with_final_error_25 = transfers[emis_sender_bool & emis_requesting_bool & final_error_code_25_bool].copy()\n",
    "\n",
    "monthly_emis_transfers_with_final_error_25 = emis_transfers_with_final_error_25.pivot_table(\n",
    "        index=[\"sending_practice_name\", \"sending_practice_ods_code\"], \n",
    "        columns=\"month\", values=\"conversation_id\", \n",
    "        aggfunc=\"count\"\n",
    ")\n",
    "\n",
    "monthly_error_25_overview = generate_sender_error_scenario_overview(monthly_emis_transfers_with_final_error_25, \"error code 25\")\n",
    "monthly_error_25_overview"
   ]
  },
  {
   "cell_type": "code",
   "execution_count": null,
   "id": "bdacb0cd",
   "metadata": {},
   "outputs": [],
   "source": [
    "with pd.ExcelWriter(\"Emis Error Code Scenarios by Practice PRMT-2414.xlsx\") as writer:\n",
    "    monthly_error_20_overview.to_excel(writer, sheet_name=\"Error 20 overview\",index=False)\n",
    "    monthly_error_25_overview.to_excel(writer, sheet_name=\"Error 25 overview\",index=False)"
   ]
  }
 ],
 "metadata": {
  "kernelspec": {
   "display_name": "conda_python3",
   "language": "python",
   "name": "conda_python3"
  },
  "language_info": {
   "codemirror_mode": {
    "name": "ipython",
    "version": 3
   },
   "file_extension": ".py",
   "mimetype": "text/x-python",
   "name": "python",
   "nbconvert_exporter": "python",
   "pygments_lexer": "ipython3",
   "version": "3.6.13"
  }
 },
 "nbformat": 4,
 "nbformat_minor": 5
}
