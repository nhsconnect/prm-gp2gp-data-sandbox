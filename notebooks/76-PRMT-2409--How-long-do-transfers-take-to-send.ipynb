{
 "cells": [
  {
   "cell_type": "markdown",
   "id": "1f08f24d",
   "metadata": {},
   "source": [
    "# PRMT-2409"
   ]
  },
  {
   "cell_type": "markdown",
   "id": "f7ec545c",
   "metadata": {},
   "source": [
    "## Context\n",
    "\n",
    "As the GP Connect and Adapter teams continue to build out their solutions and get ready to test them, they want some data from us to help them understand the type of use cases they need to be able too handle. \n",
    "\n",
    "# Questions to answer\n",
    "\n",
    "How long do GP2GP transfers take? - from the point the transfer is initiated (requested made), to the point where either the last COPC is acknowledged, or request started acknowledgement (for the case where there are no COPCs).\n",
    "\n",
    " - What proportion go within 24 hours\n",
    " - What proportion go between 24 hours - 3 days?\n",
    " - What proportion go between 3-5 days?\n",
    " - What proportion go between 5-8 days?\n",
    " - What proportion go over 8 days, but do eventually complete?\n",
    "\n",
    "## Scope\n",
    "\n",
    "Produce a breakdown of integration times"
   ]
  },
  {
   "cell_type": "code",
   "execution_count": 1,
   "id": "0e3d8cce",
   "metadata": {},
   "outputs": [],
   "source": [
    "import pandas as pd\n",
    "import numpy as np\n",
    "from datetime import timedelta\n",
    "import matplotlib.pyplot as plt\n",
    "\n",
    "# Show all columns\n",
    "pd.set_option('display.max_columns', None)"
   ]
  },
  {
   "cell_type": "code",
   "execution_count": 2,
   "id": "19a0facf",
   "metadata": {},
   "outputs": [],
   "source": [
    "# The \"raw\" SPINE messages will be used to find the last sender message of each successful transfer\n",
    "spine_messages_files= [\n",
    "    \"s3://prm-gp2gp-raw-spine-data-preprod/v2/messages/2021/7/2021-7_spine_messages.csv.gz\",\n",
    "    \"s3://prm-gp2gp-raw-spine-data-preprod/v2/messages/2021/8/2021-8_spine_messages.csv.gz\",\n",
    "    \"s3://prm-gp2gp-raw-spine-data-preprod/v2/messages/2021/9/2021-9_spine_messages.csv.gz\"\n",
    "]\n",
    "\n",
    "spine_messages = (\n",
    "    pd.concat((pd.read_csv(f, dtype=str) for f in spine_messages_files))\n",
    "      .rename(columns={\"conversationID\": \"conversation_id\"})\n",
    "      .set_index(\"conversation_id\")\n",
    ")"
   ]
  },
  {
   "cell_type": "code",
   "execution_count": 3,
   "id": "74c12bc4",
   "metadata": {},
   "outputs": [],
   "source": [
    "# The transfers dataset will be used to find a set of successful transfers started in a given month\n",
    "transfer_file_location = \"s3://prm-gp2gp-transfer-data-preprod/v5/2021/7/2021-7-transfers.parquet\"\n",
    "transfers =  pd.read_parquet(transfer_file_location).set_index('conversation_id')"
   ]
  },
  {
   "cell_type": "code",
   "execution_count": 4,
   "id": "c60a2a20",
   "metadata": {},
   "outputs": [],
   "source": [
    "# Coerce all datetimes into uct. This will allow them to be compared.\n",
    "spine_messages[\"_time\"] = pd.to_datetime(spine_messages[\"_time\"])\n",
    "transfers[\"date_completed\"] = pd.to_datetime(transfers[\"date_completed\"], utc=True)\n",
    "transfers[\"date_requested\"] = pd.to_datetime(transfers[\"date_requested\"], utc=True)"
   ]
  },
  {
   "cell_type": "markdown",
   "id": "e9b05f0a",
   "metadata": {},
   "source": [
    "# Duration of successful transfers\n",
    "\n",
    "## Aproach to inferring transfer duration\n",
    "\n",
    "Using SPINE logs, its not possible to accurately measure how long a transfer takes.\n",
    "\n",
    "This is primarilly due to the fact there is no single message that pin points the moment at which a GP2GP record has entirely been recived by the requesting system and is ready for a human to integrate.\n",
    "\n",
    "Instead, we can use the last message returned by the sender as an aproximation of how long the transfer took.\n",
    "\n",
    "To simplify ananlysis, we shall only consider transfers that were successfuly integrated.\n",
    "\n",
    "Here is how this methololody works for different variations in GP2GP.\n",
    "\n",
    "### Significance of using the last sender message\n",
    "\n",
    "First consider the case case of the normal happy path transfer, without large messaging.\n",
    "In this scenario, the last message sent by the sending practice will either be the core EHR, or the acknowlegment of request - which are known to be sent in quick succession, but in any order.\n",
    "\n",
    "```\n",
    "\n",
    " Aproximating transfer duration without COPC\n",
    " ▔▔▔▔▔▔▔▔▔▔▔▔▔▔▔▔▔▔▔▔▔▔▔▔▔▔▔▔▔▔▔▔▔▔▔▔▔▔▔▔▔▔▔\n",
    "\n",
    "Requester                               Sender\n",
    "    │                                     │\n",
    "    │ ───────── GP2GP Request ──────────▶ │ ┐\n",
    "    │                                     │ │── Assumed duration of transfer\n",
    "    │ ◀─── Acknowlegement of Request ──── │ │\n",
    "    │                                     │ │\n",
    "    │ ◀─────────── Core EHR ───────────── │ ┘\n",
    "    │                                     │\n",
    "    │ ─── Acknowlegement of CORE EHR ───▶ │\n",
    "    \n",
    "    \n",
    "```\n",
    "\n",
    "The other main variation of GP2GP transfer is one in which common point to point messaging is used to transmit records bigger than 5mb in a series of chunks.\n",
    "In this case the last message returned by the sender will be the final COPC fragment.\n",
    "\n",
    "```\n",
    "\n",
    "   Aproximating transfer duration with COPC\n",
    "   ▔▔▔▔▔▔▔▔▔▔▔▔▔▔▔▔▔▔▔▔▔▔▔▔▔▔▔▔▔▔▔▔▔▔▔▔▔▔▔▔\n",
    "\n",
    "Requester                               Sender\n",
    "    │                                     │\n",
    "    │ ───────── GP2GP Request ──────────▶ │ ┐\n",
    "    │                                     │ │\n",
    "    │ ◀─── Acknowlegement of Request ──── │ │\n",
    "    │                                     │ │\n",
    "    │ ◀----------- Core EHR ───────────── │ │\n",
    "    │                                     │ │── Assumed duration of transfer\n",
    "    │ ───────── COPC Continue ──────────▶ │ │\n",
    "    │                                     │ │\n",
    "    │ ◀─────── COPC Fragment 1 ────────── │ │\n",
    "    │                                     │ │\n",
    "    │ ──── Acknowlegement of COPC 1 ────▶ │ │\n",
    "    │                                     │ │\n",
    "    │                ...                  │ │\n",
    "    │                                     │ │\n",
    "    │ ◀─────── COPC Fragment N ────────── │ ┘\n",
    "    │                                     │ \n",
    "    │ ──── Acknowlegement of COPC N ────▶ │ \n",
    "    │                                     │\n",
    "    │ ─── Acknowlegement of CORE EHR ───▶ │\n",
    "\n",
    "    \n",
    "    \n",
    "```\n",
    "### Transfers with duplicates\n",
    "\n",
    "Some GP2GP transfers have more than Core EHR returned by the sender.\n",
    "\n",
    "This means that the above methodology will potentially not always measure the time taken to transfer a single record.\n",
    "\n",
    "\n",
    "There are two main examples of how duplicates core EHRs can affect the accuracy of our analysis. In both cases, having a manifest describing which COPC messages belong to which core EHR transfer attempt would help significantly. This might be possible using SPINE GP2GP attachment metadata.\n",
    "\n",
    "#### Interleaved Duplicate Core EHR\n",
    "\n",
    "Sometimes several core EHR will be returned in quick succession. Often in this case the requestor picks one to integrrate and responds to the others with an error. If we naivly take the last message sent be sender, it might not be the EHR which was eventually integrated.\n",
    "\n",
    "```\n",
    "\n",
    "Requester                               Sender\n",
    "    │                                     │\n",
    "    │ ───────── GP2GP Request ──────────▶ │ ┐\n",
    "    │                                     │ │── Assumed duration of transfer\n",
    "    │ ◀─── Acknowlegement of Request ──── │ │\n",
    "    │                                     │ │\n",
    "    │ ◀─────────── Core EHR 1 ─────────── │ │\n",
    "    │                                     │ │\n",
    "    │ ◀─────────── Core EHR 2 ─────────── │ ┘\n",
    "    │                                     │\n",
    "    │ ─── Negative Acknowlegement ──────▶ │\n",
    "    │                                     │    \n",
    "    │ ─── Positive Acknowlegement ──────▶ │\n",
    "    \n",
    "\n",
    "```\n",
    "#### Sequential Duplicate Core EHR\n",
    "\n",
    "Another pattern seen, is that after a failed transfer another core ehr will be sent and the transfer will \"start again\", often after a significatn time delay. In these scenarious measuring from the time of request to last message from sender would include not one, but several attempts at the transfer, including any pauses in between attempts.\n",
    "\n",
    "```\n",
    "\n",
    "Requester                               Sender\n",
    "    │                                     │\n",
    "    │ ───────── GP2GP Request ──────────▶ │ ┐\n",
    "    │                                     │ │── Assumed duration of transfer\n",
    "    │ ◀─── Acknowlegement of Request ──── │ │\n",
    "    │                                     │ │\n",
    "    │ ◀─────────── Core EHR 1 ─────────── │ │\n",
    "    │                                     │ │\n",
    "    │ ─── Negative Acknowlegement ──────▶ │ │\n",
    "    │                                     │ │\n",
    "    │ ◀─────────── Core EHR 2 ─────────── │ ┘\n",
    "    │                                     │\n",
    "    │ ─── Positive Acknowlegement ──────▶ │\n",
    "\n",
    "```\n"
   ]
  },
  {
   "cell_type": "code",
   "execution_count": 5,
   "id": "530f5674",
   "metadata": {},
   "outputs": [
    {
     "data": {
      "text/plain": [
       "<AxesSubplot:title={'center':'EHR transfer attempts made during GP2GP conversations (log scale)'}, xlabel='EHR Transfer attempts', ylabel='Number of GP2GP conversations'>"
      ]
     },
     "execution_count": 5,
     "metadata": {},
     "output_type": "execute_result"
    },
    {
     "data": {
      "image/png": "[encoded data removed]",
      "text/plain": [
       "<Figure size 720x576 with 1 Axes>"
      ]
     },
     "metadata": {
      "needs_background": "light"
     },
     "output_type": "display_data"
    }
   ],
   "source": [
    "# To view the desired breakdown of transfer duration, with and without transfers with duplicate EHR transmission\n",
    "# we need to determine the number of  EHRs sent in each conversation\n",
    "\n",
    "is_ehr_request_completed = spine_messages[\"interactionID\"] == \"urn:nhs:names:services:gp2gp/RCMR_IN030000UK06\"\n",
    "ehr_req_completed_messages = spine_messages[is_ehr_request_completed]\n",
    "ehr_count = ehr_req_completed_messages.groupby(\"conversation_id\").size().to_frame(\"core_ehr_messages_sent\")\n",
    "ehr_count[\"core_ehr_messages_sent\"].value_counts().plot.bar(\n",
    "    log=True,\n",
    "    title=\"EHR transfer attempts made during GP2GP conversations (log scale)\",\n",
    "    xlabel=\"EHR Transfer attempts\",\n",
    "    ylabel=\"Number of GP2GP conversations\",\n",
    "    figsize=(10,8)\n",
    ")"
   ]
  },
  {
   "cell_type": "code",
   "execution_count": 6,
   "id": "e7c6466a",
   "metadata": {},
   "outputs": [
    {
     "name": "stdout",
     "output_type": "stream",
     "text": [
      "(205795, 12)\n",
      "(205795, 22)\n"
     ]
    }
   ],
   "source": [
    "# Find integrated transfers\n",
    "is_integrated =  (transfers[\"status\"] == \"Integrated on time\") | (transfers[\"failure_reason\"] == \"Integrated late\")\n",
    "integrated_transfers = transfers[is_integrated]\n",
    "\n",
    "# Join in all messages, and the count of EHRs sent\n",
    "successful_transfer_messages = integrated_transfers\\\n",
    "  .join(spine_messages, how=\"left\")\\\n",
    "  .join(ehr_count, how=\"left\")\n",
    "\n",
    "# For each conversation, find the last sender message before integration\n",
    "is_sender_message = successful_transfer_messages[\"messageSender\"] == successful_transfer_messages[\"sending_practice_asid\"]\n",
    "is_before_integration = successful_transfer_messages[\"_time\"] < successful_transfer_messages[\"date_completed\"]\n",
    "sender_messages_before_integration = successful_transfer_messages[is_sender_message & is_before_integration]\n",
    "\n",
    "integrations = sender_messages_before_integration.sort_values(\"_time\").groupby(\"conversation_id\").tail(1)\n",
    "\n",
    "# Check we still have all the transfers\n",
    "print(integrated_transfers.shape)\n",
    "print(integrations.shape)"
   ]
  },
  {
   "cell_type": "code",
   "execution_count": 7,
   "id": "ec212391",
   "metadata": {},
   "outputs": [],
   "source": [
    "has_single_ehr = integrations[\"core_ehr_messages_sent\"] == 1\n",
    "itegrations_with_single_ehr = integrations[has_single_ehr]\n",
    "\n",
    "# '_time' in this case will be the time of the last sender message before integration\n",
    "transfer_duration = integrations[\"_time\"] - integrations[\"date_requested\"]\n",
    "single_ehr_transfer_duration = itegrations_with_single_ehr[\"_time\"] - itegrations_with_single_ehr[\"date_requested\"]"
   ]
  },
  {
   "cell_type": "markdown",
   "id": "438685df",
   "metadata": {},
   "source": [
    "### Note: Due to how the transfers dataset is generated, transfers that integrated after 14 days are not included."
   ]
  },
  {
   "cell_type": "code",
   "execution_count": 8,
   "id": "02a01343",
   "metadata": {},
   "outputs": [
    {
     "data": {
      "text/plain": [
       "count                       205795\n",
       "mean     0 days 02:59:29.188810598\n",
       "std      0 days 21:04:29.179641513\n",
       "min         0 days 00:00:01.604000\n",
       "25%         0 days 00:00:12.153000\n",
       "50%         0 days 00:00:28.930000\n",
       "75%         0 days 00:02:40.784000\n",
       "max        13 days 20:24:10.846000\n",
       "dtype: object"
      ]
     },
     "execution_count": 8,
     "metadata": {},
     "output_type": "execute_result"
    }
   ],
   "source": [
    "transfer_duration.describe()"
   ]
  },
  {
   "cell_type": "code",
   "execution_count": 9,
   "id": "a01f453e",
   "metadata": {},
   "outputs": [
    {
     "data": {
      "text/plain": [
       "count                       202456\n",
       "mean     0 days 02:09:40.607698828\n",
       "std      0 days 17:48:54.671319390\n",
       "min         0 days 00:00:01.604000\n",
       "25%         0 days 00:00:12.002000\n",
       "50%         0 days 00:00:27.946000\n",
       "75%         0 days 00:02:19.783000\n",
       "max        13 days 18:30:32.071000\n",
       "dtype: object"
      ]
     },
     "execution_count": 9,
     "metadata": {},
     "output_type": "execute_result"
    }
   ],
   "source": [
    "single_ehr_transfer_duration.describe()"
   ]
  },
  {
   "cell_type": "code",
   "execution_count": 10,
   "id": "f7704b90",
   "metadata": {},
   "outputs": [
    {
     "data": {
      "image/png": "[encoded data removed]",
      "text/plain": [
       "<Figure size 432x288 with 1 Axes>"
      ]
     },
     "metadata": {
      "needs_background": "light"
     },
     "output_type": "display_data"
    },
    {
     "data": {
      "image/png": "[encoded data removed]",
      "text/plain": [
       "<Figure size 432x288 with 1 Axes>"
      ]
     },
     "metadata": {
      "needs_background": "light"
     },
     "output_type": "display_data"
    }
   ],
   "source": [
    "# First 5 min\n",
    "(transfer_duration/ pd.Timedelta(minutes=1)).hist(bins=100, range=[0,5])\n",
    "plt.show()\n",
    "(single_ehr_transfer_duration/ pd.Timedelta(minutes=1)).hist(bins=100, range=[0,5])\n",
    "plt.show()"
   ]
  },
  {
   "cell_type": "code",
   "execution_count": 11,
   "id": "02b7474d",
   "metadata": {},
   "outputs": [],
   "source": [
    "def bucket(duration):\n",
    "    if duration < timedelta(days=1):\n",
    "        return \"<1 day\"\n",
    "    elif duration < timedelta(days=3):\n",
    "        return \">= 1 day and < 3 days\"\n",
    "    elif duration < timedelta(days=5):\n",
    "        return \">= 3 days and < 5 days\"\n",
    "    elif duration < timedelta(days=8):\n",
    "        return \">= 5 days and < 8 days\"\n",
    "    else:\n",
    "        return \">= 8 days and < 14 days\""
   ]
  },
  {
   "cell_type": "code",
   "execution_count": 12,
   "id": "c30db8fc",
   "metadata": {},
   "outputs": [],
   "source": [
    "transfer_duration_bucketed = transfer_duration.apply(bucket)\n",
    "single_ehr_transfer_duration_bucketed = single_ehr_transfer_duration.apply(bucket)"
   ]
  },
  {
   "cell_type": "code",
   "execution_count": 13,
   "id": "653424f0",
   "metadata": {},
   "outputs": [
    {
     "name": "stdout",
     "output_type": "stream",
     "text": [
      "Bucketed counts, with duplicates:\n",
      "                         transfer_count\n",
      "<1 day                           200987\n",
      ">= 1 day and < 3 days              1319\n",
      ">= 3 days and < 5 days             1374\n",
      ">= 5 days and < 8 days             1264\n",
      ">= 8 days and < 14 days             851\n",
      "Bucketed counts, without duplicates:\n",
      "                         transfer_count\n",
      "<1 day                           199040\n",
      ">= 1 day and < 3 days               777\n",
      ">= 3 days and < 5 days             1053\n",
      ">= 5 days and < 8 days             1035\n",
      ">= 8 days and < 14 days             551\n"
     ]
    }
   ],
   "source": [
    "bucketed_counts = transfer_duration_bucketed.value_counts().to_frame(\"transfer_count\").sort_index()\n",
    "print(\"Bucketed counts, with duplicates:\")\n",
    "print(bucketed_counts)\n",
    "print(\"Bucketed counts, without duplicates:\")\n",
    "single_ehr_bucketed_counts = single_ehr_transfer_duration_bucketed.value_counts().to_frame(\"transfer_count\").sort_index()\n",
    "print(single_ehr_bucketed_counts)\n"
   ]
  },
  {
   "cell_type": "code",
   "execution_count": 14,
   "id": "53ac0d8f",
   "metadata": {},
   "outputs": [
    {
     "data": {
      "image/png": "[encoded data removed]",
      "text/plain": [
       "<Figure size 432x288 with 1 Axes>"
      ]
     },
     "metadata": {
      "needs_background": "light"
     },
     "output_type": "display_data"
    },
    {
     "data": {
      "image/png": "[encoded data removed]",
      "text/plain": [
       "<Figure size 432x288 with 1 Axes>"
      ]
     },
     "metadata": {
      "needs_background": "light"
     },
     "output_type": "display_data"
    }
   ],
   "source": [
    "bucketed_counts.plot.bar()\n",
    "plt.show()\n",
    "bucketed_counts.plot.bar(log=True)\n",
    "plt.show()"
   ]
  },
  {
   "cell_type": "code",
   "execution_count": 15,
   "id": "dffbd74f",
   "metadata": {},
   "outputs": [
    {
     "data": {
      "image/png": "[encoded data removed]",
      "text/plain": [
       "<Figure size 432x288 with 1 Axes>"
      ]
     },
     "metadata": {
      "needs_background": "light"
     },
     "output_type": "display_data"
    },
    {
     "data": {
      "image/png": "[encoded data removed]",
      "text/plain": [
       "<Figure size 432x288 with 1 Axes>"
      ]
     },
     "metadata": {
      "needs_background": "light"
     },
     "output_type": "display_data"
    }
   ],
   "source": [
    "single_ehr_bucketed_counts.plot.bar()\n",
    "plt.show()\n",
    "single_ehr_bucketed_counts.plot.bar(log=True)\n",
    "plt.show()"
   ]
  },
  {
   "cell_type": "markdown",
   "id": "59a077c8",
   "metadata": {},
   "source": [
    "# Sender activity beyond 14 days"
   ]
  },
  {
   "cell_type": "markdown",
   "id": "5acbc9e2",
   "metadata": {},
   "source": [
    "Another, more aproximate,but more generalisable approach to infering transfer duration\n",
    "is to consider the time between first and last sender message, regardless of if or when the EHR was integrated.\n",
    "\n",
    "This will allow us to measure sender activity beyond the 14 day limit imposed by the transfers dataset."
   ]
  },
  {
   "cell_type": "code",
   "execution_count": 16,
   "id": "b3f5ab93",
   "metadata": {},
   "outputs": [],
   "source": [
    "transfer_messages = transfers.join(spine_messages, how=\"left\")\n",
    "is_sender_message = transfer_messages[\"messageSender\"] == transfer_messages[\"sending_practice_asid\"]\n",
    "sender_messages = transfer_messages[is_sender_message]\n",
    "firstlast_messages = sender_messages.groupby(\"conversation_id\").agg({'_time': [np.min, np.max]})\n",
    "sender_deltas = firstlast_messages[\"_time\"][\"amax\"] - firstlast_messages[\"_time\"][\"amin\"]\n"
   ]
  },
  {
   "cell_type": "code",
   "execution_count": 17,
   "id": "21bea707",
   "metadata": {},
   "outputs": [
    {
     "name": "stdout",
     "output_type": "stream",
     "text": [
      "(227805, 12)\n",
      "(226974,)\n"
     ]
    }
   ],
   "source": [
    "print(transfers.shape)\n",
    "print(sender_deltas.shape)"
   ]
  },
  {
   "cell_type": "code",
   "execution_count": 18,
   "id": "01357c46",
   "metadata": {},
   "outputs": [
    {
     "data": {
      "text/plain": [
       "count                       226974\n",
       "mean     0 days 07:09:40.614773736\n",
       "std      2 days 12:58:51.378504879\n",
       "min                0 days 00:00:00\n",
       "25%         0 days 00:00:01.463000\n",
       "50%         0 days 00:00:06.444000\n",
       "75%         0 days 00:01:37.053250\n",
       "max        83 days 20:47:17.134000\n",
       "dtype: object"
      ]
     },
     "execution_count": 18,
     "metadata": {},
     "output_type": "execute_result"
    }
   ],
   "source": [
    "sender_deltas.describe()"
   ]
  },
  {
   "cell_type": "code",
   "execution_count": 19,
   "id": "cd22e367",
   "metadata": {},
   "outputs": [],
   "source": [
    "def bucket_sender_delta(duration):\n",
    "    if duration < timedelta(days=1):\n",
    "        return \"<1 day\"\n",
    "    elif duration < timedelta(days=3):\n",
    "        return \">= 1 day and < 3 days\"\n",
    "    elif duration < timedelta(days=5):\n",
    "        return \">= 3 days and < 5 days\"\n",
    "    elif duration < timedelta(days=8):\n",
    "        return \">= 5 days and < 8 days\"\n",
    "    else:\n",
    "        return \">= 8 days\""
   ]
  },
  {
   "cell_type": "code",
   "execution_count": 20,
   "id": "af18ddba",
   "metadata": {},
   "outputs": [],
   "source": [
    "sender_delta_bucketed = sender_deltas.apply(bucket_sender_delta)"
   ]
  },
  {
   "cell_type": "code",
   "execution_count": 21,
   "id": "4405c5b1",
   "metadata": {},
   "outputs": [
    {
     "data": {
      "text/html": [
       "<div>\n",
       "<style scoped>\n",
       "    .dataframe tbody tr th:only-of-type {\n",
       "        vertical-align: middle;\n",
       "    }\n",
       "\n",
       "    .dataframe tbody tr th {\n",
       "        vertical-align: top;\n",
       "    }\n",
       "\n",
       "    .dataframe thead th {\n",
       "        text-align: right;\n",
       "    }\n",
       "</style>\n",
       "<table border=\"1\" class=\"dataframe\">\n",
       "  <thead>\n",
       "    <tr style=\"text-align: right;\">\n",
       "      <th></th>\n",
       "      <th>transfer_count</th>\n",
       "    </tr>\n",
       "  </thead>\n",
       "  <tbody>\n",
       "    <tr>\n",
       "      <th>&lt;1 day</th>\n",
       "      <td>219521</td>\n",
       "    </tr>\n",
       "    <tr>\n",
       "      <th>&gt;= 1 day and &lt; 3 days</th>\n",
       "      <td>1534</td>\n",
       "    </tr>\n",
       "    <tr>\n",
       "      <th>&gt;= 3 days and &lt; 5 days</th>\n",
       "      <td>1675</td>\n",
       "    </tr>\n",
       "    <tr>\n",
       "      <th>&gt;= 5 days and &lt; 8 days</th>\n",
       "      <td>1613</td>\n",
       "    </tr>\n",
       "    <tr>\n",
       "      <th>&gt;= 8 days</th>\n",
       "      <td>2631</td>\n",
       "    </tr>\n",
       "  </tbody>\n",
       "</table>\n",
       "</div>"
      ],
      "text/plain": [
       "                        transfer_count\n",
       "<1 day                          219521\n",
       ">= 1 day and < 3 days             1534\n",
       ">= 3 days and < 5 days            1675\n",
       ">= 5 days and < 8 days            1613\n",
       ">= 8 days                         2631"
      ]
     },
     "execution_count": 21,
     "metadata": {},
     "output_type": "execute_result"
    }
   ],
   "source": [
    "bucketed_sender_delta_counts = sender_delta_bucketed.value_counts().to_frame(\"transfer_count\").sort_index()\n",
    "bucketed_sender_delta_counts"
   ]
  },
  {
   "cell_type": "code",
   "execution_count": 22,
   "id": "32ad8b2a",
   "metadata": {},
   "outputs": [
    {
     "data": {
      "image/png": "[encoded data removed]",
      "text/plain": [
       "<Figure size 432x288 with 1 Axes>"
      ]
     },
     "metadata": {
      "needs_background": "light"
     },
     "output_type": "display_data"
    },
    {
     "data": {
      "image/png": "[encoded data removed]",
      "text/plain": [
       "<Figure size 432x288 with 1 Axes>"
      ]
     },
     "metadata": {
      "needs_background": "light"
     },
     "output_type": "display_data"
    }
   ],
   "source": [
    "bucketed_sender_delta_counts.plot.bar()\n",
    "plt.show()\n",
    "bucketed_sender_delta_counts.plot.bar(log=True)\n",
    "plt.show()"
   ]
  }
 ],
 "metadata": {
  "kernelspec": {
   "display_name": "conda_python3",
   "language": "python",
   "name": "conda_python3"
  },
  "language_info": {
   "codemirror_mode": {
    "name": "ipython",
    "version": 3
   },
   "file_extension": ".py",
   "mimetype": "text/x-python",
   "name": "python",
   "nbconvert_exporter": "python",
   "pygments_lexer": "ipython3",
   "version": "3.6.13"
  }
 },
 "nbformat": 4,
 "nbformat_minor": 5
}
