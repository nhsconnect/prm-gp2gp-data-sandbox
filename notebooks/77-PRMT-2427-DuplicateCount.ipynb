{
 "cells": [
  {
   "cell_type": "code",
   "execution_count": 1,
   "id": "4513998a",
   "metadata": {},
   "outputs": [],
   "source": [
    "import pandas as pd"
   ]
  },
  {
   "cell_type": "code",
   "execution_count": 2,
   "id": "f4859818",
   "metadata": {},
   "outputs": [],
   "source": [
    "spine_messages_files= [\n",
    "    \"s3://prm-gp2gp-raw-spine-data-preprod/v2/messages/2021/7/2021-7_spine_messages.csv.gz\",\n",
    "    \"s3://prm-gp2gp-raw-spine-data-preprod/v2/messages/2021/8/2021-8_spine_messages.csv.gz\",\n",
    "    \"s3://prm-gp2gp-raw-spine-data-preprod/v2/messages/2021/9/2021-9_spine_messages.csv.gz\"\n",
    "]\n",
    "\n",
    "spine_messages = (\n",
    "    pd.concat((pd.read_csv(f, dtype=str) for f in spine_messages_files))\n",
    ")\n",
    "\n",
    "spine_messages[\"_time\"] = pd.to_datetime(spine_messages[\"_time\"])"
   ]
  },
  {
   "cell_type": "code",
   "execution_count": 3,
   "id": "50eb4627",
   "metadata": {},
   "outputs": [],
   "source": [
    "is_gp2gp_request = spine_messages[\"interactionID\"] == \"urn:nhs:names:services:gp2gp/RCMR_IN010000UK05\"\n",
    "gp2gp_requests = (\n",
    "    spine_messages[is_gp2gp_request]\n",
    "        .groupby(\"conversationID\")\n",
    "        .head(1)\n",
    "        .rename(columns={\"_time\": \"requested_time\"})\n",
    "        .set_index(\"conversationID\")\n",
    "        [[\"requested_time\"]]\n",
    ")\n"
   ]
  },
  {
   "cell_type": "code",
   "execution_count": 4,
   "id": "2b08028a",
   "metadata": {},
   "outputs": [],
   "source": [
    "is_ehr_request_completed = spine_messages[\"interactionID\"] == \"urn:nhs:names:services:gp2gp/RCMR_IN030000UK06\"\n",
    "ehr_req_completed_messages = (spine_messages[is_ehr_request_completed]\n",
    "    .rename(columns={\"_time\": \"ehr_sent_time\"})\n",
    "    .set_index(\"conversationID\")   \n",
    "    .join(gp2gp_requests)\n",
    ")"
   ]
  },
  {
   "cell_type": "code",
   "execution_count": 5,
   "id": "b61e1a3e",
   "metadata": {},
   "outputs": [],
   "source": [
    "ehr_sent_timedelta = ehr_req_completed_messages[\"ehr_sent_time\"] - ehr_req_completed_messages[\"requested_time\"]\n",
    "sent_after_one_day = ehr_sent_timedelta > pd.Timedelta(days=1)\n"
   ]
  },
  {
   "cell_type": "code",
   "execution_count": 6,
   "id": "73c335b7",
   "metadata": {},
   "outputs": [
    {
     "data": {
      "text/plain": [
       "False    741259\n",
       "True      15836\n",
       "dtype: int64"
      ]
     },
     "execution_count": 6,
     "metadata": {},
     "output_type": "execute_result"
    }
   ],
   "source": [
    "sent_after_one_day.value_counts()"
   ]
  },
  {
   "cell_type": "code",
   "execution_count": 7,
   "id": "a25c635e",
   "metadata": {},
   "outputs": [
    {
     "name": "stdout",
     "output_type": "stream",
     "text": [
      "False    97.908321\n",
      "True      2.091679\n",
      "dtype: float64\n"
     ]
    }
   ],
   "source": [
    "print(sent_after_one_day.value_counts() / len(ehr_sent_timedelta) * 100)"
   ]
  },
  {
   "cell_type": "code",
   "execution_count": 8,
   "id": "0e1ae8f8",
   "metadata": {},
   "outputs": [
    {
     "data": {
      "text/plain": [
       "<AxesSubplot:title={'center':'EHR Request completed messages sent after a day'}>"
      ]
     },
     "execution_count": 8,
     "metadata": {},
     "output_type": "execute_result"
    },
    {
     "data": {
      "image/png": "[encoded data removed]",
      "text/plain": [
       "<Figure size 432x288 with 1 Axes>"
      ]
     },
     "metadata": {
      "needs_background": "light"
     },
     "output_type": "display_data"
    }
   ],
   "source": [
    "sent_after_one_day.value_counts().plot.bar(title=\"EHR Request completed messages sent after a day\")"
   ]
  }
 ],
 "metadata": {
  "kernelspec": {
   "display_name": "conda_python3",
   "language": "python",
   "name": "conda_python3"
  },
  "language_info": {
   "codemirror_mode": {
    "name": "ipython",
    "version": 3
   },
   "file_extension": ".py",
   "mimetype": "text/x-python",
   "name": "python",
   "nbconvert_exporter": "python",
   "pygments_lexer": "ipython3",
   "version": "3.6.13"
  }
 },
 "nbformat": 4,
 "nbformat_minor": 5
}
