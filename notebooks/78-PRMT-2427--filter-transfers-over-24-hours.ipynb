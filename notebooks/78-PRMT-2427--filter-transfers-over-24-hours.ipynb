{
 "cells": [
  {
   "cell_type": "markdown",
   "id": "a51f0783",
   "metadata": {},
   "source": [
    "# PRMT-2427 Filter transfers that take longer than 24 hours out of the practice/CCG view"
   ]
  },
  {
   "cell_type": "markdown",
   "id": "d3de6946",
   "metadata": {},
   "source": [
    "## Context\n",
    "\n",
    "After running an investigation on a practice that challenged our data, we found that we are including transfers that take a long time within our transferred late table on the dashboard. The majority of transfers will be ready to integrate within 24 hours however some take longer. We want to filter out those transfers that take longer than 24 hours as it is unfair to display these on the dashboard under transferred late since the practice is not responsible for these being late.\n",
    "\n",
    "# Scope\n",
    "Investigate what proportion of transfers have duplicate EHRs sent beyond 24 hours from the start of the transfer \n",
    "\n",
    "comparison nationally of ‘old’ outcomes vs. ‘new outcomes’ (with this new column)\n",
    "\n",
    "This is to identify how many transfers we might miss-categorise as slow and therefore not categorise as successful \n",
    "\n",
    "Provide a breakdown of transfers where data is sent after 24 hours using existing categorisation"
   ]
  },
  {
   "cell_type": "code",
   "execution_count": 1,
   "id": "1481df55",
   "metadata": {},
   "outputs": [],
   "source": [
    "import pandas as pd\n",
    "import numpy as np\n",
    "from datetime import timedelta\n",
    "import matplotlib.pyplot as plt\n",
    "\n",
    "# Show all columns\n",
    "pd.set_option('display.max_columns', None)"
   ]
  },
  {
   "cell_type": "code",
   "execution_count": 2,
   "id": "1a94f951",
   "metadata": {},
   "outputs": [],
   "source": [
    "transfer_file_location = \"s3://prm-gp2gp-transfer-data-preprod/v5/\"\n",
    "transfer_files = [\n",
    "    \"2021/7/2021-7-transfers.parquet\"\n",
    "]\n",
    "transfer_input_files = [transfer_file_location + f for f in transfer_files]\n",
    "transfers_raw = pd.concat((\n",
    "    pd.read_parquet(f)\n",
    "    for f in transfer_input_files\n",
    "))"
   ]
  },
  {
   "cell_type": "code",
   "execution_count": 3,
   "id": "c165d1a5",
   "metadata": {},
   "outputs": [
    {
     "data": {
      "text/plain": [
       "(227805, 14)"
      ]
     },
     "execution_count": 3,
     "metadata": {},
     "output_type": "execute_result"
    }
   ],
   "source": [
    "transfers = transfers_raw.copy()\n",
    "transfers[\"status\"] = transfers[\"status\"].str.replace(\"_\", \" \").str.title()\n",
    "transfers.shape"
   ]
  },
  {
   "cell_type": "code",
   "execution_count": 4,
   "id": "4f83219d",
   "metadata": {},
   "outputs": [
    {
     "data": {
      "text/plain": [
       "Integrated On Time      196642\n",
       "Process Failure          19745\n",
       "Technical Failure        10881\n",
       "Unclassified Failure       537\n",
       "Name: status, dtype: int64"
      ]
     },
     "execution_count": 4,
     "metadata": {},
     "output_type": "execute_result"
    }
   ],
   "source": [
    "transfers[\"status\"].value_counts()"
   ]
  },
  {
   "cell_type": "markdown",
   "id": "43ec010b",
   "metadata": {},
   "source": [
    "# Set-up"
   ]
  },
  {
   "cell_type": "code",
   "execution_count": 5,
   "id": "8a9e59b7",
   "metadata": {},
   "outputs": [],
   "source": [
    "def bucket(duration):\n",
    "    if duration < timedelta(days=1):\n",
    "        return \"<1 day\"\n",
    "    elif duration < timedelta(days=3):\n",
    "        return \">= 1 day and < 3 days\"\n",
    "    elif duration < timedelta(days=5):\n",
    "        return \">= 3 days and < 5 days\"\n",
    "    elif duration < timedelta(days=8):\n",
    "        return \">= 5 days and < 8 days\"\n",
    "    else:\n",
    "        return \">= 8 days and < 14 days\"\n",
    "    \n",
    "def twenty_four_hour_bucket(duration):\n",
    "    if duration < timedelta(days=1):\n",
    "        return \"<1 day\"\n",
    "    else:\n",
    "        return \">= 1 day\""
   ]
  },
  {
   "cell_type": "code",
   "execution_count": 6,
   "id": "1f66d1bb",
   "metadata": {},
   "outputs": [],
   "source": [
    "def bucket_transfer_duration_counts(filtered_transfers, bucketing_func):\n",
    "    filtered_transfers_ehr_transfer_durations_bucketed = filtered_transfers.apply(bucketing_func)\n",
    "    bucketed_filtered_transfers_counts = filtered_transfers_ehr_transfer_durations_bucketed.value_counts().to_frame(\"transfer_count\").sort_index()\n",
    "    bucketed_filtered_transfers_counts[\"transfer_percentage\"] = (bucketed_filtered_transfers_counts / bucketed_filtered_transfers_counts[\"transfer_count\"].sum()) * 100\n",
    "    return bucketed_filtered_transfers_counts"
   ]
  },
  {
   "cell_type": "code",
   "execution_count": 7,
   "id": "8e45e764",
   "metadata": {},
   "outputs": [
    {
     "data": {
      "text/plain": [
       "0 days 00:00:05.706000    20\n",
       "0 days 00:00:12.839000    19\n",
       "0 days 00:00:07.548000    18\n",
       "0 days 00:00:07.793000    18\n",
       "0 days 00:00:09.719000    17\n",
       "                          ..\n",
       "7 days 08:43:47.307000     1\n",
       "0 days 00:02:48.726000     1\n",
       "0 days 02:29:40.134000     1\n",
       "0 days 00:31:14.397000     1\n",
       "0 days 00:06:46.271000     1\n",
       "Name: time_until_ready_to_integrate, Length: 123480, dtype: int64"
      ]
     },
     "execution_count": 7,
     "metadata": {},
     "output_type": "execute_result"
    }
   ],
   "source": [
    "# Create column to calculate ehr transfer time duration\n",
    "transfers[\"time_until_ready_to_integrate\"] = transfers[\"last_sender_message_timestamp\"] - transfers[\"date_requested\"]\n",
    "transfers[\"time_until_ready_to_integrate\"].value_counts()"
   ]
  },
  {
   "cell_type": "code",
   "execution_count": 8,
   "id": "e96c31a4",
   "metadata": {},
   "outputs": [],
   "source": [
    "transfers[\"buckets\"] = transfers[\"time_until_ready_to_integrate\"].apply(bucket)"
   ]
  },
  {
   "cell_type": "markdown",
   "id": "77d9e548",
   "metadata": {},
   "source": [
    "# Check transfers that take longer than 24 hours"
   ]
  },
  {
   "cell_type": "code",
   "execution_count": 9,
   "id": "92a10a15",
   "metadata": {},
   "outputs": [
    {
     "data": {
      "text/plain": [
       "count                       216387\n",
       "mean     0 days 03:36:13.520423158\n",
       "std      1 days 00:07:16.265491496\n",
       "min         0 days 00:00:01.604000\n",
       "25%         0 days 00:00:12.139500\n",
       "50%         0 days 00:00:28.981000\n",
       "75%         0 days 00:02:44.538000\n",
       "max        13 days 23:57:20.824000\n",
       "Name: time_until_ready_to_integrate, dtype: object"
      ]
     },
     "execution_count": 9,
     "metadata": {},
     "output_type": "execute_result"
    }
   ],
   "source": [
    "# Filter for records that are ready for integration or have already been integrated\n",
    "is_integrated = transfers[\"status\"] == \"Integrated On Time\"\n",
    "is_process_failure = transfers[\"status\"] == \"Process Failure\"\n",
    "transfered_transfers = transfers[is_integrated | is_process_failure].copy()\n",
    "transfered_transfers_ehr_transfer_durations = transfered_transfers[\"time_until_ready_to_integrate\"]\n",
    "transfered_transfers_ehr_transfer_durations.describe()"
   ]
  },
  {
   "cell_type": "code",
   "execution_count": 10,
   "id": "0a3e3b28",
   "metadata": {},
   "outputs": [
    {
     "data": {
      "image/png": "[encoded data removed]",
      "text/plain": [
       "<Figure size 432x288 with 1 Axes>"
      ]
     },
     "metadata": {
      "needs_background": "light"
     },
     "output_type": "display_data"
    }
   ],
   "source": [
    "# Distrubution of ehr transfers times \n",
    "(transfered_transfers_ehr_transfer_durations/ pd.Timedelta(minutes=1)).hist(bins=100, range=[0,5])\n",
    "plt.show()"
   ]
  },
  {
   "cell_type": "code",
   "execution_count": 26,
   "id": "a7cb46c9",
   "metadata": {},
   "outputs": [
    {
     "data": {
      "text/html": [
       "<div>\n",
       "<style scoped>\n",
       "    .dataframe tbody tr th:only-of-type {\n",
       "        vertical-align: middle;\n",
       "    }\n",
       "\n",
       "    .dataframe tbody tr th {\n",
       "        vertical-align: top;\n",
       "    }\n",
       "\n",
       "    .dataframe thead th {\n",
       "        text-align: right;\n",
       "    }\n",
       "</style>\n",
       "<table border=\"1\" class=\"dataframe\">\n",
       "  <thead>\n",
       "    <tr style=\"text-align: right;\">\n",
       "      <th></th>\n",
       "      <th>transfer_count</th>\n",
       "      <th>transfer_percentage</th>\n",
       "    </tr>\n",
       "  </thead>\n",
       "  <tbody>\n",
       "    <tr>\n",
       "      <th>&lt;1 day</th>\n",
       "      <td>210687</td>\n",
       "      <td>97.365831</td>\n",
       "    </tr>\n",
       "    <tr>\n",
       "      <th>&gt;= 1 day and &lt; 3 days</th>\n",
       "      <td>1406</td>\n",
       "      <td>0.649762</td>\n",
       "    </tr>\n",
       "    <tr>\n",
       "      <th>&gt;= 3 days and &lt; 5 days</th>\n",
       "      <td>1537</td>\n",
       "      <td>0.710301</td>\n",
       "    </tr>\n",
       "    <tr>\n",
       "      <th>&gt;= 5 days and &lt; 8 days</th>\n",
       "      <td>1458</td>\n",
       "      <td>0.673793</td>\n",
       "    </tr>\n",
       "    <tr>\n",
       "      <th>&gt;= 8 days and &lt; 14 days</th>\n",
       "      <td>1299</td>\n",
       "      <td>0.600313</td>\n",
       "    </tr>\n",
       "  </tbody>\n",
       "</table>\n",
       "</div>"
      ],
      "text/plain": [
       "                         transfer_count  transfer_percentage\n",
       "<1 day                           210687            97.365831\n",
       ">= 1 day and < 3 days              1406             0.649762\n",
       ">= 3 days and < 5 days             1537             0.710301\n",
       ">= 5 days and < 8 days             1458             0.673793\n",
       ">= 8 days and < 14 days            1299             0.600313"
      ]
     },
     "execution_count": 26,
     "metadata": {},
     "output_type": "execute_result"
    }
   ],
   "source": [
    "bucket_transfer_duration_counts(transfered_transfers_ehr_transfer_durations, bucket)"
   ]
  },
  {
   "cell_type": "code",
   "execution_count": 13,
   "id": "a1ee0237",
   "metadata": {},
   "outputs": [
    {
     "data": {
      "image/png": "[encoded data removed]",
      "text/plain": [
       "<Figure size 432x288 with 1 Axes>"
      ]
     },
     "metadata": {
      "needs_background": "light"
     },
     "output_type": "display_data"
    },
    {
     "data": {
      "image/png": "[encoded data removed]",
      "text/plain": [
       "<Figure size 432x288 with 1 Axes>"
      ]
     },
     "metadata": {
      "needs_background": "light"
     },
     "output_type": "display_data"
    }
   ],
   "source": [
    "bucketed_sender_delta_counts.plot.bar()\n",
    "plt.show()\n",
    "bucketed_sender_delta_counts.plot.bar(log=True)\n",
    "plt.show()"
   ]
  },
  {
   "cell_type": "code",
   "execution_count": 14,
   "id": "1ed9729f",
   "metadata": {},
   "outputs": [
    {
     "data": {
      "text/html": [
       "<div>\n",
       "<style scoped>\n",
       "    .dataframe tbody tr th:only-of-type {\n",
       "        vertical-align: middle;\n",
       "    }\n",
       "\n",
       "    .dataframe tbody tr th {\n",
       "        vertical-align: top;\n",
       "    }\n",
       "\n",
       "    .dataframe thead th {\n",
       "        text-align: right;\n",
       "    }\n",
       "</style>\n",
       "<table border=\"1\" class=\"dataframe\">\n",
       "  <thead>\n",
       "    <tr style=\"text-align: right;\">\n",
       "      <th></th>\n",
       "      <th>transfer_count</th>\n",
       "      <th>transfer_percentage</th>\n",
       "    </tr>\n",
       "  </thead>\n",
       "  <tbody>\n",
       "    <tr>\n",
       "      <th>&lt;1 day</th>\n",
       "      <td>210687</td>\n",
       "      <td>97.365831</td>\n",
       "    </tr>\n",
       "    <tr>\n",
       "      <th>&gt;= 1 day</th>\n",
       "      <td>5700</td>\n",
       "      <td>2.634169</td>\n",
       "    </tr>\n",
       "  </tbody>\n",
       "</table>\n",
       "</div>"
      ],
      "text/plain": [
       "          transfer_count  transfer_percentage\n",
       "<1 day            210687            97.365831\n",
       ">= 1 day            5700             2.634169"
      ]
     },
     "execution_count": 14,
     "metadata": {},
     "output_type": "execute_result"
    }
   ],
   "source": [
    "# Transferred transfers (integrated ontime, integrated late, ready to integrate) - transfer duration beyond 24 hours\n",
    "bucket_transfer_duration_counts(transfered_transfers_ehr_transfer_durations, twenty_four_hour_bucket)"
   ]
  },
  {
   "cell_type": "markdown",
   "id": "6809749c",
   "metadata": {},
   "source": [
    "# Check transfers that took longer than 24 hours & integrated ontime"
   ]
  },
  {
   "cell_type": "code",
   "execution_count": 15,
   "id": "fd157044",
   "metadata": {},
   "outputs": [
    {
     "data": {
      "text/plain": [
       "196642"
      ]
     },
     "execution_count": 15,
     "metadata": {},
     "output_type": "execute_result"
    }
   ],
   "source": [
    "# Filter for records that took longer than 24 hours and integrated ontime\n",
    "is_integrated = transfers[\"status\"] == \"Integrated On Time\"\n",
    "integrated_ontime_transfers = transfers[is_integrated].copy()\n",
    "\n",
    "integrated_ontime_transfers_ehr_transfer_durations = integrated_ontime_transfers[\"time_until_ready_to_integrate\"]\n",
    "integrated_ontime_transfers_ehr_transfer_durations.count()"
   ]
  },
  {
   "cell_type": "code",
   "execution_count": 16,
   "id": "833259c6",
   "metadata": {},
   "outputs": [
    {
     "data": {
      "text/html": [
       "<div>\n",
       "<style scoped>\n",
       "    .dataframe tbody tr th:only-of-type {\n",
       "        vertical-align: middle;\n",
       "    }\n",
       "\n",
       "    .dataframe tbody tr th {\n",
       "        vertical-align: top;\n",
       "    }\n",
       "\n",
       "    .dataframe thead th {\n",
       "        text-align: right;\n",
       "    }\n",
       "</style>\n",
       "<table border=\"1\" class=\"dataframe\">\n",
       "  <thead>\n",
       "    <tr style=\"text-align: right;\">\n",
       "      <th></th>\n",
       "      <th>transfer_count</th>\n",
       "      <th>transfer_percentage</th>\n",
       "    </tr>\n",
       "  </thead>\n",
       "  <tbody>\n",
       "    <tr>\n",
       "      <th>&lt;1 day</th>\n",
       "      <td>193039</td>\n",
       "      <td>98.167736</td>\n",
       "    </tr>\n",
       "    <tr>\n",
       "      <th>&gt;= 1 day and &lt; 3 days</th>\n",
       "      <td>1215</td>\n",
       "      <td>0.617874</td>\n",
       "    </tr>\n",
       "    <tr>\n",
       "      <th>&gt;= 3 days and &lt; 5 days</th>\n",
       "      <td>1230</td>\n",
       "      <td>0.625502</td>\n",
       "    </tr>\n",
       "    <tr>\n",
       "      <th>&gt;= 5 days and &lt; 8 days</th>\n",
       "      <td>855</td>\n",
       "      <td>0.434800</td>\n",
       "    </tr>\n",
       "    <tr>\n",
       "      <th>&gt;= 8 days and &lt; 14 days</th>\n",
       "      <td>303</td>\n",
       "      <td>0.154087</td>\n",
       "    </tr>\n",
       "  </tbody>\n",
       "</table>\n",
       "</div>"
      ],
      "text/plain": [
       "                         transfer_count  transfer_percentage\n",
       "<1 day                           193039            98.167736\n",
       ">= 1 day and < 3 days              1215             0.617874\n",
       ">= 3 days and < 5 days             1230             0.625502\n",
       ">= 5 days and < 8 days              855             0.434800\n",
       ">= 8 days and < 14 days             303             0.154087"
      ]
     },
     "execution_count": 16,
     "metadata": {},
     "output_type": "execute_result"
    }
   ],
   "source": [
    "# Integrated on time - transfer duration breakdown in days\n",
    "bucket_transfer_duration_counts(integrated_ontime_transfers_ehr_transfer_durations, bucket)"
   ]
  },
  {
   "cell_type": "code",
   "execution_count": 17,
   "id": "180a1866",
   "metadata": {},
   "outputs": [
    {
     "data": {
      "text/html": [
       "<div>\n",
       "<style scoped>\n",
       "    .dataframe tbody tr th:only-of-type {\n",
       "        vertical-align: middle;\n",
       "    }\n",
       "\n",
       "    .dataframe tbody tr th {\n",
       "        vertical-align: top;\n",
       "    }\n",
       "\n",
       "    .dataframe thead th {\n",
       "        text-align: right;\n",
       "    }\n",
       "</style>\n",
       "<table border=\"1\" class=\"dataframe\">\n",
       "  <thead>\n",
       "    <tr style=\"text-align: right;\">\n",
       "      <th></th>\n",
       "      <th>transfer_count</th>\n",
       "      <th>transfer_percentage</th>\n",
       "    </tr>\n",
       "  </thead>\n",
       "  <tbody>\n",
       "    <tr>\n",
       "      <th>&lt;1 day</th>\n",
       "      <td>193039</td>\n",
       "      <td>98.167736</td>\n",
       "    </tr>\n",
       "    <tr>\n",
       "      <th>&gt;= 1 day</th>\n",
       "      <td>3603</td>\n",
       "      <td>1.832264</td>\n",
       "    </tr>\n",
       "  </tbody>\n",
       "</table>\n",
       "</div>"
      ],
      "text/plain": [
       "          transfer_count  transfer_percentage\n",
       "<1 day            193039            98.167736\n",
       ">= 1 day            3603             1.832264"
      ]
     },
     "execution_count": 17,
     "metadata": {},
     "output_type": "execute_result"
    }
   ],
   "source": [
    "# Integrated on time - transfer duration beyond 24 hours\n",
    "bucket_transfer_duration_counts(integrated_ontime_transfers_ehr_transfer_durations, twenty_four_hour_bucket)"
   ]
  },
  {
   "cell_type": "code",
   "execution_count": 18,
   "id": "1a1e856b",
   "metadata": {},
   "outputs": [],
   "source": [
    "is_more_than_8_days = transfers[\"buckets\"] == \">= 8 days and < 14 days\"\n",
    "# integrated_ontime_transfers[is_more_than_8_days].head(2)"
   ]
  },
  {
   "cell_type": "markdown",
   "id": "d3fb4194",
   "metadata": {},
   "source": [
    "# Check transfers that took longer than 24 hours & integrated late (process failure)"
   ]
  },
  {
   "cell_type": "code",
   "execution_count": 19,
   "id": "3084813f",
   "metadata": {},
   "outputs": [
    {
     "data": {
      "text/plain": [
       "9153"
      ]
     },
     "execution_count": 19,
     "metadata": {},
     "output_type": "execute_result"
    }
   ],
   "source": [
    "# Filter for records that took longer than 24 hours and integrated late\n",
    "is_integrated_late = transfers[\"failure_reason\"] == \"Integrated late\"\n",
    "integrated_late_transfers = transfers[is_integrated_late].copy()\n",
    "integrated_late_transfers_ehr_transfer_durations = integrated_late_transfers[\"time_until_ready_to_integrate\"]\n",
    "integrated_late_transfers_ehr_transfer_durations.count()"
   ]
  },
  {
   "cell_type": "code",
   "execution_count": 20,
   "id": "c43ebc28",
   "metadata": {},
   "outputs": [
    {
     "data": {
      "text/html": [
       "<div>\n",
       "<style scoped>\n",
       "    .dataframe tbody tr th:only-of-type {\n",
       "        vertical-align: middle;\n",
       "    }\n",
       "\n",
       "    .dataframe tbody tr th {\n",
       "        vertical-align: top;\n",
       "    }\n",
       "\n",
       "    .dataframe thead th {\n",
       "        text-align: right;\n",
       "    }\n",
       "</style>\n",
       "<table border=\"1\" class=\"dataframe\">\n",
       "  <thead>\n",
       "    <tr style=\"text-align: right;\">\n",
       "      <th></th>\n",
       "      <th>transfer_count</th>\n",
       "      <th>transfer_percentage</th>\n",
       "    </tr>\n",
       "  </thead>\n",
       "  <tbody>\n",
       "    <tr>\n",
       "      <th>&lt;1 day</th>\n",
       "      <td>7948</td>\n",
       "      <td>86.834918</td>\n",
       "    </tr>\n",
       "    <tr>\n",
       "      <th>&gt;= 1 day and &lt; 3 days</th>\n",
       "      <td>104</td>\n",
       "      <td>1.136239</td>\n",
       "    </tr>\n",
       "    <tr>\n",
       "      <th>&gt;= 3 days and &lt; 5 days</th>\n",
       "      <td>144</td>\n",
       "      <td>1.573255</td>\n",
       "    </tr>\n",
       "    <tr>\n",
       "      <th>&gt;= 5 days and &lt; 8 days</th>\n",
       "      <td>409</td>\n",
       "      <td>4.468480</td>\n",
       "    </tr>\n",
       "    <tr>\n",
       "      <th>&gt;= 8 days and &lt; 14 days</th>\n",
       "      <td>548</td>\n",
       "      <td>5.987108</td>\n",
       "    </tr>\n",
       "  </tbody>\n",
       "</table>\n",
       "</div>"
      ],
      "text/plain": [
       "                         transfer_count  transfer_percentage\n",
       "<1 day                             7948            86.834918\n",
       ">= 1 day and < 3 days               104             1.136239\n",
       ">= 3 days and < 5 days              144             1.573255\n",
       ">= 5 days and < 8 days              409             4.468480\n",
       ">= 8 days and < 14 days             548             5.987108"
      ]
     },
     "execution_count": 20,
     "metadata": {},
     "output_type": "execute_result"
    }
   ],
   "source": [
    "# Integrated late - transfer duration breakdown in days\n",
    "bucket_transfer_duration_counts(integrated_late_transfers_ehr_transfer_durations, bucket)"
   ]
  },
  {
   "cell_type": "code",
   "execution_count": null,
   "id": "ad6758f2",
   "metadata": {},
   "outputs": [],
   "source": [
    "# Integrated late - transfer duration beyond 24 hours\n",
    "bucket_transfer_duration_counts(integrated_late_transfers_ehr_transfer_durations, twenty_four_hour_bucket)"
   ]
  },
  {
   "cell_type": "markdown",
   "id": "e95c9c44",
   "metadata": {},
   "source": [
    "# Check transfers that took longer than 24 hours & not integrated (process failure)"
   ]
  },
  {
   "cell_type": "code",
   "execution_count": 22,
   "id": "038dec7f",
   "metadata": {},
   "outputs": [
    {
     "data": {
      "text/plain": [
       "10592"
      ]
     },
     "execution_count": 22,
     "metadata": {},
     "output_type": "execute_result"
    }
   ],
   "source": [
    "# Filter for records that took longer than 24 hours and didn't integrated\n",
    "is_transferred_not_integrated = transfers[\"failure_reason\"] == \"Transferred, not integrated\"\n",
    "transferred_not_integrated_transfers = transfers[is_transferred_not_integrated].copy()\n",
    "transferred_not_integrated_transfers_ehr_transfer_durations = transferred_not_integrated_transfers[\"time_until_ready_to_integrate\"]\n",
    "transferred_not_integrated_transfers_ehr_transfer_durations.count()"
   ]
  },
  {
   "cell_type": "code",
   "execution_count": 23,
   "id": "156189ad",
   "metadata": {},
   "outputs": [
    {
     "data": {
      "text/html": [
       "<div>\n",
       "<style scoped>\n",
       "    .dataframe tbody tr th:only-of-type {\n",
       "        vertical-align: middle;\n",
       "    }\n",
       "\n",
       "    .dataframe tbody tr th {\n",
       "        vertical-align: top;\n",
       "    }\n",
       "\n",
       "    .dataframe thead th {\n",
       "        text-align: right;\n",
       "    }\n",
       "</style>\n",
       "<table border=\"1\" class=\"dataframe\">\n",
       "  <thead>\n",
       "    <tr style=\"text-align: right;\">\n",
       "      <th></th>\n",
       "      <th>transfer_count</th>\n",
       "      <th>transfer_percentage</th>\n",
       "    </tr>\n",
       "  </thead>\n",
       "  <tbody>\n",
       "    <tr>\n",
       "      <th>&lt;1 day</th>\n",
       "      <td>9700</td>\n",
       "      <td>91.578550</td>\n",
       "    </tr>\n",
       "    <tr>\n",
       "      <th>&gt;= 1 day and &lt; 3 days</th>\n",
       "      <td>87</td>\n",
       "      <td>0.821375</td>\n",
       "    </tr>\n",
       "    <tr>\n",
       "      <th>&gt;= 3 days and &lt; 5 days</th>\n",
       "      <td>163</td>\n",
       "      <td>1.538897</td>\n",
       "    </tr>\n",
       "    <tr>\n",
       "      <th>&gt;= 5 days and &lt; 8 days</th>\n",
       "      <td>194</td>\n",
       "      <td>1.831571</td>\n",
       "    </tr>\n",
       "    <tr>\n",
       "      <th>&gt;= 8 days and &lt; 14 days</th>\n",
       "      <td>448</td>\n",
       "      <td>4.229607</td>\n",
       "    </tr>\n",
       "  </tbody>\n",
       "</table>\n",
       "</div>"
      ],
      "text/plain": [
       "                         transfer_count  transfer_percentage\n",
       "<1 day                             9700            91.578550\n",
       ">= 1 day and < 3 days                87             0.821375\n",
       ">= 3 days and < 5 days              163             1.538897\n",
       ">= 5 days and < 8 days              194             1.831571\n",
       ">= 8 days and < 14 days             448             4.229607"
      ]
     },
     "execution_count": 23,
     "metadata": {},
     "output_type": "execute_result"
    }
   ],
   "source": [
    "# Transferred not integrated - transfer duration breakdown in days\n",
    "bucket_transfer_duration_counts(transferred_not_integrated_transfers_ehr_transfer_durations, bucket)"
   ]
  },
  {
   "cell_type": "code",
   "execution_count": 24,
   "id": "af881469",
   "metadata": {},
   "outputs": [
    {
     "data": {
      "text/html": [
       "<div>\n",
       "<style scoped>\n",
       "    .dataframe tbody tr th:only-of-type {\n",
       "        vertical-align: middle;\n",
       "    }\n",
       "\n",
       "    .dataframe tbody tr th {\n",
       "        vertical-align: top;\n",
       "    }\n",
       "\n",
       "    .dataframe thead th {\n",
       "        text-align: right;\n",
       "    }\n",
       "</style>\n",
       "<table border=\"1\" class=\"dataframe\">\n",
       "  <thead>\n",
       "    <tr style=\"text-align: right;\">\n",
       "      <th></th>\n",
       "      <th>transfer_count</th>\n",
       "      <th>transfer_percentage</th>\n",
       "    </tr>\n",
       "  </thead>\n",
       "  <tbody>\n",
       "    <tr>\n",
       "      <th>&lt;1 day</th>\n",
       "      <td>9700</td>\n",
       "      <td>91.57855</td>\n",
       "    </tr>\n",
       "    <tr>\n",
       "      <th>&gt;= 1 day</th>\n",
       "      <td>892</td>\n",
       "      <td>8.42145</td>\n",
       "    </tr>\n",
       "  </tbody>\n",
       "</table>\n",
       "</div>"
      ],
      "text/plain": [
       "          transfer_count  transfer_percentage\n",
       "<1 day              9700             91.57855\n",
       ">= 1 day             892              8.42145"
      ]
     },
     "execution_count": 24,
     "metadata": {},
     "output_type": "execute_result"
    }
   ],
   "source": [
    "# Transferred not integrated - transfer duration beyond 24 hours\n",
    "bucket_transfer_duration_counts(transferred_not_integrated_transfers_ehr_transfer_durations, twenty_four_hour_bucket)"
   ]
  },
  {
   "cell_type": "code",
   "execution_count": null,
   "id": "7297fdb5",
   "metadata": {},
   "outputs": [],
   "source": []
  }
 ],
 "metadata": {
  "kernelspec": {
   "display_name": "conda_python3",
   "language": "python",
   "name": "conda_python3"
  },
  "language_info": {
   "codemirror_mode": {
    "name": "ipython",
    "version": 3
   },
   "file_extension": ".py",
   "mimetype": "text/x-python",
   "name": "python",
   "nbconvert_exporter": "python",
   "pygments_lexer": "ipython3",
   "version": "3.6.13"
  }
 },
 "nbformat": 4,
 "nbformat_minor": 5
}
