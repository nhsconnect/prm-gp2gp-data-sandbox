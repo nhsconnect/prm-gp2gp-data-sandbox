{
 "cells": [
  {
   "cell_type": "markdown",
   "id": "d26b1287",
   "metadata": {},
   "source": [
    "# PRMT-2458 Transfers requested breakdown for a practice - Aug - Oct 2021"
   ]
  },
  {
   "cell_type": "markdown",
   "id": "5a51097e",
   "metadata": {},
   "source": [
    "## Context\n",
    "\n",
    "A practice has advised there seems to be a large discrepancy between Transfers received and actual Registrations \n",
    "\n",
    "August 2021 \n",
    "- Dashboard: 77 \n",
    "- Registrations: 128 \n",
    "- Difference: 51\n",
    "\n",
    "September 2021 \n",
    "- Dashboard: 161 \n",
    "- Registrations: 237 \n",
    "- Difference: 76\n",
    "\n",
    "October 2021 \n",
    "- Dashboard: 201 \n",
    "- Registrations: 374\n",
    "- Difference: 173\n",
    "\n",
    "Total difference: 300\n",
    "\n",
    "## Scope\n",
    "\n",
    "Look at this practices full data for transfers in for the last three months, and show a breakdown of all transfers\n",
    "\n",
    "## Prerequisites\n",
    "\n",
    "Run the following query in Splunk from 01/08/2021 00:00:00 to 31/10/2021 24:00:00 and save as csv:\n",
    "```\n",
    "index=\"gp2gp_nms_prod\" sourcetype=\"gp2gpmi-rr\" RequestorODS=\"G81038\"\n",
    "| table *\n",
    "```"
   ]
  },
  {
   "cell_type": "code",
   "execution_count": null,
   "id": "af45d59e",
   "metadata": {},
   "outputs": [],
   "source": [
    "import pandas as pd\n",
    "import numpy as np\n",
    "from datetime import datetime\n",
    "import paths\n",
    "from data.practice_metadata import read_asid_metadata\n",
    "\n",
    "pd.set_option('display.max_columns', None)"
   ]
  },
  {
   "cell_type": "code",
   "execution_count": null,
   "id": "d6cfed31",
   "metadata": {},
   "outputs": [],
   "source": [
    "asid_lookup=read_asid_metadata(\"prm-gp2gp-ods-metadata-preprod\", \"v2/2021/10/organisationMetadata.json\")\n",
    "\n",
    "transfer_file_location = \"s3://prm-gp2gp-transfer-data-preprod/v6/2021/\"\n",
    "\n",
    "transfer_files = [\n",
    "    \"10/2021-10-transfers.parquet\", \n",
    "    \"9/2021-9-transfers.parquet\",\n",
    "    \"8/2021-8-transfers.parquet\"\n",
    "]\n",
    "transfer_input_files = [transfer_file_location + f for f in transfer_files]\n",
    "\n",
    "transfers_raw = pd.concat((\n",
    "    pd.read_parquet(f)\n",
    "    for f in transfer_input_files\n",
    "))\n",
    "\n",
    "transfers = transfers_raw\\\n",
    "    .join(asid_lookup.add_prefix(\"requesting_\"), on=\"requesting_practice_asid\", how=\"left\")\\\n",
    "    .join(asid_lookup.add_prefix(\"sending_\"), on=\"sending_practice_asid\", how=\"left\")\\\n",
    "\n",
    "transfers['month']=transfers['date_requested'].dt.to_period('M')\n",
    "\n",
    "# Supplier name mapping\n",
    "supplier_renaming = {\n",
    "    \"EGTON MEDICAL INFORMATION SYSTEMS LTD (EMIS)\":\"EMIS\",\n",
    "    \"IN PRACTICE SYSTEMS LTD\":\"Vision\",\n",
    "    \"MICROTEST LTD\":\"Microtest\",\n",
    "    \"THE PHOENIX PARTNERSHIP\":\"TPP\",\n",
    "    \"SystmOne\" : \"TPP\",\n",
    "    None: \"Unknown\"\n",
    "}\n",
    "\n",
    "transfers[\"sending_supplier\"] = transfers[\"sending_supplier\"].replace(supplier_renaming.keys(), supplier_renaming.values())\n",
    "transfers[\"requesting_supplier\"] = transfers[\"requesting_supplier\"].replace(supplier_renaming.keys(), supplier_renaming.values())"
   ]
  },
  {
   "cell_type": "code",
   "execution_count": null,
   "id": "54eb3cdb",
   "metadata": {},
   "outputs": [],
   "source": [
    "# filter for the practice as the requester\n",
    "practice_of_interest_bool = transfers[\"requesting_practice_ods_code\"]==\"G81038\"\n",
    "practice_of_interest_transfers = transfers[practice_of_interest_bool].copy()\n",
    "practice_of_interest_transfers.groupby(by=[\"month\", \"status\"]).agg({\"conversation_id\": \"count\"})"
   ]
  },
  {
   "cell_type": "code",
   "execution_count": null,
   "id": "4ee40838",
   "metadata": {},
   "outputs": [],
   "source": [
    "# get counts of failed transfers per month for the practice\n",
    "failed_transfer_bool = practice_of_interest_transfers[\"status\"]==\"Technical failure\"\n",
    "practice_of_interest_failed_transfers = practice_of_interest_transfers[failed_transfer_bool]\n",
    "practice_of_interest_monthly_failed_transfer_counts = (\n",
    "    practice_of_interest_failed_transfers\n",
    "        .groupby(by=[\"month\"]).agg({\"conversation_id\": \"count\"})\n",
    "        .rename(columns={\"conversation_id\": \"Failed transfers\"})\n",
    "    )\n",
    "practice_of_interest_monthly_failed_transfer_counts"
   ]
  },
  {
   "cell_type": "code",
   "execution_count": null,
   "id": "d5e94168",
   "metadata": {},
   "outputs": [],
   "source": [
    "# Read MI RR records for the practice of interest (Aug - Oct)\n",
    "dates_fields = [\"RegistrationTime\", \"RequestFailureTime\", \"RequestTime\", \"ExtractTime\", \"ExtractAckTime\", \"ExtractAckFailureTime\"]\n",
    "# practice_registrations = pd.read_csv(\"./practice_registrations_aug_to_oct.csv\", parse_dates=dates_fields).fillna(\"None\")\n",
    "practice_registrations = pd.read_csv(\"./practice_mi_rr_splunk.csv\", parse_dates=dates_fields).fillna(\"None\")\n",
    "practice_registrations = (\n",
    "    practice_registrations\n",
    "        .sort_values(by=\"_time\", ascending=True)\n",
    "        .drop_duplicates(subset=[\"RegistrationTime\", \"RegistrationSmartcardUID\"], keep=\"last\")\n",
    "    )"
   ]
  },
  {
   "cell_type": "code",
   "execution_count": null,
   "id": "a5ed7fc2",
   "metadata": {},
   "outputs": [],
   "source": [
    "# Check how many registrations didn't trigger GP2GP (no conversation id)\n",
    "practice_registrations[\"ConversationID\"].value_counts()"
   ]
  },
  {
   "cell_type": "code",
   "execution_count": null,
   "id": "b43201fa",
   "metadata": {},
   "outputs": [],
   "source": [
    "# Filter for registrations that did not trigger GP2GP\n",
    "no_conv_id_bool = practice_registrations[\"ConversationID\"] == \"None\"\n",
    "practice_registrations_with_no_conv_id = practice_registrations[no_conv_id_bool].copy()"
   ]
  },
  {
   "cell_type": "code",
   "execution_count": null,
   "id": "23bbbe55",
   "metadata": {},
   "outputs": [],
   "source": [
    "# Count by month registrations that did not trigger GP2GP\n",
    "practice_registrations_with_no_conv_id['month'] = practice_registrations_with_no_conv_id['RegistrationTime'].dt.to_period('M')\n",
    "monthly_practice_registrations_with_no_conv_id = (\n",
    "    practice_registrations_with_no_conv_id\n",
    "        .groupby(by=[\"month\"]).agg({\"RegistrationTime\": \"count\"})\n",
    "        .rename(columns={\"RegistrationTime\": \"Non-GP2GP registrations\"})\n",
    "    )\n",
    "monthly_practice_registrations_with_no_conv_id"
   ]
  },
  {
   "cell_type": "code",
   "execution_count": null,
   "id": "48f84487",
   "metadata": {},
   "outputs": [],
   "source": [
    "# Check how many registrations have the same requester and sender ODS code\n",
    "practice_registrations_with_no_conv_id[\"SenderODS\"].value_counts()"
   ]
  },
  {
   "cell_type": "code",
   "execution_count": null,
   "id": "0105d046",
   "metadata": {},
   "outputs": [],
   "source": [
    "# Merge failed transfers and registrations that did not trigger GP2GP\n",
    "all_missing_practice_registrations = monthly_practice_registrations_with_no_conv_id.merge(practice_of_interest_monthly_failed_transfer_counts, left_index=True, right_index=True)\n",
    "all_missing_practice_registrations[\"Total from our data\"] = all_missing_practice_registrations.sum(axis=1)\n",
    "all_missing_practice_registrations[\"Total from practice data\"] = [51, 76, 173]\n",
    "all_missing_practice_registrations.loc['Total']= all_missing_practice_registrations.sum()\n",
    "all_missing_practice_registrations"
   ]
  },
  {
   "cell_type": "markdown",
   "id": "b14f8c36",
   "metadata": {},
   "source": [
    "## Investigate registrations that did not trigger GP2GP"
   ]
  },
  {
   "cell_type": "code",
   "execution_count": null,
   "id": "2849a1ce",
   "metadata": {},
   "outputs": [],
   "source": [
    "def assign_sender_category(value):\n",
    "    if value==\"G81038\":\n",
    "        return \"Same as requester\"\n",
    "    elif value==\"None\":\n",
    "        return \"No sender\"\n",
    "    else:\n",
    "        return \"Other practice\"\n",
    "    \n",
    "practice_registrations_with_no_conv_id[\"sender category\"] = practice_registrations_with_no_conv_id.apply(lambda row: assign_sender_category(row[\"SenderODS\"]), axis=1)\n",
    "\n",
    "registrations_grouped_by_failures_and_sender = (\n",
    "    practice_registrations_with_no_conv_id\n",
    "        .groupby(by=[\"sender category\", \"RequestFailurePoint\", \"RequestFailureType\", \"RequestErrorCode\"])\n",
    "        .agg({\"RegistrationTime\": \"count\"})\n",
    "        .rename(columns={\"RegistrationTime\": \"count\"})\n",
    "        .sort_values(by=\"count\", ascending=False)\n",
    "    )\n",
    "registrations_grouped_by_failures_and_sender"
   ]
  },
  {
   "cell_type": "markdown",
   "id": "05d2dc92",
   "metadata": {},
   "source": [
    "**RequestFailurePoint:**\n",
    "- 0 = No failure\n",
    "- 10 = PDS trace\n",
    "- 20 = PDS update\n",
    "- 30 = SDS lookup Practice (not used)\n",
    "- 40 = SDS lookup ASID\n",
    "- 50 = SDS lookup Contract Props\n",
    "- 60 = Send Request\n",
    "- 70 = Manual Request\n",
    "\n",
    "**RequestFailureType:**\n",
    "- 0 = Attempted\n",
    "- 1 = Sent\n",
    "- 2 = Not Sent - Patient at current practice\n",
    "- 3 = Not Sent - Patient known at current practice transferring from non-GP2GP practice\n",
    "- 4 = Not Sent - Patient not known at current practice transferring from a non-GP2GP practice\n",
    "- 5 = Not Sent – Patient has no previous practice registered\n",
    "- 6 = Negative acknowledgement received\n",
    "\n",
    "**RequestErrorCode:**\n",
    "- 20 = Spine system responded with an error\n",
    "- 24 = SDS lookup provided zero or more than one result to the query for each interaction"
   ]
  }
 ],
 "metadata": {
  "kernelspec": {
   "display_name": "conda_python3",
   "language": "python",
   "name": "conda_python3"
  },
  "language_info": {
   "codemirror_mode": {
    "name": "ipython",
    "version": 3
   },
   "file_extension": ".py",
   "mimetype": "text/x-python",
   "name": "python",
   "nbconvert_exporter": "python",
   "pygments_lexer": "ipython3",
   "version": "3.6.13"
  }
 },
 "nbformat": 4,
 "nbformat_minor": 5
}
