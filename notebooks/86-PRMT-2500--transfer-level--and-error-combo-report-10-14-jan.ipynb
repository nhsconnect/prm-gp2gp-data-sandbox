{
 "cells": [
  {
   "cell_type": "markdown",
   "id": "3aa26980",
   "metadata": {},
   "source": [
    "# PRMT-2500 - Transfer and Error Code combination table for 10th to 14th Jan"
   ]
  },
  {
   "cell_type": "markdown",
   "id": "d6848c59",
   "metadata": {},
   "source": [
    "## Context\n",
    "Produce a transfer level report for failures, and the error combination table using:\n",
    "- Date range: 12th to 14th Jan (4 days)\n",
    "- With Cut off of 1 day"
   ]
  },
  {
   "cell_type": "code",
   "execution_count": 1,
   "id": "f391cc34",
   "metadata": {},
   "outputs": [],
   "source": [
    "import pandas as pd \n",
    "import numpy as np\n",
    "import paths, data\n",
    "from sklearn.preprocessing import MultiLabelBinarizer\n",
    "from datetime import datetime\n",
    "from data.practice_metadata import read_asid_metadata"
   ]
  },
  {
   "cell_type": "markdown",
   "id": "651c77fc",
   "metadata": {},
   "source": [
    "## Check spine messages\n",
    "\n",
    "Using Splunk web: 356710 events on 12th Jan"
   ]
  },
  {
   "cell_type": "code",
   "execution_count": 2,
   "id": "aef0b3bb",
   "metadata": {},
   "outputs": [],
   "source": [
    "spine_messages_12_jan = pd.read_csv(f\"s3://prm-gp2gp-raw-spine-data-dev/v3/2022/01/12/2022-01-12_spine_messages.csv.gz\")"
   ]
  },
  {
   "cell_type": "code",
   "execution_count": 3,
   "id": "0e0726cd",
   "metadata": {},
   "outputs": [
    {
     "data": {
      "text/plain": [
       "(356710, 10)"
      ]
     },
     "execution_count": 3,
     "metadata": {},
     "output_type": "execute_result"
    }
   ],
   "source": [
    "spine_messages_12_jan.shape"
   ]
  },
  {
   "cell_type": "markdown",
   "id": "6582ba57",
   "metadata": {},
   "source": [
    "## Import transfer dataset"
   ]
  },
  {
   "cell_type": "code",
   "execution_count": 4,
   "id": "73bb1faa",
   "metadata": {},
   "outputs": [],
   "source": [
    "error_code_lookup_file = pd.read_csv(data.gp2gp_response_codes.path)\n",
    "error_code_lookup = error_code_lookup_file.set_index(\"ErrorCode\")[\"ErrorName\"]"
   ]
  },
  {
   "cell_type": "code",
   "execution_count": 5,
   "id": "4f1febcc",
   "metadata": {},
   "outputs": [
    {
     "data": {
      "text/plain": [
       "53015"
      ]
     },
     "execution_count": 5,
     "metadata": {},
     "output_type": "execute_result"
    }
   ],
   "source": [
    "asid_lookup = read_asid_metadata(\"prm-gp2gp-ods-metadata-dev\", \"v2/2022/1/organisationMetadata.json\")\n",
    "data_folder=\"s3://prm-gp2gp-transfer-data-dev/v7/cutoff-1\"\n",
    "\n",
    "def add_leading_zero(num: int) -> str:\n",
    "    return str(num).zfill(2)\n",
    "\n",
    "transfer_parquet_files = [f\"{data_folder}/2022/01/{add_leading_zero(day)}/2022-01-{add_leading_zero(day)}-transfers.parquet\" for day in range(10, 15)]\n",
    "\n",
    "transfers_raw = pd.concat([pd.read_parquet(file) for file in transfer_parquet_files])\n",
    "transfers = transfers_raw\\\n",
    "    .join(asid_lookup.add_prefix(\"requesting_\"), on=\"requesting_practice_asid\", how=\"left\")\\\n",
    "    .join(asid_lookup.add_prefix(\"sending_\"), on=\"sending_practice_asid\", how=\"left\")\\\n",
    "\n",
    "transfers[\"status\"] = transfers[\"status\"].str.replace(\"_\", \" \").str.capitalize()\n",
    "\n",
    "len(transfers)"
   ]
  },
  {
   "cell_type": "code",
   "execution_count": 6,
   "id": "6537f970",
   "metadata": {},
   "outputs": [
    {
     "data": {
      "text/plain": [
       "53015"
      ]
     },
     "execution_count": 6,
     "metadata": {},
     "output_type": "execute_result"
    }
   ],
   "source": [
    "# Check that transfers are all between 1st Jan to 7th Jan\n",
    "first_half_date_filter_bool_start = transfers[\"date_requested\"] >= datetime(2022, 1, 10)\n",
    "first_half_date_filter_bool_end = transfers[\"date_requested\"] < datetime(2022, 1, 15)\n",
    "transfers_within_date_range = transfers[first_half_date_filter_bool_start & first_half_date_filter_bool_end]\n",
    "len(transfers_within_date_range)"
   ]
  },
  {
   "cell_type": "markdown",
   "id": "524ee8de",
   "metadata": {},
   "source": [
    "## Generating the transfer level report"
   ]
  },
  {
   "cell_type": "code",
   "execution_count": 7,
   "id": "14ecee51",
   "metadata": {},
   "outputs": [
    {
     "data": {
      "text/plain": [
       "2602"
      ]
     },
     "execution_count": 7,
     "metadata": {},
     "output_type": "execute_result"
    }
   ],
   "source": [
    "# Look for transfers that have status Technical Failure or Unclassified Failure\n",
    "failed_transfers_bool = (transfers_within_date_range[\"status\"] == \"Technical failure\")| (transfers_within_date_range[\"status\"] == \"Unclassified failure\")\n",
    "failed_transfers = transfers_within_date_range[failed_transfers_bool]\n",
    "len(failed_transfers)"
   ]
  },
  {
   "cell_type": "code",
   "execution_count": 8,
   "id": "fd98f386",
   "metadata": {},
   "outputs": [
    {
     "data": {
      "text/html": [
       "<div>\n",
       "<style scoped>\n",
       "    .dataframe tbody tr th:only-of-type {\n",
       "        vertical-align: middle;\n",
       "    }\n",
       "\n",
       "    .dataframe tbody tr th {\n",
       "        vertical-align: top;\n",
       "    }\n",
       "\n",
       "    .dataframe thead th {\n",
       "        text-align: right;\n",
       "    }\n",
       "</style>\n",
       "<table border=\"1\" class=\"dataframe\">\n",
       "  <thead>\n",
       "    <tr style=\"text-align: right;\">\n",
       "      <th></th>\n",
       "      <th>conversation_id</th>\n",
       "      <th>sla_duration</th>\n",
       "      <th>requesting_practice_asid</th>\n",
       "      <th>sending_practice_asid</th>\n",
       "      <th>requesting_supplier</th>\n",
       "      <th>sending_supplier</th>\n",
       "      <th>sender_error_codes</th>\n",
       "      <th>final_error_codes</th>\n",
       "      <th>intermediate_error_codes</th>\n",
       "      <th>status</th>\n",
       "      <th>...</th>\n",
       "      <th>requesting_practice_name</th>\n",
       "      <th>requesting_ccg_ods_code</th>\n",
       "      <th>requesting_ccg_name</th>\n",
       "      <th>sending_practice_ods_code</th>\n",
       "      <th>sending_practice_name</th>\n",
       "      <th>sending_ccg_ods_code</th>\n",
       "      <th>sending_ccg_name</th>\n",
       "      <th>unique_sender_error_codes</th>\n",
       "      <th>unique_final_error_codes</th>\n",
       "      <th>unique_intermediate_error_codes</th>\n",
       "    </tr>\n",
       "  </thead>\n",
       "  <tbody>\n",
       "    <tr>\n",
       "      <th>44</th>\n",
       "      <td>2C80E49A-6595-4471-A7B8-93191CF0C732</td>\n",
       "      <td>NaN</td>\n",
       "      <td>506430031019</td>\n",
       "      <td>251505143015</td>\n",
       "      <td>EMIS</td>\n",
       "      <td>EMIS</td>\n",
       "      <td>[nan, 20.0, nan]</td>\n",
       "      <td>[]</td>\n",
       "      <td>[29]</td>\n",
       "      <td>Unclassified failure</td>\n",
       "      <td>...</td>\n",
       "      <td>LYTHAM ROAD SURGERY</td>\n",
       "      <td>01E</td>\n",
       "      <td>NHS GREATER PRESTON CCG</td>\n",
       "      <td>P81055</td>\n",
       "      <td>BERRY LANE MEDICAL CENTRE</td>\n",
       "      <td>01E</td>\n",
       "      <td>NHS GREATER PRESTON CCG</td>\n",
       "      <td>[20.0]</td>\n",
       "      <td>[]</td>\n",
       "      <td>[29]</td>\n",
       "    </tr>\n",
       "  </tbody>\n",
       "</table>\n",
       "<p>1 rows × 25 columns</p>\n",
       "</div>"
      ],
      "text/plain": [
       "                         conversation_id  sla_duration  \\\n",
       "44  2C80E49A-6595-4471-A7B8-93191CF0C732           NaN   \n",
       "\n",
       "   requesting_practice_asid sending_practice_asid requesting_supplier  \\\n",
       "44             506430031019          251505143015                EMIS   \n",
       "\n",
       "   sending_supplier sender_error_codes final_error_codes  \\\n",
       "44             EMIS   [nan, 20.0, nan]                []   \n",
       "\n",
       "   intermediate_error_codes                status  ...  \\\n",
       "44                     [29]  Unclassified failure  ...   \n",
       "\n",
       "   requesting_practice_name requesting_ccg_ods_code      requesting_ccg_name  \\\n",
       "44      LYTHAM ROAD SURGERY                     01E  NHS GREATER PRESTON CCG   \n",
       "\n",
       "   sending_practice_ods_code      sending_practice_name sending_ccg_ods_code  \\\n",
       "44                    P81055  BERRY LANE MEDICAL CENTRE                  01E   \n",
       "\n",
       "           sending_ccg_name unique_sender_error_codes  \\\n",
       "44  NHS GREATER PRESTON CCG                    [20.0]   \n",
       "\n",
       "   unique_final_error_codes unique_intermediate_error_codes  \n",
       "44                       []                            [29]  \n",
       "\n",
       "[1 rows x 25 columns]"
      ]
     },
     "execution_count": 8,
     "metadata": {},
     "output_type": "execute_result"
    }
   ],
   "source": [
    "# Remove Nan and duplicate occurrences in error codes, and sort them\n",
    "def filter_error_codes(error_codes_column):\n",
    "    return error_codes_column.apply(lambda error_codes: [error_code for error_code in sorted(set(error_codes)) if not np.isnan(error_code)])\n",
    "\n",
    "# This is important otherwise notebook will complain about mutating original list/dataset in function calls below\n",
    "failed_transfers = failed_transfers.copy()\n",
    "\n",
    "failed_transfers[\"unique_sender_error_codes\"] = filter_error_codes(failed_transfers[\"sender_error_codes\"])\n",
    "failed_transfers[\"unique_final_error_codes\"] = filter_error_codes(failed_transfers[\"final_error_codes\"])\n",
    "failed_transfers[\"unique_intermediate_error_codes\"] = filter_error_codes(failed_transfers[\"intermediate_error_codes\"])\n",
    "failed_transfers.head(1)"
   ]
  },
  {
   "cell_type": "code",
   "execution_count": 9,
   "id": "63600111",
   "metadata": {},
   "outputs": [],
   "source": [
    "error_code_lookup_file = pd.read_csv(data.gp2gp_response_codes.path)\n",
    "error_code_lookup = error_code_lookup_file.set_index(\"ErrorCode\")[\"ErrorName\"]"
   ]
  },
  {
   "cell_type": "code",
   "execution_count": 10,
   "id": "c25e0a6d",
   "metadata": {},
   "outputs": [],
   "source": [
    "# Add descriptions from lookup to error code columns\n",
    "def convert_error_list_to_formatted_string_list_with_error_lookup(error_code_list):\n",
    "    return \", \".join([str(error_code.astype(int))+\" - \"+str(error_code_lookup[error_code]) for error_code in error_code_list])\n",
    "\n",
    "failed_transfers[\"unique_sender_error_codes_with_description\"] = failed_transfers[\"unique_sender_error_codes\"].apply(convert_error_list_to_formatted_string_list_with_error_lookup)\n",
    "failed_transfers[\"unique_final_error_codes_with_description\"] = failed_transfers[\"unique_final_error_codes\"].apply(convert_error_list_to_formatted_string_list_with_error_lookup)\n",
    "failed_transfers[\"unique_intermediate_error_codes_with_description\"] = failed_transfers[\"unique_intermediate_error_codes\"].apply(convert_error_list_to_formatted_string_list_with_error_lookup)"
   ]
  },
  {
   "cell_type": "code",
   "execution_count": 11,
   "id": "91f224e2",
   "metadata": {},
   "outputs": [
    {
     "data": {
      "text/html": [
       "<div>\n",
       "<style scoped>\n",
       "    .dataframe tbody tr th:only-of-type {\n",
       "        vertical-align: middle;\n",
       "    }\n",
       "\n",
       "    .dataframe tbody tr th {\n",
       "        vertical-align: top;\n",
       "    }\n",
       "\n",
       "    .dataframe thead th {\n",
       "        text-align: right;\n",
       "    }\n",
       "</style>\n",
       "<table border=\"1\" class=\"dataframe\">\n",
       "  <thead>\n",
       "    <tr style=\"text-align: right;\">\n",
       "      <th></th>\n",
       "      <th>Sending Practice ODS</th>\n",
       "      <th>Sending Supplier</th>\n",
       "      <th>Requesting Practice ODS</th>\n",
       "      <th>Requesting Supplier</th>\n",
       "      <th>Conversation ID</th>\n",
       "      <th>Date Requested</th>\n",
       "      <th>Status</th>\n",
       "      <th>Failure Reason</th>\n",
       "      <th>Unique Sender Errors</th>\n",
       "      <th>Unique Final Errors</th>\n",
       "      <th>Unique Intermediate Errors</th>\n",
       "    </tr>\n",
       "  </thead>\n",
       "  <tbody>\n",
       "    <tr>\n",
       "      <th>44</th>\n",
       "      <td>P81055</td>\n",
       "      <td>EMIS</td>\n",
       "      <td>P81015</td>\n",
       "      <td>EMIS</td>\n",
       "      <td>2C80E49A-6595-4471-A7B8-93191CF0C732</td>\n",
       "      <td>2022-01-10 18:28:00.132</td>\n",
       "      <td>Unclassified failure</td>\n",
       "      <td>Transferred, not integrated, with error</td>\n",
       "      <td>20 - Spine error</td>\n",
       "      <td></td>\n",
       "      <td>29 - LM reassembly</td>\n",
       "    </tr>\n",
       "    <tr>\n",
       "      <th>160</th>\n",
       "      <td>P84030</td>\n",
       "      <td>EMIS</td>\n",
       "      <td>P84005</td>\n",
       "      <td>EMIS</td>\n",
       "      <td>1B26E2FA-A788-4385-B219-39EA61C71CCA</td>\n",
       "      <td>2022-01-10 16:50:07.097</td>\n",
       "      <td>Technical failure</td>\n",
       "      <td>COPC(s) not acknowledged</td>\n",
       "      <td></td>\n",
       "      <td></td>\n",
       "      <td></td>\n",
       "    </tr>\n",
       "  </tbody>\n",
       "</table>\n",
       "</div>"
      ],
      "text/plain": [
       "    Sending Practice ODS Sending Supplier Requesting Practice ODS  \\\n",
       "44                P81055             EMIS                  P81015   \n",
       "160               P84030             EMIS                  P84005   \n",
       "\n",
       "    Requesting Supplier                       Conversation ID  \\\n",
       "44                 EMIS  2C80E49A-6595-4471-A7B8-93191CF0C732   \n",
       "160                EMIS  1B26E2FA-A788-4385-B219-39EA61C71CCA   \n",
       "\n",
       "             Date Requested                Status  \\\n",
       "44  2022-01-10 18:28:00.132  Unclassified failure   \n",
       "160 2022-01-10 16:50:07.097     Technical failure   \n",
       "\n",
       "                              Failure Reason Unique Sender Errors  \\\n",
       "44   Transferred, not integrated, with error     20 - Spine error   \n",
       "160                 COPC(s) not acknowledged                        \n",
       "\n",
       "    Unique Final Errors Unique Intermediate Errors  \n",
       "44                              29 - LM reassembly  \n",
       "160                                                 "
      ]
     },
     "execution_count": 11,
     "metadata": {},
     "output_type": "execute_result"
    }
   ],
   "source": [
    "# Prune columns we want to keep for the report\n",
    "columns_to_keep = [\n",
    "    'sending_practice_ods_code',\n",
    "    'sending_supplier',\n",
    "    'requesting_practice_ods_code',    \n",
    "    'requesting_supplier',\n",
    "    'conversation_id', \n",
    "    'date_requested', \n",
    "    'status',\n",
    "    'failure_reason', \n",
    "    'unique_sender_error_codes_with_description', \n",
    "    'unique_final_error_codes_with_description',\n",
    "    'unique_intermediate_error_codes_with_description']\n",
    "\n",
    "failed_transfers_with_filtered_and_renamed_columns = failed_transfers[columns_to_keep]\n",
    "\n",
    "failed_transfers_with_filtered_and_renamed_columns=failed_transfers_with_filtered_and_renamed_columns.rename({\n",
    "    \"sending_practice_ods_code\":\"Sending Practice ODS\",\n",
    "    \"sending_supplier\":\"Sending Supplier\",\n",
    "    \"requesting_practice_ods_code\":\"Requesting Practice ODS\",\n",
    "    \"requesting_supplier\":\"Requesting Supplier\",\n",
    "    \"conversation_id\":\"Conversation ID\",\n",
    "    \"date_requested\":\"Date Requested\",\n",
    "    \"status\":\"Status\",\n",
    "    \"failure_reason\":\"Failure Reason\",\n",
    "    \"unique_sender_error_codes_with_description\":\"Unique Sender Errors\",\n",
    "    \"unique_final_error_codes_with_description\":\"Unique Final Errors\",\n",
    "    \"unique_intermediate_error_codes_with_description\":\"Unique Intermediate Errors\"\n",
    "    },axis=1)\n",
    "\n",
    "failed_transfers_with_filtered_and_renamed_columns.head(2)"
   ]
  },
  {
   "cell_type": "markdown",
   "id": "c2bf9627",
   "metadata": {},
   "source": [
    "## Unique error codes count"
   ]
  },
  {
   "cell_type": "code",
   "execution_count": 12,
   "id": "c548e3d8",
   "metadata": {},
   "outputs": [
    {
     "name": "stdout",
     "output_type": "stream",
     "text": [
      "12 Jan after fix [total transfers:53015, total failed transfers (technical + unclassified): 2602]\n"
     ]
    },
    {
     "data": {
      "text/html": [
       "<div>\n",
       "<style scoped>\n",
       "    .dataframe tbody tr th:only-of-type {\n",
       "        vertical-align: middle;\n",
       "    }\n",
       "\n",
       "    .dataframe tbody tr th {\n",
       "        vertical-align: top;\n",
       "    }\n",
       "\n",
       "    .dataframe thead th {\n",
       "        text-align: right;\n",
       "    }\n",
       "</style>\n",
       "<table border=\"1\" class=\"dataframe\">\n",
       "  <thead>\n",
       "    <tr style=\"text-align: right;\">\n",
       "      <th></th>\n",
       "      <th>unique_sender_error_codes_count</th>\n",
       "      <th>unique_final_error_codes_count</th>\n",
       "      <th>unique_intermediate_error_codes_count</th>\n",
       "    </tr>\n",
       "  </thead>\n",
       "  <tbody>\n",
       "    <tr>\n",
       "      <th>20.0</th>\n",
       "      <td>533.0</td>\n",
       "      <td>2.0</td>\n",
       "      <td>NaN</td>\n",
       "    </tr>\n",
       "    <tr>\n",
       "      <th>30.0</th>\n",
       "      <td>420.0</td>\n",
       "      <td>146.0</td>\n",
       "      <td>NaN</td>\n",
       "    </tr>\n",
       "    <tr>\n",
       "      <th>10.0</th>\n",
       "      <td>379.0</td>\n",
       "      <td>NaN</td>\n",
       "      <td>NaN</td>\n",
       "    </tr>\n",
       "    <tr>\n",
       "      <th>6.0</th>\n",
       "      <td>53.0</td>\n",
       "      <td>NaN</td>\n",
       "      <td>NaN</td>\n",
       "    </tr>\n",
       "    <tr>\n",
       "      <th>7.0</th>\n",
       "      <td>16.0</td>\n",
       "      <td>NaN</td>\n",
       "      <td>NaN</td>\n",
       "    </tr>\n",
       "    <tr>\n",
       "      <th>19.0</th>\n",
       "      <td>11.0</td>\n",
       "      <td>NaN</td>\n",
       "      <td>NaN</td>\n",
       "    </tr>\n",
       "    <tr>\n",
       "      <th>14.0</th>\n",
       "      <td>3.0</td>\n",
       "      <td>NaN</td>\n",
       "      <td>NaN</td>\n",
       "    </tr>\n",
       "    <tr>\n",
       "      <th>23.0</th>\n",
       "      <td>2.0</td>\n",
       "      <td>NaN</td>\n",
       "      <td>NaN</td>\n",
       "    </tr>\n",
       "    <tr>\n",
       "      <th>12.0</th>\n",
       "      <td>NaN</td>\n",
       "      <td>148.0</td>\n",
       "      <td>NaN</td>\n",
       "    </tr>\n",
       "    <tr>\n",
       "      <th>31.0</th>\n",
       "      <td>NaN</td>\n",
       "      <td>83.0</td>\n",
       "      <td>NaN</td>\n",
       "    </tr>\n",
       "    <tr>\n",
       "      <th>99.0</th>\n",
       "      <td>NaN</td>\n",
       "      <td>52.0</td>\n",
       "      <td>NaN</td>\n",
       "    </tr>\n",
       "    <tr>\n",
       "      <th>25.0</th>\n",
       "      <td>NaN</td>\n",
       "      <td>20.0</td>\n",
       "      <td>NaN</td>\n",
       "    </tr>\n",
       "    <tr>\n",
       "      <th>11.0</th>\n",
       "      <td>NaN</td>\n",
       "      <td>19.0</td>\n",
       "      <td>NaN</td>\n",
       "    </tr>\n",
       "    <tr>\n",
       "      <th>28.0</th>\n",
       "      <td>NaN</td>\n",
       "      <td>19.0</td>\n",
       "      <td>NaN</td>\n",
       "    </tr>\n",
       "    <tr>\n",
       "      <th>17.0</th>\n",
       "      <td>NaN</td>\n",
       "      <td>14.0</td>\n",
       "      <td>NaN</td>\n",
       "    </tr>\n",
       "    <tr>\n",
       "      <th>29.0</th>\n",
       "      <td>NaN</td>\n",
       "      <td>NaN</td>\n",
       "      <td>123.0</td>\n",
       "    </tr>\n",
       "  </tbody>\n",
       "</table>\n",
       "</div>"
      ],
      "text/plain": [
       "      unique_sender_error_codes_count  unique_final_error_codes_count  \\\n",
       "20.0                            533.0                             2.0   \n",
       "30.0                            420.0                           146.0   \n",
       "10.0                            379.0                             NaN   \n",
       "6.0                              53.0                             NaN   \n",
       "7.0                              16.0                             NaN   \n",
       "19.0                             11.0                             NaN   \n",
       "14.0                              3.0                             NaN   \n",
       "23.0                              2.0                             NaN   \n",
       "12.0                              NaN                           148.0   \n",
       "31.0                              NaN                            83.0   \n",
       "99.0                              NaN                            52.0   \n",
       "25.0                              NaN                            20.0   \n",
       "11.0                              NaN                            19.0   \n",
       "28.0                              NaN                            19.0   \n",
       "17.0                              NaN                            14.0   \n",
       "29.0                              NaN                             NaN   \n",
       "\n",
       "      unique_intermediate_error_codes_count  \n",
       "20.0                                    NaN  \n",
       "30.0                                    NaN  \n",
       "10.0                                    NaN  \n",
       "6.0                                     NaN  \n",
       "7.0                                     NaN  \n",
       "19.0                                    NaN  \n",
       "14.0                                    NaN  \n",
       "23.0                                    NaN  \n",
       "12.0                                    NaN  \n",
       "31.0                                    NaN  \n",
       "99.0                                    NaN  \n",
       "25.0                                    NaN  \n",
       "11.0                                    NaN  \n",
       "28.0                                    NaN  \n",
       "17.0                                    NaN  \n",
       "29.0                                  123.0  "
      ]
     },
     "execution_count": 12,
     "metadata": {},
     "output_type": "execute_result"
    }
   ],
   "source": [
    "data = {\n",
    "    'unique_sender_error_codes_count': failed_transfers.explode(\"unique_sender_error_codes\").value_counts(\"unique_sender_error_codes\"),\n",
    "    'unique_final_error_codes_count': failed_transfers.explode(\"unique_final_error_codes\").value_counts(\"unique_final_error_codes\"),\n",
    "    'unique_intermediate_error_codes_count': failed_transfers.explode(\"unique_intermediate_error_codes\").value_counts(\"unique_intermediate_error_codes\")\n",
    "    }\n",
    "df = pd.DataFrame(data=data)\n",
    "\n",
    "print(\"10 - 14 Jan after fix [total transfers:\"+str(len(transfers_within_date_range))+\", total failed transfers (technical + unclassified): \"+str(len(failed_transfers))+\"]\")\n",
    "df.sort_values(by=[\"unique_sender_error_codes_count\", \"unique_final_error_codes_count\", \"unique_intermediate_error_codes_count\"], ascending=False)"
   ]
  },
  {
   "cell_type": "code",
   "execution_count": 13,
   "id": "88da0f10",
   "metadata": {},
   "outputs": [
    {
     "data": {
      "text/plain": [
       "unique_sender_error_codes_count          1417.0\n",
       "unique_final_error_codes_count            503.0\n",
       "unique_intermediate_error_codes_count     123.0\n",
       "dtype: float64"
      ]
     },
     "execution_count": 13,
     "metadata": {},
     "output_type": "execute_result"
    }
   ],
   "source": [
    "df.sum(axis=0)"
   ]
  },
  {
   "cell_type": "markdown",
   "id": "98ed17f9",
   "metadata": {},
   "source": [
    "## Generating High level table"
   ]
  },
  {
   "cell_type": "code",
   "execution_count": 14,
   "id": "7858d931",
   "metadata": {},
   "outputs": [
    {
     "data": {
      "text/html": [
       "<div>\n",
       "<style scoped>\n",
       "    .dataframe tbody tr th:only-of-type {\n",
       "        vertical-align: middle;\n",
       "    }\n",
       "\n",
       "    .dataframe tbody tr th {\n",
       "        vertical-align: top;\n",
       "    }\n",
       "\n",
       "    .dataframe thead th {\n",
       "        text-align: right;\n",
       "    }\n",
       "</style>\n",
       "<table border=\"1\" class=\"dataframe\">\n",
       "  <thead>\n",
       "    <tr style=\"text-align: right;\">\n",
       "      <th></th>\n",
       "      <th>conversation_id</th>\n",
       "      <th>sla_duration</th>\n",
       "      <th>requesting_practice_asid</th>\n",
       "      <th>sending_practice_asid</th>\n",
       "      <th>requesting_supplier</th>\n",
       "      <th>sending_supplier</th>\n",
       "      <th>sender_error_codes</th>\n",
       "      <th>final_error_codes</th>\n",
       "      <th>intermediate_error_codes</th>\n",
       "      <th>status</th>\n",
       "      <th>...</th>\n",
       "      <th>sending_practice_ods_code</th>\n",
       "      <th>sending_practice_name</th>\n",
       "      <th>sending_ccg_ods_code</th>\n",
       "      <th>sending_ccg_name</th>\n",
       "      <th>unique_sender_error_codes</th>\n",
       "      <th>unique_final_error_codes</th>\n",
       "      <th>unique_intermediate_error_codes</th>\n",
       "      <th>unique_sender_error_codes_with_description</th>\n",
       "      <th>unique_final_error_codes_with_description</th>\n",
       "      <th>unique_intermediate_error_codes_with_description</th>\n",
       "    </tr>\n",
       "  </thead>\n",
       "  <tbody>\n",
       "    <tr>\n",
       "      <th>0</th>\n",
       "      <td>ACC89960-723A-11EC-9DA3-697C4ED3AFC3</td>\n",
       "      <td>NaN</td>\n",
       "      <td>464548612017</td>\n",
       "      <td>093942532040</td>\n",
       "      <td>SystmOne</td>\n",
       "      <td>EMIS</td>\n",
       "      <td>[nan]</td>\n",
       "      <td>[]</td>\n",
       "      <td>[]</td>\n",
       "      <td>Process failure</td>\n",
       "      <td>...</td>\n",
       "      <td>C81016</td>\n",
       "      <td>PEAK &amp; DALES MEDICAL PARTNERSHIP</td>\n",
       "      <td>15M</td>\n",
       "      <td>NHS DERBY AND DERBYSHIRE CCG</td>\n",
       "      <td>[]</td>\n",
       "      <td>[]</td>\n",
       "      <td>[]</td>\n",
       "      <td></td>\n",
       "      <td></td>\n",
       "      <td></td>\n",
       "    </tr>\n",
       "  </tbody>\n",
       "</table>\n",
       "<p>1 rows × 28 columns</p>\n",
       "</div>"
      ],
      "text/plain": [
       "                        conversation_id  sla_duration  \\\n",
       "0  ACC89960-723A-11EC-9DA3-697C4ED3AFC3           NaN   \n",
       "\n",
       "  requesting_practice_asid sending_practice_asid requesting_supplier  \\\n",
       "0             464548612017          093942532040            SystmOne   \n",
       "\n",
       "  sending_supplier sender_error_codes final_error_codes  \\\n",
       "0             EMIS              [nan]                []   \n",
       "\n",
       "  intermediate_error_codes           status  ... sending_practice_ods_code  \\\n",
       "0                       []  Process failure  ...                    C81016   \n",
       "\n",
       "              sending_practice_name sending_ccg_ods_code  \\\n",
       "0  PEAK & DALES MEDICAL PARTNERSHIP                  15M   \n",
       "\n",
       "               sending_ccg_name unique_sender_error_codes  \\\n",
       "0  NHS DERBY AND DERBYSHIRE CCG                        []   \n",
       "\n",
       "  unique_final_error_codes unique_intermediate_error_codes  \\\n",
       "0                       []                              []   \n",
       "\n",
       "  unique_sender_error_codes_with_description  \\\n",
       "0                                              \n",
       "\n",
       "  unique_final_error_codes_with_description  \\\n",
       "0                                             \n",
       "\n",
       "  unique_intermediate_error_codes_with_description  \n",
       "0                                                   \n",
       "\n",
       "[1 rows x 28 columns]"
      ]
     },
     "execution_count": 14,
     "metadata": {},
     "output_type": "execute_result"
    }
   ],
   "source": [
    "# Format the errors to be readable strings\n",
    "transfers_within_date_range[\"unique_sender_error_codes\"] = filter_error_codes(transfers_within_date_range[\"sender_error_codes\"])\n",
    "transfers_within_date_range[\"unique_final_error_codes\"] = filter_error_codes(transfers_within_date_range[\"final_error_codes\"])\n",
    "transfers_within_date_range[\"unique_intermediate_error_codes\"] = filter_error_codes(transfers_within_date_range[\"intermediate_error_codes\"])\n",
    "\n",
    "transfers_within_date_range[\"unique_sender_error_codes_with_description\"] = transfers_within_date_range[\"unique_sender_error_codes\"].apply(convert_error_list_to_formatted_string_list_with_error_lookup)\n",
    "transfers_within_date_range[\"unique_final_error_codes_with_description\"] = transfers_within_date_range[\"unique_final_error_codes\"].apply(convert_error_list_to_formatted_string_list_with_error_lookup)\n",
    "transfers_within_date_range[\"unique_intermediate_error_codes_with_description\"] = transfers_within_date_range[\"unique_intermediate_error_codes\"].apply(convert_error_list_to_formatted_string_list_with_error_lookup)\n",
    "transfers_within_date_range.head(1)"
   ]
  },
  {
   "cell_type": "code",
   "execution_count": 15,
   "id": "81b7db3f",
   "metadata": {},
   "outputs": [],
   "source": [
    "def generate_high_level_table(transfers_sample):\n",
    "    # Create High level table\n",
    "    high_level_table=transfers_sample.fillna(\"N/A\").groupby([\"requesting_supplier\",\"sending_supplier\",\"status\",\"failure_reason\", \"unique_final_error_codes_with_description\", \"unique_sender_error_codes_with_description\", \"unique_intermediate_error_codes_with_description\"]).agg({\"conversation_id\":\"count\"})\n",
    "    high_level_table=high_level_table.rename({\"conversation_id\":\"number of transfers\"},axis=1).reset_index()\n",
    "\n",
    "    # Count % of transfers\n",
    "    total_number_transfers = transfers_sample.shape[0]\n",
    "    high_level_table[\"% of transfers\"]=(high_level_table[\"number of transfers\"]/total_number_transfers).multiply(100)\n",
    "    \n",
    "    # Count % of technical failures\n",
    "    technical_failed_transfers_bool = transfers_sample[\"status\"] == \"Technical failure\"\n",
    "    technical_failed_transfers = transfers_sample[technical_failed_transfers_bool]\n",
    "    total_number_technical_failed_transfers = technical_failed_transfers.shape[0]\n",
    "    technical_failed_transfers_table_bool = high_level_table[\"status\"] == \"Technical failure\"\n",
    "    high_level_table.loc[technical_failed_transfers_table_bool, \"% of technical failures\"]=(high_level_table.loc[technical_failed_transfers_table_bool, \"number of transfers\"]/total_number_technical_failed_transfers).multiply(100)\n",
    "    \n",
    "    # Count by supplier pathway\n",
    "    supplier_pathway_counts = transfers_sample.fillna(\"Unknown\").groupby(by=[\"sending_supplier\", \"requesting_supplier\"]).agg({\"conversation_id\": \"count\"})[\"conversation_id\"]\n",
    "    high_level_table[\"% of supplier pathway\"]=high_level_table.apply(lambda row: row[\"number of transfers\"]/supplier_pathway_counts.loc[(row[\"sending_supplier\"],row[\"requesting_supplier\"])],axis=1).multiply(100)\n",
    "\n",
    "    # Select and re-order table\n",
    "    grouping_columns_order=[\"requesting_supplier\",\"sending_supplier\",\"status\",\"failure_reason\", \"unique_final_error_codes_with_description\", \"unique_sender_error_codes_with_description\", \"unique_intermediate_error_codes_with_description\"]\n",
    "    counting_columns_order=[\"number of transfers\",\"% of transfers\",\"% of technical failures\",\"% of supplier pathway\"]\n",
    "    high_level_table=high_level_table[grouping_columns_order+counting_columns_order].sort_values(by=\"number of transfers\",ascending=False)\n",
    "    \n",
    "    # Rename the columns\n",
    "    high_level_table=high_level_table.rename({\n",
    "        \"sending_supplier\":\"sending supplier\",\n",
    "        \"requesting_supplier\":\"requesting supplier\",\n",
    "        \"status\":\"status\",\n",
    "        \"failure_reason\":\"failure reason\",\n",
    "        \"unique_final_error_codes_with_description\":\"unique final errors\",\n",
    "        \"unique_sender_error_codes_with_description\":\"unique sender errors\",\n",
    "        \"unique_intermediate_error_codes_with_description\":\"unique intermediate errors\"\n",
    "        },axis=1)\n",
    "    \n",
    "    # Replace all N/A with empty strings primarily for error columns\n",
    "    high_level_table=high_level_table.replace(\"N/A\", \"\")\n",
    "    \n",
    "    return high_level_table"
   ]
  },
  {
   "cell_type": "code",
   "execution_count": 16,
   "id": "3034bdb7",
   "metadata": {},
   "outputs": [],
   "source": [
    "with pd.ExcelWriter(\"PRMT-2500-Error-code-combination-and-transfer-level-table-10-14th-Jan-1-day-cut-off.xlsx\") as writer:\n",
    "     generate_high_level_table(transfers_within_date_range).to_excel(writer, sheet_name=\"Error Code Combination Table\",index=False)\n",
    "     failed_transfers_with_filtered_and_renamed_columns.to_excel(writer, sheet_name=\"Transfer level failures\",index=False)"
   ]
  }
 ],
 "metadata": {
  "kernelspec": {
   "display_name": "conda_python3",
   "language": "python",
   "name": "conda_python3"
  },
  "language_info": {
   "codemirror_mode": {
    "name": "ipython",
    "version": 3
   },
   "file_extension": ".py",
   "mimetype": "text/x-python",
   "name": "python",
   "nbconvert_exporter": "python",
   "pygments_lexer": "ipython3",
   "version": "3.6.13"
  }
 },
 "nbformat": 4,
 "nbformat_minor": 5
}
