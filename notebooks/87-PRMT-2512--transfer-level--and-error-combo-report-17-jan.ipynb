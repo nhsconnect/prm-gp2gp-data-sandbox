{
 "cells": [
  {
   "cell_type": "markdown",
   "id": "4df72adc",
   "metadata": {},
   "source": [
    "# PRMT-2512 - Transfer and Error Code combination table for 17th Jan"
   ]
  },
  {
   "cell_type": "markdown",
   "id": "3f62742b",
   "metadata": {},
   "source": [
    "## Context\n",
    "Run error combo table and transfer level failure report for 17th Jan with no cut off"
   ]
  },
  {
   "cell_type": "code",
   "execution_count": 1,
   "id": "cc488c16",
   "metadata": {},
   "outputs": [],
   "source": [
    "import pandas as pd \n",
    "import numpy as np\n",
    "import paths, data\n",
    "from sklearn.preprocessing import MultiLabelBinarizer\n",
    "from datetime import datetime\n",
    "from data.practice_metadata import read_asid_metadata"
   ]
  },
  {
   "cell_type": "markdown",
   "id": "dc9c17b5",
   "metadata": {},
   "source": [
    "## Check spine messages\n",
    "\n",
    "Using Splunk web: 331988 events on 17th Jan"
   ]
  },
  {
   "cell_type": "code",
   "execution_count": 2,
   "id": "5f2e3853",
   "metadata": {},
   "outputs": [],
   "source": [
    "spine_messages_17_jan = pd.read_csv(\"s3://prm-gp2gp-raw-spine-data-dev/v3/2022/01/17/2022-01-17_spine_messages.csv.gz\")"
   ]
  },
  {
   "cell_type": "code",
   "execution_count": 3,
   "id": "1db1ffd0",
   "metadata": {},
   "outputs": [
    {
     "data": {
      "text/plain": [
       "331988"
      ]
     },
     "execution_count": 3,
     "metadata": {},
     "output_type": "execute_result"
    }
   ],
   "source": [
    "spine_messages_17_jan.shape[0]"
   ]
  },
  {
   "cell_type": "markdown",
   "id": "db9d572a",
   "metadata": {},
   "source": [
    "## Import transfer dataset"
   ]
  },
  {
   "cell_type": "code",
   "execution_count": 4,
   "id": "55685ad4",
   "metadata": {},
   "outputs": [],
   "source": [
    "error_code_lookup_file = pd.read_csv(data.gp2gp_response_codes.path)\n",
    "error_code_lookup = error_code_lookup_file.set_index(\"ErrorCode\")[\"ErrorName\"]"
   ]
  },
  {
   "cell_type": "code",
   "execution_count": 5,
   "id": "9bdcb540",
   "metadata": {},
   "outputs": [
    {
     "data": {
      "text/plain": [
       "10497"
      ]
     },
     "execution_count": 5,
     "metadata": {},
     "output_type": "execute_result"
    }
   ],
   "source": [
    "asid_lookup = read_asid_metadata(\"prm-gp2gp-ods-metadata-dev\", \"v2/2022/1/organisationMetadata.json\")\n",
    "transfer_file_location = \"s3://prm-gp2gp-transfer-data-dev/v7/cutoff-0/2022/01/17/2022-01-17-transfers.parquet\"\n",
    "\n",
    "transfers_raw = pd.read_parquet(transfer_file_location)\n",
    "transfers = transfers_raw\\\n",
    "    .join(asid_lookup.add_prefix(\"requesting_\"), on=\"requesting_practice_asid\", how=\"left\")\\\n",
    "    .join(asid_lookup.add_prefix(\"sending_\"), on=\"sending_practice_asid\", how=\"left\")\\\n",
    "\n",
    "transfers[\"status\"] = transfers[\"status\"].str.replace(\"_\", \" \").str.capitalize()\n",
    "\n",
    "len(transfers)"
   ]
  },
  {
   "cell_type": "code",
   "execution_count": 6,
   "id": "04460937",
   "metadata": {},
   "outputs": [
    {
     "data": {
      "text/plain": [
       "10497"
      ]
     },
     "execution_count": 6,
     "metadata": {},
     "output_type": "execute_result"
    }
   ],
   "source": [
    "# Check that transfers are all on 17th Jan\n",
    "first_half_date_filter_bool_start = transfers[\"date_requested\"] >= datetime(2022, 1, 17)\n",
    "first_half_date_filter_bool_end = transfers[\"date_requested\"] < datetime(2022, 1, 18)\n",
    "transfers_within_date_range = transfers[first_half_date_filter_bool_start & first_half_date_filter_bool_end]\n",
    "len(transfers_within_date_range)"
   ]
  },
  {
   "cell_type": "markdown",
   "id": "6a6580dc",
   "metadata": {},
   "source": [
    "## Generating the transfer level report"
   ]
  },
  {
   "cell_type": "code",
   "execution_count": 7,
   "id": "faaa4e52",
   "metadata": {},
   "outputs": [
    {
     "data": {
      "text/plain": [
       "267"
      ]
     },
     "execution_count": 7,
     "metadata": {},
     "output_type": "execute_result"
    }
   ],
   "source": [
    "# Look for transfers that have status Technical Failure or Unclassified Failure\n",
    "failed_transfers_bool = (transfers_within_date_range[\"status\"] == \"Technical failure\")| (transfers_within_date_range[\"status\"] == \"Unclassified failure\")\n",
    "failed_transfers = transfers_within_date_range[failed_transfers_bool]\n",
    "len(failed_transfers)"
   ]
  },
  {
   "cell_type": "code",
   "execution_count": 8,
   "id": "046524f1",
   "metadata": {},
   "outputs": [
    {
     "data": {
      "text/html": [
       "<div>\n",
       "<style scoped>\n",
       "    .dataframe tbody tr th:only-of-type {\n",
       "        vertical-align: middle;\n",
       "    }\n",
       "\n",
       "    .dataframe tbody tr th {\n",
       "        vertical-align: top;\n",
       "    }\n",
       "\n",
       "    .dataframe thead th {\n",
       "        text-align: right;\n",
       "    }\n",
       "</style>\n",
       "<table border=\"1\" class=\"dataframe\">\n",
       "  <thead>\n",
       "    <tr style=\"text-align: right;\">\n",
       "      <th></th>\n",
       "      <th>conversation_id</th>\n",
       "      <th>sla_duration</th>\n",
       "      <th>requesting_practice_asid</th>\n",
       "      <th>sending_practice_asid</th>\n",
       "      <th>requesting_supplier</th>\n",
       "      <th>sending_supplier</th>\n",
       "      <th>sender_error_codes</th>\n",
       "      <th>final_error_codes</th>\n",
       "      <th>intermediate_error_codes</th>\n",
       "      <th>status</th>\n",
       "      <th>...</th>\n",
       "      <th>requesting_practice_name</th>\n",
       "      <th>requesting_ccg_ods_code</th>\n",
       "      <th>requesting_ccg_name</th>\n",
       "      <th>sending_practice_ods_code</th>\n",
       "      <th>sending_practice_name</th>\n",
       "      <th>sending_ccg_ods_code</th>\n",
       "      <th>sending_ccg_name</th>\n",
       "      <th>unique_sender_error_codes</th>\n",
       "      <th>unique_final_error_codes</th>\n",
       "      <th>unique_intermediate_error_codes</th>\n",
       "    </tr>\n",
       "  </thead>\n",
       "  <tbody>\n",
       "    <tr>\n",
       "      <th>34</th>\n",
       "      <td>7984FC23-1BFC-4652-AC08-D50ADC5D693F</td>\n",
       "      <td>52.0</td>\n",
       "      <td>031590848011</td>\n",
       "      <td>789841028044</td>\n",
       "      <td>EMIS</td>\n",
       "      <td>EMIS</td>\n",
       "      <td>[nan]</td>\n",
       "      <td>[99.0]</td>\n",
       "      <td>[]</td>\n",
       "      <td>Technical failure</td>\n",
       "      <td>...</td>\n",
       "      <td>AMBLESIDE HEALTH CENTRE</td>\n",
       "      <td>01K</td>\n",
       "      <td>NHS MORECAMBE BAY CCG</td>\n",
       "      <td>P88020</td>\n",
       "      <td>CHEADLE MEDICAL PRACTICE</td>\n",
       "      <td>01W</td>\n",
       "      <td>NHS STOCKPORT CCG</td>\n",
       "      <td>[]</td>\n",
       "      <td>[99.0]</td>\n",
       "      <td>[]</td>\n",
       "    </tr>\n",
       "  </tbody>\n",
       "</table>\n",
       "<p>1 rows × 25 columns</p>\n",
       "</div>"
      ],
      "text/plain": [
       "                         conversation_id  sla_duration  \\\n",
       "34  7984FC23-1BFC-4652-AC08-D50ADC5D693F          52.0   \n",
       "\n",
       "   requesting_practice_asid sending_practice_asid requesting_supplier  \\\n",
       "34             031590848011          789841028044                EMIS   \n",
       "\n",
       "   sending_supplier sender_error_codes final_error_codes  \\\n",
       "34             EMIS              [nan]            [99.0]   \n",
       "\n",
       "   intermediate_error_codes             status  ... requesting_practice_name  \\\n",
       "34                       []  Technical failure  ...  AMBLESIDE HEALTH CENTRE   \n",
       "\n",
       "   requesting_ccg_ods_code    requesting_ccg_name sending_practice_ods_code  \\\n",
       "34                     01K  NHS MORECAMBE BAY CCG                    P88020   \n",
       "\n",
       "       sending_practice_name sending_ccg_ods_code   sending_ccg_name  \\\n",
       "34  CHEADLE MEDICAL PRACTICE                  01W  NHS STOCKPORT CCG   \n",
       "\n",
       "   unique_sender_error_codes unique_final_error_codes  \\\n",
       "34                        []                   [99.0]   \n",
       "\n",
       "   unique_intermediate_error_codes  \n",
       "34                              []  \n",
       "\n",
       "[1 rows x 25 columns]"
      ]
     },
     "execution_count": 8,
     "metadata": {},
     "output_type": "execute_result"
    }
   ],
   "source": [
    "# Remove Nan and duplicate occurrences in error codes, and sort them\n",
    "def filter_error_codes(error_codes_column):\n",
    "    return error_codes_column.apply(lambda error_codes: [error_code for error_code in sorted(set(error_codes)) if not np.isnan(error_code)])\n",
    "\n",
    "# This is important otherwise notebook will complain about mutating original list/dataset in function calls below\n",
    "failed_transfers = failed_transfers.copy()\n",
    "\n",
    "failed_transfers[\"unique_sender_error_codes\"] = filter_error_codes(failed_transfers[\"sender_error_codes\"])\n",
    "failed_transfers[\"unique_final_error_codes\"] = filter_error_codes(failed_transfers[\"final_error_codes\"])\n",
    "failed_transfers[\"unique_intermediate_error_codes\"] = filter_error_codes(failed_transfers[\"intermediate_error_codes\"])\n",
    "failed_transfers.head(1)"
   ]
  },
  {
   "cell_type": "code",
   "execution_count": 9,
   "id": "d84c8cf3",
   "metadata": {},
   "outputs": [],
   "source": [
    "error_code_lookup_file = pd.read_csv(data.gp2gp_response_codes.path)\n",
    "error_code_lookup = error_code_lookup_file.set_index(\"ErrorCode\")[\"ErrorName\"]"
   ]
  },
  {
   "cell_type": "code",
   "execution_count": 10,
   "id": "04490d8c",
   "metadata": {},
   "outputs": [],
   "source": [
    "# Add descriptions from lookup to error code columns\n",
    "def convert_error_list_to_formatted_string_list_with_error_lookup(error_code_list):\n",
    "    return \", \".join([str(error_code.astype(int))+\" - \"+str(error_code_lookup[error_code]) for error_code in error_code_list])\n",
    "\n",
    "failed_transfers[\"unique_sender_error_codes_with_description\"] = failed_transfers[\"unique_sender_error_codes\"].apply(convert_error_list_to_formatted_string_list_with_error_lookup)\n",
    "failed_transfers[\"unique_final_error_codes_with_description\"] = failed_transfers[\"unique_final_error_codes\"].apply(convert_error_list_to_formatted_string_list_with_error_lookup)\n",
    "failed_transfers[\"unique_intermediate_error_codes_with_description\"] = failed_transfers[\"unique_intermediate_error_codes\"].apply(convert_error_list_to_formatted_string_list_with_error_lookup)"
   ]
  },
  {
   "cell_type": "code",
   "execution_count": 11,
   "id": "77a5de28",
   "metadata": {},
   "outputs": [
    {
     "data": {
      "text/html": [
       "<div>\n",
       "<style scoped>\n",
       "    .dataframe tbody tr th:only-of-type {\n",
       "        vertical-align: middle;\n",
       "    }\n",
       "\n",
       "    .dataframe tbody tr th {\n",
       "        vertical-align: top;\n",
       "    }\n",
       "\n",
       "    .dataframe thead th {\n",
       "        text-align: right;\n",
       "    }\n",
       "</style>\n",
       "<table border=\"1\" class=\"dataframe\">\n",
       "  <thead>\n",
       "    <tr style=\"text-align: right;\">\n",
       "      <th></th>\n",
       "      <th>Sending Practice ODS</th>\n",
       "      <th>Sending Supplier</th>\n",
       "      <th>Requesting Practice ODS</th>\n",
       "      <th>Requesting Supplier</th>\n",
       "      <th>Conversation ID</th>\n",
       "      <th>Date Requested</th>\n",
       "      <th>Status</th>\n",
       "      <th>Failure Reason</th>\n",
       "      <th>Unique Sender Errors</th>\n",
       "      <th>Unique Final Errors</th>\n",
       "      <th>Unique Intermediate Errors</th>\n",
       "    </tr>\n",
       "  </thead>\n",
       "  <tbody>\n",
       "    <tr>\n",
       "      <th>34</th>\n",
       "      <td>P88020</td>\n",
       "      <td>EMIS</td>\n",
       "      <td>A82005</td>\n",
       "      <td>EMIS</td>\n",
       "      <td>7984FC23-1BFC-4652-AC08-D50ADC5D693F</td>\n",
       "      <td>2022-01-17 15:56:47.366</td>\n",
       "      <td>Technical failure</td>\n",
       "      <td>Final error</td>\n",
       "      <td></td>\n",
       "      <td>99 - Unexpected</td>\n",
       "      <td></td>\n",
       "    </tr>\n",
       "    <tr>\n",
       "      <th>122</th>\n",
       "      <td>P81002</td>\n",
       "      <td>EMIS</td>\n",
       "      <td>Y03035</td>\n",
       "      <td>EMIS</td>\n",
       "      <td>6A2ECBE9-8F82-450F-A5C1-4D732F504599</td>\n",
       "      <td>2022-01-17 13:46:32.076</td>\n",
       "      <td>Unclassified failure</td>\n",
       "      <td>Ambiguous COPC messages</td>\n",
       "      <td></td>\n",
       "      <td>12 - Duplicate EHR</td>\n",
       "      <td></td>\n",
       "    </tr>\n",
       "  </tbody>\n",
       "</table>\n",
       "</div>"
      ],
      "text/plain": [
       "    Sending Practice ODS Sending Supplier Requesting Practice ODS  \\\n",
       "34                P88020             EMIS                  A82005   \n",
       "122               P81002             EMIS                  Y03035   \n",
       "\n",
       "    Requesting Supplier                       Conversation ID  \\\n",
       "34                 EMIS  7984FC23-1BFC-4652-AC08-D50ADC5D693F   \n",
       "122                EMIS  6A2ECBE9-8F82-450F-A5C1-4D732F504599   \n",
       "\n",
       "             Date Requested                Status           Failure Reason  \\\n",
       "34  2022-01-17 15:56:47.366     Technical failure              Final error   \n",
       "122 2022-01-17 13:46:32.076  Unclassified failure  Ambiguous COPC messages   \n",
       "\n",
       "    Unique Sender Errors Unique Final Errors Unique Intermediate Errors  \n",
       "34                           99 - Unexpected                             \n",
       "122                       12 - Duplicate EHR                             "
      ]
     },
     "execution_count": 11,
     "metadata": {},
     "output_type": "execute_result"
    }
   ],
   "source": [
    "# Prune columns we want to keep for the report\n",
    "columns_to_keep = [\n",
    "    'sending_practice_ods_code',\n",
    "    'sending_supplier',\n",
    "    'requesting_practice_ods_code',    \n",
    "    'requesting_supplier',\n",
    "    'conversation_id', \n",
    "    'date_requested', \n",
    "    'status',\n",
    "    'failure_reason', \n",
    "    'unique_sender_error_codes_with_description', \n",
    "    'unique_final_error_codes_with_description',\n",
    "    'unique_intermediate_error_codes_with_description']\n",
    "\n",
    "failed_transfers_with_filtered_and_renamed_columns = failed_transfers[columns_to_keep]\n",
    "\n",
    "failed_transfers_with_filtered_and_renamed_columns=failed_transfers_with_filtered_and_renamed_columns.rename({\n",
    "    \"sending_practice_ods_code\":\"Sending Practice ODS\",\n",
    "    \"sending_supplier\":\"Sending Supplier\",\n",
    "    \"requesting_practice_ods_code\":\"Requesting Practice ODS\",\n",
    "    \"requesting_supplier\":\"Requesting Supplier\",\n",
    "    \"conversation_id\":\"Conversation ID\",\n",
    "    \"date_requested\":\"Date Requested\",\n",
    "    \"status\":\"Status\",\n",
    "    \"failure_reason\":\"Failure Reason\",\n",
    "    \"unique_sender_error_codes_with_description\":\"Unique Sender Errors\",\n",
    "    \"unique_final_error_codes_with_description\":\"Unique Final Errors\",\n",
    "    \"unique_intermediate_error_codes_with_description\":\"Unique Intermediate Errors\"\n",
    "    },axis=1)\n",
    "\n",
    "failed_transfers_with_filtered_and_renamed_columns.head(2)"
   ]
  },
  {
   "cell_type": "markdown",
   "id": "b6a160f2",
   "metadata": {},
   "source": [
    "## Unique error codes count"
   ]
  },
  {
   "cell_type": "code",
   "execution_count": 12,
   "id": "7a3a5452",
   "metadata": {},
   "outputs": [
    {
     "name": "stdout",
     "output_type": "stream",
     "text": [
      "17 Jan after fix [total transfers:10497, total failed transfers (technical + unclassified): 267]\n"
     ]
    },
    {
     "data": {
      "text/html": [
       "<div>\n",
       "<style scoped>\n",
       "    .dataframe tbody tr th:only-of-type {\n",
       "        vertical-align: middle;\n",
       "    }\n",
       "\n",
       "    .dataframe tbody tr th {\n",
       "        vertical-align: top;\n",
       "    }\n",
       "\n",
       "    .dataframe thead th {\n",
       "        text-align: right;\n",
       "    }\n",
       "</style>\n",
       "<table border=\"1\" class=\"dataframe\">\n",
       "  <thead>\n",
       "    <tr style=\"text-align: right;\">\n",
       "      <th></th>\n",
       "      <th>unique_sender_error_codes_count</th>\n",
       "      <th>unique_final_error_codes_count</th>\n",
       "      <th>unique_intermediate_error_codes_count</th>\n",
       "    </tr>\n",
       "  </thead>\n",
       "  <tbody>\n",
       "    <tr>\n",
       "      <th>30.0</th>\n",
       "      <td>92.0</td>\n",
       "      <td>7.0</td>\n",
       "      <td>NaN</td>\n",
       "    </tr>\n",
       "    <tr>\n",
       "      <th>20.0</th>\n",
       "      <td>31.0</td>\n",
       "      <td>NaN</td>\n",
       "      <td>NaN</td>\n",
       "    </tr>\n",
       "    <tr>\n",
       "      <th>10.0</th>\n",
       "      <td>27.0</td>\n",
       "      <td>NaN</td>\n",
       "      <td>NaN</td>\n",
       "    </tr>\n",
       "    <tr>\n",
       "      <th>6.0</th>\n",
       "      <td>6.0</td>\n",
       "      <td>NaN</td>\n",
       "      <td>NaN</td>\n",
       "    </tr>\n",
       "    <tr>\n",
       "      <th>12.0</th>\n",
       "      <td>NaN</td>\n",
       "      <td>22.0</td>\n",
       "      <td>NaN</td>\n",
       "    </tr>\n",
       "    <tr>\n",
       "      <th>99.0</th>\n",
       "      <td>NaN</td>\n",
       "      <td>13.0</td>\n",
       "      <td>NaN</td>\n",
       "    </tr>\n",
       "    <tr>\n",
       "      <th>11.0</th>\n",
       "      <td>NaN</td>\n",
       "      <td>6.0</td>\n",
       "      <td>NaN</td>\n",
       "    </tr>\n",
       "    <tr>\n",
       "      <th>31.0</th>\n",
       "      <td>NaN</td>\n",
       "      <td>6.0</td>\n",
       "      <td>NaN</td>\n",
       "    </tr>\n",
       "    <tr>\n",
       "      <th>17.0</th>\n",
       "      <td>NaN</td>\n",
       "      <td>3.0</td>\n",
       "      <td>NaN</td>\n",
       "    </tr>\n",
       "    <tr>\n",
       "      <th>21.0</th>\n",
       "      <td>NaN</td>\n",
       "      <td>1.0</td>\n",
       "      <td>NaN</td>\n",
       "    </tr>\n",
       "    <tr>\n",
       "      <th>29.0</th>\n",
       "      <td>NaN</td>\n",
       "      <td>NaN</td>\n",
       "      <td>9.0</td>\n",
       "    </tr>\n",
       "  </tbody>\n",
       "</table>\n",
       "</div>"
      ],
      "text/plain": [
       "      unique_sender_error_codes_count  unique_final_error_codes_count  \\\n",
       "30.0                             92.0                             7.0   \n",
       "20.0                             31.0                             NaN   \n",
       "10.0                             27.0                             NaN   \n",
       "6.0                               6.0                             NaN   \n",
       "12.0                              NaN                            22.0   \n",
       "99.0                              NaN                            13.0   \n",
       "11.0                              NaN                             6.0   \n",
       "31.0                              NaN                             6.0   \n",
       "17.0                              NaN                             3.0   \n",
       "21.0                              NaN                             1.0   \n",
       "29.0                              NaN                             NaN   \n",
       "\n",
       "      unique_intermediate_error_codes_count  \n",
       "30.0                                    NaN  \n",
       "20.0                                    NaN  \n",
       "10.0                                    NaN  \n",
       "6.0                                     NaN  \n",
       "12.0                                    NaN  \n",
       "99.0                                    NaN  \n",
       "11.0                                    NaN  \n",
       "31.0                                    NaN  \n",
       "17.0                                    NaN  \n",
       "21.0                                    NaN  \n",
       "29.0                                    9.0  "
      ]
     },
     "execution_count": 12,
     "metadata": {},
     "output_type": "execute_result"
    }
   ],
   "source": [
    "data = {\n",
    "    'unique_sender_error_codes_count': failed_transfers.explode(\"unique_sender_error_codes\").value_counts(\"unique_sender_error_codes\"),\n",
    "    'unique_final_error_codes_count': failed_transfers.explode(\"unique_final_error_codes\").value_counts(\"unique_final_error_codes\"),\n",
    "    'unique_intermediate_error_codes_count': failed_transfers.explode(\"unique_intermediate_error_codes\").value_counts(\"unique_intermediate_error_codes\")\n",
    "    }\n",
    "df = pd.DataFrame(data=data)\n",
    "\n",
    "print(\"17 Jan after fix [total transfers:\"+str(len(transfers_within_date_range))+\", total failed transfers (technical + unclassified): \"+str(len(failed_transfers))+\"]\")\n",
    "df.sort_values(by=[\"unique_sender_error_codes_count\", \"unique_final_error_codes_count\", \"unique_intermediate_error_codes_count\"], ascending=False)"
   ]
  },
  {
   "cell_type": "code",
   "execution_count": 13,
   "id": "c7593b58",
   "metadata": {},
   "outputs": [
    {
     "data": {
      "text/plain": [
       "unique_sender_error_codes_count          156.0\n",
       "unique_final_error_codes_count            58.0\n",
       "unique_intermediate_error_codes_count      9.0\n",
       "dtype: float64"
      ]
     },
     "execution_count": 13,
     "metadata": {},
     "output_type": "execute_result"
    }
   ],
   "source": [
    "df.sum(axis=0)"
   ]
  },
  {
   "cell_type": "markdown",
   "id": "b8a9e448",
   "metadata": {},
   "source": [
    "## Generating High level table"
   ]
  },
  {
   "cell_type": "code",
   "execution_count": 14,
   "id": "edcc026d",
   "metadata": {},
   "outputs": [
    {
     "data": {
      "text/html": [
       "<div>\n",
       "<style scoped>\n",
       "    .dataframe tbody tr th:only-of-type {\n",
       "        vertical-align: middle;\n",
       "    }\n",
       "\n",
       "    .dataframe tbody tr th {\n",
       "        vertical-align: top;\n",
       "    }\n",
       "\n",
       "    .dataframe thead th {\n",
       "        text-align: right;\n",
       "    }\n",
       "</style>\n",
       "<table border=\"1\" class=\"dataframe\">\n",
       "  <thead>\n",
       "    <tr style=\"text-align: right;\">\n",
       "      <th></th>\n",
       "      <th>conversation_id</th>\n",
       "      <th>sla_duration</th>\n",
       "      <th>requesting_practice_asid</th>\n",
       "      <th>sending_practice_asid</th>\n",
       "      <th>requesting_supplier</th>\n",
       "      <th>sending_supplier</th>\n",
       "      <th>sender_error_codes</th>\n",
       "      <th>final_error_codes</th>\n",
       "      <th>intermediate_error_codes</th>\n",
       "      <th>status</th>\n",
       "      <th>...</th>\n",
       "      <th>sending_practice_ods_code</th>\n",
       "      <th>sending_practice_name</th>\n",
       "      <th>sending_ccg_ods_code</th>\n",
       "      <th>sending_ccg_name</th>\n",
       "      <th>unique_sender_error_codes</th>\n",
       "      <th>unique_final_error_codes</th>\n",
       "      <th>unique_intermediate_error_codes</th>\n",
       "      <th>unique_sender_error_codes_with_description</th>\n",
       "      <th>unique_final_error_codes_with_description</th>\n",
       "      <th>unique_intermediate_error_codes_with_description</th>\n",
       "    </tr>\n",
       "  </thead>\n",
       "  <tbody>\n",
       "    <tr>\n",
       "      <th>0</th>\n",
       "      <td>1F4CE0D9-49B5-41EA-8B50-A13FF8F7533A</td>\n",
       "      <td>6509.0</td>\n",
       "      <td>343076154040</td>\n",
       "      <td>946977962046</td>\n",
       "      <td>EMIS</td>\n",
       "      <td>EMIS</td>\n",
       "      <td>[nan]</td>\n",
       "      <td>[15.0]</td>\n",
       "      <td>[]</td>\n",
       "      <td>Integrated on time</td>\n",
       "      <td>...</td>\n",
       "      <td>G82015</td>\n",
       "      <td>PENCESTER SURGERY</td>\n",
       "      <td>91Q</td>\n",
       "      <td>NHS KENT AND MEDWAY CCG</td>\n",
       "      <td>[]</td>\n",
       "      <td>[15.0]</td>\n",
       "      <td>[]</td>\n",
       "      <td></td>\n",
       "      <td>15 - ABA suppressed</td>\n",
       "      <td></td>\n",
       "    </tr>\n",
       "  </tbody>\n",
       "</table>\n",
       "<p>1 rows × 28 columns</p>\n",
       "</div>"
      ],
      "text/plain": [
       "                        conversation_id  sla_duration  \\\n",
       "0  1F4CE0D9-49B5-41EA-8B50-A13FF8F7533A        6509.0   \n",
       "\n",
       "  requesting_practice_asid sending_practice_asid requesting_supplier  \\\n",
       "0             343076154040          946977962046                EMIS   \n",
       "\n",
       "  sending_supplier sender_error_codes final_error_codes  \\\n",
       "0             EMIS              [nan]            [15.0]   \n",
       "\n",
       "  intermediate_error_codes              status  ... sending_practice_ods_code  \\\n",
       "0                       []  Integrated on time  ...                    G82015   \n",
       "\n",
       "  sending_practice_name sending_ccg_ods_code         sending_ccg_name  \\\n",
       "0     PENCESTER SURGERY                  91Q  NHS KENT AND MEDWAY CCG   \n",
       "\n",
       "  unique_sender_error_codes unique_final_error_codes  \\\n",
       "0                        []                   [15.0]   \n",
       "\n",
       "  unique_intermediate_error_codes unique_sender_error_codes_with_description  \\\n",
       "0                              []                                              \n",
       "\n",
       "  unique_final_error_codes_with_description  \\\n",
       "0                       15 - ABA suppressed   \n",
       "\n",
       "  unique_intermediate_error_codes_with_description  \n",
       "0                                                   \n",
       "\n",
       "[1 rows x 28 columns]"
      ]
     },
     "execution_count": 14,
     "metadata": {},
     "output_type": "execute_result"
    }
   ],
   "source": [
    "# Format the errors to be readable strings\n",
    "transfers_within_date_range[\"unique_sender_error_codes\"] = filter_error_codes(transfers_within_date_range[\"sender_error_codes\"])\n",
    "transfers_within_date_range[\"unique_final_error_codes\"] = filter_error_codes(transfers_within_date_range[\"final_error_codes\"])\n",
    "transfers_within_date_range[\"unique_intermediate_error_codes\"] = filter_error_codes(transfers_within_date_range[\"intermediate_error_codes\"])\n",
    "\n",
    "transfers_within_date_range[\"unique_sender_error_codes_with_description\"] = transfers_within_date_range[\"unique_sender_error_codes\"].apply(convert_error_list_to_formatted_string_list_with_error_lookup)\n",
    "transfers_within_date_range[\"unique_final_error_codes_with_description\"] = transfers_within_date_range[\"unique_final_error_codes\"].apply(convert_error_list_to_formatted_string_list_with_error_lookup)\n",
    "transfers_within_date_range[\"unique_intermediate_error_codes_with_description\"] = transfers_within_date_range[\"unique_intermediate_error_codes\"].apply(convert_error_list_to_formatted_string_list_with_error_lookup)\n",
    "transfers_within_date_range.head(1)"
   ]
  },
  {
   "cell_type": "code",
   "execution_count": 15,
   "id": "af7c804d",
   "metadata": {},
   "outputs": [],
   "source": [
    "def generate_high_level_table(transfers_sample):\n",
    "    # Create High level table\n",
    "    high_level_table=transfers_sample.fillna(\"N/A\").groupby([\"requesting_supplier\",\"sending_supplier\",\"status\",\"failure_reason\", \"unique_final_error_codes_with_description\", \"unique_sender_error_codes_with_description\", \"unique_intermediate_error_codes_with_description\"]).agg({\"conversation_id\":\"count\"})\n",
    "    high_level_table=high_level_table.rename({\"conversation_id\":\"number of transfers\"},axis=1).reset_index()\n",
    "\n",
    "    # Count % of transfers\n",
    "    total_number_transfers = transfers_sample.shape[0]\n",
    "    high_level_table[\"% of transfers\"]=(high_level_table[\"number of transfers\"]/total_number_transfers).multiply(100)\n",
    "    \n",
    "    # Count % of technical failures\n",
    "    technical_failed_transfers_bool = transfers_sample[\"status\"] == \"Technical failure\"\n",
    "    technical_failed_transfers = transfers_sample[technical_failed_transfers_bool]\n",
    "    total_number_technical_failed_transfers = technical_failed_transfers.shape[0]\n",
    "    technical_failed_transfers_table_bool = high_level_table[\"status\"] == \"Technical failure\"\n",
    "    high_level_table.loc[technical_failed_transfers_table_bool, \"% of technical failures\"]=(high_level_table.loc[technical_failed_transfers_table_bool, \"number of transfers\"]/total_number_technical_failed_transfers).multiply(100)\n",
    "    \n",
    "    # Count by supplier pathway\n",
    "    supplier_pathway_counts = transfers_sample.fillna(\"Unknown\").groupby(by=[\"sending_supplier\", \"requesting_supplier\"]).agg({\"conversation_id\": \"count\"})[\"conversation_id\"]\n",
    "    high_level_table[\"% of supplier pathway\"]=high_level_table.apply(lambda row: row[\"number of transfers\"]/supplier_pathway_counts.loc[(row[\"sending_supplier\"],row[\"requesting_supplier\"])],axis=1).multiply(100)\n",
    "\n",
    "    # Select and re-order table\n",
    "    grouping_columns_order=[\"requesting_supplier\",\"sending_supplier\",\"status\",\"failure_reason\", \"unique_final_error_codes_with_description\", \"unique_sender_error_codes_with_description\", \"unique_intermediate_error_codes_with_description\"]\n",
    "    counting_columns_order=[\"number of transfers\",\"% of transfers\",\"% of technical failures\",\"% of supplier pathway\"]\n",
    "    high_level_table=high_level_table[grouping_columns_order+counting_columns_order].sort_values(by=\"number of transfers\",ascending=False)\n",
    "    \n",
    "    # Rename the columns\n",
    "    high_level_table=high_level_table.rename({\n",
    "        \"sending_supplier\":\"sending supplier\",\n",
    "        \"requesting_supplier\":\"requesting supplier\",\n",
    "        \"status\":\"status\",\n",
    "        \"failure_reason\":\"failure reason\",\n",
    "        \"unique_final_error_codes_with_description\":\"unique final errors\",\n",
    "        \"unique_sender_error_codes_with_description\":\"unique sender errors\",\n",
    "        \"unique_intermediate_error_codes_with_description\":\"unique intermediate errors\"\n",
    "        },axis=1)\n",
    "    \n",
    "    # Replace all N/A with empty strings primarily for error columns\n",
    "    high_level_table=high_level_table.replace(\"N/A\", \"\")\n",
    "    \n",
    "    return high_level_table"
   ]
  },
  {
   "cell_type": "code",
   "execution_count": 16,
   "id": "4033584d",
   "metadata": {},
   "outputs": [],
   "source": [
    "with pd.ExcelWriter(\"PRMT-2512-Error-code-combination-and-transfer-level-table-17-jan.xlsx\") as writer:\n",
    "     generate_high_level_table(transfers_within_date_range).to_excel(writer, sheet_name=\"Error Code Combination Table\",index=False)\n",
    "     failed_transfers_with_filtered_and_renamed_columns.to_excel(writer, sheet_name=\"Transfer level failures\",index=False)"
   ]
  }
 ],
 "metadata": {
  "kernelspec": {
   "display_name": "conda_python3",
   "language": "python",
   "name": "conda_python3"
  },
  "language_info": {
   "codemirror_mode": {
    "name": "ipython",
    "version": 3
   },
   "file_extension": ".py",
   "mimetype": "text/x-python",
   "name": "python",
   "nbconvert_exporter": "python",
   "pygments_lexer": "ipython3",
   "version": "3.6.13"
  }
 },
 "nbformat": 4,
 "nbformat_minor": 5
}
