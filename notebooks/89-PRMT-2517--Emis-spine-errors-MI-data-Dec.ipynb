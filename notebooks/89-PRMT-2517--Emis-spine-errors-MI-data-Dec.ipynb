{
 "cells": [
  {
   "cell_type": "markdown",
   "id": "8593bd46",
   "metadata": {},
   "source": [
    "# PRMT-2517 Emis spine errors from MI data - Dec 2021"
   ]
  },
  {
   "cell_type": "raw",
   "id": "16359763",
   "metadata": {},
   "source": [
    "## Context\n",
    "\n",
    "We consistently see a large number of spine errors where EMIS is the sender. It appears from the current MI specification that we may be able to get more in-depth failure information to help us understand if there are different reasons behind these spine errors\n",
    "\n",
    "Questions to be answered using MI data:\n",
    "\n",
    "For a given month (Dec)\n",
    "\n",
    "1. Using December data, look at all transfers that failed with: core extract not sent, Spine error (20), where EMIS was the sender in the MI data\n",
    "\n",
    "2. Show a breakdown of which process failure points they map to (if any):\n",
    "\n",
    "- 0 = No failure\n",
    "- 10 = Patient look-up\n",
    "- 20 = PDS comparison with Requestor 30 = SDS lookup ASID & Party Key\n",
    "- 40 = SDS lookup Contract Props\n",
    "- 50 = SDS lookup for Large Message support\n",
    "- 60 = Send EHR\n",
    "- 70 = Manually Send duplicate EHR\n",
    "## Notes\n",
    "\n",
    "Data downloaded from Splunk using the following query:\n",
    "```\n",
    "index=\"gp2gp_nms_prod\" sourcetype=\"gp2gpmi-sr\"\n",
    "| table *\n",
    "```"
   ]
  },
  {
   "cell_type": "code",
   "execution_count": 2,
   "id": "819e3edd",
   "metadata": {},
   "outputs": [],
   "source": [
    "import pandas as pd\n",
    "import numpy as np\n",
    "import paths, data\n",
    "from data.practice_metadata import read_asid_metadata"
   ]
  },
  {
   "cell_type": "code",
   "execution_count": 3,
   "id": "81d936be",
   "metadata": {},
   "outputs": [
    {
     "name": "stderr",
     "output_type": "stream",
     "text": [
      "/home/ec2-user/anaconda3/envs/python3/lib/python3.6/site-packages/IPython/core/interactiveshell.py:3072: DtypeWarning: Columns (4,22) have mixed types.Specify dtype option on import or set low_memory=False.\n",
      "  interactivity=interactivity, compiler=compiler, result=result)\n"
     ]
    }
   ],
   "source": [
    "def convert_to_int(val):\n",
    "    try:\n",
    "        return int(val)\n",
    "    except:\n",
    "        return val\n",
    "\n",
    "mi_data_file_location = \"s3://prm-gp2gp-notebook-data-prod/PRMT-2517-EMIS-spine-errors-MI-Dec/MI_SR-Dec_2021.csv\"\n",
    "\n",
    "dates_fields = [\"RequestTime\", \"RequestAckTime\", \"ExtractFailureTime\", \"ExtractTime\", \"ConversationCloseTime\"]\n",
    "practice_registrations = pd.read_csv(mi_data_file_location, parse_dates=dates_fields).fillna(\"None\")\n",
    "\n",
    "practice_registrations[\"ExtractFailurePoint\"] = practice_registrations[\"ExtractFailurePoint\"].apply(convert_to_int)\n",
    "practice_registrations[\"ExtractFailureType\"] = practice_registrations[\"ExtractFailureType\"].apply(convert_to_int)\n",
    "practice_registrations[\"ExtractFailureErrorCode\"] = practice_registrations[\"ExtractFailureErrorCode\"].apply(convert_to_int)"
   ]
  },
  {
   "cell_type": "code",
   "execution_count": 4,
   "id": "12e5985f",
   "metadata": {},
   "outputs": [],
   "source": [
    "practice_registrations = (\n",
    "    practice_registrations\n",
    "        .sort_values(by=\"_time\", ascending=True)\n",
    "        .drop_duplicates(subset=[\"ConversationID\"], keep=\"last\")\n",
    "    )\n",
    "\n",
    "practice_registrations[\"ConversationIdLower\"] = practice_registrations[\"ConversationID\"].str.lower()"
   ]
  },
  {
   "cell_type": "code",
   "execution_count": 5,
   "id": "251a2855",
   "metadata": {},
   "outputs": [],
   "source": [
    "emis_errors_file_location = \"s3://prm-gp2gp-notebook-data-prod/PRMT-2517-EMIS-spine-errors-MI-Dec/EMIS-core-extract-not-sent-spine-errors-Dec-2021.csv\"\n",
    "\n",
    "emis_errors = pd.read_csv(emis_errors_file_location, parse_dates=[\"Date Requested\"]).fillna(\"None\")\n",
    "\n",
    "emis_errors[\"ConversationIdLower\"] = emis_errors[\"Conversation ID\"].str.lower()\n"
   ]
  },
  {
   "cell_type": "code",
   "execution_count": 6,
   "id": "257e9c04",
   "metadata": {},
   "outputs": [],
   "source": [
    "enhanced_left = emis_errors.merge(\n",
    "        practice_registrations[\n",
    "            ['ConversationIdLower',\n",
    "             'ExtractFailurePoint', \n",
    "             'ExtractFailureType',\n",
    "             'ExtractFailureErrorCode',\n",
    "             'ExtractFailureErrorDescription',\n",
    "             'RequestAckCode',\n",
    "             'RequestAckErrorCode',\n",
    "             'RequestAckErrorDescription',\n",
    "             'RequestAckFailureType',\n",
    "             'RequestorApplicationStatus'\n",
    "            ]], \n",
    "    how = \"left\", \n",
    "    on=\"ConversationIdLower\")\n"
   ]
  },
  {
   "cell_type": "code",
   "execution_count": 7,
   "id": "9ac39d74",
   "metadata": {},
   "outputs": [
    {
     "data": {
      "text/plain": [
       "ExtractFailurePoint  ExtractFailureType  ExtractFailureErrorCode\n",
       "60.0                 4                    20                        1090\n",
       "20.0                 3                   -31                           3\n",
       "70.0                 4                    20                           2\n",
       "dtype: int64"
      ]
     },
     "execution_count": 7,
     "metadata": {},
     "output_type": "execute_result"
    }
   ],
   "source": [
    "enhanced_left[['ExtractFailurePoint','ExtractFailureType','ExtractFailureErrorCode']].value_counts()"
   ]
  },
  {
   "cell_type": "code",
   "execution_count": 8,
   "id": "26d650c9",
   "metadata": {},
   "outputs": [],
   "source": [
    "with pd.ExcelWriter(\"PRMT-2517-Emis-Spine-Errors-MI-Dec-2021.xlsx\") as writer:\n",
    "     enhanced_left.to_excel(writer, sheet_name=\"Spine errors Dec 2021\",index=False)"
   ]
  }
 ],
 "metadata": {
  "kernelspec": {
   "display_name": "conda_python3",
   "language": "python",
   "name": "conda_python3"
  },
  "language_info": {
   "codemirror_mode": {
    "name": "ipython",
    "version": 3
   },
   "file_extension": ".py",
   "mimetype": "text/x-python",
   "name": "python",
   "nbconvert_exporter": "python",
   "pygments_lexer": "ipython3",
   "version": "3.6.13"
  }
 },
 "nbformat": 4,
 "nbformat_minor": 5
}
