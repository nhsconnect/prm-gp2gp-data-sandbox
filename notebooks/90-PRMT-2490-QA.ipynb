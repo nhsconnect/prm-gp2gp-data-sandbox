{
 "cells": [
  {
   "cell_type": "markdown",
   "id": "e6b40204",
   "metadata": {},
   "source": [
    "# QA PRMT-2490 - List of Practices with transfers from Aug -Dec 2021"
   ]
  },
  {
   "cell_type": "markdown",
   "id": "c8a5e5df",
   "metadata": {},
   "source": [
    "## Context\n",
    "In order to find newly formed practices, we need to list Practices with their transfers from Aug-Dec 2021, group by ODS code and sort."
   ]
  },
  {
   "cell_type": "code",
   "execution_count": 1,
   "id": "0686a503",
   "metadata": {},
   "outputs": [],
   "source": [
    "import pandas as pd \n",
    "import numpy as np\n",
    "import paths, data\n",
    "from sklearn.preprocessing import MultiLabelBinarizer\n",
    "from datetime import datetime\n",
    "from data.practice_metadata import read_asid_metadata"
   ]
  },
  {
   "cell_type": "markdown",
   "id": "b4e52581",
   "metadata": {},
   "source": [
    "## Import transfer dataset"
   ]
  },
  {
   "cell_type": "code",
   "execution_count": 2,
   "id": "65c7fdcf",
   "metadata": {},
   "outputs": [],
   "source": [
    "error_code_lookup_file = pd.read_csv(data.gp2gp_response_codes.path)\n",
    "error_code_lookup = error_code_lookup_file.set_index(\"ErrorCode\")[\"ErrorName\"]"
   ]
  },
  {
   "cell_type": "code",
   "execution_count": 3,
   "id": "2ad93873",
   "metadata": {},
   "outputs": [],
   "source": [
    "asid_lookup = read_asid_metadata(\"prm-gp2gp-ods-metadata-dev\", \"v2/2022/1/organisationMetadata.json\")\n",
    "data_folder=\"s3://prm-gp2gp-transfer-data-dev/v6/2021\"\n",
    "\n",
    "transfer_parquet_files = [f\"{data_folder}/{month}/2021-{month}-transfers.parquet\" for month in range(8, 13)]\n",
    "\n",
    "transfers_raw = pd.concat([pd.read_parquet(file) for file in transfer_parquet_files])\n",
    "transfers = transfers_raw\\\n",
    "    .join(asid_lookup.add_prefix(\"requesting_\"), on=\"requesting_practice_asid\", how=\"left\")\\\n",
    "    .join(asid_lookup.add_prefix(\"sending_\"), on=\"sending_practice_asid\", how=\"left\")\\\n",
    "\n",
    "transfers[\"status\"] = transfers[\"status\"].str.replace(\"_\", \" \").str.capitalize()\n"
   ]
  },
  {
   "cell_type": "code",
   "execution_count": 4,
   "id": "50eec8df",
   "metadata": {},
   "outputs": [
    {
     "data": {
      "text/plain": [
       "1220244"
      ]
     },
     "execution_count": 4,
     "metadata": {},
     "output_type": "execute_result"
    }
   ],
   "source": [
    "transfers.shape[0]"
   ]
  },
  {
   "cell_type": "code",
   "execution_count": 5,
   "id": "a582af5a",
   "metadata": {},
   "outputs": [],
   "source": [
    "qa_data = transfers.groupby(by=[\"requesting_practice_ods_code\"]).agg({\"conversation_id\": \"count\"}).sort_values(by=[\"conversation_id\"],ascending=True)\n",
    "qa_data = qa_data.reset_index()"
   ]
  },
  {
   "cell_type": "code",
   "execution_count": 6,
   "id": "ad710e6e",
   "metadata": {},
   "outputs": [],
   "source": [
    "with pd.ExcelWriter(\"QA-PRMT-2490-list-of-practices.xlsx\") as writer:\n",
    "     qa_data.to_excel(writer, sheet_name=\"Pracices\",index=False)\n"
   ]
  }
 ],
 "metadata": {
  "kernelspec": {
   "display_name": "conda_python3",
   "language": "python",
   "name": "conda_python3"
  },
  "language_info": {
   "codemirror_mode": {
    "name": "ipython",
    "version": 3
   },
   "file_extension": ".py",
   "mimetype": "text/x-python",
   "name": "python",
   "nbconvert_exporter": "python",
   "pygments_lexer": "ipython3",
   "version": "3.6.13"
  }
 },
 "nbformat": 4,
 "nbformat_minor": 5
}
