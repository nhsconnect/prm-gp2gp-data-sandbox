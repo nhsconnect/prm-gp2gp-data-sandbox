{
 "cells": [
  {
   "cell_type": "markdown",
   "id": "799e5023",
   "metadata": {},
   "source": [
    "# PRMT-2608 Pre GP2GP failures from MI data for 2 CCGs"
   ]
  },
  {
   "cell_type": "markdown",
   "id": "58512cb4",
   "metadata": {},
   "source": [
    "## Context\n",
    "We have been in contact and working with a ccg who have been looking at issues that affect GP2GP, including pre-GP2GP issues. \n",
    "\n",
    "They have expressed a need to be able to see data about the pre-GP2GP part of the process to help them in their work to identify issues and the size of issues for their specific practices within the CCGs. \n",
    "\n",
    "This story is to create a one-off report for 01T and 01V CCGs (this is from the MI data source and not the spine logs). \n",
    "\n",
    "\n",
    "## Notes\n",
    "\n",
    "Data downloaded from Splunk using the following query (Feb 2022):\n",
    "```\n",
    "index=\"gp2gp_nms_prod\" sourcetype=\"gp2gpmi-rr\"\n",
    "| table *\n",
    "```"
   ]
  },
  {
   "cell_type": "code",
   "execution_count": 1,
   "id": "8725040d",
   "metadata": {},
   "outputs": [],
   "source": [
    "import pandas as pd\n",
    "import numpy as np\n",
    "import paths, data\n",
    "from data.practice_metadata import read_asid_metadata"
   ]
  },
  {
   "cell_type": "code",
   "execution_count": 2,
   "id": "84560a4b",
   "metadata": {},
   "outputs": [
    {
     "name": "stderr",
     "output_type": "stream",
     "text": [
      "/home/ec2-user/anaconda3/envs/python3/lib/python3.6/site-packages/IPython/core/interactiveshell.py:3072: DtypeWarning: Columns (2,3,17,20) have mixed types.Specify dtype option on import or set low_memory=False.\n",
      "  interactivity=interactivity, compiler=compiler, result=result)\n"
     ]
    }
   ],
   "source": [
    "def convert_to_float(val):\n",
    "    try:\n",
    "        return int(val)\n",
    "    except:\n",
    "        return val\n",
    "\n",
    "mi_data_file_location = \"s3://prm-gp2gp-notebook-data-prod/PRMT-2608-mi-report-for-pre-gp2gp-feb-2022/MI_Feb_2022.csv\"\n",
    "\n",
    "dates_fields = [\"RegistrationTime\", \"RequestFailureTime\", \"RequestTime\", \"ExtractTime\", \"ExtractAckTime\", \"ExtractAckFailureTime\"]\n",
    "practice_registrations = pd.read_csv(mi_data_file_location, parse_dates=dates_fields).fillna(\"None\")\n",
    "\n",
    "practice_registrations[\"RequestErrorCode\"] = practice_registrations[\"RequestErrorCode\"].apply(convert_to_float)\n",
    "practice_registrations[\"RequestFailureType\"] = practice_registrations[\"RequestFailureType\"].apply(convert_to_float)"
   ]
  },
  {
   "cell_type": "code",
   "execution_count": 3,
   "id": "d6a1d2dc",
   "metadata": {},
   "outputs": [],
   "source": [
    "# Create a unique key and drop duplicates\n",
    "practice_registrations[\"UniqueKey\"] = (practice_registrations[\"RegistrationSmartcardUID\"].astype(str)\n",
    "                                       + \"-\"\n",
    "                                       + practice_registrations[\"RegistrationTime\"].astype(str))\n",
    "\n",
    "practice_registrations = (\n",
    "    practice_registrations\n",
    "        .sort_values(by=\"_time\", ascending=True)\n",
    "        .drop_duplicates(subset=[\"UniqueKey\"], keep=\"last\")\n",
    "    )"
   ]
  },
  {
   "cell_type": "code",
   "execution_count": 4,
   "id": "d9b2f875",
   "metadata": {},
   "outputs": [
    {
     "data": {
      "text/plain": [
       "427741"
      ]
     },
     "execution_count": 4,
     "metadata": {},
     "output_type": "execute_result"
    }
   ],
   "source": [
    "# Check total number of registrations\n",
    "practice_registrations.shape[0]"
   ]
  },
  {
   "cell_type": "code",
   "execution_count": 5,
   "id": "bca6ef8c",
   "metadata": {},
   "outputs": [],
   "source": [
    "# Breakdown of all registrations that did not trigger GP2GP\n",
    "def has_conversation_id(value):\n",
    "    if value==\"None\":\n",
    "        return 0\n",
    "    else:\n",
    "        return 1\n",
    "    \n",
    "practice_registrations[\"Error scenario\"] = practice_registrations[[\"RequestFailurePoint\", \"RequestFailureType\", \"RequestErrorCode\"]].apply(lambda x: '_'.join(x.astype(str)), axis=1)\n",
    "practice_registrations[\"Triggered GP2GP\"] = practice_registrations.apply(lambda row: has_conversation_id(row[\"ConversationID\"]), axis=1)"
   ]
  },
  {
   "cell_type": "markdown",
   "id": "20d16e3d",
   "metadata": {},
   "source": [
    "## CCG 1 - 01T"
   ]
  },
  {
   "cell_type": "code",
   "execution_count": 6,
   "id": "5b969c89",
   "metadata": {},
   "outputs": [],
   "source": [
    "ccg_1_json = pd.read_json(\"https://directory.spineservices.nhs.uk/ORD/2-0-0/organisations?TargetOrgId=01T&RelTypeId=RE4&RelStatus=active&Limit=1000\")\n",
    "list_of_practice_ods_codes_for_ccg_1 = ccg_1_json[\"Organisations\"].apply(lambda practice: practice.get(\"OrgId\")).tolist()"
   ]
  },
  {
   "cell_type": "code",
   "execution_count": 7,
   "id": "074a00f3",
   "metadata": {},
   "outputs": [
    {
     "data": {
      "text/plain": [
       "(672, 54)"
      ]
     },
     "execution_count": 7,
     "metadata": {},
     "output_type": "execute_result"
    }
   ],
   "source": [
    "transfers_for_practices_within_ccg_1 = practice_registrations[\"RequestorODS\"].apply(lambda ods: ods in list_of_practice_ods_codes_for_ccg_1)\n",
    "transfers_for_practices_within_ccg_1 = practice_registrations[transfers_for_practices_within_ccg_1]\n",
    "transfers_for_practices_within_ccg_1.shape"
   ]
  },
  {
   "cell_type": "code",
   "execution_count": 8,
   "id": "8a646b67",
   "metadata": {},
   "outputs": [
    {
     "data": {
      "text/html": [
       "<div>\n",
       "<style scoped>\n",
       "    .dataframe tbody tr th:only-of-type {\n",
       "        vertical-align: middle;\n",
       "    }\n",
       "\n",
       "    .dataframe tbody tr th {\n",
       "        vertical-align: top;\n",
       "    }\n",
       "\n",
       "    .dataframe thead th {\n",
       "        text-align: right;\n",
       "    }\n",
       "</style>\n",
       "<table border=\"1\" class=\"dataframe\">\n",
       "  <thead>\n",
       "    <tr style=\"text-align: right;\">\n",
       "      <th></th>\n",
       "      <th></th>\n",
       "      <th></th>\n",
       "      <th></th>\n",
       "      <th>count</th>\n",
       "    </tr>\n",
       "    <tr>\n",
       "      <th>RequestFailurePoint</th>\n",
       "      <th>RequestFailureType</th>\n",
       "      <th>RequestErrorCode</th>\n",
       "      <th>Triggered GP2GP</th>\n",
       "      <th></th>\n",
       "    </tr>\n",
       "  </thead>\n",
       "  <tbody>\n",
       "    <tr>\n",
       "      <th>60</th>\n",
       "      <th>5</th>\n",
       "      <th>None</th>\n",
       "      <th>0</th>\n",
       "      <td>178</td>\n",
       "    </tr>\n",
       "    <tr>\n",
       "      <th>0</th>\n",
       "      <th>0</th>\n",
       "      <th>None</th>\n",
       "      <th>0</th>\n",
       "      <td>67</td>\n",
       "    </tr>\n",
       "    <tr>\n",
       "      <th>60</th>\n",
       "      <th>2</th>\n",
       "      <th>None</th>\n",
       "      <th>0</th>\n",
       "      <td>17</td>\n",
       "    </tr>\n",
       "    <tr>\n",
       "      <th>40</th>\n",
       "      <th>4</th>\n",
       "      <th>24</th>\n",
       "      <th>0</th>\n",
       "      <td>4</td>\n",
       "    </tr>\n",
       "    <tr>\n",
       "      <th>0</th>\n",
       "      <th>None</th>\n",
       "      <th>None</th>\n",
       "      <th>0</th>\n",
       "      <td>1</td>\n",
       "    </tr>\n",
       "    <tr>\n",
       "      <th>60</th>\n",
       "      <th>0</th>\n",
       "      <th>20</th>\n",
       "      <th>0</th>\n",
       "      <td>1</td>\n",
       "    </tr>\n",
       "  </tbody>\n",
       "</table>\n",
       "</div>"
      ],
      "text/plain": [
       "                                                                         count\n",
       "RequestFailurePoint RequestFailureType RequestErrorCode Triggered GP2GP       \n",
       "60                  5                  None             0                  178\n",
       "0                   0                  None             0                   67\n",
       "60                  2                  None             0                   17\n",
       "40                  4                  24               0                    4\n",
       "0                   None               None             0                    1\n",
       "60                  0                  20               0                    1"
      ]
     },
     "execution_count": 8,
     "metadata": {},
     "output_type": "execute_result"
    }
   ],
   "source": [
    "did_not_trigger_gp2gp_bool_ccg_1 = transfers_for_practices_within_ccg_1[\"Triggered GP2GP\"]==False\n",
    "practice_registrations_no_gp2gp_ccg_1 = transfers_for_practices_within_ccg_1[did_not_trigger_gp2gp_bool_ccg_1]\n",
    "\n",
    "registrations_that_didnt_trigger_gp2gp_grouped_by_failures_ccg_1 = (\n",
    "    practice_registrations_no_gp2gp_ccg_1\n",
    "        .groupby(by=[\"RequestFailurePoint\", \"RequestFailureType\", \"RequestErrorCode\", \"Triggered GP2GP\"])\n",
    "        .agg({\"UniqueKey\": \"count\"})\n",
    "        .rename(columns={\"UniqueKey\": \"count\"})\n",
    "        .sort_values(by=\"count\", ascending=False)\n",
    "    )\n",
    "registrations_that_didnt_trigger_gp2gp_grouped_by_failures_ccg_1"
   ]
  },
  {
   "cell_type": "code",
   "execution_count": 9,
   "id": "c525b26c",
   "metadata": {},
   "outputs": [],
   "source": [
    "# Breakdown of all registrations that did not trigger GP2GP by practice and error scenario\n",
    "practice_registrations_with_pre_gp2gp_error_scenarios_ccg_1 = practice_registrations_no_gp2gp_ccg_1.pivot_table(index=[\"RequestorODS\"], \n",
    "        columns=[\"Error scenario\"], \n",
    "        values=\"UniqueKey\", \n",
    "        aggfunc=\"count\").fillna(0).astype(int)"
   ]
  },
  {
   "cell_type": "code",
   "execution_count": 10,
   "id": "f1203d40",
   "metadata": {},
   "outputs": [],
   "source": [
    "# Create table with total number of registrations, number of registrations that triggered GP2GP and pre-GP2GP error scenario counts by practice\n",
    "practice_registrations_summary_ccg_1 = transfers_for_practices_within_ccg_1.groupby(\"RequestorODS\").agg({\"UniqueKey\":\"count\", \"Triggered GP2GP\": \"sum\"}).rename(columns={\"UniqueKey\": \"Total registrations\"})\n",
    "\n",
    "all_practice_registrations_with_pre_gp2gp_breakdown_ccg_1 = practice_registrations_summary_ccg_1.join(practice_registrations_with_pre_gp2gp_error_scenarios_ccg_1, how=\"left\").fillna(0).astype(int)"
   ]
  },
  {
   "cell_type": "code",
   "execution_count": 11,
   "id": "6c413716",
   "metadata": {},
   "outputs": [],
   "source": [
    "# Add practice names (via ASID lookup) to the table above\n",
    "asid_lookup = read_asid_metadata(\"prm-gp2gp-ods-metadata-preprod\", \"v3/2022/3/organisationMetadata.json\")[[\"practice_ods_code\", \"practice_name\"]]\n",
    "asid_lookup = asid_lookup.set_index(\"practice_ods_code\")\n",
    "\n",
    "practice_registrations_with_pivot_with_practice_names_ccg_1 = all_practice_registrations_with_pre_gp2gp_breakdown_ccg_1.join(asid_lookup, on=\"RequestorODS\", how=\"left\").fillna(\"None\")\n",
    "practice_registrations_with_pivot_with_practice_names_ccg_1 = practice_registrations_with_pivot_with_practice_names_ccg_1.drop_duplicates()\n",
    "practice_registrations_with_pivot_with_practice_names_ccg_1 = practice_registrations_with_pivot_with_practice_names_ccg_1.reset_index().rename(columns={\"practice_name\": \"Requesting practice name\", \"RequestorODS\": \"Requesting practice ODS\"})\n",
    "\n",
    "column_order_ccg_1 = [\"Requesting practice name\", \"Requesting practice ODS\", \"Total registrations\", \"Triggered GP2GP\", \"60_5_None\", \"60_2_None\", \"60_0_20\", \"40_4_24\", \"0_0_None\", \"0_None_None\"]\n",
    "practice_registrations_with_pivot_with_practice_names_ccg_1 = practice_registrations_with_pivot_with_practice_names_ccg_1[column_order_ccg_1].sort_values(by=\"Requesting practice name\", ascending=True)"
   ]
  },
  {
   "cell_type": "code",
   "execution_count": 13,
   "id": "d7515090",
   "metadata": {},
   "outputs": [],
   "source": [
    "with pd.ExcelWriter(\"PRMT-2608-Pre-GP2GP-failures-from-MI-data-Feb-2022-CCG-01T.xlsx\") as writer:\n",
    "     practice_registrations_with_pivot_with_practice_names_ccg_1.to_excel(writer, sheet_name=\"Pre-GP2GP errors 01T\",index=False)"
   ]
  },
  {
   "cell_type": "markdown",
   "id": "1e776a2e",
   "metadata": {},
   "source": [
    "# CCG 2 - 01V"
   ]
  },
  {
   "cell_type": "code",
   "execution_count": 20,
   "id": "a8b29786",
   "metadata": {},
   "outputs": [],
   "source": [
    "ccg_2_json = pd.read_json(\"https://directory.spineservices.nhs.uk/ORD/2-0-0/organisations?TargetOrgId=01V&RelTypeId=RE4&RelStatus=active&Limit=1000\")\n",
    "list_of_practice_ods_codes_for_ccg_2 = ccg_2_json[\"Organisations\"].apply(lambda practice: practice.get(\"OrgId\")).tolist()"
   ]
  },
  {
   "cell_type": "code",
   "execution_count": 21,
   "id": "26ccfdfc",
   "metadata": {},
   "outputs": [
    {
     "data": {
      "text/plain": [
       "(815, 54)"
      ]
     },
     "execution_count": 21,
     "metadata": {},
     "output_type": "execute_result"
    }
   ],
   "source": [
    "transfers_for_practices_within_ccg_2 = practice_registrations[\"RequestorODS\"].apply(lambda ods: ods in list_of_practice_ods_codes_for_ccg_2)\n",
    "transfers_for_practices_within_ccg_2 = practice_registrations[transfers_for_practices_within_ccg_2]\n",
    "transfers_for_practices_within_ccg_2.shape"
   ]
  },
  {
   "cell_type": "code",
   "execution_count": 22,
   "id": "a6084fe0",
   "metadata": {},
   "outputs": [
    {
     "data": {
      "text/html": [
       "<div>\n",
       "<style scoped>\n",
       "    .dataframe tbody tr th:only-of-type {\n",
       "        vertical-align: middle;\n",
       "    }\n",
       "\n",
       "    .dataframe tbody tr th {\n",
       "        vertical-align: top;\n",
       "    }\n",
       "\n",
       "    .dataframe thead th {\n",
       "        text-align: right;\n",
       "    }\n",
       "</style>\n",
       "<table border=\"1\" class=\"dataframe\">\n",
       "  <thead>\n",
       "    <tr style=\"text-align: right;\">\n",
       "      <th></th>\n",
       "      <th></th>\n",
       "      <th></th>\n",
       "      <th></th>\n",
       "      <th>count</th>\n",
       "    </tr>\n",
       "    <tr>\n",
       "      <th>RequestFailurePoint</th>\n",
       "      <th>RequestFailureType</th>\n",
       "      <th>RequestErrorCode</th>\n",
       "      <th>Triggered GP2GP</th>\n",
       "      <th></th>\n",
       "    </tr>\n",
       "  </thead>\n",
       "  <tbody>\n",
       "    <tr>\n",
       "      <th>60</th>\n",
       "      <th>5</th>\n",
       "      <th>None</th>\n",
       "      <th>0</th>\n",
       "      <td>143</td>\n",
       "    </tr>\n",
       "    <tr>\n",
       "      <th>0</th>\n",
       "      <th>0</th>\n",
       "      <th>None</th>\n",
       "      <th>0</th>\n",
       "      <td>62</td>\n",
       "    </tr>\n",
       "    <tr>\n",
       "      <th>40</th>\n",
       "      <th>4</th>\n",
       "      <th>24</th>\n",
       "      <th>0</th>\n",
       "      <td>13</td>\n",
       "    </tr>\n",
       "    <tr>\n",
       "      <th>60</th>\n",
       "      <th>2</th>\n",
       "      <th>None</th>\n",
       "      <th>0</th>\n",
       "      <td>13</td>\n",
       "    </tr>\n",
       "    <tr>\n",
       "      <th>40</th>\n",
       "      <th>3</th>\n",
       "      <th>24</th>\n",
       "      <th>0</th>\n",
       "      <td>3</td>\n",
       "    </tr>\n",
       "    <tr>\n",
       "      <th>20</th>\n",
       "      <th>0</th>\n",
       "      <th>None</th>\n",
       "      <th>0</th>\n",
       "      <td>2</td>\n",
       "    </tr>\n",
       "  </tbody>\n",
       "</table>\n",
       "</div>"
      ],
      "text/plain": [
       "                                                                         count\n",
       "RequestFailurePoint RequestFailureType RequestErrorCode Triggered GP2GP       \n",
       "60                  5                  None             0                  143\n",
       "0                   0                  None             0                   62\n",
       "40                  4                  24               0                   13\n",
       "60                  2                  None             0                   13\n",
       "40                  3                  24               0                    3\n",
       "20                  0                  None             0                    2"
      ]
     },
     "execution_count": 22,
     "metadata": {},
     "output_type": "execute_result"
    }
   ],
   "source": [
    "did_not_trigger_gp2gp_bool_ccg_2 = transfers_for_practices_within_ccg_2[\"Triggered GP2GP\"]==False\n",
    "practice_registrations_no_gp2gp_ccg_2 = transfers_for_practices_within_ccg_2[did_not_trigger_gp2gp_bool_ccg_2]\n",
    "\n",
    "registrations_that_didnt_trigger_gp2gp_grouped_by_failures_ccg_2 = (\n",
    "    practice_registrations_no_gp2gp_ccg_2\n",
    "        .groupby(by=[\"RequestFailurePoint\", \"RequestFailureType\", \"RequestErrorCode\", \"Triggered GP2GP\"])\n",
    "        .agg({\"UniqueKey\": \"count\"})\n",
    "        .rename(columns={\"UniqueKey\": \"count\"})\n",
    "        .sort_values(by=\"count\", ascending=False)\n",
    "    )\n",
    "registrations_that_didnt_trigger_gp2gp_grouped_by_failures_ccg_2"
   ]
  },
  {
   "cell_type": "code",
   "execution_count": 23,
   "id": "de3c7c74",
   "metadata": {},
   "outputs": [],
   "source": [
    "# Breakdown of all registrations that did not trigger GP2GP by practice and error scenario\n",
    "practice_registrations_with_pre_gp2gp_error_scenarios_ccg_2 = practice_registrations_no_gp2gp_ccg_2.pivot_table(index=[\"RequestorODS\"], \n",
    "        columns=[\"Error scenario\"], \n",
    "        values=\"UniqueKey\", \n",
    "        aggfunc=\"count\").fillna(0).astype(int)"
   ]
  },
  {
   "cell_type": "code",
   "execution_count": 24,
   "id": "dd916bf4",
   "metadata": {},
   "outputs": [],
   "source": [
    "# Create table with total number of registrations, number of registrations that triggered GP2GP and pre-GP2GP error scenario counts by practice\n",
    "practice_registrations_summary_ccg_2 = transfers_for_practices_within_ccg_2.groupby(\"RequestorODS\").agg({\"UniqueKey\":\"count\", \"Triggered GP2GP\": \"sum\"}).rename(columns={\"UniqueKey\": \"Total registrations\"})\n",
    "\n",
    "all_practice_registrations_with_pre_gp2gp_breakdown_ccg_2 = practice_registrations_summary_ccg_2.join(practice_registrations_with_pre_gp2gp_error_scenarios_ccg_2, how=\"left\").fillna(0).astype(int)"
   ]
  },
  {
   "cell_type": "code",
   "execution_count": 26,
   "id": "8835964f",
   "metadata": {},
   "outputs": [],
   "source": [
    "# Add practice names (via ASID lookup) to the table above\n",
    "# asid_lookup = read_asid_metadata(\"prm-gp2gp-ods-metadata-preprod\", \"v3/2022/3/organisationMetadata.json\")[[\"practice_ods_code\", \"practice_name\"]]\n",
    "# asid_lookup = asid_lookup.set_index(\"practice_ods_code\")\n",
    "# already done above\n",
    "\n",
    "practice_registrations_with_pivot_with_practice_names_ccg_2 = all_practice_registrations_with_pre_gp2gp_breakdown_ccg_2.join(asid_lookup, on=\"RequestorODS\", how=\"left\").fillna(\"None\")\n",
    "practice_registrations_with_pivot_with_practice_names_ccg_2 = practice_registrations_with_pivot_with_practice_names_ccg_2.drop_duplicates()\n",
    "practice_registrations_with_pivot_with_practice_names_ccg_2 = practice_registrations_with_pivot_with_practice_names_ccg_2.reset_index().rename(columns={\"practice_name\": \"Requesting practice name\", \"RequestorODS\": \"Requesting practice ODS\"})\n",
    "\n",
    "column_order_ccg_2 = [\"Requesting practice name\", \"Requesting practice ODS\", \"Total registrations\", \"Triggered GP2GP\", \"60_5_None\", \"60_2_None\", \"40_4_24\", \"40_3_24\", \"20_0_None\", \"0_0_None\"]\n",
    "practice_registrations_with_pivot_with_practice_names_ccg_2 = practice_registrations_with_pivot_with_practice_names_ccg_2[column_order_ccg_2].sort_values(by=\"Requesting practice name\", ascending=True)"
   ]
  },
  {
   "cell_type": "code",
   "execution_count": 27,
   "id": "9a8ed294",
   "metadata": {},
   "outputs": [],
   "source": [
    "with pd.ExcelWriter(\"PRMT-2608-Pre-GP2GP-failures-from-MI-data-Feb-2022-CCG-01V.xlsx\") as writer:\n",
    "     practice_registrations_with_pivot_with_practice_names_ccg_2.to_excel(writer, sheet_name=\"Pre-GP2GP errors 01V\",index=False)"
   ]
  },
  {
   "cell_type": "markdown",
   "id": "3b4c1684",
   "metadata": {},
   "source": [
    "---------------------------"
   ]
  },
  {
   "cell_type": "markdown",
   "id": "d1294c5b",
   "metadata": {},
   "source": [
    "**RequestFailurePoint:**\n",
    "- 0 = No failure\n",
    "- 10 = PDS trace\n",
    "- 20 = PDS update\n",
    "\n",
    "- 30 = SDS lookup Practice (not used)\n",
    "- 40 = SDS lookup ASID\n",
    "- 50 = SDS lookup Contract Props\n",
    "- 60 = Send Request\n",
    "- 70 = Manual Request\n",
    "\n",
    "**RequestFailureType:**\n",
    "- 0 = Attempted\n",
    "- 1 = Sent\n",
    "- 2 = Not Sent - Patient at current practice\n",
    "- 3 = Not Sent - Patient known at current practice transferring from non-GP2GP practice\n",
    "- 4 = Not Sent - Patient not known at current practice transferring from a non-GP2GP practice\n",
    "- 5 = Not Sent – Patient has no previous practice registered\n",
    "- 6 = Negative acknowledgement received\n",
    "\n",
    "**RequestErrorCode:**\n",
    "- 3 = Record available but cannot be sent - DEPRECATED\n",
    "- 8 = The system’s configuration prevents it from processing this message - DEPRECATED\n",
    "- 20 = Spine system responded with an error\n",
    "- 24 = SDS lookup provided zero or more than one result to the query for each interaction\n",
    "- 25 = Large messages rejected due to timeout duration reached of overall transfer"
   ]
  }
 ],
 "metadata": {
  "kernelspec": {
   "display_name": "conda_python3",
   "language": "python",
   "name": "conda_python3"
  },
  "language_info": {
   "codemirror_mode": {
    "name": "ipython",
    "version": 3
   },
   "file_extension": ".py",
   "mimetype": "text/x-python",
   "name": "python",
   "nbconvert_exporter": "python",
   "pygments_lexer": "ipython3",
   "version": "3.6.13"
  }
 },
 "nbformat": 4,
 "nbformat_minor": 5
}
