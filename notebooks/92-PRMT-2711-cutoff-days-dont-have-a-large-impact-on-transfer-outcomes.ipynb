{
 "cells": [
  {
   "cell_type": "markdown",
   "id": "ecc6dfb0",
   "metadata": {},
   "source": [
    "# PRMT-2711 - Cutoff days don't have a large impact on transfer outcomes"
   ]
  },
  {
   "cell_type": "markdown",
   "id": "6a3141f6",
   "metadata": {},
   "source": [
    "## Hypothesis\n",
    "We believe cutoff days do not have a large impact on transfer outcomes.\n",
    "\n",
    "## Date Range\n",
    "February 1st-28th 2022\n",
    "\n",
    "## Context\n",
    "We want to setup alerts with closer feedback when errors occur.\n",
    "In order to do that, we want to understand the changes of transfer outcomes between different cutoff days. For example, we currently run our reports on a 7-day cutoff basis, meaning we get the data up to 8 days after the transfer happens. We want to see if having 0 cut off days (no additional days of data from when the transfer started) has a large affect, and if not, we may be able to report transfers a day after they happen.\n",
    "For the analysis, we want a line graph comparing a month’s worth of data for Feb with:\n",
    "\n",
    "* 0 day cutoff\n",
    "* 1 day cutoff\n",
    "* 2 day cutoff\n",
    "* 14 day cutoff\n",
    "\n",
    "And how the different cutoffs affect the outcomes:\n",
    "* Integrated on time\n",
    "* Process failures\n",
    "* Technical failures"
   ]
  },
  {
   "cell_type": "code",
   "execution_count": 2,
   "id": "0e0e3eaf",
   "metadata": {},
   "outputs": [],
   "source": [
    "import pandas as pd\n",
    "\n",
    "def add_leading_zero(num: int) -> str:\n",
    "    return str(num).zfill(2)"
   ]
  },
  {
   "cell_type": "code",
   "execution_count": 3,
   "id": "23890872",
   "metadata": {},
   "outputs": [],
   "source": [
    "data_folder_1_day_cutoff=\"s3://prm-gp2gp-transfer-data-preprod/v11/cutoff-1\"\n",
    "transfer_parquet_files_1_day_cutoff = [f\"{data_folder_1_day_cutoff}/2022/02/{add_leading_zero(day)}/2022-02-{add_leading_zero(day)}-transfers.parquet\" for day in range(1, 29)]\n",
    "transfers_raw_1_day_cutoff = pd.concat([pd.read_parquet(file) for file in transfer_parquet_files_1_day_cutoff])\n",
    "\n",
    "data_folder_0_day_cutoff=\"s3://prm-gp2gp-transfer-data-preprod/v11/cutoff-0\"\n",
    "transfer_parquet_files_0_day_cutoff = [f\"{data_folder_0_day_cutoff}/2022/02/{add_leading_zero(day)}/2022-02-{add_leading_zero(day)}-transfers.parquet\" for day in range(1, 29)]\n",
    "transfers_raw_0_day_cutoff = pd.concat([pd.read_parquet(file) for file in transfer_parquet_files_0_day_cutoff])\n",
    "\n",
    "data_folder_2_day_cutoff=\"s3://prm-gp2gp-transfer-data-preprod/v11/cutoff-2\"\n",
    "transfer_parquet_files_2_day_cutoff = [f\"{data_folder_2_day_cutoff}/2022/02/{add_leading_zero(day)}/2022-02-{add_leading_zero(day)}-transfers.parquet\" for day in range(1, 29)]\n",
    "transfers_raw_2_day_cutoff = pd.concat([pd.read_parquet(file) for file in transfer_parquet_files_2_day_cutoff])"
   ]
  },
  {
   "cell_type": "code",
   "execution_count": 4,
   "id": "650cabfa",
   "metadata": {},
   "outputs": [
    {
     "data": {
      "text/plain": [
       "197088"
      ]
     },
     "execution_count": 4,
     "metadata": {},
     "output_type": "execute_result"
    }
   ],
   "source": [
    "total_transfers = transfers_raw_1_day_cutoff.shape[0]\n",
    "total_transfers"
   ]
  },
  {
   "cell_type": "markdown",
   "id": "2767efff",
   "metadata": {},
   "source": [
    "# Summary\n",
    "### 0 Day cutoff"
   ]
  },
  {
   "cell_type": "code",
   "execution_count": 15,
   "id": "73cb6816",
   "metadata": {},
   "outputs": [
    {
     "data": {
      "text/plain": [
       "status\n",
       "Integrated on time       86334\n",
       "Process failure         103680\n",
       "Technical failure         6501\n",
       "Unclassified failure       573\n",
       "dtype: int64"
      ]
     },
     "execution_count": 15,
     "metadata": {},
     "output_type": "execute_result"
    }
   ],
   "source": [
    "zero_day = transfers_raw_0_day_cutoff.value_counts(\"status\")\n",
    "zero_day.sort_index()"
   ]
  },
  {
   "cell_type": "code",
   "execution_count": 16,
   "id": "5f1a9dec",
   "metadata": {},
   "outputs": [
    {
     "data": {
      "text/plain": [
       "status\n",
       "Integrated on time      43.804798\n",
       "Process failure         52.605943\n",
       "Technical failure        3.298527\n",
       "Unclassified failure     0.290733\n",
       "dtype: float64"
      ]
     },
     "execution_count": 16,
     "metadata": {},
     "output_type": "execute_result"
    }
   ],
   "source": [
    "zero_day_percentage = transfers_raw_0_day_cutoff.value_counts(\"status\").apply(lambda x: (x / total_transfers)) * 100\n",
    "zero_day_percentage.sort_index()"
   ]
  },
  {
   "cell_type": "code",
   "execution_count": 154,
   "id": "703c7a20",
   "metadata": {},
   "outputs": [],
   "source": [
    "transfers_raw_0_day_cutoff['day'] = transfers_raw_0_day_cutoff['date_requested'].dt.to_period('D')\n",
    "grouped_0_day_transfers = transfers_raw_0_day_cutoff.groupby(\"day\").agg({'conversation_id':'count'}).reset_index()\n",
    "#grouped_0_day_transfers"
   ]
  },
  {
   "cell_type": "code",
   "execution_count": 155,
   "id": "5b59aee2",
   "metadata": {},
   "outputs": [],
   "source": [
    "technical_failure_0_day_cutoff_bool = transfers_raw_0_day_cutoff[\"status\"] == \"Technical failure\"\n",
    "technical_failure_0_day_cutoff_bool = transfers_raw_0_day_cutoff[technical_failure_0_day_cutoff_bool]\n",
    "grouped_technical_failure_0_day_cutoff = technical_failure_0_day_cutoff_bool.groupby(\"day\").agg({'conversation_id':'count'}).reset_index()\n",
    "#grouped_technical_failure_0_day_cutoff"
   ]
  },
  {
   "cell_type": "code",
   "execution_count": 162,
   "id": "764f3c40",
   "metadata": {},
   "outputs": [
    {
     "data": {
      "text/plain": [
       "day\n",
       "2022-02-01    3.359556\n",
       "2022-02-02    3.010293\n",
       "2022-02-03    3.143398\n",
       "2022-02-04    3.152425\n",
       "2022-02-05    2.187500\n",
       "2022-02-06    2.453988\n",
       "2022-02-07    3.591295\n",
       "2022-02-08    3.269780\n",
       "2022-02-09    3.125000\n",
       "2022-02-10    3.574788\n",
       "2022-02-11    3.812825\n",
       "2022-02-12    3.416149\n",
       "2022-02-13    5.617978\n",
       "2022-02-14    4.044279\n",
       "2022-02-15    2.933698\n",
       "2022-02-16    2.871336\n",
       "2022-02-17    3.982108\n",
       "2022-02-18    3.410029\n",
       "2022-02-19    3.472222\n",
       "2022-02-20    2.755906\n",
       "2022-02-21    2.988898\n",
       "2022-02-22    3.249759\n",
       "2022-02-23    2.957690\n",
       "2022-02-24    2.987013\n",
       "2022-02-25    3.640580\n",
       "2022-02-26    1.504630\n",
       "2022-02-27    1.702128\n",
       "2022-02-28    3.324129\n",
       "Freq: D, Name: percentage, dtype: float64"
      ]
     },
     "execution_count": 162,
     "metadata": {},
     "output_type": "execute_result"
    }
   ],
   "source": [
    "merged_grouped_0_day_transfers = grouped_0_day_transfers.merge(grouped_technical_failure_0_day_cutoff, left_on=\"day\", right_on=\"day\", how=\"outer\")\n",
    "merged_grouped_0_day_transfers['percentage'] = (merged_grouped_0_day_transfers['conversation_id_y'] / merged_grouped_0_day_transfers['conversation_id_x']) * 100\n",
    "merged_grouped_0_day_transfers.set_index('day')[\"percentage\"]"
   ]
  },
  {
   "cell_type": "code",
   "execution_count": 163,
   "id": "3a5fedc6",
   "metadata": {},
   "outputs": [
    {
     "data": {
      "text/plain": [
       "<AxesSubplot:xlabel='day'>"
      ]
     },
     "execution_count": 163,
     "metadata": {},
     "output_type": "execute_result"
    },
    {
     "data": {
      "image/png": "[encoded data removed]",
      "text/plain": [
       "<Figure size 1800x576 with 1 Axes>"
      ]
     },
     "metadata": {
      "needs_background": "light"
     },
     "output_type": "display_data"
    }
   ],
   "source": [
    "merged_grouped_0_day_transfers.plot(x=\"day\", y=\"percentage\", figsize=(25,8))"
   ]
  },
  {
   "cell_type": "code",
   "execution_count": 158,
   "id": "a93a22ff",
   "metadata": {},
   "outputs": [
    {
     "data": {
      "text/plain": [
       "count    28.000000\n",
       "mean      3.197835\n",
       "std       0.758137\n",
       "min       1.504630\n",
       "25%       2.951692\n",
       "50%       3.201092\n",
       "75%       3.497864\n",
       "max       5.617978\n",
       "Name: percentage, dtype: float64"
      ]
     },
     "execution_count": 158,
     "metadata": {},
     "output_type": "execute_result"
    }
   ],
   "source": [
    "merged_grouped_0_day_transfers[\"percentage\"].describe()"
   ]
  },
  {
   "cell_type": "markdown",
   "id": "3ed82cc3",
   "metadata": {},
   "source": [
    "# 1 Day cutoff"
   ]
  },
  {
   "cell_type": "code",
   "execution_count": 17,
   "id": "9031f4ff",
   "metadata": {},
   "outputs": [
    {
     "data": {
      "text/plain": [
       "status\n",
       "Integrated on time      120182\n",
       "Process failure          69874\n",
       "Technical failure         6302\n",
       "Unclassified failure       730\n",
       "dtype: int64"
      ]
     },
     "execution_count": 17,
     "metadata": {},
     "output_type": "execute_result"
    }
   ],
   "source": [
    "one_day = transfers_raw_1_day_cutoff.value_counts(\"status\")\n",
    "one_day.sort_index()"
   ]
  },
  {
   "cell_type": "code",
   "execution_count": 18,
   "id": "8174ec7c",
   "metadata": {},
   "outputs": [
    {
     "data": {
      "text/plain": [
       "status\n",
       "Integrated on time      60.978852\n",
       "Process failure         35.453199\n",
       "Technical failure        3.197556\n",
       "Unclassified failure     0.370393\n",
       "dtype: float64"
      ]
     },
     "execution_count": 18,
     "metadata": {},
     "output_type": "execute_result"
    }
   ],
   "source": [
    "one_day_percentage = transfers_raw_1_day_cutoff.value_counts(\"status\").apply(lambda x: (x / total_transfers)) * 100\n",
    "one_day_percentage.sort_index()"
   ]
  },
  {
   "cell_type": "markdown",
   "id": "be8c3ca5",
   "metadata": {},
   "source": [
    "### 2 Day cutoff"
   ]
  },
  {
   "cell_type": "code",
   "execution_count": 19,
   "id": "863e7075",
   "metadata": {},
   "outputs": [
    {
     "data": {
      "text/plain": [
       "status\n",
       "Integrated on time      137532\n",
       "Process failure          52664\n",
       "Technical failure         6187\n",
       "Unclassified failure       705\n",
       "dtype: int64"
      ]
     },
     "execution_count": 19,
     "metadata": {},
     "output_type": "execute_result"
    }
   ],
   "source": [
    "two_day = transfers_raw_2_day_cutoff.value_counts(\"status\")\n",
    "two_day.sort_index()"
   ]
  },
  {
   "cell_type": "code",
   "execution_count": 20,
   "id": "14e5131e",
   "metadata": {},
   "outputs": [
    {
     "data": {
      "text/plain": [
       "status\n",
       "Integrated on time      69.782026\n",
       "Process failure         26.721059\n",
       "Technical failure        3.139207\n",
       "Unclassified failure     0.357708\n",
       "dtype: float64"
      ]
     },
     "execution_count": 20,
     "metadata": {},
     "output_type": "execute_result"
    }
   ],
   "source": [
    "two_day_percentage = transfers_raw_2_day_cutoff.value_counts(\"status\").apply(lambda x: (x / total_transfers)) * 100\n",
    "two_day_percentage.sort_index()"
   ]
  },
  {
   "cell_type": "markdown",
   "id": "41846114",
   "metadata": {},
   "source": [
    "## Comparing 1 vs 0 day cutoff  "
   ]
  },
  {
   "cell_type": "code",
   "execution_count": 24,
   "id": "fcf9055f",
   "metadata": {},
   "outputs": [],
   "source": [
    "# Joining the datasets\n",
    "transfers_raw_1_day_cutoff_status = transfers_raw_1_day_cutoff.copy().loc[:, [\"status\", \"conversation_id\"]]\n",
    "transfers_raw_1_day_cutoff_status = transfers_raw_1_day_cutoff_status.rename({\"status\": \"1 day cutoff\"}, axis=1)\n",
    "transfers_raw_0_day_cutoff_status = transfers_raw_0_day_cutoff.copy().loc[:, [\"status\", \"conversation_id\"]]\n",
    "transfers_raw_0_day_cutoff_status = transfers_raw_0_day_cutoff_status.rename({\"status\": \"0 day cutoff\"}, axis=1)\n",
    "new = transfers_raw_1_day_cutoff_status.merge(transfers_raw_0_day_cutoff_status, left_on=\"conversation_id\", right_on=\"conversation_id\", how=\"outer\").fillna(\"Unknown\")"
   ]
  },
  {
   "cell_type": "markdown",
   "id": "7b44bc6d",
   "metadata": {},
   "source": [
    "### View A"
   ]
  },
  {
   "cell_type": "code",
   "execution_count": 25,
   "id": "7e238b65",
   "metadata": {},
   "outputs": [
    {
     "data": {
      "text/html": [
       "<div>\n",
       "<style scoped>\n",
       "    .dataframe tbody tr th:only-of-type {\n",
       "        vertical-align: middle;\n",
       "    }\n",
       "\n",
       "    .dataframe tbody tr th {\n",
       "        vertical-align: top;\n",
       "    }\n",
       "\n",
       "    .dataframe thead th {\n",
       "        text-align: right;\n",
       "    }\n",
       "</style>\n",
       "<table border=\"1\" class=\"dataframe\">\n",
       "  <thead>\n",
       "    <tr style=\"text-align: right;\">\n",
       "      <th></th>\n",
       "      <th></th>\n",
       "      <th>Number of transfers</th>\n",
       "    </tr>\n",
       "    <tr>\n",
       "      <th>1 day cutoff</th>\n",
       "      <th>0 day cutoff</th>\n",
       "      <th></th>\n",
       "    </tr>\n",
       "  </thead>\n",
       "  <tbody>\n",
       "    <tr>\n",
       "      <th rowspan=\"4\" valign=\"top\">Integrated on time</th>\n",
       "      <th>Integrated on time</th>\n",
       "      <td>86334</td>\n",
       "    </tr>\n",
       "    <tr>\n",
       "      <th>Process failure</th>\n",
       "      <td>33545</td>\n",
       "    </tr>\n",
       "    <tr>\n",
       "      <th>Technical failure</th>\n",
       "      <td>169</td>\n",
       "    </tr>\n",
       "    <tr>\n",
       "      <th>Unclassified failure</th>\n",
       "      <td>134</td>\n",
       "    </tr>\n",
       "    <tr>\n",
       "      <th rowspan=\"2\" valign=\"top\">Process failure</th>\n",
       "      <th>Process failure</th>\n",
       "      <td>69800</td>\n",
       "    </tr>\n",
       "    <tr>\n",
       "      <th>Technical failure</th>\n",
       "      <td>74</td>\n",
       "    </tr>\n",
       "    <tr>\n",
       "      <th rowspan=\"3\" valign=\"top\">Technical failure</th>\n",
       "      <th>Process failure</th>\n",
       "      <td>57</td>\n",
       "    </tr>\n",
       "    <tr>\n",
       "      <th>Technical failure</th>\n",
       "      <td>6236</td>\n",
       "    </tr>\n",
       "    <tr>\n",
       "      <th>Unclassified failure</th>\n",
       "      <td>9</td>\n",
       "    </tr>\n",
       "    <tr>\n",
       "      <th rowspan=\"3\" valign=\"top\">Unclassified failure</th>\n",
       "      <th>Process failure</th>\n",
       "      <td>278</td>\n",
       "    </tr>\n",
       "    <tr>\n",
       "      <th>Technical failure</th>\n",
       "      <td>22</td>\n",
       "    </tr>\n",
       "    <tr>\n",
       "      <th>Unclassified failure</th>\n",
       "      <td>430</td>\n",
       "    </tr>\n",
       "  </tbody>\n",
       "</table>\n",
       "</div>"
      ],
      "text/plain": [
       "                                           Number of transfers\n",
       "1 day cutoff         0 day cutoff                             \n",
       "Integrated on time   Integrated on time                  86334\n",
       "                     Process failure                     33545\n",
       "                     Technical failure                     169\n",
       "                     Unclassified failure                  134\n",
       "Process failure      Process failure                     69800\n",
       "                     Technical failure                      74\n",
       "Technical failure    Process failure                        57\n",
       "                     Technical failure                    6236\n",
       "                     Unclassified failure                    9\n",
       "Unclassified failure Process failure                       278\n",
       "                     Technical failure                      22\n",
       "                     Unclassified failure                  430"
      ]
     },
     "execution_count": 25,
     "metadata": {},
     "output_type": "execute_result"
    }
   ],
   "source": [
    "new.groupby(by=[\"1 day cutoff\", \"0 day cutoff\"]).agg(\"count\").fillna(0).astype(int).rename({\"conversation_id\": \"Number of transfers\"}, axis=1)"
   ]
  },
  {
   "cell_type": "markdown",
   "id": "ddcecac5",
   "metadata": {},
   "source": [
    "### View B"
   ]
  },
  {
   "cell_type": "code",
   "execution_count": 16,
   "id": "78f15c24",
   "metadata": {},
   "outputs": [],
   "source": [
    "merged = transfers_raw_1_day_cutoff.merge(transfers_raw_0_day_cutoff, left_on=\"conversation_id\", right_on=\"conversation_id\", how=\"outer\").fillna(\"Unknown\").rename({\"status_x\": \"1 day cutoff\"}, axis=1).rename({\"status_y\": \"0 day cutoff\"}, axis=1)"
   ]
  },
  {
   "cell_type": "code",
   "execution_count": 17,
   "id": "36b77a72",
   "metadata": {},
   "outputs": [
    {
     "data": {
      "text/plain": [
       "1 day cutoff          0 day cutoff        \n",
       "Integrated on time    Integrated on time      43.804798\n",
       "Process failure       Process failure         35.415652\n",
       "Integrated on time    Process failure         17.020316\n",
       "Technical failure     Technical failure        3.164069\n",
       "Unclassified failure  Unclassified failure     0.218177\n",
       "                      Process failure          0.141054\n",
       "Integrated on time    Technical failure        0.085748\n",
       "                      Unclassified failure     0.067990\n",
       "Process failure       Technical failure        0.037547\n",
       "Technical failure     Process failure          0.028921\n",
       "Unclassified failure  Technical failure        0.011163\n",
       "Technical failure     Unclassified failure     0.004566\n",
       "dtype: float64"
      ]
     },
     "execution_count": 17,
     "metadata": {},
     "output_type": "execute_result"
    }
   ],
   "source": [
    "differences = merged.value_counts([\"1 day cutoff\", \"0 day cutoff\"])\n",
    "differences.apply(lambda x: (x / total_transfers)) * 100\n"
   ]
  },
  {
   "cell_type": "markdown",
   "id": "1d557492",
   "metadata": {},
   "source": [
    "### New failures and their reasons"
   ]
  },
  {
   "cell_type": "code",
   "execution_count": 18,
   "id": "167bf1ff",
   "metadata": {},
   "outputs": [
    {
     "data": {
      "text/plain": [
       "failure_reason_y\n",
       "COPC(s) not acknowledged       93\n",
       "Final error                    36\n",
       "Core extract not sent          18\n",
       "Request not acknowledged       16\n",
       "Contains fatal sender error     5\n",
       "COPC(s) not sent                1\n",
       "dtype: int64"
      ]
     },
     "execution_count": 18,
     "metadata": {},
     "output_type": "execute_result"
    }
   ],
   "source": [
    "integrated_to_technical_failure = (merged[\"1 day cutoff\"] == \"Integrated on time\") & (merged[\"0 day cutoff\"] == \"Technical failure\") & (merged[\"failure_reason_y\"] != \"Unknown\")\n",
    "integrated_to_technical_failure = merged[integrated_to_technical_failure]\n",
    "integrated_to_technical_failure.value_counts(\"failure_reason_y\")"
   ]
  },
  {
   "cell_type": "code",
   "execution_count": null,
   "id": "03cebac9",
   "metadata": {},
   "outputs": [],
   "source": []
  }
 ],
 "metadata": {
  "kernelspec": {
   "display_name": "conda_python3",
   "language": "python",
   "name": "conda_python3"
  },
  "language_info": {
   "codemirror_mode": {
    "name": "ipython",
    "version": 3
   },
   "file_extension": ".py",
   "mimetype": "text/x-python",
   "name": "python",
   "nbconvert_exporter": "python",
   "pygments_lexer": "ipython3",
   "version": "3.6.13"
  }
 },
 "nbformat": 4,
 "nbformat_minor": 5
}
